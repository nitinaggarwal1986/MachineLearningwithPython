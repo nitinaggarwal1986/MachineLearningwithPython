{
 "cells": [
  {
   "cell_type": "code",
   "execution_count": 1,
   "metadata": {
    "collapsed": true
   },
   "outputs": [],
   "source": [
    "import graphlab"
   ]
  },
  {
   "cell_type": "markdown",
   "metadata": {},
   "source": [
    "#Read some product review data"
   ]
  },
  {
   "cell_type": "code",
   "execution_count": 4,
   "metadata": {
    "collapsed": false
   },
   "outputs": [],
   "source": [
    "products = graphlab.SFrame('amazon_baby.gl/')"
   ]
  },
  {
   "cell_type": "markdown",
   "metadata": {},
   "source": [
    "#Let's explore this data together"
   ]
  },
  {
   "cell_type": "code",
   "execution_count": 5,
   "metadata": {
    "collapsed": false
   },
   "outputs": [
    {
     "data": {
      "text/html": [
       "<div style=\"max-height:1000px;max-width:1500px;overflow:auto;\"><table frame=\"box\" rules=\"cols\">\n",
       "    <tr>\n",
       "        <th style=\"padding-left: 1em; padding-right: 1em; text-align: center\">name</th>\n",
       "        <th style=\"padding-left: 1em; padding-right: 1em; text-align: center\">review</th>\n",
       "        <th style=\"padding-left: 1em; padding-right: 1em; text-align: center\">rating</th>\n",
       "    </tr>\n",
       "    <tr>\n",
       "        <td style=\"padding-left: 1em; padding-right: 1em; text-align: center; vertical-align: top\">Planetwise Flannel Wipes</td>\n",
       "        <td style=\"padding-left: 1em; padding-right: 1em; text-align: center; vertical-align: top\">These flannel wipes are<br>OK, but in my opinion ...</td>\n",
       "        <td style=\"padding-left: 1em; padding-right: 1em; text-align: center; vertical-align: top\">3.0</td>\n",
       "    </tr>\n",
       "    <tr>\n",
       "        <td style=\"padding-left: 1em; padding-right: 1em; text-align: center; vertical-align: top\">Planetwise Wipe Pouch</td>\n",
       "        <td style=\"padding-left: 1em; padding-right: 1em; text-align: center; vertical-align: top\">it came early and was not<br>disappointed. i love ...</td>\n",
       "        <td style=\"padding-left: 1em; padding-right: 1em; text-align: center; vertical-align: top\">5.0</td>\n",
       "    </tr>\n",
       "    <tr>\n",
       "        <td style=\"padding-left: 1em; padding-right: 1em; text-align: center; vertical-align: top\">Annas Dream Full Quilt<br>with 2 Shams ...</td>\n",
       "        <td style=\"padding-left: 1em; padding-right: 1em; text-align: center; vertical-align: top\">Very soft and comfortable<br>and warmer than it ...</td>\n",
       "        <td style=\"padding-left: 1em; padding-right: 1em; text-align: center; vertical-align: top\">5.0</td>\n",
       "    </tr>\n",
       "    <tr>\n",
       "        <td style=\"padding-left: 1em; padding-right: 1em; text-align: center; vertical-align: top\">Stop Pacifier Sucking<br>without tears with ...</td>\n",
       "        <td style=\"padding-left: 1em; padding-right: 1em; text-align: center; vertical-align: top\">This is a product well<br>worth the purchase.  I ...</td>\n",
       "        <td style=\"padding-left: 1em; padding-right: 1em; text-align: center; vertical-align: top\">5.0</td>\n",
       "    </tr>\n",
       "    <tr>\n",
       "        <td style=\"padding-left: 1em; padding-right: 1em; text-align: center; vertical-align: top\">Stop Pacifier Sucking<br>without tears with ...</td>\n",
       "        <td style=\"padding-left: 1em; padding-right: 1em; text-align: center; vertical-align: top\">All of my kids have cried<br>non-stop when I tried to ...</td>\n",
       "        <td style=\"padding-left: 1em; padding-right: 1em; text-align: center; vertical-align: top\">5.0</td>\n",
       "    </tr>\n",
       "    <tr>\n",
       "        <td style=\"padding-left: 1em; padding-right: 1em; text-align: center; vertical-align: top\">Stop Pacifier Sucking<br>without tears with ...</td>\n",
       "        <td style=\"padding-left: 1em; padding-right: 1em; text-align: center; vertical-align: top\">When the Binky Fairy came<br>to our house, we didn't ...</td>\n",
       "        <td style=\"padding-left: 1em; padding-right: 1em; text-align: center; vertical-align: top\">5.0</td>\n",
       "    </tr>\n",
       "    <tr>\n",
       "        <td style=\"padding-left: 1em; padding-right: 1em; text-align: center; vertical-align: top\">A Tale of Baby's Days<br>with Peter Rabbit ...</td>\n",
       "        <td style=\"padding-left: 1em; padding-right: 1em; text-align: center; vertical-align: top\">Lovely book, it's bound<br>tightly so you may no ...</td>\n",
       "        <td style=\"padding-left: 1em; padding-right: 1em; text-align: center; vertical-align: top\">4.0</td>\n",
       "    </tr>\n",
       "    <tr>\n",
       "        <td style=\"padding-left: 1em; padding-right: 1em; text-align: center; vertical-align: top\">Baby Tracker&amp;reg; - Daily<br>Childcare Journal, ...</td>\n",
       "        <td style=\"padding-left: 1em; padding-right: 1em; text-align: center; vertical-align: top\">Perfect for new parents.<br>We were able to keep ...</td>\n",
       "        <td style=\"padding-left: 1em; padding-right: 1em; text-align: center; vertical-align: top\">5.0</td>\n",
       "    </tr>\n",
       "    <tr>\n",
       "        <td style=\"padding-left: 1em; padding-right: 1em; text-align: center; vertical-align: top\">Baby Tracker&amp;reg; - Daily<br>Childcare Journal, ...</td>\n",
       "        <td style=\"padding-left: 1em; padding-right: 1em; text-align: center; vertical-align: top\">A friend of mine pinned<br>this product on Pinte ...</td>\n",
       "        <td style=\"padding-left: 1em; padding-right: 1em; text-align: center; vertical-align: top\">5.0</td>\n",
       "    </tr>\n",
       "    <tr>\n",
       "        <td style=\"padding-left: 1em; padding-right: 1em; text-align: center; vertical-align: top\">Baby Tracker&amp;reg; - Daily<br>Childcare Journal, ...</td>\n",
       "        <td style=\"padding-left: 1em; padding-right: 1em; text-align: center; vertical-align: top\">This has been an easy way<br>for my nanny to record ...</td>\n",
       "        <td style=\"padding-left: 1em; padding-right: 1em; text-align: center; vertical-align: top\">4.0</td>\n",
       "    </tr>\n",
       "</table>\n",
       "[10 rows x 3 columns]<br/>\n",
       "</div>"
      ],
      "text/plain": [
       "Columns:\n",
       "\tname\tstr\n",
       "\treview\tstr\n",
       "\trating\tfloat\n",
       "\n",
       "Rows: 10\n",
       "\n",
       "Data:\n",
       "+-------------------------------+-------------------------------+--------+\n",
       "|              name             |             review            | rating |\n",
       "+-------------------------------+-------------------------------+--------+\n",
       "|    Planetwise Flannel Wipes   | These flannel wipes are OK... |  3.0   |\n",
       "|     Planetwise Wipe Pouch     | it came early and was not ... |  5.0   |\n",
       "| Annas Dream Full Quilt wit... | Very soft and comfortable ... |  5.0   |\n",
       "| Stop Pacifier Sucking with... | This is a product well wor... |  5.0   |\n",
       "| Stop Pacifier Sucking with... | All of my kids have cried ... |  5.0   |\n",
       "| Stop Pacifier Sucking with... | When the Binky Fairy came ... |  5.0   |\n",
       "| A Tale of Baby's Days with... | Lovely book, it's bound ti... |  4.0   |\n",
       "| Baby Tracker&reg; - Daily ... | Perfect for new parents. W... |  5.0   |\n",
       "| Baby Tracker&reg; - Daily ... | A friend of mine pinned th... |  5.0   |\n",
       "| Baby Tracker&reg; - Daily ... | This has been an easy way ... |  4.0   |\n",
       "+-------------------------------+-------------------------------+--------+\n",
       "[10 rows x 3 columns]"
      ]
     },
     "execution_count": 5,
     "metadata": {},
     "output_type": "execute_result"
    }
   ],
   "source": [
    "products.head()"
   ]
  },
  {
   "cell_type": "markdown",
   "metadata": {},
   "source": [
    "#Build the word count vector for each review"
   ]
  },
  {
   "cell_type": "code",
   "execution_count": 7,
   "metadata": {
    "collapsed": false
   },
   "outputs": [],
   "source": [
    "products['word_count'] = graphlab.text_analytics.count_words(products['review'])"
   ]
  },
  {
   "cell_type": "code",
   "execution_count": 8,
   "metadata": {
    "collapsed": false
   },
   "outputs": [
    {
     "data": {
      "text/html": [
       "<div style=\"max-height:1000px;max-width:1500px;overflow:auto;\"><table frame=\"box\" rules=\"cols\">\n",
       "    <tr>\n",
       "        <th style=\"padding-left: 1em; padding-right: 1em; text-align: center\">name</th>\n",
       "        <th style=\"padding-left: 1em; padding-right: 1em; text-align: center\">review</th>\n",
       "        <th style=\"padding-left: 1em; padding-right: 1em; text-align: center\">rating</th>\n",
       "        <th style=\"padding-left: 1em; padding-right: 1em; text-align: center\">word_count</th>\n",
       "    </tr>\n",
       "    <tr>\n",
       "        <td style=\"padding-left: 1em; padding-right: 1em; text-align: center; vertical-align: top\">Planetwise Flannel Wipes</td>\n",
       "        <td style=\"padding-left: 1em; padding-right: 1em; text-align: center; vertical-align: top\">These flannel wipes are<br>OK, but in my opinion ...</td>\n",
       "        <td style=\"padding-left: 1em; padding-right: 1em; text-align: center; vertical-align: top\">3.0</td>\n",
       "        <td style=\"padding-left: 1em; padding-right: 1em; text-align: center; vertical-align: top\">{'and': 5L, 'stink': 1L,<br>'because': 1L, 'order ...</td>\n",
       "    </tr>\n",
       "    <tr>\n",
       "        <td style=\"padding-left: 1em; padding-right: 1em; text-align: center; vertical-align: top\">Planetwise Wipe Pouch</td>\n",
       "        <td style=\"padding-left: 1em; padding-right: 1em; text-align: center; vertical-align: top\">it came early and was not<br>disappointed. i love ...</td>\n",
       "        <td style=\"padding-left: 1em; padding-right: 1em; text-align: center; vertical-align: top\">5.0</td>\n",
       "        <td style=\"padding-left: 1em; padding-right: 1em; text-align: center; vertical-align: top\">{'and': 3L, 'love': 1L,<br>'it': 2L, 'highly': 1L, ...</td>\n",
       "    </tr>\n",
       "    <tr>\n",
       "        <td style=\"padding-left: 1em; padding-right: 1em; text-align: center; vertical-align: top\">Annas Dream Full Quilt<br>with 2 Shams ...</td>\n",
       "        <td style=\"padding-left: 1em; padding-right: 1em; text-align: center; vertical-align: top\">Very soft and comfortable<br>and warmer than it ...</td>\n",
       "        <td style=\"padding-left: 1em; padding-right: 1em; text-align: center; vertical-align: top\">5.0</td>\n",
       "        <td style=\"padding-left: 1em; padding-right: 1em; text-align: center; vertical-align: top\">{'and': 2L, 'quilt': 1L,<br>'it': 1L, 'comfortable': ...</td>\n",
       "    </tr>\n",
       "    <tr>\n",
       "        <td style=\"padding-left: 1em; padding-right: 1em; text-align: center; vertical-align: top\">Stop Pacifier Sucking<br>without tears with ...</td>\n",
       "        <td style=\"padding-left: 1em; padding-right: 1em; text-align: center; vertical-align: top\">This is a product well<br>worth the purchase.  I ...</td>\n",
       "        <td style=\"padding-left: 1em; padding-right: 1em; text-align: center; vertical-align: top\">5.0</td>\n",
       "        <td style=\"padding-left: 1em; padding-right: 1em; text-align: center; vertical-align: top\">{'ingenious': 1L, 'and':<br>3L, 'love': 2L, ...</td>\n",
       "    </tr>\n",
       "    <tr>\n",
       "        <td style=\"padding-left: 1em; padding-right: 1em; text-align: center; vertical-align: top\">Stop Pacifier Sucking<br>without tears with ...</td>\n",
       "        <td style=\"padding-left: 1em; padding-right: 1em; text-align: center; vertical-align: top\">All of my kids have cried<br>non-stop when I tried to ...</td>\n",
       "        <td style=\"padding-left: 1em; padding-right: 1em; text-align: center; vertical-align: top\">5.0</td>\n",
       "        <td style=\"padding-left: 1em; padding-right: 1em; text-align: center; vertical-align: top\">{'and': 2L, 'parents!!':<br>1L, 'all': 2L, 'puppe ...</td>\n",
       "    </tr>\n",
       "    <tr>\n",
       "        <td style=\"padding-left: 1em; padding-right: 1em; text-align: center; vertical-align: top\">Stop Pacifier Sucking<br>without tears with ...</td>\n",
       "        <td style=\"padding-left: 1em; padding-right: 1em; text-align: center; vertical-align: top\">When the Binky Fairy came<br>to our house, we didn't ...</td>\n",
       "        <td style=\"padding-left: 1em; padding-right: 1em; text-align: center; vertical-align: top\">5.0</td>\n",
       "        <td style=\"padding-left: 1em; padding-right: 1em; text-align: center; vertical-align: top\">{'and': 2L, 'cute': 1L,<br>'help': 2L, 'doll': 1L, ...</td>\n",
       "    </tr>\n",
       "    <tr>\n",
       "        <td style=\"padding-left: 1em; padding-right: 1em; text-align: center; vertical-align: top\">A Tale of Baby's Days<br>with Peter Rabbit ...</td>\n",
       "        <td style=\"padding-left: 1em; padding-right: 1em; text-align: center; vertical-align: top\">Lovely book, it's bound<br>tightly so you may no ...</td>\n",
       "        <td style=\"padding-left: 1em; padding-right: 1em; text-align: center; vertical-align: top\">4.0</td>\n",
       "        <td style=\"padding-left: 1em; padding-right: 1em; text-align: center; vertical-align: top\">{'shop': 1L, 'be': 1L,<br>'is': 1L, 'it': 1L, ' ...</td>\n",
       "    </tr>\n",
       "    <tr>\n",
       "        <td style=\"padding-left: 1em; padding-right: 1em; text-align: center; vertical-align: top\">Baby Tracker&amp;reg; - Daily<br>Childcare Journal, ...</td>\n",
       "        <td style=\"padding-left: 1em; padding-right: 1em; text-align: center; vertical-align: top\">Perfect for new parents.<br>We were able to keep ...</td>\n",
       "        <td style=\"padding-left: 1em; padding-right: 1em; text-align: center; vertical-align: top\">5.0</td>\n",
       "        <td style=\"padding-left: 1em; padding-right: 1em; text-align: center; vertical-align: top\">{'feeding,': 1L, 'and':<br>2L, 'all': 1L, 'right': ...</td>\n",
       "    </tr>\n",
       "    <tr>\n",
       "        <td style=\"padding-left: 1em; padding-right: 1em; text-align: center; vertical-align: top\">Baby Tracker&amp;reg; - Daily<br>Childcare Journal, ...</td>\n",
       "        <td style=\"padding-left: 1em; padding-right: 1em; text-align: center; vertical-align: top\">A friend of mine pinned<br>this product on Pinte ...</td>\n",
       "        <td style=\"padding-left: 1em; padding-right: 1em; text-align: center; vertical-align: top\">5.0</td>\n",
       "        <td style=\"padding-left: 1em; padding-right: 1em; text-align: center; vertical-align: top\">{'and': 1L, 'help': 1L,<br>'give': 1L, 'is': 1L, ...</td>\n",
       "    </tr>\n",
       "    <tr>\n",
       "        <td style=\"padding-left: 1em; padding-right: 1em; text-align: center; vertical-align: top\">Baby Tracker&amp;reg; - Daily<br>Childcare Journal, ...</td>\n",
       "        <td style=\"padding-left: 1em; padding-right: 1em; text-align: center; vertical-align: top\">This has been an easy way<br>for my nanny to record ...</td>\n",
       "        <td style=\"padding-left: 1em; padding-right: 1em; text-align: center; vertical-align: top\">4.0</td>\n",
       "        <td style=\"padding-left: 1em; padding-right: 1em; text-align: center; vertical-align: top\">{'journal.': 1L, 'all':<br>1L, 'standarad': 1L, ...</td>\n",
       "    </tr>\n",
       "</table>\n",
       "[10 rows x 4 columns]<br/>\n",
       "</div>"
      ],
      "text/plain": [
       "Columns:\n",
       "\tname\tstr\n",
       "\treview\tstr\n",
       "\trating\tfloat\n",
       "\tword_count\tdict\n",
       "\n",
       "Rows: 10\n",
       "\n",
       "Data:\n",
       "+-------------------------------+-------------------------------+--------+\n",
       "|              name             |             review            | rating |\n",
       "+-------------------------------+-------------------------------+--------+\n",
       "|    Planetwise Flannel Wipes   | These flannel wipes are OK... |  3.0   |\n",
       "|     Planetwise Wipe Pouch     | it came early and was not ... |  5.0   |\n",
       "| Annas Dream Full Quilt wit... | Very soft and comfortable ... |  5.0   |\n",
       "| Stop Pacifier Sucking with... | This is a product well wor... |  5.0   |\n",
       "| Stop Pacifier Sucking with... | All of my kids have cried ... |  5.0   |\n",
       "| Stop Pacifier Sucking with... | When the Binky Fairy came ... |  5.0   |\n",
       "| A Tale of Baby's Days with... | Lovely book, it's bound ti... |  4.0   |\n",
       "| Baby Tracker&reg; - Daily ... | Perfect for new parents. W... |  5.0   |\n",
       "| Baby Tracker&reg; - Daily ... | A friend of mine pinned th... |  5.0   |\n",
       "| Baby Tracker&reg; - Daily ... | This has been an easy way ... |  4.0   |\n",
       "+-------------------------------+-------------------------------+--------+\n",
       "+-------------------------------+\n",
       "|           word_count          |\n",
       "+-------------------------------+\n",
       "| {'and': 5L, 'stink': 1L, '... |\n",
       "| {'and': 3L, 'love': 1L, 'i... |\n",
       "| {'and': 2L, 'quilt': 1L, '... |\n",
       "| {'ingenious': 1L, 'and': 3... |\n",
       "| {'and': 2L, 'parents!!': 1... |\n",
       "| {'and': 2L, 'cute': 1L, 'h... |\n",
       "| {'shop': 1L, 'be': 1L, 'is... |\n",
       "| {'feeding,': 1L, 'and': 2L... |\n",
       "| {'and': 1L, 'help': 1L, 'g... |\n",
       "| {'journal.': 1L, 'all': 1L... |\n",
       "+-------------------------------+\n",
       "[10 rows x 4 columns]"
      ]
     },
     "execution_count": 8,
     "metadata": {},
     "output_type": "execute_result"
    }
   ],
   "source": [
    "products.head()"
   ]
  },
  {
   "cell_type": "code",
   "execution_count": 9,
   "metadata": {
    "collapsed": true
   },
   "outputs": [],
   "source": [
    "graphlab.canvas.set_target('ipynb')"
   ]
  },
  {
   "cell_type": "code",
   "execution_count": 10,
   "metadata": {
    "collapsed": false
   },
   "outputs": [
    {
     "data": {
      "application/javascript": [
       "$(\"head\").append($(\"<link/>\").attr({\n",
       "  rel:  \"stylesheet\",\n",
       "  type: \"text/css\",\n",
       "  href: \"//cdnjs.cloudflare.com/ajax/libs/font-awesome/4.1.0/css/font-awesome.min.css\"\n",
       "}));\n",
       "$(\"head\").append($(\"<link/>\").attr({\n",
       "  rel:  \"stylesheet\",\n",
       "  type: \"text/css\",\n",
       "  href: \"//dato.com/files/canvas/1.6.1/css/canvas.css\"\n",
       "}));\n",
       "\n",
       "            (function(){\n",
       "\n",
       "                var e = null;\n",
       "                if (typeof element == 'undefined') {\n",
       "                    var scripts = document.getElementsByTagName('script');\n",
       "                    var thisScriptTag = scripts[scripts.length-1];\n",
       "                    var parentDiv = thisScriptTag.parentNode;\n",
       "                    e = document.createElement('div');\n",
       "                    parentDiv.appendChild(e);\n",
       "                } else {\n",
       "                    e = element[0];\n",
       "                }\n",
       "\n",
       "                if (typeof requirejs !== 'undefined') {\n",
       "                    // disable load timeout; ipython_app.js is large and can take a while to load.\n",
       "                    requirejs.config({waitSeconds: 0});\n",
       "                }\n",
       "\n",
       "                require(['//dato.com/files/canvas/1.6.1/js/ipython_app.js'], function(IPythonApp){\n",
       "                    var app = new IPythonApp();\n",
       "                    app.attachView('sarray','Categorical', {\"ipython\": true, \"sketch\": {\"complete\": true, \"numeric\": false, \"num_unique\": 32395, \"num_undefined\": 284, \"progress\": 1.0, \"frequent_items\": {\"\": {\"frequency\": 35, \"value\": \"\"}, \"Safety 1st Adapter and Plug Cover\": {\"frequency\": 18, \"value\": \"Safety 1st Adapter ...\"}, \"Sassy Baby Disposable Diaper Sacks, 200-Count\": {\"frequency\": 98, \"value\": \"Sassy Baby ...\"}, \"Safety 1st High-Def Digital Monitor\": {\"frequency\": 39, \"value\": \"Safety 1st High- ...\"}, \"Toysmith Busy Zoo Activity Center\": {\"frequency\": 18, \"value\": \"Toysmith Busy Zoo ...\"}, \"CherryCreek Decals Cherry Blossom &amp; Birds Decorative Nursery/Room Wall Sticker Decals\": {\"frequency\": 32, \"value\": \"CherryCreek Decals ...\"}, \"Summer Infant Metal Expansion Gate, 6 Foot Wide Extra Tall Walk-Thru, Bronze\": {\"frequency\": 78, \"value\": \"Summer Infant ...\"}, \"aden + anais Classic Muslin Swaddle Blanket, Dino-Roar\": {\"frequency\": 19, \"value\": \"aden + anais ...\"}, \"Philips Avent DECT Baby Monitor with Temperature Sensor\": {\"frequency\": 28, \"value\": \"Philips Avent DECT ...\"}, \"Leachco Easy Teether XL Convertible Crib Rail Cover, Ivory\": {\"frequency\": 20, \"value\": \"Leachco Easy ...\"}, \"OXO Tot Feeding Spoon Set, Green\": {\"frequency\": 53, \"value\": \"OXO Tot Feeding ...\"}, \"Ikea PATRULL Non-Slip Bath Mat - Green Crocodile\": {\"frequency\": 28, \"value\": \"Ikea PATRULL Non- ...\"}, \"Medela Breastmilk Freezing &amp; Storage (*BPA Free) - 80ml Bottles in Retail Packaging #87061 (Pack of 12 Bottles)\": {\"frequency\": 32, \"value\": \"Medela Breastmilk ...\"}, \"Vital Baby Press 'n' Pop Mini Freezer Pots, Orange, 1 Ounce, 8 Pack\": {\"frequency\": 29, \"value\": \"Vital Baby Press ...\"}, \"Levana ClearVu Digital Video Baby Monitor with Color Changing Night Light (LV-TW301)\": {\"frequency\": 34, \"value\": \"Levana ClearVu ...\"}, \"The First Years Babypro Quick Serve Bottle Warmer, Colors May Vary\": {\"frequency\": 137, \"value\": \"The First Years ...\"}, \"Graco Nasal Clear Nasal Aspirator\": {\"frequency\": 89, \"value\": \"Graco Nasal Clear ...\"}, \"Sunshine Kids Cool Shade For Car Window, Black\": {\"frequency\": 22, \"value\": \"Sunshine Kids Cool ...\"}, \"BABYBJORN Baby Carrier Original, Blue Retro\": {\"frequency\": 25, \"value\": \"BABYBJORN Baby ...\"}, \"Bright Starts Rattle and Shake Barbell Rattle, Pretty in Pink\": {\"frequency\": 50, \"value\": \"Bright Starts ...\"}, \"Skip Hop Hug and Hide Activity Toy, Owl\": {\"frequency\": 47, \"value\": \"Skip Hop Hug and ...\"}, \"Safety 1st Oven Front Lock\": {\"frequency\": 72, \"value\": \"Safety 1st Oven ...\"}, \"Graco Secure Coverage Digital Baby Monitor with 1 Parent Unit\": {\"frequency\": 30, \"value\": \"Graco Secure ...\"}, \"Tilty Sippy Cup, Clear, 7 Ounce, 2 Pack\": {\"frequency\": 29, \"value\": \"Tilty Sippy Cup, ...\"}, \"NUK Hello Kitty Silicone Spout Active Cup, 10 Ounce\": {\"frequency\": 28, \"value\": \"NUK Hello Kitty ...\"}, \"25/pk - Enfamil Standard Flow Soft Disposable Nipples\": {\"frequency\": 21, \"value\": \"25/pk - Enfamil ...\"}, \"Ergobaby Swaddler Blanket Pink/Natural Small/Medium\": {\"frequency\": 21, \"value\": \"Ergobaby Swaddler ...\"}, \"Hudson Baby 2 Count Muslin Swaddle Blanket, Blue\": {\"frequency\": 28, \"value\": \"Hudson Baby 2 ...\"}, \"HABA Kringelring Rattle Clutching Toy\": {\"frequency\": 19, \"value\": \"HABA Kringelring ...\"}, \"Dr. Brown's 2 Pack Natural Flow Level 2 Standard Nipple\": {\"frequency\": 29, \"value\": \"Dr. Brown's 2 Pack ...\"}, \"Fisher-Price: Kick &amp; Play Bouncer\": {\"frequency\": 29, \"value\": \"Fisher-Price: Kick ...\"}, \"Honeysuckle Breast Milk Storage Bags, 75 Ct (3 Boxes of 25 pcs)\": {\"frequency\": 80, \"value\": \"Honeysuckle Breast ...\"}, \"WubbaNub Tabby Kitten\": {\"frequency\": 41, \"value\": \"WubbaNub Tabby ...\"}, \"Totseat - Stripe in Blue\": {\"frequency\": 32, \"value\": \"Totseat - Stripe ...\"}, \"Luvable Friends Flannel Receiving Blankets, Pink, 5 Pack\": {\"frequency\": 29, \"value\": \"Luvable Friends ...\"}, \"HALO SleepSack Applique Micro-Fleece Wearable Blanket, Blue, Medium\": {\"frequency\": 30, \"value\": \"HALO SleepSack ...\"}, \"Vulli 2 Pack Vanilla Flavored Ring Teethe, Colors May Vary\": {\"frequency\": 45, \"value\": \"Vulli 2 Pack ...\"}, \"BABYBJORN Baby Carrier Original, Black, Cotton\": {\"frequency\": 179, \"value\": \"BABYBJORN Baby ...\"}, \"Prince Lionheart Balance Bike\": {\"frequency\": 19, \"value\": \"Prince Lionheart ...\"}, \"Playtex Drop-Ins System Breast Milk Storage Kit\": {\"frequency\": 24, \"value\": \"Playtex Drop-Ins ...\"}, \"Graco Lauren Classic Crib, Espresso\": {\"frequency\": 54, \"value\": \"Graco Lauren ...\"}, \"Evenflo Big Kid DLX Booster Seat - Foxwood\": {\"frequency\": 20, \"value\": \"Evenflo Big Kid ...\"}, \"OsoCozy - Indian Cotton - Prefold Cloth Diapers Infant 4x8x4\": {\"frequency\": 37, \"value\": \"OsoCozy - Indian ...\"}, \"Sliding Closet Door Lock 2-Pack\": {\"frequency\": 39, \"value\": \"Sliding Closet ...\"}, \"Britax B-Agile Stroller Travel Bag\": {\"frequency\": 25, \"value\": \"Britax B-Agile ...\"}, \"Sunshine Kids Stroller Accessory Buggy Buddy\": {\"frequency\": 152, \"value\": \"Sunshine Kids ...\"}, \"Prince Lionheart bebePOD Flex Plus Baby Seat, Green/Kiwi\": {\"frequency\": 36, \"value\": \"Prince Lionheart ...\"}, \"Sleep Buddy ~ Sleep Training System for Toddlers &amp; Pre-schoolers\": {\"frequency\": 20, \"value\": \"Sleep Buddy ~ ...\"}, \"My Brest Friend Original Pillow, Bluebells\": {\"frequency\": 44, \"value\": \"My Brest Friend ...\"}, \"Neat Solutions 10 Pack Water Resistant Drooler Bib Set, Multi-color\": {\"frequency\": 32, \"value\": \"Neat Solutions 10 ...\"}, \"Delta Canton 4-in-1 Convertible Crib, Dark Cherry\": {\"frequency\": 58, \"value\": \"Delta Canton ...\"}, \"Crown Crafts The Original NoJo BabySling by Dr. Sears - Denim\": {\"frequency\": 19, \"value\": \"Crown Crafts The ...\"}, \"Cosco Alpha Omega Elite Convertible Car Seat\": {\"frequency\": 69, \"value\": \"Cosco Alpha Omega ...\"}, \"The First Year's Infant To Toddler Tub with Sling, Blue\": {\"frequency\": 230, \"value\": \"The First Year's ...\"}, \"Hard Rock Cloth Diaper &amp; Laundry Detergent - Motley Clean\": {\"frequency\": 23, \"value\": \"Hard Rock Cloth ...\"}, \"Planet Wise Hanging Wet/Dry Diaper Bag, Black\": {\"frequency\": 57, \"value\": \"Planet Wise ...\"}, \"Lamaze High-Contrast Discovery Shapes Activity Puzzle &amp; Crib Gallery\": {\"frequency\": 29, \"value\": \"Lamaze High- ...\"}, \"Yookidoo Flow 'N Fill Spout Bath Toy (9m+)\": {\"frequency\": 95, \"value\": \"Yookidoo Flow 'N ...\"}, \"Munchkin Mighty Grip Trainer Cup 2-Pack, 8 oz, Colors Vary\": {\"frequency\": 21, \"value\": \"Munchkin Mighty ...\"}, \"Medela 12 Volt Vehicle Lighter Adaptor\": {\"frequency\": 26, \"value\": \"Medela 12 Volt ...\"}, \"Leachco All Nighter - Total Body Pillow - Ivory\": {\"frequency\": 34, \"value\": \"Leachco All ...\"}, \"Summer Infant Elite DuoMat for Car Seat, Black\": {\"frequency\": 55, \"value\": \"Summer Infant ...\"}, \"Baby Banz Hearing Protector Earmuffs, Blue\": {\"frequency\": 66, \"value\": \"Baby Banz Hearing ...\"}, \"Britax Regent Youth Car Seat, Onyx\": {\"frequency\": 32, \"value\": \"Britax Regent ...\"}, \"green sprouts Toddler Water Bottle Cap Adapter, Clear\": {\"frequency\": 19, \"value\": \"green sprouts ...\"}, \"Edushape Edu-Tiles 36 Piece 6x6ft Play Mat, Letters &amp; Numbers Set\": {\"frequency\": 21, \"value\": \"Edushape Edu-Tiles ...\"}, \"Roving Cove 16-PIECE EXTRA DENSE Safe Corner Cushion - Value Pack - Oyster; Premium Childproofing Corner Guard - Child Safety Home Safety Furniture and Table Edge Corner Protectors\": {\"frequency\": 22, \"value\": \"Roving Cove ...\"}, \"Evenflo Triumph Advance LX Convertible Car Seat, Harbortown\": {\"frequency\": 46, \"value\": \"Evenflo Triumph ...\"}, \"Levana Safe N'See Digital Video Baby Monitor with Talk-to-Baby Intercom and Lullaby Control (LV-TW501)\": {\"frequency\": 45, \"value\": \"Levana Safe N'See ...\"}, \"Jeep Cling Sunshade, 2 Pack\": {\"frequency\": 37, \"value\": \"Jeep Cling ...\"}, \"FuzziBunz Perfect Size Cloth Diaper, Cotton Candy, Large 25-40+ lbs\": {\"frequency\": 29, \"value\": \"FuzziBunz Perfect ...\"}, \"Philips AVENT BPA Free Twin Electric Breast Pump\": {\"frequency\": 79, \"value\": \"Philips AVENT BPA ...\"}, \"Susen 1pc Fashion Cute Baby Kids Girls Boys Stretchy Warm Winter Panda Cap Hat Beanie (Hot Pink)\": {\"frequency\": 19, \"value\": \"Susen 1pc Fashion ...\"}, \"Uncle Goose Classic Embossed Alphabet Blocks ABC\": {\"frequency\": 45, \"value\": \"Uncle Goose ...\"}, \"BABYBJORN Travel Crib Light 2, Black\": {\"frequency\": 61, \"value\": \"BABYBJORN Travel ...\"}, \"Jolly Jumper Bumper Bonnet Toddler Head Cushion\": {\"frequency\": 19, \"value\": \"Jolly Jumper ...\"}, \"Fisher-Price: Flutterbye Dreams Lullabye Birdies Soother\": {\"frequency\": 34, \"value\": \"Fisher-Price: ...\"}, \"green sprouts Stacking Cup Set, Colors may vary\": {\"frequency\": 46, \"value\": \"green sprouts ...\"}, \"Naturepedic Waterproof Fitted Crib Pad, 28x52\": {\"frequency\": 19, \"value\": \"Naturepedic ...\"}, \"KidCo Baby Steps Food Mill, with Carrying Case , 1 food mill\": {\"frequency\": 19, \"value\": \"KidCo Baby Steps ...\"}, \"Itzbeen Pocket Nanny Baby Care Timer, Blue\": {\"frequency\": 176, \"value\": \"Itzbeen Pocket ...\"}, \"Gerber Graduates BPA Free 4 Pack Bunch-A-Bowls with Lids, Colors May Vary\": {\"frequency\": 41, \"value\": \"Gerber Graduates ...\"}, \"Safety 1st Cling Sunshade 21&quot; wide - 2 Pack\": {\"frequency\": 18, \"value\": \"Safety 1st Cling ...\"}, \"Nuby Silicone Teether with Bristles, Colors May Vary\": {\"frequency\": 38, \"value\": \"Nuby Silicone ...\"}, \"Dr. Brown's 2 Pack Natural Flow Level 3 Standard Nipple\": {\"frequency\": 23, \"value\": \"Dr. Brown's 2 Pack ...\"}, \"Fisher-Price Table Time Turtle Booster\": {\"frequency\": 30, \"value\": \"Fisher-Price Table ...\"}, \"The First Years Learning Curve First Keys Teether\": {\"frequency\": 22, \"value\": \"The First Years ...\"}, \"Bumkins Flushable Diaper Liner, Neutral, 100 Pack\": {\"frequency\": 74, \"value\": \"Bumkins Flushable ...\"}, \"VTech Communications Safe &amp; Sound Digital Audio Monitor with two Parent Units\": {\"frequency\": 139, \"value\": \"VTech ...\"}, \"Leachco Back 'N Belly Chic - Taupe\": {\"frequency\": 27, \"value\": \"Leachco Back 'N ...\"}, \"Philips AVENT BPA Free Microwave Steam Sterilizer\": {\"frequency\": 25, \"value\": \"Philips AVENT BPA ...\"}, \"DaVinci Kalani 3 Drawer Changer in Cherry\": {\"frequency\": 19, \"value\": \"DaVinci Kalani 3 ...\"}, \"Safety 1st Complete Air Protect 65 Convertible Car Seat, Great Lakes\": {\"frequency\": 34, \"value\": \"Safety 1st ...\"}, \"Infantino Union Ergonomic Carrier, Gray\": {\"frequency\": 35, \"value\": \"Infantino Union ...\"}, \"Britax B-Safe Base Kit, Black\": {\"frequency\": 37, \"value\": \"Britax B-Safe Base ...\"}, \"Baby Trend Universal Double Snap-N-Go Stroller Frame\": {\"frequency\": 26, \"value\": \"Baby Trend ...\"}, \"Graco SnugRide Click Connect 30/35Infant Car Seat Base, Silver\": {\"frequency\": 34, \"value\": \"Graco SnugRide ...\"}, \"Boba 3G Baby Carrier, Montenegro Black\": {\"frequency\": 45, \"value\": \"Boba 3G Baby ...\"}, \"Kanga Care Wet Bag, Crimson\": {\"frequency\": 35, \"value\": \"Kanga Care Wet ...\"}, \"Jeep Backpack Harness, Lion\": {\"frequency\": 24, \"value\": \"Jeep Backpack ...\"}, \"Philips AVENT BPA Free Classic Newborn Flow Nipple, 2-Pack\": {\"frequency\": 47, \"value\": \"Philips AVENT BPA ...\"}, \"Angel Dear Pair and a Spare 3 Piece Blanket Set, Frog\": {\"frequency\": 26, \"value\": \"Angel Dear Pair ...\"}, \"Munchkin Mozart Magic Cube\": {\"frequency\": 191, \"value\": \"Munchkin Mozart ...\"}, \"green sprouts 10 Pack Waterproof Absorbent Terry Bibs, Girls\": {\"frequency\": 60, \"value\": \"green sprouts 10 ...\"}, \"Graco Swing By Me Portable 2-in-1 Swing, Little Hoot\": {\"frequency\": 22, \"value\": \"Graco Swing By Me ...\"}, \"Bebe Au Lait Cotton Nursing Cover - Bali\": {\"frequency\": 139, \"value\": \"Bebe Au Lait ...\"}, \"Fisher-Price Papasan Cradle Swing -  Nature's Touch N1973\": {\"frequency\": 128, \"value\": \"Fisher-Price ...\"}, \"Graco Secure Coverage Digital Baby Monitor with 2 Parent Units\": {\"frequency\": 33, \"value\": \"Graco Secure ...\"}, \"KidCo Magnet Lock Starter Set\": {\"frequency\": 42, \"value\": \"KidCo Magnet Lock ...\"}, \"Kel-Gar Snug Tub - Elephant\": {\"frequency\": 38, \"value\": \"Kel-Gar Snug Tub - ...\"}, \"Munchkin Auto Seat Protector\": {\"frequency\": 42, \"value\": \"Munchkin Auto Seat ...\"}, \"JJ Cole Essentials Blanket Sky/Lemon\": {\"frequency\": 128, \"value\": \"JJ Cole Essentials ...\"}, \"Aden by aden + anais Muslin Burpy Bib, Butterfly Patch\": {\"frequency\": 21, \"value\": \"Aden by aden + ...\"}, \"Dream On Me 3&quot; Portable Crib Mattress\": {\"frequency\": 66, \"value\": \"Dream On Me ...\"}, \"Alva Baby Cloth Diaper 4 layers Antibacterial Bamboo Viscose Inserts Super Water Absorbent 12pcs 12mb\": {\"frequency\": 21, \"value\": \"Alva Baby Cloth ...\"}, \"Summer Infant Day &amp; Night Baby Video Monitor with 5&quot; Screen - White\": {\"frequency\": 30, \"value\": \"Summer Infant Day ...\"}, \"Squatty Potty 7&quot; Toilet Stool-Elimination Aid - Natural Bathroom Relief Through A Toilet Stool\": {\"frequency\": 76, \"value\": \"Squatty Potty ...\"}, \"Kidsme Food Feeder Essential Set\": {\"frequency\": 25, \"value\": \"Kidsme Food Feeder ...\"}, \"Leachco Safer Bather Infant Bath Pad, Blue Fish\": {\"frequency\": 131, \"value\": \"Leachco Safer ...\"}, \"Munchkin XTRAGUARD 2 Count Dual Action Multi Use Latches\": {\"frequency\": 112, \"value\": \"Munchkin XTRAGUARD ...\"}, \"Munchie Mug - Top Rated Spill Resistant Snack Cup for Toddlers. Ages 1 to 4 years. Made in AMERICA. - BPA and phthalate free. FDA compliant materials. - Blue Top\": {\"frequency\": 64, \"value\": \"Munchie Mug - Top ...\"}, \"Regalo Extra Tall Top of Stair Gate, White\": {\"frequency\": 29, \"value\": \"Regalo Extra Tall ...\"}, \"Boon Frog Pod Bath Toy Scoop,Green\": {\"frequency\": 83, \"value\": \"Boon Frog Pod Bath ...\"}, \"Levana Oma Clip-On Portable Baby Movement Monitor with Audible Alarm, White/Orange\": {\"frequency\": 23, \"value\": \"Levana Oma Clip-On ...\"}, \"Sugar Booger &quot;Prehistoric Pals&quot; Feeding Collection Silverware Set\": {\"frequency\": 28, \"value\": \"Sugar Booger ...\"}, \"Gerber Graduates BPA Free 6 Pack Soft Bite Infant Spoon, Colors May Vary\": {\"frequency\": 26, \"value\": \"Gerber Graduates ...\"}, \"Todays Mom Cozy Comfort Pregnancy Pillow - Sky Blue\": {\"frequency\": 109, \"value\": \"Todays Mom Cozy ...\"}, \"Badger Basket 3 Pack Polka Dot Nesting Trapezoid Shape Folding Baskets, Pink\": {\"frequency\": 20, \"value\": \"Badger Basket 3 ...\"}, \"Disney Inflatable Bathtub, Pixar Cars\": {\"frequency\": 34, \"value\": \"Disney Inflatable ...\"}, \"Luvable Friends 12 Pack Washcloths, Blue\": {\"frequency\": 25, \"value\": \"Luvable Friends 12 ...\"}, \"KidCo GoPod Portable Activity Seat - Pistachio\": {\"frequency\": 56, \"value\": \"KidCo GoPod ...\"}, \"Gerber Graduates Kiddy Cutlery 3 Piece Spoon Set\": {\"frequency\": 20, \"value\": \"Gerber Graduates ...\"}, \"QuickZip Crib Zipper Sheet - Ecru\": {\"frequency\": 21, \"value\": \"QuickZip Crib ...\"}, \"Medela Calma Breastmilk Feeding Set, 5 Ounce\": {\"frequency\": 35, \"value\": \"Medela Calma ...\"}, \"Boppy Pregnancy Wedge with Cotton Slipcover\": {\"frequency\": 29, \"value\": \"Boppy Pregnancy ...\"}, \"Philips AVENT DECT Baby Monitor with Temperature Sensor and New ECO Mode\": {\"frequency\": 30, \"value\": \"Philips AVENT DECT ...\"}, \"Peg Perego Convertible Infant to Toddler Car Seat, Black\": {\"frequency\": 42, \"value\": \"Peg Perego ...\"}, \"Fisher-Price: Link-a-doos Open-Top Take-Along Swing\": {\"frequency\": 31, \"value\": \"Fisher-Price: ...\"}, \"Joovy Zoom 360 Swivel Wheel Jogging Stroller, Blue\": {\"frequency\": 49, \"value\": \"Joovy Zoom 360 ...\"}, \"Excellante' Wooden High Chair, Walnut (Packaging May Vary)\": {\"frequency\": 30, \"value\": \"Excellante' Wooden ...\"}, \"Balboa Baby Shopping Cart Cover, Diamond\": {\"frequency\": 33, \"value\": \"Balboa Baby ...\"}, \"MOBI MobiCam Ultra 900 MHz Monitoring System with SW Power\": {\"frequency\": 18, \"value\": \"MOBI MobiCam Ultra ...\"}, \"Philips AVENT Express Food and Bottle Warmer\": {\"frequency\": 55, \"value\": \"Philips AVENT ...\"}, \"Carters Super Soft Printed Changing Pad Cover, Blue\": {\"frequency\": 24, \"value\": \"Carters Super Soft ...\"}, \"Thermos FOOGO Phases Stainless Steel Sippy Cup, 7 Ounce, Blue/Yellow\": {\"frequency\": 36, \"value\": \"Thermos FOOGO ...\"}, \"Baby Briefcase Baby Paperwork Organizer, Mint/Periwinkle\": {\"frequency\": 22, \"value\": \"Baby Briefcase ...\"}, \"Medela Pump in style Advanced Power Adaptor 9207010 9V\": {\"frequency\": 20, \"value\": \"Medela Pump in ...\"}, \"Summer Infant Contoured Changing Pad Amazon Frustration Free Packaging\": {\"frequency\": 208, \"value\": \"Summer Infant ...\"}, \"UPPAbaby Vista Stroller, Red/Denny\": {\"frequency\": 24, \"value\": \"UPPAbaby Vista ...\"}, \"Serta Nightstar Extra Firm Crib Mattress\": {\"frequency\": 21, \"value\": \"Serta Nightstar ...\"}, \"Philips AVENT Isis On The Go Set\": {\"frequency\": 63, \"value\": \"Philips AVENT Isis ...\"}, \"*The Art of CureTM *SAFETY KNOTTED* - Mixed Colors - Certified Baltic Amber Baby Teething Necklace - w/The Art of CureTM Jewelry Pouch (SHIPS AND SOLD IN THE USA)\": {\"frequency\": 23, \"value\": \"*The Art of CureTM ...\"}, \"Fisher-Price Newborn Rock 'n Play Sleeper, Yellow\": {\"frequency\": 236, \"value\": \"Fisher-Price ...\"}, \"Dreamscapes Soother\": {\"frequency\": 27, \"value\": \"Dreamscapes ...\"}, \"Lamaze Garden Bug Wrist Rattle &amp; Foot Finder Set\": {\"frequency\": 55, \"value\": \"Lamaze Garden Bug ...\"}, \"North States Supergate Expandable Swing Gate\": {\"frequency\": 25, \"value\": \"North States ...\"}, \"4moms Cleanwater Infant Bath Tub with Digital Thermometer\": {\"frequency\": 18, \"value\": \"4moms Cleanwater ...\"}, \"Graco Sarah Classic Convertible Crib, White\": {\"frequency\": 36, \"value\": \"Graco Sarah ...\"}, \"Planet Wise Wet/Dry Diaper Bag, Black\": {\"frequency\": 43, \"value\": \"Planet Wise ...\"}, \"Skip Hop Pronto Changer Diaper Bag, Black\": {\"frequency\": 32, \"value\": \"Skip Hop Pronto ...\"}, \"BRICA Kick Mats (2 pack), Black\": {\"frequency\": 22, \"value\": \"BRICA Kick Mats (2 ...\"}, \"MAM 3 Pack Anti-Colic Bottle Boy, 8 Ounce, Colors May Vary\": {\"frequency\": 26, \"value\": \"MAM 3 Pack Anti- ...\"}, \"Munchkin 2 Pack Mighty Grip Straw Cup, 10 Ounce, Colors May Vary\": {\"frequency\": 33, \"value\": \"Munchkin 2 Pack ...\"}, \"Dr. Brown's Natural Flow Wide Neck Newborn Feeding Set\": {\"frequency\": 23, \"value\": \"Dr. Brown's ...\"}, \"Levana Oma+ Clip-On Portable Baby Movement Monitor with Vibration Alert and Audible Alarm, White/Purple\": {\"frequency\": 22, \"value\": \"Levana Oma+ Clip- ...\"}, \"Green Toys Twist Teether Toy, Colors May Vary\": {\"frequency\": 24, \"value\": \"Green Toys Twist ...\"}, \"Medela Easy Expression Hands-Free Bustier, White, Small\": {\"frequency\": 93, \"value\": \"Medela Easy ...\"}, \"Graco ComfortSport Convertible Car Seat, Zara\": {\"frequency\": 36, \"value\": \"Graco ComfortSport ...\"}, \"Medela PersonalFit Connectors\": {\"frequency\": 19, \"value\": \"Medela PersonalFit ...\"}, \"Beaba Babycook Baby Food Maker\": {\"frequency\": 71, \"value\": \"Beaba Babycook ...\"}, \"BOB Revolution SE Single Stroller, Navy\": {\"frequency\": 146, \"value\": \"BOB Revolution SE ...\"}, \"Mommy's Helper Inflatable Bath Tub Froggie Collection, White/Green, 6-18 Months\": {\"frequency\": 21, \"value\": \"Mommy's Helper ...\"}, \"Britax Car Seat Travel Bag, Black\": {\"frequency\": 37, \"value\": \"Britax Car Seat ...\"}, \"Fisher-Price 2-in-1 Portable Potty\": {\"frequency\": 26, \"value\": \"Fisher-Price ...\"}, \"Edushape Edu-Tiles 25 Piece Solid Play Mat with Edges &amp; Corners\": {\"frequency\": 25, \"value\": \"Edushape Edu-Tiles ...\"}, \"KidCo Spring Action Cabinet Lock 4-pack\": {\"frequency\": 44, \"value\": \"KidCo Spring ...\"}, \"Graco Blossom Booster Seat, Brown/Tan\": {\"frequency\": 58, \"value\": \"Graco Blossom ...\"}, \"WubbaNub Brown Puppy\": {\"frequency\": 44, \"value\": \"WubbaNub Brown ...\"}, \"Mommy's Helper Outlet Plugs 36 Pack\": {\"frequency\": 93, \"value\": \"Mommy's Helper ...\"}, \"ReSqueeze Reusable Food Pouch (4-pack)\": {\"frequency\": 28, \"value\": \"ReSqueeze Reusable ...\"}, \"Sassy First Sounds Book Set and Cube\": {\"frequency\": 21, \"value\": \"Sassy First Sounds ...\"}, \"Badger Basket Company Sleigh Style Changing Table with Hamper/3 Baskets in White\": {\"frequency\": 21, \"value\": \"Badger Basket ...\"}, \"WubbaNub Green Frog\": {\"frequency\": 25, \"value\": \"WubbaNub Green ...\"}, \"Little Partners Learning Tower - Natural\": {\"frequency\": 37, \"value\": \"Little Partners ...\"}, \"Stork Craft Venetian 4-in-1 Fixed Side Convertible Crib, Cherry\": {\"frequency\": 18, \"value\": \"Stork Craft ...\"}, \"Tiny Love Tummy Time Fun Activity Mat, Frog\": {\"frequency\": 21, \"value\": \"Tiny Love Tummy ...\"}, \"BRICA Fold N' Go Travel Bassinet\": {\"frequency\": 28, \"value\": \"BRICA Fold N' Go ...\"}, \"Munchkin Baby Food Grinder, Light Blue\": {\"frequency\": 30, \"value\": \"Munchkin Baby Food ...\"}, \"Nuby 10 Pack Hangers, Colors May Vary\": {\"frequency\": 20, \"value\": \"Nuby 10 Pack ...\"}, \"Slip-X Solutions Tub Tattoos: Clownfish\": {\"frequency\": 30, \"value\": \"Slip-X Solutions ...\"}, \"South Shore Savannah Collection Door Chest, Pure White\": {\"frequency\": 21, \"value\": \"South Shore ...\"}, \"Munchkin Easy-Close Metal Gate, White\": {\"frequency\": 46, \"value\": \"Munchkin Easy- ...\"}, \"Kushies Swim Diaper, Sail Boats Print, Medium\": {\"frequency\": 18, \"value\": \"Kushies Swim ...\"}, \"Skip Hop Grand Central Diaper Bag, Black\": {\"frequency\": 24, \"value\": \"Skip Hop Grand ...\"}, \"BRICA By-My-Side Safety Harness Backpack, Pink/Gray\": {\"frequency\": 32, \"value\": \"BRICA By-My-Side ...\"}, \"BEABA First Stage Spoon Multi-Pack - Multicolor - 4 pk\": {\"frequency\": 18, \"value\": \"BEABA First Stage ...\"}, \"Chicco Cortina KeyFit 30 Travel System in Adventure\": {\"frequency\": 46, \"value\": \"Chicco Cortina ...\"}, \"Mobi Tykelight GloMate Plus\": {\"frequency\": 18, \"value\": \"Mobi Tykelight ...\"}, \"Bummis Bio-Soft Liner, Small\": {\"frequency\": 76, \"value\": \"Bummis Bio-Soft ...\"}, \"Munchkin Two Snack Catchers, Colors May Vary\": {\"frequency\": 117, \"value\": \"Munchkin Two Snack ...\"}, \"Boon Squirt Baby Food Dispensing Spoon in Pink\": {\"frequency\": 34, \"value\": \"Boon Squirt Baby ...\"}, \"Dr. Sears Nibble Tray, Yellow/Green, 12 Months\": {\"frequency\": 21, \"value\": \"Dr. Sears Nibble ...\"}, \"Philips Avent Electric Steam Sterilizer\": {\"frequency\": 22, \"value\": \"Philips Avent ...\"}, \"Luvable Friends Fitted Pack N Play Sheet, White\": {\"frequency\": 22, \"value\": \"Luvable Friends ...\"}, \"3 Sprouts Storage Bin, Monkey\": {\"frequency\": 38, \"value\": \"3 Sprouts Storage ...\"}, \"Under The Nile Green Bean Toy\": {\"frequency\": 18, \"value\": \"Under The Nile ...\"}, \"Fisher-Price Infant-To-Toddler Rocker, Blue/Green\": {\"frequency\": 217, \"value\": \"Fisher-Price ...\"}, \"Chewbeads Necklace - Jane - Black\": {\"frequency\": 33, \"value\": \"Chewbeads Necklace ...\"}, \"North States Supergate Auto-Close Metal Gate\": {\"frequency\": 30, \"value\": \"North States ...\"}, \"NUK Toddler Tooth and Gum Cleanser, 1.4 Ounce, (Colors May Vary)\": {\"frequency\": 22, \"value\": \"NUK Toddler Tooth ...\"}, \"Medela New Pump in Style Original Breast Pump\": {\"frequency\": 21, \"value\": \"Medela New Pump in ...\"}, \"Motorola Digital Video Baby Monitor with 1.5 Inch Color LCD Screen\": {\"frequency\": 23, \"value\": \"Motorola Digital ...\"}, \"Thermos FUNtainer Bottle, Disney Cars, 12 Ounce\": {\"frequency\": 21, \"value\": \"Thermos FUNtainer ...\"}, \"Tiny Love Classic Mobile\": {\"frequency\": 38, \"value\": \"Tiny Love Classic ...\"}, \"Clevamama Splash and Wrap Baby Bath Towel (Cream)\": {\"frequency\": 25, \"value\": \"Clevamama Splash ...\"}, \"Baby Einstein Sea Dreams Soother\": {\"frequency\": 49, \"value\": \"Baby Einstein Sea ...\"}, \"Classic Connect Graco SnugRide Classic Connect Infant Car Seat Base, Silver\": {\"frequency\": 56, \"value\": \"Classic Connect ...\"}, \"Jolly Jumper Weathershield for Infant Car Seat\": {\"frequency\": 22, \"value\": \"Jolly Jumper ...\"}, \"Bunnies by the Bay Buddy Blanket, Skipit\": {\"frequency\": 24, \"value\": \"Bunnies by the Bay ...\"}, \"Inglesina 2011 Fast Table Chair, Marina\": {\"frequency\": 30, \"value\": \"Inglesina 2011 ...\"}, \"Philips AVENT BPA Free Freeflow Pacifier, 6-18 Months,  Colors and Designs May Vary, 2-Count\": {\"frequency\": 21, \"value\": \"Philips AVENT BPA ...\"}, \"Mommy's Helper Step Up Non-Slip Stepstool Froggie Collection, Green\": {\"frequency\": 27, \"value\": \"Mommy's Helper ...\"}, \"Brica Baby In-Sight Mirror, Gray\": {\"frequency\": 80, \"value\": \"Brica Baby In- ...\"}, \"Vulli Chan Pie Gnon Natural Rubber Teether - Blue Chan\": {\"frequency\": 71, \"value\": \"Vulli Chan Pie ...\"}, \"Prince Lionheart Jumbo Toy Hammock ~ Set of 2\": {\"frequency\": 21, \"value\": \"Prince Lionheart ...\"}, \"Philips AVENT Newborn Starter Set\": {\"frequency\": 59, \"value\": \"Philips AVENT ...\"}, \"Kiddopotamus Tinydiner Placemat, Yellow\": {\"frequency\": 35, \"value\": \"Kiddopotamus ...\"}, \"Medela PersonalFit Breastshields (2/pack) - Large - 27mm\": {\"frequency\": 81, \"value\": \"Medela PersonalFit ...\"}, \"The First Years True Fit Convertible Car Seat, Monet\": {\"frequency\": 72, \"value\": \"The First Years ...\"}, \"MamaDoo Kids Foldable Play Yard Mattress Topper, Blue\": {\"frequency\": 37, \"value\": \"MamaDoo Kids ...\"}, \"Lamaze Soft Chime Garden Musical Toy\": {\"frequency\": 34, \"value\": \"Lamaze Soft Chime ...\"}, \"North States Supergate Extra Tall Easy Close Gate, Bronze\": {\"frequency\": 52, \"value\": \"North States ...\"}, \"Especially for Baby Bottle Warmer\": {\"frequency\": 18, \"value\": \"Especially for ...\"}, \"Evenflo SmartSteps Jump and Go, ABC123\": {\"frequency\": 39, \"value\": \"Evenflo SmartSteps ...\"}, \"Boogie Snatcher: Infant, Baby Nose Cleaning Tweezers. Cleans Your Infants Nose For Better Sleep!\": {\"frequency\": 22, \"value\": \"Boogie Snatcher: ...\"}, \"Evenflo Switch A Roo, Apple Book\": {\"frequency\": 20, \"value\": \"Evenflo Switch A ...\"}, \"Summer Infant Baby's Quiet Sounds Video Monitor\": {\"frequency\": 52, \"value\": \"Summer Infant ...\"}, \"Lamaze Early Development Toy, Captain Calamari\": {\"frequency\": 31, \"value\": \"Lamaze Early ...\"}, \"Playtex Drop-Ins Pre-Sterilized Soft Bottle Liners, 8-10 oz. 100 ea\": {\"frequency\": 51, \"value\": \"Playtex Drop-Ins ...\"}, \"Baby Teether Ball, Assorted Colors\": {\"frequency\": 45, \"value\": \"Baby Teether Ball, ...\"}, \"Lite-on-Shoulder Baby Sling\": {\"frequency\": 62, \"value\": \"Lite-on-Shoulder ...\"}, \"Diaper Dude Chicago Cubs Diaper Bag\": {\"frequency\": 91, \"value\": \"Diaper Dude ...\"}, \"Philips AVENT Basic Baby Monitor with DECT Technology\": {\"frequency\": 116, \"value\": \"Philips AVENT ...\"}, \"Summer Infant Deluxe Piddle Pad, Black\": {\"frequency\": 51, \"value\": \"Summer Infant ...\"}, \"Gerber Graduate BPA Free 2 Pack Fun Grips Spill Proof Cup, 7 Ounce, Colors May Vary\": {\"frequency\": 21, \"value\": \"Gerber Graduate ...\"}, \"The First Years Close and Secure Sleeper\": {\"frequency\": 61, \"value\": \"The First Years ...\"}, \"Dr. Brown's BPA Free Polypropylene Natural Flow Wide Neck Bottle, 8 Ounce, 3 Count\": {\"frequency\": 60, \"value\": \"Dr. Brown's BPA ...\"}, \"OXO Tot Baby Food Freezer Tray, White/Green\": {\"frequency\": 43, \"value\": \"OXO Tot Baby Food ...\"}, \"BRICA Seat Belt Adjuster, Gray\": {\"frequency\": 24, \"value\": \"BRICA Seat Belt ...\"}, \"Britax Boulevard 70 Convertible Car Seat, Silver Birch\": {\"frequency\": 26, \"value\": \"Britax Boulevard ...\"}, \"aden + anais Cozy Muslin Sleeping Bag, Alpha Bit, Small\": {\"frequency\": 34, \"value\": \"aden + anais Cozy ...\"}, \"Maxboost iPhone 5S/5 Case - Protective Snap-on Hard Case Slim Rugged Cover [Not compatible to Apple iPhone 6 Air 5c 4s 4 3gs, Screen Protector / Cable is not included] - Ultra Slim Profile Slimmer than coventional otterbox/lifeproof/kate Spade/speck/juicy couture/griffin/element/taktik Case\": {\"frequency\": 24, \"value\": \"Maxboost iPhone ...\"}, \"Kidco Safeway white G2000\": {\"frequency\": 37, \"value\": \"Kidco Safeway ...\"}, \"South Shore Savannah Collection Changing Table, Pure White\": {\"frequency\": 61, \"value\": \"South Shore ...\"}, \"green sprouts 10 Pack Waterproof Absorbent Terry Bibs , Boys\": {\"frequency\": 70, \"value\": \"green sprouts 10 ...\"}, \"Tiny Love Gymini Bouncer, Blue/Yellow\": {\"frequency\": 30, \"value\": \"Tiny Love Gymini ...\"}, \"Moonlight Slumber Little Dreamer Dual Firmness All Foam Crib Mattress\": {\"frequency\": 25, \"value\": \"Moonlight Slumber ...\"}, \"Boppy Noggin Nest Head Support, Brown Wheels\": {\"frequency\": 114, \"value\": \"Boppy Noggin Nest ...\"}, \"FuzziBunz Nursing Pads, White, 6 Pack\": {\"frequency\": 24, \"value\": \"FuzziBunz Nursing ...\"}, \"Sesame Street Elmo Car Seat Cover\": {\"frequency\": 19, \"value\": \"Sesame Street Elmo ...\"}, \"Summer Infant Baby Touch Boost Digital Color Video Monitor\": {\"frequency\": 19, \"value\": \"Summer Infant Baby ...\"}, \"Nuby 2-Pack 8 oz No Spill Cup with Super Spout (Color may vary)\": {\"frequency\": 25, \"value\": \"Nuby 2-Pack 8 oz ...\"}, \"Baby Trend Diaper Champ in Blue\": {\"frequency\": 41, \"value\": \"Baby Trend Diaper ...\"}, \"3 Sprouts Storage Caddy, Mouse\": {\"frequency\": 27, \"value\": \"3 Sprouts Storage ...\"}, \"North States Industries Supergate Extra Wide Swing Gate\": {\"frequency\": 56, \"value\": \"North States ...\"}, \"Maxboost iPhone 5S/5 Case - Protective Snap-on Hard Case Slim Rugged Cover [Not compatible to Apple iPhone 6 Air 5c 4s 4 3gs]\": {\"frequency\": 43, \"value\": \"Maxboost iPhone ...\"}, \"Clevamama Clevafeed\": {\"frequency\": 23, \"value\": \"Clevamama ...\"}, \"Joovy Caboose Ultralight Stroller, Blueberry\": {\"frequency\": 52, \"value\": \"Joovy Caboose ...\"}, \"Dr. Seuss Short Sleeve Bodysuit and Pants, Blue Cat, 3 Months\": {\"frequency\": 21, \"value\": \"Dr. Seuss Short ...\"}, \"The First Years True Fit C670 Premier Convertible Car Seat\": {\"frequency\": 18, \"value\": \"The First Years ...\"}, \"Dreambaby Retractable Gate, White\": {\"frequency\": 31, \"value\": \"Dreambaby ...\"}, \"NUK Learner Cup BPA Free Silicone Spout, Single Pack, Colors May Vary\": {\"frequency\": 33, \"value\": \"NUK Learner Cup ...\"}, \"Skip Hop Wall Decals, Treetop Friends\": {\"frequency\": 18, \"value\": \"Skip Hop Wall ...\"}, \"Breast Pump Kit for Medela Pump in Style Advanced Breastpump. Include Replacement Tubing for Pump In Style, 2 One-piece Breastshields (Replace Medela Personalfit 24mm), 2 Valves, and 4 Membranes. Replace Medela Personalfit Connector and Breastshield. Suitable for Pump-in-style Released After July 2006.\": {\"frequency\": 30, \"value\": \"Breast Pump Kit ...\"}, \"Fisher-Price Ocean Wonders Aquarium Cradle Swing\": {\"frequency\": 178, \"value\": \"Fisher-Price Ocean ...\"}, \"Skip Hop Grab &amp; Go Stroller Organizer, Platinum\": {\"frequency\": 26, \"value\": \"Skip Hop Grab ...\"}, \"Playtex Drop-Ins Original BPA Free Nurser Newborn Starter Set\": {\"frequency\": 21, \"value\": \"Playtex Drop-Ins ...\"}, \"Evenflo Splash Mega Exersaucer\": {\"frequency\": 40, \"value\": \"Evenflo Splash ...\"}, \"Boon Flair Pedestal Highchair with Pneumatic Lift,White/Orang\": {\"frequency\": 53, \"value\": \"Boon Flair ...\"}, \"Fisher-Price Rainforest Open-Top Cradle Swing\": {\"frequency\": 63, \"value\": \"Fisher-Price ...\"}, \"Delta City Street Side by Side Stroller, Black\": {\"frequency\": 19, \"value\": \"Delta City Street ...\"}, \"Evenflo Classic Johnny Jump Up, Frogs\": {\"frequency\": 41, \"value\": \"Evenflo Classic ...\"}, \"DaVinci Emily 4-in-1 Convertible Crib with Toddler Rail, Cherry\": {\"frequency\": 95, \"value\": \"DaVinci Emily ...\"}, \"BFlowerYan Door Stop Finger Pinch Guard , Mixed Color [4pc-pack] (4xanimal)\": {\"frequency\": 22, \"value\": \"BFlowerYan Door ...\"}, \"BOB Infant Car Seat Adapter for Chicco Single Strollers\": {\"frequency\": 38, \"value\": \"BOB Infant Car ...\"}, \"NUK Replacement Silicone Spout, Clear\": {\"frequency\": 26, \"value\": \"NUK Replacement ...\"}, \"Sesame Street Potty Soft Seat, Elmo\": {\"frequency\": 44, \"value\": \"Sesame Street ...\"}, \"Baby Jogger Adjustable Belly Bar\": {\"frequency\": 20, \"value\": \"Baby Jogger ...\"}, \"Bunnies by the Bay Silly Buddy, Emmit\": {\"frequency\": 23, \"value\": \"Bunnies by the Bay ...\"}, \"The Safe Sippy 2 2-in-1 Sippy to Straw Bottle, Pink\": {\"frequency\": 35, \"value\": \"The Safe Sippy 2 ...\"}, \"Arm's Reach Co-Sleeper Mini Bassinet, Natural\": {\"frequency\": 20, \"value\": \"Arm's Reach Co- ...\"}, \"Skip Hop Versa Diaper Bag, Cream Links\": {\"frequency\": 63, \"value\": \"Skip Hop Versa ...\"}, \"Infantino Flip Front 2 Back Carrier, Black\": {\"frequency\": 22, \"value\": \"Infantino Flip ...\"}, \"Kiddyloo Toilet Seat Reducer (Blue/Green) - Toddler Potty Training Seat\": {\"frequency\": 22, \"value\": \"Kiddyloo Toilet ...\"}, \"Squatty Potty 9&quot; Toilet Stool-Elimination Aid - Natural Bathroom Relief Through A Toilet Stool\": {\"frequency\": 80, \"value\": \"Squatty Potty ...\"}, \"Born Free Trainer Cup, Blue\": {\"frequency\": 30, \"value\": \"Born Free Trainer ...\"}, \"Evenflo Comfort Select Auto-Cycling Breast Pump\": {\"frequency\": 25, \"value\": \"Evenflo Comfort ...\"}, \"Munchkin 'White Hot' Duck Bath Toy\": {\"frequency\": 32, \"value\": \"Munchkin 'White ...\"}, \"aden + anais Classic Muslin Swaddle Blanket 2 Pack, For The Birds\": {\"frequency\": 19, \"value\": \"aden + anais ...\"}, \"We Sell Mats Anti-Fatigue 6 Piece Interlocking EVA Foam Flooring Set\": {\"frequency\": 25, \"value\": \"We Sell Mats Anti- ...\"}, \"Carter's Easy Fit Printed Crib Fitted Sheet, Animal\": {\"frequency\": 47, \"value\": \"Carter's Easy Fit ...\"}, \"One Dozen (12) Rubber Duckie Ducky Duck Christmas Nativity Scene\": {\"frequency\": 18, \"value\": \"One Dozen (12) ...\"}, \"The First Years Carry Me Near Sleep System, Cream\": {\"frequency\": 52, \"value\": \"The First Years ...\"}, \"Britax Decathlon Convertible Car Seat, Tiffany\": {\"frequency\": 20, \"value\": \"Britax Decathlon ...\"}, \"Fisher-Price Space Saver High Chair, Scatterbug\": {\"frequency\": 34, \"value\": \"Fisher-Price Space ...\"}, \"Britax Pavilion 70-G3 Convertible Car Seat Seat, Biscotti\": {\"frequency\": 34, \"value\": \"Britax Pavilion ...\"}, \"The World of Eric Carle: The Very Hungry Caterpillar Teether Rattle by Kids Preferred\": {\"frequency\": 18, \"value\": \"The World of Eric ...\"}, \"Thermos FUNtainer Bottle, Disney Princess, 12 Ounce\": {\"frequency\": 30, \"value\": \"Thermos FUNtainer ...\"}, \"White Knob Lock - 2 Pieces\": {\"frequency\": 19, \"value\": \"White Knob Lock - ...\"}, \"Miracle Blanket Baby Swaddle Blanket, Pink\": {\"frequency\": 184, \"value\": \"Miracle Blanket ...\"}, \"myBaby Soundspa Lullaby Sound Machine and Projector\": {\"frequency\": 89, \"value\": \"myBaby Soundspa ...\"}, \"Graco Pack 'n Play Playard with Cuddle Cove Rocking Seat, Winslet\": {\"frequency\": 40, \"value\": \"Graco Pack 'n Play ...\"}, \"Bumkins Waterproof Superbib, Blue Fizz\": {\"frequency\": 49, \"value\": \"Bumkins Waterproof ...\"}, \"Munchkin 3 Count Stay Put Suction Bowl\": {\"frequency\": 127, \"value\": \"Munchkin 3 Count ...\"}, \"Sesame Street Table Topper Disposable Stick-on Placemats with Reusable Pop-up Travel Case, 50-Count\": {\"frequency\": 34, \"value\": \"Sesame Street ...\"}, \"NUK Infant Tooth and Gum Cleanser and Finger Toothbrush Set, 1.4 Ounce\": {\"frequency\": 32, \"value\": \"NUK Infant Tooth ...\"}, \"aden + anais Muslin Stroller Blanket, Jungle Jive\": {\"frequency\": 21, \"value\": \"aden + anais ...\"}, \"Prince Lionheart BoosterPOD, White Base/Lemon\": {\"frequency\": 56, \"value\": \"Prince Lionheart ...\"}, \"The First Years MiSwivel Feeding Seat, Dot to Dot\": {\"frequency\": 19, \"value\": \"The First Years ...\"}, \"3 Sprouts Storage Box, Dog\": {\"frequency\": 27, \"value\": \"3 Sprouts Storage ...\"}, \"Born Free 5 oz. BPA-Free Glass Bottle with ActiveFlow Venting Technology and Bonus Silicone Sleeve, 3-Pack\": {\"frequency\": 43, \"value\": \"Born Free 5 oz. ...\"}, \"Britax Child Cup Holder\": {\"frequency\": 58, \"value\": \"Britax Child Cup ...\"}, \"Vicks SpeedRead Digital Thermometer\": {\"frequency\": 21, \"value\": \"Vicks SpeedRead ...\"}, \"Tiny Love Follow Me Activity Toy, Fred\": {\"frequency\": 39, \"value\": \"Tiny Love Follow ...\"}, \"Milkies Milk-Saver Breast Milk Collector Storage BPA Free\": {\"frequency\": 79, \"value\": \"Milkies Milk-Saver ...\"}, \"Fitted Portable Crib Sheet in Yellow Duck Print\": {\"frequency\": 25, \"value\": \"Fitted Portable ...\"}, \"Disney Princess Castle Dreams 2-Piece Sheet Set\": {\"frequency\": 20, \"value\": \"Disney Princess ...\"}, \"Wow Cup for Kids - NEW Innovative 360 Spill Free Drinking Cup - BPA Free - 8 Ounce (Blue)\": {\"frequency\": 21, \"value\": \"Wow Cup for Kids - ...\"}, \"Skip Hop Zoo Lunchie Insulated Lunch Bag, Monkey\": {\"frequency\": 135, \"value\": \"Skip Hop Zoo ...\"}, \"Munchkin 36 Bath Letters and Numbers\": {\"frequency\": 51, \"value\": \"Munchkin 36 Bath ...\"}, \"Kidkusion Toddler Corner Kushions Off White - 4 Pack\": {\"frequency\": 50, \"value\": \"Kidkusion Toddler ...\"}, \"Nuk Replacement Spouts - 4 Pack Clear\": {\"frequency\": 22, \"value\": \"Nuk Replacement ...\"}, \"Pumpin' Pal Super Shields, Angled Pumping Flanges, the Best Flanges By Far in a Complete Set of All Sizes Mom Will Need\": {\"frequency\": 47, \"value\": \"Pumpin' Pal Super ...\"}, \"Trend Lab CribWrap Fleece Rail Cover for Long Rail, Brown, Wide\": {\"frequency\": 29, \"value\": \"Trend Lab CribWrap ...\"}, \"Dr. Brown's 4 oz Natural Flow Baby Bottle, 3 Pack\": {\"frequency\": 68, \"value\": \"Dr. Brown's 4 oz ...\"}, \"Summer Infant Secure Sight Digital Color Video Monitor\": {\"frequency\": 20, \"value\": \"Summer Infant ...\"}, \"OXO Tot On-The-Go Drying Rack and Bottle Brush, Green\": {\"frequency\": 33, \"value\": \"OXO Tot On-The-Go ...\"}, \"Munchkin 2 Pack Fresh Food Feeder, Colors May Vary\": {\"frequency\": 110, \"value\": \"Munchkin 2 Pack ...\"}, \"Baby Einstein Around The World Discovery Center\": {\"frequency\": 26, \"value\": \"Baby Einstein ...\"}, \"J.L. Childress Side Sling Stroller Cargo Net, Black\": {\"frequency\": 18, \"value\": \"J.L. Childress ...\"}, \"Gerber Graduates Kiddy Cutlery 3 Piece Fork Set\": {\"frequency\": 36, \"value\": \"Gerber Graduates ...\"}, \"HALO SleepSack 100% Cotton Wearable Blanket, Print Boy, Large\": {\"frequency\": 36, \"value\": \"HALO SleepSack ...\"}, \"aden + anais 2 Pack Muslin Burpy Bib, Princess Posie\": {\"frequency\": 53, \"value\": \"aden + anais 2 ...\"}, \"Fisher-Price Deluxe Newborn Rock N Play Sleeper, My Little Sweetie\": {\"frequency\": 25, \"value\": \"Fisher-Price ...\"}, \"Dreambaby Super Toy Hammock and Toy Chain\": {\"frequency\": 33, \"value\": \"Dreambaby Super ...\"}, \"Booginhead SippiGrip - Blue\": {\"frequency\": 18, \"value\": \"Booginhead ...\"}, \"JJ Cole Collections Diaper Caddy, Blue Stripe\": {\"frequency\": 46, \"value\": \"JJ Cole ...\"}, \"Evenflo Compact Fold High Chair, Marianna\": {\"frequency\": 31, \"value\": \"Evenflo Compact ...\"}, \"Fisher-Price Royal Stepstool Potty, Blue\": {\"frequency\": 20, \"value\": \"Fisher-Price Royal ...\"}, \"Munchkin Arm and Hammer Diaper Pail, White\": {\"frequency\": 68, \"value\": \"Munchkin Arm and ...\"}, \"The First Years Indigo Stroller, Red\": {\"frequency\": 27, \"value\": \"The First Years ...\"}, \"North States Pressure Mount Diamond Mesh Wood Gate\": {\"frequency\": 47, \"value\": \"North States ...\"}, \"BRICA By-My-Side Safety Harness Backpack, Blue\": {\"frequency\": 20, \"value\": \"BRICA By-My-Side ...\"}, \"Munchkin Twisty Figure 8 Teether\": {\"frequency\": 42, \"value\": \"Munchkin Twisty ...\"}, \"Graco RoomFor2 Stand and Ride Classic Connect Stroller, Metropolis\": {\"frequency\": 48, \"value\": \"Graco RoomFor2 ...\"}, \"Snoozy Organic  2 PACK Flannel Cotton Anti Allergy Waterproof Multi Use Pad, 18&quot; x 27&quot;\": {\"frequency\": 19, \"value\": \"Snoozy Organic  2 ...\"}, \"Diaper Dekor Plus Refills 2 Pack\": {\"frequency\": 51, \"value\": \"Diaper Dekor Plus ...\"}, \"Skip Hop Bento Diaper Tote Bag, Black\": {\"frequency\": 24, \"value\": \"Skip Hop Bento ...\"}, \"The Safe Sippy Cup, Blue\": {\"frequency\": 19, \"value\": \"The Safe Sippy ...\"}, \"Fisher-Price Newborn-to-Toddler Portable Rocker\": {\"frequency\": 23, \"value\": \"Fisher-Price ...\"}, \"Taggies Developmental Baby Doll\": {\"frequency\": 17, \"value\": \"Taggies ...\"}, \"5 Pack - Black Foam Microphone Windscreens (Lifetime Warranty, Bulk Packaging)\": {\"frequency\": 20, \"value\": \"5 Pack - Black ...\"}, \"Bumbo Floor Seat Cover, Dots\": {\"frequency\": 23, \"value\": \"Bumbo Floor Seat ...\"}, \"Boppy Changing Pad Liners 3-Pack - White\": {\"frequency\": 38, \"value\": \"Boppy Changing Pad ...\"}, \"Playtex Diaper Genie On The Go Dispenser\": {\"frequency\": 30, \"value\": \"Playtex Diaper ...\"}, \"Infant Optics DXR-5 2.4 GHz Digital Video Baby Monitor with Night Vision\": {\"frequency\": 561, \"value\": \"Infant Optics ...\"}, \"Fisher-Price On-the-Go Placemat\": {\"frequency\": 19, \"value\": \"Fisher-Price On- ...\"}, \"Hooter Hiders Nursing Cover - Aero\": {\"frequency\": 30, \"value\": \"Hooter Hiders ...\"}, \"KidCo Auto Close ConfigureGate - Black\": {\"frequency\": 30, \"value\": \"KidCo Auto Close ...\"}, \"Delta Universal 6 Drawer Dresser, Black Cherry\": {\"frequency\": 53, \"value\": \"Delta Universal 6 ...\"}, \"Trumpette Howdy Bouncy Rubber Cow, White\": {\"frequency\": 27, \"value\": \"Trumpette Howdy ...\"}, \"Summer Infant Multi-Use Deco Extra Tall Walk-Thru Gate, Bronze\": {\"frequency\": 219, \"value\": \"Summer Infant ...\"}, \"GroVia BioLiners One Size Unscented - 200 Count\": {\"frequency\": 51, \"value\": \"GroVia BioLiners ...\"}, \"The First Years 2 Pack 9 Ounce Insulated Sippy Cup, Disney Princess\": {\"frequency\": 51, \"value\": \"The First Years 2 ...\"}, \"Philips AVENT BPA Free Classic Polypropylene Essentials Gift Set\": {\"frequency\": 35, \"value\": \"Philips AVENT BPA ...\"}, \"Kushies Flushable Biodegradable Diaper Liners, 100 Sheets\": {\"frequency\": 33, \"value\": \"Kushies Flushable ...\"}, \"CHILL BABY Mustache Pacifier\": {\"frequency\": 34, \"value\": \"CHILL BABY ...\"}, \"Baby Brezza Formula Pro One Step Food Maker\": {\"frequency\": 23, \"value\": \"Baby Brezza ...\"}, \"OXO Tot Flip-In Hamper, Gray/Green\": {\"frequency\": 34, \"value\": \"OXO Tot Flip-In ...\"}, \"Medela Contact Nipple Shield, Small\": {\"frequency\": 20, \"value\": \"Medela Contact ...\"}, \"Munchkin Steam Guard Microwave Sterilizer\": {\"frequency\": 22, \"value\": \"Munchkin Steam ...\"}, \"Infantino Breathe Vented Carrier, Grey\": {\"frequency\": 36, \"value\": \"Infantino Breathe ...\"}, \"Sunshine Kids New Radian 80 Convertible Car Seat - SuperCool\": {\"frequency\": 19, \"value\": \"Sunshine Kids New ...\"}, \"American Baby Company 100% Cotton Value Jersey Knit Cradle Sheet, Blue\": {\"frequency\": 19, \"value\": \"American Baby ...\"}, \"Boon Grass Countertop Drying Rack, Green\": {\"frequency\": 124, \"value\": \"Boon Grass ...\"}, \"Evenflo 3 Pack Classic Glass Bottle, 4-Ounce\": {\"frequency\": 36, \"value\": \"Evenflo 3 Pack ...\"}, \"See Me Smile Infant Mirror Tan Bear\": {\"frequency\": 23, \"value\": \"See Me Smile ...\"}, \"Playtex Sip Ease Replacement Valve - 2 Pk\": {\"frequency\": 23, \"value\": \"Playtex Sip Ease ...\"}, \"Earlyears Lil Shopper Play Set\": {\"frequency\": 54, \"value\": \"Earlyears Lil ...\"}, \"Tiny Love Sweet Island Dreams Mobile\": {\"frequency\": 93, \"value\": \"Tiny Love Sweet ...\"}, \"Fisher-Price Ducky Fun 3-in-1 Potty\": {\"frequency\": 20, \"value\": \"Fisher-Price Ducky ...\"}, \"Bummis Super Brite Diaper Cover, Pink, 8-16 Pounds\": {\"frequency\": 23, \"value\": \"Bummis Super Brite ...\"}, \"The First Years Wave Stroller, Crimson Red\": {\"frequency\": 23, \"value\": \"The First Years ...\"}, \"Philips AVENT Isis iQ Duo Twin Electronic Breast Pump\": {\"frequency\": 24, \"value\": \"Philips AVENT Isis ...\"}, \"Dwinguler Eco-friendly Kids Play Mat - Safari Tour (Large)\": {\"frequency\": 25, \"value\": \"Dwinguler Eco- ...\"}, \"Bright Starts Comfort and Harmony Portable Swing, Florabella\": {\"frequency\": 57, \"value\": \"Bright Starts ...\"}, \"ERGObaby Organic Baby Carrier, Desert Bloom\": {\"frequency\": 48, \"value\": \"ERGObaby Organic ...\"}, \"Hudson Baby Plush Blanket with Satin Trim and Backing\": {\"frequency\": 35, \"value\": \"Hudson Baby Plush ...\"}, \"Infantino Twist and Fold Gym, Baby Animals\": {\"frequency\": 19, \"value\": \"Infantino Twist ...\"}, \"Britax Boulevard 70-G3 Convertible Car Seat Seat, Onyx\": {\"frequency\": 76, \"value\": \"Britax Boulevard ...\"}, \"Playtex Diaper Genie - First Refill Included\": {\"frequency\": 88, \"value\": \"Playtex Diaper ...\"}, \"Munchkin Bobble Bee Suction Toy\": {\"frequency\": 22, \"value\": \"Munchkin Bobble ...\"}, \"Safety 1st High-Def Digital Video Monitor\": {\"frequency\": 18, \"value\": \"Safety 1st High- ...\"}, \"North States Supergate Pressure Mount Clear Choice Wood Gate\": {\"frequency\": 40, \"value\": \"North States ...\"}, \"Basic Comfort Contoured Changing Pad by Summer Infant\": {\"frequency\": 20, \"value\": \"Basic Comfort ...\"}, \"Prince Lionheart 2 Count Faucet Extender, Gray/Pink\": {\"frequency\": 26, \"value\": \"Prince Lionheart 2 ...\"}, \"Gerber Plastic Pants, 18 Months, Fits 24-28 lbs. (4 pairs)\": {\"frequency\": 29, \"value\": \"Gerber Plastic ...\"}, \"American Baby Company 100% Cotton Percale Ruffle Crib Skirt, Celery\": {\"frequency\": 28, \"value\": \"American Baby ...\"}, \"Cosco Juvenile Funsport Play Yard, Kontiki\": {\"frequency\": 37, \"value\": \"Cosco Juvenile ...\"}, \"Graco Classic Ride 50 Convertible Car Seat, Boyton\": {\"frequency\": 25, \"value\": \"Graco Classic Ride ...\"}, \"Graco Pack 'n Play Element Playard, Metropolis\": {\"frequency\": 26, \"value\": \"Graco Pack 'n Play ...\"}, \"Mumi&amp;Bubi Solids Starter Kit, 42 x 1oz Cubes In Two Compact Baby Food Freezer Storage Trays, Plus Free e-Recipes\": {\"frequency\": 69, \"value\": \"Mumi&amp;Bubi ...\"}, \"The Shrunks Sleep Secure Inflatable Bed Rail\": {\"frequency\": 18, \"value\": \"The Shrunks Sleep ...\"}, \"Britax Marathon in Ashley Floral\": {\"frequency\": 19, \"value\": \"Britax Marathon in ...\"}, \"Baby Safe Ink Print Kit - Basic\": {\"frequency\": 29, \"value\": \"Baby Safe Ink ...\"}, \"Evenflo Portable BabySuite 300, Marianna\": {\"frequency\": 35, \"value\": \"Evenflo Portable ...\"}, \"Playtex 3 Pack VentAire Standard Bottles, 9 Ounce (Colors may vary)\": {\"frequency\": 98, \"value\": \"Playtex 3 Pack ...\"}, \"BabySmart Cooshee Booster Seat Classicwith Travel Bag, Onyx\": {\"frequency\": 33, \"value\": \"BabySmart Cooshee ...\"}, \"make my day Silicone Baby Bib, Purple\": {\"frequency\": 30, \"value\": \"make my day ...\"}, \"BOB Infant Car Seat Adapter For Single Strollers\": {\"frequency\": 27, \"value\": \"BOB Infant Car ...\"}, \"Fisher-Price Zen Collection High Chair\": {\"frequency\": 23, \"value\": \"Fisher-Price Zen ...\"}, \"Turtlemeter, the Baby Bath Floating Turtle Toy and Bath Tub Thermometer\": {\"frequency\": 81, \"value\": \"Turtlemeter, the ...\"}, \"Infantino Merry Monkey Gym\": {\"frequency\": 24, \"value\": \"Infantino Merry ...\"}, \"Jeep Protective Floor Mat\": {\"frequency\": 28, \"value\": \"Jeep Protective ...\"}, \"Graco Highback TurboBooster Car Seat, Spitfire\": {\"frequency\": 118, \"value\": \"Graco Highback ...\"}, \"Vital Baby Toddler Straw Cup, Orange, 10 Ounce\": {\"frequency\": 38, \"value\": \"Vital Baby Toddler ...\"}, \"Joovy Cool Essentials Parent Organizer\": {\"frequency\": 19, \"value\": \"Joovy Cool ...\"}, \"Lifefactory 2 Pack Multi Sensory Silicone Teether, Sky/Spring Green\": {\"frequency\": 72, \"value\": \"Lifefactory 2 Pack ...\"}, \"Gerber Birdseye 10 Count 3-Ply Prefold Cloth Diapers, White\": {\"frequency\": 25, \"value\": \"Gerber Birdseye 10 ...\"}, \"Playtex Baby Drop-Ins Premium Nurser Bottle Feeding Set\": {\"frequency\": 52, \"value\": \"Playtex Baby Drop- ...\"}, \"The Art of CureTM *SAFETY KNOTTED* Honey 1x1 - Certified Baltic Amber Baby Teething Necklace - w/The Art of CureTM Jewelry Pouch (SHIPS AND SOLD IN THE USA)\": {\"frequency\": 25, \"value\": \"The Art of CureTM ...\"}, \"Graco Ipo Stroller, Spitfire\": {\"frequency\": 34, \"value\": \"Graco Ipo ...\"}, \"Medela Pump in Style Advanced Backpack\": {\"frequency\": 58, \"value\": \"Medela Pump in ...\"}, \"DadGear Backpack Diaper Bag - Red Retro Stripe\": {\"frequency\": 40, \"value\": \"DadGear Backpack ...\"}, \"Jolly Jumper Arctic Sneak A Peek Infant Car Seat Cover Black\": {\"frequency\": 27, \"value\": \"Jolly Jumper ...\"}, \"KidCo Outlet Plug Cover\": {\"frequency\": 41, \"value\": \"KidCo Outlet Plug ...\"}, \"Dream On Me 3&quot; Foam Playard Mattress, White\": {\"frequency\": 21, \"value\": \"Dream On Me ...\"}, \"Neat Solutions Neat-Ware Table Topper, 60-Count\": {\"frequency\": 34, \"value\": \"Neat Solutions ...\"}, \"JJ Cole Bundleme Lite, Pink, Infant\": {\"frequency\": 17, \"value\": \"JJ Cole Bundleme ...\"}, \"Ju-Ju-Be Be Prepared Diaper Bag, Black/Silver\": {\"frequency\": 26, \"value\": \"Ju-Ju-Be Be ...\"}, \"Evenflo Exersaucer Mega Circus\": {\"frequency\": 32, \"value\": \"Evenflo Exersaucer ...\"}, \"OsoCozy Better Fit Unbleached Prefolds (Infant 4x8x4 Fits 6-16 lbs.) - Dozen\": {\"frequency\": 27, \"value\": \"OsoCozy Better Fit ...\"}, \"BreathableBaby Breathable Mesh Crib Liner, White\": {\"frequency\": 212, \"value\": \"BreathableBaby ...\"}, \"Avent Isis Manual Breast Pump\": {\"frequency\": 112, \"value\": \"Avent Isis Manual ...\"}, \"OXO Perfect Pull Wipes Dispenser, Pink\": {\"frequency\": 98, \"value\": \"OXO Perfect Pull ...\"}, \"25 mm One-Piece Breastshield w/ Valve and Membrane for Medela Breast Pumps; Set of 2; Made by Maymom\": {\"frequency\": 16, \"value\": \"25 mm One-Piece ...\"}, \"Graco Baby Einstein Discover and Play Entertainer\": {\"frequency\": 76, \"value\": \"Graco Baby ...\"}, \"Fisher Price - Aquarium Take-along Swing\": {\"frequency\": 32, \"value\": \"Fisher Price - ...\"}, \"Sealy Soybean Foam-Core Crib Mattress\": {\"frequency\": 52, \"value\": \"Sealy Soybean ...\"}, \"Under the Sea Tropical Fish Nursery/Kids Room Wall Art Sticker Decals\": {\"frequency\": 30, \"value\": \"Under the Sea ...\"}, \"Evenflo Triumph 65 DLX Seat, Lincoln\": {\"frequency\": 23, \"value\": \"Evenflo Triumph 65 ...\"}, \"Philips Avent BPA Free Classic Bottle to First Cup Trainer, 4+ Months, Clear\": {\"frequency\": 26, \"value\": \"Philips Avent BPA ...\"}, \"Graco Backless TurboBooster Seat, Galaxy\": {\"frequency\": 75, \"value\": \"Graco Backless ...\"}, \"Traffic Light Lamp\": {\"frequency\": 22, \"value\": \"Traffic Light Lamp\"}, \"TotShield Stove Guard for Free Standing Gas and Electric Stove\": {\"frequency\": 28, \"value\": \"TotShield Stove ...\"}, \"Mimijumi 8 Ounce Baby Bottle, Very Hungry\": {\"frequency\": 38, \"value\": \"Mimijumi 8 Ounce ...\"}, \"The First Years Compass B540 Booster Seat, Abstract O's\": {\"frequency\": 71, \"value\": \"The First Years ...\"}, \"Fisher-Price Cheer for Me Potty\": {\"frequency\": 30, \"value\": \"Fisher-Price Cheer ...\"}, \"Earlyears Roll n Swirl Ball Ramp\": {\"frequency\": 68, \"value\": \"Earlyears Roll n ...\"}, \"Baby Trend Single Snap N' Go Stroller\": {\"frequency\": 19, \"value\": \"Baby Trend Single ...\"}, \"Vulli Sophie the Giraffe Teether Set of 2\": {\"frequency\": 45, \"value\": \"Vulli Sophie the ...\"}, \"Medela Freestyle Breast Pump\": {\"frequency\": 74, \"value\": \"Medela Freestyle ...\"}, \"Chicco KeyFit &amp; KeyFit30 Infant Car Seat Base - Anthracite\": {\"frequency\": 56, \"value\": \"Chicco KeyFit ...\"}, \"Skip Hop Zoo Little Kid Luggage, Dog\": {\"frequency\": 48, \"value\": \"Skip Hop Zoo ...\"}, \"Munchkin Bottle and Nipple Brush, Colors May Vary\": {\"frequency\": 54, \"value\": \"Munchkin Bottle ...\"}, \"Joovy Caboose Stand On Tandem Stroller, Black\": {\"frequency\": 113, \"value\": \"Joovy Caboose ...\"}, \"Chicco NextFit Convertible Car Seat, Mystique\": {\"frequency\": 62, \"value\": \"Chicco NextFit ...\"}, \"Fresh Baby So Easy Baby Food and Breast Milk Trays\": {\"frequency\": 88, \"value\": \"Fresh Baby So Easy ...\"}, \"NUK Hello Kitty Silicone Spout Learner Cup, 5 Ounce\": {\"frequency\": 18, \"value\": \"NUK Hello Kitty ...\"}, \"Bummis Swimmi Cloth Diapers, Turtles, Small (9-15 lbs)\": {\"frequency\": 30, \"value\": \"Bummis Swimmi ...\"}, \"Jeep Wrangler Twin Sport All-Weather Stroller, Heat\": {\"frequency\": 21, \"value\": \"Jeep Wrangler Twin ...\"}, \"Munchkin Lazy Buoys Bathtub Toys\": {\"frequency\": 21, \"value\": \"Munchkin Lazy ...\"}, \"Fisher-Price Discover 'n Grow Jumperoo\": {\"frequency\": 33, \"value\": \"Fisher-Price ...\"}, \"Safety 1st 2 Pack Custom Fit All Purpose Strap\": {\"frequency\": 95, \"value\": \"Safety 1st 2 Pack ...\"}, \"Dream On Me 3&quot; Rounded Corner Playard Mattress, White/Brown\": {\"frequency\": 35, \"value\": \"Dream On Me ...\"}, \"Philips AVENT BPA Free Single Electric Breast Pump\": {\"frequency\": 24, \"value\": \"Philips AVENT BPA ...\"}, \"Angel Dear Blankie, Green Frog\": {\"frequency\": 123, \"value\": \"Angel Dear ...\"}, \"Britax Roundabout 55 Convertible Car Seat, Isabella\": {\"frequency\": 75, \"value\": \"Britax Roundabout ...\"}, \"Athena Nadia 3 in 1 Crib with Toddler Rail, Cherry\": {\"frequency\": 22, \"value\": \"Athena Nadia 3 in ...\"}, \"BABYBJORN Toilet Trainer - White/Red\": {\"frequency\": 139, \"value\": \"BABYBJORN Toilet ...\"}, \"Bright Starts Petals and Friends Activity Gym\": {\"frequency\": 31, \"value\": \"Bright Starts ...\"}, \"Summer Infant Rayshade Stroller Cover\": {\"frequency\": 27, \"value\": \"Summer Infant ...\"}, \"Bamboobies 2 Pair Ultra-Thin Regular Nursing Pads, Pale Pink\": {\"frequency\": 78, \"value\": \"Bamboobies 2 Pair ...\"}, \"Jeep Deluxe Stroller Weather Shield\": {\"frequency\": 27, \"value\": \"Jeep Deluxe ...\"}, \"Luvable Friends Infant Pillow Case, Traditional Blue Print\": {\"frequency\": 23, \"value\": \"Luvable Friends ...\"}, \"Graco Sweet Slumber Sound Machine, White\": {\"frequency\": 109, \"value\": \"Graco Sweet ...\"}, \"Similac SimplySmart Starter Set\": {\"frequency\": 19, \"value\": \"Similac ...\"}, \"Snuza Portable Baby Movement Monitor\": {\"frequency\": 57, \"value\": \"Snuza Portable ...\"}, \"Graco FastAction Fold Jogger Click Connect Stroller, Grapeade\": {\"frequency\": 32, \"value\": \"Graco FastAction ...\"}, \"Aquatopia Deluxe Safety Bath Thermometer Alarm, Green\": {\"frequency\": 62, \"value\": \"Aquatopia Deluxe ...\"}, \"Delta Portable Mini Crib, Cherry\": {\"frequency\": 24, \"value\": \"Delta Portable ...\"}, \"Similac SimplySmart Bottle, 4 Ounce\": {\"frequency\": 36, \"value\": \"Similac ...\"}, \"Aden + Anais Issie Security Blanket Set Declan Elephants\": {\"frequency\": 23, \"value\": \"Aden + Anais Issie ...\"}, \"Fisher-Price Portable Rocker, Newborn-to-Toddler\": {\"frequency\": 66, \"value\": \"Fisher-Price ...\"}, \"Kick Mats - Deluxe Car Seat Back Protectors 2 Pack - Keep Your Car Seats 100% Clean From All The Stains And Scuffmarks Left By The Kids With These Auto-Protective Seat Covers - Designed For Most Vehicles - Protect Your Investment - Lifetime Guarantee\": {\"frequency\": 91, \"value\": \"Kick Mats - Deluxe ...\"}, \"RECARO ProBOOSTER High Back Booster Car Seat, Riley\": {\"frequency\": 23, \"value\": \"RECARO ProBOOSTER ...\"}, \"DaVinci Alpha Mini Rocking Crib - Natural\": {\"frequency\": 34, \"value\": \"DaVinci Alpha Mini ...\"}, \"Jeep Jogging Stroller Weather Shield\": {\"frequency\": 26, \"value\": \"Jeep Jogging ...\"}, \"BABYBJORN Baby Carrier Active, White, Mesh\": {\"frequency\": 34, \"value\": \"BABYBJORN Baby ...\"}, \"Dream On Me Classic Toddler Bed, Cherry\": {\"frequency\": 44, \"value\": \"Dream On Me ...\"}, \"Graco LiteRider Classic Connect Stroller, Pasadena\": {\"frequency\": 41, \"value\": \"Graco LiteRider ...\"}, \"Combi All in One Activity Walker, Pink\": {\"frequency\": 62, \"value\": \"Combi All in One ...\"}, \"The First Years Lanolin Free Nipple Butter, 2 Ounce\": {\"frequency\": 18, \"value\": \"The First Years ...\"}, \"Fisher-Price Stride to Ride Walker\": {\"frequency\": 31, \"value\": \"Fisher-Price ...\"}, \"Comotomo Silicone Baby Teether, Blue\": {\"frequency\": 54, \"value\": \"Comotomo Silicone ...\"}, \"Dream On Me, 3 in 1 Portable Convertible Crib, Cherry\": {\"frequency\": 23, \"value\": \"Dream On Me, 3 in ...\"}, \"Skip Hop Swipe Baby Wipes Case\": {\"frequency\": 38, \"value\": \"Skip Hop Swipe ...\"}, \"Philips AVENT Microwave Steam Sterilizer\": {\"frequency\": 24, \"value\": \"Philips AVENT ...\"}, \"PRIMO Folding Potty with Handles, White granite\": {\"frequency\": 99, \"value\": \"PRIMO Folding ...\"}, \"ULTRASCALE MBSC-55 Digital Baby Pet Scale\": {\"frequency\": 23, \"value\": \"ULTRASCALE MBSC-55 ...\"}, \"Sugar Booger Kiddie Play Back Pack, Prehistoric Pals\": {\"frequency\": 22, \"value\": \"Sugar Booger ...\"}, \"Jolly Jumper Bath Tub Toy Bag\": {\"frequency\": 54, \"value\": \"Jolly Jumper Bath ...\"}, \"MOBI Tykelight WallMate, Monkey\": {\"frequency\": 18, \"value\": \"MOBI Tykelight ...\"}, \"Fisher-Price Precious Planet Sky Blue High Chair\": {\"frequency\": 42, \"value\": \"Fisher-Price ...\"}, \"Graco Pack 'N Play Playard with Bassinet in Rise and Shine\": {\"frequency\": 199, \"value\": \"Graco Pack 'N Play ...\"}, \"Dappi Waterproof 100% Vinyl Diaper Pants, 3Pack, White, Newborn\": {\"frequency\": 53, \"value\": \"Dappi Waterproof ...\"}, \"Zoli Baby On-the-Go Snack/Formula Dispsenser - 2 oz\": {\"frequency\": 24, \"value\": \"Zoli Baby On-the- ...\"}, \"QuickZip Crib Sheet Set, White\": {\"frequency\": 19, \"value\": \"QuickZip Crib ...\"}, \"Carters Velour Playard Fitted Sheet, Ecru\": {\"frequency\": 53, \"value\": \"Carters Velour ...\"}, \"The First Years Spinning Drying Rack, White\": {\"frequency\": 136, \"value\": \"The First Years ...\"}, \"Prince Lionheart Premium Wipe Warmer\": {\"frequency\": 32, \"value\": \"Prince Lionheart ...\"}, \"Star Kids Snack and Play Travel Tray\": {\"frequency\": 116, \"value\": \"Star Kids Snack ...\"}, \"The First Years: Clear and Near 2.4 GHz Monitor\": {\"frequency\": 20, \"value\": \"The First Years: ...\"}, \"Chicco Keyfit Caddy Stroller Frame\": {\"frequency\": 38, \"value\": \"Chicco Keyfit ...\"}, \"Skip Hop Via Messenger Diaper Bag Black\": {\"frequency\": 21, \"value\": \"Skip Hop Via ...\"}, \"Medela Calma Breastmilk Feeding Nipple\": {\"frequency\": 18, \"value\": \"Medela Calma ...\"}, \"The First Years Everywhere Gate\": {\"frequency\": 56, \"value\": \"The First Years ...\"}, \"Boppy Pillow with Luxe Slipcover, Monkey\": {\"frequency\": 19, \"value\": \"Boppy Pillow with ...\"}, \"Munchkin 2 Pack Silicone Spoons, Colors May Vary\": {\"frequency\": 18, \"value\": \"Munchkin 2 Pack ...\"}, \"Wimmer Ferguson Wimmer Infant Stim Mobile To Go\": {\"frequency\": 29, \"value\": \"Wimmer Ferguson ...\"}, \"Snugli Front and Backpack Carrier\": {\"frequency\": 22, \"value\": \"Snugli Front and ...\"}, \"Prince Lionheart Warmies Wipes Warmer\": {\"frequency\": 30, \"value\": \"Prince Lionheart ...\"}, \"Zo-li Bot Straw Sippy Cup 6oz\": {\"frequency\": 152, \"value\": \"Zo-li Bot Straw ...\"}, \"Learning Curve True Fit Convertible Car Seat, Pink Butterfly\": {\"frequency\": 28, \"value\": \"Learning Curve ...\"}, \"Rumparooz Cloth Diaper Cover, White Snap\": {\"frequency\": 23, \"value\": \"Rumparooz Cloth ...\"}, \"Infantino Squeeze Pouches, 50-Count\": {\"frequency\": 23, \"value\": \"Infantino Squeeze ...\"}, \"KidCo Convertible Crib Bed Rail Finish: Natural\": {\"frequency\": 13, \"value\": \"KidCo Convertible ...\"}, \"OXO Tot Bottle Brush with Nipple Cleaner and Stand, Green\": {\"frequency\": 137, \"value\": \"OXO Tot Bottle ...\"}, \"Skip Hop Moby Bath Kneeler, Blue\": {\"frequency\": 23, \"value\": \"Skip Hop Moby Bath ...\"}, \"The First Years - Crib CD Player\": {\"frequency\": 39, \"value\": \"The First Years - ...\"}, \"OXO Tot Straw Cup, Aqua, 11 Ounce\": {\"frequency\": 36, \"value\": \"OXO Tot Straw Cup, ...\"}, \"BubbleBum Inflatable Car Booster Seat\": {\"frequency\": 79, \"value\": \"BubbleBum ...\"}, \"The First Years 2 Pack GumDrop Infant Pacifier, Blue/Green\": {\"frequency\": 19, \"value\": \"The First Years 2 ...\"}, \"Xpress Trainer Pro-All In One-Real Simple Potty Training Round/Standard Family Toilet Seat\": {\"frequency\": 22, \"value\": \"Xpress Trainer ...\"}, \"Summer Infant 3D lite Convenience Stroller, Black\": {\"frequency\": 28, \"value\": \"Summer Infant 3D ...\"}, \"Dr. Brown's BPA Free Polypropylene Natural Flow Standard Neck Bottle, 4 oz - 3-Pack\": {\"frequency\": 26, \"value\": \"Dr. Brown's BPA ...\"}, \"Arm's Reach Co-Sleeper Bassinet Leg Extension Kit, Natural\": {\"frequency\": 24, \"value\": \"Arm's Reach Co- ...\"}, \"Munchkin High Speed Bottle and Food Warmer with Pacifier Cleaning Basket\": {\"frequency\": 30, \"value\": \"Munchkin High ...\"}, \"KidCo Bath Toy Organizer Storage Basket\": {\"frequency\": 81, \"value\": \"KidCo Bath Toy ...\"}, \"Munchkin Sesame Street Toddler Fork and Spoon, Elmo\": {\"frequency\": 54, \"value\": \"Munchkin Sesame ...\"}, \"900 MHz Home Connection Monitor\": {\"frequency\": 27, \"value\": \"900 MHz Home ...\"}, \"Fisher-Price Rainforest Jumperoo\": {\"frequency\": 450, \"value\": \"Fisher-Price ...\"}, \"Lamaze Play &amp; Grow Rusty the Robot Take Along Toy\": {\"frequency\": 26, \"value\": \"Lamaze Play &amp; ...\"}, \"aden + anais Classic Muslin Swaddle Blanket 4 Pack, Blue and White (Previous Model)\": {\"frequency\": 20, \"value\": \"aden + anais ...\"}, \"Arm &amp; Hammer Secure Comfort Potty Seat, Colors May Vary\": {\"frequency\": 80, \"value\": \"Arm &amp; Hammer ...\"}, \"BabyKicks 3 Pack Joey-Bunz Premium, Small\": {\"frequency\": 19, \"value\": \"BabyKicks 3 Pack ...\"}, \"Munchkin Powdered Formula Dispenser, Colors May Vary\": {\"frequency\": 7, \"value\": \"Munchkin Powdered ...\"}, \"Tiny Love Gymini Move and Play Activity Gym, Animals\": {\"frequency\": 36, \"value\": \"Tiny Love Gymini ...\"}, \"Safety 1st 900 Mhz Sight And Sound Nursery Monitor System\": {\"frequency\": 39, \"value\": \"Safety 1st 900 Mhz ...\"}, \"Sassy Developmental Bath Toy, Catch and Count Net\": {\"frequency\": 29, \"value\": \"Sassy ...\"}, \"Fisher-Price Coco Sorbet Soothing Motions Glider\": {\"frequency\": 51, \"value\": \"Fisher-Price Coco ...\"}, \"Witch Hazel Distillate (Alcohol Free) 8 Ounces\": {\"frequency\": 22, \"value\": \"Witch Hazel ...\"}, \"Evenflo Journey 300 Stroller with Embrace 35 Car Seat, Koi\": {\"frequency\": 31, \"value\": \"Evenflo Journey ...\"}, \"American Baby Company 100% Organic Cotton Interlock Fitted Pack N Play Sheet, Natural\": {\"frequency\": 86, \"value\": \"American Baby ...\"}, \"Disney Soft Potty and Step Stool Combo Set, Pixar Cars\": {\"frequency\": 22, \"value\": \"Disney Soft Potty ...\"}, \"Dr. Brown's Natural Flow Cleaning Brush, 4 Pack\": {\"frequency\": 60, \"value\": \"Dr. Brown's ...\"}, \"FitBALL Seating Disc 15&quot; Iridescent Blue (Poly Bag)\": {\"frequency\": 19, \"value\": \"FitBALL Seating ...\"}, \"Badger Basket Baby Changing Table with Six Baskets, Black\": {\"frequency\": 40, \"value\": \"Badger Basket Baby ...\"}, \"Ikea Baby Bib Set with Sleaves-kladd Prickar\": {\"frequency\": 23, \"value\": \"Ikea Baby Bib Set ...\"}, \"Playtex Premium Nurser Newborn Gift Set\": {\"frequency\": 40, \"value\": \"Playtex Premium ...\"}, \"Comotomo 2 Pack Silicone Replacement Nipple, Clear, Variable Flow\": {\"frequency\": 18, \"value\": \"Comotomo 2 Pack ...\"}, \"Prince Lionheart bebePOD Flex Baby Seat, Mint\": {\"frequency\": 26, \"value\": \"Prince Lionheart ...\"}, \"Mary Meyer Wubbanub Plush Pacifier, Cutsie Caterpillar\": {\"frequency\": 123, \"value\": \"Mary Meyer ...\"}, \"Disney Cars Folding Potty Seat\": {\"frequency\": 19, \"value\": \"Disney Cars ...\"}, \"Fisher-Price Deluxe Newborn Rock 'N Play Sleeper, My Little Sweetie\": {\"frequency\": 23, \"value\": \"Fisher-Price ...\"}, \"Bright Starts Ingenuity Automatic Bouncer, Bella Vista\": {\"frequency\": 19, \"value\": \"Bright Starts ...\"}, \"4Moms Mamaroo Infant Seat, Orange\": {\"frequency\": 38, \"value\": \"4Moms Mamaroo ...\"}, \"Nuby 2 Count 2 Handle Cup with No Spill Super Spout, Colors May Vary\": {\"frequency\": 24, \"value\": \"Nuby 2 Count 2 ...\"}, \"Mary Meyer Christening Plush Rattle, Lamb\": {\"frequency\": 19, \"value\": \"Mary Meyer ...\"}, \"Chicco Lil Piano Splash Walker\": {\"frequency\": 33, \"value\": \"Chicco Lil Piano ...\"}, \"OXO Tot Plate, Green\": {\"frequency\": 19, \"value\": \"OXO Tot Plate, ...\"}, \"Summer Infant Custom Fit Walk-Thru Gate, Tan\": {\"frequency\": 22, \"value\": \"Summer Infant ...\"}, \"Prince Lionheart pottyPOD, Blue\": {\"frequency\": 22, \"value\": \"Prince Lionheart ...\"}, \"Hello Kitty diecut face shape Area Rug 30 X 25 inches\": {\"frequency\": 27, \"value\": \"Hello Kitty diecut ...\"}, \"Munchkin 6 Pack Soft-Tip Infant Spoon\": {\"frequency\": 169, \"value\": \"Munchkin 6 Pack ...\"}, \"Nojo Toddler Satin Pillow\": {\"frequency\": 22, \"value\": \"Nojo Toddler Satin ...\"}, \"Diono RadianR100 Convertible Car Seat, Dune\": {\"frequency\": 55, \"value\": \"Diono RadianR100 ...\"}, \"Evenflo Snugli Front &amp; Back Pack Carrier\": {\"frequency\": 19, \"value\": \"Evenflo Snugli ...\"}, \"BabyHawk Mei Tai Baby Carrier, Black/Lime Motifs\": {\"frequency\": 22, \"value\": \"BabyHawk Mei Tai ...\"}, \"Prince Lionheart Seat Neat, Black/Grey\": {\"frequency\": 19, \"value\": \"Prince Lionheart ...\"}, \"Lansinoh Soothies Gel Pads, 2 Count\": {\"frequency\": 25, \"value\": \"Lansinoh Soothies ...\"}, \"Chicco Cortina Keyfit 30 Travel System, Miro\": {\"frequency\": 23, \"value\": \"Chicco Cortina ...\"}, \"BABYBJORN Potty Chair - Red\": {\"frequency\": 232, \"value\": \"BABYBJORN Potty ...\"}, \"Baby Buddy Secure-A-Toy, Navy/Red\": {\"frequency\": 135, \"value\": \"Baby Buddy ...\"}, \"DEX Products Grab N Go Bottle Warmer BWC-01\": {\"frequency\": 19, \"value\": \"DEX Products Grab ...\"}, \"Kidkusion Hearth Kushion Taupe\": {\"frequency\": 32, \"value\": \"Kidkusion Hearth ...\"}, \"Fisher-Price Ocean Wonders Bath Center - Aquarium\": {\"frequency\": 50, \"value\": \"Fisher-Price Ocean ...\"}, \"dexbaby Safe Sleeper Convertible Crib Bed Rail, White\": {\"frequency\": 63, \"value\": \"dexbaby Safe ...\"}, \"Fisher-Price Precious Planet Kick and Play Piano\": {\"frequency\": 41, \"value\": \"Fisher-Price ...\"}, \"Parent Units Fridge Guard, White\": {\"frequency\": 34, \"value\": \"Parent Units ...\"}, \"Sensible Lines Milk Trays\": {\"frequency\": 18, \"value\": \"Sensible Lines ...\"}, \"Britax Second Seat for B-Ready Stroller, Red\": {\"frequency\": 18, \"value\": \"Britax Second Seat ...\"}, \"WallStickersUSA Contemporary Wall Sticker Decal, Tree Branches, Leaves, Lovebirds, and Hearts, X-Large\": {\"frequency\": 21, \"value\": \"WallStickersUSA ...\"}, \"Stork Craft Hoop Glider, Espresso/Beige\": {\"frequency\": 18, \"value\": \"Stork Craft Hoop ...\"}, \"Peter Potty Toddler Urinal\": {\"frequency\": 28, \"value\": \"Peter Potty ...\"}, \"Chicco Lullaby LX Playard, Adventure\": {\"frequency\": 32, \"value\": \"Chicco Lullaby LX ...\"}, \"Evenflo Big Kid Booster Car Seat - Silver Birch\": {\"frequency\": 22, \"value\": \"Evenflo Big Kid ...\"}, \"Dreambaby Extra Tall Swing Closed Security Gate, Black\": {\"frequency\": 21, \"value\": \"Dreambaby Extra ...\"}, \"Pearhead Babyprints Photo Frame\": {\"frequency\": 32, \"value\": \"Pearhead ...\"}, \"SOHO Designs Baby Walker - Learn how to walk assistant\": {\"frequency\": 21, \"value\": \"SOHO Designs Baby ...\"}, \"Playtex TrainingTime Soft Spout Cup, 6 Ounce, 2 Pack, Color May Vary\": {\"frequency\": 62, \"value\": \"Playtex ...\"}, \"Prince Lionheart Table Edge Guard with 4 Corners, Grey\": {\"frequency\": 84, \"value\": \"Prince Lionheart ...\"}, \"Kolcraft Pure Sleep Therapeutic 150 Crib Mattress\": {\"frequency\": 30, \"value\": \"Kolcraft Pure ...\"}, \"Graco TotBloc Pack 'N Play with Carry Bag, Bugs Quilt\": {\"frequency\": 139, \"value\": \"Graco TotBloc Pack ...\"}, \"Philips AVENT BPA Free Bottle Brush, Blue\": {\"frequency\": 52, \"value\": \"Philips AVENT BPA ...\"}, \"Constructive Eating 3 Piece Construction Worksite Utensil Set\": {\"frequency\": 37, \"value\": \"Constructive ...\"}, \"Boppy Pillow with Brocade Slipcover, Black and White\": {\"frequency\": 71, \"value\": \"Boppy Pillow with ...\"}, \"Chicco Smart Support Backpack, Red\": {\"frequency\": 38, \"value\": \"Chicco Smart ...\"}, \"Baby Care Play Mat - Pingko Friends (Large)\": {\"frequency\": 87, \"value\": \"Baby Care Play Mat ...\"}, \"NUK Disney Winnie the Pooh 10 Ounces Active Cup Silicone Spout, 12+ Months\": {\"frequency\": 32, \"value\": \"NUK Disney Winnie ...\"}, \"Summer Infant Swaddleme MicroFleece Adjustable Infant Wrap, Blue, Small/Medium\": {\"frequency\": 65, \"value\": \"Summer Infant ...\"}, \"Evenflo Amp Performance No Back Booster Car Seat, Green\": {\"frequency\": 24, \"value\": \"Evenflo Amp ...\"}, \"Graco SnugRide Classic Connect Infant Car Seat Base, Tan\": {\"frequency\": 19, \"value\": \"Graco SnugRide ...\"}, \"Fisher-Price Luv U Zoo Jumperoo\": {\"frequency\": 88, \"value\": \"Fisher-Price Luv U ...\"}, \"BRICA Seat Guardian Car Seat Protector\": {\"frequency\": 42, \"value\": \"BRICA Seat ...\"}, \"Dr. Brown's Drying Rack\": {\"frequency\": 22, \"value\": \"Dr. Brown's Drying ...\"}, \"Fisher-Price Precious Planet  Blue Sky Jumperoo\": {\"frequency\": 37, \"value\": \"Fisher-Price ...\"}, \"Dreambaby Extra Tall Swing Close Gate with Extensions, White\": {\"frequency\": 83, \"value\": \"Dreambaby Extra ...\"}, \"Graco Stanton Convertible Crib, Classic Cherry\": {\"frequency\": 24, \"value\": \"Graco Stanton ...\"}, \"Safety 1st Magnetic Locking System\": {\"frequency\": 22, \"value\": \"Safety 1st ...\"}, \"Summer Infant SwaddlePod, Ivory, Newborn\": {\"frequency\": 25, \"value\": \"Summer Infant ...\"}, \"Britax 2 Pack EZ-Cling Sun Shades, Black\": {\"frequency\": 173, \"value\": \"Britax 2 Pack EZ- ...\"}, \"Peace of Mind Two 900 Mhz Baby Receivers, Monitor\": {\"frequency\": 32, \"value\": \"Peace of Mind Two ...\"}, \"My Pool Pal Reusable Swim Diaper, Pink, 2T\": {\"frequency\": 21, \"value\": \"My Pool Pal ...\"}, \"Britax Roundabout 55 Convertible Car Seat, Silverlake\": {\"frequency\": 22, \"value\": \"Britax Roundabout ...\"}, \"Mommy's Helper Cushie Traveler\": {\"frequency\": 50, \"value\": \"Mommy's Helper ...\"}, \"Stroller Hook Clips - Luxury Stroller Hook Clips For Bags Or Diaper Bags - Guaranteed To Last, Won't Break Like The Cheaper Plastic Ones - Carabiner Stroller Hook Clip Locks For Added Security Keeping Your Valuables Safe At All Times - Protect Your Investment - These Stroller Hook Clips Come With a Lifetime NO-Hassle Free Replacement Guarantee!\": {\"frequency\": 18, \"value\": \"Stroller Hook ...\"}, \"Dream On Me 3&quot; Extra Firm Portable Crib Mattress, White\": {\"frequency\": 33, \"value\": \"Dream On Me ...\"}, \"Sesame's Elmo Bath Mat 'splish Splash'\": {\"frequency\": 25, \"value\": \"Sesame's Elmo Bath ...\"}, \"Britax Back Seat Mirror\": {\"frequency\": 121, \"value\": \"Britax Back Seat ...\"}, \"Tiny Love Soothe 'n Groove Mobile, Blue\": {\"frequency\": 26, \"value\": \"Tiny Love Soothe ...\"}, \"Graco Pack 'n Play Playard with Newborn Napper Station DLX, Jacqueline\": {\"frequency\": 34, \"value\": \"Graco Pack 'n Play ...\"}, \"SoHo Pink with Black &amp; White Zebra Chenille Crib Nursery Bedding 10 pcs Set\": {\"frequency\": 19, \"value\": \"SoHo Pink with ...\"}, \"Puj Flyte - Compact Infant Bath (White)\": {\"frequency\": 25, \"value\": \"Puj Flyte - ...\"}, \"Munchkin Arm and Hammer Nursery Fresheners, 5 Pack, Lavender or Citrus\": {\"frequency\": 72, \"value\": \"Munchkin Arm and ...\"}, \"NoJo 2 Pack Dot Changing Table Cover - Ivory withSnow Dots\": {\"frequency\": 21, \"value\": \"NoJo 2 Pack Dot ...\"}, \"New Boba Wrap in Red with Matching Carrying Pouch : Infant Baby Carrier : Preemie - 18months (Previously Sleepy Wrap)\": {\"frequency\": 70, \"value\": \"New Boba Wrap in ...\"}, \"VTech Communications Safe &amp; Sound Digital Audio Monitor\": {\"frequency\": 233, \"value\": \"VTech ...\"}, \"Lamaze Musical Inchworm\": {\"frequency\": 68, \"value\": \"Lamaze Musical ...\"}, \"JJ Cole Car Seat Cover, Khaki\": {\"frequency\": 31, \"value\": \"JJ Cole Car Seat ...\"}, \"CTA Digital 2-in-1 iPotty with Activity Seat for iPad\": {\"frequency\": 57, \"value\": \"CTA Digital 2-in-1 ...\"}, \"Dundee Burp Cloths/Diapers - White\": {\"frequency\": 26, \"value\": \"Dundee Burp ...\"}, \"Graco Blossom 4-In-1 Seating System, Sapphire\": {\"frequency\": 80, \"value\": \"Graco Blossom ...\"}, \"Thirsties Diaper Cover, Celery, X-Small (6-12 lbs)\": {\"frequency\": 63, \"value\": \"Thirsties Diaper ...\"}, \"Lamaze Octotunes Musical Toy\": {\"frequency\": 24, \"value\": \"Lamaze Octotunes ...\"}, \"UPPAbaby G-Luxe Stroller, Black Jake\": {\"frequency\": 25, \"value\": \"UPPAbaby G-Luxe ...\"}, \"Baby Bath Tub Ring Seat New in Box By KETER - Blue Best Price\": {\"frequency\": 46, \"value\": \"Baby Bath Tub Ring ...\"}, \"Child Airplane Travel Harness - Cares Safety Restraint System - The Only FAA Approved Child Flying Safety Device\": {\"frequency\": 109, \"value\": \"Child Airplane ...\"}, \"Regalo Extra Wide 58 Inch WideSpan Walk Through Safety Gate, White\": {\"frequency\": 86, \"value\": \"Regalo Extra Wide ...\"}, \"Comotomo Baby Bottle, Green/Pink, 5 Ounce, 2-Count\": {\"frequency\": 47, \"value\": \"Comotomo Baby ...\"}, \"BOB Single Snack Tray, Black\": {\"frequency\": 25, \"value\": \"BOB Single Snack ...\"}, \"Badger Basket Lightweight Three Drawer Hamper/Storage Unit, Brown Dot\": {\"frequency\": 19, \"value\": \"Badger Basket ...\"}, \"Imse Vimse Flushable Liner - 200 count (Baby)\": {\"frequency\": 27, \"value\": \"Imse Vimse ...\"}, \"JJ Cole Original Infant Bundleme, Apple, Infant\": {\"frequency\": 60, \"value\": \"JJ Cole Original ...\"}, \"BRICA Infant Comfort Canopy Car Seat Cover\": {\"frequency\": 25, \"value\": \"BRICA Infant ...\"}, \"Boppy Luxe - Clouds\": {\"frequency\": 31, \"value\": \"Boppy Luxe - ...\"}, \"Munchkin Sprout Drying Rack\": {\"frequency\": 61, \"value\": \"Munchkin Sprout ...\"}, \"DaVinci Kalani 4-in-1 Convertible Crib with Toddler Rail, Cherry\": {\"frequency\": 116, \"value\": \"DaVinci Kalani ...\"}, \"Medi-Rub Foot Massager 2000 Plus\": {\"frequency\": 19, \"value\": \"Medi-Rub Foot ...\"}, \"Podee Baby Feeding System\": {\"frequency\": 24, \"value\": \"Podee Baby Feeding ...\"}, \"Leachco Snoogle Total Body Pillow\": {\"frequency\": 388, \"value\": \"Leachco Snoogle ...\"}, \"Electronic Digital Caliper 6&quot; with Extra large LCD Display Screen with Carrying Case\": {\"frequency\": 31, \"value\": \"Electronic Digital ...\"}, \"Snoogle Chic Total Body Pillow\": {\"frequency\": 45, \"value\": \"Snoogle Chic Total ...\"}, \"Stairway Gate Installation Kit (K12) by KidCo\": {\"frequency\": 36, \"value\": \"Stairway Gate ...\"}, \"Summer Infant Baby Touch Digital Color Video Monitor\": {\"frequency\": 132, \"value\": \"Summer Infant Baby ...\"}, \"Bugaboo Cup Holder\": {\"frequency\": 19, \"value\": \"Bugaboo Cup Holder\"}, \"Aden by aden + anais Muslin Sleeping Bag, Oh Boy, Small\": {\"frequency\": 49, \"value\": \"Aden by aden + ...\"}, \"JJ Cole Collections Strap Cover in Pink\": {\"frequency\": 28, \"value\": \"JJ Cole ...\"}, \"Infantino Compact 2-in-1 Shopping Cart Cover\": {\"frequency\": 49, \"value\": \"Infantino Compact ...\"}, \"Fisher-Price Laugh and Learn Jumperoo\": {\"frequency\": 57, \"value\": \"Fisher-Price Laugh ...\"}, \"Carters Easy Fit Jersey Crib Fitted Sheet, Pink\": {\"frequency\": 49, \"value\": \"Carters Easy Fit ...\"}, \"Safety 1st Bath Toy Bag\": {\"frequency\": 53, \"value\": \"Safety 1st Bath ...\"}, \"Goodbyn Bynto Food Container, Red\": {\"frequency\": 22, \"value\": \"Goodbyn Bynto Food ...\"}, \"Regalo My Cot Portable Toddler Bed, Pink\": {\"frequency\": 61, \"value\": \"Regalo My Cot ...\"}, \"Britax Pavilion 70-G3 Convertible Car Seat Seat, Onyx\": {\"frequency\": 28, \"value\": \"Britax Pavilion ...\"}, \"Lamaze Freddie The Firefly Musical Mobile\": {\"frequency\": 18, \"value\": \"Lamaze Freddie The ...\"}, \"Philips AVENT iQ24 Steam Sterilizer\": {\"frequency\": 28, \"value\": \"Philips AVENT iQ24 ...\"}, \"Fisher-Price Musical Mobile, Rainforest Peek-a-Boo Leaves\": {\"frequency\": 106, \"value\": \"Fisher-Price ...\"}, \"Playtex Playtex VentAire Advanced Standard Bottle Gift Set\": {\"frequency\": 67, \"value\": \"Playtex Playtex ...\"}, \"Medela Quick Clean Breastpump &amp; Accessory Wipes\": {\"frequency\": 23, \"value\": \"Medela Quick Clean ...\"}, \"BRICA Stay-In-Place Baby Mirror, Black\": {\"frequency\": 23, \"value\": \"BRICA Stay-In- ...\"}, \"Graco Highback Turbo Booster Seat, Megan\": {\"frequency\": 37, \"value\": \"Graco Highback ...\"}, \"Leachco Bath 'N Bumper - Cushioned Bath Tub - Blue Fish\": {\"frequency\": 20, \"value\": \"Leachco Bath 'N ...\"}, \"Britax B-Ready Stroller, Black\": {\"frequency\": 95, \"value\": \"Britax B-Ready ...\"}, \"Waterproof Baby Bibs with Snaps for Girls &amp; Boys, Gift Box 10 Pack, Solid Colors\": {\"frequency\": 66, \"value\": \"Waterproof Baby ...\"}, \"HALO SleepSack Micro-Fleece Wearable Blanket, Soft Pink, Small\": {\"frequency\": 124, \"value\": \"HALO SleepSack ...\"}, \"Baby Einstein Musical Motion Activity Jumper, Blue\": {\"frequency\": 98, \"value\": \"Baby Einstein ...\"}, \"Medela Spare Membranes for Breatpumps 6 Pack\": {\"frequency\": 21, \"value\": \"Medela Spare ...\"}, \"Munchkin Deluxe Bottle Brush, Colors May Vary\": {\"frequency\": 41, \"value\": \"Munchkin Deluxe ...\"}, \"Skip Hop Zoo Playspot\": {\"frequency\": 18, \"value\": \"Skip Hop Zoo ...\"}, \"Baby Jogger 2013 City Select Stroller with Second Seat - Onyx\": {\"frequency\": 18, \"value\": \"Baby Jogger 2013 ...\"}, \"Fuzzibunz One Size Diaper White, 7-35 Pounds\": {\"frequency\": 36, \"value\": \"Fuzzibunz One Size ...\"}, \"Bummis Fabulous Wet Diaper Bag, Green, Small\": {\"frequency\": 19, \"value\": \"Bummis Fabulous ...\"}, \"Lamaze Play &amp; Grow Mortimer the Moose Take Along Toy\": {\"frequency\": 60, \"value\": \"Lamaze Play &amp; ...\"}, \"Hudson Baby Organic Receiving Blanket, Pink\": {\"frequency\": 20, \"value\": \"Hudson Baby ...\"}, \"American Baby Company Jersey Knit Crib Sheet, Lavender\": {\"frequency\": 55, \"value\": \"American Baby ...\"}, \"Munchkin Lulla-Vibe Vibrating Mattress Pad\": {\"frequency\": 42, \"value\": \"Munchkin Lulla- ...\"}, \"My Brest Friend Twins Plus Deluxe Nursing Pillow, Green, 0-12 Months\": {\"frequency\": 22, \"value\": \"My Brest Friend ...\"}, \"JJ Cole Caprice Diaper Bag, Black with Cream Pattern\": {\"frequency\": 19, \"value\": \"JJ Cole Caprice ...\"}, \"OXO Tot  12 Piece Baby Block Set\": {\"frequency\": 18, \"value\": \"OXO Tot  12 Piece ...\"}, \"The First Years Star Teething Blanket\": {\"frequency\": 69, \"value\": \"The First Years ...\"}, \"Munchkin Traveling Flash Cards\": {\"frequency\": 37, \"value\": \"Munchkin Traveling ...\"}, \"Summer Infant Character Change Pad Cover, Butterfly Ladybug\": {\"frequency\": 53, \"value\": \"Summer Infant ...\"}, \"Fisher-Price My Little Lamb Deluxe Infant Seat\": {\"frequency\": 18, \"value\": \"Fisher-Price My ...\"}, \"WubbaNub (tm) DRAGON Pacifier!\": {\"frequency\": 30, \"value\": \"WubbaNub (tm) ...\"}, \"The First Years Breastflow Starter Set\": {\"frequency\": 58, \"value\": \"The First Years ...\"}, \"Baby Smart Cooshie Booster Seat - Blue\": {\"frequency\": 25, \"value\": \"Baby Smart Cooshie ...\"}, \"Pura Stainless Kiki Infant Bottle Stainless Steel, 11 Ounce, Natural\": {\"frequency\": 20, \"value\": \"Pura Stainless ...\"}, \"EZ Squeezees Refillable Food Pouches,sold in pack of 3. 3 pouches each\": {\"frequency\": 20, \"value\": \"EZ Squeezees ...\"}, \"The First Years Disney Pooh Soft Potty Seat\": {\"frequency\": 58, \"value\": \"The First Years ...\"}, \"Diono RadianRXT Convertible Car Seat, Plum\": {\"frequency\": 157, \"value\": \"Diono RadianRXT ...\"}, \"Fisher-Price Potty Training, Froggy\": {\"frequency\": 117, \"value\": \"Fisher-Price Potty ...\"}, \"Fisher-Price Rainforest Deluxe Auto Mirror\": {\"frequency\": 24, \"value\": \"Fisher-Price ...\"}, \"TUPPERWARE Shape O Ball Toy\": {\"frequency\": 29, \"value\": \"TUPPERWARE Shape O ...\"}, \"The Floppy Seat: Deluxe Shopping Cart Seat Cover with EZ Carry Storage Bag!\": {\"frequency\": 21, \"value\": \"The Floppy Seat: ...\"}, \"Sealy Baby Posturepedic Mattress\": {\"frequency\": 22, \"value\": \"Sealy Baby ...\"}, \"High Back Full Bucket Toddler Infant Swing Seat - Seat Only, Yellow with SSS logo Sticker\": {\"frequency\": 28, \"value\": \"High Back Full ...\"}, \"Colgate Classica I Foam Crib Mattress, White\": {\"frequency\": 33, \"value\": \"Colgate Classica I ...\"}, \"Spectra Dew 350 Advanced Double Electric Hospital Grade Breast Pump with Tote!\": {\"frequency\": 20, \"value\": \"Spectra Dew 350 ...\"}, \"Medela Pump &amp; Save Breastmilk Bags - 50 pack-5 oz\": {\"frequency\": 74, \"value\": \"Medela Pump &amp; ...\"}, \"mybaby HoMedics SoundSpa On-The-Go\": {\"frequency\": 57, \"value\": \"mybaby HoMedics ...\"}, \"Wimmer-Ferguson Infant Stim-Mobile\": {\"frequency\": 81, \"value\": \"Wimmer-Ferguson ...\"}, \"OsoCozy 6 Pack Prefolds Unbleached Cloth Diapers, Size 1\": {\"frequency\": 72, \"value\": \"OsoCozy 6 Pack ...\"}, \"Smart Mom Teething Bling Donut Shaped Pendant Necklace (Onyx)\": {\"frequency\": 36, \"value\": \"Smart Mom Teething ...\"}, \"Summer Infant Plush Pals Changing Pad Cover, Green/Brown (Monkey)\": {\"frequency\": 48, \"value\": \"Summer Infant ...\"}, \"Lamaze Early Development Toy, Sir Prance A Lot\": {\"frequency\": 25, \"value\": \"Lamaze Early ...\"}, \"Munchkin Star Fountain, Colors May Vary\": {\"frequency\": 24, \"value\": \"Munchkin Star ...\"}, \"Kaboost Portable Chair Booster, Green\": {\"frequency\": 29, \"value\": \"Kaboost Portable ...\"}, \"Contours Options 3 Wheeler Stroller II, Cinnamon\": {\"frequency\": 21, \"value\": \"Contours Options 3 ...\"}, \"JL Childress Crib Mobile Attachment Clamp, White\": {\"frequency\": 25, \"value\": \"JL Childress Crib ...\"}, \"Baby Einstein Count and Compose Piano\": {\"frequency\": 48, \"value\": \"Baby Einstein ...\"}, \"Munchkin Arm &amp; HammerDiaper Bag Refills, 72-Count\": {\"frequency\": 25, \"value\": \"Munchkin Arm &amp; ...\"}, \"Pognae Baby Carrier (Black)\": {\"frequency\": 23, \"value\": \"Pognae Baby ...\"}, \"Playtex Standard BPA Free Disposable Nurser Liners 4 oz - 100 Count\": {\"frequency\": 18, \"value\": \"Playtex Standard ...\"}, \"Proudbody Deluxe Pregnancy Belly Cast Kit\": {\"frequency\": 22, \"value\": \"Proudbody Deluxe ...\"}, \"aden + anais Classic Muslin Sleeping bag, Butterflies, Large\": {\"frequency\": 31, \"value\": \"aden + anais ...\"}, \"BABYBJORN Original Carrier - City Black\": {\"frequency\": 70, \"value\": \"BABYBJORN Original ...\"}, \"Exergen Temporal Artery Thermometer\": {\"frequency\": 33, \"value\": \"Exergen Temporal ...\"}, \"Dr. Brown's Natural Flow Newborn Feeding Set\": {\"frequency\": 29, \"value\": \"Dr. Brown's ...\"}, \"HALO SleepSack 100% Wearable Blanket Applique, Elephant, Small\": {\"frequency\": 20, \"value\": \"HALO SleepSack ...\"}, \"Dream On Me Classic 2 in 1 Convertible Stationary Side Crib, Cherry\": {\"frequency\": 38, \"value\": \"Dream On Me ...\"}, \"Graco Ready2Grow Classic Connect LX Stroller, Metropolis\": {\"frequency\": 37, \"value\": \"Graco Ready2Grow ...\"}, \"My Brest Friend Inflatable Travel Nursing Pillow in Green Paisley\": {\"frequency\": 21, \"value\": \"My Brest Friend ...\"}, \"Philips AVENT BPA Free Classic Polypropylene Bottle, Opaque, 4 Ounce, 2 Pack\": {\"frequency\": 69, \"value\": \"Philips AVENT BPA ...\"}, \"Britax Frontier 85 Combination Booster Car Seat, Red Rock\": {\"frequency\": 200, \"value\": \"Britax Frontier 85 ...\"}, \"GRACO Backless TurboBooster Car Seat, Groovy\": {\"frequency\": 21, \"value\": \"GRACO Backless ...\"}, \"Skip Hop Pacifier Pocket, Red\": {\"frequency\": 19, \"value\": \"Skip Hop Pacifier ...\"}, \"Summer Infant  Multi Use Extra Tall Walk-Thru Gate, White\": {\"frequency\": 69, \"value\": \"Summer Infant ...\"}, \"Lambs &amp; Ivy Nap Mat, Pink Monkey\": {\"frequency\": 42, \"value\": \"Lambs &amp; Ivy ...\"}, \"Kalencom 2-in-1 Potette Plus Red\": {\"frequency\": 169, \"value\": \"Kalencom 2-in-1 ...\"}, \"Munchkin Five Multi Cups\": {\"frequency\": 42, \"value\": \"Munchkin Five ...\"}, \"Munchkin Nursery Projector and Sound System, White\": {\"frequency\": 242, \"value\": \"Munchkin Nursery ...\"}, \"Nuby 2-Pack 10 oz No-Spill Cup with Flexi Straw, Colors May Vary\": {\"frequency\": 27, \"value\": \"Nuby 2-Pack 10 oz ...\"}, \"Graco Tot Wheels V Mobile Entertainer Center\": {\"frequency\": 29, \"value\": \"Graco Tot Wheels V ...\"}, \"Graco Shelby Classic 4 in 1 Convertible Crib, Cappuccino\": {\"frequency\": 27, \"value\": \"Graco Shelby ...\"}, \"Fisher-Price Ipad Apptivity Seat, Newborn-to-Toddler\": {\"frequency\": 37, \"value\": \"Fisher-Price Ipad ...\"}, \"BooginHead PaciGrip Pacifier Holder, Peach Delight\": {\"frequency\": 18, \"value\": \"BooginHead ...\"}, \"babyletto Hudson 3 in 1 Convertible Crib with Toddler Rail, Espresso/White\": {\"frequency\": 23, \"value\": \"babyletto Hudson 3 ...\"}, \"Munchkin Wood and Steel Designer Gate, Dark Wood/Silver\": {\"frequency\": 37, \"value\": \"Munchkin Wood and ...\"}, \"Motorola MBP33 Wireless Video Baby Monitor with Infrared Night Vision and Zoom, 2.8 Inch\": {\"frequency\": 142, \"value\": \"Motorola MBP33 ...\"}, \"Sealy Sweet Pea 2-in-1 Maternity and Nursing Pillow, Cappuccino\": {\"frequency\": 27, \"value\": \"Sealy Sweet Pea ...\"}, \"Jeep Universal Stroller Hook, 2 Pack\": {\"frequency\": 25, \"value\": \"Jeep Universal ...\"}, \"Capri Stroller - Red Tech\": {\"frequency\": 18, \"value\": \"Capri Stroller - ...\"}, \"Bumkins Reusable Flannel Wipes, 12 Count, Natural\": {\"frequency\": 37, \"value\": \"Bumkins Reusable ...\"}, \"Summer Infant 3-Stage Super Seat\": {\"frequency\": 18, \"value\": \"Summer Infant ...\"}, \"Britax Parkway SG-2 Booster Car Seat, Pewter Dots\": {\"frequency\": 42, \"value\": \"Britax Parkway ...\"}, \"Graco Victoria Non Drop Side 5 In 1 Convertible Crib, White\": {\"frequency\": 23, \"value\": \"Graco Victoria Non ...\"}, \"Exergen Temporal Artery Thermometer MODEL# TAT-2000C\": {\"frequency\": 148, \"value\": \"Exergen Temporal ...\"}, \"Dream On Me 2 in 1 Portable Folding Stationary Side Crib, Cherry\": {\"frequency\": 21, \"value\": \"Dream On Me 2 in 1 ...\"}, \"Baby Merlin's Magic Sleepsuit 3-6 months - Blue Small\": {\"frequency\": 100, \"value\": \"Baby Merlin's ...\"}, \"Philips AVENT Translucent Orthodontic Infant Pacifier, Clear, 0-6 Months\": {\"frequency\": 26, \"value\": \"Philips AVENT ...\"}, \"Joovy Caboose Ultralight Stand On Tandem Stroller, Black\": {\"frequency\": 44, \"value\": \"Joovy Caboose ...\"}, \"Leachco Cuddle-U Nursing Pillow And More\": {\"frequency\": 64, \"value\": \"Leachco Cuddle-U ...\"}, \"Evenflo Position and Lock Wood Gate, Tan\": {\"frequency\": 18, \"value\": \"Evenflo Position ...\"}, \"Keekaroo Height Right High Chair, Infant Insert and Tray Combo, Natural/Cherry\": {\"frequency\": 31, \"value\": \"Keekaroo Height ...\"}, \"Spasilk 10 pack Soft Terry Washcloth, Blue\": {\"frequency\": 54, \"value\": \"Spasilk 10 pack ...\"}, \"Britax 2013 B-Agile Stroller, Granite\": {\"frequency\": 28, \"value\": \"Britax 2013 ...\"}, \"PottyCover - Disposable toilet seat covers. (6 individually packaged seat covers in each bag.)\": {\"frequency\": 54, \"value\": \"PottyCover - ...\"}, \"SoftShells Breast Shell Soothers - Sore Nipples\": {\"frequency\": 21, \"value\": \"SoftShells Breast ...\"}, \"Kushies 6 Pack Wash Cloth Set, White\": {\"frequency\": 19, \"value\": \"Kushies 6 Pack ...\"}, \"Ciao! Baby Portable Travel High Chair, Black\": {\"frequency\": 48, \"value\": \"Ciao! Baby ...\"}, \"Razbaby RaZ-berry Teether, Red\": {\"frequency\": 150, \"value\": \"Razbaby RaZ-berry ...\"}, \"The First Years Hands Free Gate Extension\": {\"frequency\": 23, \"value\": \"The First Years ...\"}, \"Medela Breastmilk Collection and Storage Bottles 8oz (250ml) - 2 Each\": {\"frequency\": 31, \"value\": \"Medela Breastmilk ...\"}, \"BABYBJORN Cover for Baby Carrier - City Black\": {\"frequency\": 26, \"value\": \"BABYBJORN Cover ...\"}, \"Comotomo Natural Feel Baby Bottle Single Pack, Pink, 8 Ounces\": {\"frequency\": 71, \"value\": \"Comotomo Natural ...\"}, \"Woombie Convertible Baby Swaddler (Big Baby 14-19 lbs, Little Monster)\": {\"frequency\": 29, \"value\": \"Woombie ...\"}, \"Sunshine Systems LEDGP14 GlowPanel 14 Watt LED Grow Light\": {\"frequency\": 20, \"value\": \"Sunshine Systems ...\"}, \"North States Superyard Play Yard, Grey, 6 Panel\": {\"frequency\": 281, \"value\": \"North States ...\"}, \"Tadpoles 36 Sq Ft ABC Floor Mat, Pink/Brown\": {\"frequency\": 35, \"value\": \"Tadpoles 36 Sq Ft ...\"}, \"Safety 1st Sleepy Baby Nail Clipper\": {\"frequency\": 36, \"value\": \"Safety 1st Sleepy ...\"}, \"Fisher-Price Booster Seat, Blue/Green/Gray\": {\"frequency\": 489, \"value\": \"Fisher-Price ...\"}, \"Bumkins Reusable Sandwich and Snack Bag, Bright Blue, Large\": {\"frequency\": 63, \"value\": \"Bumkins Reusable ...\"}, \"Sassy Bathtime Pals Squirt and Float Toys\": {\"frequency\": 93, \"value\": \"Sassy Bathtime ...\"}, \"Little Green Pouch - Reusable Food Pouch - 4pk\": {\"frequency\": 130, \"value\": \"Little Green Pouch ...\"}, \"Stork Craft Tuscany 4 in 1 Fixed Side Convertible Crib, White\": {\"frequency\": 81, \"value\": \"Stork Craft ...\"}, \"Elegant Baby Plush Microfiber Blankie - Pastel Blue\": {\"frequency\": 31, \"value\": \"Elegant Baby Plush ...\"}, \"Evenflo Big Kid High Back SI Car Seat Booster, Alexa\": {\"frequency\": 37, \"value\": \"Evenflo Big Kid ...\"}, \"Summer Infant Snuzzler, Ivory\": {\"frequency\": 115, \"value\": \"Summer Infant ...\"}, \"UPPAbaby Stroller Parent Organizer, Black\": {\"frequency\": 19, \"value\": \"UPPAbaby Stroller ...\"}, \"Munchkin Travel Bottle Warmer, Gray\": {\"frequency\": 26, \"value\": \"Munchkin Travel ...\"}, \"Boppy Infant and Toddler Head Support, Grey\": {\"frequency\": 28, \"value\": \"Boppy Infant and ...\"}, \"Heininger  1027 CommuteMate Seat Belt Strap Adjuster\": {\"frequency\": 32, \"value\": \"Heininger  1027 ...\"}, \"Lamaze Classic Discovery Book\": {\"frequency\": 19, \"value\": \"Lamaze Classic ...\"}, \"Baby Jogger City Mini GT Single Stroller, Shadow/Orange\": {\"frequency\": 49, \"value\": \"Baby Jogger City ...\"}, \"Chicco KeyFit 30 Infant Car Seat, Midori\": {\"frequency\": 117, \"value\": \"Chicco KeyFit 30 ...\"}, \"Leachco Podster Sling-Style Infant Seat Lounger, Sage Pin Dot\": {\"frequency\": 47, \"value\": \"Leachco Podster ...\"}, \"Dex Products Universal Safe Sleeper Bed Rail\": {\"frequency\": 27, \"value\": \"Dex Products ...\"}, \"Stork Craft Hoop Glider and Ottoman, White/Beige\": {\"frequency\": 66, \"value\": \"Stork Craft Hoop ...\"}, \"Mommy's Helper Toilet Seat Lid-Lok\": {\"frequency\": 96, \"value\": \"Mommy's Helper ...\"}, \"Fisher-Price Baby Papasan\": {\"frequency\": 71, \"value\": \"Fisher-Price Baby ...\"}, \"Dreambaby Pressure Mount Hallway Gate with Extensions, Black\": {\"frequency\": 33, \"value\": \"Dreambaby Pressure ...\"}, \"Summer Infant Day and Night Handheld Color Video Monitor with 1.8&quot; Screen - Silver\": {\"frequency\": 114, \"value\": \"Summer Infant Day ...\"}, \"Bumbo Step Stool, Pink\": {\"frequency\": 27, \"value\": \"Bumbo Step Stool, ...\"}, \"Prince Lionheart washPOD Bathe, Blue\": {\"frequency\": 22, \"value\": \"Prince Lionheart ...\"}, \"Nuby No Spill Flip-it Cup, 12 Ounce, Colors May Vary\": {\"frequency\": 34, \"value\": \"Nuby No Spill ...\"}, \"Northstate Superyard Playgate Light Gray\": {\"frequency\": 55, \"value\": \"Northstate ...\"}, \"Stork Craft Beatrice Combo Tower Chest, White\": {\"frequency\": 36, \"value\": \"Stork Craft ...\"}, \"Kolcraft Cozy Soft Portable Crib Mattress, Lily\": {\"frequency\": 36, \"value\": \"Kolcraft Cozy Soft ...\"}, \"Regalo Easy Open 50 Inch Super Wide Walk Thru Gate - White\": {\"frequency\": 238, \"value\": \"Regalo Easy Open ...\"}, \"KidCo Safeway Safety Gate, White\": {\"frequency\": 24, \"value\": \"KidCo Safeway ...\"}, \"The First Years American Red Cross Deluxe Nail Clipper with Magnifier\": {\"frequency\": 41, \"value\": \"The First Years ...\"}, \"Infantino Twist and Fold Activity Gym, Vintage Boy\": {\"frequency\": 77, \"value\": \"Infantino Twist ...\"}, \"Infant Optics DXR-8 Pan/Tilt/Zoom 3.5&quot; Video Baby Monitor With Interchangeable Optical Lens\": {\"frequency\": 41, \"value\": \"Infant Optics ...\"}, \"Fisher-Price Aquarium Take-Along Swing\": {\"frequency\": 33, \"value\": \"Fisher-Price ...\"}, \"Manhattan Toy Snuggle Pod, Peanut\": {\"frequency\": 51, \"value\": \"Manhattan Toy ...\"}, \"Diono Travel Pal Car Storage\": {\"frequency\": 19, \"value\": \"Diono Travel Pal ...\"}, \"Dr. Brown's Bottle Warmer\": {\"frequency\": 112, \"value\": \"Dr. Brown's Bottle ...\"}, \"Cool Gear Travel Potty\": {\"frequency\": 20, \"value\": \"Cool Gear Travel ...\"}, \"Baby Buddy: Baby's 1st Toothbrush\": {\"frequency\": 81, \"value\": \"Baby Buddy: Baby's ...\"}, \"Philips AVENT BPA Free Natural Medium Flow Nipples, 2-Pack\": {\"frequency\": 20, \"value\": \"Philips AVENT BPA ...\"}, \"Safety 1st Clear View Stove Knob Covers 5-Pack\": {\"frequency\": 74, \"value\": \"Safety 1st Clear ...\"}, \"Regalo My Cot Portable Bed, Royal Blue\": {\"frequency\": 206, \"value\": \"Regalo My Cot ...\"}, \"Playtex 3 Pack BPA Free VentAire Wide Bottles, 9 Ounce (Colors may vary)\": {\"frequency\": 78, \"value\": \"Playtex 3 Pack BPA ...\"}, \"Skip Hop Duo Deluxe, Black\": {\"frequency\": 106, \"value\": \"Skip Hop Duo ...\"}, \"Obersee Kid's All-in-One Pre-School Backpacks with Integrated Cooler, Rhinestone Angel Wings\": {\"frequency\": 35, \"value\": \"Obersee Kid's All- ...\"}, \"Dolly Come Ride with Me Seat\": {\"frequency\": 18, \"value\": \"Dolly Come Ride ...\"}, \"Ergobaby Performance Collection Charcoal Grey Carrier\": {\"frequency\": 21, \"value\": \"Ergobaby ...\"}, \"Sesame Street Inflatable Bathtub, Blue/White\": {\"frequency\": 19, \"value\": \"Sesame Street ...\"}, \"Baby Einstein Rattle and Teethe, Caterpillar, Colors May Vary\": {\"frequency\": 21, \"value\": \"Baby Einstein ...\"}, \"Skip Hop Tubby Bath Toy Organizer, Orange\": {\"frequency\": 35, \"value\": \"Skip Hop Tubby ...\"}, \"Frenchie Mini Couture Tuxedo Bib with 3D Applique, Black\": {\"frequency\": 20, \"value\": \"Frenchie Mini ...\"}, \"Primo Ducka Toilet Set Reducer (White)\": {\"frequency\": 25, \"value\": \"Primo Ducka Toilet ...\"}, \"myBaby SoundSpa Portable\": {\"frequency\": 39, \"value\": \"myBaby SoundSpa ...\"}, \"Bumbo Seat Play Tray, Ivory\": {\"frequency\": 44, \"value\": \"Bumbo Seat Play ...\"}, \"Philips AVENT 8 Ounce Natural Glass Bottle, 1-Pack\": {\"frequency\": 23, \"value\": \"Philips AVENT 8 ...\"}, \"Prince Lionheart Jumbo Toy Hammock\": {\"frequency\": 217, \"value\": \"Prince Lionheart ...\"}, \"Boon Water Bugs Floating Bath Toys with Net,Orange\": {\"frequency\": 48, \"value\": \"Boon Water Bugs ...\"}, \"DaVinci Parker 4 in 1 Crib with Toddler Rail, Pure White\": {\"frequency\": 39, \"value\": \"DaVinci Parker 4 ...\"}, \"Lamaze Symphony Motion Gym, Space\": {\"frequency\": 24, \"value\": \"Lamaze Symphony ...\"}, \"Graco SnugRider Infant Car Seat Stroller Frame\": {\"frequency\": 87, \"value\": \"Graco SnugRider ...\"}, \"Born Free 5 oz. BPA-Free High-Heat Resistant Classic Bottle with ActiveFlow Venting Technology, 3-Pack\": {\"frequency\": 22, \"value\": \"Born Free 5 oz. ...\"}, \"Summer Infant Tiny Diner, Pink\": {\"frequency\": 49, \"value\": \"Summer Infant Tiny ...\"}, \"Dr. Brown's 8 oz. Natural Flow Wide Neck Bottle, 3 Pack\": {\"frequency\": 38, \"value\": \"Dr. Brown's 8 oz. ...\"}, \"Playtex Insulator/Playtime Cup, 9 Ounce, 2 Pack, Colors May Vary\": {\"frequency\": 39, \"value\": \"Playtex ...\"}, \"Bumkins Junior Bib, Blue Fizz\": {\"frequency\": 49, \"value\": \"Bumkins Junior ...\"}, \"Tiny Love Symphony-in-Motion Remote Mobile\": {\"frequency\": 31, \"value\": \"Tiny Love ...\"}, \"Fisher-Price Sensory Selections Bouncer\": {\"frequency\": 18, \"value\": \"Fisher-Price ...\"}, \"Angelcare Bath Support, Blue\": {\"frequency\": 18, \"value\": \"Angelcare Bath ...\"}, \"Door Monkey, Childproof Door Lock &amp; Pinch Guard\": {\"frequency\": 145, \"value\": \"Door Monkey, ...\"}, \"Born Free Twin Pack Wide Neck Bottles, 5 Ounce\": {\"frequency\": 56, \"value\": \"Born Free Twin ...\"}, \"Boppy Water Resistant Protective Cover\": {\"frequency\": 20, \"value\": \"Boppy Water ...\"}, \"Boppy Prenatal Total Body Pillow\": {\"frequency\": 70, \"value\": \"Boppy Prenatal ...\"}, \"Dr. Brown's Natural Flow Standard Storage Travel Caps Replacement, 3 Pack\": {\"frequency\": 39, \"value\": \"Dr. Brown's ...\"}, \"Boppy Newborn Lounger, Geo\": {\"frequency\": 47, \"value\": \"Boppy Newborn ...\"}, \"JJ Cole Collections System Diaper Bag, Black Damask\": {\"frequency\": 29, \"value\": \"JJ Cole ...\"}, \"Baby Nasal Aspirator Vacuum Suction Pigeon (Made in Japan)\": {\"frequency\": 20, \"value\": \"Baby Nasal ...\"}, \"Starting Small Monkey Novelty Hamper in Brown,  18 x 11 x 24\": {\"frequency\": 64, \"value\": \"Starting Small ...\"}, \"Baby Aspen Sweet Tee Three Piece Golf Layette Set in Golf Cart Packaging\": {\"frequency\": 26, \"value\": \"Baby Aspen Sweet ...\"}, \"Lotus Travel Crib and Portable Baby Playard\": {\"frequency\": 44, \"value\": \"Lotus Travel Crib ...\"}, \"Baby Einstein Baby Neptune Activity Center\": {\"frequency\": 47, \"value\": \"Baby Einstein Baby ...\"}, \"Munchkin Click Lock Re-usable Sippy Cups, 10 Ounce, 8-Count\": {\"frequency\": 21, \"value\": \"Munchkin Click ...\"}, \"Summer Infant Metal Expansion Gate, 6 Foot Wide Extra Tall Walk-Thru\": {\"frequency\": 22, \"value\": \"Summer Infant ...\"}, \"Safety 1st Outlet Cover with Cord Shortener\": {\"frequency\": 21, \"value\": \"Safety 1st Outlet ...\"}, \"Thermos FOOGO Phases Straw Bottle, Blue/Yellow, 11 Ounce\": {\"frequency\": 66, \"value\": \"Thermos FOOGO ...\"}, \"Graco SnugRide Classic Connect 30/35 Infant Car Seat Base, Silver\": {\"frequency\": 24, \"value\": \"Graco SnugRide ...\"}, \"Graco Pack 'N Play with Newborn Napper Elite, Vance\": {\"frequency\": 25, \"value\": \"Graco Pack 'N Play ...\"}, \"Munchkin Click Lock 2 Count Sippy Cup, 9 ounce\": {\"frequency\": 36, \"value\": \"Munchkin Click ...\"}, \"North States Supergate Classic Plastic Gate Mounts 5 Different Ways\": {\"frequency\": 59, \"value\": \"North States ...\"}, \"Medela 5 oz Breastmilk Bottle Set (3 Bottles)\": {\"frequency\": 63, \"value\": \"Medela 5 oz ...\"}, \"Dr. Brown's 3-pack 8-ounce Standard Bottles\": {\"frequency\": 47, \"value\": \"Dr. Brown's 3-pack ...\"}, \"VTech Communications Safe &amp; Sounds Full Color Video and Audio Monitor\": {\"frequency\": 56, \"value\": \"VTech ...\"}, \"Bright Starts Bounce-A-Bout Activity Center, Neutral\": {\"frequency\": 18, \"value\": \"Bright Starts ...\"}, \"Safety 1st Safe-Glow Nursery Monitor 2 Receiver Set\": {\"frequency\": 58, \"value\": \"Safety 1st Safe- ...\"}, \"The First Years Take &amp; Toss Straw Cups, 10 Ounce, 4 Pack\": {\"frequency\": 31, \"value\": \"The First Years ...\"}, \"Vulli So'Pure Teether, Sophie the Giraffe\": {\"frequency\": 44, \"value\": \"Vulli So'Pure ...\"}, \"Philips Avent Double Electric Comfort Breast Pump\": {\"frequency\": 29, \"value\": \"Philips Avent ...\"}, \"BabyMoon Pod - For Head Support &amp; Neck Support (Blue)\": {\"frequency\": 38, \"value\": \"BabyMoon Pod - For ...\"}, \"Fisher-Price Step &amp; Play Piano\": {\"frequency\": 30, \"value\": \"Fisher-Price Step ...\"}, \"Ju-Ju-Be Be Quick Wristlet Bag, Black and Silver\": {\"frequency\": 23, \"value\": \"Ju-Ju-Be Be Quick ...\"}, \"BOB Revolution SE Duallie Stroller, Navy\": {\"frequency\": 40, \"value\": \"BOB Revolution SE ...\"}, \"bumGenius One-Size Hook &amp; Loop Closure Cloth Diaper 4.0 - Blossom\": {\"frequency\": 19, \"value\": \"bumGenius One-Size ...\"}, \"Elegant Baby 6 Piece Bath Squirties Gift Set in Vinyl Zip Bag, City\": {\"frequency\": 19, \"value\": \"Elegant Baby 6 ...\"}, \"Baby Einstein Caterpillar and Friends Play Gym\": {\"frequency\": 28, \"value\": \"Baby Einstein ...\"}, \"Diono RadianR120 Convertible Car Seat, Storm\": {\"frequency\": 20, \"value\": \"Diono RadianR120 ...\"}, \"Goldbug Animal 2 in 1 Harness, Cow\": {\"frequency\": 25, \"value\": \"Goldbug Animal 2 ...\"}, \"SugarBooger Vroom Jumbo Splat Mat\": {\"frequency\": 25, \"value\": \"SugarBooger Vroom ...\"}, \"Playtex DisneyInsulator Spout Cup, Finding Nemo, 9 Ounce, 2-Count\": {\"frequency\": 19, \"value\": \"Playtex ...\"}, \"Best Bottom Cloth Diaper Shell-Hook and Loop, Very Cherry\": {\"frequency\": 18, \"value\": \"Best Bottom Cloth ...\"}, \"Lansinoh Manual Breast Pump\": {\"frequency\": 58, \"value\": \"Lansinoh Manual ...\"}, \"Boppy Bare Naked Pillow\": {\"frequency\": 47, \"value\": \"Boppy Bare Naked ...\"}, \"Diaper Genie Essentials Diaper Disposal Pail withStarter Refill, 100-Count\": {\"frequency\": 19, \"value\": \"Diaper Genie ...\"}, \"American Baby Company Heavenly Soft Chenille Fitted Contoured Changing Pad Cover,Ecru\": {\"frequency\": 24, \"value\": \"American Baby ...\"}, \"Prince Lionheart Flexibath Foldable Bathtub, White\": {\"frequency\": 45, \"value\": \"Prince Lionheart ...\"}, \"Fisher-Price Zen Collection Cradle Swing\": {\"frequency\": 79, \"value\": \"Fisher-Price Zen ...\"}, \"Sticky Bellies -Sticky Bellies Monthly Milestone Stickers - Oh Sew Ready : Maternity : 12-40 Weeks\": {\"frequency\": 37, \"value\": \"Sticky Bellies ...\"}, \"The First Years Simple &amp; Secure Stair Gate\": {\"frequency\": 26, \"value\": \"The First Years ...\"}, \"Pigeon Nail Scissor (New Born Baby) Made in Japan\": {\"frequency\": 19, \"value\": \"Pigeon Nail ...\"}, \"Jolly Jumper Stroller Caddy - Stroller Handlebar Organizer\": {\"frequency\": 47, \"value\": \"Jolly Jumper ...\"}, \"Recaro Vivo High Back Booster Car Seat, Midnight Desert Micofiber\": {\"frequency\": 24, \"value\": \"Recaro Vivo High ...\"}, \"Baby B'Air Toddler Flight Vest - Red\": {\"frequency\": 18, \"value\": \"Baby B'Air Toddler ...\"}, \"Satsuma Designs Organic Wash Cloths and Wipes 5 Pack, White\": {\"frequency\": 22, \"value\": \"Satsuma Designs ...\"}, \"BABYBJORN Travel Crib Light , Blue\": {\"frequency\": 42, \"value\": \"BABYBJORN Travel ...\"}, \"Safety 1st Prograde Finger Pinch Preventer (Pack of 2)\": {\"frequency\": 27, \"value\": \"Safety 1st ...\"}, \"Udder Covers - Breast Feeding Nursing Cover (Caleb)\": {\"frequency\": 18, \"value\": \"Udder Covers - ...\"}, \"Bumkins Waterproof Sleeved Bib - On-The-Go\": {\"frequency\": 84, \"value\": \"Bumkins Waterproof ...\"}, \"Wubbanub Infant Plush Toy Pacifier - Monkey\": {\"frequency\": 85, \"value\": \"Wubbanub Infant ...\"}, \"Evenflo Soft And Wide Gate Taupe &amp; Chocolate\": {\"frequency\": 42, \"value\": \"Evenflo Soft And ...\"}, \"Sassy Look Photo Book\": {\"frequency\": 26, \"value\": \"Sassy Look Photo ...\"}, \"OsoCozy 6 Pack Birdseye Flat Unbleached Diapers\": {\"frequency\": 23, \"value\": \"OsoCozy 6 Pack ...\"}, \"Ulubulu Universal Pacifier Clip, Oliver Owl\": {\"frequency\": 36, \"value\": \"Ulubulu Universal ...\"}, \"JL Childress Gate Check Bag for Umbrella Strollers, Red\": {\"frequency\": 44, \"value\": \"JL Childress Gate ...\"}, \"Gerber Training Pants 3 Pack, Blue/White, 2T\": {\"frequency\": 25, \"value\": \"Gerber Training ...\"}, \"Redmon Fun and Fitness Exercise Equipment for Kids - Tread Mill\": {\"frequency\": 20, \"value\": \"Redmon Fun and ...\"}, \"Boon Glo Nightlight with Portable Balls,White\": {\"frequency\": 35, \"value\": \"Boon Glo ...\"}, \"Bright Starts Walk-A-Bout Walker, Cute Frog\": {\"frequency\": 63, \"value\": \"Bright Starts ...\"}, \"OXO Tot Roll Up Bib, Aqua\": {\"frequency\": 38, \"value\": \"OXO Tot Roll Up ...\"}, \"Neat Solutions Dora the Explorer Potty Topper Disposable Stick-in-Place Toilet Seat Covers, 10-Count\": {\"frequency\": 24, \"value\": \"Neat Solutions ...\"}, \"B.box Essential Sippy Cup in Blue - 6 Oz\": {\"frequency\": 29, \"value\": \"B.box Essential ...\"}, \"Ameda 4 Pack Breast Milk Storage Bottles, 4 Ounce\": {\"frequency\": 19, \"value\": \"Ameda 4 Pack ...\"}, \"Natursutten 2 Pack BPA Free Natural Rubber Pacifier, Butterfly Orthodontic, 0 - 6 Months\": {\"frequency\": 18, \"value\": \"Natursutten 2 Pack ...\"}, \"BABYBJORN Little Potty - Red\": {\"frequency\": 46, \"value\": \"BABYBJORN Little ...\"}, \"RayShade&reg; UV Protective Stroller Shade Improves Sun Protection for Strollers, Joggers and Prams Black\": {\"frequency\": 46, \"value\": \"RayShade&reg; UV ...\"}, \"Summer Infant Ultimate Crib Sheet, 52&quot; x 28&quot;\": {\"frequency\": 62, \"value\": \"Summer Infant ...\"}, \"COZY BABY NASAL ASPIRATOR - This Snot Sucker Cleans Away Baby's Blocked Nose FAST - Its The Best Nasal Suction Tool On The Market To Relieve Blocked Nasal Congestion Quick - No Filters - Washable And Reusable - Great Baby Shower Gift - 100% Money Back Guarantee.\": {\"frequency\": 21, \"value\": \"COZY BABY NASAL ...\"}, \"Baby Ddrops&reg; 400 IU 90 drops\": {\"frequency\": 56, \"value\": \"Baby Ddrops&reg; ...\"}, \"Pigeon Baby Nose Cleaning Tweezers Pigeon (Made in Japan)\": {\"frequency\": 24, \"value\": \"Pigeon Baby Nose ...\"}, \"Baby Banana Bendable Training Toothbrush, Toddler\": {\"frequency\": 30, \"value\": \"Baby Banana ...\"}, \"Serta Perfect Start Crib Mattress, White\": {\"frequency\": 15, \"value\": \"Serta Perfect ...\"}, \"RECARO Performance RIDE Convertible Car Seats, Vibe\": {\"frequency\": 36, \"value\": \"RECARO Performance ...\"}, \"Fantasy Furniture Roundy Rocking Chair Gingham, Pink\": {\"frequency\": 20, \"value\": \"Fantasy Furniture ...\"}, \"JJ Cole Urban Bundleme, Ice, Infant\": {\"frequency\": 84, \"value\": \"JJ Cole Urban ...\"}, \"Bumkins Waterproof Zippered Wet Bag, Blue Cat\": {\"frequency\": 39, \"value\": \"Bumkins Waterproof ...\"}, \"Britax Chaperone Infant Car Seat, Black\": {\"frequency\": 29, \"value\": \"Britax Chaperone ...\"}, \"(1) Cresci Products Window Wedge (2 Per Pack) WHITE color\": {\"frequency\": 28, \"value\": \"(1) Cresci ...\"}, \"[Award winning] Kidsme Food Feeder (Small size),  Blue/Yellow\": {\"frequency\": 40, \"value\": \"[Award winning] ...\"}, \"OXO Tot On-the-Go Wipes Dispenser, Pink\": {\"frequency\": 57, \"value\": \"OXO Tot On-the-Go ...\"}, \"Britax Frontier 85 SICT Booster Seat, Cardinal\": {\"frequency\": 49, \"value\": \"Britax Frontier 85 ...\"}, \"Burlington Baby Wicker Hamper, White\": {\"frequency\": 23, \"value\": \"Burlington Baby ...\"}, \"Dreambaby Stroller Fan, White/Blue\": {\"frequency\": 107, \"value\": \"Dreambaby Stroller ...\"}, \"Multi-Purpose Reversible (Bright Colors or Neutral Charcoal) Foam Floor Mats (BIG Tiles 25&quot; x 25&quot; x .53&quot;!!!), Anti-fatigue Mat, for Business, Home, Basement, Workshop, Kitchen, Children's Rooms (Child Safe), Pool Area, Gym and Exercise, Gardens, Garage, Laundry Rooms, Etc.\": {\"frequency\": 19, \"value\": \"Multi-Purpose ...\"}, \"Prince Lionheart Multi-Purpose Toy Hammock\": {\"frequency\": 33, \"value\": \"Prince Lionheart ...\"}, \"Kids Preferred The World of Eric Carle The Very Hungry Caterpillar Toy, Wood Pull\": {\"frequency\": 19, \"value\": \"Kids Preferred The ...\"}, \"The First Years On-The-Go Booster Seat, Safari\": {\"frequency\": 18, \"value\": \"The First Years ...\"}, \"HALO Early Walker SleepSack Micro Fleece Wearable Blanket, Blue, Large\": {\"frequency\": 19, \"value\": \"HALO Early Walker ...\"}, \"Britax Vehicle Seat Protector\": {\"frequency\": 37, \"value\": \"Britax Vehicle ...\"}, \"Neat Solutions Baby Einstein Biodegradable Table Topper Disposable Stick-on Placemat , 30-Count\": {\"frequency\": 28, \"value\": \"Neat Solutions ...\"}, \"Safety 1st Alpha Omega Elite Convertible Car Seat, Seaside Bay\": {\"frequency\": 25, \"value\": \"Safety 1st Alpha ...\"}, \"Pearhead Babyprints Desk Frame, Mahogany\": {\"frequency\": 24, \"value\": \"Pearhead ...\"}, \"OXO Tot Sippy Cup with Bonus Training Lid Set, Green, 7 Ounce\": {\"frequency\": 18, \"value\": \"OXO Tot Sippy Cup ...\"}, \"Fisher-Price Zen Collection Gliding Bassinet\": {\"frequency\": 21, \"value\": \"Fisher-Price Zen ...\"}, \"Jolly Jumper with Stand\": {\"frequency\": 26, \"value\": \"Jolly Jumper with ...\"}, \"Dream On Me 3&quot; Playard Mattress, White\": {\"frequency\": 106, \"value\": \"Dream On Me ...\"}, \"Tenergy T-1199BE Universal NiMH Battery Charger\": {\"frequency\": 30, \"value\": \"Tenergy T-1199BE ...\"}, \"MAM BPA Free 5 oz Bottle for Boy, 3-Pack ((Patterns and motifs may vary)\": {\"frequency\": 33, \"value\": \"MAM BPA Free 5 oz ...\"}, \"Evenflo Tribute Sport Convertible Car Seat, Daisy Doodle\": {\"frequency\": 33, \"value\": \"Evenflo Tribute ...\"}, \"Dr. Brown's Bottle Brush\": {\"frequency\": 58, \"value\": \"Dr. Brown's Bottle ...\"}, \"Dr. Brown's Double Electric Breast Pump\": {\"frequency\": 23, \"value\": \"Dr. Brown's Double ...\"}, \"Cloud b Gentle Giraffe On The Go Travel Sound Machine with Four Soothing Sounds\": {\"frequency\": 38, \"value\": \"Cloud b Gentle ...\"}, \"Munchkin Powdered Formula Dispenser Combo Pack, Colors May Vary\": {\"frequency\": 67, \"value\": \"Munchkin Powdered ...\"}, \"Evenflo Soft N Wide Gate\": {\"frequency\": 30, \"value\": \"Evenflo Soft N ...\"}, \"Sunshine Kids Easy View Back Seat Mirror\": {\"frequency\": 48, \"value\": \"Sunshine Kids Easy ...\"}, \"Infantino Plenty Feature Packed Cart &amp; Highchair Cover Mosaic Stripe\": {\"frequency\": 24, \"value\": \"Infantino Plenty ...\"}, \"Sassy Soft Sided Toy Organizer\": {\"frequency\": 24, \"value\": \"Sassy Soft Sided ...\"}, \"Stokke Tripp Trapp Highchair, Red\": {\"frequency\": 62, \"value\": \"Stokke Tripp Trapp ...\"}, \"Sealy Baby Firm Rest Crib Mattress\": {\"frequency\": 39, \"value\": \"Sealy Baby Firm ...\"}, \"Skip Hop Zoo Pack Little Kid Backpack, Dog\": {\"frequency\": 286, \"value\": \"Skip Hop Zoo Pack ...\"}, \"Medela Disposable Nursing Bra Pads, 60 Count\": {\"frequency\": 22, \"value\": \"Medela Disposable ...\"}, \"Clay Hanging Keepsake Kit (Makes 2 Plaques)\": {\"frequency\": 34, \"value\": \"Clay Hanging ...\"}, \"Podee Double Pack Feeding System\": {\"frequency\": 39, \"value\": \"Podee Double Pack ...\"}, \"bumGenius Diaper Sprayer\": {\"frequency\": 35, \"value\": \"bumGenius Diaper ...\"}, \"TL Care Organic Cotton Nursing Pads, Natural, 6 Count\": {\"frequency\": 134, \"value\": \"TL Care Organic ...\"}, \"Carters Easy Fit Jersey Bassinet Fitted Sheet, White\": {\"frequency\": 28, \"value\": \"Carters Easy Fit ...\"}, \"Delta Eclipse Changing Table, Black Cherry\": {\"frequency\": 32, \"value\": \"Delta Eclipse ...\"}, \"Graco SnugRide Classic Connect 30/35 Infant Car Seat Base, Tan\": {\"frequency\": 42, \"value\": \"Graco SnugRide ...\"}, \"North States Supergate Easy Close Metal Gate, White\": {\"frequency\": 171, \"value\": \"North States ...\"}, \"Bright Starts Clack and Slide Activity Ball\": {\"frequency\": 64, \"value\": \"Bright Starts ...\"}, \"Summer Infant Newborn-To-Toddler Bath Center &amp; Shower\": {\"frequency\": 54, \"value\": \"Summer Infant ...\"}, \"Philips Avent 3 Pack 9oz Bottles\": {\"frequency\": 191, \"value\": \"Philips Avent 3 ...\"}, \"OXO Tot Tub Drain Stopper, Blue\": {\"frequency\": 63, \"value\": \"OXO Tot Tub Drain ...\"}, \"Infantino Activity Triangle\": {\"frequency\": 66, \"value\": \"Infantino Activity ...\"}, \"Zoli Gummy Sticks Baby Gum Massagers, Green/Orange\": {\"frequency\": 95, \"value\": \"Zoli Gummy Sticks ...\"}, \"Bright Starts Bounce Bounce Baby Activity Zone\": {\"frequency\": 46, \"value\": \"Bright Starts ...\"}, \"Fisher-Price Rainforest Healthy Care High Chair\": {\"frequency\": 40, \"value\": \"Fisher-Price ...\"}, \"Fisher Price Nesting Action Vehicles\": {\"frequency\": 25, \"value\": \"Fisher Price ...\"}, \"Leachco Preggle Comfort Air-Flow Body Pillow, Ivory/Khaki\": {\"frequency\": 31, \"value\": \"Leachco Preggle ...\"}, \"DaVinci Sleepwell Twilight 6-Inch Ultra Firm Deluxe Crib Mattress\": {\"frequency\": 19, \"value\": \"DaVinci Sleepwell ...\"}, \"Dr. Brown's BPA Free Polypropylene Natural Flow Bottle Newborn Feeding Set\": {\"frequency\": 85, \"value\": \"Dr. Brown's BPA ...\"}, \"Chicco DJ Baby Walker, Splash\": {\"frequency\": 62, \"value\": \"Chicco DJ Baby ...\"}, \"Graco SnugRide Click Connect 35 Car Seat, Tangerine\": {\"frequency\": 33, \"value\": \"Graco SnugRide ...\"}, \"Baby Jogger City Elite Single Stroller, Black\": {\"frequency\": 19, \"value\": \"Baby Jogger City ...\"}, \"Mommy's Helper Contoured Cushie Step Up\": {\"frequency\": 114, \"value\": \"Mommy's Helper ...\"}, \"Mustachifier - The Gentleman Mustache Pacifier\": {\"frequency\": 44, \"value\": \"Mustachifier - The ...\"}, \"Evenflo ABC SmartSteps ExerSaucer\": {\"frequency\": 23, \"value\": \"Evenflo ABC ...\"}, \"C.R. Gibson Bound Keepsake Memory Book of Baby's First 5 Years, Lulu\": {\"frequency\": 59, \"value\": \"C.R. Gibson Bound ...\"}, \"Roundabout Convertible Car Seat - Grey Wicker\": {\"frequency\": 22, \"value\": \"Roundabout ...\"}, \"aden + anais Rayon from Bamboo Swaddle Blanket 3 Pack, Earthly\": {\"frequency\": 98, \"value\": \"aden + anais Rayon ...\"}, \"Balboa Baby Dr. Sears Adjustable Sling, Blue Plaid\": {\"frequency\": 19, \"value\": \"Balboa Baby Dr. ...\"}, \"Traveling Toddler Car Seat Travel Accessory\": {\"frequency\": 93, \"value\": \"Traveling Toddler ...\"}, \"KF Baby Finger Pinch Guard [Set of 5], with kilofly Refrigerator Magnet\": {\"frequency\": 26, \"value\": \"KF Baby Finger ...\"}, \"BRICA Deluxe Kick Mats (2 pack)\": {\"frequency\": 37, \"value\": \"BRICA Deluxe Kick ...\"}, \"Lansinoh Double Electric Breast Pump, BPA-free\": {\"frequency\": 29, \"value\": \"Lansinoh Double ...\"}, \"Evenflo ExerSaucer Triple Fun - Jungle\": {\"frequency\": 48, \"value\": \"Evenflo ExerSaucer ...\"}, \"Luvable Friends 4-Pack Flannel Receiving Blankets, Blue\": {\"frequency\": 44, \"value\": \"Luvable Friends ...\"}, \"Kid'Sleep Classic, Blue\": {\"frequency\": 78, \"value\": \"Kid'Sleep Classic, ...\"}, \"Boba Air Baby Carrier, Black\": {\"frequency\": 26, \"value\": \"Boba Air Baby ...\"}, \"Colorado Tote\": {\"frequency\": 21, \"value\": \"Colorado Tote\"}, \"Munchkin Baby Bath Ball, Colors May Vary\": {\"frequency\": 22, \"value\": \"Munchkin Baby Bath ...\"}, \"Summer Infant  8 Panel Playsafe Playard, Tan\": {\"frequency\": 19, \"value\": \"Summer Infant  8 ...\"}, \"Lil Rinser Splashguard in Purple\": {\"frequency\": 59, \"value\": \"Lil Rinser ...\"}, \"Summer Infant 2 Pack Cotton Knit Swaddleme, Safari (Small/Medium)\": {\"frequency\": 57, \"value\": \"Summer Infant 2 ...\"}, \"Dream On Me Double Twin Stroller, Pink\": {\"frequency\": 21, \"value\": \"Dream On Me Double ...\"}, \"Britax Baby Carrier, Black\": {\"frequency\": 19, \"value\": \"Britax Baby ...\"}, \"Saddle Style Soaker Mattress Pad - Will Absorb 6 Cups of Liquid - Made in America (34&quot; X 36&quot;)\": {\"frequency\": 27, \"value\": \"Saddle Style ...\"}, \"Lamaze Play &amp; Grow Freddie the Firefly Take Along Toy\": {\"frequency\": 194, \"value\": \"Lamaze Play &amp; ...\"}, \"Sassy Soft Swimmers Animal Characters Bath Toy, 3 Pack\": {\"frequency\": 29, \"value\": \"Sassy Soft ...\"}, \"Chewy Tubes Knobby Super Chew Red\": {\"frequency\": 27, \"value\": \"Chewy Tubes Knobby ...\"}, \"Skip Hop Dash Deluxe Charcoal\": {\"frequency\": 32, \"value\": \"Skip Hop Dash ...\"}, \"Bean B Clean Baby Scalp Massaging Brush for Cradle Cap\": {\"frequency\": 28, \"value\": \"Bean B Clean Baby ...\"}, \"aden + anais 3 Pack Muslin Snap Bib, Jungle Jam\": {\"frequency\": 54, \"value\": \"aden + anais 3 ...\"}, \"The First Years Disney Pixar Cars  Rev and Go Potty System\": {\"frequency\": 59, \"value\": \"The First Years ...\"}, \"Jumpster Doorway Jumper - Jackpot\": {\"frequency\": 30, \"value\": \"Jumpster Doorway ...\"}, \"Britax Infant Car Seat Adapter Frame\": {\"frequency\": 20, \"value\": \"Britax Infant Car ...\"}, \"Kalencom Laminated Buckle Bag, Multi Paisley Watermelon\": {\"frequency\": 20, \"value\": \"Kalencom Laminated ...\"}, \"Regalo My Chair Portable Chair, Royal\": {\"frequency\": 33, \"value\": \"Regalo My Chair ...\"}, \"Baby Reusable Boy Pocket Cloth Diapers, 6 pcs + 6 Inserts\": {\"frequency\": 33, \"value\": \"Baby Reusable Boy ...\"}, \"BooginHead Squeez'Ems Reusable Food Pouches (4 Pouches)\": {\"frequency\": 28, \"value\": \"BooginHead ...\"}, \"LA Baby Countour Changing Pad 30&quot;, White\": {\"frequency\": 19, \"value\": \"LA Baby Countour ...\"}, \"Thudguard Baby Safety Helmet - Blue\": {\"frequency\": 26, \"value\": \"Thudguard Baby ...\"}, \"New Mommy Advice Cards -24ct- Party Supplies\": {\"frequency\": 18, \"value\": \"New Mommy Advice ...\"}, \"Bibimals Baby Bibs (Safari Pack) Button Latch Better for Long Hair - Funny Cool Cute 2 Pack of Bibs with Food Catcher Pocket Made From Waterproof Washable Silicone Plastic, Best for Use with Girl or Boy Infants and Babies - Your Baby Will Love These Silly Animal Face Bibs, Great Baby Shower Gift, Lifetime Guarantee - [Add These Bibs to Your Baby Registry Today]\": {\"frequency\": 18, \"value\": \"Bibimals Baby Bibs ...\"}, \"bumGenius Freetime All-In-One One-Size Snap Closure Cloth Diaper - White\": {\"frequency\": 23, \"value\": \"bumGenius Freetime ...\"}, \"Lamaze Early Development Toy, Marina the Mermaid\": {\"frequency\": 28, \"value\": \"Lamaze Early ...\"}, \"Bestever Baby Mat, Pink Bear\": {\"frequency\": 62, \"value\": \"Bestever Baby Mat, ...\"}, \"Graco Contempo Highchair, Forecaster\": {\"frequency\": 26, \"value\": \"Graco Contempo ...\"}, \"Think King Mighty Buggy Hook for Stroller, Wheelchair, Rollator, Walker, 2 Pack\": {\"frequency\": 39, \"value\": \"Think King Mighty ...\"}, \"Kair Air Cushioned Bath Visor, Blue\": {\"frequency\": 38, \"value\": \"Kair Air Cushioned ...\"}, \"The HERO Pocket Cloth Diaper (English Periwinkle) by Coqu&iacute; Baby\": {\"frequency\": 18, \"value\": \"The HERO Pocket ...\"}, \"The First Years Jet Stroller, Red/Black\": {\"frequency\": 284, \"value\": \"The First Years ...\"}, \"Ju-Ju-Be Paci Pod Pacifier Holder, Lilac Lace\": {\"frequency\": 27, \"value\": \"Ju-Ju-Be Paci Pod ...\"}, \"Kidco Y Spindle\": {\"frequency\": 33, \"value\": \"Kidco Y Spindle\"}, \"Lollaland Lollacup, Good Green\": {\"frequency\": 67, \"value\": \"Lollaland ...\"}, \"Medela Swing Breastpump\": {\"frequency\": 72, \"value\": \"Medela Swing ...\"}, \"Munchkin Gone Fishin' Bath Toy\": {\"frequency\": 26, \"value\": \"Munchkin Gone ...\"}, \"Philips AVENT Twin Pack Nipplette\": {\"frequency\": 28, \"value\": \"Philips AVENT Twin ...\"}, \"My Brest Friend Deluxe Pillow, Blue\": {\"frequency\": 19, \"value\": \"My Brest Friend ...\"}, \"Contours Options LT Tandem Stroller, Valencia Gold\": {\"frequency\": 29, \"value\": \"Contours Options ...\"}, \"Bright Starts Comfort and Harmony Bouncer, Vintage Garden\": {\"frequency\": 18, \"value\": \"Bright Starts ...\"}, \"Carters Keep Me Dry Water Resistant Flannel Crib Pad, White\": {\"frequency\": 28, \"value\": \"Carters Keep Me ...\"}, \"iBaby M3 Baby monitor for iPhone\": {\"frequency\": 30, \"value\": \"iBaby M3 Baby ...\"}, \"Safety 1st Exchangeable Tip 3 in 1 Thermometer\": {\"frequency\": 19, \"value\": \"Safety 1st ...\"}, \"Bright Starts Around We Go Activity Station, Tropical Fun\": {\"frequency\": 43, \"value\": \"Bright Starts ...\"}, \"WubbaNub Elephant\": {\"frequency\": 19, \"value\": \"WubbaNub Elephant\"}, \"Medela One-Piece Breastshield w/ Valve and Membrane\": {\"frequency\": 20, \"value\": \"Medela One-Piece ...\"}, \"South Shore Angel 4 Drawer Chest, Espresso\": {\"frequency\": 18, \"value\": \"South Shore Angel ...\"}, \"BRICA Super Scoop Bath Toy Organizer\": {\"frequency\": 111, \"value\": \"BRICA Super Scoop ...\"}, \"One Step Ahead Secure Transitions Inflatable Baby Tub\": {\"frequency\": 38, \"value\": \"One Step Ahead ...\"}, \"Britax Parkway SGL Booster Seat, Cardinal\": {\"frequency\": 62, \"value\": \"Britax Parkway SGL ...\"}, \"Medela Freestyle Spare Parts Kit\": {\"frequency\": 19, \"value\": \"Medela Freestyle ...\"}, \"Woolzies 3 XL Wool Dryer Balls ,Natural Fabric Softener\": {\"frequency\": 33, \"value\": \"Woolzies 3 XL Wool ...\"}, \"American Baby Company Waterproof Quilted Cotton Portable/Mini Crib Mattress Pad Cover, White\": {\"frequency\": 83, \"value\": \"American Baby ...\"}, \"Munchkin Deluxe Dishwasher Basket, Colors May Vary\": {\"frequency\": 63, \"value\": \"Munchkin Deluxe ...\"}, \"Fisher-Price Space Saver High Chair, Pink\": {\"frequency\": 79, \"value\": \"Fisher-Price Space ...\"}, \"Levana Lila Digital Baby Video Monitor with Night Vision and Talk to Baby Intercom 32000 (White)\": {\"frequency\": 18, \"value\": \"Levana Lila ...\"}, \"Boon Benders Adaptable Utensils, Blue Raspberry/Tangerine\": {\"frequency\": 20, \"value\": \"Boon Benders ...\"}, \"Contours Options 3 Wheel Stroller, Berkley\": {\"frequency\": 24, \"value\": \"Contours Options 3 ...\"}, \"Mam Nipples Slow Flow, 0+ months, 2 pack\": {\"frequency\": 27, \"value\": \"Mam Nipples Slow ...\"}, \"Munchkin Baby Care Cart\": {\"frequency\": 20, \"value\": \"Munchkin Baby Care ...\"}, \"Baby Safe Disposable Feeder (Pack of One)\": {\"frequency\": 33, \"value\": \"Baby Safe ...\"}, \"Cloud b Sleep Sheep On The Go Travel Sound Machine with Four Soothing Sounds\": {\"frequency\": 105, \"value\": \"Cloud b Sleep ...\"}, \"Stroller Hook - 2 Pack of Multi Purpose Hooks - Hanger for Baby Diaper Bags, Groceries, Clothing, Purse - Great Accessory for Mommy when Jogging, Walking or Shopping - Best 100% Money Back Guarantee\": {\"frequency\": 24, \"value\": \"Stroller Hook - 2 ...\"}, \"DaVinci Emily 3-Drawer Changer Dresser, Ebony\": {\"frequency\": 19, \"value\": \"DaVinci Emily ...\"}, \"Medela Supplemental Nursing System\": {\"frequency\": 20, \"value\": \"Medela ...\"}, \"Joovy Scooter X2 Double Stroller, Greenie\": {\"frequency\": 38, \"value\": \"Joovy Scooter X2 ...\"}, \"Medela Breast Pump Accessory Set\": {\"frequency\": 30, \"value\": \"Medela Breast Pump ...\"}, \"Happi Tummi Removable Waistband - Blue\": {\"frequency\": 42, \"value\": \"Happi Tummi ...\"}, \"Trend Lab Dr. Seuss Wall Clock, ABC\": {\"frequency\": 19, \"value\": \"Trend Lab Dr. ...\"}, \"HALO Big Kids SleepSack Lightweight Knit Wearable Blanket, Pink, 2-3T\": {\"frequency\": 19, \"value\": \"HALO Big Kids ...\"}, \"Fisher-Price Royal Potty\": {\"frequency\": 34, \"value\": \"Fisher-Price Royal ...\"}, \"Prince Lionheart Ever-Fresh Replacement Pillows for Ultimate Wipes Warmer\": {\"frequency\": 30, \"value\": \"Prince Lionheart ...\"}, \"Thirsties 3 Pack Boys Fab Doublers Soft Cotton Velour, Ocean Blue/Meadow/White, Large\": {\"frequency\": 29, \"value\": \"Thirsties 3 Pack ...\"}, \"Boon Stem Grass and Lawn Drying Rack Accessory,Yellow\": {\"frequency\": 37, \"value\": \"Boon Stem Grass ...\"}, \"The First Years Take and Toss 28-Piece Feeding Variety Pack\": {\"frequency\": 24, \"value\": \"The First Years ...\"}, \"Yookidoo Stack 'N' Spray Tub Fountain\": {\"frequency\": 51, \"value\": \"Yookidoo Stack 'N' ...\"}, \"The Mommy Hook, Black with Black Pad\": {\"frequency\": 53, \"value\": \"The Mommy Hook, ...\"}, \"The Original Woombie Baby Cocoon Swaddle (Big Baby (14-19 lbs), Aqua Stripe)\": {\"frequency\": 52, \"value\": \"The Original ...\"}, \"NUK Disney Winnie the Pooh 5 Ounces Learner Cup Silicone Spout, 6+ Months\": {\"frequency\": 24, \"value\": \"NUK Disney Winnie ...\"}, \"My Brest Friend Deluxe Pillow, Light Green\": {\"frequency\": 38, \"value\": \"My Brest Friend ...\"}, \"American Baby Company Organic Cotton Quilted Waterproof Sheet Saver, Natural\": {\"frequency\": 18, \"value\": \"American Baby ...\"}, \"Philips AVENT Soothie Pacifier, 0-3 Months, 2-Pack, Pink/Purple\": {\"frequency\": 128, \"value\": \"Philips AVENT ...\"}, \"phil&amp;teds Traveller Crib, Black\": {\"frequency\": 21, \"value\": \"phil&amp;teds ...\"}, \"HALO SleepSack Micro-Fleece Swaddle, Soft Pink, Newborn\": {\"frequency\": 83, \"value\": \"HALO SleepSack ...\"}, \"Kidkusion Kid Safe Banister Guard\": {\"frequency\": 28, \"value\": \"Kidkusion Kid Safe ...\"}, \"Maxi Cosi Pria 70 Convertible Car Seat, Sweet Cerise\": {\"frequency\": 36, \"value\": \"Maxi Cosi Pria 70 ...\"}, \"Skip Hop Zoo Straw Bottle, Ladybug, 12 Ounce\": {\"frequency\": 59, \"value\": \"Skip Hop Zoo Straw ...\"}, \"Summer Infant Slumber Buddies, Frog\": {\"frequency\": 26, \"value\": \"Summer Infant ...\"}, \"Munchkin Dora the Explorer Bath Squirters\": {\"frequency\": 24, \"value\": \"Munchkin Dora the ...\"}, \"Medela Contact Nipple Shield - Standard Size (24mm)\": {\"frequency\": 22, \"value\": \"Medela Contact ...\"}, \"EZ-Freeze Cereal on the Go (Colors May Vary)\": {\"frequency\": 27, \"value\": \"EZ-Freeze Cereal ...\"}, \"Friendly Toys, Little Playzone with Electronic Sound and Lights\": {\"frequency\": 79, \"value\": \"Friendly Toys, ...\"}, \"Safety 1st Easy Saver Diaper Pail\": {\"frequency\": 24, \"value\": \"Safety 1st Easy ...\"}, \"Combi Flare Lightweight Stroller in Mandarin\": {\"frequency\": 29, \"value\": \"Combi Flare ...\"}, \"Fisher-Price Healthy Care Booster Seat, Green/Blue\": {\"frequency\": 67, \"value\": \"Fisher-Price ...\"}, \"green sprouts Wooden Brush and Comb Set, Natural\": {\"frequency\": 24, \"value\": \"green sprouts ...\"}, \"OXO Tot On-the-Go Feeding Spoon, Green\": {\"frequency\": 20, \"value\": \"OXO Tot On-the-Go ...\"}, \"Evenflo Top of Stair Gate\": {\"frequency\": 50, \"value\": \"Evenflo Top of ...\"}, \"Fisher-Price Cradle 'N Swing,  My Little Snugabunny\": {\"frequency\": 278, \"value\": \"Fisher-Price ...\"}, \"Summer Infant Complete Coverage Color Video Monitor Set with 7&quot; LCD Screen and 1.8&quot; Handheld Unit\": {\"frequency\": 35, \"value\": \"Summer Infant ...\"}, \"Munchkin Caterpillar Spillers Stacking Cups\": {\"frequency\": 27, \"value\": \"Munchkin ...\"}, \"HALO Early Walker SleepSack Lightweight Knit Wearable Blanket, Blue, Large\": {\"frequency\": 29, \"value\": \"HALO Early Walker ...\"}, \"KidCo S353 Door Lever Lock White\": {\"frequency\": 18, \"value\": \"KidCo S353 Door ...\"}, \"Lily's Home Starry Night Projector and Sound Shooter. With 6 Lullabies and 4 Nature Sounds. Large LCD Alarm Clock\": {\"frequency\": 31, \"value\": \"Lily's Home Starry ...\"}, \"Sassy Baby Food Nurser, Colors May Vary\": {\"frequency\": 36, \"value\": \"Sassy Baby Food ...\"}, \"Boppy Cottony Cute 2-Sided Slipcover, Polka Stripe Green\": {\"frequency\": 23, \"value\": \"Boppy Cottony Cute ...\"}, \"Infant Bucket Seat Liner Color: Pink\": {\"frequency\": 21, \"value\": \"Infant Bucket Seat ...\"}, \"Safety 1st Whale and Baby Spout Guard\": {\"frequency\": 27, \"value\": \"Safety 1st Whale ...\"}, \"NUK Ultra Thin Breast Pads, Pack of 2, White, 120-Count\": {\"frequency\": 39, \"value\": \"NUK Ultra Thin ...\"}, \"Carters Super Soft Dot Changing Pad Cover, Chocolate\": {\"frequency\": 47, \"value\": \"Carters Super Soft ...\"}, \"Babe Ease Original Clean Shopper, Blue Zoo\": {\"frequency\": 20, \"value\": \"Babe Ease Original ...\"}, \"FunBites Hearts - Cuts kids' food into fun-shaped bite-sized pieces . . . Great for picky eaters and bento!\": {\"frequency\": 20, \"value\": \"FunBites Hearts - ...\"}, \"Britax Car Seat Travel Cart, Black\": {\"frequency\": 28, \"value\": \"Britax Car Seat ...\"}, \"Dr. Brown's Microwave Steam Sterilizer\": {\"frequency\": 24, \"value\": \"Dr. Brown's ...\"}, \"Baby Brezza Temperature Control Kettle, White/Grey\": {\"frequency\": 30, \"value\": \"Baby Brezza ...\"}, \"BRICA Day &amp; Night Light Musical Auto Mirror for in Car Safety, Grey\": {\"frequency\": 20, \"value\": \"BRICA Day &amp; ...\"}, \"Steribottle Ready to Use Disposable Baby Bottles,  10-Count\": {\"frequency\": 23, \"value\": \"Steribottle Ready ...\"}, \"Bumbo Floor Seat, Aqua\": {\"frequency\": 51, \"value\": \"Bumbo Floor Seat, ...\"}, \"Joovy Nook Highchair, White Leatherette\": {\"frequency\": 22, \"value\": \"Joovy Nook ...\"}, \"Diaper Dekor Plus 2-Pack Refill Biodegradable\": {\"frequency\": 20, \"value\": \"Diaper Dekor Plus ...\"}, \"Safety 1st Wide Doorways Fabric Gate, Natural\": {\"frequency\": 20, \"value\": \"Safety 1st Wide ...\"}, \"Lansinoh mOmma Feeding Bottle, 5 Ounce\": {\"frequency\": 66, \"value\": \"Lansinoh mOmma ...\"}, \"Woombie Air Ventilated Baby Swaddle ~ Choose Size/Color (Big Baby 14-19 lbs, Love Print)\": {\"frequency\": 21, \"value\": \"Woombie Air ...\"}, \"Regalo Top of Stair Gate, White\": {\"frequency\": 22, \"value\": \"Regalo Top of ...\"}, \"Prince Lionheart Soft Booster Seat in Green\": {\"frequency\": 81, \"value\": \"Prince Lionheart ...\"}, \"Playtex Embrace Breast Pump System\": {\"frequency\": 22, \"value\": \"Playtex Embrace ...\"}, \"Spasilk 100% Cotton Hooded Terry Bath Towel with 4 Washcloths, Beige\": {\"frequency\": 26, \"value\": \"Spasilk 100% ...\"}, \"WubbaNub Pink Bear\": {\"frequency\": 18, \"value\": \"WubbaNub Pink Bear\"}, \"The First Years Clean Air Diaper Disposal System\": {\"frequency\": 29, \"value\": \"The First Years ...\"}, \"Aden and Anais UpAwaySwddleBlnkts\": {\"frequency\": 188, \"value\": \"Aden and Anais ...\"}, \"Leachco Back 'N Belly Contoured Body Pillow, Ivory\": {\"frequency\": 283, \"value\": \"Leachco Back 'N ...\"}, \"The First Years 2 Pack GumDrop Newborn Pacifier, Blue/Green\": {\"frequency\": 20, \"value\": \"The First Years 2 ...\"}, \"Safety 1st Alpha Omega Elite Convertible Car Seat, Lamont\": {\"frequency\": 46, \"value\": \"Safety 1st Alpha ...\"}, \"Fisher-Price Deluxe Jumperoo\": {\"frequency\": 77, \"value\": \"Fisher-Price ...\"}, \"BabyPlus Prenatal Education System\": {\"frequency\": 41, \"value\": \"BabyPlus Prenatal ...\"}, \"Lorex BB2411 2.4&quot; Sweet Peek Video Baby Monitor with IR Night Vision and Zoom, White\": {\"frequency\": 29, \"value\": \"Lorex BB2411 ...\"}, \"Mommy's Helper Kid Keeper\": {\"frequency\": 21, \"value\": \"Mommy's Helper Kid ...\"}, \"Summer Infant SwaddleMe Adjustable Infant Wrap, 3-Pack, Mom &amp; Baby\": {\"frequency\": 77, \"value\": \"Summer Infant ...\"}, \"KidCo Angle-Mount Safeway Gate\": {\"frequency\": 24, \"value\": \"KidCo Angle-Mount ...\"}, \"BABYBJORN Soft Bib 2 Pack - Red/Blue\": {\"frequency\": 129, \"value\": \"BABYBJORN Soft Bib ...\"}, \"Foscam FBM3501 Digital Video Baby Monitor - 2.4 Ghz with Pan/Tilt, Nightvision and Two-Way Audio/Video Camera with 3.5-Inch LCD (White/Gray)\": {\"frequency\": 66, \"value\": \"Foscam FBM3501 ...\"}, \"Metal Wall Decor Butterfly Sculpture 29x15\": {\"frequency\": 20, \"value\": \"Metal Wall Decor ...\"}, \"Jeep Liberty Renegade Walker, Storm\": {\"frequency\": 22, \"value\": \"Jeep Liberty ...\"}, \"JJ Cole Satchel Diaper Bag, Green Arbor\": {\"frequency\": 51, \"value\": \"JJ Cole Satchel ...\"}, \"Diaper Dekor Plus Diaper Disposal System\": {\"frequency\": 126, \"value\": \"Diaper Dekor Plus ...\"}, \"Prince Lionheart Fireplace Guard with Two Corners\": {\"frequency\": 20, \"value\": \"Prince Lionheart ...\"}, \"Sassy Developmental Sensory Ball Set - Inspires Touch\": {\"frequency\": 28, \"value\": \"Sassy ...\"}, \"Ameda Purely Yours Breast Pump\": {\"frequency\": 68, \"value\": \"Ameda Purely Yours ...\"}, \"Thirsties Duo Wrap Diaper Cover with Hook and Loop, Aqua, Size 1\": {\"frequency\": 18, \"value\": \"Thirsties Duo Wrap ...\"}, \"Plug 'N Outlet Cover\": {\"frequency\": 19, \"value\": \"Plug 'N Outlet ...\"}, \"Safety 1st 2 Count Side By Side Cabinet Lock\": {\"frequency\": 30, \"value\": \"Safety 1st 2 Count ...\"}, \"RECARO ProSPORT Combination Harness To Booster Car Seat, Blue Opal\": {\"frequency\": 77, \"value\": \"RECARO ProSPORT ...\"}, \"Munchkin Feeding Set, 15 Pack\": {\"frequency\": 36, \"value\": \"Munchkin Feeding ...\"}, \"The Shrunks Indoor Toddler Inflatable Travel Bed\": {\"frequency\": 93, \"value\": \"The Shrunks Indoor ...\"}, \"Prince Lionheart Corner Guards, Chocolate Brown\": {\"frequency\": 56, \"value\": \"Prince Lionheart ...\"}, \"Regalo Easy Step Extra Wide Walk Thru Gate, White\": {\"frequency\": 18, \"value\": \"Regalo Easy Step ...\"}, \"Davinci Jenny Lind 3-in-1 Convertible Crib, Cherry\": {\"frequency\": 43, \"value\": \"Davinci Jenny Lind ...\"}, \"9V Auto Adapter Car Vehicle Lighter adapter for Medela Pump-in-Style Replaces Part # 67174 Retail Packaging\": {\"frequency\": 22, \"value\": \"9V Auto Adapter ...\"}, \"Evenflo Exersaucer Triple Fun Active Learning Center, Life in The Amazon\": {\"frequency\": 30, \"value\": \"Evenflo Exersaucer ...\"}, \"Tiny Love Symphony in Motion Farm Animal Mobile (Styles May Vary)\": {\"frequency\": 24, \"value\": \"Tiny Love Symphony ...\"}, \"Fisher-Price My Little Snugabunny Newborn Rock n' Play Sleeper\": {\"frequency\": 68, \"value\": \"Fisher-Price My ...\"}, \"The Art of CureTM *SAFETY KNOTTED* Raw Butterscotch - Certified Baltic Amber Baby Teething Necklace - w/The Art of Cure Jewelry Pouch (SHIPS AND SOLD IN USA)\": {\"frequency\": 23, \"value\": \"The Art of CureTM ...\"}, \"My Little Seat Infant Seats, Blue Fish\": {\"frequency\": 19, \"value\": \"My Little Seat ...\"}, \"Baby Einstein Take Along Tunes\": {\"frequency\": 547, \"value\": \"Baby Einstein Take ...\"}, \"Gerber 12-Pack Flatfold Birdseye Cloth Diapers - White\": {\"frequency\": 23, \"value\": \"Gerber 12-Pack ...\"}, \"Fisher-Price Healthy Care Booster Seat, Yellow and Orange\": {\"frequency\": 20, \"value\": \"Fisher-Price ...\"}, \"Levana LV-TW502 Safe N' See Advanced 3.5-Inch Digital Video Wireless Baby Monitor with Talk to Baby Intercom and Remote Controlled Lullabies\": {\"frequency\": 22, \"value\": \"Levana LV-TW502 ...\"}, \"Graco 4 Gallon Cool Mist Humidifier\": {\"frequency\": 33, \"value\": \"Graco 4 Gallon ...\"}, \"Hook 'n' Stroll Stroller Accessory, Black\": {\"frequency\": 37, \"value\": \"Hook 'n' Stroll ...\"}, \"Susen Safe Shampoo Shower Bathing Protect Soft Cap Hat for Baby Children Kids (Blue)\": {\"frequency\": 61, \"value\": \"Susen Safe Shampoo ...\"}, \"Fisher-Price Baby Papasan Infant Seat Nature's Wonder\": {\"frequency\": 23, \"value\": \"Fisher-Price Baby ...\"}, \"Kiinde Kozii\": {\"frequency\": 68, \"value\": \"Kiinde Kozii\"}, \"Nuby 2 Handle Flip n' Sip Straw Cup, 8 Ounce, 12 Months +, Colors May Vary\": {\"frequency\": 34, \"value\": \"Nuby 2 Handle Flip ...\"}, \"Safety 1st On-the-Go Fold-Up Booster Seat\": {\"frequency\": 32, \"value\": \"Safety 1st On-the- ...\"}, \"Boon Flo Water Deflector and Protective Faucet Cover with Bubble Bath Dispenser,Green\": {\"frequency\": 57, \"value\": \"Boon Flo Water ...\"}, \"*The Art of CureTM *SAFETY KNOTTED* Lemon - Certified Baltic Amber Baby Teething Necklace w/&quot;THE ART OF CURETM&quot; Jewelry Pouch (SHIPS AND SOLD IN USA)\": {\"frequency\": 21, \"value\": \"*The Art of CureTM ...\"}, \"Rockin' Green Classic Rock Lavender Mint Revival 45oz\": {\"frequency\": 37, \"value\": \"Rockin' Green ...\"}, \"Safety 1st Alpha Elite Convertible Car Seat, Dolce Latte\": {\"frequency\": 23, \"value\": \"Safety 1st Alpha ...\"}, \"Evenflo Chase LX - Aqua Optical\": {\"frequency\": 28, \"value\": \"Evenflo Chase LX - ...\"}, \"Booginhead SippiGrip, Black\": {\"frequency\": 18, \"value\": \"Booginhead ...\"}, \"bumGenius One-Size Cloth Diaper Twilight\": {\"frequency\": 34, \"value\": \"bumGenius One-Size ...\"}, \"BabyKicks 3 Pack Joey-Bunz, Small\": {\"frequency\": 31, \"value\": \"BabyKicks 3 Pack ...\"}, \"Summer Infant Deluxe PiddlePad\": {\"frequency\": 42, \"value\": \"Summer Infant ...\"}, \"Clek Olli Booster Seat Blacktop\": {\"frequency\": 19, \"value\": \"Clek Olli Booster ...\"}, \"Pearhead Babyprints Keepsake, Year-Round\": {\"frequency\": 36, \"value\": \"Pearhead ...\"}, \"Regalo Extra Tall Widespan Gate, White\": {\"frequency\": 27, \"value\": \"Regalo Extra Tall ...\"}, \"Britax Marathon 70 Convertible Car Seat (Previous Version), Onyx\": {\"frequency\": 65, \"value\": \"Britax Marathon 70 ...\"}, \"OXO Tot Divided Feeding Dish, Aqua\": {\"frequency\": 28, \"value\": \"OXO Tot Divided ...\"}, \"KidCo BabySteps Electric Food Mill - White\": {\"frequency\": 35, \"value\": \"KidCo BabySteps ...\"}, \"Natursutten BPA-Free Natural Rubber Pacifier, Orthodontic, 0-6 Months\": {\"frequency\": 34, \"value\": \"Natursutten BPA- ...\"}, \"Jeep Cherokee Sport Stroller, Brick Red\": {\"frequency\": 92, \"value\": \"Jeep Cherokee ...\"}, \"Mother's Touch Deluxe Baby Bather\": {\"frequency\": 20, \"value\": \"Mother's Touch ...\"}, \"Evenflo Snugli Comfort Vent Carrier\": {\"frequency\": 22, \"value\": \"Evenflo Snugli ...\"}, \"Graco DuoDiner LX Highchair, Metropolis\": {\"frequency\": 22, \"value\": \"Graco DuoDiner LX ...\"}, \"Regalo Easy Step Extra Tall Walk Thru Gate - White\": {\"frequency\": 101, \"value\": \"Regalo Easy Step ...\"}, \"Dream On Me 4 in 1 Aden Convertible Mini Crib, Natural\": {\"frequency\": 25, \"value\": \"Dream On Me 4 in 1 ...\"}, \"Luvable Friends 6 Pack Washcloths, Blue\": {\"frequency\": 27, \"value\": \"Luvable Friends 6 ...\"}, \"South Shore Savannah Collection 4-Drawer Chest, White\": {\"frequency\": 22, \"value\": \"South Shore ...\"}, \"Skip Hop Zoo Safety Harness, Monkey\": {\"frequency\": 32, \"value\": \"Skip Hop Zoo ...\"}, \"Snap 'N Go Infant Car Seat Carrier\": {\"frequency\": 46, \"value\": \"Snap 'N Go Infant ...\"}, \"DEX Products Sound Sleeper SS-01\": {\"frequency\": 103, \"value\": \"DEX Products Sound ...\"}, \"Prince Lionheart Faucet Extender, Gumball Green\": {\"frequency\": 31, \"value\": \"Prince Lionheart ...\"}, \"OXO Tot Bottle Brush with Nipple Cleaner, Orange\": {\"frequency\": 25, \"value\": \"OXO Tot Bottle ...\"}, \"Philips AVENT Range BPA-Free Front Teeth Teether, Classic\": {\"frequency\": 24, \"value\": \"Philips AVENT ...\"}, \"Combi Activity Walker Black\": {\"frequency\": 18, \"value\": \"Combi Activity ...\"}, \"Status Veneto Glider and Nursing Ottoman, White/Beige\": {\"frequency\": 24, \"value\": \"Status Veneto ...\"}, \"Odorless Diaper Pail by Safety 1st\": {\"frequency\": 28, \"value\": \"Odorless Diaper ...\"}, \"Prince Lionheart Ultimate Wipes Warmer\": {\"frequency\": 152, \"value\": \"Prince Lionheart ...\"}, \"Munchkin Arm and Hammer Bag Refill, 36 Bags\": {\"frequency\": 25, \"value\": \"Munchkin Arm and ...\"}, \"BABYBJORN Safe Step - Blue\": {\"frequency\": 85, \"value\": \"BABYBJORN Safe ...\"}, \"Fisher-Price Space Saver Swing and Seat, Discover'N Grow\": {\"frequency\": 57, \"value\": \"Fisher-Price Space ...\"}, \"Baby Einstein Octoplush\": {\"frequency\": 57, \"value\": \"Baby Einstein ...\"}, \"FISHER PRICE SINGING STAR GYM\": {\"frequency\": 37, \"value\": \"FISHER PRICE ...\"}, \"Munchkin 3 Piece Silly Sandwich Cutter Set\": {\"frequency\": 22, \"value\": \"Munchkin 3 Piece ...\"}, \"Britax Frontier Booster Car Seat\": {\"frequency\": 22, \"value\": \"Britax Frontier ...\"}, \"Summer Infant Best View Handheld Color Video Monitor with 2.5&quot; Screen\": {\"frequency\": 57, \"value\": \"Summer Infant Best ...\"}, \"Medela 9 Volt Vehicle Lighter Adaptor\": {\"frequency\": 22, \"value\": \"Medela 9 Volt ...\"}, \"Safety 1st Magnetic Locking System Complete\": {\"frequency\": 81, \"value\": \"Safety 1st ...\"}, \"BABYBJORN Baby Carrier Miracle, Black/Silver, Cotton Mix\": {\"frequency\": 50, \"value\": \"BABYBJORN Baby ...\"}, \"Safety 1st Crystal Clear Audio Monitor, White\": {\"frequency\": 21, \"value\": \"Safety 1st Crystal ...\"}, \"Graco SnugRide 32 Infant Car Seat, Zurich\": {\"frequency\": 25, \"value\": \"Graco SnugRide 32 ...\"}, \"Baby K'tan Breeze Baby Carrier, White, Large\": {\"frequency\": 29, \"value\": \"Baby K'tan Breeze ...\"}, \"Cloud B Tranquil Turtle - Aqua\": {\"frequency\": 71, \"value\": \"Cloud B Tranquil ...\"}, \"Munchkin 4 Pack Re-Usable Twist Tight Spill Proof Cup, 10 Ounce, Colors May Vary\": {\"frequency\": 23, \"value\": \"Munchkin 4 Pack ...\"}, \"Prince Lionheart Dresser Top Diaper Depot\": {\"frequency\": 24, \"value\": \"Prince Lionheart ...\"}, \"Britax Boulevard 70 CS Convertible Car Seat (Previous Version), Waverly\": {\"frequency\": 24, \"value\": \"Britax Boulevard ...\"}, \"Tiny Love Take-Along Arch, Sunny Stroll\": {\"frequency\": 241, \"value\": \"Tiny Love Take- ...\"}, \"Sassy Illumination Station\": {\"frequency\": 20, \"value\": \"Sassy Illumination ...\"}, \"phil&amp;teds Lobster Highchair, Red\": {\"frequency\": 31, \"value\": \"phil&amp;teds ...\"}, \"PRIMO EuroBath, Pearl White\": {\"frequency\": 182, \"value\": \"PRIMO EuroBath, ...\"}, \"Infantino Sync Comfort Wrap Carrier Black/Red\": {\"frequency\": 22, \"value\": \"Infantino Sync ...\"}, \"Fisher-Price Cradle 'N Swing, Luv U Zoo\": {\"frequency\": 48, \"value\": \"Fisher-Price ...\"}, \"Regalo Hide Away Extra Long Bed Rail, White\": {\"frequency\": 81, \"value\": \"Regalo Hide Away ...\"}, \"Chicco Caddy Hook On Chair, Red\": {\"frequency\": 52, \"value\": \"Chicco Caddy Hook ...\"}, \"Nuby Super Spout 2 Pack No Spill Replacement Spouts, Clear\": {\"frequency\": 19, \"value\": \"Nuby Super Spout 2 ...\"}, \"Elegant Baby 8 Piece Bath Squirties Gift Set in Vinyl Zip Bag, Sea\": {\"frequency\": 18, \"value\": \"Elegant Baby 8 ...\"}, \"Guava Kids Unisex Baby Guava Mitts - Bubbles/Lime - Small/Medium\": {\"frequency\": 69, \"value\": \"Guava Kids Unisex ...\"}, \"Stork Craft Beatrice 5 Drawer Chest, White\": {\"frequency\": 40, \"value\": \"Stork Craft ...\"}, \"Graco Baby SnugGlider Infant Car Seat Swing Frame\": {\"frequency\": 30, \"value\": \"Graco Baby ...\"}, \"NUK/Gerber Seal N Go Disposible Liner, 50-Count\": {\"frequency\": 43, \"value\": \"NUK/Gerber Seal N ...\"}, \"Baby Trend Diaper Champ\": {\"frequency\": 333, \"value\": \"Baby Trend Diaper ...\"}, \"Philips AVENT BPA Free Nighttime Infant Pacifier, 0-6 Months,  Colors May Vary, 2-Count\": {\"frequency\": 20, \"value\": \"Philips AVENT BPA ...\"}, \"Britax B-Nimble Stroller, Red\": {\"frequency\": 24, \"value\": \"Britax B-Nimble ...\"}, \"Sesame Street Construction Zone 4 Piece Toddler Set\": {\"frequency\": 27, \"value\": \"Sesame Street ...\"}, \"Nuby Paci Cradle Pacifier Box, Colors may vary\": {\"frequency\": 24, \"value\": \"Nuby Paci Cradle ...\"}, \"Philips Avent Express Baby Food and Bottle Warmer\": {\"frequency\": 36, \"value\": \"Philips Avent ...\"}, \"Mommy's Helper Safe-er-Grip Foot Rest\": {\"frequency\": 65, \"value\": \"Mommy's Helper ...\"}, \"Summer Infant Comfy Bath Sponge\": {\"frequency\": 38, \"value\": \"Summer Infant ...\"}, \"HALO SleepSack Big Kids Micro-Fleece Wearable Blanket, Red, 2T- 3T\": {\"frequency\": 46, \"value\": \"HALO SleepSack Big ...\"}, \"Vullie Sophie Giraffe and Pie Pink - Natural Rubber and Food Paint Details Set of 2\": {\"frequency\": 19, \"value\": \"Vullie Sophie ...\"}, \"Summer Infant Swaddleme Pure Love Adjustable Infant Wrap, Alligator\": {\"frequency\": 33, \"value\": \"Summer Infant ...\"}, \"Stork Craft Rocking Horse, Oak\": {\"frequency\": 33, \"value\": \"Stork Craft ...\"}, \"Samsung Wireless Video Security Monitoring System\": {\"frequency\": 39, \"value\": \"Samsung Wireless ...\"}, \"Summer Infant Step-By-Step Potty Trainer and Step Stool, Blue/ Green\": {\"frequency\": 24, \"value\": \"Summer Infant ...\"}, \"Joovy Kooper Umbrella Stroller, Yellow\": {\"frequency\": 26, \"value\": \"Joovy Kooper ...\"}, \"Soothing Dreams Monistor with Remote Control, Fisher-Price\": {\"frequency\": 39, \"value\": \"Soothing Dreams ...\"}, \"BreathableBaby Breathable Bumper for Portable and Cradle Cribs, White\": {\"frequency\": 27, \"value\": \"BreathableBaby ...\"}, \"Vital Baby Unbelievabowl Set, Orange\": {\"frequency\": 18, \"value\": \"Vital Baby ...\"}, \"Lamaze Cloth Book, Panda's Pals\": {\"frequency\": 137, \"value\": \"Lamaze Cloth Book, ...\"}, \"Badger Basket Elegance Round Baby Bassinet, White with Ecru Waffle\": {\"frequency\": 21, \"value\": \"Badger Basket ...\"}, \"Britax Head and Body Support Pillow, Iron/Gray\": {\"frequency\": 38, \"value\": \"Britax Head and ...\"}, \"Regalo 192-Inch Super Wide Gate and Play Yard\": {\"frequency\": 54, \"value\": \"Regalo 192-Inch ...\"}, \"BRICA Baby In-Sight Auto Mirror for in Car Safety\": {\"frequency\": 25, \"value\": \"BRICA Baby In- ...\"}, \"Kidkusion Jumbo Edge Kushion, Black\": {\"frequency\": 19, \"value\": \"Kidkusion Jumbo ...\"}, \"Harmony Kids Standard Rocker, Hot Pink\": {\"frequency\": 97, \"value\": \"Harmony Kids ...\"}, \"Fisher-Price Rainforest Bouncer\": {\"frequency\": 86, \"value\": \"Fisher-Price ...\"}, \"Prince Lionheart Versa Formula Mixer\": {\"frequency\": 25, \"value\": \"Prince Lionheart ...\"}, \"Joovy Scooter Single Stroller Greenie\": {\"frequency\": 17, \"value\": \"Joovy Scooter ...\"}, \"Philips AVENT Digital Screen Baby Monitor with DECT Technology\": {\"frequency\": 36, \"value\": \"Philips AVENT ...\"}, \"NUK 2 Pack Replacement valves Spill Proof Cup, Colors May Vary\": {\"frequency\": 23, \"value\": \"NUK 2 Pack ...\"}, \"Graco My Ride 65 LX Convertible Car Seat, Rane\": {\"frequency\": 84, \"value\": \"Graco My Ride 65 ...\"}, \"Bummis Reusable Fleece Liners\": {\"frequency\": 27, \"value\": \"Bummis Reusable ...\"}, \"Keep-it-Kleen Pacifier - Adam Airplane\": {\"frequency\": 27, \"value\": \"Keep-it-Kleen ...\"}, \"Fantasy Furniture Roundy Chair Gingham, Pink\": {\"frequency\": 29, \"value\": \"Fantasy Furniture ...\"}, \"Jolly Jumper Sneak a Peek Sneak-a-Peek Infant Carseat Cover Deluxe - Black\": {\"frequency\": 43, \"value\": \"Jolly Jumper Sneak ...\"}, \"Westminster Hand Boilers (Colors May Vary)\": {\"frequency\": 32, \"value\": \"Westminster Hand ...\"}, \"Summer Infant Bibbity, Pink\": {\"frequency\": 24, \"value\": \"Summer Infant ...\"}, \"Philips Avent Manual Comfort Breast Pump\": {\"frequency\": 23, \"value\": \"Philips Avent ...\"}, \"Maymom Breast Pump Kit for Medela Pump in Style Pump; 2 Breastshields (Compare to Medela Personalfit 24 mm Shield with Personal Fit Connector), 4 Valves, 6 Membranes, &amp; 2 Replacement Tubing for Pump in Style Advanced Sold After July 2006; Replacement Parts for Medela Breast Shield, Medela Tubing, Medela Valves and Medela Membranes\": {\"frequency\": 28, \"value\": \"Maymom Breast Pump ...\"}, \"Fisher-Price Adorable Animals Baby's Bouncer\": {\"frequency\": 42, \"value\": \"Fisher-Price ...\"}, \"Safety 1st Deluxe 4-in-1 Bath Station\": {\"frequency\": 154, \"value\": \"Safety 1st Deluxe ...\"}, \"The First Years 3-in-1 Kickin Coaster Seat, Green/Yellow\": {\"frequency\": 20, \"value\": \"The First Years ...\"}, \"Primo 4-In-1 Soft Seat Toilet Trainer and Step Stool White with Pastel Blue Seat\": {\"frequency\": 45, \"value\": \"Primo 4-In-1 Soft ...\"}, \"Graco Ready2Grow Classic Connect Stroller, Forecaster\": {\"frequency\": 25, \"value\": \"Graco Ready2Grow ...\"}, \"Sunshine Kids Mighty Tite Seat Belt Tightener\": {\"frequency\": 34, \"value\": \"Sunshine Kids ...\"}, \"Boon Dive Bath Tub Appliques\": {\"frequency\": 19, \"value\": \"Boon Dive Bath Tub ...\"}, \"Fisher-Price Ocean Wonders Aquarium Bouncer\": {\"frequency\": 93, \"value\": \"Fisher-Price Ocean ...\"}, \"Itzy Ritzy Travel Happens Sealed Wet Bag, Avocado Damask\": {\"frequency\": 27, \"value\": \"Itzy Ritzy Travel ...\"}, \"C.R. Gibson Memory Book, Baby Bots\": {\"frequency\": 29, \"value\": \"C.R. Gibson Memory ...\"}, \"Lansinoh TheraPearl 3-in-1 Breast Therapy\": {\"frequency\": 19, \"value\": \"Lansinoh ...\"}, \"Shermag Glider Rocker Combo, Pecan with Oatmeal\": {\"frequency\": 42, \"value\": \"Shermag Glider ...\"}, \"Mommys Helper Juice Box Buddies Holder for Juice Bags and Boxes, Colors May Vary\": {\"frequency\": 19, \"value\": \"Mommys Helper ...\"}, \"Sassy: Baby Food Nursers 4oz - 2pk(Green) [Baby Product]\": {\"frequency\": 28, \"value\": \"Sassy: Baby Food ...\"}, \"Leachco Snoogle Loop Contoured Fit Body Pillow, Ivory\": {\"frequency\": 34, \"value\": \"Leachco Snoogle ...\"}, \"Boppy Prenatal Sleep Wedge\": {\"frequency\": 53, \"value\": \"Boppy Prenatal ...\"}, \"Englacha Plastic Board Rider, Black\": {\"frequency\": 20, \"value\": \"Englacha Plastic ...\"}, \"Kiddopotamus Cradler Adjustable Head Support for Newborns to Toddlers, Ivory Teddy Bears\": {\"frequency\": 21, \"value\": \"Kiddopotamus ...\"}, \"Dr. Brown's Soft Spout Training Cup, 6 Ounce, Colors May Vary\": {\"frequency\": 24, \"value\": \"Dr. Brown's Soft ...\"}, \"TYKE TOTER Front Mount Child Bicycle Seat (Age 2-5 yrs., Weight Limit 45 Lbs.)\": {\"frequency\": 26, \"value\": \"TYKE TOTER Front ...\"}, \"Summer Infant Snuzzler, Black Velboa\": {\"frequency\": 30, \"value\": \"Summer Infant ...\"}, \"Safety 1st Sound 'n Lights Activity Walker\": {\"frequency\": 21, \"value\": \"Safety 1st Sound ...\"}, \"*SPECIAL PROMOTION*The Art of CureTM *SAFETY KNOTTED* Honey - Certified Baltic Amber Baby Teething Necklace w/The Art of CureTM Jewelry Pouch (SHIPS AND SOLD IN USA)\": {\"frequency\": 63, \"value\": \"*SPECIAL ...\"}, \"Maxboost Fusion Snap-on iPhone 5S/5 Case - Navy Blue (Fit Fusion Battery Case for iPhone 5S/5)\": {\"frequency\": 37, \"value\": \"Maxboost Fusion ...\"}, \"ERGObaby Original Baby Carrier, Galaxy Grey\": {\"frequency\": 35, \"value\": \"ERGObaby Original ...\"}, \"Baby Jogger 2011 City Mini Double Stroller, Black/Black\": {\"frequency\": 20, \"value\": \"Baby Jogger 2011 ...\"}, \"PumpEase Classic Collection hands-free pumping bra - Verry Cherry - M\": {\"frequency\": 86, \"value\": \"PumpEase Classic ...\"}, \"Graco DuoGlider LX Stroller in Fortune\": {\"frequency\": 24, \"value\": \"Graco DuoGlider LX ...\"}, \"Safety 1st Heavenly Dreams White Crib Mattress\": {\"frequency\": 159, \"value\": \"Safety 1st ...\"}, \"Baby Buddy Natural Bath Sponge, Natural\": {\"frequency\": 19, \"value\": \"Baby Buddy Natural ...\"}, \"KidCo Door Knob Lock ** 5 PACK ** (WHITE)\": {\"frequency\": 28, \"value\": \"KidCo Door Knob ...\"}, \"Cardinal Gates Patio Door Guardian, White\": {\"frequency\": 21, \"value\": \"Cardinal Gates ...\"}, \"Sony 900 MHz BabyCall Nursery Monitor with Receivers\": {\"frequency\": 53, \"value\": \"Sony 900 MHz ...\"}, \"Jeep Shopping Cart and High Chair Cover\": {\"frequency\": 20, \"value\": \"Jeep Shopping Cart ...\"}, \"Thirsties Hemp Inserts 2 Pack, Small 6-18 Lbs\": {\"frequency\": 57, \"value\": \"Thirsties Hemp ...\"}, \"Mommy's Helper Car Seat Sun Shade\": {\"frequency\": 45, \"value\": \"Mommy's Helper Car ...\"}, \"Safety 1st Space Saver Fold-Up Bath Tub\": {\"frequency\": 40, \"value\": \"Safety 1st Space ...\"}, \"Fisher-Price Comfy Time Bouncer\": {\"frequency\": 64, \"value\": \"Fisher-Price Comfy ...\"}, \"Baby Chef Ultimate Baby Food Maker\": {\"frequency\": 28, \"value\": \"Baby Chef Ultimate ...\"}, \"BRICA Cover Guard Car Seat Travel Tote\": {\"frequency\": 18, \"value\": \"BRICA Cover Guard ...\"}, \"Prince Lionheart 2 Stage Seatsaver, Black\": {\"frequency\": 86, \"value\": \"Prince Lionheart 2 ...\"}, \"Baby Einstein Neptune Ocean Adventure Gym\": {\"frequency\": 54, \"value\": \"Baby Einstein ...\"}, \"green sprouts Silicone Freezer Tray, Green\": {\"frequency\": 26, \"value\": \"green sprouts ...\"}, \"North States Supergate Ergo Safety Gate, Ivory\": {\"frequency\": 23, \"value\": \"North States ...\"}, \"Philips AVENT BPA Free Natural Polypropylene Bottle, 9 Ounce, 1 Pack\": {\"frequency\": 60, \"value\": \"Philips AVENT BPA ...\"}, \"Baby Trend High Chair Palm Tree\": {\"frequency\": 18, \"value\": \"Baby Trend High ...\"}, \"Sassy Fascination Station\": {\"frequency\": 38, \"value\": \"Sassy Fascination ...\"}, \"We Sell Mats 36 Sq Ft Alphabet and Number Floor Mat\": {\"frequency\": 47, \"value\": \"We Sell Mats 36 Sq ...\"}, \"Graco Glider LX Gliding Swing, Peyton\": {\"frequency\": 37, \"value\": \"Graco Glider LX ...\"}, \"Skip Hop ZOOtensils Fork and Spoon, Ladybug\": {\"frequency\": 35, \"value\": \"Skip Hop ...\"}, \"Puj Snug - Ultra Soft Spout Cover (Aqua)\": {\"frequency\": 42, \"value\": \"Puj Snug - Ultra ...\"}, \"Neat Solutions 8 Pack Multi-Color Solid Knit Terry Feeder Bib, Boy\": {\"frequency\": 21, \"value\": \"Neat Solutions 8 ...\"}, \"Stork Craft Aspen 5 Drawer Chest, Black\": {\"frequency\": 19, \"value\": \"Stork Craft Aspen ...\"}, \"Dexbaby Safe Lift Universal Crib Wedge, White\": {\"frequency\": 36, \"value\": \"Dexbaby Safe Lift ...\"}, \"Kushies 5 Pack Reusable Ultra Diapers for Infants\": {\"frequency\": 20, \"value\": \"Kushies 5 Pack ...\"}, \"The First Years Ignite Stroller\": {\"frequency\": 218, \"value\": \"The First Years ...\"}, \"Tiny Love Super Mat\": {\"frequency\": 42, \"value\": \"Tiny Love Super ...\"}, \"Summer Infant Secure Surround Playsafe Playard\": {\"frequency\": 18, \"value\": \"Summer Infant ...\"}, \"Safety 1st Vantage High Back Booster Car Seat, Nitron\": {\"frequency\": 24, \"value\": \"Safety 1st Vantage ...\"}, \"Safety 1st Power Strip Cover\": {\"frequency\": 18, \"value\": \"Safety 1st Power ...\"}, \"Baby Starters Plush Snuggle Buddy, Blue Monkey\": {\"frequency\": 44, \"value\": \"Baby Starters ...\"}, \"ERGObaby Heart2Heart Infant Insert, Natural\": {\"frequency\": 47, \"value\": \"ERGObaby ...\"}, \"Luvable Friends Flannel Fitted Crib Sheet, Yellow Circle\": {\"frequency\": 24, \"value\": \"Luvable Friends ...\"}, \"BRICA Roll 'n Go Car Seat Transporter\": {\"frequency\": 36, \"value\": \"BRICA Roll 'n Go ...\"}, \"Kidkusion Toddler Edge Kushions Black\": {\"frequency\": 52, \"value\": \"Kidkusion Toddler ...\"}, \"Sliding Door Locks\": {\"frequency\": 25, \"value\": \"Sliding Door Locks\"}, \"Stork Craft Portofino 4-in-1 Fixed Side Convertible Crib and Changer, Espresso\": {\"frequency\": 55, \"value\": \"Stork Craft ...\"}, \"The Original Tummy Tub Baby Bath - Clear\": {\"frequency\": 23, \"value\": \"The Original Tummy ...\"}, \"Safety 1st Perfect Fit Gate\": {\"frequency\": 25, \"value\": \"Safety 1st Perfect ...\"}, \"The First Years  Deluxe Fold and Go Diapering Kit, Black/Gray\": {\"frequency\": 22, \"value\": \"The First Years ...\"}, \"Munchkin Light My Way Nightlight\": {\"frequency\": 20, \"value\": \"Munchkin Light My ...\"}, \"Philips AVENT 11 Ounce BPA Free Classic Polypropylene Bottle, 1-Pack\": {\"frequency\": 23, \"value\": \"Philips AVENT 11 ...\"}, \"North States 3 in 1 Metal Superyard 2 Panel Extension, Taupe\": {\"frequency\": 22, \"value\": \"North States 3 in ...\"}, \"HALO SleepSack 100% Cotton Swaddle, Soft Pink, Newborn\": {\"frequency\": 99, \"value\": \"HALO SleepSack ...\"}, \"Piyo Piyo Yellow Baby Nail Scissors\": {\"frequency\": 102, \"value\": \"Piyo Piyo Yellow ...\"}, \"Disney 4 Piece Toddler Bedding Set, Taking The Race\": {\"frequency\": 33, \"value\": \"Disney 4 Piece ...\"}, \"Graco Lauren Dressing Table, White\": {\"frequency\": 39, \"value\": \"Graco Lauren ...\"}, \"Carters Wrap Me Up Receiving Blanket, 4 Pack, Green\": {\"frequency\": 31, \"value\": \"Carters Wrap Me Up ...\"}, \"Jeep Overland Limited Jogging Stroller with Front Fixed Wheel, Fierce\": {\"frequency\": 45, \"value\": \"Jeep Overland ...\"}, \"Jeep Car Seat Travel Bag\": {\"frequency\": 78, \"value\": \"Jeep Car Seat ...\"}, \"OXO Tot Seedling Youth Booster Seat, Green\": {\"frequency\": 43, \"value\": \"OXO Tot Seedling ...\"}, \"Prince Lionheart weePOD, Green\": {\"frequency\": 28, \"value\": \"Prince Lionheart ...\"}, \"Earlyears Fill n Fun Water Mat Toy\": {\"frequency\": 42, \"value\": \"Earlyears Fill n ...\"}, \"Safety 1st Crystal Clear Baby Monitor, White\": {\"frequency\": 62, \"value\": \"Safety 1st Crystal ...\"}, \"Ameda Purely Yours Breast Pump - Carry All\": {\"frequency\": 65, \"value\": \"Ameda Purely Yours ...\"}, \"Medela Nursing Stool\": {\"frequency\": 23, \"value\": \"Medela Nursing ...\"}, \"Summer Infant Sure and Secure Double Bedrail, Blue\": {\"frequency\": 34, \"value\": \"Summer Infant Sure ...\"}, \"Tadpoles Playmat Set, Modern/Multi\": {\"frequency\": 49, \"value\": \"Tadpoles Playmat ...\"}, \"The First Years Stack N Count Cups\": {\"frequency\": 42, \"value\": \"The First Years ...\"}, \"Philips AVENT BPA Free Contemporary Freeflow Pacifier, 0-6 Months, 2-Pack, Colors and Designs May Vary\": {\"frequency\": 38, \"value\": \"Philips AVENT BPA ...\"}, \"Carters Easy Fit Sateen Crib Fitted Sheet, Ecru\": {\"frequency\": 31, \"value\": \"Carters Easy Fit ...\"}, \"Fantasy Furniture Roundy Chair with Microsuede Ottoman, Hot Pink\": {\"frequency\": 21, \"value\": \"Fantasy Furniture ...\"}, \"Baby Aspen Let The Fin Begin Terry Shark Robe, Blue, 0-9 Months\": {\"frequency\": 24, \"value\": \"Baby Aspen Let The ...\"}, \"Boba Classic Baby Carrier, Dusk\": {\"frequency\": 27, \"value\": \"Boba Classic Baby ...\"}, \"Philips AVENT 9 Ounce BPA Free Natural Drinking Cup, 1-Pack, Red\": {\"frequency\": 61, \"value\": \"Philips AVENT 9 ...\"}, \"Professional Clinical Large LCD Non-contact Infrared Thermometer - Forehead (Fahrenheit Readings)\": {\"frequency\": 32, \"value\": \"Professional ...\"}, \"Chicco Ct0.6 Capri Lightweight Stroller, Red\": {\"frequency\": 18, \"value\": \"Chicco Ct0.6 Capri ...\"}, \"Graco Contempo Highchair, Rittenhouse\": {\"frequency\": 23, \"value\": \"Graco Contempo ...\"}, \"Moby Wrap UV SPF 50+ 100% Cotton Baby Carrier, Sand\": {\"frequency\": 35, \"value\": \"Moby Wrap UV SPF ...\"}, \"Fisher-Price 2-in-1 Projection Mobile, Precious Planet\": {\"frequency\": 153, \"value\": \"Fisher-Price ...\"}, \"Peg-Perego Prima Pappa Best High Chair, Paloma\": {\"frequency\": 22, \"value\": \"Peg-Perego Prima ...\"}, \"Playtex Lil' Gripper/Anytime 9 Ounce Straw Cup, 2 Count, Colors May Vary\": {\"frequency\": 23, \"value\": \"Playtex Lil' ...\"}, \"Munchkin Five Sea Squirts\": {\"frequency\": 42, \"value\": \"Munchkin Five Sea ...\"}, \"Medela Value Pack Bpa-free Feeding Gift Set : New Wide Base Nipple\": {\"frequency\": 22, \"value\": \"Medela Value Pack ...\"}, \"Ocean Wonders Musical Aquarium Crib Attachment\": {\"frequency\": 71, \"value\": \"Ocean Wonders ...\"}, \"Luvable Friends 3 Pack Assorted Sippy Cups &amp; Lids, Pink Assorted\": {\"frequency\": 25, \"value\": \"Luvable Friends 3 ...\"}, \"Kidco Auto Close HearthGate Black Pet Gate\": {\"frequency\": 22, \"value\": \"Kidco Auto Close ...\"}, \"5 Piece Dark Gray Suit with Shirt, Vest, and Tie - Size 10\": {\"frequency\": 32, \"value\": \"5 Piece Dark Gray ...\"}, \"Quick Clean Breastpump Accessory Wipes 24 Pack\": {\"frequency\": 36, \"value\": \"Quick Clean ...\"}, \"babyletto Modo 3 in 1 Crib with Toddler Rail, Espresso\": {\"frequency\": 23, \"value\": \"babyletto Modo 3 ...\"}, \"Fisher-Price Space Saver High Chair - Tan\": {\"frequency\": 36, \"value\": \"Fisher-Price Space ...\"}, \"Summer Infant Duomat\": {\"frequency\": 19, \"value\": \"Summer Infant ...\"}, \"Gerber Birdseye 10 Count Flatfold Cloth Diapers, White\": {\"frequency\": 45, \"value\": \"Gerber Birdseye 10 ...\"}, \"Philips AVENT BPA Free Classic Polypropylene Bottle, Pink, 9 Ounce, 3 Pack\": {\"frequency\": 23, \"value\": \"Philips AVENT BPA ...\"}, \"Playtex Diaper Genie Elite Diaper Disposal Pail, White\": {\"frequency\": 147, \"value\": \"Playtex Diaper ...\"}, \"NTM-910YIC - Sony Baby Call Nursery Monitor\": {\"frequency\": 284, \"value\": \"NTM-910YIC - Sony ...\"}, \"Animal Planet's Big Tub of Dinosaurs\": {\"frequency\": 44, \"value\": \"Animal Planet's ...\"}, \"Baby Trend Expedition LX Travel System, Millennium\": {\"frequency\": 30, \"value\": \"Baby Trend ...\"}, \"KidCo Center Gateway - White\": {\"frequency\": 28, \"value\": \"KidCo Center ...\"}, \"Britax Advocate 70 CS Click &amp; Safe Convertible Car Seat (Previous Version), Onyx\": {\"frequency\": 34, \"value\": \"Britax Advocate 70 ...\"}, \"Sugarbooger Classic Lunch Sack, Dia De Los Muertos\": {\"frequency\": 23, \"value\": \"Sugarbooger ...\"}, \"NUK Fill &amp; Freeze Pops\": {\"frequency\": 20, \"value\": \"NUK Fill &amp; ...\"}, \"Best Bottom Cloth Diapers - Snap - Orange Sherbet\": {\"frequency\": 36, \"value\": \"Best Bottom Cloth ...\"}, \"Upspring Baby Walking Wings Learning To Walk Assistant Blue\": {\"frequency\": 21, \"value\": \"Upspring Baby ...\"}, \"Fisher-Price Papasan Cradle Swing, Butterfly Garden\": {\"frequency\": 193, \"value\": \"Fisher-Price ...\"}, \"Baby Brezza One Step Baby Food Maker, White/Grey\": {\"frequency\": 47, \"value\": \"Baby Brezza One ...\"}, \"Kushies &quot;On the Go&quot; 2 Pack Wet Bag, Green  (Patterns and Colors May Vary)\": {\"frequency\": 36, \"value\": \"Kushies &quot;On ...\"}, \"Kinderglo Portable Fun and Safe Rechargeable Night Light, Quarter Moon\": {\"frequency\": 53, \"value\": \"Kinderglo Portable ...\"}, \"Motorola Digital Audio Baby Monitor\": {\"frequency\": 20, \"value\": \"Motorola Digital ...\"}, \"Trend Lab Storage Caddy, Ultrasuede Brown/Pink\": {\"frequency\": 36, \"value\": \"Trend Lab Storage ...\"}, \"Re-Play Divided Plates, Aqua, Green, Orange, 3-Count\": {\"frequency\": 50, \"value\": \"Re-Play Divided ...\"}, \"Ju-Ju-Be B.F.F. Diaper Bag, Black/Silver\": {\"frequency\": 33, \"value\": \"Ju-Ju-Be B.F.F. ...\"}, \"&quot;A Little Pillow Company&quot; Hypoallergenic TODDLER PILLOW in White - 13&quot;x18&quot; (Ages 2 - 4)\": {\"frequency\": 32, \"value\": \"&quot;A Little ...\"}, \"Mustela 2-In-1 Hair &amp; Body Shampoo 6.76 ounces\": {\"frequency\": 19, \"value\": \"Mustela 2-In-1 ...\"}, \"MAM Love and Affection 2 Pack Pacifier Clips, Colors May Vary\": {\"frequency\": 18, \"value\": \"MAM Love and ...\"}, \"Kalencom Potette Plus Liners - 30 Liners\": {\"frequency\": 35, \"value\": \"Kalencom Potette ...\"}, \"Ikea 36 Pcs Kalas Kids Plastic BPA Free Flatware, Bowl, Plate, Tumbler Set, Colorful\": {\"frequency\": 36, \"value\": \"Ikea 36 Pcs Kalas ...\"}, \"Sassy No Scratch Bottle Brush, Colors May Vary\": {\"frequency\": 18, \"value\": \"Sassy No Scratch ...\"}, \"Razbaby RaZberry Teether - Red/Blue 2-Pack\": {\"frequency\": 16, \"value\": \"Razbaby RaZberry ...\"}, \"The First Years Newborn to Toddler Reclining Feeding Seat\": {\"frequency\": 53, \"value\": \"The First Years ...\"}, \"Samsung SEW-3037W Wireless Pan Tilt Video Baby Monitor Infrared Night Vision and Zoom, 3.5 inch\": {\"frequency\": 122, \"value\": \"Samsung SEW-3037W ...\"}, \"Philips AVENT Washable Nursing Pads, 6-Count\": {\"frequency\": 59, \"value\": \"Philips AVENT ...\"}, \"My Brest Friend Pillow, Sunburst\": {\"frequency\": 74, \"value\": \"My Brest Friend ...\"}, \"Dr. Brown's 3 Pack BPA Free Polypropylene Bottle, 8 oz\": {\"frequency\": 68, \"value\": \"Dr. Brown's 3 Pack ...\"}, \"Dr. Brown's Natural Flow Standard Glass Bottles,  4 Ounce, 2-Count\": {\"frequency\": 31, \"value\": \"Dr. Brown's ...\"}, \"Nursery Fresh Refill for Diaper Genie 4 Pack, 1,088 Count\": {\"frequency\": 38, \"value\": \"Nursery Fresh ...\"}, \"HALO SleepSack Micro-Fleece Early Walker Wearable Blanket, Baby Blue, Large\": {\"frequency\": 77, \"value\": \"HALO SleepSack ...\"}, \"Jolly Jumper Auto Seat Back Protector - 2 Pack\": {\"frequency\": 23, \"value\": \"Jolly Jumper Auto ...\"}, \"Infantino Swift Classic Carrier Black\": {\"frequency\": 107, \"value\": \"Infantino Swift ...\"}, \"DaVinci Elizabeth II Convertible Toddler Bed in White\": {\"frequency\": 19, \"value\": \"DaVinci Elizabeth ...\"}, \"P'Kolino Little Sofa Lounge, Red\": {\"frequency\": 20, \"value\": \"P'Kolino Little ...\"}, \"Fisher-Price Rainforest Peek-a-Boo Soother, Waterfall\": {\"frequency\": 24, \"value\": \"Fisher-Price ...\"}, \"Animals Alphabet Baby Nursery Peel &amp; Stick Wall Art Sticker Decals for Boys and Girls\": {\"frequency\": 43, \"value\": \"Animals Alphabet ...\"}, \"Summer Infant Little Looster\": {\"frequency\": 39, \"value\": \"Summer Infant ...\"}, \"Sesame Street Framed Friends Green Folding Travel Potty Seat\": {\"frequency\": 24, \"value\": \"Sesame Street ...\"}, \"Fisher-Price Luv U Zoo EZ Clean High Chair\": {\"frequency\": 73, \"value\": \"Fisher-Price Luv U ...\"}, \"3 Packs of NUK Replacement Silicone Spout, Clear\": {\"frequency\": 22, \"value\": \"3 Packs of NUK ...\"}, \"Withings Smart Baby Monitor, White\": {\"frequency\": 48, \"value\": \"Withings Smart ...\"}, \"Juvenile Solutions Baby Cubes (2 oz/Pack of 8)\": {\"frequency\": 24, \"value\": \"Juvenile Solutions ...\"}, \"Munchkin Easy-Close Extra Tall and Wide Metal Gate, Dark Grey\": {\"frequency\": 30, \"value\": \"Munchkin Easy- ...\"}, \"Philips AVENT BPA Free Bottle, 4 Ounce, Dual Pack\": {\"frequency\": 37, \"value\": \"Philips AVENT BPA ...\"}, \"Cosco Flat-Fold High Chair, Zambia\": {\"frequency\": 22, \"value\": \"Cosco Flat-Fold ...\"}, \"The First Years Microwave Sterilizer\": {\"frequency\": 18, \"value\": \"The First Years ...\"}, \"HALO SleepSack Micro Fleece Wearable Blanket, Print Boy, Small\": {\"frequency\": 36, \"value\": \"HALO SleepSack ...\"}, \"Beaba Multiportion Freezer Tray - Orange\": {\"frequency\": 40, \"value\": \"Beaba Multiportion ...\"}, \"Chicco Capri Lightweight Stroller, Tangerine\": {\"frequency\": 60, \"value\": \"Chicco Capri ...\"}, \"Stork Craft Beatrice 4 Drawer Chest, White\": {\"frequency\": 30, \"value\": \"Stork Craft ...\"}, \"Baby Einstein Baby Neptune Ocean Orchestra Musical Toy\": {\"frequency\": 20, \"value\": \"Baby Einstein Baby ...\"}, \"BRICA Fold N' Go Travel Booster Seat, Gray/Black/Green\": {\"frequency\": 43, \"value\": \"BRICA Fold N' Go ...\"}, \"Evenflo Summit Easy Walk-Thru Gate\": {\"frequency\": 38, \"value\": \"Evenflo Summit ...\"}, \"Dream Collection Doll Feeding Time Set with Pacifier\": {\"frequency\": 21, \"value\": \"Dream Collection ...\"}, \"MobiCam Audio Video Baby Monitoring System\": {\"frequency\": 35, \"value\": \"MobiCam Audio ...\"}, \"2 Tubing for Medela Pump in Style and New Pump in Style Advanced Breast Pump - BPA Free, Steam Heat Tolerant; Replacement for Medela Part # 87212, 8007156, 8007212; Made by Maymom (One Pack)\": {\"frequency\": 22, \"value\": \"2 Tubing for ...\"}, \"Kiddopotamus SwaddleMe 100% Cotton Knit, Small, Sage\": {\"frequency\": 18, \"value\": \"Kiddopotamus ...\"}, \"Spray Pal - Cloth Diaper Sprayer Splatter Shield\": {\"frequency\": 29, \"value\": \"Spray Pal - Cloth ...\"}, \"The First Years Breastflow Milk Storage Organizer\": {\"frequency\": 75, \"value\": \"The First Years ...\"}, \"Jeep Cherokee Sport Stroller, Siren\": {\"frequency\": 30, \"value\": \"Jeep Cherokee ...\"}, \"The First Years True Choice P400 Premium Digital Monitor, 2 Parent Unit\": {\"frequency\": 33, \"value\": \"The First Years ...\"}, \"Cozy Car Seat Microfiber and Fleece Cover- Pink\": {\"frequency\": 28, \"value\": \"Cozy Car Seat ...\"}, \"Dappi Waterproof 100% Nylon Diaper Pants, 2 Pack, White, Small\": {\"frequency\": 46, \"value\": \"Dappi Waterproof ...\"}, \"Digital Connect Digital Baby Monitor - 1 Parent Unit\": {\"frequency\": 25, \"value\": \"Digital Connect ...\"}, \"ERGObaby Original Doll Carrier, Galaxy Grey\": {\"frequency\": 34, \"value\": \"ERGObaby Original ...\"}, \"Carters Quilted Woven Playard Fitted Sheet, Animal\": {\"frequency\": 31, \"value\": \"Carters Quilted ...\"}, \"Disney Mickey Mouse Space Adventures 4 Piece Toddler Set, Blue\": {\"frequency\": 22, \"value\": \"Disney Mickey ...\"}, \"Playtex Diaper Genie Essentials Diaper Disposal Pail\": {\"frequency\": 38, \"value\": \"Playtex Diaper ...\"}, \"Regalo Easy Step Walk Thru Gate, White\": {\"frequency\": 375, \"value\": \"Regalo Easy Step ...\"}, \"Skip Hop Reversible Plush Blanket, Alphabet Zoo\": {\"frequency\": 22, \"value\": \"Skip Hop ...\"}, \"C.R. Gibson First Year Calendar, Alex\": {\"frequency\": 22, \"value\": \"C.R. Gibson First ...\"}, \"Lifefactory 9-Ounce Glass Bottle, Raspberry\": {\"frequency\": 27, \"value\": \"Lifefactory ...\"}, \"Levana Wireless Audio Baby Monitor with Sound Indicator LEDs (LV-TW100)\": {\"frequency\": 26, \"value\": \"Levana Wireless ...\"}, \"Sassy Rattlin Rings, Blue/Black\": {\"frequency\": 36, \"value\": \"Sassy Rattlin ...\"}, \"Lamaze Tug &amp; Play Activity Knot Take Along Toy\": {\"frequency\": 18, \"value\": \"Lamaze Tug &amp; ...\"}, \"Lamaze High-Contrast Panda Rattle\": {\"frequency\": 23, \"value\": \"Lamaze High- ...\"}, \"2 in 1 Professional Clinical RY230 Large LCD Non-contact Infrared Thermometer - Forehead and Surface\": {\"frequency\": 45, \"value\": \"2 in 1 ...\"}, \"C.R. Gibson Thank You Notes, 10 Boxed, Alligator\": {\"frequency\": 18, \"value\": \"C.R. Gibson Thank ...\"}, \"[Award Winning] Kidsme Food Feeder (Large size)\": {\"frequency\": 52, \"value\": \"[Award Winning] ...\"}, \"Kidco Anti-Tip TV Strap - 2 Pack\": {\"frequency\": 20, \"value\": \"Kidco Anti-Tip TV ...\"}, \"Snappi Cloth Diaper Fasteners - Pack of 5 (2 Mint Green, 2 White, 1 Blue)\": {\"frequency\": 26, \"value\": \"Snappi Cloth ...\"}, \"3 Pack Snack Trap (colors may vary)\": {\"frequency\": 37, \"value\": \"3 Pack Snack Trap ...\"}, \"Summer Infant By Your Side Sleeper Portable Bedding\": {\"frequency\": 29, \"value\": \"Summer Infant By ...\"}, \"Mommy's Helper Slide-Lok Bi-Fold Door Lock\": {\"frequency\": 76, \"value\": \"Mommy's Helper ...\"}, \"Britax Marathon G4 Convertible Car Seat, Cowmooflage\": {\"frequency\": 32, \"value\": \"Britax Marathon G4 ...\"}, \"Playtex Lil' Gripper/TrainingTime Straw Trainer Cup, 6 Ounce , Colors May Vary\": {\"frequency\": 46, \"value\": \"Playtex Lil' Gripp ...\"}, \"Diono Radian Travel Bag, Black\": {\"frequency\": 23, \"value\": \"Diono Radian ...\"}, \"Rhino Toys Oball Rattle,  Colors May Vary\": {\"frequency\": 23, \"value\": \"Rhino Toys Oball ...\"}, \"UPPAbaby 2013 G-lite Stroller, Denny Red\": {\"frequency\": 18, \"value\": \"UPPAbaby 2013 ...\"}, \"NUK Active Silicone Spout Learning Cup, Ladybug, 10-Ounce\": {\"frequency\": 27, \"value\": \"NUK Active ...\"}, \"Rumparooz Reusable Cloth Pocket Diaper, Ladder 6, Aplix\": {\"frequency\": 28, \"value\": \"Rumparooz Reusable ...\"}, \"Evenflo Home D&eacute;cor Wood Gate, Natural Oak\": {\"frequency\": 19, \"value\": \"Evenflo Home ...\"}, \"Thirsties Duo Wrap Snap, Ocean Blue, Size One (6-18 lbs)\": {\"frequency\": 150, \"value\": \"Thirsties Duo Wrap ...\"}, \"Cosco High Back Booster, Ava\": {\"frequency\": 19, \"value\": \"Cosco High Back ...\"}, \"Trend Lab Fleece CribWrap Rail Covers for Crib Sides (Set of 2), Pink, Wide\": {\"frequency\": 30, \"value\": \"Trend Lab Fleece ...\"}, \"GumDrop Pacifier Full-Term Natural Scent Orange 5 Pack\": {\"frequency\": 21, \"value\": \"GumDrop Pacifier ...\"}, \"JJ Cole Original Infant Bundle Me, Graphite\": {\"frequency\": 42, \"value\": \"JJ Cole Original ...\"}, \"Evenflo Crosstown Soft Portable Travel Gate\": {\"frequency\": 46, \"value\": \"Evenflo Crosstown ...\"}, \"Baby's My First Photo Album of Family &amp; Friends\": {\"frequency\": 55, \"value\": \"Baby's My First ...\"}, \"Safety 1st Alpha Elite 65 Infant Car Seat, Rachel\": {\"frequency\": 20, \"value\": \"Safety 1st Alpha ...\"}, \"Trend Lab Caterpillar Blooming Bouquet Burp Cloths, Set of 4\": {\"frequency\": 30, \"value\": \"Trend Lab ...\"}, \"Pourty Easy-to-Pour Potty, Blue\": {\"frequency\": 30, \"value\": \"Pourty Easy-to- ...\"}, \"Graco Charleston Non-Drop Classic Crib, Cherry\": {\"frequency\": 21, \"value\": \"Graco Charleston ...\"}, \"The First Years Compass Pathway B570 Adjustable Booster Seat, Black and Khaki\": {\"frequency\": 27, \"value\": \"The First Years ...\"}, \"Graco Affix Backless Youth Booster Seat with Latch System, Sailor\": {\"frequency\": 45, \"value\": \"Graco Affix ...\"}, \"The First Years Breastflow Mipump Single Electric Breast Pump\": {\"frequency\": 23, \"value\": \"The First Years ...\"}, \"Arm's Reach Mini Co-Sleeper Bassinet - Natural\": {\"frequency\": 26, \"value\": \"Arm's Reach Mini ...\"}, \"Eddie Bauer Velboa Play Yard Sheet, Ecru\": {\"frequency\": 23, \"value\": \"Eddie Bauer Velboa ...\"}, \"Philips AVENT BPA Free ISIS iQ Duo Twin Electric Breast Pump, White\": {\"frequency\": 20, \"value\": \"Philips AVENT BPA ...\"}, \"Carters Super Soft Bumper, Pink\": {\"frequency\": 58, \"value\": \"Carters Super Soft ...\"}, \"The First Years Massaging Action Teether\": {\"frequency\": 39, \"value\": \"The First Years ...\"}, \"Itzy Ritzy Snack HappensSnack Mini Reusable Snack Bag, Social Circle Pink, 2-Count\": {\"frequency\": 41, \"value\": \"Itzy Ritzy Snack ...\"}, \"BOB Sport Utility Single Stroller, Blue\": {\"frequency\": 20, \"value\": \"BOB Sport Utility ...\"}, \"Levana Jena Digital Baby Video Monitor with 8 Hour Rechargeable Battery and Talk to Baby Intercom\": {\"frequency\": 115, \"value\": \"Levana Jena ...\"}, \"Lilly Gold Sit 'n Stroll 5-in-1 Combination Car Seat/Stroller\": {\"frequency\": 19, \"value\": \"Lilly Gold Sit 'n ...\"}, \"Munchkin Mighty Grip Flip Straw Cups 2-Pack, 10- Ounce (Colors Vary)\": {\"frequency\": 34, \"value\": \"Munchkin Mighty ...\"}, \"Boon Squirt Silicone Baby Food Dispensing Spoon,Green\": {\"frequency\": 23, \"value\": \"Boon Squirt ...\"}, \"Eddie Bauer Car Seat Travel Bag\": {\"frequency\": 23, \"value\": \"Eddie Bauer Car ...\"}, \"Fisher-Price Deluxe Bouncer, My Little Snugabunny\": {\"frequency\": 112, \"value\": \"Fisher-Price ...\"}, \"Medela Single Deluxe Battery/Electric Breastpump\": {\"frequency\": 35, \"value\": \"Medela Single ...\"}, \"Philips AVENT 3-in-1 Electric Steam Sterilizer\": {\"frequency\": 76, \"value\": \"Philips AVENT ...\"}, \"BRICA Corner Bath Basket Toy Organizer\": {\"frequency\": 36, \"value\": \"BRICA Corner Bath ...\"}, \"Graco Bumper Jumper in Little Jungle\": {\"frequency\": 141, \"value\": \"Graco Bumper ...\"}, \"Bright Starts Start Your Senses Sensory Giraffe\": {\"frequency\": 20, \"value\": \"Bright Starts ...\"}, \"Infantino Cloud Cart Cover, Numbers\": {\"frequency\": 25, \"value\": \"Infantino Cloud ...\"}, \"BABYBJORN Smart Potty - Red\": {\"frequency\": 68, \"value\": \"BABYBJORN Smart ...\"}, \"Playtex Nurser With Drop-Ins Liner, 4 Ounce, Colors May Vary, 3-Count\": {\"frequency\": 51, \"value\": \"Playtex Nurser ...\"}, \"aden + anais Muslin Dream Blanket, For The Birds - Owl\": {\"frequency\": 53, \"value\": \"aden + anais ...\"}, \"Em's 4 Bubs Hearing Protection Baby Earmuffs Size 0-18 Months (Black)\": {\"frequency\": 30, \"value\": \"Em's 4 Bubs ...\"}, \"Summer Infant Mother's Touch Deluxe Baby Bather, Blue\": {\"frequency\": 18, \"value\": \"Summer Infant ...\"}, \"Baby Trend Activity Walker\": {\"frequency\": 21, \"value\": \"Baby Trend ...\"}, \"Fisher-Price Cradle n Swing, My Little Lamb\": {\"frequency\": 88, \"value\": \"Fisher-Price ...\"}, \"Baby Einstein Press and Play Pal Toy, Neptune\": {\"frequency\": 47, \"value\": \"Baby Einstein ...\"}, \"Munchkin 2 Pack Mighty Grip Spill-Proof Cup, 10 Ounce, Colors May Vary\": {\"frequency\": 18, \"value\": \"Munchkin 2 Pack ...\"}, \"Philips AVENT Comfort Breast Shell Set, 2-Pack\": {\"frequency\": 34, \"value\": \"Philips AVENT ...\"}, \"Nosefrida Baby Nasal Aspirator with 4 filters and 20 Additional Filters\": {\"frequency\": 167, \"value\": \"Nosefrida Baby ...\"}, \"Motorola MBP36 Remote Wireless Video Baby Monitor with 3.5-Inch Color LCD Screen, Infrared Night Vision and Remote Camera Pan, Tilt, and Zoom\": {\"frequency\": 201, \"value\": \"Motorola MBP36 ...\"}, \"Baby Jogger City Select Single Stroller, Onyx\": {\"frequency\": 26, \"value\": \"Baby Jogger City ...\"}, \"Boon Lawn Countertop Drying Rack, Green\": {\"frequency\": 61, \"value\": \"Boon Lawn ...\"}, \"North States Superyard 3 in 1 Wood Gate\": {\"frequency\": 40, \"value\": \"North States ...\"}, \"Safety 1st OnBoard 35 Adjustable Infant Car Seat Base, Black\": {\"frequency\": 39, \"value\": \"Safety 1st OnBoard ...\"}, \"Baby Jogger 2012 City Mini Single Stroller, Green/Gray\": {\"frequency\": 42, \"value\": \"Baby Jogger 2012 ...\"}, \"CribWrap Crib Wrap 3PC Rail Cover Set By Trend Lab - 1- 51&quot; Front Rail Cover &amp; 2- 27&quot; Side Rail Covers &amp; Bonus Cloud B Plush Rattle, Blue Fleece\": {\"frequency\": 18, \"value\": \"CribWrap Crib Wrap ...\"}, \"Cosco Scenera Convertible Car Seat Black\": {\"frequency\": 36, \"value\": \"Cosco Scenera ...\"}, \"Fresh N Freeze 2 oz. Reusable Baby Food Containers 12-Pack\": {\"frequency\": 60, \"value\": \"Fresh N Freeze 2 ...\"}, \"Kiddopotamus Snuzzler Complete Head and Body Support, Ivory Fleece &amp; Navy Trim\": {\"frequency\": 19, \"value\": \"Kiddopotamus ...\"}, \"Mommy's Helper Door Knob Safety Cover\": {\"frequency\": 18, \"value\": \"Mommy's Helper ...\"}, \"WubbaNub Giraffe\": {\"frequency\": 99, \"value\": \"WubbaNub Giraffe\"}, \"The First Years John Deere Massaging Corn Teether\": {\"frequency\": 28, \"value\": \"The First Years ...\"}, \"bumGenius Elemental One-Size Diaper - White\": {\"frequency\": 19, \"value\": \"bumGenius ...\"}, \"Medela Pump in Style Advanced Breast Pump with Shoulder Bag\": {\"frequency\": 18, \"value\": \"Medela Pump in ...\"}, \"Nuby 3-D Snack Keeper, Monster\": {\"frequency\": 40, \"value\": \"Nuby 3-D Snack ...\"}, \"Medela Pump in Style Advanced Double Breast Pump\": {\"frequency\": 36, \"value\": \"Medela Pump in ...\"}, \"Badger Basket Company Natural Baby Moses Basket with Hood - Blue Gingham Bedding\": {\"frequency\": 18, \"value\": \"Badger Basket ...\"}, \"Baby Deedee Sleep Nest Lite Baby Sleeping Bag, Heather Gray Lime, Small (0-6 Months)\": {\"frequency\": 18, \"value\": \"Baby Deedee Sleep ...\"}, \"Summer Infant Deluxe Comfort Booster- Tan\": {\"frequency\": 82, \"value\": \"Summer Infant ...\"}, \"Re-Play 3 Count Bowls, Pink, Green, Orange\": {\"frequency\": 19, \"value\": \"Re-Play 3 Count ...\"}, \"Squooshi Reusable Food Pouch, Small Lion/Bluebird, 2.5 Ounce, 4-Count\": {\"frequency\": 18, \"value\": \"Squooshi Reusable ...\"}, \"Mommys Helper Safe Plate Electrical Outlet Covers Standard, White\": {\"frequency\": 46, \"value\": \"Mommys Helper Safe ...\"}, \"Skip Hop Treetop Friends Activity Gym\": {\"frequency\": 49, \"value\": \"Skip Hop Treetop ...\"}, \"Philips AVENT BPA Free Infant Bottle Starter Set\": {\"frequency\": 21, \"value\": \"Philips AVENT BPA ...\"}, \"Kiddopotamus SwaddleMe Microfleece, Small, Blue\": {\"frequency\": 78, \"value\": \"Kiddopotamus ...\"}, \"Lambs &amp; Ivy Basket, Espresso\": {\"frequency\": 25, \"value\": \"Lambs &amp; Ivy ...\"}, \"Summer Infant Changing Pad Cover, Who Loves You Owl\": {\"frequency\": 19, \"value\": \"Summer Infant ...\"}, \"American Baby Company Heavenly Soft Chenille Crib Sheet, Ecru\": {\"frequency\": 28, \"value\": \"American Baby ...\"}, \"Simple Wishes Hands-Free Breastpump Bra, Pink, XS-L\": {\"frequency\": 562, \"value\": \"Simple Wishes ...\"}, \"Supergate Extra-Wide Gate, Ivory\": {\"frequency\": 33, \"value\": \"Supergate Extra- ...\"}, \"One Direction Life-size Stand-up Cutout- Niall\": {\"frequency\": 43, \"value\": \"One Direction ...\"}, \"Playtex BPA Free VentAire Wide Bottle Newborn Starter Set (Packaging may vary)\": {\"frequency\": 50, \"value\": \"Playtex BPA Free ...\"}, \"Levana BABYVIEW20 Interference Free Digital Wireless Video Baby Monitor with Night Light Lullaby Camera\": {\"frequency\": 94, \"value\": \"Levana BABYVIEW20 ...\"}, \"Prince Lionheart Wheely Bug, Ladybug, Large\": {\"frequency\": 85, \"value\": \"Prince Lionheart ...\"}, \"Dr. Brown's Formula Mixing Pitcher\": {\"frequency\": 149, \"value\": \"Dr. Brown's ...\"}, \"PBnJ baby Paci Holder, Big Pink/Purple Dots\": {\"frequency\": 21, \"value\": \"PBnJ baby Paci ...\"}, \"Magic Bumpers Portable Child Safety Bed Guard Rail 48 Inch - Set of Two\": {\"frequency\": 40, \"value\": \"Magic Bumpers ...\"}, \"Graco 1 Second Ear Thermometer\": {\"frequency\": 24, \"value\": \"Graco 1 Second Ear ...\"}, \"The First Years miPump Double Electric Breast Pump\": {\"frequency\": 52, \"value\": \"The First Years ...\"}, \"Maxi-Cosi Pria 70 with Tiny Fit Convertible Car Seat\": {\"frequency\": 27, \"value\": \"Maxi-Cosi Pria 70 ...\"}, \"Inglesina 2013 Fast Table Chair, Liquirizia\": {\"frequency\": 136, \"value\": \"Inglesina 2013 ...\"}, \"Regalo Hide Away Double Sided Bed Rail - White\": {\"frequency\": 61, \"value\": \"Regalo Hide Away ...\"}, \"Britax Boulevard G4 Convertible Car Seat, Onyx\": {\"frequency\": 18, \"value\": \"Britax Boulevard ...\"}, \"Cloud B Twilight Ladybug - Pink\": {\"frequency\": 50, \"value\": \"Cloud B Twilight ...\"}, \"Dream On Me Classic Sleigh Toddler Bed, White\": {\"frequency\": 55, \"value\": \"Dream On Me ...\"}, \"Thirsties 6 Pack Fab Wipes, Boy\": {\"frequency\": 38, \"value\": \"Thirsties 6 Pack ...\"}, \"Kinderglo Portable Fun and Safe Rechargeable Night Light, Elephant\": {\"frequency\": 28, \"value\": \"Kinderglo Portable ...\"}, \"Snoogle Chic Jersey - Snoogle Replacement Cover with Zipper for Easy Use - Heather Gray\": {\"frequency\": 32, \"value\": \"Snoogle Chic ...\"}, \"Sassy Spin Shine Rattle Developmental Toy\": {\"frequency\": 29, \"value\": \"Sassy Spin Shine ...\"}, \"The First Years 3 Pack Disney Princess Take &amp; Toss Straw Cup\": {\"frequency\": 18, \"value\": \"The First Years 3 ...\"}, \"Britax Pinnacle 90 Booster Car Seat, Broadway\": {\"frequency\": 46, \"value\": \"Britax Pinnacle 90 ...\"}, \"Nuby 5 Count Splish Splash Stacking Bath Cups\": {\"frequency\": 18, \"value\": \"Nuby 5 Count ...\"}, \"Sassy Wonder Wheel\": {\"frequency\": 116, \"value\": \"Sassy Wonder Wheel\"}, \"DEX Products Pregnancy Pillow PP-01\": {\"frequency\": 35, \"value\": \"DEX Products ...\"}, \"Britax Pioneer 70 Harness-2-Booster Car Seat, Kiwi\": {\"frequency\": 31, \"value\": \"Britax Pioneer 70 ...\"}, \"Prince Lionheart Diaper Depot Clear\": {\"frequency\": 46, \"value\": \"Prince Lionheart ...\"}, \"OXO Tot Training Cup, Aqua, 7 Ounce\": {\"frequency\": 21, \"value\": \"OXO Tot Training ...\"}, \"Giant Peel &amp; Stick Nursery Decal - Forest Animals &amp; Flowers Tree for Boys &amp; Girls (Tree Assembles 4.7 Feet Tall)\": {\"frequency\": 30, \"value\": \"Giant Peel &amp; ...\"}, \"Evenflo Big Kid AMP No Back Booster Car Seat, Red\": {\"frequency\": 25, \"value\": \"Evenflo Big Kid ...\"}, \"Sound N Lights Monitor with Dual Receivers\": {\"frequency\": 53, \"value\": \"Sound N Lights ...\"}, \"Aqueduck Faucet Extender, Pink\": {\"frequency\": 143, \"value\": \"Aqueduck Faucet ...\"}, \"Safety 1st Swing Shut Toilet Lock\": {\"frequency\": 21, \"value\": \"Safety 1st Swing ...\"}, \"Sunshine Kids Radian65 Convertible Car Seat - Champagne\": {\"frequency\": 20, \"value\": \"Sunshine Kids ...\"}, \"Mobi TykeLight Portable GloMate\": {\"frequency\": 50, \"value\": \"Mobi TykeLight ...\"}, \"Contours Options Tandem II Stroller, Tangerine\": {\"frequency\": 20, \"value\": \"Contours Options ...\"}, \"Luvable Friends Fitted Knit Crib Sheet, White\": {\"frequency\": 45, \"value\": \"Luvable Friends ...\"}, \"Joovy Tricycoo Tricycle, Greenie\": {\"frequency\": 24, \"value\": \"Joovy Tricycoo ...\"}, \"Brica Day and Night Light Musical Mirror, Gray\": {\"frequency\": 20, \"value\": \"Brica Day and ...\"}, \"Skip Hop Bath Spout Cover, Moby\": {\"frequency\": 155, \"value\": \"Skip Hop Bath ...\"}, \"Graco Sweetpeace Newborn Soothing Center, 2008\": {\"frequency\": 40, \"value\": \"Graco Sweetpeace ...\"}, \"Kidkusion Gummi Crib Rail\": {\"frequency\": 66, \"value\": \"Kidkusion Gummi ...\"}, \"Britax Marathon 70 Convertible Car Seat, Cowmooflage\": {\"frequency\": 42, \"value\": \"Britax Marathon 70 ...\"}, \"Graco Digital Deluxe iMonitor Baby Monitor\": {\"frequency\": 26, \"value\": \"Graco Digital ...\"}, \"Sassy Go Go Bugs, Styles May Vary\": {\"frequency\": 24, \"value\": \"Sassy Go Go Bugs, ...\"}, \"Cloth Diaper Sprayer--styles may vary\": {\"frequency\": 33, \"value\": \"Cloth Diaper ...\"}, \"Joovy Spoon Walker, Greenie\": {\"frequency\": 34, \"value\": \"Joovy Spoon ...\"}, \"Sleepy Wrap Classic Wrap Baby Carrier, Dark Pink, 0-18 Months\": {\"frequency\": 49, \"value\": \"Sleepy Wrap ...\"}, \"BRICA Stretch-to-Fit Window Shade\": {\"frequency\": 47, \"value\": \"BRICA Stretch-to- ...\"}, \"Boppy Travel Pillow, Mama Dot/Basket Green\": {\"frequency\": 24, \"value\": \"Boppy Travel ...\"}, \"OXO Tot Fork and Spoon Set, Green\": {\"frequency\": 54, \"value\": \"OXO Tot Fork and ...\"}, \"JJ Cole Bundleme Shearling Baby Hat, 0 - 6 Months\": {\"frequency\": 21, \"value\": \"JJ Cole Bundleme ...\"}, \"HALO SleepSack Plush Dot Velboa Wearable Blanket, Cream, Medium\": {\"frequency\": 18, \"value\": \"HALO SleepSack ...\"}, \"Summer Infant Secure Surround Play Safe Play Yard, Tan\": {\"frequency\": 71, \"value\": \"Summer Infant ...\"}, \"eWonderWorld Rainbow (6 Colors) foam Wonder Mats: Extra Thick 36 Pieces 12&quot; X 12&quot; X ~9/16&quot;\": {\"frequency\": 18, \"value\": \"eWonderWorld ...\"}, \"Lamaze Play &amp; Grow Jacques the Peacock Take Along Toy\": {\"frequency\": 107, \"value\": \"Lamaze Play &amp; ...\"}, \"The First Years Mickey Mouse 4 Piece Feeding Set\": {\"frequency\": 28, \"value\": \"The First Years ...\"}, \"Fisher-Price Potty Training, Learn-to-Flush\": {\"frequency\": 34, \"value\": \"Fisher-Price Potty ...\"}, \"Night &amp; Day Bottle Warmer\": {\"frequency\": 24, \"value\": \"Night &amp; Day ...\"}, \"Kushies Deluxe Flannel Change Pad, Yellow with Brown Dots\": {\"frequency\": 63, \"value\": \"Kushies Deluxe ...\"}, \"Britax B-Safe Infant Car Seat, Black\": {\"frequency\": 56, \"value\": \"Britax B-Safe ...\"}, \"Graco SnugRider Elite Stroller &amp; Car Seat Carrier\": {\"frequency\": 41, \"value\": \"Graco SnugRider ...\"}, \"Philips AVENT BPA Free Classic Bottle Sealing Discs\": {\"frequency\": 23, \"value\": \"Philips AVENT BPA ...\"}, \"ThumbGuard LG (7-15 yrs.)\": {\"frequency\": 31, \"value\": \"ThumbGuard LG ...\"}, \"Philips AVENT Disposable Nursing Pads,  100-Count\": {\"frequency\": 22, \"value\": \"Philips AVENT ...\"}, \"Graco Backless TurboBooster Car Seat, Jeweled Princess\": {\"frequency\": 37, \"value\": \"Graco Backless ...\"}, \"Safety 1st OnSide Air Protect Convertible Car Seat, Adeline Black\": {\"frequency\": 37, \"value\": \"Safety 1st OnSide ...\"}, \"Safety Leash for Pedometer - 6 units. Help Prevent Pedometor loss\": {\"frequency\": 33, \"value\": \"Safety Leash for ...\"}, \"Razbaby Raz-Berry silicone Teethers Double Pack Both Colors in One Package.\": {\"frequency\": 23, \"value\": \"Razbaby Raz-Berry ...\"}, \"Dex Products Safe Sleeper Bed Rail Ultra\": {\"frequency\": 36, \"value\": \"Dex Products Safe ...\"}, \"Philips Avent DECT Baby Monitor with Temperature Sensor and Night Mode\": {\"frequency\": 18, \"value\": \"Philips Avent DECT ...\"}, \"Lansinoh mOmma Bottle with NaturalWave Nipple, 8 Ounce\": {\"frequency\": 21, \"value\": \"Lansinoh mOmma ...\"}, \"North States Supergate Top-Notch Gate\": {\"frequency\": 39, \"value\": \"North States ...\"}, \"Thirsties Duo Wrap, Honeydew, Size Two (18-40 lbs)\": {\"frequency\": 56, \"value\": \"Thirsties Duo ...\"}, \"ZoLi BOT XL Straw Sippy Cup (Green) - 9 oz.\": {\"frequency\": 28, \"value\": \"ZoLi BOT XL Straw ...\"}, \"BooginHead Pacifier Holder, Pink Polka Dot\": {\"frequency\": 139, \"value\": \"BooginHead ...\"}, \"Orbelle 3-6T Toddler Bed, Natural\": {\"frequency\": 69, \"value\": \"Orbelle 3-6T ...\"}, \"Graco Jump N Jive Doorway Jumper with Interactive Musical Mat\": {\"frequency\": 18, \"value\": \"Graco Jump N Jive ...\"}, \"Lamaze Wrist Rattles\": {\"frequency\": 26, \"value\": \"Lamaze Wrist ...\"}, \"BRICA Deluxe Snack Pod Stroller Drink and Snack Holder, Gray\": {\"frequency\": 20, \"value\": \"BRICA Deluxe Snack ...\"}, \"Ergobaby Waist Extensions Baby Carrier Accessories\": {\"frequency\": 19, \"value\": \"Ergobaby Waist ...\"}, \"Munchkin Diaper Duty Organizer, Colors May Vary\": {\"frequency\": 22, \"value\": \"Munchkin Diaper ...\"}, \"Aquatopia Deluxe Safety Easy Bath Kneeler, Blue\": {\"frequency\": 21, \"value\": \"Aquatopia Deluxe ...\"}, \"Recaro Vivo High Back Booster, Carbon\": {\"frequency\": 26, \"value\": \"Recaro Vivo High ...\"}, \"Sunshine Kids Radian XTSL Convertible Car Seat, Bentley\": {\"frequency\": 29, \"value\": \"Sunshine Kids ...\"}, \"OsoCozy Flannel Baby Wipes - 15 pack (White)\": {\"frequency\": 51, \"value\": \"OsoCozy Flannel ...\"}, \"Summer Infant SwaddlePod 2-Pack, Hungry Caterpillar, Newborn\": {\"frequency\": 30, \"value\": \"Summer Infant ...\"}, \"Fisher-Price Kick and Play Piano Gym, Pink\": {\"frequency\": 37, \"value\": \"Fisher-Price Kick ...\"}, \"Safety 1st Simple Step Diaper Pail\": {\"frequency\": 55, \"value\": \"Safety 1st Simple ...\"}, \"Food Mill - BabySteps Kid Co 1 Pk\": {\"frequency\": 36, \"value\": \"Food Mill - ...\"}, \"Bamboobies Super-Soft Washable Nursing Pads - All Pale Pink\": {\"frequency\": 31, \"value\": \"Bamboobies Super- ...\"}, \"Graco Pack 'N Play Playard with Reversible Napper and Changer, Roman\": {\"frequency\": 48, \"value\": \"Graco Pack 'N Play ...\"}, \"Lifefactory Glass Baby Bottle with Silicone Sleeve, Raspberry, 9 Ounce\": {\"frequency\": 55, \"value\": \"Lifefactory Glass ...\"}, \"Boon Naked Collapsible Baby Bathtub, Blue/White\": {\"frequency\": 18, \"value\": \"Boon Naked ...\"}, \"Cardinal Gates Door Guardian, Brass\": {\"frequency\": 33, \"value\": \"Cardinal Gates ...\"}, \"OXO Tot Straw and Sippy Cup Top Cleaning Set, Orange\": {\"frequency\": 48, \"value\": \"OXO Tot Straw and ...\"}, \"Stork Craft Aspen Combo Dresser Chest, Natural\": {\"frequency\": 70, \"value\": \"Stork Craft Aspen ...\"}, \"Disney 4 Piece Minnie's Fluttery Friends Toddler Bedding Set, Lavender\": {\"frequency\": 30, \"value\": \"Disney 4 Piece ...\"}, \"Eddie Bauer Harness Buddy, Monkey\": {\"frequency\": 25, \"value\": \"Eddie Bauer ...\"}, \"Britax Advocate 70-G3 Convertible Car Seat, Onyx\": {\"frequency\": 75, \"value\": \"Britax Advocate ...\"}, \"Boon Animal Bag Stuffed Animal Storage, Blue Raspberry\": {\"frequency\": 38, \"value\": \"Boon Animal Bag ...\"}, \"Mommy's Helper Contoured Cushie Tushie Potty Seat\": {\"frequency\": 23, \"value\": \"Mommy's Helper ...\"}, \"Sunshine Kids Ultra Mat - Gray\": {\"frequency\": 23, \"value\": \"Sunshine Kids ...\"}, \"Arm's Reach Natural Original Co-Sleeper\": {\"frequency\": 35, \"value\": \"Arm's Reach ...\"}, \"Snuza Baby Monitor, Hero\": {\"frequency\": 57, \"value\": \"Snuza Baby ...\"}, \"Graco Ultra Clear  49MHZ Baby Monitor\": {\"frequency\": 26, \"value\": \"Graco Ultra Clear ...\"}, \"Angel Dear Cuddle Twin Set, Brown Puppy\": {\"frequency\": 25, \"value\": \"Angel Dear Cuddle ...\"}, \"Yummi Pouch (Set of 6)\": {\"frequency\": 66, \"value\": \"Yummi Pouch (Set ...\"}, \"Tortle Repositioning Beanie - FDA cleared to Prevent and Treat Flat Head Syndrome - Whimisical Blue Elephant - MD\": {\"frequency\": 18, \"value\": \"Tortle ...\"}, \"OXO Tot Sprout Chair, Orange/Birch\": {\"frequency\": 44, \"value\": \"OXO Tot Sprout ...\"}, \"BEABA Babycook PRO - Sorbet\": {\"frequency\": 18, \"value\": \"BEABA Babycook PRO ...\"}, \"American Baby Company Celery Stripe 100% Cotton Percale Crib Sheet\": {\"frequency\": 27, \"value\": \"American Baby ...\"}, \"BABYBJORN Comfort Carrier - Gray, Organic\": {\"frequency\": 24, \"value\": \"BABYBJORN Comfort ...\"}, \"L'ovedbaby 4-in-1 Nursing Shawl Out-on-the-Town Brown\": {\"frequency\": 22, \"value\": \"L'ovedbaby 4-in-1 ...\"}, \"Kalencom On the Go Potty, Blue\": {\"frequency\": 36, \"value\": \"Kalencom On the Go ...\"}, \"The Ultimate Baby Wrap in Navy\": {\"frequency\": 22, \"value\": \"The Ultimate Baby ...\"}, \"Planet Wise Wet Diaper Bag, Black, Small\": {\"frequency\": 160, \"value\": \"Planet Wise Wet ...\"}, \"Milkscreen: Home Test to Detect Alcohol in Breast Milk 8 Test Strips\": {\"frequency\": 23, \"value\": \"Milkscreen: Home ...\"}, \"Thirsties Duo All in One Snap, Blackbird, Size One (6-18 lbs)\": {\"frequency\": 27, \"value\": \"Thirsties Duo All ...\"}, \"Evenflo Jenny Jump Up Jumper, Pink/Gray/White\": {\"frequency\": 21, \"value\": \"Evenflo Jenny Jump ...\"}, \"Noodlehead Travel Buddies Neck Pillow - Dog\": {\"frequency\": 26, \"value\": \"Noodlehead Travel ...\"}, \"Joovy Room&sup2; Portable Playard, Red\": {\"frequency\": 64, \"value\": \"Joovy Room&sup2; ...\"}, \"Luvable Friends Fitted Crib Sheet, Construction\": {\"frequency\": 27, \"value\": \"Luvable Friends ...\"}, \"Summer Infant Deluxe Day &amp; Night Handheld Color Video Monitor with 2.5&quot; Screen - Pink\": {\"frequency\": 73, \"value\": \"Summer Infant ...\"}, \"Tiny Love Take Along Mobile, Animal Friends\": {\"frequency\": 133, \"value\": \"Tiny Love Take ...\"}, \"Econobum One Size Cloth Diapers Trial Pack (White)\": {\"frequency\": 29, \"value\": \"Econobum One Size ...\"}, \"The First Years Sounds For Silence Nursery Sound Machine\": {\"frequency\": 18, \"value\": \"The First Years ...\"}, \"OXO Tot Dishwasher Basket, Orange\": {\"frequency\": 23, \"value\": \"OXO Tot Dishwasher ...\"}, \"Munchkin High Capacity Drying Rack, White\": {\"frequency\": 22, \"value\": \"Munchkin High ...\"}, \"Skip Hop Studio Diaper Bag, Black Dot\": {\"frequency\": 82, \"value\": \"Skip Hop Studio ...\"}, \"Beco Gemini Baby Carrier - Paige\": {\"frequency\": 80, \"value\": \"Beco Gemini Baby ...\"}, \"Safety 1st Go Hybrid Convertible Booster, Waterloo\": {\"frequency\": 20, \"value\": \"Safety 1st Go ...\"}, \"Graco Pack N Play Playard with Bassinet, Pasadena\": {\"frequency\": 65, \"value\": \"Graco Pack N Play ...\"}, \"Sassy Crib and Floor Mirror\": {\"frequency\": 100, \"value\": \"Sassy Crib and ...\"}, \"Evenflo Compact Fold High Chair, Covington\": {\"frequency\": 18, \"value\": \"Evenflo Compact ...\"}, \"Munchkin Steam Guard Microwave Sterilizer Bags, 6 Pack, White\": {\"frequency\": 38, \"value\": \"Munchkin Steam ...\"}, \"American Baby Company Quilted Fitted Waterproof Fitted Cradle Mattress Pad Cover\": {\"frequency\": 19, \"value\": \"American Baby ...\"}, \"Kinderglo Portable Fun and Safe Rechargeable Night Light, Hippo\": {\"frequency\": 24, \"value\": \"Kinderglo Portable ...\"}, \"Britax Stroller Organizer, Black\": {\"frequency\": 97, \"value\": \"Britax Stroller ...\"}, \"Carters Easy Fit Velour Plush Crib Fitted Sheet, Chocolate\": {\"frequency\": 122, \"value\": \"Carters Easy Fit ...\"}, \"The First Years Night and Day Bottle Warmer System\": {\"frequency\": 47, \"value\": \"The First Years ...\"}, \"Evenflo Portable Ultrasaucer\": {\"frequency\": 61, \"value\": \"Evenflo Portable ...\"}, \"Thermos Foogo Leak-Proof Stainless Steel 10-Ounce Food Jar, Pink\": {\"frequency\": 226, \"value\": \"Thermos Foogo ...\"}, \"HALO SleepSack 100% Cotton Wearable Blanket, Soft Pink, Small\": {\"frequency\": 121, \"value\": \"HALO SleepSack ...\"}, \"Potty Time Potty Watch - Blue\": {\"frequency\": 108, \"value\": \"Potty Time Potty ...\"}, \"Custom Fit KidCo Configure Gate - White\": {\"frequency\": 33, \"value\": \"Custom Fit KidCo ...\"}, \"Luvable Friends Geometric Print Fitted Knit Crib Sheet, Blue\": {\"frequency\": 20, \"value\": \"Luvable Friends ...\"}, \"Evenflo SimpleStep Pressure Gate Taupe\": {\"frequency\": 28, \"value\": \"Evenflo SimpleStep ...\"}, \"Growing Up Green Wood Step Stool, Natural\": {\"frequency\": 45, \"value\": \"Growing Up Green ...\"}, \"American Baby Company 100% Cotton Value Jersey Knit Fitted Portable/Mini Sheet, Celery\": {\"frequency\": 125, \"value\": \"American Baby ...\"}, \"Vulli Sophie the Giraffe Teether\": {\"frequency\": 785, \"value\": \"Vulli Sophie the ...\"}, \"Ba Baby Bottle Holder, Pink\": {\"frequency\": 16, \"value\": \"Ba Baby Bottle ...\"}, \"DaVinci Sleigh Toddler Bed - Honey Oak\": {\"frequency\": 30, \"value\": \"DaVinci Sleigh ...\"}, \"Disney Cars Step Stool\": {\"frequency\": 34, \"value\": \"Disney Cars Step ...\"}, \"Safety 1st Kirby Inflatable Tub\": {\"frequency\": 44, \"value\": \"Safety 1st Kirby ...\"}, \"Mobi Mobicam Digital Wireless Video Monitor\": {\"frequency\": 20, \"value\": \"Mobi Mobicam ...\"}, \"TL Care Organic Cotton Mittens, Natural, 0-3 Months\": {\"frequency\": 32, \"value\": \"TL Care Organic ...\"}, \"Graco Silhouette Pack 'N Play Playard, Carlisle\": {\"frequency\": 19, \"value\": \"Graco Silhouette ...\"}, \"Arms Reach Co-Sleeper brand Mini Co-Sleeper Bassinet - Natural\": {\"frequency\": 24, \"value\": \"Arms Reach Co- ...\"}, \"Hand Held Scalp Head Massager - Set of Three ( Colors May Vary )\": {\"frequency\": 181, \"value\": \"Hand Held Scalp ...\"}, \"Samsung SEW-3036WN Wireless Video Baby Monitor IR Night Vision Zoom 3.5 inch\": {\"frequency\": 46, \"value\": \"Samsung SEW-3036WN ...\"}, \"Sugar Booger &quot;Yee Haw&quot; Feeding Collection Divided Suction Plate\": {\"frequency\": 23, \"value\": \"Sugar Booger ...\"}, \"Summer Infant CushyStraps, Pink\": {\"frequency\": 45, \"value\": \"Summer Infant ...\"}, \"Fisher-Price Rainforest Waterfall Peek-a-Boo Soother\": {\"frequency\": 37, \"value\": \"Fisher-Price ...\"}, \"Safety 1st Lock Release Fridge Latch\": {\"frequency\": 21, \"value\": \"Safety 1st Lock ...\"}, \"Sunshine Kids Seat Belt Pillow, Grey\": {\"frequency\": 23, \"value\": \"Sunshine Kids Seat ...\"}, \"Philips AVENT Day Disposable Breast Pads, 60-Count\": {\"frequency\": 30, \"value\": \"Philips AVENT Day ...\"}, \"The First Years Hands Free Gate\": {\"frequency\": 181, \"value\": \"The First Years ...\"}, \"BABYBJORN Baby Carrier Active, Black/Red\": {\"frequency\": 41, \"value\": \"BABYBJORN Baby ...\"}, \"Pikibu I-See-You Car Family Mirror, Black\": {\"frequency\": 32, \"value\": \"Pikibu I-See-You ...\"}, \"Medela 150 Ml Storage Bottle Case of 10 BPA FREE\": {\"frequency\": 21, \"value\": \"Medela 150 Ml ...\"}, \"Baby Jogger 2011 City Mini Single Stroller, Black/Black\": {\"frequency\": 24, \"value\": \"Baby Jogger 2011 ...\"}, \"Fisher-Price Discover 'n Grow Storybook Projection Soother\": {\"frequency\": 27, \"value\": \"Fisher-Price ...\"}, \"Summer Infant Quickchange Portable Changing Pad, Black\": {\"frequency\": 26, \"value\": \"Summer Infant ...\"}, \"Evenflo Tribute 5 Convertible Car Seat, Ella\": {\"frequency\": 109, \"value\": \"Evenflo Tribute 5 ...\"}, \"Sesame Street Bath Tub Faucet Cover - Elmo\": {\"frequency\": 26, \"value\": \"Sesame Street Bath ...\"}, \"North States Supergate Extra Wide Wire Mesh Gate\": {\"frequency\": 46, \"value\": \"North States ...\"}, \"Child to Cherish Handprints Tower Of Time Kit in Pink\": {\"frequency\": 20, \"value\": \"Child to Cherish ...\"}, \"Safety 1st Sit Booster Seat, Green\": {\"frequency\": 18, \"value\": \"Safety 1st Sit ...\"}, \"Bright Starts Lots of Links- Solid Colors\": {\"frequency\": 70, \"value\": \"Bright Starts Lots ...\"}, \"Moby Wrap Original 100% Cotton Baby Carrier, Red\": {\"frequency\": 200, \"value\": \"Moby Wrap Original ...\"}, \"Medela Pump in Style Advanced Breast Pump with On the Go Tote\": {\"frequency\": 89, \"value\": \"Medela Pump in ...\"}, \"EvenFlo SmartSteps Exersaucer Entertainer\": {\"frequency\": 38, \"value\": \"EvenFlo SmartSteps ...\"}, \"Skip Hop Zoo Bib, Dog\": {\"frequency\": 26, \"value\": \"Skip Hop Zoo Bib, ...\"}, \"BabyComfyNose Nasal Aspirator (Blue)\": {\"frequency\": 96, \"value\": \"BabyComfyNose ...\"}, \"EveryDay Willow Wool Dryer Balls Gift Set of 3, Natural\": {\"frequency\": 21, \"value\": \"EveryDay Willow ...\"}, \"Prince Lionheart weePOD Basix, Ash Grey\": {\"frequency\": 55, \"value\": \"Prince Lionheart ...\"}, \"Fisher-Price Private Connection Monitor with Dual Receivers - White and Grey\": {\"frequency\": 26, \"value\": \"Fisher-Price ...\"}, \"Evenflo 6 Pack Classic Glass Bottle, 8-Ounce\": {\"frequency\": 42, \"value\": \"Evenflo 6 Pack ...\"}, \"The First Years 3 Pack Breastflow Bottle, 9 Ounce\": {\"frequency\": 52, \"value\": \"The First Years 3 ...\"}, \"Dreambaby Sliding Locks, 3 Pack\": {\"frequency\": 31, \"value\": \"Dreambaby Sliding ...\"}, \"Supergate Deluxe D&eacute;cor Metal Gate, Espresso\": {\"frequency\": 98, \"value\": \"Supergate Deluxe ...\"}, \"Sassy Pop n' Push Car\": {\"frequency\": 67, \"value\": \"Sassy Pop n' Push ...\"}, \"Baby K'tan Baby Carrier, Black, X-Large\": {\"frequency\": 112, \"value\": \"Baby K'tan Baby ...\"}, \"Redmon Bongo Buckets\": {\"frequency\": 22, \"value\": \"Redmon Bongo ...\"}, \"ProGradeTM Lever Handle Lock by Safety 1st\": {\"frequency\": 22, \"value\": \"ProGradeTM Lever ...\"}, \"Flingshot Flying Monkey\": {\"frequency\": 39, \"value\": \"Flingshot Flying ...\"}, \"Skip Hop Dunks Stacking Bath Toy, Blue, Green, Yellow\": {\"frequency\": 23, \"value\": \"Skip Hop Dunks ...\"}, \"Bumkins Waterproof Starterbib, Blue Fizz\": {\"frequency\": 24, \"value\": \"Bumkins Waterproof ...\"}, \"Tenergy 8 pcs C Size 5000 mAh high capacity high rate NiMH Rechargeable batteries\": {\"frequency\": 22, \"value\": \"Tenergy 8 pcs C ...\"}, \"Protect-a-Bub Single Compact Sunshade, Black\": {\"frequency\": 19, \"value\": \"Protect-a-Bub ...\"}, \"OXO Tot 4-Piece Feeding Set, Green\": {\"frequency\": 27, \"value\": \"OXO Tot 4-Piece ...\"}, \"Goldbug Animal 2 in 1 Harness, Horse\": {\"frequency\": 55, \"value\": \"Goldbug Animal 2 ...\"}, \"BABYBJORN Soft Bib, Red\": {\"frequency\": 109, \"value\": \"BABYBJORN Soft ...\"}, \"Dexbaby Nursery Organizer, White\": {\"frequency\": 41, \"value\": \"Dexbaby Nursery ...\"}, \"Wee Gallery Art Cards for Baby, Sea Collection\": {\"frequency\": 41, \"value\": \"Wee Gallery Art ...\"}, \"Fisher-Price Kick and Play Piano Gym, Discover 'N Grow\": {\"frequency\": 184, \"value\": \"Fisher-Price Kick ...\"}, \"Fisher-Price Booster Seat, Rainforest\": {\"frequency\": 82, \"value\": \"Fisher-Price ...\"}, \"Motorola Blink1 Wi-Fi Video Camera for Remote Viewing with iPhone and Android Smartphones and Tablets, Red\": {\"frequency\": 22, \"value\": \"Motorola Blink1 ...\"}, \"GumDrop Pacifier Full-Term Natural Scent Blue 5 Pack\": {\"frequency\": 22, \"value\": \"GumDrop Pacifier ...\"}, \"Fisher-Price Newborn Rock 'n Play Sleeper,  Rainforest Friends\": {\"frequency\": 23, \"value\": \"Fisher-Price ...\"}, \"Blooming Bath Baby Bath - Hot Pink\": {\"frequency\": 36, \"value\": \"Blooming Bath Baby ...\"}, \"MOBI Digital Ultra Thermometer\": {\"frequency\": 23, \"value\": \"MOBI Digital Ultra ...\"}, \"timi &amp; leslie Charlie 7-Piece Diaper Bag Set, Light Brown\": {\"frequency\": 25, \"value\": \"timi &amp; leslie ...\"}, \"Carter's First Year Calendar, Laguna\": {\"frequency\": 26, \"value\": \"Carter's First ...\"}, \"Kidswitch Light Switch Extender- 3 Pack\": {\"frequency\": 70, \"value\": \"Kidswitch Light ...\"}, \"Cardinal Gates Stairway Special Gate, Black\": {\"frequency\": 27, \"value\": \"Cardinal Gates ...\"}, \"Mountain Buggy Duet Double Buggy Stroller, Black/Flint\": {\"frequency\": 18, \"value\": \"Mountain Buggy ...\"}, \"Econobum Full Kit\": {\"frequency\": 21, \"value\": \"Econobum Full Kit\"}, \"Itzy Ritzy Snack Happens Reusable Snack Bag, Rodeo Drive\": {\"frequency\": 110, \"value\": \"Itzy Ritzy Snack ...\"}, \"Gund Baby Lena Lamb Musical Toy, Jesus Loves Me\": {\"frequency\": 25, \"value\": \"Gund Baby Lena ...\"}, \"Luvable Friends 6-Pack Flannel Receiving Blankets, Blue\": {\"frequency\": 39, \"value\": \"Luvable Friends ...\"}, \"Tommee Tippee Travel Bottle and Food Warmer\": {\"frequency\": 41, \"value\": \"Tommee Tippee ...\"}, \"Seventh Generation Chlorine Free Baby Wipes Refill 350ct.\": {\"frequency\": 125, \"value\": \"Seventh Generation ...\"}, \"Summer Infant 3-Stage Superseat Highchair, Green\": {\"frequency\": 108, \"value\": \"Summer Infant ...\"}, \"4Moms 2014 Mamaroo Classic- Classic Black\": {\"frequency\": 50, \"value\": \"4Moms 2014 Mamaroo ...\"}, \"Prince Lionheart Backseat Kick Mat, Black\": {\"frequency\": 20, \"value\": \"Prince Lionheart ...\"}, \"PRIMO Infant Bath Seat (White)\": {\"frequency\": 33, \"value\": \"PRIMO Infant Bath ...\"}, \"OXO Tot Baby Blocks Freezer Storage Containers 2 Ounce, Set 6, Clear\": {\"frequency\": 93, \"value\": \"OXO Tot Baby ...\"}, \"Britax 2012 B-Agile Stroller, Red\": {\"frequency\": 81, \"value\": \"Britax 2012 ...\"}, \"Sassy Ring O' Links Rattle Developmental Toy\": {\"frequency\": 50, \"value\": \"Sassy Ring O' ...\"}, \"Munchkin Deluxe Drying Rack\": {\"frequency\": 22, \"value\": \"Munchkin Deluxe ...\"}, \"Evenflo Bounce and Learn Bee Exersaucer\": {\"frequency\": 66, \"value\": \"Evenflo Bounce and ...\"}, \"NUK Gerber Graduates Rest Easy Spoons, 5-Count\": {\"frequency\": 18, \"value\": \"NUK Gerber ...\"}, \"Bumkins Waterproof Zippered Wet/Dry Bag, Blue Owl\": {\"frequency\": 26, \"value\": \"Bumkins Waterproof ...\"}, \"Badger Basket Three Basket Set, Pink\": {\"frequency\": 24, \"value\": \"Badger Basket ...\"}, \"Skip Hop 20 Piece 70&quot;x56&quot; PlaySpot Floor Mat, Blue/Gold\": {\"frequency\": 39, \"value\": \"Skip Hop 20 Piece ...\"}, \"Crown Crafts The Original NoJo BabySling by Dr. Sears in Black Chambray\": {\"frequency\": 29, \"value\": \"Crown Crafts The ...\"}, \"Susen Safe Shampoo Shower Bathing Protect Soft Cap Hat for Baby Children Kids (Pink)\": {\"frequency\": 25, \"value\": \"Susen Safe Shampoo ...\"}, \"Britax Boulevard Convertible Car Seat, Onyx\": {\"frequency\": 21, \"value\": \"Britax Boulevard ...\"}, \"Graco Affix Highback Booster Seat with Latch System, Atomic\": {\"frequency\": 43, \"value\": \"Graco Affix ...\"}, \"Tiny Love Musical Nature Stroll Toy Bar\": {\"frequency\": 44, \"value\": \"Tiny Love Musical ...\"}, \"Motorola Additional Camera for Motorola MBP36 Baby Monitor, Brown with White\": {\"frequency\": 36, \"value\": \"Motorola ...\"}, \"Inclined to Sleep\": {\"frequency\": 37, \"value\": \"Inclined to Sleep\"}, \"Britax B-Agile and B-Safe Travel System, Red\": {\"frequency\": 24, \"value\": \"Britax B-Agile and ...\"}, \"Evenflo AMP Graphics No Back Car Seat Booster, Retro Flowers\": {\"frequency\": 30, \"value\": \"Evenflo AMP ...\"}, \"Cloud b Twilight Constellation Night Light, Turtle\": {\"frequency\": 520, \"value\": \"Cloud b Twilight ...\"}, \"The First Years Sure Comfort Newborn to Toddler Tub\": {\"frequency\": 19, \"value\": \"The First Years ...\"}, \"Simple Wishes Honeysuckle Breastmilk Storage Bags, 25-Count\": {\"frequency\": 51, \"value\": \"Simple Wishes ...\"}, \"The First Years True Fit SI C680 Car Seat, Naturalization\": {\"frequency\": 18, \"value\": \"The First Years ...\"}, \"6 Ounce Portable Reusable Resealable and Refillable Food Pouch for Baby Food (6-Pack) By Precious Tummies. Great for Applesauce, Juices, Smoothies, Yogurt, Puree, and More. Perfect Accessory For Meals on the Go and Lunch Box Snacks. Double Reinforced Top Zipper Leak Guard To Prevent Leaks.\": {\"frequency\": 27, \"value\": \"6 Ounce Portable ...\"}, \"GumDrop Pacifier Full-Term Natural Scent Pink 5 Pack\": {\"frequency\": 28, \"value\": \"GumDrop Pacifier ...\"}, \"LA Baby 4 Sided Changing Pad 32&quot;, White\": {\"frequency\": 37, \"value\": \"LA Baby 4 Sided ...\"}, \"Cloud b Twilight Constellation Night Light, Sea Turtle\": {\"frequency\": 138, \"value\": \"Cloud b Twilight ...\"}, \"Snuza Hero Baby Movement Monitor\": {\"frequency\": 54, \"value\": \"Snuza Hero Baby ...\"}, \"Britax Kick Mats (2-Pack, Black)\": {\"frequency\": 91, \"value\": \"Britax Kick Mats ...\"}, \"Philips AVENT Digital Video Baby Monitor\": {\"frequency\": 27, \"value\": \"Philips AVENT ...\"}, \"Bright Starts Grab and Stack Blocks\": {\"frequency\": 77, \"value\": \"Bright Starts Grab ...\"}, \"Nosefrida Nasal Aspirator with addtional 20 Hygiene Filters\": {\"frequency\": 30, \"value\": \"Nosefrida Nasal ...\"}, \"Infant Optics Add-On Camera for DXR-5 2.4 Ghz Video Monitor (DXR-871)\": {\"frequency\": 22, \"value\": \"Infant Optics Add- ...\"}, \"KidCo Angle Mount Safeway  - Black\": {\"frequency\": 29, \"value\": \"KidCo Angle Mount ...\"}, \"Graco DuoGlider Classic Connect Stroller, Dragonfly\": {\"frequency\": 30, \"value\": \"Graco DuoGlider ...\"}, \"Ring Snuggies ~ Ring Sizer / Assorted Sizes Adjuster Set of Six Per Pack\": {\"frequency\": 40, \"value\": \"Ring Snuggies ~ ...\"}, \"JJ Cole Mode Diaper Tote Bag, Cocoa Tree\": {\"frequency\": 19, \"value\": \"JJ Cole Mode ...\"}, \"Natursutten BPA-Free Natural Rubber Pacifier, Rounded, 12 Months\": {\"frequency\": 24, \"value\": \"Natursutten BPA- ...\"}, \"Simmons Kids Beautyrest Beginnings Sleepy Whispers Ultra Deluxe 2 n 1 Crib and Toddler Mattress, Neutral\": {\"frequency\": 25, \"value\": \"Simmons Kids ...\"}, \"Baby Einstein Bendy Ball\": {\"frequency\": 159, \"value\": \"Baby Einstein ...\"}, \"Leachco Snoogle Mini Compact Side Sleeper, Sage/White dot\": {\"frequency\": 55, \"value\": \"Leachco Snoogle ...\"}, \"Summer Infant SwaddleMe Organic Adjustable Infant Wrap, Ivory, Large\": {\"frequency\": 24, \"value\": \"Summer Infant ...\"}, \"Britax B-Agile Stroller Child Tray\": {\"frequency\": 40, \"value\": \"Britax B-Agile ...\"}, \"Two Peas in a Pod - Ceramic Salt &amp; Pepper Shakers in Ivy Print Gift Box\": {\"frequency\": 21, \"value\": \"Two Peas in a Pod ...\"}, \"Contours Lite Stroller, Tangerine\": {\"frequency\": 86, \"value\": \"Contours Lite ...\"}, \"BABYBJORN BabySitter Wooden Toy\": {\"frequency\": 27, \"value\": \"BABYBJORN ...\"}, \"DaVinci Emily Mini Crib - White\": {\"frequency\": 29, \"value\": \"DaVinci Emily Mini ...\"}, \"Balboa Baby Nursing Cover, Blue Plaid\": {\"frequency\": 22, \"value\": \"Balboa Baby ...\"}, \"KidGear The Teethifier II\": {\"frequency\": 22, \"value\": \"KidGear The ...\"}, \"Britax Roundabout 55 Convertible Car Seat (Previous Version), Onyx\": {\"frequency\": 36, \"value\": \"Britax Roundabout ...\"}, \"Safety 1st Grip N' Twist Door Knob Cover, 4-Count\": {\"frequency\": 23, \"value\": \"Safety 1st Grip N' ...\"}, \"The First Years 4 Pack Take And Toss Spill Proof Cups, 10 Ounce, Colors May Vary\": {\"frequency\": 23, \"value\": \"The First Years 4 ...\"}, \"The First Years Soft Grip Trainer Seat, Blue\": {\"frequency\": 23, \"value\": \"The First Years ...\"}, \"Diono Ultra Mat Full-Size Seat Protector, Black\": {\"frequency\": 19, \"value\": \"Diono Ultra Mat ...\"}, \"Luvable Friends 12 Washcloths With Bonus Toy, Blue\": {\"frequency\": 23, \"value\": \"Luvable Friends 12 ...\"}, \"Evenflo 6 Pack Classic Glass Bottle, 4-Ounce\": {\"frequency\": 28, \"value\": \"Evenflo 6 Pack ...\"}, \"Nosefrida Hygiene Filters\": {\"frequency\": 27, \"value\": \"Nosefrida Hygiene ...\"}, \"Nuk Clear Replacement Spouts - 6 PACK Clear\": {\"frequency\": 24, \"value\": \"Nuk Clear ...\"}, \"Fisher-Price Newborn Rock n' Play Sleeper, Yellow\": {\"frequency\": 27, \"value\": \"Fisher-Price ...\"}, \"Maxboost Fusion Snap-on iPhone 5S/5 Case - Red (Fit Fusion Battery Case for iPhone 5S/5)\": {\"frequency\": 20, \"value\": \"Maxboost Fusion ...\"}, \"Chicco 360 Hook on High Chair, Midori\": {\"frequency\": 45, \"value\": \"Chicco 360 Hook on ...\"}, \"Britax Boulevard 70 CS Convertible Car Seat, Biscotti\": {\"frequency\": 34, \"value\": \"Britax Boulevard ...\"}, \"Lansinoh mOmma Straw Cup with Dual Handles, Orange\": {\"frequency\": 26, \"value\": \"Lansinoh mOmma ...\"}, \"Baby Deedee Sleep Nest Baby Sleeping Bag, Dream Blue, Small (0-6 Months)\": {\"frequency\": 70, \"value\": \"Baby Deedee Sleep ...\"}, \"Mommy's Helper Power Strip Safety Cover\": {\"frequency\": 18, \"value\": \"Mommy's Helper ...\"}, \"NUK Gerber GraduatesFun Grips Hard Spout Sippy Cups, Boy, 10 Ounce, 4-Count\": {\"frequency\": 23, \"value\": \"NUK Gerber ...\"}, \"Tommee Tippee Bottle, 9 Ounce, 3 Count\": {\"frequency\": 30, \"value\": \"Tommee Tippee ...\"}, \"Evenflo AMP High Back Car Seat Booster, Pink Angles\": {\"frequency\": 82, \"value\": \"Evenflo AMP High ...\"}, \"Bright Starts Around We Go Activity Station, Doodle Bugs\": {\"frequency\": 83, \"value\": \"Bright Starts ...\"}, \"Baby Einstein Lights &amp; Melodies Mirror\": {\"frequency\": 18, \"value\": \"Baby Einstein ...\"}, \"Kushies Waterproof Bib with Sleeves, Blue Circle, Infant\": {\"frequency\": 24, \"value\": \"Kushies Waterproof ...\"}, \"Proudbody My Little Prints Baby-Safe Ink Pad, Blue\": {\"frequency\": 55, \"value\": \"Proudbody My ...\"}, \"WubbaNub Lamb\": {\"frequency\": 49, \"value\": \"WubbaNub Lamb\"}, \"Mommys Helper Cushie Traveler Folding Padded Potty Seat with Carry Bag, White with Frog Design\": {\"frequency\": 18, \"value\": \"Mommys Helper ...\"}, \"BOB Infant Car Seat Adapter for Graco Single Strollers\": {\"frequency\": 19, \"value\": \"BOB Infant Car ...\"}, \"Philips AVENT BPA Free Classic Infant Starter Gift Set\": {\"frequency\": 69, \"value\": \"Philips AVENT BPA ...\"}, \"Leachco Prop 'R Shopper - Shopping Cart Cover - Sage Pin Dot\": {\"frequency\": 39, \"value\": \"Leachco Prop 'R ...\"}, \"Baby Food Containers- Sprout Cups - Reusable Stackable Storage Cups (12 Pack) with Tray and Dry-erase Marker - 100% BPA Free (2 Oz)\": {\"frequency\": 31, \"value\": \"Baby Food ...\"}, \"Britax Parkway SGL Belt-Positioning Booster Seat, Cub Pink\": {\"frequency\": 36, \"value\": \"Britax Parkway SGL ...\"}, \"Safety 1St Comfy Cushy 3-in-1 Potty\": {\"frequency\": 32, \"value\": \"Safety 1St Comfy ...\"}, \"Baby Jogger Car Seat Adapter for City Mini / City Elite\": {\"frequency\": 18, \"value\": \"Baby Jogger Car ...\"}, \"Medela Breastmilk Bottle Spare Parts\": {\"frequency\": 31, \"value\": \"Medela Breastmilk ...\"}, \"Merino Kids Baby Sleep Sack For Babies 0-2 Years, Banbury\": {\"frequency\": 20, \"value\": \"Merino Kids Baby ...\"}, \"Zo-li Buzz B. Baby Nail Trimmer\": {\"frequency\": 35, \"value\": \"Zo-li Buzz B. Baby ...\"}, \"Stork Craft Rochester Stages Crib with Drawer\": {\"frequency\": 22, \"value\": \"Stork Craft ...\"}, \"Tiny Love 3 in 1 Rocker Napper, Brown\": {\"frequency\": 60, \"value\": \"Tiny Love 3 in 1 ...\"}, \"Snappi Cloth Diaper Fasteners - Pack of 3 (Mint color mix)\": {\"frequency\": 30, \"value\": \"Snappi Cloth ...\"}, \"Summer Infant, Ultimate Training Pad - Twin Mattress, 38&quot; x 28&quot;\": {\"frequency\": 22, \"value\": \"Summer Infant, ...\"}, \"Maxboost Fusion Snap-on iPhone 5S/5 Case - Grey (Fit Fusion Battery Case for iPhone 5S/5)\": {\"frequency\": 22, \"value\": \"Maxboost Fusion ...\"}, \"Motorola MBP26 Wireless 2.4 GHz Video Baby Monitor with 2.4&quot; Color LCD Screen, Infrared Night Vision and Remote Camera Pan and Tilt\": {\"frequency\": 32, \"value\": \"Motorola MBP26 ...\"}, \"Gerber Graduates BPA Free 2 Pack Fun Grips spill Proof Cup, 10 Ounce, Colors May Vary\": {\"frequency\": 45, \"value\": \"Gerber Graduates ...\"}, \"Carter's Bound Keepsake Memory Book of Baby's First 5 Years, Laguna\": {\"frequency\": 38, \"value\": \"Carter's Bound ...\"}, \"LA Baby 4 Sided Changing Pad 30&quot;, White\": {\"frequency\": 31, \"value\": \"LA Baby 4 Sided ...\"}, \"Born Free Tru-Temp Bottle Warming System\": {\"frequency\": 18, \"value\": \"Born Free Tru-Temp ...\"}, \"Nuby 2 Pack Nurtur Care Infa Feeder Set, 4 Ounce, Colors May Vary\": {\"frequency\": 35, \"value\": \"Nuby 2 Pack Nurtur ...\"}, \"Munchkin White Hot Inflatable Duck Tub\": {\"frequency\": 79, \"value\": \"Munchkin White Hot ...\"}, \"Planet Wise Reusable Diaper Pail Liner, Avocado\": {\"frequency\": 104, \"value\": \"Planet Wise ...\"}, \"Fisher Price Fisher Price Fastfinder Deluxe Messenger Bag\": {\"frequency\": 22, \"value\": \"Fisher Price ...\"}, \"Summer Infant Lil' Loo Potty, Pink\": {\"frequency\": 65, \"value\": \"Summer Infant Lil' ...\"}, \"Pearhead Babyprints Keepsake Wall Frame, White\": {\"frequency\": 25, \"value\": \"Pearhead ...\"}, \"Baby Vac Nasal Aspirator 2012 Model\": {\"frequency\": 31, \"value\": \"Baby Vac Nasal ...\"}, \"BOB Handlebar Console, Duallie\": {\"frequency\": 20, \"value\": \"BOB Handlebar ...\"}, \"Angelcare Baby Sound Monitor, White\": {\"frequency\": 85, \"value\": \"Angelcare Baby ...\"}, \"Fisher-Price Precious Planet Whale of a Tub\": {\"frequency\": 65, \"value\": \"Fisher-Price ...\"}, \"Sesame Street Elmo Adventure Potty Chair\": {\"frequency\": 31, \"value\": \"Sesame Street Elmo ...\"}, \"Munchkin Click Lock 2 Count Flip Straw Cup, 9 ounce\": {\"frequency\": 21, \"value\": \"Munchkin Click ...\"}, \"3 Sprouts Laundry Hamper, Deer\": {\"frequency\": 29, \"value\": \"3 Sprouts Laundry ...\"}, \"Britax Marathon 70-G3 Convertible Car Seat, Onyx\": {\"frequency\": 174, \"value\": \"Britax Marathon ...\"}, \"Safety 1st Tubside Bath Seat\": {\"frequency\": 53, \"value\": \"Safety 1st Tubside ...\"}, \"RECARO ProRIDE Convertible Car Seat, Misty\": {\"frequency\": 156, \"value\": \"RECARO ProRIDE ...\"}, \"Baby Einstein Musical Motion Activity Jumper, Green\": {\"frequency\": 23, \"value\": \"Baby Einstein ...\"}, \"Munchkin Dora The Explorer Toddler Dining Set\": {\"frequency\": 60, \"value\": \"Munchkin Dora The ...\"}, \"Thermos Ice Mat, 9 Cube\": {\"frequency\": 30, \"value\": \"Thermos Ice Mat, 9 ...\"}, \"Playtex Diaper Genie Twist- Away Pail System\": {\"frequency\": 81, \"value\": \"Playtex Diaper ...\"}, \"babyletto Madison Swivel Glider, Mocha\": {\"frequency\": 25, \"value\": \"babyletto Madison ...\"}, \"The First Years 1 Pack Breastflow Bottle, 9 Ounce\": {\"frequency\": 26, \"value\": \"The First Years 1 ...\"}, \"Munchkin Travel Booster Seat\": {\"frequency\": 35, \"value\": \"Munchkin Travel ...\"}, \"Kissa's Pail Liner, White\": {\"frequency\": 49, \"value\": \"Kissa's Pail ...\"}, \"Summer Infant Tiny Diner for Highchairs, Blue\": {\"frequency\": 46, \"value\": \"Summer Infant Tiny ...\"}, \"Munchkin Click Lock Fresh Food Freezer Pops\": {\"frequency\": 20, \"value\": \"Munchkin Click ...\"}, \"Summer Infant Metal Expansion Gate, 6 Foot Wide Walk-Thru, Neutral finish\": {\"frequency\": 59, \"value\": \"Summer Infant ...\"}, \"Philips AVENT BPA Free Standard Breast Pump Conversion Kit\": {\"frequency\": 23, \"value\": \"Philips AVENT BPA ...\"}, \"Safety 1st Sounds n Lights Discovery Walker, Dino\": {\"frequency\": 32, \"value\": \"Safety 1st Sounds ...\"}, \"Britax B-Agile Stroller Adult Cup Holder\": {\"frequency\": 19, \"value\": \"Britax B-Agile ...\"}, \"Aden By aden + anais Muslin Swaddle Blanket 4 Pack, Oh My!\": {\"frequency\": 131, \"value\": \"Aden By aden + ...\"}, \"Britax Frontier 90 Booster Car Seat, Zebra\": {\"frequency\": 108, \"value\": \"Britax Frontier 90 ...\"}, \"Diono Radian Angle Adjuster\": {\"frequency\": 47, \"value\": \"Diono Radian Angle ...\"}, \"Summer Infant Best View Handheld Color Video Monitor, Sliver/White\": {\"frequency\": 37, \"value\": \"Summer Infant Best ...\"}, \"Boon Fluid -No-Spill Toddler Cup in Orange/Blue\": {\"frequency\": 27, \"value\": \"Boon Fluid -No- ...\"}, \"Summer Infant Ultra Plush Change Pad Cover, Blue\": {\"frequency\": 104, \"value\": \"Summer Infant ...\"}, \"Philips Avent Express Microwave Sterilizer\": {\"frequency\": 67, \"value\": \"Philips Avent ...\"}, \"Today's Mom Cozy Cuddler Pregnancy Pillow - White\": {\"frequency\": 22, \"value\": \"Today's Mom Cozy ...\"}, \"Bumkins 3 Pack Waterproof SuperBib\": {\"frequency\": 186, \"value\": \"Bumkins 3 Pack ...\"}, \"Fisher-Price Luv U Zoo Snuggle Cub Soother Mobile\": {\"frequency\": 21, \"value\": \"Fisher-Price Luv U ...\"}, \"Carters Easy Fit Jersey Portable Crib Fitted Sheet, Pink\": {\"frequency\": 27, \"value\": \"Carters Easy Fit ...\"}, \"Boppy Cottony Cute Slipcover, Emily's Garden\": {\"frequency\": 45, \"value\": \"Boppy Cottony Cute ...\"}, \"North States Supergate Stairway Gate\": {\"frequency\": 18, \"value\": \"North States ...\"}, \"Sunshine Kids Dry Seat Pad, Grey\": {\"frequency\": 28, \"value\": \"Sunshine Kids Dry ...\"}, \"Nuby Icybite Hard/Soft Teething Keys\": {\"frequency\": 26, \"value\": \"Nuby Icybite ...\"}, \"Infantino Sash Mei Tai Carrier Black/Gray\": {\"frequency\": 66, \"value\": \"Infantino Sash Mei ...\"}, \"BRICA goPad Diaper Changer\": {\"frequency\": 24, \"value\": \"BRICA goPad Diaper ...\"}, \"Replacement Tubing (Retail Pack of 2) for Medela Pump in Style and New Pump in Style Advanced Breast Pump - 100% BPA FREE\": {\"frequency\": 86, \"value\": \"Replacement Tubing ...\"}, \"Simple Wishes D Lite Hands Free Breastpump Bra, Soft Pink, Large to Plus Size\": {\"frequency\": 53, \"value\": \"Simple Wishes D ...\"}, \"JL Childress Wheelie Car Seat Travel Bag, Black\": {\"frequency\": 47, \"value\": \"JL Childress ...\"}, \"babyletto Mercer 3-in-1 Convertible Crib with Toddler Rail, Two Tone\": {\"frequency\": 21, \"value\": \"babyletto Mercer ...\"}, \"aden + anais Classic Muslin Crib Sheet, Up, Up &amp; Away Elephant\": {\"frequency\": 18, \"value\": \"aden + anais ...\"}, \"Babiators Unisex-Baby Infant Ops Junior Sunglasses, Black, Small\": {\"frequency\": 61, \"value\": \"Babiators Unisex- ...\"}, \"Bright Starts License to Drool Teether\": {\"frequency\": 33, \"value\": \"Bright Starts ...\"}, \"Edushape 4&quot; Sensory Balls, Set of 4, Solid\": {\"frequency\": 27, \"value\": \"Edushape 4&quot; ...\"}, \"Kiddopotamus Dreamsie Sleeper with Sleeves Microfleece Large, Ivory\": {\"frequency\": 21, \"value\": \"Kiddopotamus ...\"}, \"American Baby Company 100% Cotton Percale Fitted Portable/Mini Crib Sheet, Pink Dots\": {\"frequency\": 22, \"value\": \"American Baby ...\"}, \"Aquaus Toilet Bidet Handle / Diaper Sprayer with ** BONUS ** Rockin' Green Laundry Detergent and Tooth Tissue sample\": {\"frequency\": 20, \"value\": \"Aquaus Toilet ...\"}, \"Munchkin Cleaning Brush Set\": {\"frequency\": 33, \"value\": \"Munchkin Cleaning ...\"}, \"Cloud b Tranquil Turtle Night Light, Ocean\": {\"frequency\": 20, \"value\": \"Cloud b Tranquil ...\"}, \"OsoCozy Chinese Prefold Diapers, Infant 4x6x4\": {\"frequency\": 18, \"value\": \"OsoCozy Chinese ...\"}, \"Wubbanub Infant Pacifiers (Pink Kitty)\": {\"frequency\": 20, \"value\": \"Wubbanub Infant ...\"}, \"Bummis Super Whisper Wrap, White, 30 Pounds\": {\"frequency\": 20, \"value\": \"Bummis Super ...\"}, \"RECARO Performance SPORT Combination Harness to Booster, Vibe\": {\"frequency\": 34, \"value\": \"RECARO Performance ...\"}, \"JJ Cole Premaxx Sling Carrier - New Edition Red Orange\": {\"frequency\": 19, \"value\": \"JJ Cole Premaxx ...\"}, \"Baby Bottle Labels, Self-laminating - Great for Daycare\": {\"frequency\": 36, \"value\": \"Baby Bottle ...\"}, \"Dream On Me 3&quot; Foam Graco Pack 'n Play Mattress\": {\"frequency\": 87, \"value\": \"Dream On Me ...\"}, \"Munchkin Arm &amp; Hammer Diaper Pail withRefill Bags, 10-Count\": {\"frequency\": 26, \"value\": \"Munchkin Arm &amp; ...\"}, \"my best friend Inflatable breast feeding pillow\": {\"frequency\": 19, \"value\": \"my best friend ...\"}, \"Safety 1st Soothing Mist Ultrasonic Humidifier\": {\"frequency\": 63, \"value\": \"Safety 1st ...\"}, \"Baby Einstein Seek &amp; Discover Activity Gym\": {\"frequency\": 68, \"value\": \"Baby Einstein Seek ...\"}, \"Superyard Colorplay Ultimate Playard\": {\"frequency\": 20, \"value\": \"Superyard ...\"}, \"Fisher-Price Luv U Zoo Crib 'N Go Projector Soother\": {\"frequency\": 41, \"value\": \"Fisher-Price Luv U ...\"}, \"Thermos FOOGO Phases Stainless Steel Straw Bottle, Pink/Purple, 10 Ounce\": {\"frequency\": 151, \"value\": \"Thermos FOOGO ...\"}, \"Stork Craft Tuscany Glider and Ottoman, Cherry/Beige\": {\"frequency\": 66, \"value\": \"Stork Craft ...\"}, \"Dr. Brown's Gia Nursing Pillow\": {\"frequency\": 20, \"value\": \"Dr. Brown's Gia ...\"}, \"The Art of CureTM *SAFETY KNOTTED* Raw Multicolored- Certified Baltic Amber Baby Teething Necklace - w/The Art of Cure Jewelry Pouch (SHIPS AND SOLD IN THE USA)\": {\"frequency\": 18, \"value\": \"The Art of CureTM ...\"}, \"Hotslings Adjustable Pouch Baby Sling, Graham Cracker, Large\": {\"frequency\": 19, \"value\": \"Hotslings ...\"}, \"Sassy 2 Count Grow Up Cup, Purple/Orange, 9 Ounce\": {\"frequency\": 25, \"value\": \"Sassy 2 Count Grow ...\"}, \"Britax Boulevard 70 Convertible Car Seat (Previous Version), Onyx\": {\"frequency\": 36, \"value\": \"Britax Boulevard ...\"}, \"Cloud b Sound Machine Soother, Sleep Sheep\": {\"frequency\": 176, \"value\": \"Cloud b Sound ...\"}, \"Soft Gear My Booster Seat, Mint\": {\"frequency\": 28, \"value\": \"Soft Gear My ...\"}, \"Carters Keep Me Dry Flannel Lap Pads, Ecru, 3 Pack\": {\"frequency\": 63, \"value\": \"Carters Keep Me ...\"}, \"bumGenius One-Size Snap Closure Cloth Diaper 4.0 - Bubble\": {\"frequency\": 70, \"value\": \"bumGenius One-Size ...\"}, \"Wonderworld Peek-a-boo Ball\": {\"frequency\": 19, \"value\": \"Wonderworld ...\"}, \"UPPAbaby G-Luxe Stroller, Jake/Black\": {\"frequency\": 18, \"value\": \"UPPAbaby G-Luxe ...\"}, \"Postpartum Support Girdle Belt w/zipper Support Belly Band Medical-Grade Compression Bellefit\": {\"frequency\": 36, \"value\": \"Postpartum Support ...\"}, \"Cuisinart BFM-1000 Baby Food Maker and Bottle Warmer\": {\"frequency\": 28, \"value\": \"Cuisinart BFM-1000 ...\"}, \"JJ Cole Original Infant Bundleme, Khaki\": {\"frequency\": 19, \"value\": \"JJ Cole Original ...\"}, \"Fisher-Price Ocean Wonders Projector Soother\": {\"frequency\": 19, \"value\": \"Fisher-Price Ocean ...\"}, \"BRICA Baby In-Sight Magical Firefly Auto Mirror for in Car Safety\": {\"frequency\": 27, \"value\": \"BRICA Baby In- ...\"}, \"Nuby 2 Pack Replacement Silicone Spouts\": {\"frequency\": 18, \"value\": \"Nuby 2 Pack ...\"}, \"Baby Einstein Music and Discovery Travel Mirror\": {\"frequency\": 18, \"value\": \"Baby Einstein ...\"}, \"Chicco Liteway Stroller, Fuego\": {\"frequency\": 42, \"value\": \"Chicco Liteway ...\"}, \"CherryCreek Decals Giant Spring Flower Garden &amp; Tree Baby/Nursery Wall Sticker Decals for Boys and Girls (Tree 4.4 Feet Tall)\": {\"frequency\": 22, \"value\": \"CherryCreek Decals ...\"}, \"Dr. Brown's Standard Dishwashing Basket, Polypropylene\": {\"frequency\": 22, \"value\": \"Dr. Brown's ...\"}, \"Boon Frog Pod Suction Cup Bracket\": {\"frequency\": 20, \"value\": \"Boon Frog Pod ...\"}, \"Cradle Mattress - 18 X 36 X 2&quot; Thick\": {\"frequency\": 18, \"value\": \"Cradle Mattress - ...\"}, \"Evenflo Big Kid Booster Car Seat - Mercury\": {\"frequency\": 18, \"value\": \"Evenflo Big Kid ...\"}, \"Graco SimpleSwitch Highchair and Booster, Pasadena\": {\"frequency\": 56, \"value\": \"Graco SimpleSwitch ...\"}, \"Carters Keep Me Dry Flannel Bassinet Pad, Green/Yellow\": {\"frequency\": 55, \"value\": \"Carters Keep Me ...\"}, \"Graco DuetSoothe Swing + Rocker, Winslet\": {\"frequency\": 18, \"value\": \"Graco DuetSoothe ...\"}, \"aden + anais 3 Pack Muslin Washcloths, Water Baby\": {\"frequency\": 20, \"value\": \"aden + anais 3 ...\"}, \"green sprouts Warming Plate, Sage\": {\"frequency\": 27, \"value\": \"green sprouts ...\"}, \"Fisher-Price Rainforest Melodies and Lights Deluxe Gym\": {\"frequency\": 232, \"value\": \"Fisher-Price ...\"}, \"Maxi-Cosi Priori Convertible Car Seat, Gipsy\": {\"frequency\": 20, \"value\": \"Maxi-Cosi Priori ...\"}, \"Baby Trend Diaper Champ Deluxe, Blue\": {\"frequency\": 35, \"value\": \"Baby Trend Diaper ...\"}, \"NUK Mash &amp; Serve Bowl\": {\"frequency\": 105, \"value\": \"NUK Mash &amp; ...\"}, \"Medela Harmony Manual Breast Pump\": {\"frequency\": 126, \"value\": \"Medela Harmony ...\"}, \"GroVia Cloth Wipes, 12 count\": {\"frequency\": 45, \"value\": \"GroVia Cloth ...\"}, \"Bellybuds&reg; | Baby-Bump Sound System\": {\"frequency\": 23, \"value\": \"Bellybuds&reg; | ...\"}, \"Evenflo Single Breast Pump\": {\"frequency\": 25, \"value\": \"Evenflo Single ...\"}, \"C.R. Gibson Keepsake Chest, Jack\": {\"frequency\": 21, \"value\": \"C.R. Gibson ...\"}, \"Graco Nautilus 3-in-1 Car Seat, Matrix\": {\"frequency\": 419, \"value\": \"Graco Nautilus ...\"}, \"Ameda Purely Yours Ultra Breast Pump\": {\"frequency\": 21, \"value\": \"Ameda Purely Yours ...\"}, \"Baby Banana Bendable Training Toothbrush, Infant\": {\"frequency\": 158, \"value\": \"Baby Banana ...\"}, \"Keekaroo Height Right High Chair with Tray, Natural\": {\"frequency\": 39, \"value\": \"Keekaroo Height ...\"}, \"Regalo Easy Diner Portable Hook-On High Chair\": {\"frequency\": 114, \"value\": \"Regalo Easy Diner ...\"}, \"Britax Advocate 70 CS Convertible Car Seat, Zebra\": {\"frequency\": 22, \"value\": \"Britax Advocate 70 ...\"}, \"Munchkin Arm &amp; Hammer Disposable Changing Pad - 10 Pack\": {\"frequency\": 40, \"value\": \"Munchkin Arm &amp; ...\"}, \"Munchkin Warm Glow Wipe Warmer and Diaper Bag Dispenser Set (Colors may vary)\": {\"frequency\": 19, \"value\": \"Munchkin Warm Glow ...\"}, \"ERGObaby Original Baby Carrier, Camel\": {\"frequency\": 134, \"value\": \"ERGObaby Original ...\"}, \"BRICA Bath Kneeler\": {\"frequency\": 19, \"value\": \"BRICA Bath Kneeler\"}, \"Celebration Candles 1-21 Year Numbered Birthday Candle, Pink\": {\"frequency\": 21, \"value\": \"Celebration ...\"}, \"Infantino Squeeze Station\": {\"frequency\": 28, \"value\": \"Infantino Squeeze ...\"}}, \"size\": 183531}, \"selected_variable\": {\"name\": [\"<SArray>\"], \"dtype\": \"str\", \"view_component\": \"Categorical\", \"view_file\": \"sarray\", \"descriptives\": {\"rows\": 183531}, \"type\": \"SArray\", \"view_components\": [\"Categorical\"]}, \"histogram\": null}, e);\n",
       "                });\n",
       "            })();\n",
       "        "
      ]
     },
     "metadata": {},
     "output_type": "display_data"
    }
   ],
   "source": [
    "products['name'].show()"
   ]
  },
  {
   "cell_type": "markdown",
   "metadata": {},
   "source": [
    "#Explore Vulli Sophie"
   ]
  },
  {
   "cell_type": "code",
   "execution_count": 11,
   "metadata": {
    "collapsed": true
   },
   "outputs": [],
   "source": [
    "giraffe_reviews = products[products['name'] == \"Vulli Sophie the Giraffe Teether\"]"
   ]
  },
  {
   "cell_type": "code",
   "execution_count": 12,
   "metadata": {
    "collapsed": false
   },
   "outputs": [
    {
     "data": {
      "text/plain": [
       "785"
      ]
     },
     "execution_count": 12,
     "metadata": {},
     "output_type": "execute_result"
    }
   ],
   "source": [
    "len(giraffe_reviews)"
   ]
  },
  {
   "cell_type": "code",
   "execution_count": 13,
   "metadata": {
    "collapsed": false
   },
   "outputs": [
    {
     "data": {
      "application/javascript": [
       "$(\"head\").append($(\"<link/>\").attr({\n",
       "  rel:  \"stylesheet\",\n",
       "  type: \"text/css\",\n",
       "  href: \"//cdnjs.cloudflare.com/ajax/libs/font-awesome/4.1.0/css/font-awesome.min.css\"\n",
       "}));\n",
       "$(\"head\").append($(\"<link/>\").attr({\n",
       "  rel:  \"stylesheet\",\n",
       "  type: \"text/css\",\n",
       "  href: \"//dato.com/files/canvas/1.6.1/css/canvas.css\"\n",
       "}));\n",
       "\n",
       "            (function(){\n",
       "\n",
       "                var e = null;\n",
       "                if (typeof element == 'undefined') {\n",
       "                    var scripts = document.getElementsByTagName('script');\n",
       "                    var thisScriptTag = scripts[scripts.length-1];\n",
       "                    var parentDiv = thisScriptTag.parentNode;\n",
       "                    e = document.createElement('div');\n",
       "                    parentDiv.appendChild(e);\n",
       "                } else {\n",
       "                    e = element[0];\n",
       "                }\n",
       "\n",
       "                if (typeof requirejs !== 'undefined') {\n",
       "                    // disable load timeout; ipython_app.js is large and can take a while to load.\n",
       "                    requirejs.config({waitSeconds: 0});\n",
       "                }\n",
       "\n",
       "                require(['//dato.com/files/canvas/1.6.1/js/ipython_app.js'], function(IPythonApp){\n",
       "                    var app = new IPythonApp();\n",
       "                    app.attachView('sarray','Categorical', {\"ipython\": true, \"sketch\": {\"std\": 1.226576304850189, \"complete\": true, \"min\": 1.0, \"max\": 5.0, \"quantile\": [1.0, 1.0, 1.0, 1.0, 1.0, 1.0, 1.0, 1.0, 2.0, 2.0, 2.0, 2.0, 3.0, 3.0, 3.0, 3.0, 3.0, 3.0, 3.0, 3.0, 4.0, 4.0, 4.0, 4.0, 4.0, 4.0, 4.0, 4.0, 4.0, 4.0, 4.0, 4.0, 5.0, 5.0, 5.0, 5.0, 5.0, 5.0, 5.0, 5.0, 5.0, 5.0, 5.0, 5.0, 5.0, 5.0, 5.0, 5.0, 5.0, 5.0, 5.0, 5.0, 5.0, 5.0, 5.0, 5.0, 5.0, 5.0, 5.0, 5.0, 5.0, 5.0, 5.0, 5.0, 5.0, 5.0, 5.0, 5.0, 5.0, 5.0, 5.0, 5.0, 5.0, 5.0, 5.0, 5.0, 5.0, 5.0, 5.0, 5.0, 5.0, 5.0, 5.0, 5.0, 5.0, 5.0, 5.0, 5.0, 5.0, 5.0, 5.0, 5.0, 5.0, 5.0, 5.0, 5.0, 5.0, 5.0, 5.0, 5.0, 5.0], \"median\": 5.0, \"numeric\": true, \"num_unique\": 5, \"num_undefined\": 0, \"var\": 1.5044894316199438, \"progress\": 1.0, \"size\": 785, \"frequent_items\": {\"1.0\": {\"frequency\": 56, \"value\": 1.0}, \"2.0\": {\"frequency\": 37, \"value\": 2.0}, \"3.0\": {\"frequency\": 62, \"value\": 3.0}, \"4.0\": {\"frequency\": 95, \"value\": 4.0}, \"5.0\": {\"frequency\": 535, \"value\": 5.0}}, \"mean\": 4.2942675159235675}, \"selected_variable\": {\"name\": [\"<SArray>\"], \"dtype\": \"float\", \"view_component\": \"Categorical\", \"view_file\": \"sarray\", \"descriptives\": {\"rows\": 785}, \"type\": \"SArray\", \"view_components\": [\"Numeric\", \"Categorical\"]}, \"histogram\": {\"progress\": 1.0, \"histogram\": {\"max\": 5.0439843750025, \"bins\": [56, 0, 0, 37, 0, 0, 62, 0, 95, 0, 0, 535], \"min\": 0.9534375000025004}, \"min\": 1.0, \"complete\": 1, \"max\": 5.0}}, e);\n",
       "                });\n",
       "            })();\n",
       "        "
      ]
     },
     "metadata": {},
     "output_type": "display_data"
    }
   ],
   "source": [
    "giraffe_reviews['rating'].show(view = 'Categorical')"
   ]
  },
  {
   "cell_type": "markdown",
   "metadata": {},
   "source": [
    "#Build a sentiment classifier "
   ]
  },
  {
   "cell_type": "code",
   "execution_count": 14,
   "metadata": {
    "collapsed": false
   },
   "outputs": [
    {
     "data": {
      "application/javascript": [
       "$(\"head\").append($(\"<link/>\").attr({\n",
       "  rel:  \"stylesheet\",\n",
       "  type: \"text/css\",\n",
       "  href: \"//cdnjs.cloudflare.com/ajax/libs/font-awesome/4.1.0/css/font-awesome.min.css\"\n",
       "}));\n",
       "$(\"head\").append($(\"<link/>\").attr({\n",
       "  rel:  \"stylesheet\",\n",
       "  type: \"text/css\",\n",
       "  href: \"//dato.com/files/canvas/1.6.1/css/canvas.css\"\n",
       "}));\n",
       "\n",
       "            (function(){\n",
       "\n",
       "                var e = null;\n",
       "                if (typeof element == 'undefined') {\n",
       "                    var scripts = document.getElementsByTagName('script');\n",
       "                    var thisScriptTag = scripts[scripts.length-1];\n",
       "                    var parentDiv = thisScriptTag.parentNode;\n",
       "                    e = document.createElement('div');\n",
       "                    parentDiv.appendChild(e);\n",
       "                } else {\n",
       "                    e = element[0];\n",
       "                }\n",
       "\n",
       "                if (typeof requirejs !== 'undefined') {\n",
       "                    // disable load timeout; ipython_app.js is large and can take a while to load.\n",
       "                    requirejs.config({waitSeconds: 0});\n",
       "                }\n",
       "\n",
       "                require(['//dato.com/files/canvas/1.6.1/js/ipython_app.js'], function(IPythonApp){\n",
       "                    var app = new IPythonApp();\n",
       "                    app.attachView('sarray','Categorical', {\"ipython\": true, \"sketch\": {\"std\": 1.2850135559617413, \"complete\": true, \"min\": 1.0, \"max\": 5.0, \"quantile\": [1.0, 1.0, 1.0, 1.0, 1.0, 1.0, 1.0, 1.0, 1.0, 2.0, 2.0, 2.0, 2.0, 2.0, 2.0, 3.0, 3.0, 3.0, 3.0, 3.0, 3.0, 3.0, 3.0, 3.0, 4.0, 4.0, 4.0, 4.0, 4.0, 4.0, 4.0, 4.0, 4.0, 4.0, 4.0, 4.0, 4.0, 4.0, 4.0, 4.0, 4.0, 4.0, 5.0, 5.0, 5.0, 5.0, 5.0, 5.0, 5.0, 5.0, 5.0, 5.0, 5.0, 5.0, 5.0, 5.0, 5.0, 5.0, 5.0, 5.0, 5.0, 5.0, 5.0, 5.0, 5.0, 5.0, 5.0, 5.0, 5.0, 5.0, 5.0, 5.0, 5.0, 5.0, 5.0, 5.0, 5.0, 5.0, 5.0, 5.0, 5.0, 5.0, 5.0, 5.0, 5.0, 5.0, 5.0, 5.0, 5.0, 5.0, 5.0, 5.0, 5.0, 5.0, 5.0, 5.0, 5.0, 5.0, 5.0, 5.0, 5.0], \"median\": 5.0, \"numeric\": true, \"num_unique\": 5, \"num_undefined\": 0, \"var\": 1.651259839005439, \"progress\": 1.0, \"size\": 183531, \"frequent_items\": {\"1.0\": {\"frequency\": 15183, \"value\": 1.0}, \"2.0\": {\"frequency\": 11310, \"value\": 2.0}, \"3.0\": {\"frequency\": 16779, \"value\": 3.0}, \"4.0\": {\"frequency\": 33205, \"value\": 4.0}, \"5.0\": {\"frequency\": 107054, \"value\": 5.0}}, \"mean\": 4.1204483166331665}, \"selected_variable\": {\"name\": [\"<SArray>\"], \"dtype\": \"float\", \"view_component\": \"Categorical\", \"view_file\": \"sarray\", \"descriptives\": {\"rows\": 183531}, \"type\": \"SArray\", \"view_components\": [\"Numeric\", \"Categorical\"]}, \"histogram\": {\"progress\": 1.0, \"histogram\": {\"max\": 5.024, \"bins\": [15183, 0, 0, 11310, 0, 16779, 0, 0, 33205, 0, 0, 107054], \"min\": 0.992}, \"min\": 1.0, \"complete\": 1, \"max\": 5.0}}, e);\n",
       "                });\n",
       "            })();\n",
       "        "
      ]
     },
     "metadata": {},
     "output_type": "display_data"
    }
   ],
   "source": [
    "products['rating'].show(view = 'Categorical')"
   ]
  },
  {
   "cell_type": "markdown",
   "metadata": {},
   "source": [
    "##Define what's a positive and a negative sentiment"
   ]
  },
  {
   "cell_type": "code",
   "execution_count": 15,
   "metadata": {
    "collapsed": true
   },
   "outputs": [],
   "source": [
    "#ignore all 3* reviews\n",
    "products = products[products['rating'] != 3]"
   ]
  },
  {
   "cell_type": "code",
   "execution_count": 17,
   "metadata": {
    "collapsed": false
   },
   "outputs": [],
   "source": [
    "#positive sentiment = 4* or 5* reviews\n",
    "products['sentiment'] = products['rating'] >= 4"
   ]
  },
  {
   "cell_type": "code",
   "execution_count": 18,
   "metadata": {
    "collapsed": false
   },
   "outputs": [
    {
     "data": {
      "text/html": [
       "<div style=\"max-height:1000px;max-width:1500px;overflow:auto;\"><table frame=\"box\" rules=\"cols\">\n",
       "    <tr>\n",
       "        <th style=\"padding-left: 1em; padding-right: 1em; text-align: center\">name</th>\n",
       "        <th style=\"padding-left: 1em; padding-right: 1em; text-align: center\">review</th>\n",
       "        <th style=\"padding-left: 1em; padding-right: 1em; text-align: center\">rating</th>\n",
       "        <th style=\"padding-left: 1em; padding-right: 1em; text-align: center\">word_count</th>\n",
       "        <th style=\"padding-left: 1em; padding-right: 1em; text-align: center\">sentiment</th>\n",
       "    </tr>\n",
       "    <tr>\n",
       "        <td style=\"padding-left: 1em; padding-right: 1em; text-align: center; vertical-align: top\">Planetwise Wipe Pouch</td>\n",
       "        <td style=\"padding-left: 1em; padding-right: 1em; text-align: center; vertical-align: top\">it came early and was not<br>disappointed. i love ...</td>\n",
       "        <td style=\"padding-left: 1em; padding-right: 1em; text-align: center; vertical-align: top\">5.0</td>\n",
       "        <td style=\"padding-left: 1em; padding-right: 1em; text-align: center; vertical-align: top\">{'and': 3L, 'love': 1L,<br>'it': 2L, 'highly': 1L, ...</td>\n",
       "        <td style=\"padding-left: 1em; padding-right: 1em; text-align: center; vertical-align: top\">1</td>\n",
       "    </tr>\n",
       "    <tr>\n",
       "        <td style=\"padding-left: 1em; padding-right: 1em; text-align: center; vertical-align: top\">Annas Dream Full Quilt<br>with 2 Shams ...</td>\n",
       "        <td style=\"padding-left: 1em; padding-right: 1em; text-align: center; vertical-align: top\">Very soft and comfortable<br>and warmer than it ...</td>\n",
       "        <td style=\"padding-left: 1em; padding-right: 1em; text-align: center; vertical-align: top\">5.0</td>\n",
       "        <td style=\"padding-left: 1em; padding-right: 1em; text-align: center; vertical-align: top\">{'and': 2L, 'quilt': 1L,<br>'it': 1L, 'comfortable': ...</td>\n",
       "        <td style=\"padding-left: 1em; padding-right: 1em; text-align: center; vertical-align: top\">1</td>\n",
       "    </tr>\n",
       "    <tr>\n",
       "        <td style=\"padding-left: 1em; padding-right: 1em; text-align: center; vertical-align: top\">Stop Pacifier Sucking<br>without tears with ...</td>\n",
       "        <td style=\"padding-left: 1em; padding-right: 1em; text-align: center; vertical-align: top\">This is a product well<br>worth the purchase.  I ...</td>\n",
       "        <td style=\"padding-left: 1em; padding-right: 1em; text-align: center; vertical-align: top\">5.0</td>\n",
       "        <td style=\"padding-left: 1em; padding-right: 1em; text-align: center; vertical-align: top\">{'ingenious': 1L, 'and':<br>3L, 'love': 2L, ...</td>\n",
       "        <td style=\"padding-left: 1em; padding-right: 1em; text-align: center; vertical-align: top\">1</td>\n",
       "    </tr>\n",
       "    <tr>\n",
       "        <td style=\"padding-left: 1em; padding-right: 1em; text-align: center; vertical-align: top\">Stop Pacifier Sucking<br>without tears with ...</td>\n",
       "        <td style=\"padding-left: 1em; padding-right: 1em; text-align: center; vertical-align: top\">All of my kids have cried<br>non-stop when I tried to ...</td>\n",
       "        <td style=\"padding-left: 1em; padding-right: 1em; text-align: center; vertical-align: top\">5.0</td>\n",
       "        <td style=\"padding-left: 1em; padding-right: 1em; text-align: center; vertical-align: top\">{'and': 2L, 'parents!!':<br>1L, 'all': 2L, 'puppe ...</td>\n",
       "        <td style=\"padding-left: 1em; padding-right: 1em; text-align: center; vertical-align: top\">1</td>\n",
       "    </tr>\n",
       "    <tr>\n",
       "        <td style=\"padding-left: 1em; padding-right: 1em; text-align: center; vertical-align: top\">Stop Pacifier Sucking<br>without tears with ...</td>\n",
       "        <td style=\"padding-left: 1em; padding-right: 1em; text-align: center; vertical-align: top\">When the Binky Fairy came<br>to our house, we didn't ...</td>\n",
       "        <td style=\"padding-left: 1em; padding-right: 1em; text-align: center; vertical-align: top\">5.0</td>\n",
       "        <td style=\"padding-left: 1em; padding-right: 1em; text-align: center; vertical-align: top\">{'and': 2L, 'cute': 1L,<br>'help': 2L, 'doll': 1L, ...</td>\n",
       "        <td style=\"padding-left: 1em; padding-right: 1em; text-align: center; vertical-align: top\">1</td>\n",
       "    </tr>\n",
       "    <tr>\n",
       "        <td style=\"padding-left: 1em; padding-right: 1em; text-align: center; vertical-align: top\">A Tale of Baby's Days<br>with Peter Rabbit ...</td>\n",
       "        <td style=\"padding-left: 1em; padding-right: 1em; text-align: center; vertical-align: top\">Lovely book, it's bound<br>tightly so you may no ...</td>\n",
       "        <td style=\"padding-left: 1em; padding-right: 1em; text-align: center; vertical-align: top\">4.0</td>\n",
       "        <td style=\"padding-left: 1em; padding-right: 1em; text-align: center; vertical-align: top\">{'shop': 1L, 'be': 1L,<br>'is': 1L, 'it': 1L, ' ...</td>\n",
       "        <td style=\"padding-left: 1em; padding-right: 1em; text-align: center; vertical-align: top\">1</td>\n",
       "    </tr>\n",
       "    <tr>\n",
       "        <td style=\"padding-left: 1em; padding-right: 1em; text-align: center; vertical-align: top\">Baby Tracker&amp;reg; - Daily<br>Childcare Journal, ...</td>\n",
       "        <td style=\"padding-left: 1em; padding-right: 1em; text-align: center; vertical-align: top\">Perfect for new parents.<br>We were able to keep ...</td>\n",
       "        <td style=\"padding-left: 1em; padding-right: 1em; text-align: center; vertical-align: top\">5.0</td>\n",
       "        <td style=\"padding-left: 1em; padding-right: 1em; text-align: center; vertical-align: top\">{'feeding,': 1L, 'and':<br>2L, 'all': 1L, 'right': ...</td>\n",
       "        <td style=\"padding-left: 1em; padding-right: 1em; text-align: center; vertical-align: top\">1</td>\n",
       "    </tr>\n",
       "    <tr>\n",
       "        <td style=\"padding-left: 1em; padding-right: 1em; text-align: center; vertical-align: top\">Baby Tracker&amp;reg; - Daily<br>Childcare Journal, ...</td>\n",
       "        <td style=\"padding-left: 1em; padding-right: 1em; text-align: center; vertical-align: top\">A friend of mine pinned<br>this product on Pinte ...</td>\n",
       "        <td style=\"padding-left: 1em; padding-right: 1em; text-align: center; vertical-align: top\">5.0</td>\n",
       "        <td style=\"padding-left: 1em; padding-right: 1em; text-align: center; vertical-align: top\">{'and': 1L, 'help': 1L,<br>'give': 1L, 'is': 1L, ...</td>\n",
       "        <td style=\"padding-left: 1em; padding-right: 1em; text-align: center; vertical-align: top\">1</td>\n",
       "    </tr>\n",
       "    <tr>\n",
       "        <td style=\"padding-left: 1em; padding-right: 1em; text-align: center; vertical-align: top\">Baby Tracker&amp;reg; - Daily<br>Childcare Journal, ...</td>\n",
       "        <td style=\"padding-left: 1em; padding-right: 1em; text-align: center; vertical-align: top\">This has been an easy way<br>for my nanny to record ...</td>\n",
       "        <td style=\"padding-left: 1em; padding-right: 1em; text-align: center; vertical-align: top\">4.0</td>\n",
       "        <td style=\"padding-left: 1em; padding-right: 1em; text-align: center; vertical-align: top\">{'journal.': 1L, 'all':<br>1L, 'standarad': 1L, ...</td>\n",
       "        <td style=\"padding-left: 1em; padding-right: 1em; text-align: center; vertical-align: top\">1</td>\n",
       "    </tr>\n",
       "    <tr>\n",
       "        <td style=\"padding-left: 1em; padding-right: 1em; text-align: center; vertical-align: top\">Baby Tracker&amp;reg; - Daily<br>Childcare Journal, ...</td>\n",
       "        <td style=\"padding-left: 1em; padding-right: 1em; text-align: center; vertical-align: top\">I love this journal and<br>our nanny uses it ...</td>\n",
       "        <td style=\"padding-left: 1em; padding-right: 1em; text-align: center; vertical-align: top\">4.0</td>\n",
       "        <td style=\"padding-left: 1em; padding-right: 1em; text-align: center; vertical-align: top\">{'all': 1L, 'forget': 1L,<br>'just': 1L, \"daughter ...</td>\n",
       "        <td style=\"padding-left: 1em; padding-right: 1em; text-align: center; vertical-align: top\">1</td>\n",
       "    </tr>\n",
       "</table>\n",
       "[166752 rows x 5 columns]<br/>Note: Only the head of the SFrame is printed.<br/>You can use print_rows(num_rows=m, num_columns=n) to print more rows and columns.\n",
       "</div>"
      ],
      "text/plain": [
       "Columns:\n",
       "\tname\tstr\n",
       "\treview\tstr\n",
       "\trating\tfloat\n",
       "\tword_count\tdict\n",
       "\tsentiment\tint\n",
       "\n",
       "Rows: 166752\n",
       "\n",
       "Data:\n",
       "+-------------------------------+-------------------------------+--------+\n",
       "|              name             |             review            | rating |\n",
       "+-------------------------------+-------------------------------+--------+\n",
       "|     Planetwise Wipe Pouch     | it came early and was not ... |  5.0   |\n",
       "| Annas Dream Full Quilt wit... | Very soft and comfortable ... |  5.0   |\n",
       "| Stop Pacifier Sucking with... | This is a product well wor... |  5.0   |\n",
       "| Stop Pacifier Sucking with... | All of my kids have cried ... |  5.0   |\n",
       "| Stop Pacifier Sucking with... | When the Binky Fairy came ... |  5.0   |\n",
       "| A Tale of Baby's Days with... | Lovely book, it's bound ti... |  4.0   |\n",
       "| Baby Tracker&reg; - Daily ... | Perfect for new parents. W... |  5.0   |\n",
       "| Baby Tracker&reg; - Daily ... | A friend of mine pinned th... |  5.0   |\n",
       "| Baby Tracker&reg; - Daily ... | This has been an easy way ... |  4.0   |\n",
       "| Baby Tracker&reg; - Daily ... | I love this journal and ou... |  4.0   |\n",
       "+-------------------------------+-------------------------------+--------+\n",
       "+-------------------------------+-----------+\n",
       "|           word_count          | sentiment |\n",
       "+-------------------------------+-----------+\n",
       "| {'and': 3L, 'love': 1L, 'i... |     1     |\n",
       "| {'and': 2L, 'quilt': 1L, '... |     1     |\n",
       "| {'ingenious': 1L, 'and': 3... |     1     |\n",
       "| {'and': 2L, 'parents!!': 1... |     1     |\n",
       "| {'and': 2L, 'cute': 1L, 'h... |     1     |\n",
       "| {'shop': 1L, 'be': 1L, 'is... |     1     |\n",
       "| {'feeding,': 1L, 'and': 2L... |     1     |\n",
       "| {'and': 1L, 'help': 1L, 'g... |     1     |\n",
       "| {'journal.': 1L, 'all': 1L... |     1     |\n",
       "| {'all': 1L, 'forget': 1L, ... |     1     |\n",
       "+-------------------------------+-----------+\n",
       "[166752 rows x 5 columns]\n",
       "Note: Only the head of the SFrame is printed.\n",
       "You can use print_rows(num_rows=m, num_columns=n) to print more rows and columns."
      ]
     },
     "execution_count": 18,
     "metadata": {},
     "output_type": "execute_result"
    }
   ],
   "source": [
    "products"
   ]
  },
  {
   "cell_type": "markdown",
   "metadata": {},
   "source": [
    "##Let's train the sentiment classifier"
   ]
  },
  {
   "cell_type": "code",
   "execution_count": 20,
   "metadata": {
    "collapsed": false
   },
   "outputs": [],
   "source": [
    "train_data, test_data = products.random_split(0.80, seed = 0)"
   ]
  },
  {
   "cell_type": "code",
   "execution_count": 21,
   "metadata": {
    "collapsed": false
   },
   "outputs": [
    {
     "name": "stdout",
     "output_type": "stream",
     "text": [
      "PROGRESS: Logistic regression:\n",
      "PROGRESS: --------------------------------------------------------\n",
      "PROGRESS: Number of examples          : 133448\n",
      "PROGRESS: Number of classes           : 2\n",
      "PROGRESS: Number of feature columns   : 1\n",
      "PROGRESS: Number of unpacked features : 219217\n",
      "PROGRESS: Number of coefficients    : 219218\n",
      "PROGRESS: Starting L-BFGS\n",
      "PROGRESS: --------------------------------------------------------\n",
      "PROGRESS: +-----------+----------+-----------+--------------+-------------------+---------------------+\n",
      "PROGRESS: | Iteration | Passes   | Step size | Elapsed Time | Training-accuracy | Validation-accuracy |\n",
      "PROGRESS: +-----------+----------+-----------+--------------+-------------------+---------------------+\n",
      "PROGRESS: | 1         | 5        | 0.000002  | 5.175223     | 0.841481          | 0.839989            |\n",
      "PROGRESS: | 2         | 9        | 3.000000  | 9.097291     | 0.947425          | 0.894877            |\n",
      "PROGRESS: | 3         | 10       | 3.000000  | 10.488531    | 0.923768          | 0.866232            |\n",
      "PROGRESS: | 4         | 11       | 3.000000  | 11.786000    | 0.971779          | 0.912743            |\n",
      "PROGRESS: | 5         | 12       | 3.000000  | 13.014025    | 0.975511          | 0.908900            |\n",
      "PROGRESS: | 6         | 13       | 3.000000  | 14.310942    | 0.899991          | 0.825967            |\n",
      "PROGRESS: | 7         | 15       | 1.000000  | 16.278373    | 0.984548          | 0.921451            |\n",
      "PROGRESS: | 8         | 16       | 1.000000  | 17.490957    | 0.985118          | 0.921871            |\n",
      "PROGRESS: | 9         | 17       | 1.000000  | 18.846914    | 0.987066          | 0.919709            |\n",
      "PROGRESS: | 10        | 18       | 1.000000  | 20.050254    | 0.988715          | 0.916256            |\n",
      "PROGRESS: +-----------+----------+-----------+--------------+-------------------+---------------------+\n"
     ]
    }
   ],
   "source": [
    "sentiment_model = graphlab.logistic_classifier.create(train_data, \n",
    "                                                     target = 'sentiment',\n",
    "                                                     features = ['word_count'],\n",
    "                                                     validation_set = test_data)"
   ]
  },
  {
   "cell_type": "markdown",
   "metadata": {},
   "source": [
    "#Evaluate the sentiment model"
   ]
  },
  {
   "cell_type": "code",
   "execution_count": 23,
   "metadata": {
    "collapsed": false
   },
   "outputs": [
    {
     "data": {
      "text/plain": [
       "{'roc_curve': Columns:\n",
       " \tthreshold\tfloat\n",
       " \tfpr\tfloat\n",
       " \ttpr\tfloat\n",
       " \tp\tint\n",
       " \tn\tint\n",
       " \n",
       " Rows: 1001\n",
       " \n",
       " Data:\n",
       " +------------------+----------------+------------------+-------+------+\n",
       " |    threshold     |      fpr       |       tpr        |   p   |  n   |\n",
       " +------------------+----------------+------------------+-------+------+\n",
       " |       0.0        | 0.221574891938 | 0.00447586231395 | 28151 | 5321 |\n",
       " | 0.0010000000475  | 0.778425108062 |  0.995524137686  | 28151 | 5321 |\n",
       " | 0.00200000009499 | 0.738958842323 |  0.994387410749  | 28151 | 5321 |\n",
       " | 0.00300000002608 | 0.716406690472 |  0.993641433697  | 28151 | 5321 |\n",
       " | 0.00400000018999 | 0.700996053373 |  0.993108592945  | 28151 | 5321 |\n",
       " | 0.00499999988824 | 0.689907912047 |  0.992682320344  | 28151 | 5321 |\n",
       " | 0.00600000005215 | 0.680135312911 |  0.992113956875  | 28151 | 5321 |\n",
       " | 0.00700000021607 | 0.669610975381 |  0.991758729708  | 28151 | 5321 |\n",
       " | 0.00800000037998 | 0.659274572449 |  0.991439025257  | 28151 | 5321 |\n",
       " | 0.00899999961257 | 0.652320992295 |  0.990977229939  | 28151 | 5321 |\n",
       " +------------------+----------------+------------------+-------+------+\n",
       " [1001 rows x 5 columns]\n",
       " Note: Only the head of the SFrame is printed.\n",
       " You can use print_rows(num_rows=m, num_columns=n) to print more rows and columns.}"
      ]
     },
     "execution_count": 23,
     "metadata": {},
     "output_type": "execute_result"
    }
   ],
   "source": [
    "sentiment_model.evaluate(test_data, metric = 'roc_curve')"
   ]
  },
  {
   "cell_type": "code",
   "execution_count": 25,
   "metadata": {
    "collapsed": false
   },
   "outputs": [
    {
     "data": {
      "application/javascript": [
       "$(\"head\").append($(\"<link/>\").attr({\n",
       "  rel:  \"stylesheet\",\n",
       "  type: \"text/css\",\n",
       "  href: \"//cdnjs.cloudflare.com/ajax/libs/font-awesome/4.1.0/css/font-awesome.min.css\"\n",
       "}));\n",
       "$(\"head\").append($(\"<link/>\").attr({\n",
       "  rel:  \"stylesheet\",\n",
       "  type: \"text/css\",\n",
       "  href: \"//dato.com/files/canvas/1.6.1/css/canvas.css\"\n",
       "}));\n",
       "\n",
       "            (function(){\n",
       "\n",
       "                var e = null;\n",
       "                if (typeof element == 'undefined') {\n",
       "                    var scripts = document.getElementsByTagName('script');\n",
       "                    var thisScriptTag = scripts[scripts.length-1];\n",
       "                    var parentDiv = thisScriptTag.parentNode;\n",
       "                    e = document.createElement('div');\n",
       "                    parentDiv.appendChild(e);\n",
       "                } else {\n",
       "                    e = element[0];\n",
       "                }\n",
       "\n",
       "                if (typeof requirejs !== 'undefined') {\n",
       "                    // disable load timeout; ipython_app.js is large and can take a while to load.\n",
       "                    requirejs.config({waitSeconds: 0});\n",
       "                }\n",
       "\n",
       "                require(['//dato.com/files/canvas/1.6.1/js/ipython_app.js'], function(IPythonApp){\n",
       "                    var app = new IPythonApp();\n",
       "                    app.attachView('model','Evaluation', {\"comparison\": null, \"selected_variable\": {\"comparison\": null, \"name\": [\"sentiment_model\"], \"view_file\": \"model\", \"view_component\": \"Evaluation\", \"view_params\": {\"model_type\": \"regression\", \"view\": \"Evaluation\"}, \"view_components\": [\"Summary\", \"Evaluation\", \"Comparison\"], \"model_type\": \"regression\", \"attributes\": {\"section_titles\": [\"Schema\", \"Hyperparameters\", \"Training Summary\", \"Settings\", \"Highest Positive Coefficients\", \"Lowest Negative Coefficients\"], \"sections\": [[[\"Number of coefficients\", 219218], [\"Number of examples\", 133448], [\"Number of classes\", 2], [\"Number of feature columns\", 1], [\"Number of unpacked features\", 219217]], [[\"L1 penalty\", 0.0], [\"L2 penalty\", 0.01]], [[\"Solver\", \"auto\"], [\"Solver iterations\", 10], [\"Solver status\", \"TERMINATED: Iteration limit reached.\"], [\"Training time (sec)\", 20.6897]], [[\"Log-likelihood\", 4956.6901]], [[\"word_count[pinkjeep]\", 13.5701], [\"word_count[(http://www.amazon.com/review/rhgg6qp7tdnhb/ref=cm_cr_pr_cmt?ie=utf8&asin;=b00318cla0&nodeid;)]\", 12.3088], [\"word_count[label/box.]\", 11.1774], [\"word_count[product.***]\", 11.064], [\"word_count[direct-pumping]\", 11.0531]], [[\"word_count[it.update:after]\", -18.3631], [\"word_count[5months.]\", -16.0906], [\"word_count[oldest.if]\", -15.9315], [\"word_count[maxima.]\", -15.8084], [\"word_count[(160.00)]\", -15.4512]]]}, \"evaluations\": [[\"test_data\", {\"roc_curve\": [{\"threshold\": 0.0, \"p\": 28151, \"fpr\": 0.2215748919376057, \"tpr\": 0.004475862313949771, \"n\": 5321}, {\"threshold\": 0.0010000000474974513, \"p\": 28151, \"fpr\": 0.7784251080623943, \"tpr\": 0.9955241376860502, \"n\": 5321}, {\"threshold\": 0.0020000000949949026, \"p\": 28151, \"fpr\": 0.7389588423228717, \"tpr\": 0.9943874107491741, \"n\": 5321}, {\"threshold\": 0.003000000026077032, \"p\": 28151, \"fpr\": 0.7164066904717158, \"tpr\": 0.9936414336968491, \"n\": 5321}, {\"threshold\": 0.004000000189989805, \"p\": 28151, \"fpr\": 0.7009960533734261, \"tpr\": 0.9931085929451885, \"n\": 5321}, {\"threshold\": 0.004999999888241291, \"p\": 28151, \"fpr\": 0.6899079120466077, \"tpr\": 0.99268232034386, \"n\": 5321}, {\"threshold\": 0.006000000052154064, \"p\": 28151, \"fpr\": 0.680135312911107, \"tpr\": 0.9921139568754218, \"n\": 5321}, {\"threshold\": 0.007000000216066837, \"p\": 28151, \"fpr\": 0.6696109753805676, \"tpr\": 0.991758729707648, \"n\": 5321}, {\"threshold\": 0.00800000037997961, \"p\": 28151, \"fpr\": 0.6592745724487878, \"tpr\": 0.9914390252566516, \"n\": 5321}, {\"threshold\": 0.008999999612569809, \"p\": 28151, \"fpr\": 0.6523209922946814, \"tpr\": 0.9909772299385456, \"n\": 5321}, {\"threshold\": 0.009999999776482582, \"p\": 28151, \"fpr\": 0.643863935350498, \"tpr\": 0.990622002770772, \"n\": 5321}, {\"threshold\": 0.010999999940395355, \"p\": 28151, \"fpr\": 0.6369103551963916, \"tpr\": 0.9902667756029981, \"n\": 5321}, {\"threshold\": 0.012000000104308128, \"p\": 28151, \"fpr\": 0.631648186431122, \"tpr\": 0.9898760257184469, \"n\": 5321}, {\"threshold\": 0.013000000268220901, \"p\": 28151, \"fpr\": 0.6250704754745349, \"tpr\": 0.989591843984228, \"n\": 5321}, {\"threshold\": 0.014000000432133675, \"p\": 28151, \"fpr\": 0.6201841759067844, \"tpr\": 0.9892721395332315, \"n\": 5321}, {\"threshold\": 0.014999999664723873, \"p\": 28151, \"fpr\": 0.6134185303514377, \"tpr\": 0.9890234805157898, \"n\": 5321}, {\"threshold\": 0.01600000075995922, \"p\": 28151, \"fpr\": 0.6087201653824469, \"tpr\": 0.9886327306312387, \"n\": 5321}, {\"threshold\": 0.017000000923871994, \"p\": 28151, \"fpr\": 0.6051494080060139, \"tpr\": 0.9883130261802423, \"n\": 5321}, {\"threshold\": 0.017999999225139618, \"p\": 28151, \"fpr\": 0.6002631084382635, \"tpr\": 0.9881354125963554, \"n\": 5321}, {\"threshold\": 0.01899999938905239, \"p\": 28151, \"fpr\": 0.595376808870513, \"tpr\": 0.9879577990124685, \"n\": 5321}, {\"threshold\": 0.019999999552965164, \"p\": 28151, \"fpr\": 0.5908663785002819, \"tpr\": 0.9877091399950269, \"n\": 5321}, {\"threshold\": 0.020999999716877937, \"p\": 28151, \"fpr\": 0.5871076865250893, \"tpr\": 0.9874604809775852, \"n\": 5321}, {\"threshold\": 0.02199999988079071, \"p\": 28151, \"fpr\": 0.5842886675436948, \"tpr\": 0.9872118219601436, \"n\": 5321}, {\"threshold\": 0.023000000044703484, \"p\": 28151, \"fpr\": 0.5822213869573388, \"tpr\": 0.987069731093034, \"n\": 5321}, {\"threshold\": 0.024000000208616257, \"p\": 28151, \"fpr\": 0.5778988911858673, \"tpr\": 0.9868921175091471, \"n\": 5321}, {\"threshold\": 0.02500000037252903, \"p\": 28151, \"fpr\": 0.5747040030069536, \"tpr\": 0.9867145039252602, \"n\": 5321}, {\"threshold\": 0.026000000536441803, \"p\": 28151, \"fpr\": 0.5711332456305206, \"tpr\": 0.9865368903413733, \"n\": 5321}, {\"threshold\": 0.027000000700354576, \"p\": 28151, \"fpr\": 0.5679383574516068, \"tpr\": 0.9862171858903769, \"n\": 5321}, {\"threshold\": 0.02800000086426735, \"p\": 28151, \"fpr\": 0.5651193384702123, \"tpr\": 0.9860040495897127, \"n\": 5321}, {\"threshold\": 0.028999999165534973, \"p\": 28151, \"fpr\": 0.5615485810937794, \"tpr\": 0.9858264360058258, \"n\": 5321}, {\"threshold\": 0.029999999329447746, \"p\": 28151, \"fpr\": 0.5576019545198271, \"tpr\": 0.9855777769883841, \"n\": 5321}, {\"threshold\": 0.03099999949336052, \"p\": 28151, \"fpr\": 0.5562864123285097, \"tpr\": 0.9854356861212745, \"n\": 5321}, {\"threshold\": 0.03200000151991844, \"p\": 28151, \"fpr\": 0.5525277203533171, \"tpr\": 0.9851515043870556, \"n\": 5321}, {\"threshold\": 0.032999999821186066, \"p\": 28151, \"fpr\": 0.5483931591806052, \"tpr\": 0.9849738908031687, \"n\": 5321}, {\"threshold\": 0.03400000184774399, \"p\": 28151, \"fpr\": 0.5465138131930088, \"tpr\": 0.9847962772192818, \"n\": 5321}, {\"threshold\": 0.03500000014901161, \"p\": 28151, \"fpr\": 0.5446344672054125, \"tpr\": 0.9847607545025043, \"n\": 5321}, {\"threshold\": 0.035999998450279236, \"p\": 28151, \"fpr\": 0.5425671866190566, \"tpr\": 0.9846541863521722, \"n\": 5321}, {\"threshold\": 0.03700000047683716, \"p\": 28151, \"fpr\": 0.5401240368351814, \"tpr\": 0.9845831409186174, \"n\": 5321}, {\"threshold\": 0.03799999877810478, \"p\": 28151, \"fpr\": 0.5369291486562676, \"tpr\": 0.984263436467621, \"n\": 5321}, {\"threshold\": 0.039000000804662704, \"p\": 28151, \"fpr\": 0.5358015410637098, \"tpr\": 0.9840503001669567, \"n\": 5321}, {\"threshold\": 0.03999999910593033, \"p\": 28151, \"fpr\": 0.5344859988723925, \"tpr\": 0.9839437320166247, \"n\": 5321}, {\"threshold\": 0.04100000113248825, \"p\": 28151, \"fpr\": 0.5322307836872768, \"tpr\": 0.9838726865830699, \"n\": 5321}, {\"threshold\": 0.041999999433755875, \"p\": 28151, \"fpr\": 0.5292238301071227, \"tpr\": 0.983695072999183, \"n\": 5321}, {\"threshold\": 0.0430000014603138, \"p\": 28151, \"fpr\": 0.5280962225145649, \"tpr\": 0.9835174594152961, \"n\": 5321}, {\"threshold\": 0.04399999976158142, \"p\": 28151, \"fpr\": 0.5256530727306897, \"tpr\": 0.983410891264964, \"n\": 5321}, {\"threshold\": 0.04500000178813934, \"p\": 28151, \"fpr\": 0.5245254651381319, \"tpr\": 0.9832688003978545, \"n\": 5321}, {\"threshold\": 0.04600000008940697, \"p\": 28151, \"fpr\": 0.5217064461567374, \"tpr\": 0.9831622322475223, \"n\": 5321}, {\"threshold\": 0.04699999839067459, \"p\": 28151, \"fpr\": 0.5198271001691411, \"tpr\": 0.982949095946858, \"n\": 5321}, {\"threshold\": 0.04800000041723251, \"p\": 28151, \"fpr\": 0.5175718849840255, \"tpr\": 0.9827359596461938, \"n\": 5321}, {\"threshold\": 0.04899999871850014, \"p\": 28151, \"fpr\": 0.5164442773914678, \"tpr\": 0.9825938687790843, \"n\": 5321}, {\"threshold\": 0.05000000074505806, \"p\": 28151, \"fpr\": 0.5145649314038715, \"tpr\": 0.98238073247842, \"n\": 5321}, {\"threshold\": 0.050999999046325684, \"p\": 28151, \"fpr\": 0.5113700432249577, \"tpr\": 0.9820610280274236, \"n\": 5321}, {\"threshold\": 0.052000001072883606, \"p\": 28151, \"fpr\": 0.5087389588423229, \"tpr\": 0.9818834144435367, \"n\": 5321}, {\"threshold\": 0.05299999937415123, \"p\": 28151, \"fpr\": 0.5070475474534862, \"tpr\": 0.9818123690099819, \"n\": 5321}, {\"threshold\": 0.05400000140070915, \"p\": 28151, \"fpr\": 0.5049802668671303, \"tpr\": 0.9815992327093176, \"n\": 5321}, {\"threshold\": 0.054999999701976776, \"p\": 28151, \"fpr\": 0.5038526592745725, \"tpr\": 0.9814926645589854, \"n\": 5321}, {\"threshold\": 0.0560000017285347, \"p\": 28151, \"fpr\": 0.5014095094906973, \"tpr\": 0.981350573691876, \"n\": 5321}, {\"threshold\": 0.05700000002980232, \"p\": 28151, \"fpr\": 0.49934222890434127, \"tpr\": 0.9811374373912117, \"n\": 5321}, {\"threshold\": 0.057999998331069946, \"p\": 28151, \"fpr\": 0.4970870137192257, \"tpr\": 0.9809598238073248, \"n\": 5321}, {\"threshold\": 0.05900000035762787, \"p\": 28151, \"fpr\": 0.49595940612666795, \"tpr\": 0.9808177329402152, \"n\": 5321}, {\"threshold\": 0.05999999865889549, \"p\": 28151, \"fpr\": 0.4935162563427927, \"tpr\": 0.9806756420731058, \"n\": 5321}, {\"threshold\": 0.061000000685453415, \"p\": 28151, \"fpr\": 0.49144897575643676, \"tpr\": 0.9804980284892189, \"n\": 5321}, {\"threshold\": 0.06199999898672104, \"p\": 28151, \"fpr\": 0.48956962976884044, \"tpr\": 0.9804625057724414, \"n\": 5321}, {\"threshold\": 0.06300000101327896, \"p\": 28151, \"fpr\": 0.48825408757752303, \"tpr\": 0.980320414905332, \"n\": 5321}, {\"threshold\": 0.06400000303983688, \"p\": 28151, \"fpr\": 0.4871264799849652, \"tpr\": 0.9801783240382225, \"n\": 5321}, {\"threshold\": 0.06499999761581421, \"p\": 28151, \"fpr\": 0.4858109377936478, \"tpr\": 0.9801783240382225, \"n\": 5321}, {\"threshold\": 0.06599999964237213, \"p\": 28151, \"fpr\": 0.4852471339973689, \"tpr\": 0.9801783240382225, \"n\": 5321}, {\"threshold\": 0.06700000166893005, \"p\": 28151, \"fpr\": 0.4844953956023304, \"tpr\": 0.9801072786046677, \"n\": 5321}, {\"threshold\": 0.06800000369548798, \"p\": 28151, \"fpr\": 0.4833677880097726, \"tpr\": 0.9798941423040034, \"n\": 5321}, {\"threshold\": 0.0689999982714653, \"p\": 28151, \"fpr\": 0.48224018041721484, \"tpr\": 0.9798230968704487, \"n\": 5321}, {\"threshold\": 0.07000000029802322, \"p\": 28151, \"fpr\": 0.4814884420221763, \"tpr\": 0.9796810060033392, \"n\": 5321}, {\"threshold\": 0.07100000232458115, \"p\": 28151, \"fpr\": 0.48017289983085887, \"tpr\": 0.9796099605697843, \"n\": 5321}, {\"threshold\": 0.07199999690055847, \"p\": 28151, \"fpr\": 0.47885735763954146, \"tpr\": 0.9796099605697843, \"n\": 5321}, {\"threshold\": 0.0729999989271164, \"p\": 28151, \"fpr\": 0.47697801165194514, \"tpr\": 0.9795389151362296, \"n\": 5321}, {\"threshold\": 0.07400000095367432, \"p\": 28151, \"fpr\": 0.4754745348618681, \"tpr\": 0.9794323469858974, \"n\": 5321}, {\"threshold\": 0.07500000298023224, \"p\": 28151, \"fpr\": 0.47359518887427177, \"tpr\": 0.9793257788355654, \"n\": 5321}, {\"threshold\": 0.07599999755620956, \"p\": 28151, \"fpr\": 0.4726555158804736, \"tpr\": 0.9791481652516785, \"n\": 5321}, {\"threshold\": 0.07699999958276749, \"p\": 28151, \"fpr\": 0.4713399736891562, \"tpr\": 0.9790771198181237, \"n\": 5321}, {\"threshold\": 0.07800000160932541, \"p\": 28151, \"fpr\": 0.47040030069535804, \"tpr\": 0.9787929380839047, \"n\": 5321}, {\"threshold\": 0.07900000363588333, \"p\": 28151, \"fpr\": 0.46946062770155983, \"tpr\": 0.9787929380839047, \"n\": 5321}, {\"threshold\": 0.07999999821186066, \"p\": 28151, \"fpr\": 0.46852095470776167, \"tpr\": 0.9786508472167952, \"n\": 5321}, {\"threshold\": 0.08100000023841858, \"p\": 28151, \"fpr\": 0.46776921631272317, \"tpr\": 0.9786153245000178, \"n\": 5321}, {\"threshold\": 0.0820000022649765, \"p\": 28151, \"fpr\": 0.4662657395226461, \"tpr\": 0.9785798017832403, \"n\": 5321}, {\"threshold\": 0.08299999684095383, \"p\": 28151, \"fpr\": 0.46476226273256904, \"tpr\": 0.9783311427657987, \"n\": 5321}, {\"threshold\": 0.08399999886751175, \"p\": 28151, \"fpr\": 0.46344672054125163, \"tpr\": 0.978260097332244, \"n\": 5321}, {\"threshold\": 0.08500000089406967, \"p\": 28151, \"fpr\": 0.4613794399548957, \"tpr\": 0.9782245746154666, \"n\": 5321}, {\"threshold\": 0.0860000029206276, \"p\": 28151, \"fpr\": 0.46043976696109756, \"tpr\": 0.9782245746154666, \"n\": 5321}, {\"threshold\": 0.08699999749660492, \"p\": 28151, \"fpr\": 0.4589362901710205, \"tpr\": 0.9781535291819118, \"n\": 5321}, {\"threshold\": 0.08799999952316284, \"p\": 28151, \"fpr\": 0.45743281338094344, \"tpr\": 0.9779048701644701, \"n\": 5321}, {\"threshold\": 0.08900000154972076, \"p\": 28151, \"fpr\": 0.45686900958466453, \"tpr\": 0.9777272565805832, \"n\": 5321}, {\"threshold\": 0.09000000357627869, \"p\": 28151, \"fpr\": 0.4559293365908664, \"tpr\": 0.9776206884302512, \"n\": 5321}, {\"threshold\": 0.09099999815225601, \"p\": 28151, \"fpr\": 0.4549896635970682, \"tpr\": 0.9775851657134738, \"n\": 5321}, {\"threshold\": 0.09200000017881393, \"p\": 28151, \"fpr\": 0.4538620560045104, \"tpr\": 0.9775496429966963, \"n\": 5321}, {\"threshold\": 0.09300000220537186, \"p\": 28151, \"fpr\": 0.452546513813193, \"tpr\": 0.9774075521295869, \"n\": 5321}, {\"threshold\": 0.09399999678134918, \"p\": 28151, \"fpr\": 0.4517947754181545, \"tpr\": 0.9773365066960321, \"n\": 5321}, {\"threshold\": 0.0949999988079071, \"p\": 28151, \"fpr\": 0.45085510242435634, \"tpr\": 0.9772299385457, \"n\": 5321}, {\"threshold\": 0.09600000083446503, \"p\": 28151, \"fpr\": 0.4497274948317985, \"tpr\": 0.9771588931121452, \"n\": 5321}, {\"threshold\": 0.09700000286102295, \"p\": 28151, \"fpr\": 0.44897575643676, \"tpr\": 0.9771233703953678, \"n\": 5321}, {\"threshold\": 0.09799999743700027, \"p\": 28151, \"fpr\": 0.44822401804172146, \"tpr\": 0.9768747113779261, \"n\": 5321}, {\"threshold\": 0.0989999994635582, \"p\": 28151, \"fpr\": 0.4472843450479233, \"tpr\": 0.9766260523604845, \"n\": 5321}, {\"threshold\": 0.10000000149011612, \"p\": 28151, \"fpr\": 0.44634467205412515, \"tpr\": 0.9765194842101524, \"n\": 5321}, {\"threshold\": 0.10100000351667404, \"p\": 28151, \"fpr\": 0.44446532606652883, \"tpr\": 0.9764484387765976, \"n\": 5321}, {\"threshold\": 0.10199999809265137, \"p\": 28151, \"fpr\": 0.44296184927645177, \"tpr\": 0.9763063479094881, \"n\": 5321}, {\"threshold\": 0.10300000011920929, \"p\": 28151, \"fpr\": 0.44221011088141327, \"tpr\": 0.9762708251927107, \"n\": 5321}, {\"threshold\": 0.10400000214576721, \"p\": 28151, \"fpr\": 0.44108250328885545, \"tpr\": 0.9760576888920465, \"n\": 5321}, {\"threshold\": 0.10499999672174454, \"p\": 28151, \"fpr\": 0.4407066340913362, \"tpr\": 0.9758800753081596, \"n\": 5321}, {\"threshold\": 0.10599999874830246, \"p\": 28151, \"fpr\": 0.43901522270249954, \"tpr\": 0.9757024617242727, \"n\": 5321}, {\"threshold\": 0.10700000077486038, \"p\": 28151, \"fpr\": 0.4380755497087014, \"tpr\": 0.9756314162907179, \"n\": 5321}, {\"threshold\": 0.1080000028014183, \"p\": 28151, \"fpr\": 0.4375117459124225, \"tpr\": 0.9755603708571632, \"n\": 5321}, {\"threshold\": 0.10899999737739563, \"p\": 28151, \"fpr\": 0.43638413831986467, \"tpr\": 0.9753472345564989, \"n\": 5321}, {\"threshold\": 0.10999999940395355, \"p\": 28151, \"fpr\": 0.43563239992482616, \"tpr\": 0.9752406664061667, \"n\": 5321}, {\"threshold\": 0.11100000143051147, \"p\": 28151, \"fpr\": 0.4341289231347491, \"tpr\": 0.9752406664061667, \"n\": 5321}, {\"threshold\": 0.1120000034570694, \"p\": 28151, \"fpr\": 0.4335651193384702, \"tpr\": 0.9750275301055025, \"n\": 5321}, {\"threshold\": 0.11299999803304672, \"p\": 28151, \"fpr\": 0.4328133809434317, \"tpr\": 0.9748499165216156, \"n\": 5321}, {\"threshold\": 0.11400000005960464, \"p\": 28151, \"fpr\": 0.43206164254839313, \"tpr\": 0.9748143938048381, \"n\": 5321}, {\"threshold\": 0.11500000208616257, \"p\": 28151, \"fpr\": 0.4305581657583161, \"tpr\": 0.9746012575041739, \"n\": 5321}, {\"threshold\": 0.11599999666213989, \"p\": 28151, \"fpr\": 0.42961849276451797, \"tpr\": 0.9745657347873965, \"n\": 5321}, {\"threshold\": 0.11699999868869781, \"p\": 28151, \"fpr\": 0.42905468896823906, \"tpr\": 0.9744591666370644, \"n\": 5321}, {\"threshold\": 0.11800000071525574, \"p\": 28151, \"fpr\": 0.4288667543694794, \"tpr\": 0.9743881212035096, \"n\": 5321}, {\"threshold\": 0.11900000274181366, \"p\": 28151, \"fpr\": 0.4281150159744409, \"tpr\": 0.9742815530531775, \"n\": 5321}, {\"threshold\": 0.11999999731779099, \"p\": 28151, \"fpr\": 0.42736327757940235, \"tpr\": 0.9742105076196228, \"n\": 5321}, {\"threshold\": 0.12099999934434891, \"p\": 28151, \"fpr\": 0.4267994737831235, \"tpr\": 0.973961848602181, \"n\": 5321}, {\"threshold\": 0.12200000137090683, \"p\": 28151, \"fpr\": 0.4267994737831235, \"tpr\": 0.973855280451849, \"n\": 5321}, {\"threshold\": 0.12300000339746475, \"p\": 28151, \"fpr\": 0.42661153918436384, \"tpr\": 0.9737842350182943, \"n\": 5321}, {\"threshold\": 0.12399999797344208, \"p\": 28151, \"fpr\": 0.42548393159180603, \"tpr\": 0.9736776668679621, \"n\": 5321}, {\"threshold\": 0.125, \"p\": 28151, \"fpr\": 0.4249201277955272, \"tpr\": 0.9736066214344073, \"n\": 5321}, {\"threshold\": 0.12600000202655792, \"p\": 28151, \"fpr\": 0.423980454801729, \"tpr\": 0.9735710987176299, \"n\": 5321}, {\"threshold\": 0.12700000405311584, \"p\": 28151, \"fpr\": 0.42322871640669046, \"tpr\": 0.973393485133743, \"n\": 5321}, {\"threshold\": 0.12800000607967377, \"p\": 28151, \"fpr\": 0.42247697801165196, \"tpr\": 0.9733579624169656, \"n\": 5321}, {\"threshold\": 0.1289999932050705, \"p\": 28151, \"fpr\": 0.42191317421537305, \"tpr\": 0.9731803488330788, \"n\": 5321}, {\"threshold\": 0.12999999523162842, \"p\": 28151, \"fpr\": 0.42078556662281524, \"tpr\": 0.9729672125324145, \"n\": 5321}, {\"threshold\": 0.13099999725818634, \"p\": 28151, \"fpr\": 0.42022176282653634, \"tpr\": 0.972931689815637, \"n\": 5321}, {\"threshold\": 0.13199999928474426, \"p\": 28151, \"fpr\": 0.41890622063521893, \"tpr\": 0.9727540762317503, \"n\": 5321}, {\"threshold\": 0.13300000131130219, \"p\": 28151, \"fpr\": 0.41834241683894, \"tpr\": 0.9726830307981954, \"n\": 5321}, {\"threshold\": 0.1340000033378601, \"p\": 28151, \"fpr\": 0.41721480924638227, \"tpr\": 0.9725764626478633, \"n\": 5321}, {\"threshold\": 0.13500000536441803, \"p\": 28151, \"fpr\": 0.41552339785754555, \"tpr\": 0.9724698944975312, \"n\": 5321}, {\"threshold\": 0.13600000739097595, \"p\": 28151, \"fpr\": 0.41477165946250705, \"tpr\": 0.9724343717807538, \"n\": 5321}, {\"threshold\": 0.13699999451637268, \"p\": 28151, \"fpr\": 0.41364405186994924, \"tpr\": 0.9721857127633121, \"n\": 5321}, {\"threshold\": 0.1379999965429306, \"p\": 28151, \"fpr\": 0.4130802480736704, \"tpr\": 0.9721146673297574, \"n\": 5321}, {\"threshold\": 0.13899999856948853, \"p\": 28151, \"fpr\": 0.41214057507987223, \"tpr\": 0.9720436218962026, \"n\": 5321}, {\"threshold\": 0.14000000059604645, \"p\": 28151, \"fpr\": 0.4119526404811126, \"tpr\": 0.9720080991794252, \"n\": 5321}, {\"threshold\": 0.14100000262260437, \"p\": 28151, \"fpr\": 0.4117647058823529, \"tpr\": 0.9719725764626479, \"n\": 5321}, {\"threshold\": 0.1420000046491623, \"p\": 28151, \"fpr\": 0.4110129674873144, \"tpr\": 0.9719370537458705, \"n\": 5321}, {\"threshold\": 0.14300000667572021, \"p\": 28151, \"fpr\": 0.41007329449351626, \"tpr\": 0.9719015310290932, \"n\": 5321}, {\"threshold\": 0.14399999380111694, \"p\": 28151, \"fpr\": 0.409697425295997, \"tpr\": 0.9719015310290932, \"n\": 5321}, {\"threshold\": 0.14499999582767487, \"p\": 28151, \"fpr\": 0.4080060139071603, \"tpr\": 0.9718660083123157, \"n\": 5321}, {\"threshold\": 0.1459999978542328, \"p\": 28151, \"fpr\": 0.4072542755121218, \"tpr\": 0.9717594401619836, \"n\": 5321}, {\"threshold\": 0.1469999998807907, \"p\": 28151, \"fpr\": 0.406126667919564, \"tpr\": 0.9716528720116514, \"n\": 5321}, {\"threshold\": 0.14800000190734863, \"p\": 28151, \"fpr\": 0.4059387333208044, \"tpr\": 0.9715463038613193, \"n\": 5321}, {\"threshold\": 0.14900000393390656, \"p\": 28151, \"fpr\": 0.4053749295245255, \"tpr\": 0.9715107811445419, \"n\": 5321}, {\"threshold\": 0.15000000596046448, \"p\": 28151, \"fpr\": 0.40481112572824657, \"tpr\": 0.9714752584277646, \"n\": 5321}, {\"threshold\": 0.1509999930858612, \"p\": 28151, \"fpr\": 0.40368351813568876, \"tpr\": 0.9714397357109872, \"n\": 5321}, {\"threshold\": 0.15199999511241913, \"p\": 28151, \"fpr\": 0.40368351813568876, \"tpr\": 0.9713686902774324, \"n\": 5321}, {\"threshold\": 0.15299999713897705, \"p\": 28151, \"fpr\": 0.4031197143394099, \"tpr\": 0.9711910766935455, \"n\": 5321}, {\"threshold\": 0.15399999916553497, \"p\": 28151, \"fpr\": 0.4019921067468521, \"tpr\": 0.9710845085432134, \"n\": 5321}, {\"threshold\": 0.1550000011920929, \"p\": 28151, \"fpr\": 0.40161623754933284, \"tpr\": 0.9709424176761039, \"n\": 5321}, {\"threshold\": 0.15600000321865082, \"p\": 28151, \"fpr\": 0.40105243375305394, \"tpr\": 0.9708713722425492, \"n\": 5321}, {\"threshold\": 0.15700000524520874, \"p\": 28151, \"fpr\": 0.4008644991542943, \"tpr\": 0.970764804092217, \"n\": 5321}, {\"threshold\": 0.15800000727176666, \"p\": 28151, \"fpr\": 0.4001127607592558, \"tpr\": 0.9706937586586623, \"n\": 5321}, {\"threshold\": 0.1589999943971634, \"p\": 28151, \"fpr\": 0.3999248261604961, \"tpr\": 0.9706582359418848, \"n\": 5321}, {\"threshold\": 0.1599999964237213, \"p\": 28151, \"fpr\": 0.3993610223642173, \"tpr\": 0.9706582359418848, \"n\": 5321}, {\"threshold\": 0.16099999845027924, \"p\": 28151, \"fpr\": 0.3986092839691787, \"tpr\": 0.9705516677915527, \"n\": 5321}, {\"threshold\": 0.16200000047683716, \"p\": 28151, \"fpr\": 0.3980454801728998, \"tpr\": 0.9704450996412206, \"n\": 5321}, {\"threshold\": 0.16300000250339508, \"p\": 28151, \"fpr\": 0.39766961097538056, \"tpr\": 0.9703385314908884, \"n\": 5321}, {\"threshold\": 0.164000004529953, \"p\": 28151, \"fpr\": 0.3967299379815824, \"tpr\": 0.9703385314908884, \"n\": 5321}, {\"threshold\": 0.16500000655651093, \"p\": 28151, \"fpr\": 0.3959781995865439, \"tpr\": 0.9702319633405563, \"n\": 5321}, {\"threshold\": 0.16599999368190765, \"p\": 28151, \"fpr\": 0.3956023303890246, \"tpr\": 0.9701253951902241, \"n\": 5321}, {\"threshold\": 0.16699999570846558, \"p\": 28151, \"fpr\": 0.39522646119150534, \"tpr\": 0.9700188270398921, \"n\": 5321}, {\"threshold\": 0.1679999977350235, \"p\": 28151, \"fpr\": 0.3948505919939861, \"tpr\": 0.9699477816063372, \"n\": 5321}, {\"threshold\": 0.16899999976158142, \"p\": 28151, \"fpr\": 0.3940988535989476, \"tpr\": 0.9698412134560052, \"n\": 5321}, {\"threshold\": 0.17000000178813934, \"p\": 28151, \"fpr\": 0.3925953768088705, \"tpr\": 0.969734645305673, \"n\": 5321}, {\"threshold\": 0.17100000381469727, \"p\": 28151, \"fpr\": 0.3914677692163127, \"tpr\": 0.9696991225888956, \"n\": 5321}, {\"threshold\": 0.1720000058412552, \"p\": 28151, \"fpr\": 0.39109190001879346, \"tpr\": 0.9695925544385635, \"n\": 5321}, {\"threshold\": 0.17299999296665192, \"p\": 28151, \"fpr\": 0.3901522270249953, \"tpr\": 0.9695925544385635, \"n\": 5321}, {\"threshold\": 0.17399999499320984, \"p\": 28151, \"fpr\": 0.3901522270249953, \"tpr\": 0.9694859862882313, \"n\": 5321}, {\"threshold\": 0.17499999701976776, \"p\": 28151, \"fpr\": 0.38996429242623565, \"tpr\": 0.9693794181378992, \"n\": 5321}, {\"threshold\": 0.17599999904632568, \"p\": 28151, \"fpr\": 0.38921255403119714, \"tpr\": 0.969272849987567, \"n\": 5321}, {\"threshold\": 0.1770000010728836, \"p\": 28151, \"fpr\": 0.3877090772411201, \"tpr\": 0.9692018045540123, \"n\": 5321}, {\"threshold\": 0.17800000309944153, \"p\": 28151, \"fpr\": 0.3869573388460816, \"tpr\": 0.9690952364036801, \"n\": 5321}, {\"threshold\": 0.17900000512599945, \"p\": 28151, \"fpr\": 0.3865814696485623, \"tpr\": 0.9690241909701254, \"n\": 5321}, {\"threshold\": 0.18000000715255737, \"p\": 28151, \"fpr\": 0.38564179665476417, \"tpr\": 0.9689176228197932, \"n\": 5321}, {\"threshold\": 0.1809999942779541, \"p\": 28151, \"fpr\": 0.38507799285848526, \"tpr\": 0.9688110546694612, \"n\": 5321}, {\"threshold\": 0.18199999630451202, \"p\": 28151, \"fpr\": 0.3843262544634467, \"tpr\": 0.9685979183687968, \"n\": 5321}, {\"threshold\": 0.18299999833106995, \"p\": 28151, \"fpr\": 0.3835745160684082, \"tpr\": 0.9684558275016873, \"n\": 5321}, {\"threshold\": 0.18400000035762787, \"p\": 28151, \"fpr\": 0.38319864687088895, \"tpr\": 0.9683137366345778, \"n\": 5321}, {\"threshold\": 0.1850000023841858, \"p\": 28151, \"fpr\": 0.38263484307461004, \"tpr\": 0.9682782139178004, \"n\": 5321}, {\"threshold\": 0.1860000044107437, \"p\": 28151, \"fpr\": 0.3816951700808119, \"tpr\": 0.968242691201023, \"n\": 5321}, {\"threshold\": 0.18700000643730164, \"p\": 28151, \"fpr\": 0.3805675624882541, \"tpr\": 0.9680650776171361, \"n\": 5321}, {\"threshold\": 0.18799999356269836, \"p\": 28151, \"fpr\": 0.3805675624882541, \"tpr\": 0.9680295549003588, \"n\": 5321}, {\"threshold\": 0.1889999955892563, \"p\": 28151, \"fpr\": 0.3801916932907348, \"tpr\": 0.9679585094668041, \"n\": 5321}, {\"threshold\": 0.1899999976158142, \"p\": 28151, \"fpr\": 0.37981582409321557, \"tpr\": 0.9678164185996945, \"n\": 5321}, {\"threshold\": 0.19099999964237213, \"p\": 28151, \"fpr\": 0.37925202029693666, \"tpr\": 0.9677453731661397, \"n\": 5321}, {\"threshold\": 0.19200000166893005, \"p\": 28151, \"fpr\": 0.379064085698177, \"tpr\": 0.9676388050158076, \"n\": 5321}, {\"threshold\": 0.19300000369548798, \"p\": 28151, \"fpr\": 0.37850028190189816, \"tpr\": 0.9675677595822528, \"n\": 5321}, {\"threshold\": 0.1940000057220459, \"p\": 28151, \"fpr\": 0.37812441270437885, \"tpr\": 0.9674967141486981, \"n\": 5321}, {\"threshold\": 0.19499999284744263, \"p\": 28151, \"fpr\": 0.3777485435068596, \"tpr\": 0.9673901459983659, \"n\": 5321}, {\"threshold\": 0.19599999487400055, \"p\": 28151, \"fpr\": 0.37737267430934035, \"tpr\": 0.9673191005648112, \"n\": 5321}, {\"threshold\": 0.19699999690055847, \"p\": 28151, \"fpr\": 0.3771847397105807, \"tpr\": 0.9672835778480339, \"n\": 5321}, {\"threshold\": 0.1979999989271164, \"p\": 28151, \"fpr\": 0.3769968051118211, \"tpr\": 0.9672480551312564, \"n\": 5321}, {\"threshold\": 0.19900000095367432, \"p\": 28151, \"fpr\": 0.37662093591430185, \"tpr\": 0.9671414869809243, \"n\": 5321}, {\"threshold\": 0.20000000298023224, \"p\": 28151, \"fpr\": 0.3758691975192633, \"tpr\": 0.967105964264147, \"n\": 5321}, {\"threshold\": 0.20100000500679016, \"p\": 28151, \"fpr\": 0.3753053937229844, \"tpr\": 0.9670704415473695, \"n\": 5321}, {\"threshold\": 0.20200000703334808, \"p\": 28151, \"fpr\": 0.37492952452546513, \"tpr\": 0.9669993961138148, \"n\": 5321}, {\"threshold\": 0.2029999941587448, \"p\": 28151, \"fpr\": 0.37492952452546513, \"tpr\": 0.9669638733970374, \"n\": 5321}, {\"threshold\": 0.20399999618530273, \"p\": 28151, \"fpr\": 0.3743657207291862, \"tpr\": 0.9668217825299279, \"n\": 5321}, {\"threshold\": 0.20499999821186066, \"p\": 28151, \"fpr\": 0.37323811313662847, \"tpr\": 0.9666796916628184, \"n\": 5321}, {\"threshold\": 0.20600000023841858, \"p\": 28151, \"fpr\": 0.3722984401428303, \"tpr\": 0.9665376007957088, \"n\": 5321}, {\"threshold\": 0.2070000022649765, \"p\": 28151, \"fpr\": 0.371922570945311, \"tpr\": 0.9665376007957088, \"n\": 5321}, {\"threshold\": 0.20800000429153442, \"p\": 28151, \"fpr\": 0.37154670174779175, \"tpr\": 0.9664310326453767, \"n\": 5321}, {\"threshold\": 0.20900000631809235, \"p\": 28151, \"fpr\": 0.3706070287539936, \"tpr\": 0.9663599872118219, \"n\": 5321}, {\"threshold\": 0.20999999344348907, \"p\": 28151, \"fpr\": 0.3692914865626762, \"tpr\": 0.9662889417782672, \"n\": 5321}, {\"threshold\": 0.210999995470047, \"p\": 28151, \"fpr\": 0.36891561736515693, \"tpr\": 0.966182373627935, \"n\": 5321}, {\"threshold\": 0.21199999749660492, \"p\": 28151, \"fpr\": 0.3687276827663973, \"tpr\": 0.9659692373272708, \"n\": 5321}, {\"threshold\": 0.21299999952316284, \"p\": 28151, \"fpr\": 0.36835181356887803, \"tpr\": 0.9658626691769386, \"n\": 5321}, {\"threshold\": 0.21400000154972076, \"p\": 28151, \"fpr\": 0.3679759443713588, \"tpr\": 0.9656850555930517, \"n\": 5321}, {\"threshold\": 0.2150000035762787, \"p\": 28151, \"fpr\": 0.36741214057507987, \"tpr\": 0.965614010159497, \"n\": 5321}, {\"threshold\": 0.2160000056028366, \"p\": 28151, \"fpr\": 0.3664724675812817, \"tpr\": 0.9655429647259423, \"n\": 5321}, {\"threshold\": 0.21699999272823334, \"p\": 28151, \"fpr\": 0.36609659838376246, \"tpr\": 0.9655429647259423, \"n\": 5321}, {\"threshold\": 0.21799999475479126, \"p\": 28151, \"fpr\": 0.36496899079120465, \"tpr\": 0.9655429647259423, \"n\": 5321}, {\"threshold\": 0.21899999678134918, \"p\": 28151, \"fpr\": 0.36421725239616615, \"tpr\": 0.9655074420091648, \"n\": 5321}, {\"threshold\": 0.2199999988079071, \"p\": 28151, \"fpr\": 0.363277579402368, \"tpr\": 0.9654719192923875, \"n\": 5321}, {\"threshold\": 0.22100000083446503, \"p\": 28151, \"fpr\": 0.3627137756060891, \"tpr\": 0.9653653511420554, \"n\": 5321}, {\"threshold\": 0.22200000286102295, \"p\": 28151, \"fpr\": 0.36252584100732943, \"tpr\": 0.9653653511420554, \"n\": 5321}, {\"threshold\": 0.22300000488758087, \"p\": 28151, \"fpr\": 0.3621499718098102, \"tpr\": 0.965152214841391, \"n\": 5321}, {\"threshold\": 0.2240000069141388, \"p\": 28151, \"fpr\": 0.361210298816012, \"tpr\": 0.965045646691059, \"n\": 5321}, {\"threshold\": 0.22499999403953552, \"p\": 28151, \"fpr\": 0.3604585604209735, \"tpr\": 0.9650101239742815, \"n\": 5321}, {\"threshold\": 0.22599999606609344, \"p\": 28151, \"fpr\": 0.3598947566246946, \"tpr\": 0.9649035558239494, \"n\": 5321}, {\"threshold\": 0.22699999809265137, \"p\": 28151, \"fpr\": 0.35970682202593496, \"tpr\": 0.9646904195232852, \"n\": 5321}, {\"threshold\": 0.2280000001192093, \"p\": 28151, \"fpr\": 0.35914301822965605, \"tpr\": 0.9646193740897304, \"n\": 5321}, {\"threshold\": 0.2290000021457672, \"p\": 28151, \"fpr\": 0.35839127983461755, \"tpr\": 0.964583851372953, \"n\": 5321}, {\"threshold\": 0.23000000417232513, \"p\": 28151, \"fpr\": 0.3580154106370983, \"tpr\": 0.9645483286561757, \"n\": 5321}, {\"threshold\": 0.23100000619888306, \"p\": 28151, \"fpr\": 0.35726367224205974, \"tpr\": 0.9644417605058435, \"n\": 5321}, {\"threshold\": 0.23199999332427979, \"p\": 28151, \"fpr\": 0.3563239992482616, \"tpr\": 0.9643707150722888, \"n\": 5321}, {\"threshold\": 0.2329999953508377, \"p\": 28151, \"fpr\": 0.35594813005074233, \"tpr\": 0.9642641469219566, \"n\": 5321}, {\"threshold\": 0.23399999737739563, \"p\": 28151, \"fpr\": 0.3555722608532231, \"tpr\": 0.9641931014884019, \"n\": 5321}, {\"threshold\": 0.23499999940395355, \"p\": 28151, \"fpr\": 0.3553843262544634, \"tpr\": 0.9641931014884019, \"n\": 5321}, {\"threshold\": 0.23600000143051147, \"p\": 28151, \"fpr\": 0.35444465326066527, \"tpr\": 0.9641575787716244, \"n\": 5321}, {\"threshold\": 0.2370000034570694, \"p\": 28151, \"fpr\": 0.354068784063146, \"tpr\": 0.964122056054847, \"n\": 5321}, {\"threshold\": 0.23800000548362732, \"p\": 28151, \"fpr\": 0.35312911106934786, \"tpr\": 0.9640865333380697, \"n\": 5321}, {\"threshold\": 0.23899999260902405, \"p\": 28151, \"fpr\": 0.35256530727306895, \"tpr\": 0.9639799651877375, \"n\": 5321}, {\"threshold\": 0.23999999463558197, \"p\": 28151, \"fpr\": 0.35237737267430935, \"tpr\": 0.9636957834535185, \"n\": 5321}, {\"threshold\": 0.2409999966621399, \"p\": 28151, \"fpr\": 0.3516256342792708, \"tpr\": 0.963553692586409, \"n\": 5321}, {\"threshold\": 0.24199999868869781, \"p\": 28151, \"fpr\": 0.3514376996805112, \"tpr\": 0.9634826471528543, \"n\": 5321}, {\"threshold\": 0.24300000071525574, \"p\": 28151, \"fpr\": 0.35106183048299194, \"tpr\": 0.9633760790025221, \"n\": 5321}, {\"threshold\": 0.24400000274181366, \"p\": 28151, \"fpr\": 0.35068596128547264, \"tpr\": 0.9633050335689674, \"n\": 5321}, {\"threshold\": 0.24500000476837158, \"p\": 28151, \"fpr\": 0.3497462882916745, \"tpr\": 0.9631984654186352, \"n\": 5321}, {\"threshold\": 0.2460000067949295, \"p\": 28151, \"fpr\": 0.34918248449539563, \"tpr\": 0.9630918972683031, \"n\": 5321}, {\"threshold\": 0.24699999392032623, \"p\": 28151, \"fpr\": 0.34918248449539563, \"tpr\": 0.9630208518347483, \"n\": 5321}, {\"threshold\": 0.24799999594688416, \"p\": 28151, \"fpr\": 0.3488066152978763, \"tpr\": 0.962985329117971, \"n\": 5321}, {\"threshold\": 0.24899999797344208, \"p\": 28151, \"fpr\": 0.34843074610035707, \"tpr\": 0.9629142836844162, \"n\": 5321}, {\"threshold\": 0.25, \"p\": 28151, \"fpr\": 0.3480548769028378, \"tpr\": 0.9628787609676388, \"n\": 5321}, {\"threshold\": 0.25099998712539673, \"p\": 28151, \"fpr\": 0.34767900770531857, \"tpr\": 0.9628432382508614, \"n\": 5321}, {\"threshold\": 0.25200000405311584, \"p\": 28151, \"fpr\": 0.3474910731065589, \"tpr\": 0.9627366701005293, \"n\": 5321}, {\"threshold\": 0.2529999911785126, \"p\": 28151, \"fpr\": 0.34711520390903966, \"tpr\": 0.9626656246669746, \"n\": 5321}, {\"threshold\": 0.2540000081062317, \"p\": 28151, \"fpr\": 0.3467393347115204, \"tpr\": 0.9626301019501972, \"n\": 5321}, {\"threshold\": 0.2549999952316284, \"p\": 28151, \"fpr\": 0.3463634655140011, \"tpr\": 0.9625945792334197, \"n\": 5321}, {\"threshold\": 0.25600001215934753, \"p\": 28151, \"fpr\": 0.3456117271189626, \"tpr\": 0.9624880110830877, \"n\": 5321}, {\"threshold\": 0.25699999928474426, \"p\": 28151, \"fpr\": 0.34523585792144335, \"tpr\": 0.9624169656495328, \"n\": 5321}, {\"threshold\": 0.257999986410141, \"p\": 28151, \"fpr\": 0.3450479233226837, \"tpr\": 0.9623459202159781, \"n\": 5321}, {\"threshold\": 0.2590000033378601, \"p\": 28151, \"fpr\": 0.34392031573012594, \"tpr\": 0.9622748747824234, \"n\": 5321}, {\"threshold\": 0.25999999046325684, \"p\": 28151, \"fpr\": 0.3437323811313663, \"tpr\": 0.9622038293488686, \"n\": 5321}, {\"threshold\": 0.26100000739097595, \"p\": 28151, \"fpr\": 0.3437323811313663, \"tpr\": 0.9621327839153139, \"n\": 5321}, {\"threshold\": 0.2619999945163727, \"p\": 28151, \"fpr\": 0.34335651193384703, \"tpr\": 0.9621327839153139, \"n\": 5321}, {\"threshold\": 0.2630000114440918, \"p\": 28151, \"fpr\": 0.3427927081375681, \"tpr\": 0.9620617384817591, \"n\": 5321}, {\"threshold\": 0.2639999985694885, \"p\": 28151, \"fpr\": 0.3424168389400489, \"tpr\": 0.961955170331427, \"n\": 5321}, {\"threshold\": 0.26499998569488525, \"p\": 28151, \"fpr\": 0.34185303514376997, \"tpr\": 0.9619196476146495, \"n\": 5321}, {\"threshold\": 0.26600000262260437, \"p\": 28151, \"fpr\": 0.3416651005450103, \"tpr\": 0.9617420340307626, \"n\": 5321}, {\"threshold\": 0.2669999897480011, \"p\": 28151, \"fpr\": 0.34072542755121216, \"tpr\": 0.9617065113139853, \"n\": 5321}, {\"threshold\": 0.2680000066757202, \"p\": 28151, \"fpr\": 0.3403495583536929, \"tpr\": 0.9616354658804306, \"n\": 5321}, {\"threshold\": 0.26899999380111694, \"p\": 28151, \"fpr\": 0.33997368915617365, \"tpr\": 0.9615644204468757, \"n\": 5321}, {\"threshold\": 0.27000001072883606, \"p\": 28151, \"fpr\": 0.33997368915617365, \"tpr\": 0.9615644204468757, \"n\": 5321}, {\"threshold\": 0.2709999978542328, \"p\": 28151, \"fpr\": 0.339785754557414, \"tpr\": 0.9614223295797663, \"n\": 5321}, {\"threshold\": 0.2720000147819519, \"p\": 28151, \"fpr\": 0.3390340161623755, \"tpr\": 0.9613868068629888, \"n\": 5321}, {\"threshold\": 0.27300000190734863, \"p\": 28151, \"fpr\": 0.3384702123660966, \"tpr\": 0.9613512841462115, \"n\": 5321}, {\"threshold\": 0.27399998903274536, \"p\": 28151, \"fpr\": 0.3379064085698177, \"tpr\": 0.9612802387126568, \"n\": 5321}, {\"threshold\": 0.2750000059604645, \"p\": 28151, \"fpr\": 0.33734260477353883, \"tpr\": 0.9611736705623246, \"n\": 5321}, {\"threshold\": 0.2759999930858612, \"p\": 28151, \"fpr\": 0.3369667355760195, \"tpr\": 0.9611381478455472, \"n\": 5321}, {\"threshold\": 0.2770000100135803, \"p\": 28151, \"fpr\": 0.3365908663785003, \"tpr\": 0.9611381478455472, \"n\": 5321}, {\"threshold\": 0.27799999713897705, \"p\": 28151, \"fpr\": 0.336214997180981, \"tpr\": 0.9611026251287699, \"n\": 5321}, {\"threshold\": 0.27900001406669617, \"p\": 28151, \"fpr\": 0.3356511933847021, \"tpr\": 0.9610671024119924, \"n\": 5321}, {\"threshold\": 0.2800000011920929, \"p\": 28151, \"fpr\": 0.3354632587859425, \"tpr\": 0.9610315796952151, \"n\": 5321}, {\"threshold\": 0.2809999883174896, \"p\": 28151, \"fpr\": 0.3350873895884232, \"tpr\": 0.960925011544883, \"n\": 5321}, {\"threshold\": 0.28200000524520874, \"p\": 28151, \"fpr\": 0.3350873895884232, \"tpr\": 0.9608894888281055, \"n\": 5321}, {\"threshold\": 0.28299999237060547, \"p\": 28151, \"fpr\": 0.33414771659462505, \"tpr\": 0.9607473979609961, \"n\": 5321}, {\"threshold\": 0.2840000092983246, \"p\": 28151, \"fpr\": 0.3337718473971058, \"tpr\": 0.9606408298106639, \"n\": 5321}, {\"threshold\": 0.2849999964237213, \"p\": 28151, \"fpr\": 0.3332080436008269, \"tpr\": 0.9604987389435544, \"n\": 5321}, {\"threshold\": 0.28600001335144043, \"p\": 28151, \"fpr\": 0.3330201090020673, \"tpr\": 0.960463216226777, \"n\": 5321}, {\"threshold\": 0.28700000047683716, \"p\": 28151, \"fpr\": 0.3324563052057884, \"tpr\": 0.9603211253596675, \"n\": 5321}, {\"threshold\": 0.2879999876022339, \"p\": 28151, \"fpr\": 0.3318925014095095, \"tpr\": 0.9602145572093354, \"n\": 5321}, {\"threshold\": 0.289000004529953, \"p\": 28151, \"fpr\": 0.33151663221199024, \"tpr\": 0.9601079890590032, \"n\": 5321}, {\"threshold\": 0.28999999165534973, \"p\": 28151, \"fpr\": 0.331140763014471, \"tpr\": 0.9599658981918937, \"n\": 5321}, {\"threshold\": 0.29100000858306885, \"p\": 28151, \"fpr\": 0.3305769592181921, \"tpr\": 0.959894852758339, \"n\": 5321}, {\"threshold\": 0.2919999957084656, \"p\": 28151, \"fpr\": 0.3302010900206728, \"tpr\": 0.9597882846080068, \"n\": 5321}, {\"threshold\": 0.2930000126361847, \"p\": 28151, \"fpr\": 0.3298252208231535, \"tpr\": 0.9596817164576746, \"n\": 5321}, {\"threshold\": 0.2939999997615814, \"p\": 28151, \"fpr\": 0.3298252208231535, \"tpr\": 0.9595396255905652, \"n\": 5321}, {\"threshold\": 0.29499998688697815, \"p\": 28151, \"fpr\": 0.3296372862243939, \"tpr\": 0.959433057440233, \"n\": 5321}, {\"threshold\": 0.29600000381469727, \"p\": 28151, \"fpr\": 0.329073482428115, \"tpr\": 0.9593975347234557, \"n\": 5321}, {\"threshold\": 0.296999990940094, \"p\": 28151, \"fpr\": 0.3283217440330765, \"tpr\": 0.9593264892899009, \"n\": 5321}, {\"threshold\": 0.2980000078678131, \"p\": 28151, \"fpr\": 0.32813380943431686, \"tpr\": 0.9592199211395688, \"n\": 5321}, {\"threshold\": 0.29899999499320984, \"p\": 28151, \"fpr\": 0.32757000563803795, \"tpr\": 0.959148875706014, \"n\": 5321}, {\"threshold\": 0.30000001192092896, \"p\": 28151, \"fpr\": 0.32738207103927836, \"tpr\": 0.9590067848389044, \"n\": 5321}, {\"threshold\": 0.3009999990463257, \"p\": 28151, \"fpr\": 0.3266303326442398, \"tpr\": 0.9589712621221271, \"n\": 5321}, {\"threshold\": 0.3019999861717224, \"p\": 28151, \"fpr\": 0.3264423980454802, \"tpr\": 0.958864693971795, \"n\": 5321}, {\"threshold\": 0.30300000309944153, \"p\": 28151, \"fpr\": 0.3258785942492013, \"tpr\": 0.9588291712550175, \"n\": 5321}, {\"threshold\": 0.30399999022483826, \"p\": 28151, \"fpr\": 0.32550272505168204, \"tpr\": 0.9587226031046855, \"n\": 5321}, {\"threshold\": 0.3050000071525574, \"p\": 28151, \"fpr\": 0.32493892125540313, \"tpr\": 0.9586160349543533, \"n\": 5321}, {\"threshold\": 0.3059999942779541, \"p\": 28151, \"fpr\": 0.32437511745912423, \"tpr\": 0.9585094668040212, \"n\": 5321}, {\"threshold\": 0.3070000112056732, \"p\": 28151, \"fpr\": 0.32437511745912423, \"tpr\": 0.9584384213704664, \"n\": 5321}, {\"threshold\": 0.30799999833106995, \"p\": 28151, \"fpr\": 0.323999248261605, \"tpr\": 0.9584384213704664, \"n\": 5321}, {\"threshold\": 0.3089999854564667, \"p\": 28151, \"fpr\": 0.3230595752678068, \"tpr\": 0.9584384213704664, \"n\": 5321}, {\"threshold\": 0.3100000023841858, \"p\": 28151, \"fpr\": 0.32287164066904717, \"tpr\": 0.9582608077865795, \"n\": 5321}, {\"threshold\": 0.3109999895095825, \"p\": 28151, \"fpr\": 0.32211990227400866, \"tpr\": 0.9582252850698021, \"n\": 5321}, {\"threshold\": 0.31200000643730164, \"p\": 28151, \"fpr\": 0.321931967675249, \"tpr\": 0.95811871691947, \"n\": 5321}, {\"threshold\": 0.31299999356269836, \"p\": 28151, \"fpr\": 0.32155609847772976, \"tpr\": 0.9580121487691379, \"n\": 5321}, {\"threshold\": 0.3140000104904175, \"p\": 28151, \"fpr\": 0.32099229468145085, \"tpr\": 0.9579411033355831, \"n\": 5321}, {\"threshold\": 0.3149999976158142, \"p\": 28151, \"fpr\": 0.31986468708889304, \"tpr\": 0.957834535185251, \"n\": 5321}, {\"threshold\": 0.3160000145435333, \"p\": 28151, \"fpr\": 0.3194888178913738, \"tpr\": 0.9576924443181415, \"n\": 5321}, {\"threshold\": 0.31700000166893005, \"p\": 28151, \"fpr\": 0.3187370794963353, \"tpr\": 0.9575503534510319, \"n\": 5321}, {\"threshold\": 0.3179999887943268, \"p\": 28151, \"fpr\": 0.31854914489757563, \"tpr\": 0.9574793080174772, \"n\": 5321}, {\"threshold\": 0.3190000057220459, \"p\": 28151, \"fpr\": 0.3181732757000564, \"tpr\": 0.9573372171503677, \"n\": 5321}, {\"threshold\": 0.3199999928474426, \"p\": 28151, \"fpr\": 0.3179853411012967, \"tpr\": 0.9572661717168129, \"n\": 5321}, {\"threshold\": 0.32100000977516174, \"p\": 28151, \"fpr\": 0.3177974065025371, \"tpr\": 0.9571951262832581, \"n\": 5321}, {\"threshold\": 0.32199999690055847, \"p\": 28151, \"fpr\": 0.3174215373050179, \"tpr\": 0.9569819899825939, \"n\": 5321}, {\"threshold\": 0.3230000138282776, \"p\": 28151, \"fpr\": 0.3172336027062582, \"tpr\": 0.9569819899825939, \"n\": 5321}, {\"threshold\": 0.3240000009536743, \"p\": 28151, \"fpr\": 0.31704566810749857, \"tpr\": 0.9569109445490391, \"n\": 5321}, {\"threshold\": 0.32499998807907104, \"p\": 28151, \"fpr\": 0.3166697989099793, \"tpr\": 0.9568398991154844, \"n\": 5321}, {\"threshold\": 0.32600000500679016, \"p\": 28151, \"fpr\": 0.31629392971246006, \"tpr\": 0.9567333309651522, \"n\": 5321}, {\"threshold\": 0.3269999921321869, \"p\": 28151, \"fpr\": 0.3159180605149408, \"tpr\": 0.9566978082483748, \"n\": 5321}, {\"threshold\": 0.328000009059906, \"p\": 28151, \"fpr\": 0.314790452922383, \"tpr\": 0.9566622855315975, \"n\": 5321}, {\"threshold\": 0.32899999618530273, \"p\": 28151, \"fpr\": 0.3140387145273445, \"tpr\": 0.9565912400980427, \"n\": 5321}, {\"threshold\": 0.33000001311302185, \"p\": 28151, \"fpr\": 0.31328697613230594, \"tpr\": 0.9565557173812653, \"n\": 5321}, {\"threshold\": 0.3310000002384186, \"p\": 28151, \"fpr\": 0.3129111069347867, \"tpr\": 0.9565201946644879, \"n\": 5321}, {\"threshold\": 0.3319999873638153, \"p\": 28151, \"fpr\": 0.3127231723360271, \"tpr\": 0.9564136265141558, \"n\": 5321}, {\"threshold\": 0.3330000042915344, \"p\": 28151, \"fpr\": 0.31253523773726744, \"tpr\": 0.956342581080601, \"n\": 5321}, {\"threshold\": 0.33399999141693115, \"p\": 28151, \"fpr\": 0.3115955647434693, \"tpr\": 0.956342581080601, \"n\": 5321}, {\"threshold\": 0.33500000834465027, \"p\": 28151, \"fpr\": 0.31121969554595, \"tpr\": 0.9563070583638237, \"n\": 5321}, {\"threshold\": 0.335999995470047, \"p\": 28151, \"fpr\": 0.3108438263484307, \"tpr\": 0.9562715356470463, \"n\": 5321}, {\"threshold\": 0.3370000123977661, \"p\": 28151, \"fpr\": 0.31046795715091147, \"tpr\": 0.9561294447799368, \"n\": 5321}, {\"threshold\": 0.33799999952316284, \"p\": 28151, \"fpr\": 0.3100920879533922, \"tpr\": 0.9560228766296046, \"n\": 5321}, {\"threshold\": 0.33899998664855957, \"p\": 28151, \"fpr\": 0.30971621875587296, \"tpr\": 0.9559873539128273, \"n\": 5321}, {\"threshold\": 0.3400000035762787, \"p\": 28151, \"fpr\": 0.3087765457620748, \"tpr\": 0.9558452630457177, \"n\": 5321}, {\"threshold\": 0.3409999907016754, \"p\": 28151, \"fpr\": 0.30858861116331515, \"tpr\": 0.955774217612163, \"n\": 5321}, {\"threshold\": 0.34200000762939453, \"p\": 28151, \"fpr\": 0.30783687276827665, \"tpr\": 0.9556676494618308, \"n\": 5321}, {\"threshold\": 0.34299999475479126, \"p\": 28151, \"fpr\": 0.30783687276827665, \"tpr\": 0.9555610813114988, \"n\": 5321}, {\"threshold\": 0.3440000116825104, \"p\": 28151, \"fpr\": 0.307648938169517, \"tpr\": 0.9553479450108344, \"n\": 5321}, {\"threshold\": 0.3449999988079071, \"p\": 28151, \"fpr\": 0.3070851343732381, \"tpr\": 0.9552768995772797, \"n\": 5321}, {\"threshold\": 0.34599998593330383, \"p\": 28151, \"fpr\": 0.3068971997744785, \"tpr\": 0.9552413768605023, \"n\": 5321}, {\"threshold\": 0.34700000286102295, \"p\": 28151, \"fpr\": 0.30614546137943993, \"tpr\": 0.9550637632766154, \"n\": 5321}, {\"threshold\": 0.3479999899864197, \"p\": 28151, \"fpr\": 0.30595752678068033, \"tpr\": 0.955028240559838, \"n\": 5321}, {\"threshold\": 0.3490000069141388, \"p\": 28151, \"fpr\": 0.3057695921819207, \"tpr\": 0.9549216724095059, \"n\": 5321}, {\"threshold\": 0.3499999940395355, \"p\": 28151, \"fpr\": 0.3057695921819207, \"tpr\": 0.9548506269759511, \"n\": 5321}, {\"threshold\": 0.35100001096725464, \"p\": 28151, \"fpr\": 0.3048299191881225, \"tpr\": 0.954744058825619, \"n\": 5321}, {\"threshold\": 0.35199999809265137, \"p\": 28151, \"fpr\": 0.3046419845893629, \"tpr\": 0.9547085361088417, \"n\": 5321}, {\"threshold\": 0.3529999852180481, \"p\": 28151, \"fpr\": 0.304078180793084, \"tpr\": 0.9545664452417321, \"n\": 5321}, {\"threshold\": 0.3540000021457672, \"p\": 28151, \"fpr\": 0.30389024619432436, \"tpr\": 0.9544953998081773, \"n\": 5321}, {\"threshold\": 0.35499998927116394, \"p\": 28151, \"fpr\": 0.30389024619432436, \"tpr\": 0.9543888316578452, \"n\": 5321}, {\"threshold\": 0.35600000619888306, \"p\": 28151, \"fpr\": 0.30370231159556477, \"tpr\": 0.9543533089410678, \"n\": 5321}, {\"threshold\": 0.3569999933242798, \"p\": 28151, \"fpr\": 0.30313850779928586, \"tpr\": 0.9542467407907357, \"n\": 5321}, {\"threshold\": 0.3580000102519989, \"p\": 28151, \"fpr\": 0.3029505732005262, \"tpr\": 0.9541756953571809, \"n\": 5321}, {\"threshold\": 0.35899999737739563, \"p\": 28151, \"fpr\": 0.3029505732005262, \"tpr\": 0.9540691272068488, \"n\": 5321}, {\"threshold\": 0.36000001430511475, \"p\": 28151, \"fpr\": 0.3021988348054877, \"tpr\": 0.953998081773294, \"n\": 5321}, {\"threshold\": 0.3610000014305115, \"p\": 28151, \"fpr\": 0.30201090020672805, \"tpr\": 0.9538915136229619, \"n\": 5321}, {\"threshold\": 0.3619999885559082, \"p\": 28151, \"fpr\": 0.30182296560796845, \"tpr\": 0.9538204681894071, \"n\": 5321}, {\"threshold\": 0.3630000054836273, \"p\": 28151, \"fpr\": 0.30144709641044914, \"tpr\": 0.9537849454726297, \"n\": 5321}, {\"threshold\": 0.36399999260902405, \"p\": 28151, \"fpr\": 0.30144709641044914, \"tpr\": 0.9537494227558524, \"n\": 5321}, {\"threshold\": 0.36500000953674316, \"p\": 28151, \"fpr\": 0.3010712272129299, \"tpr\": 0.9536783773222977, \"n\": 5321}, {\"threshold\": 0.3659999966621399, \"p\": 28151, \"fpr\": 0.30069535801541064, \"tpr\": 0.9536073318887428, \"n\": 5321}, {\"threshold\": 0.367000013589859, \"p\": 28151, \"fpr\": 0.3003194888178914, \"tpr\": 0.9535362864551881, \"n\": 5321}, {\"threshold\": 0.36800000071525574, \"p\": 28151, \"fpr\": 0.3003194888178914, \"tpr\": 0.9533586728713012, \"n\": 5321}, {\"threshold\": 0.36899998784065247, \"p\": 28151, \"fpr\": 0.3003194888178914, \"tpr\": 0.9532165820041917, \"n\": 5321}, {\"threshold\": 0.3700000047683716, \"p\": 28151, \"fpr\": 0.30013155421913174, \"tpr\": 0.9531455365706369, \"n\": 5321}, {\"threshold\": 0.3709999918937683, \"p\": 28151, \"fpr\": 0.30013155421913174, \"tpr\": 0.9530389684203048, \"n\": 5321}, {\"threshold\": 0.3720000088214874, \"p\": 28151, \"fpr\": 0.29994361962037214, \"tpr\": 0.9529324002699726, \"n\": 5321}, {\"threshold\": 0.37299999594688416, \"p\": 28151, \"fpr\": 0.29937981582409323, \"tpr\": 0.9529324002699726, \"n\": 5321}, {\"threshold\": 0.37400001287460327, \"p\": 28151, \"fpr\": 0.299003946626574, \"tpr\": 0.9528968775531953, \"n\": 5321}, {\"threshold\": 0.375, \"p\": 28151, \"fpr\": 0.2988160120278143, \"tpr\": 0.9527903094028631, \"n\": 5321}, {\"threshold\": 0.37599998712539673, \"p\": 28151, \"fpr\": 0.2982522082315354, \"tpr\": 0.9527547866860857, \"n\": 5321}, {\"threshold\": 0.37700000405311584, \"p\": 28151, \"fpr\": 0.29806427363277577, \"tpr\": 0.952683741252531, \"n\": 5321}, {\"threshold\": 0.3779999911785126, \"p\": 28151, \"fpr\": 0.2976884044352565, \"tpr\": 0.952399559518312, \"n\": 5321}, {\"threshold\": 0.3790000081062317, \"p\": 28151, \"fpr\": 0.2971246006389776, \"tpr\": 0.9523640368015346, \"n\": 5321}, {\"threshold\": 0.3799999952316284, \"p\": 28151, \"fpr\": 0.296936666040218, \"tpr\": 0.9522219459344251, \"n\": 5321}, {\"threshold\": 0.38100001215934753, \"p\": 28151, \"fpr\": 0.2963728622439391, \"tpr\": 0.9521509005008703, \"n\": 5321}, {\"threshold\": 0.38199999928474426, \"p\": 28151, \"fpr\": 0.2956211238489006, \"tpr\": 0.9520088096337608, \"n\": 5321}, {\"threshold\": 0.382999986410141, \"p\": 28151, \"fpr\": 0.29543318925014095, \"tpr\": 0.9517956733330966, \"n\": 5321}, {\"threshold\": 0.3840000033378601, \"p\": 28151, \"fpr\": 0.2952452546513813, \"tpr\": 0.9516891051827644, \"n\": 5321}, {\"threshold\": 0.38499999046325684, \"p\": 28151, \"fpr\": 0.2952452546513813, \"tpr\": 0.9515825370324322, \"n\": 5321}, {\"threshold\": 0.38600000739097595, \"p\": 28151, \"fpr\": 0.29411764705882354, \"tpr\": 0.9515470143156549, \"n\": 5321}, {\"threshold\": 0.3869999945163727, \"p\": 28151, \"fpr\": 0.2939297124600639, \"tpr\": 0.9515114915988775, \"n\": 5321}, {\"threshold\": 0.3880000114440918, \"p\": 28151, \"fpr\": 0.29299003946626573, \"tpr\": 0.951369400731768, \"n\": 5321}, {\"threshold\": 0.3889999985694885, \"p\": 28151, \"fpr\": 0.2922383010712272, \"tpr\": 0.9512983552982132, \"n\": 5321}, {\"threshold\": 0.38999998569488525, \"p\": 28151, \"fpr\": 0.29205036647246757, \"tpr\": 0.9512273098646584, \"n\": 5321}, {\"threshold\": 0.39100000262260437, \"p\": 28151, \"fpr\": 0.29148656267618867, \"tpr\": 0.9511562644311037, \"n\": 5321}, {\"threshold\": 0.3919999897480011, \"p\": 28151, \"fpr\": 0.2911106934786694, \"tpr\": 0.9510141735639942, \"n\": 5321}, {\"threshold\": 0.3930000066757202, \"p\": 28151, \"fpr\": 0.2903589550836309, \"tpr\": 0.9508010372633299, \"n\": 5321}, {\"threshold\": 0.39399999380111694, \"p\": 28151, \"fpr\": 0.28998308588611166, \"tpr\": 0.9507655145465526, \"n\": 5321}, {\"threshold\": 0.39500001072883606, \"p\": 28151, \"fpr\": 0.289795151287352, \"tpr\": 0.950623423679443, \"n\": 5321}, {\"threshold\": 0.3959999978542328, \"p\": 28151, \"fpr\": 0.28941928208983275, \"tpr\": 0.9505168555291109, \"n\": 5321}, {\"threshold\": 0.3970000147819519, \"p\": 28151, \"fpr\": 0.28885547829355385, \"tpr\": 0.9504458100955561, \"n\": 5321}, {\"threshold\": 0.39800000190734863, \"p\": 28151, \"fpr\": 0.2884796090960346, \"tpr\": 0.9504458100955561, \"n\": 5321}, {\"threshold\": 0.39899998903274536, \"p\": 28151, \"fpr\": 0.2884796090960346, \"tpr\": 0.9503747646620013, \"n\": 5321}, {\"threshold\": 0.4000000059604645, \"p\": 28151, \"fpr\": 0.2879158052997557, \"tpr\": 0.9502681965116692, \"n\": 5321}, {\"threshold\": 0.4009999930858612, \"p\": 28151, \"fpr\": 0.28697613230595753, \"tpr\": 0.9501616283613371, \"n\": 5321}, {\"threshold\": 0.4020000100135803, \"p\": 28151, \"fpr\": 0.2864123285096786, \"tpr\": 0.9500195374942275, \"n\": 5321}, {\"threshold\": 0.40299999713897705, \"p\": 28151, \"fpr\": 0.2858485247133997, \"tpr\": 0.9499484920606728, \"n\": 5321}, {\"threshold\": 0.40400001406669617, \"p\": 28151, \"fpr\": 0.2858485247133997, \"tpr\": 0.9499129693438955, \"n\": 5321}, {\"threshold\": 0.4050000011920929, \"p\": 28151, \"fpr\": 0.2858485247133997, \"tpr\": 0.9499129693438955, \"n\": 5321}, {\"threshold\": 0.4059999883174896, \"p\": 28151, \"fpr\": 0.2856605901146401, \"tpr\": 0.9498419239103406, \"n\": 5321}, {\"threshold\": 0.40700000524520874, \"p\": 28151, \"fpr\": 0.28547265551588047, \"tpr\": 0.9498419239103406, \"n\": 5321}, {\"threshold\": 0.40799999237060547, \"p\": 28151, \"fpr\": 0.28490885171960156, \"tpr\": 0.9497708784767859, \"n\": 5321}, {\"threshold\": 0.4090000092983246, \"p\": 28151, \"fpr\": 0.2845329825220823, \"tpr\": 0.9496643103264538, \"n\": 5321}, {\"threshold\": 0.4099999964237213, \"p\": 28151, \"fpr\": 0.28434504792332266, \"tpr\": 0.9496643103264538, \"n\": 5321}, {\"threshold\": 0.41100001335144043, \"p\": 28151, \"fpr\": 0.28415711332456306, \"tpr\": 0.9494156513090121, \"n\": 5321}, {\"threshold\": 0.41200000047683716, \"p\": 28151, \"fpr\": 0.28359330952828415, \"tpr\": 0.9493446058754573, \"n\": 5321}, {\"threshold\": 0.4129999876022339, \"p\": 28151, \"fpr\": 0.2832174403307649, \"tpr\": 0.9493446058754573, \"n\": 5321}, {\"threshold\": 0.414000004529953, \"p\": 28151, \"fpr\": 0.282653636534486, \"tpr\": 0.9492735604419026, \"n\": 5321}, {\"threshold\": 0.41499999165534973, \"p\": 28151, \"fpr\": 0.282653636534486, \"tpr\": 0.9492380377251253, \"n\": 5321}, {\"threshold\": 0.41600000858306885, \"p\": 28151, \"fpr\": 0.28227776733696675, \"tpr\": 0.9491669922915704, \"n\": 5321}, {\"threshold\": 0.4169999957084656, \"p\": 28151, \"fpr\": 0.28171396354068784, \"tpr\": 0.9490959468580157, \"n\": 5321}, {\"threshold\": 0.4180000126361847, \"p\": 28151, \"fpr\": 0.28171396354068784, \"tpr\": 0.9490604241412384, \"n\": 5321}, {\"threshold\": 0.4189999997615814, \"p\": 28151, \"fpr\": 0.2813380943431686, \"tpr\": 0.9489538559909062, \"n\": 5321}, {\"threshold\": 0.41999998688697815, \"p\": 28151, \"fpr\": 0.2813380943431686, \"tpr\": 0.9489183332741288, \"n\": 5321}, {\"threshold\": 0.42100000381469727, \"p\": 28151, \"fpr\": 0.28115015974440893, \"tpr\": 0.9488117651237966, \"n\": 5321}, {\"threshold\": 0.421999990940094, \"p\": 28151, \"fpr\": 0.28096222514564934, \"tpr\": 0.9487051969734646, \"n\": 5321}, {\"threshold\": 0.4230000078678131, \"p\": 28151, \"fpr\": 0.2807742905468897, \"tpr\": 0.9485986288231324, \"n\": 5321}, {\"threshold\": 0.42399999499320984, \"p\": 28151, \"fpr\": 0.2807742905468897, \"tpr\": 0.9484920606728002, \"n\": 5321}, {\"threshold\": 0.42500001192092896, \"p\": 28151, \"fpr\": 0.28058635594813003, \"tpr\": 0.9484565379560229, \"n\": 5321}, {\"threshold\": 0.4259999990463257, \"p\": 28151, \"fpr\": 0.2800225521518512, \"tpr\": 0.9484565379560229, \"n\": 5321}, {\"threshold\": 0.4269999861717224, \"p\": 28151, \"fpr\": 0.2794587483555723, \"tpr\": 0.9484565379560229, \"n\": 5321}, {\"threshold\": 0.42800000309944153, \"p\": 28151, \"fpr\": 0.2785190753617741, \"tpr\": 0.948278924372136, \"n\": 5321}, {\"threshold\": 0.42899999022483826, \"p\": 28151, \"fpr\": 0.27814320616425486, \"tpr\": 0.9481013107882491, \"n\": 5321}, {\"threshold\": 0.4300000071525574, \"p\": 28151, \"fpr\": 0.27757940236797596, \"tpr\": 0.9480302653546944, \"n\": 5321}, {\"threshold\": 0.4309999942779541, \"p\": 28151, \"fpr\": 0.2772035331704567, \"tpr\": 0.9479592199211395, \"n\": 5321}, {\"threshold\": 0.4320000112056732, \"p\": 28151, \"fpr\": 0.27645179477541815, \"tpr\": 0.9478526517708075, \"n\": 5321}, {\"threshold\": 0.43299999833106995, \"p\": 28151, \"fpr\": 0.2760759255778989, \"tpr\": 0.94781712905403, \"n\": 5321}, {\"threshold\": 0.4339999854564667, \"p\": 28151, \"fpr\": 0.27588799097913924, \"tpr\": 0.9477816063372527, \"n\": 5321}, {\"threshold\": 0.4350000023841858, \"p\": 28151, \"fpr\": 0.27551212178162, \"tpr\": 0.9477460836204753, \"n\": 5321}, {\"threshold\": 0.4359999895095825, \"p\": 28151, \"fpr\": 0.27551212178162, \"tpr\": 0.9476395154701431, \"n\": 5321}, {\"threshold\": 0.43700000643730164, \"p\": 28151, \"fpr\": 0.27513625258410074, \"tpr\": 0.947532947319811, \"n\": 5321}, {\"threshold\": 0.43799999356269836, \"p\": 28151, \"fpr\": 0.27457244878782183, \"tpr\": 0.9474619018862562, \"n\": 5321}, {\"threshold\": 0.4390000104904175, \"p\": 28151, \"fpr\": 0.27457244878782183, \"tpr\": 0.9474263791694789, \"n\": 5321}, {\"threshold\": 0.4399999976158142, \"p\": 28151, \"fpr\": 0.2740086449915429, \"tpr\": 0.9472842883023693, \"n\": 5321}, {\"threshold\": 0.4410000145435333, \"p\": 28151, \"fpr\": 0.2740086449915429, \"tpr\": 0.9471777201520373, \"n\": 5321}, {\"threshold\": 0.44200000166893005, \"p\": 28151, \"fpr\": 0.27382071039278333, \"tpr\": 0.9470356292849277, \"n\": 5321}, {\"threshold\": 0.4429999887943268, \"p\": 28151, \"fpr\": 0.2736327757940237, \"tpr\": 0.9470001065681504, \"n\": 5321}, {\"threshold\": 0.4440000057220459, \"p\": 28151, \"fpr\": 0.2726931028002255, \"tpr\": 0.9469645838513729, \"n\": 5321}, {\"threshold\": 0.4449999928474426, \"p\": 28151, \"fpr\": 0.2721292990039466, \"tpr\": 0.9469290611345956, \"n\": 5321}, {\"threshold\": 0.44600000977516174, \"p\": 28151, \"fpr\": 0.27175342980642736, \"tpr\": 0.9468224929842635, \"n\": 5321}, {\"threshold\": 0.44699999690055847, \"p\": 28151, \"fpr\": 0.2713775606089081, \"tpr\": 0.946786970267486, \"n\": 5321}, {\"threshold\": 0.4480000138282776, \"p\": 28151, \"fpr\": 0.27118962601014845, \"tpr\": 0.9465738339668218, \"n\": 5321}, {\"threshold\": 0.4490000009536743, \"p\": 28151, \"fpr\": 0.27100169141138886, \"tpr\": 0.9464317430997122, \"n\": 5321}, {\"threshold\": 0.44999998807907104, \"p\": 28151, \"fpr\": 0.27043788761510995, \"tpr\": 0.9463606976661575, \"n\": 5321}, {\"threshold\": 0.45100000500679016, \"p\": 28151, \"fpr\": 0.2696861492200714, \"tpr\": 0.9461830840822706, \"n\": 5321}, {\"threshold\": 0.4519999921321869, \"p\": 28151, \"fpr\": 0.2696861492200714, \"tpr\": 0.9460409932151611, \"n\": 5321}, {\"threshold\": 0.453000009059906, \"p\": 28151, \"fpr\": 0.26912234542379254, \"tpr\": 0.9460054704983837, \"n\": 5321}, {\"threshold\": 0.45399999618530273, \"p\": 28151, \"fpr\": 0.26912234542379254, \"tpr\": 0.9459344250648289, \"n\": 5321}, {\"threshold\": 0.45500001311302185, \"p\": 28151, \"fpr\": 0.2689344108250329, \"tpr\": 0.9458278569144968, \"n\": 5321}, {\"threshold\": 0.4560000002384186, \"p\": 28151, \"fpr\": 0.26874647622627323, \"tpr\": 0.9456857660473873, \"n\": 5321}, {\"threshold\": 0.4569999873638153, \"p\": 28151, \"fpr\": 0.26855854162751364, \"tpr\": 0.9455081524635004, \"n\": 5321}, {\"threshold\": 0.4580000042915344, \"p\": 28151, \"fpr\": 0.268370607028754, \"tpr\": 0.9453305388796135, \"n\": 5321}, {\"threshold\": 0.45899999141693115, \"p\": 28151, \"fpr\": 0.268370607028754, \"tpr\": 0.9452239707292813, \"n\": 5321}, {\"threshold\": 0.46000000834465027, \"p\": 28151, \"fpr\": 0.26799473783123473, \"tpr\": 0.9450108344286171, \"n\": 5321}, {\"threshold\": 0.460999995470047, \"p\": 28151, \"fpr\": 0.2678068032324751, \"tpr\": 0.9449397889950624, \"n\": 5321}, {\"threshold\": 0.4620000123977661, \"p\": 28151, \"fpr\": 0.2672429994361962, \"tpr\": 0.944726652694398, \"n\": 5321}, {\"threshold\": 0.46299999952316284, \"p\": 28151, \"fpr\": 0.2668671302386769, \"tpr\": 0.944620084544066, \"n\": 5321}, {\"threshold\": 0.46399998664855957, \"p\": 28151, \"fpr\": 0.2666791956399173, \"tpr\": 0.9445490391105111, \"n\": 5321}, {\"threshold\": 0.4650000035762787, \"p\": 28151, \"fpr\": 0.26649126104115767, \"tpr\": 0.9444069482434017, \"n\": 5321}, {\"threshold\": 0.4659999907016754, \"p\": 28151, \"fpr\": 0.26630332644239807, \"tpr\": 0.9443714255266242, \"n\": 5321}, {\"threshold\": 0.46700000762939453, \"p\": 28151, \"fpr\": 0.26592745724487876, \"tpr\": 0.9443003800930695, \"n\": 5321}, {\"threshold\": 0.46799999475479126, \"p\": 28151, \"fpr\": 0.26573952264611916, \"tpr\": 0.9441227665091826, \"n\": 5321}, {\"threshold\": 0.4690000116825104, \"p\": 28151, \"fpr\": 0.2649877842510806, \"tpr\": 0.9440872437924053, \"n\": 5321}, {\"threshold\": 0.4699999988079071, \"p\": 28151, \"fpr\": 0.2642360458560421, \"tpr\": 0.9440872437924053, \"n\": 5321}, {\"threshold\": 0.47099998593330383, \"p\": 28151, \"fpr\": 0.2642360458560421, \"tpr\": 0.9440517210756278, \"n\": 5321}, {\"threshold\": 0.47200000286102295, \"p\": 28151, \"fpr\": 0.2636722420597632, \"tpr\": 0.9438385847749636, \"n\": 5321}, {\"threshold\": 0.4729999899864197, \"p\": 28151, \"fpr\": 0.2634843074610036, \"tpr\": 0.943696493907854, \"n\": 5321}, {\"threshold\": 0.4740000069141388, \"p\": 28151, \"fpr\": 0.26254463446720544, \"tpr\": 0.9436254484742993, \"n\": 5321}, {\"threshold\": 0.4749999940395355, \"p\": 28151, \"fpr\": 0.2623566998684458, \"tpr\": 0.943589925757522, \"n\": 5321}, {\"threshold\": 0.47600001096725464, \"p\": 28151, \"fpr\": 0.2623566998684458, \"tpr\": 0.9434123121736351, \"n\": 5321}, {\"threshold\": 0.47699999809265137, \"p\": 28151, \"fpr\": 0.26216876526968613, \"tpr\": 0.9433057440233029, \"n\": 5321}, {\"threshold\": 0.4779999852180481, \"p\": 28151, \"fpr\": 0.26141702687464763, \"tpr\": 0.9432346985897482, \"n\": 5321}, {\"threshold\": 0.4790000021457672, \"p\": 28151, \"fpr\": 0.26141702687464763, \"tpr\": 0.9431636531561934, \"n\": 5321}, {\"threshold\": 0.47999998927116394, \"p\": 28151, \"fpr\": 0.2610411576771284, \"tpr\": 0.9430215622890838, \"n\": 5321}, {\"threshold\": 0.48100000619888306, \"p\": 28151, \"fpr\": 0.26047735388084947, \"tpr\": 0.9429505168555291, \"n\": 5321}, {\"threshold\": 0.4819999933242798, \"p\": 28151, \"fpr\": 0.2597256154858109, \"tpr\": 0.9429149941387517, \"n\": 5321}, {\"threshold\": 0.4830000102519989, \"p\": 28151, \"fpr\": 0.2595376808870513, \"tpr\": 0.9428084259884196, \"n\": 5321}, {\"threshold\": 0.48399999737739563, \"p\": 28151, \"fpr\": 0.25916181168953206, \"tpr\": 0.9425952896877553, \"n\": 5321}, {\"threshold\": 0.48500001430511475, \"p\": 28151, \"fpr\": 0.25878594249201275, \"tpr\": 0.9425242442542006, \"n\": 5321}, {\"threshold\": 0.4860000014305115, \"p\": 28151, \"fpr\": 0.25878594249201275, \"tpr\": 0.9423821533870911, \"n\": 5321}, {\"threshold\": 0.4869999885559082, \"p\": 28151, \"fpr\": 0.25859800789325316, \"tpr\": 0.9422045398032042, \"n\": 5321}, {\"threshold\": 0.4880000054836273, \"p\": 28151, \"fpr\": 0.25803420409697425, \"tpr\": 0.9422045398032042, \"n\": 5321}, {\"threshold\": 0.48899999260902405, \"p\": 28151, \"fpr\": 0.25803420409697425, \"tpr\": 0.942097971652872, \"n\": 5321}, {\"threshold\": 0.49000000953674316, \"p\": 28151, \"fpr\": 0.25728246570193575, \"tpr\": 0.9420269262193173, \"n\": 5321}, {\"threshold\": 0.4909999966621399, \"p\": 28151, \"fpr\": 0.25690659650441644, \"tpr\": 0.9419914035025398, \"n\": 5321}, {\"threshold\": 0.492000013589859, \"p\": 28151, \"fpr\": 0.25671866190565684, \"tpr\": 0.9419203580689851, \"n\": 5321}, {\"threshold\": 0.49300000071525574, \"p\": 28151, \"fpr\": 0.25671866190565684, \"tpr\": 0.9418493126354304, \"n\": 5321}, {\"threshold\": 0.49399998784065247, \"p\": 28151, \"fpr\": 0.25671866190565684, \"tpr\": 0.9417427444850982, \"n\": 5321}, {\"threshold\": 0.4950000047683716, \"p\": 28151, \"fpr\": 0.2565307273068972, \"tpr\": 0.9416716990515435, \"n\": 5321}, {\"threshold\": 0.4959999918937683, \"p\": 28151, \"fpr\": 0.2565307273068972, \"tpr\": 0.9414940854676566, \"n\": 5321}, {\"threshold\": 0.4970000088214874, \"p\": 28151, \"fpr\": 0.2563427927081376, \"tpr\": 0.9413164718837697, \"n\": 5321}, {\"threshold\": 0.49799999594688416, \"p\": 28151, \"fpr\": 0.25615485810937794, \"tpr\": 0.9411743810166602, \"n\": 5321}, {\"threshold\": 0.49900001287460327, \"p\": 28151, \"fpr\": 0.25615485810937794, \"tpr\": 0.9409967674327733, \"n\": 5321}, {\"threshold\": 0.5, \"p\": 28151, \"fpr\": 0.25559105431309903, \"tpr\": 0.9407836311321089, \"n\": 5321}, {\"threshold\": 0.5009999871253967, \"p\": 28151, \"fpr\": 0.2552151851155798, \"tpr\": 0.9407125856985542, \"n\": 5321}, {\"threshold\": 0.5019999742507935, \"p\": 28151, \"fpr\": 0.2548393159180605, \"tpr\": 0.9406770629817769, \"n\": 5321}, {\"threshold\": 0.503000020980835, \"p\": 28151, \"fpr\": 0.2542755121217816, \"tpr\": 0.9405349721146673, \"n\": 5321}, {\"threshold\": 0.5040000081062317, \"p\": 28151, \"fpr\": 0.25408757752302197, \"tpr\": 0.9403218358140031, \"n\": 5321}, {\"threshold\": 0.5049999952316284, \"p\": 28151, \"fpr\": 0.25408757752302197, \"tpr\": 0.9401797449468935, \"n\": 5321}, {\"threshold\": 0.5059999823570251, \"p\": 28151, \"fpr\": 0.25333583912798346, \"tpr\": 0.9401086995133388, \"n\": 5321}, {\"threshold\": 0.5070000290870667, \"p\": 28151, \"fpr\": 0.2529599699304642, \"tpr\": 0.9400021313630066, \"n\": 5321}, {\"threshold\": 0.5080000162124634, \"p\": 28151, \"fpr\": 0.2529599699304642, \"tpr\": 0.9398600404958971, \"n\": 5321}, {\"threshold\": 0.5090000033378601, \"p\": 28151, \"fpr\": 0.25258410073294496, \"tpr\": 0.9397534723455649, \"n\": 5321}, {\"threshold\": 0.5099999904632568, \"p\": 28151, \"fpr\": 0.2518323623379064, \"tpr\": 0.9397179496287876, \"n\": 5321}, {\"threshold\": 0.5109999775886536, \"p\": 28151, \"fpr\": 0.2512685585416275, \"tpr\": 0.9395403360449007, \"n\": 5321}, {\"threshold\": 0.5120000243186951, \"p\": 28151, \"fpr\": 0.2512685585416275, \"tpr\": 0.939469290611346, \"n\": 5321}, {\"threshold\": 0.5130000114440918, \"p\": 28151, \"fpr\": 0.25089268934410824, \"tpr\": 0.9393982451777912, \"n\": 5321}, {\"threshold\": 0.5139999985694885, \"p\": 28151, \"fpr\": 0.25089268934410824, \"tpr\": 0.9392206315939043, \"n\": 5321}, {\"threshold\": 0.5149999856948853, \"p\": 28151, \"fpr\": 0.2499530163503101, \"tpr\": 0.9391851088771269, \"n\": 5321}, {\"threshold\": 0.515999972820282, \"p\": 28151, \"fpr\": 0.24976508175155046, \"tpr\": 0.9391495861603495, \"n\": 5321}, {\"threshold\": 0.5170000195503235, \"p\": 28151, \"fpr\": 0.2493892125540312, \"tpr\": 0.9390430180100174, \"n\": 5321}, {\"threshold\": 0.5180000066757202, \"p\": 28151, \"fpr\": 0.2493892125540312, \"tpr\": 0.9390430180100174, \"n\": 5321}, {\"threshold\": 0.5189999938011169, \"p\": 28151, \"fpr\": 0.2493892125540312, \"tpr\": 0.9389719725764627, \"n\": 5321}, {\"threshold\": 0.5199999809265137, \"p\": 28151, \"fpr\": 0.24920127795527156, \"tpr\": 0.9389364498596853, \"n\": 5321}, {\"threshold\": 0.5210000276565552, \"p\": 28151, \"fpr\": 0.2488254087577523, \"tpr\": 0.9388654044261305, \"n\": 5321}, {\"threshold\": 0.5220000147819519, \"p\": 28151, \"fpr\": 0.2482616049614734, \"tpr\": 0.9386877908422436, \"n\": 5321}, {\"threshold\": 0.5230000019073486, \"p\": 28151, \"fpr\": 0.24788573576395415, \"tpr\": 0.9385812226919115, \"n\": 5321}, {\"threshold\": 0.5239999890327454, \"p\": 28151, \"fpr\": 0.24713399736891561, \"tpr\": 0.9384746545415793, \"n\": 5321}, {\"threshold\": 0.5249999761581421, \"p\": 28151, \"fpr\": 0.2465701935726367, \"tpr\": 0.9382615182409151, \"n\": 5321}, {\"threshold\": 0.5260000228881836, \"p\": 28151, \"fpr\": 0.24619432437511746, \"tpr\": 0.9382259955241377, \"n\": 5321}, {\"threshold\": 0.5270000100135803, \"p\": 28151, \"fpr\": 0.24600638977635783, \"tpr\": 0.9380839046570282, \"n\": 5321}, {\"threshold\": 0.527999997138977, \"p\": 28151, \"fpr\": 0.2452546513813193, \"tpr\": 0.937977336506696, \"n\": 5321}, {\"threshold\": 0.5289999842643738, \"p\": 28151, \"fpr\": 0.2446908475850404, \"tpr\": 0.9379062910731413, \"n\": 5321}, {\"threshold\": 0.5299999713897705, \"p\": 28151, \"fpr\": 0.24431497838752114, \"tpr\": 0.9378352456395865, \"n\": 5321}, {\"threshold\": 0.531000018119812, \"p\": 28151, \"fpr\": 0.24431497838752114, \"tpr\": 0.9376931547724769, \"n\": 5321}, {\"threshold\": 0.5320000052452087, \"p\": 28151, \"fpr\": 0.2439391091900019, \"tpr\": 0.9376931547724769, \"n\": 5321}, {\"threshold\": 0.5329999923706055, \"p\": 28151, \"fpr\": 0.24375117459124224, \"tpr\": 0.9376576320556996, \"n\": 5321}, {\"threshold\": 0.5339999794960022, \"p\": 28151, \"fpr\": 0.24337530539372298, \"tpr\": 0.9375865866221449, \"n\": 5321}, {\"threshold\": 0.5350000262260437, \"p\": 28151, \"fpr\": 0.24262356699868445, \"tpr\": 0.9373734503214806, \"n\": 5321}, {\"threshold\": 0.5360000133514404, \"p\": 28151, \"fpr\": 0.24243563239992483, \"tpr\": 0.9373024048879258, \"n\": 5321}, {\"threshold\": 0.5370000004768372, \"p\": 28151, \"fpr\": 0.2422476978011652, \"tpr\": 0.9372668821711484, \"n\": 5321}, {\"threshold\": 0.5379999876022339, \"p\": 28151, \"fpr\": 0.2422476978011652, \"tpr\": 0.9371247913040389, \"n\": 5321}, {\"threshold\": 0.5389999747276306, \"p\": 28151, \"fpr\": 0.24205976320240558, \"tpr\": 0.9370182231537068, \"n\": 5321}, {\"threshold\": 0.5400000214576721, \"p\": 28151, \"fpr\": 0.24187182860364592, \"tpr\": 0.9369827004369294, \"n\": 5321}, {\"threshold\": 0.5410000085830688, \"p\": 28151, \"fpr\": 0.2416838940048863, \"tpr\": 0.9369116550033747, \"n\": 5321}, {\"threshold\": 0.5419999957084656, \"p\": 28151, \"fpr\": 0.2416838940048863, \"tpr\": 0.9367695641362651, \"n\": 5321}, {\"threshold\": 0.5429999828338623, \"p\": 28151, \"fpr\": 0.24130802480736704, \"tpr\": 0.9367340414194878, \"n\": 5321}, {\"threshold\": 0.5440000295639038, \"p\": 28151, \"fpr\": 0.24074422101108814, \"tpr\": 0.9366629959859331, \"n\": 5321}, {\"threshold\": 0.5450000166893005, \"p\": 28151, \"fpr\": 0.24074422101108814, \"tpr\": 0.9366274732691556, \"n\": 5321}, {\"threshold\": 0.5460000038146973, \"p\": 28151, \"fpr\": 0.2399924826160496, \"tpr\": 0.9365209051188235, \"n\": 5321}, {\"threshold\": 0.546999990940094, \"p\": 28151, \"fpr\": 0.23980454801728998, \"tpr\": 0.9364498596852687, \"n\": 5321}, {\"threshold\": 0.5479999780654907, \"p\": 28151, \"fpr\": 0.23961661341853036, \"tpr\": 0.936378814251714, \"n\": 5321}, {\"threshold\": 0.5490000247955322, \"p\": 28151, \"fpr\": 0.23905280962225145, \"tpr\": 0.9362012006678271, \"n\": 5321}, {\"threshold\": 0.550000011920929, \"p\": 28151, \"fpr\": 0.2386769404247322, \"tpr\": 0.9361301552342723, \"n\": 5321}, {\"threshold\": 0.5509999990463257, \"p\": 28151, \"fpr\": 0.23830107122721292, \"tpr\": 0.9360235870839402, \"n\": 5321}, {\"threshold\": 0.5519999861717224, \"p\": 28151, \"fpr\": 0.23830107122721292, \"tpr\": 0.9359525416503854, \"n\": 5321}, {\"threshold\": 0.5529999732971191, \"p\": 28151, \"fpr\": 0.23792520202969367, \"tpr\": 0.9358814962168307, \"n\": 5321}, {\"threshold\": 0.5540000200271606, \"p\": 28151, \"fpr\": 0.23736139823341476, \"tpr\": 0.9357394053497211, \"n\": 5321}, {\"threshold\": 0.5550000071525574, \"p\": 28151, \"fpr\": 0.2369855290358955, \"tpr\": 0.9356328371993891, \"n\": 5321}, {\"threshold\": 0.5559999942779541, \"p\": 28151, \"fpr\": 0.2364217252396166, \"tpr\": 0.9354197008987247, \"n\": 5321}, {\"threshold\": 0.5569999814033508, \"p\": 28151, \"fpr\": 0.23604585604209735, \"tpr\": 0.9352420873148378, \"n\": 5321}, {\"threshold\": 0.5580000281333923, \"p\": 28151, \"fpr\": 0.23548205224581845, \"tpr\": 0.9352420873148378, \"n\": 5321}, {\"threshold\": 0.5590000152587891, \"p\": 28151, \"fpr\": 0.23548205224581845, \"tpr\": 0.9350999964477283, \"n\": 5321}, {\"threshold\": 0.5600000023841858, \"p\": 28151, \"fpr\": 0.23548205224581845, \"tpr\": 0.9350999964477283, \"n\": 5321}, {\"threshold\": 0.5609999895095825, \"p\": 28151, \"fpr\": 0.23529411764705882, \"tpr\": 0.9349223828638414, \"n\": 5321}, {\"threshold\": 0.5619999766349792, \"p\": 28151, \"fpr\": 0.23473031385077991, \"tpr\": 0.934780291996732, \"n\": 5321}, {\"threshold\": 0.5630000233650208, \"p\": 28151, \"fpr\": 0.23416651005450104, \"tpr\": 0.9347092465631771, \"n\": 5321}, {\"threshold\": 0.5640000104904175, \"p\": 28151, \"fpr\": 0.2339785754557414, \"tpr\": 0.9346382011296224, \"n\": 5321}, {\"threshold\": 0.5649999976158142, \"p\": 28151, \"fpr\": 0.23360270625822213, \"tpr\": 0.9344605875457355, \"n\": 5321}, {\"threshold\": 0.5659999847412109, \"p\": 28151, \"fpr\": 0.2334147716594625, \"tpr\": 0.9343540193954034, \"n\": 5321}, {\"threshold\": 0.5669999718666077, \"p\": 28151, \"fpr\": 0.23322683706070288, \"tpr\": 0.9343540193954034, \"n\": 5321}, {\"threshold\": 0.5680000185966492, \"p\": 28151, \"fpr\": 0.23266303326442397, \"tpr\": 0.934318496678626, \"n\": 5321}, {\"threshold\": 0.5690000057220459, \"p\": 28151, \"fpr\": 0.23228716406690472, \"tpr\": 0.9341764058115165, \"n\": 5321}, {\"threshold\": 0.5699999928474426, \"p\": 28151, \"fpr\": 0.2320992294681451, \"tpr\": 0.9340698376611843, \"n\": 5321}, {\"threshold\": 0.5709999799728394, \"p\": 28151, \"fpr\": 0.2320992294681451, \"tpr\": 0.9339987922276296, \"n\": 5321}, {\"threshold\": 0.5720000267028809, \"p\": 28151, \"fpr\": 0.2315354256718662, \"tpr\": 0.9338922240772974, \"n\": 5321}, {\"threshold\": 0.5730000138282776, \"p\": 28151, \"fpr\": 0.2315354256718662, \"tpr\": 0.9338211786437427, \"n\": 5321}, {\"threshold\": 0.5740000009536743, \"p\": 28151, \"fpr\": 0.23134749107310656, \"tpr\": 0.9336790877766331, \"n\": 5321}, {\"threshold\": 0.574999988079071, \"p\": 28151, \"fpr\": 0.23078368727682766, \"tpr\": 0.9336080423430784, \"n\": 5321}, {\"threshold\": 0.5759999752044678, \"p\": 28151, \"fpr\": 0.2304078180793084, \"tpr\": 0.9334304287591915, \"n\": 5321}, {\"threshold\": 0.5770000219345093, \"p\": 28151, \"fpr\": 0.2298440142830295, \"tpr\": 0.933288337892082, \"n\": 5321}, {\"threshold\": 0.578000009059906, \"p\": 28151, \"fpr\": 0.22946814508551025, \"tpr\": 0.9332528151753046, \"n\": 5321}, {\"threshold\": 0.5789999961853027, \"p\": 28151, \"fpr\": 0.22928021048675062, \"tpr\": 0.9330752015914177, \"n\": 5321}, {\"threshold\": 0.5799999833106995, \"p\": 28151, \"fpr\": 0.22928021048675062, \"tpr\": 0.9330041561578629, \"n\": 5321}, {\"threshold\": 0.5809999704360962, \"p\": 28151, \"fpr\": 0.2285284720917121, \"tpr\": 0.9328620652907534, \"n\": 5321}, {\"threshold\": 0.5820000171661377, \"p\": 28151, \"fpr\": 0.22777673369667356, \"tpr\": 0.9326844517068665, \"n\": 5321}, {\"threshold\": 0.5830000042915344, \"p\": 28151, \"fpr\": 0.22758879909791394, \"tpr\": 0.9325778835565344, \"n\": 5321}, {\"threshold\": 0.5839999914169312, \"p\": 28151, \"fpr\": 0.22740086449915428, \"tpr\": 0.9325423608397571, \"n\": 5321}, {\"threshold\": 0.5849999785423279, \"p\": 28151, \"fpr\": 0.22702499530163503, \"tpr\": 0.9324713154062023, \"n\": 5321}, {\"threshold\": 0.5860000252723694, \"p\": 28151, \"fpr\": 0.2268370607028754, \"tpr\": 0.9324002699726475, \"n\": 5321}, {\"threshold\": 0.5870000123977661, \"p\": 28151, \"fpr\": 0.22646119150535612, \"tpr\": 0.9323647472558702, \"n\": 5321}, {\"threshold\": 0.5879999995231628, \"p\": 28151, \"fpr\": 0.2262732569065965, \"tpr\": 0.9323292245390927, \"n\": 5321}, {\"threshold\": 0.5889999866485596, \"p\": 28151, \"fpr\": 0.22589738770907725, \"tpr\": 0.932258179105538, \"n\": 5321}, {\"threshold\": 0.5899999737739563, \"p\": 28151, \"fpr\": 0.22552151851155797, \"tpr\": 0.9320805655216511, \"n\": 5321}, {\"threshold\": 0.5910000205039978, \"p\": 28151, \"fpr\": 0.22533358391279834, \"tpr\": 0.9320805655216511, \"n\": 5321}, {\"threshold\": 0.5920000076293945, \"p\": 28151, \"fpr\": 0.22514564931403871, \"tpr\": 0.9320450428048738, \"n\": 5321}, {\"threshold\": 0.5929999947547913, \"p\": 28151, \"fpr\": 0.22476978011651946, \"tpr\": 0.9319029519377642, \"n\": 5321}, {\"threshold\": 0.593999981880188, \"p\": 28151, \"fpr\": 0.22420597632024056, \"tpr\": 0.931796383787432, \"n\": 5321}, {\"threshold\": 0.5950000286102295, \"p\": 28151, \"fpr\": 0.22345423792520203, \"tpr\": 0.9316542929203225, \"n\": 5321}, {\"threshold\": 0.5960000157356262, \"p\": 28151, \"fpr\": 0.22289043412892315, \"tpr\": 0.9315832474867678, \"n\": 5321}, {\"threshold\": 0.597000002861023, \"p\": 28151, \"fpr\": 0.22251456493140387, \"tpr\": 0.9314411566196583, \"n\": 5321}, {\"threshold\": 0.5979999899864197, \"p\": 28151, \"fpr\": 0.22195076113512496, \"tpr\": 0.9313701111861035, \"n\": 5321}, {\"threshold\": 0.5989999771118164, \"p\": 28151, \"fpr\": 0.2215748919376057, \"tpr\": 0.9312990657525487, \"n\": 5321}, {\"threshold\": 0.6000000238418579, \"p\": 28151, \"fpr\": 0.22119902274008646, \"tpr\": 0.931228020318994, \"n\": 5321}, {\"threshold\": 0.6010000109672546, \"p\": 28151, \"fpr\": 0.22082315354256718, \"tpr\": 0.9310859294518845, \"n\": 5321}, {\"threshold\": 0.6019999980926514, \"p\": 28151, \"fpr\": 0.22007141514752865, \"tpr\": 0.9310148840183298, \"n\": 5321}, {\"threshold\": 0.6029999852180481, \"p\": 28151, \"fpr\": 0.21931967675249014, \"tpr\": 0.9309793613015523, \"n\": 5321}, {\"threshold\": 0.6039999723434448, \"p\": 28151, \"fpr\": 0.21875587295621124, \"tpr\": 0.9309083158679976, \"n\": 5321}, {\"threshold\": 0.6050000190734863, \"p\": 28151, \"fpr\": 0.21819206915993233, \"tpr\": 0.9307307022841107, \"n\": 5321}, {\"threshold\": 0.6060000061988831, \"p\": 28151, \"fpr\": 0.21781619996241308, \"tpr\": 0.9305530887002238, \"n\": 5321}, {\"threshold\": 0.6069999933242798, \"p\": 28151, \"fpr\": 0.21781619996241308, \"tpr\": 0.9304465205498916, \"n\": 5321}, {\"threshold\": 0.6079999804496765, \"p\": 28151, \"fpr\": 0.21744033076489383, \"tpr\": 0.9303399523995595, \"n\": 5321}, {\"threshold\": 0.609000027179718, \"p\": 28151, \"fpr\": 0.21725239616613418, \"tpr\": 0.93019786153245, \"n\": 5321}, {\"threshold\": 0.6100000143051147, \"p\": 28151, \"fpr\": 0.21725239616613418, \"tpr\": 0.93019786153245, \"n\": 5321}, {\"threshold\": 0.6110000014305115, \"p\": 28151, \"fpr\": 0.21706446156737455, \"tpr\": 0.9300557706653405, \"n\": 5321}, {\"threshold\": 0.6119999885559082, \"p\": 28151, \"fpr\": 0.21687652696861492, \"tpr\": 0.9299492025150083, \"n\": 5321}, {\"threshold\": 0.6129999756813049, \"p\": 28151, \"fpr\": 0.2166885923698553, \"tpr\": 0.9298071116478989, \"n\": 5321}, {\"threshold\": 0.6140000224113464, \"p\": 28151, \"fpr\": 0.21650065777109567, \"tpr\": 0.9297005434975667, \"n\": 5321}, {\"threshold\": 0.6150000095367432, \"p\": 28151, \"fpr\": 0.21631272317233602, \"tpr\": 0.9295584526304572, \"n\": 5321}, {\"threshold\": 0.6159999966621399, \"p\": 28151, \"fpr\": 0.2161247885735764, \"tpr\": 0.9293808390465703, \"n\": 5321}, {\"threshold\": 0.6169999837875366, \"p\": 28151, \"fpr\": 0.21593685397481677, \"tpr\": 0.9292032254626834, \"n\": 5321}, {\"threshold\": 0.6179999709129333, \"p\": 28151, \"fpr\": 0.21593685397481677, \"tpr\": 0.9289900891620191, \"n\": 5321}, {\"threshold\": 0.6190000176429749, \"p\": 28151, \"fpr\": 0.21574891937605714, \"tpr\": 0.9288479982949096, \"n\": 5321}, {\"threshold\": 0.6200000047683716, \"p\": 28151, \"fpr\": 0.21574891937605714, \"tpr\": 0.9287769528613549, \"n\": 5321}, {\"threshold\": 0.6209999918937683, \"p\": 28151, \"fpr\": 0.21537305017853786, \"tpr\": 0.9285638165606905, \"n\": 5321}, {\"threshold\": 0.621999979019165, \"p\": 28151, \"fpr\": 0.2149971809810186, \"tpr\": 0.9283506802600263, \"n\": 5321}, {\"threshold\": 0.6230000257492065, \"p\": 28151, \"fpr\": 0.21480924638225898, \"tpr\": 0.9282441121096942, \"n\": 5321}, {\"threshold\": 0.6240000128746033, \"p\": 28151, \"fpr\": 0.21424544258598008, \"tpr\": 0.9280664985258072, \"n\": 5321}, {\"threshold\": 0.625, \"p\": 28151, \"fpr\": 0.21368163878970117, \"tpr\": 0.9279599303754751, \"n\": 5321}, {\"threshold\": 0.6259999871253967, \"p\": 28151, \"fpr\": 0.21368163878970117, \"tpr\": 0.927853362225143, \"n\": 5321}, {\"threshold\": 0.6269999742507935, \"p\": 28151, \"fpr\": 0.21330576959218192, \"tpr\": 0.9277823167915882, \"n\": 5321}, {\"threshold\": 0.628000020980835, \"p\": 28151, \"fpr\": 0.21292990039466267, \"tpr\": 0.9274981350573692, \"n\": 5321}, {\"threshold\": 0.6290000081062317, \"p\": 28151, \"fpr\": 0.21236609659838376, \"tpr\": 0.9272849987567049, \"n\": 5321}, {\"threshold\": 0.6299999952316284, \"p\": 28151, \"fpr\": 0.21217816199962414, \"tpr\": 0.9270718624560407, \"n\": 5321}, {\"threshold\": 0.6309999823570251, \"p\": 28151, \"fpr\": 0.2119902274008645, \"tpr\": 0.9267521580050442, \"n\": 5321}, {\"threshold\": 0.6320000290870667, \"p\": 28151, \"fpr\": 0.21180229280210486, \"tpr\": 0.9266811125714894, \"n\": 5321}, {\"threshold\": 0.6330000162124634, \"p\": 28151, \"fpr\": 0.2114264236045856, \"tpr\": 0.9265745444211573, \"n\": 5321}, {\"threshold\": 0.6340000033378601, \"p\": 28151, \"fpr\": 0.21123848900582598, \"tpr\": 0.9264679762708252, \"n\": 5321}, {\"threshold\": 0.6349999904632568, \"p\": 28151, \"fpr\": 0.21105055440706635, \"tpr\": 0.9262903626869383, \"n\": 5321}, {\"threshold\": 0.6359999775886536, \"p\": 28151, \"fpr\": 0.2108626198083067, \"tpr\": 0.9261127491030514, \"n\": 5321}, {\"threshold\": 0.6370000243186951, \"p\": 28151, \"fpr\": 0.21011088141326817, \"tpr\": 0.9260061809527192, \"n\": 5321}, {\"threshold\": 0.6380000114440918, \"p\": 28151, \"fpr\": 0.20992294681450854, \"tpr\": 0.9258996128023871, \"n\": 5321}, {\"threshold\": 0.6389999985694885, \"p\": 28151, \"fpr\": 0.20973501221574892, \"tpr\": 0.9256864765017229, \"n\": 5321}, {\"threshold\": 0.6399999856948853, \"p\": 28151, \"fpr\": 0.20973501221574892, \"tpr\": 0.9256154310681681, \"n\": 5321}, {\"threshold\": 0.640999972820282, \"p\": 28151, \"fpr\": 0.20917120841947, \"tpr\": 0.9254733402010585, \"n\": 5321}, {\"threshold\": 0.6420000195503235, \"p\": 28151, \"fpr\": 0.20860740462319113, \"tpr\": 0.9253667720507265, \"n\": 5321}, {\"threshold\": 0.6430000066757202, \"p\": 28151, \"fpr\": 0.20823153542567185, \"tpr\": 0.9252957266171716, \"n\": 5321}, {\"threshold\": 0.6439999938011169, \"p\": 28151, \"fpr\": 0.2078556662281526, \"tpr\": 0.9252246811836169, \"n\": 5321}, {\"threshold\": 0.6449999809265137, \"p\": 28151, \"fpr\": 0.2078556662281526, \"tpr\": 0.9251536357500622, \"n\": 5321}, {\"threshold\": 0.6460000276565552, \"p\": 28151, \"fpr\": 0.20766773162939298, \"tpr\": 0.92504706759973, \"n\": 5321}, {\"threshold\": 0.6470000147819519, \"p\": 28151, \"fpr\": 0.20766773162939298, \"tpr\": 0.9249404994493979, \"n\": 5321}, {\"threshold\": 0.6480000019073486, \"p\": 28151, \"fpr\": 0.20747979703063335, \"tpr\": 0.9249049767326205, \"n\": 5321}, {\"threshold\": 0.6489999890327454, \"p\": 28151, \"fpr\": 0.20710392783311407, \"tpr\": 0.9246563177151789, \"n\": 5321}, {\"threshold\": 0.6499999761581421, \"p\": 28151, \"fpr\": 0.20691599323435445, \"tpr\": 0.9244076586977372, \"n\": 5321}, {\"threshold\": 0.6510000228881836, \"p\": 28151, \"fpr\": 0.20578838564179666, \"tpr\": 0.9241945223970729, \"n\": 5321}, {\"threshold\": 0.6520000100135803, \"p\": 28151, \"fpr\": 0.20578838564179666, \"tpr\": 0.9239813860964087, \"n\": 5321}, {\"threshold\": 0.652999997138977, \"p\": 28151, \"fpr\": 0.20541251644427738, \"tpr\": 0.9239103406628539, \"n\": 5321}, {\"threshold\": 0.6539999842643738, \"p\": 28151, \"fpr\": 0.20522458184551776, \"tpr\": 0.9238037725125218, \"n\": 5321}, {\"threshold\": 0.6549999713897705, \"p\": 28151, \"fpr\": 0.20447284345047922, \"tpr\": 0.9236616816454123, \"n\": 5321}, {\"threshold\": 0.656000018119812, \"p\": 28151, \"fpr\": 0.20409697425295997, \"tpr\": 0.9235195907783027, \"n\": 5321}, {\"threshold\": 0.6570000052452087, \"p\": 28151, \"fpr\": 0.2037211050554407, \"tpr\": 0.9233774999111932, \"n\": 5321}, {\"threshold\": 0.6579999923706055, \"p\": 28151, \"fpr\": 0.20315730125916182, \"tpr\": 0.9232354090440837, \"n\": 5321}, {\"threshold\": 0.6589999794960022, \"p\": 28151, \"fpr\": 0.2029693666604022, \"tpr\": 0.9230933181769742, \"n\": 5321}, {\"threshold\": 0.6600000262260437, \"p\": 28151, \"fpr\": 0.20278143206164254, \"tpr\": 0.9230577954601968, \"n\": 5321}, {\"threshold\": 0.6610000133514404, \"p\": 28151, \"fpr\": 0.20240556286412328, \"tpr\": 0.9228446591595325, \"n\": 5321}, {\"threshold\": 0.6620000004768372, \"p\": 28151, \"fpr\": 0.20240556286412328, \"tpr\": 0.922702568292423, \"n\": 5321}, {\"threshold\": 0.6629999876022339, \"p\": 28151, \"fpr\": 0.20202969366660403, \"tpr\": 0.9225249547085361, \"n\": 5321}, {\"threshold\": 0.6639999747276306, \"p\": 28151, \"fpr\": 0.20202969366660403, \"tpr\": 0.922418386558204, \"n\": 5321}, {\"threshold\": 0.6650000214576721, \"p\": 28151, \"fpr\": 0.20184175906784438, \"tpr\": 0.9222052502575397, \"n\": 5321}, {\"threshold\": 0.6660000085830688, \"p\": 28151, \"fpr\": 0.20109002067280587, \"tpr\": 0.9220631593904302, \"n\": 5321}, {\"threshold\": 0.6669999957084656, \"p\": 28151, \"fpr\": 0.2007141514752866, \"tpr\": 0.9218855458065432, \"n\": 5321}, {\"threshold\": 0.6679999828338623, \"p\": 28151, \"fpr\": 0.20015034767900772, \"tpr\": 0.9217079322226563, \"n\": 5321}, {\"threshold\": 0.6690000295639038, \"p\": 28151, \"fpr\": 0.19977447848148844, \"tpr\": 0.9216368867891016, \"n\": 5321}, {\"threshold\": 0.6700000166893005, \"p\": 28151, \"fpr\": 0.1995865438827288, \"tpr\": 0.9214947959219921, \"n\": 5321}, {\"threshold\": 0.6710000038146973, \"p\": 28151, \"fpr\": 0.19939860928396919, \"tpr\": 0.92138822777166, \"n\": 5321}, {\"threshold\": 0.671999990940094, \"p\": 28151, \"fpr\": 0.19939860928396919, \"tpr\": 0.9212816596213278, \"n\": 5321}, {\"threshold\": 0.6729999780654907, \"p\": 28151, \"fpr\": 0.19939860928396919, \"tpr\": 0.9211750914709957, \"n\": 5321}, {\"threshold\": 0.6740000247955322, \"p\": 28151, \"fpr\": 0.19845893629017103, \"tpr\": 0.9209264324535541, \"n\": 5321}, {\"threshold\": 0.675000011920929, \"p\": 28151, \"fpr\": 0.1941364405186995, \"tpr\": 0.9158466839543888, \"n\": 5321}, {\"threshold\": 0.6759999990463257, \"p\": 28151, \"fpr\": 0.1935726367224206, \"tpr\": 0.9156335476537245, \"n\": 5321}, {\"threshold\": 0.6769999861717224, \"p\": 28151, \"fpr\": 0.19282089832738208, \"tpr\": 0.9154204113530603, \"n\": 5321}, {\"threshold\": 0.6779999732971191, \"p\": 28151, \"fpr\": 0.1924450291298628, \"tpr\": 0.9153138432027281, \"n\": 5321}, {\"threshold\": 0.6790000200271606, \"p\": 28151, \"fpr\": 0.19225709453110318, \"tpr\": 0.9151717523356186, \"n\": 5321}, {\"threshold\": 0.6800000071525574, \"p\": 28151, \"fpr\": 0.19206915993234355, \"tpr\": 0.9149941387517317, \"n\": 5321}, {\"threshold\": 0.6809999942779541, \"p\": 28151, \"fpr\": 0.1918812253335839, \"tpr\": 0.9149586160349543, \"n\": 5321}, {\"threshold\": 0.6819999814033508, \"p\": 28151, \"fpr\": 0.19169329073482427, \"tpr\": 0.9147810024510674, \"n\": 5321}, {\"threshold\": 0.6830000281333923, \"p\": 28151, \"fpr\": 0.19150535613606465, \"tpr\": 0.9146744343007354, \"n\": 5321}, {\"threshold\": 0.6840000152587891, \"p\": 28151, \"fpr\": 0.19037774854350686, \"tpr\": 0.9145323434336258, \"n\": 5321}, {\"threshold\": 0.6850000023841858, \"p\": 28151, \"fpr\": 0.19018981394474724, \"tpr\": 0.9143902525665163, \"n\": 5321}, {\"threshold\": 0.6859999895095825, \"p\": 28151, \"fpr\": 0.19000187934598758, \"tpr\": 0.9142126389826294, \"n\": 5321}, {\"threshold\": 0.6869999766349792, \"p\": 28151, \"fpr\": 0.1894380755497087, \"tpr\": 0.9141415935490746, \"n\": 5321}, {\"threshold\": 0.6880000233650208, \"p\": 28151, \"fpr\": 0.18831046795715092, \"tpr\": 0.9139284572484103, \"n\": 5321}, {\"threshold\": 0.6890000104904175, \"p\": 28151, \"fpr\": 0.1875587295621124, \"tpr\": 0.9137153209477461, \"n\": 5321}, {\"threshold\": 0.6899999976158142, \"p\": 28151, \"fpr\": 0.1875587295621124, \"tpr\": 0.9135377073638592, \"n\": 5321}, {\"threshold\": 0.6909999847412109, \"p\": 28151, \"fpr\": 0.18680699116707386, \"tpr\": 0.9133956164967497, \"n\": 5321}, {\"threshold\": 0.6919999718666077, \"p\": 28151, \"fpr\": 0.18680699116707386, \"tpr\": 0.9132180029128628, \"n\": 5321}, {\"threshold\": 0.6930000185966492, \"p\": 28151, \"fpr\": 0.18661905656831423, \"tpr\": 0.9129693438954212, \"n\": 5321}, {\"threshold\": 0.6940000057220459, \"p\": 28151, \"fpr\": 0.18605525277203533, \"tpr\": 0.9127917303115343, \"n\": 5321}, {\"threshold\": 0.6949999928474426, \"p\": 28151, \"fpr\": 0.18549144897575642, \"tpr\": 0.9126141167276474, \"n\": 5321}, {\"threshold\": 0.6959999799728394, \"p\": 28151, \"fpr\": 0.18455177598195827, \"tpr\": 0.9125785940108699, \"n\": 5321}, {\"threshold\": 0.6970000267028809, \"p\": 28151, \"fpr\": 0.18436384138319864, \"tpr\": 0.9122588895598736, \"n\": 5321}, {\"threshold\": 0.6980000138282776, \"p\": 28151, \"fpr\": 0.18436384138319864, \"tpr\": 0.9121167986927641, \"n\": 5321}, {\"threshold\": 0.6990000009536743, \"p\": 28151, \"fpr\": 0.1839879721856794, \"tpr\": 0.9120812759759866, \"n\": 5321}, {\"threshold\": 0.699999988079071, \"p\": 28151, \"fpr\": 0.1839879721856794, \"tpr\": 0.9119747078256545, \"n\": 5321}, {\"threshold\": 0.7009999752044678, \"p\": 28151, \"fpr\": 0.18304829919188123, \"tpr\": 0.9119036623920997, \"n\": 5321}, {\"threshold\": 0.7020000219345093, \"p\": 28151, \"fpr\": 0.18304829919188123, \"tpr\": 0.9116905260914355, \"n\": 5321}, {\"threshold\": 0.703000009059906, \"p\": 28151, \"fpr\": 0.18267242999436195, \"tpr\": 0.9115129125075486, \"n\": 5321}, {\"threshold\": 0.7039999961853027, \"p\": 28151, \"fpr\": 0.18248449539560233, \"tpr\": 0.9114773897907712, \"n\": 5321}, {\"threshold\": 0.7049999833106995, \"p\": 28151, \"fpr\": 0.18154482240180417, \"tpr\": 0.911370821640439, \"n\": 5321}, {\"threshold\": 0.7059999704360962, \"p\": 28151, \"fpr\": 0.18116895320428492, \"tpr\": 0.9110511171894426, \"n\": 5321}, {\"threshold\": 0.7070000171661377, \"p\": 28151, \"fpr\": 0.18004134561172713, \"tpr\": 0.9107314127384463, \"n\": 5321}, {\"threshold\": 0.7080000042915344, \"p\": 28151, \"fpr\": 0.17985341101296748, \"tpr\": 0.9105537991545594, \"n\": 5321}, {\"threshold\": 0.7089999914169312, \"p\": 28151, \"fpr\": 0.17947754181544823, \"tpr\": 0.9102696174203403, \"n\": 5321}, {\"threshold\": 0.7099999785423279, \"p\": 28151, \"fpr\": 0.17834993422289044, \"tpr\": 0.9100209584028986, \"n\": 5321}, {\"threshold\": 0.7110000252723694, \"p\": 28151, \"fpr\": 0.1781619996241308, \"tpr\": 0.9098433448190117, \"n\": 5321}, {\"threshold\": 0.7120000123977661, \"p\": 28151, \"fpr\": 0.1781619996241308, \"tpr\": 0.9095946858015701, \"n\": 5321}, {\"threshold\": 0.7129999995231628, \"p\": 28151, \"fpr\": 0.17778613042661154, \"tpr\": 0.9092749813505737, \"n\": 5321}, {\"threshold\": 0.7139999866485596, \"p\": 28151, \"fpr\": 0.17684645743281338, \"tpr\": 0.9090618450499094, \"n\": 5321}, {\"threshold\": 0.7149999737739563, \"p\": 28151, \"fpr\": 0.17647058823529413, \"tpr\": 0.9088842314660225, \"n\": 5321}, {\"threshold\": 0.7160000205039978, \"p\": 28151, \"fpr\": 0.17628265363653448, \"tpr\": 0.9086710951653583, \"n\": 5321}, {\"threshold\": 0.7170000076293945, \"p\": 28151, \"fpr\": 0.17590678443901522, \"tpr\": 0.9084224361479166, \"n\": 5321}, {\"threshold\": 0.7179999947547913, \"p\": 28151, \"fpr\": 0.17534298064273632, \"tpr\": 0.908280345280807, \"n\": 5321}, {\"threshold\": 0.718999981880188, \"p\": 28151, \"fpr\": 0.17496711144521707, \"tpr\": 0.9082092998472523, \"n\": 5321}, {\"threshold\": 0.7200000286102295, \"p\": 28151, \"fpr\": 0.17477917684645744, \"tpr\": 0.908173777130475, \"n\": 5321}, {\"threshold\": 0.7210000157356262, \"p\": 28151, \"fpr\": 0.17459124224769781, \"tpr\": 0.9079251181130333, \"n\": 5321}, {\"threshold\": 0.722000002861023, \"p\": 28151, \"fpr\": 0.17365156925389963, \"tpr\": 0.9075698909452595, \"n\": 5321}, {\"threshold\": 0.7229999899864197, \"p\": 28151, \"fpr\": 0.17365156925389963, \"tpr\": 0.9073567546445952, \"n\": 5321}, {\"threshold\": 0.7239999771118164, \"p\": 28151, \"fpr\": 0.17365156925389963, \"tpr\": 0.9071791410607083, \"n\": 5321}, {\"threshold\": 0.7250000238418579, \"p\": 28151, \"fpr\": 0.17327570005638038, \"tpr\": 0.9070370501935988, \"n\": 5321}, {\"threshold\": 0.7260000109672546, \"p\": 28151, \"fpr\": 0.17289983085886113, \"tpr\": 0.906681823025825, \"n\": 5321}, {\"threshold\": 0.7269999980926514, \"p\": 28151, \"fpr\": 0.17271189626010147, \"tpr\": 0.9064331640083834, \"n\": 5321}, {\"threshold\": 0.7279999852180481, \"p\": 28151, \"fpr\": 0.17252396166134185, \"tpr\": 0.9063621185748286, \"n\": 5321}, {\"threshold\": 0.7289999723434448, \"p\": 28151, \"fpr\": 0.17233602706258222, \"tpr\": 0.906220027707719, \"n\": 5321}, {\"threshold\": 0.7300000190734863, \"p\": 28151, \"fpr\": 0.17196015786506297, \"tpr\": 0.9060779368406096, \"n\": 5321}, {\"threshold\": 0.7310000061988831, \"p\": 28151, \"fpr\": 0.17139635406878406, \"tpr\": 0.9057937551063905, \"n\": 5321}, {\"threshold\": 0.7319999933242798, \"p\": 28151, \"fpr\": 0.17064461567374553, \"tpr\": 0.9056161415225037, \"n\": 5321}, {\"threshold\": 0.7329999804496765, \"p\": 28151, \"fpr\": 0.1704566810749859, \"tpr\": 0.9052609143547299, \"n\": 5321}, {\"threshold\": 0.734000027179718, \"p\": 28151, \"fpr\": 0.17026874647622628, \"tpr\": 0.905083300770843, \"n\": 5321}, {\"threshold\": 0.7350000143051147, \"p\": 28151, \"fpr\": 0.17008081187746665, \"tpr\": 0.9049412099037334, \"n\": 5321}, {\"threshold\": 0.7360000014305115, \"p\": 28151, \"fpr\": 0.169892877278707, \"tpr\": 0.9046925508862917, \"n\": 5321}, {\"threshold\": 0.7369999885559082, \"p\": 28151, \"fpr\": 0.169892877278707, \"tpr\": 0.9045504600191823, \"n\": 5321}, {\"threshold\": 0.7379999756813049, \"p\": 28151, \"fpr\": 0.16932907348242812, \"tpr\": 0.9043728464352954, \"n\": 5321}, {\"threshold\": 0.7390000224113464, \"p\": 28151, \"fpr\": 0.16876526968614922, \"tpr\": 0.9040886647010763, \"n\": 5321}, {\"threshold\": 0.7400000095367432, \"p\": 28151, \"fpr\": 0.16838940048862996, \"tpr\": 0.9039465738339668, \"n\": 5321}, {\"threshold\": 0.7409999966621399, \"p\": 28151, \"fpr\": 0.16763766209359143, \"tpr\": 0.9037689602500799, \"n\": 5321}, {\"threshold\": 0.7419999837875366, \"p\": 28151, \"fpr\": 0.1674497274948318, \"tpr\": 0.9035558239494157, \"n\": 5321}, {\"threshold\": 0.7429999709129333, \"p\": 28151, \"fpr\": 0.1668859236985529, \"tpr\": 0.9034492557990835, \"n\": 5321}, {\"threshold\": 0.7440000176429749, \"p\": 28151, \"fpr\": 0.166322119902274, \"tpr\": 0.9031650740648645, \"n\": 5321}, {\"threshold\": 0.7450000047683716, \"p\": 28151, \"fpr\": 0.16613418530351437, \"tpr\": 0.9029874604809776, \"n\": 5321}, {\"threshold\": 0.7459999918937683, \"p\": 28151, \"fpr\": 0.16594625070475474, \"tpr\": 0.9026677560299812, \"n\": 5321}, {\"threshold\": 0.746999979019165, \"p\": 28151, \"fpr\": 0.1655703815072355, \"tpr\": 0.902561187879649, \"n\": 5321}, {\"threshold\": 0.7480000257492065, \"p\": 28151, \"fpr\": 0.16538244690847584, \"tpr\": 0.9022059607118752, \"n\": 5321}, {\"threshold\": 0.7490000128746033, \"p\": 28151, \"fpr\": 0.1651945123097162, \"tpr\": 0.9018862562608788, \"n\": 5321}, {\"threshold\": 0.75, \"p\": 28151, \"fpr\": 0.16481864311219696, \"tpr\": 0.9016375972434372, \"n\": 5321}, {\"threshold\": 0.7509999871253967, \"p\": 28151, \"fpr\": 0.16350310092087952, \"tpr\": 0.901424460942773, \"n\": 5321}, {\"threshold\": 0.7519999742507935, \"p\": 28151, \"fpr\": 0.1633151663221199, \"tpr\": 0.9012113246421086, \"n\": 5321}, {\"threshold\": 0.753000020980835, \"p\": 28151, \"fpr\": 0.16218755872956211, \"tpr\": 0.900962665624667, \"n\": 5321}, {\"threshold\": 0.7540000081062317, \"p\": 28151, \"fpr\": 0.1619996241308025, \"tpr\": 0.9008916201911122, \"n\": 5321}, {\"threshold\": 0.7549999952316284, \"p\": 28151, \"fpr\": 0.1619996241308025, \"tpr\": 0.9007140066072253, \"n\": 5321}, {\"threshold\": 0.7559999823570251, \"p\": 28151, \"fpr\": 0.1616237549332832, \"tpr\": 0.900500870306561, \"n\": 5321}, {\"threshold\": 0.7570000290870667, \"p\": 28151, \"fpr\": 0.16143582033452358, \"tpr\": 0.9001456431387872, \"n\": 5321}, {\"threshold\": 0.7580000162124634, \"p\": 28151, \"fpr\": 0.16068408193948505, \"tpr\": 0.8998614614045682, \"n\": 5321}, {\"threshold\": 0.7590000033378601, \"p\": 28151, \"fpr\": 0.16012027814320617, \"tpr\": 0.8994351888032397, \"n\": 5321}, {\"threshold\": 0.7599999904632568, \"p\": 28151, \"fpr\": 0.15993234354444652, \"tpr\": 0.899186529785798, \"n\": 5321}, {\"threshold\": 0.7609999775886536, \"p\": 28151, \"fpr\": 0.15955647434692727, \"tpr\": 0.898902348051579, \"n\": 5321}, {\"threshold\": 0.7620000243186951, \"p\": 28151, \"fpr\": 0.15918060514940802, \"tpr\": 0.8985471208838052, \"n\": 5321}, {\"threshold\": 0.7630000114440918, \"p\": 28151, \"fpr\": 0.1586168013531291, \"tpr\": 0.898440552733473, \"n\": 5321}, {\"threshold\": 0.7639999985694885, \"p\": 28151, \"fpr\": 0.1580529975568502, \"tpr\": 0.8980498028489219, \"n\": 5321}, {\"threshold\": 0.7649999856948853, \"p\": 28151, \"fpr\": 0.15767712835933095, \"tpr\": 0.8978011438314802, \"n\": 5321}, {\"threshold\": 0.765999972820282, \"p\": 28151, \"fpr\": 0.15711332456305205, \"tpr\": 0.8976590529643708, \"n\": 5321}, {\"threshold\": 0.7670000195503235, \"p\": 28151, \"fpr\": 0.15692538996429242, \"tpr\": 0.8973393485133743, \"n\": 5321}, {\"threshold\": 0.7680000066757202, \"p\": 28151, \"fpr\": 0.1567374553655328, \"tpr\": 0.8971972576462648, \"n\": 5321}, {\"threshold\": 0.7689999938011169, \"p\": 28151, \"fpr\": 0.15636158616801354, \"tpr\": 0.8968775531952684, \"n\": 5321}, {\"threshold\": 0.7699999809265137, \"p\": 28151, \"fpr\": 0.15636158616801354, \"tpr\": 0.8966999396113815, \"n\": 5321}, {\"threshold\": 0.7710000276565552, \"p\": 28151, \"fpr\": 0.15598571697049426, \"tpr\": 0.8963091897268303, \"n\": 5321}, {\"threshold\": 0.7720000147819519, \"p\": 28151, \"fpr\": 0.15579778237173464, \"tpr\": 0.8960250079926113, \"n\": 5321}, {\"threshold\": 0.7730000019073486, \"p\": 28151, \"fpr\": 0.15523397857545573, \"tpr\": 0.8957408262583922, \"n\": 5321}, {\"threshold\": 0.7739999890327454, \"p\": 28151, \"fpr\": 0.15467017477917686, \"tpr\": 0.8954566445241732, \"n\": 5321}, {\"threshold\": 0.7749999761581421, \"p\": 28151, \"fpr\": 0.15429430558165758, \"tpr\": 0.8952790309402863, \"n\": 5321}, {\"threshold\": 0.7760000228881836, \"p\": 28151, \"fpr\": 0.1537305017853787, \"tpr\": 0.895243508223509, \"n\": 5321}, {\"threshold\": 0.7770000100135803, \"p\": 28151, \"fpr\": 0.15297876339034017, \"tpr\": 0.8950303719228446, \"n\": 5321}, {\"threshold\": 0.777999997138977, \"p\": 28151, \"fpr\": 0.15279082879158054, \"tpr\": 0.894781712905403, \"n\": 5321}, {\"threshold\": 0.7789999842643738, \"p\": 28151, \"fpr\": 0.15222702499530164, \"tpr\": 0.8943909630208519, \"n\": 5321}, {\"threshold\": 0.7799999713897705, \"p\": 28151, \"fpr\": 0.15222702499530164, \"tpr\": 0.8941067812866328, \"n\": 5321}, {\"threshold\": 0.781000018119812, \"p\": 28151, \"fpr\": 0.152039090396542, \"tpr\": 0.8939646904195233, \"n\": 5321}, {\"threshold\": 0.7820000052452087, \"p\": 28151, \"fpr\": 0.1514752866002631, \"tpr\": 0.8936094632517495, \"n\": 5321}, {\"threshold\": 0.7829999923706055, \"p\": 28151, \"fpr\": 0.1514752866002631, \"tpr\": 0.8933963269510852, \"n\": 5321}, {\"threshold\": 0.7839999794960022, \"p\": 28151, \"fpr\": 0.1514752866002631, \"tpr\": 0.8931121452168662, \"n\": 5321}, {\"threshold\": 0.7850000262260437, \"p\": 28151, \"fpr\": 0.15109941740274385, \"tpr\": 0.8928634861994246, \"n\": 5321}, {\"threshold\": 0.7860000133514404, \"p\": 28151, \"fpr\": 0.15109941740274385, \"tpr\": 0.8926503498987602, \"n\": 5321}, {\"threshold\": 0.7870000004768372, \"p\": 28151, \"fpr\": 0.15034767900770532, \"tpr\": 0.8923306454477639, \"n\": 5321}, {\"threshold\": 0.7879999876022339, \"p\": 28151, \"fpr\": 0.14997180981018607, \"tpr\": 0.892153031863877, \"n\": 5321}, {\"threshold\": 0.7889999747276306, \"p\": 28151, \"fpr\": 0.14903213681638788, \"tpr\": 0.8918688501296579, \"n\": 5321}, {\"threshold\": 0.7900000214576721, \"p\": 28151, \"fpr\": 0.14903213681638788, \"tpr\": 0.8916201911122162, \"n\": 5321}, {\"threshold\": 0.7910000085830688, \"p\": 28151, \"fpr\": 0.14884420221762826, \"tpr\": 0.891407054811552, \"n\": 5321}, {\"threshold\": 0.7919999957084656, \"p\": 28151, \"fpr\": 0.14828039842134938, \"tpr\": 0.8911583957941104, \"n\": 5321}, {\"threshold\": 0.7929999828338623, \"p\": 28151, \"fpr\": 0.1479045292238301, \"tpr\": 0.8909097367766686, \"n\": 5321}, {\"threshold\": 0.7940000295639038, \"p\": 28151, \"fpr\": 0.14734072542755122, \"tpr\": 0.8906255550424497, \"n\": 5321}, {\"threshold\": 0.7950000166893005, \"p\": 28151, \"fpr\": 0.14696485623003194, \"tpr\": 0.890376896025008, \"n\": 5321}, {\"threshold\": 0.7960000038146973, \"p\": 28151, \"fpr\": 0.1462131178349934, \"tpr\": 0.890092714290789, \"n\": 5321}, {\"threshold\": 0.796999990940094, \"p\": 28151, \"fpr\": 0.14564931403871453, \"tpr\": 0.8898795779901247, \"n\": 5321}, {\"threshold\": 0.7979999780654907, \"p\": 28151, \"fpr\": 0.14527344484119525, \"tpr\": 0.8895953962559057, \"n\": 5321}, {\"threshold\": 0.7990000247955322, \"p\": 28151, \"fpr\": 0.14470964104491638, \"tpr\": 0.8893112145216866, \"n\": 5321}, {\"threshold\": 0.800000011920929, \"p\": 28151, \"fpr\": 0.14452170644615675, \"tpr\": 0.8892756918049093, \"n\": 5321}, {\"threshold\": 0.8009999990463257, \"p\": 28151, \"fpr\": 0.14414583724863747, \"tpr\": 0.8889204646371355, \"n\": 5321}, {\"threshold\": 0.8019999861717224, \"p\": 28151, \"fpr\": 0.1435820334523586, \"tpr\": 0.888600760186139, \"n\": 5321}, {\"threshold\": 0.8029999732971191, \"p\": 28151, \"fpr\": 0.1432061642548393, \"tpr\": 0.8882455330183653, \"n\": 5321}, {\"threshold\": 0.8040000200271606, \"p\": 28151, \"fpr\": 0.1432061642548393, \"tpr\": 0.8878192604170367, \"n\": 5321}, {\"threshold\": 0.8050000071525574, \"p\": 28151, \"fpr\": 0.14245442585980078, \"tpr\": 0.8874640332492629, \"n\": 5321}, {\"threshold\": 0.8059999942779541, \"p\": 28151, \"fpr\": 0.14245442585980078, \"tpr\": 0.887286419665376, \"n\": 5321}, {\"threshold\": 0.8069999814033508, \"p\": 28151, \"fpr\": 0.14226649126104116, \"tpr\": 0.8870732833647117, \"n\": 5321}, {\"threshold\": 0.8080000281333923, \"p\": 28151, \"fpr\": 0.14170268746476225, \"tpr\": 0.8869311924976022, \"n\": 5321}, {\"threshold\": 0.8090000152587891, \"p\": 28151, \"fpr\": 0.14113888366848337, \"tpr\": 0.8863628290291642, \"n\": 5321}, {\"threshold\": 0.8100000023841858, \"p\": 28151, \"fpr\": 0.14095094906972375, \"tpr\": 0.885972079144613, \"n\": 5321}, {\"threshold\": 0.8109999895095825, \"p\": 28151, \"fpr\": 0.1407630144709641, \"tpr\": 0.8856523746936166, \"n\": 5321}, {\"threshold\": 0.8119999766349792, \"p\": 28151, \"fpr\": 0.14038714527344484, \"tpr\": 0.8855102838265071, \"n\": 5321}, {\"threshold\": 0.8130000233650208, \"p\": 28151, \"fpr\": 0.14019921067468522, \"tpr\": 0.8853326702426202, \"n\": 5321}, {\"threshold\": 0.8140000104904175, \"p\": 28151, \"fpr\": 0.14019921067468522, \"tpr\": 0.8849774430748464, \"n\": 5321}, {\"threshold\": 0.8149999976158142, \"p\": 28151, \"fpr\": 0.1396354068784063, \"tpr\": 0.8846222159070726, \"n\": 5321}, {\"threshold\": 0.8159999847412109, \"p\": 28151, \"fpr\": 0.13944747227964668, \"tpr\": 0.8845156477567404, \"n\": 5321}, {\"threshold\": 0.8169999718666077, \"p\": 28151, \"fpr\": 0.13850779928584853, \"tpr\": 0.884195943305744, \"n\": 5321}, {\"threshold\": 0.8180000185966492, \"p\": 28151, \"fpr\": 0.13850779928584853, \"tpr\": 0.8839472842883024, \"n\": 5321}, {\"threshold\": 0.8190000057220459, \"p\": 28151, \"fpr\": 0.1383198646870889, \"tpr\": 0.8836631025540833, \"n\": 5321}, {\"threshold\": 0.8199999928474426, \"p\": 28151, \"fpr\": 0.1383198646870889, \"tpr\": 0.8830236936520905, \"n\": 5321}, {\"threshold\": 0.8209999799728394, \"p\": 28151, \"fpr\": 0.13756812629205037, \"tpr\": 0.882703989201094, \"n\": 5321}, {\"threshold\": 0.8220000267028809, \"p\": 28151, \"fpr\": 0.13756812629205037, \"tpr\": 0.8822777165997655, \"n\": 5321}, {\"threshold\": 0.8230000138282776, \"p\": 28151, \"fpr\": 0.13738019169329074, \"tpr\": 0.8818869667152144, \"n\": 5321}, {\"threshold\": 0.8240000009536743, \"p\": 28151, \"fpr\": 0.13700432249577146, \"tpr\": 0.881567262264218, \"n\": 5321}, {\"threshold\": 0.824999988079071, \"p\": 28151, \"fpr\": 0.1360646495019733, \"tpr\": 0.8812120350964442, \"n\": 5321}, {\"threshold\": 0.8259999752044678, \"p\": 28151, \"fpr\": 0.13550084570569443, \"tpr\": 0.8807502397783382, \"n\": 5321}, {\"threshold\": 0.8270000219345093, \"p\": 28151, \"fpr\": 0.13512497650817515, \"tpr\": 0.8803594898937871, \"n\": 5321}, {\"threshold\": 0.828000009059906, \"p\": 28151, \"fpr\": 0.13456117271189627, \"tpr\": 0.8801108308763455, \"n\": 5321}, {\"threshold\": 0.8289999961853027, \"p\": 28151, \"fpr\": 0.134185303514377, \"tpr\": 0.8798621718589038, \"n\": 5321}, {\"threshold\": 0.8299999833106995, \"p\": 28151, \"fpr\": 0.13399736891561737, \"tpr\": 0.87950694469113, \"n\": 5321}, {\"threshold\": 0.8309999704360962, \"p\": 28151, \"fpr\": 0.13268182672429996, \"tpr\": 0.8793648538240204, \"n\": 5321}, {\"threshold\": 0.8320000171661377, \"p\": 28151, \"fpr\": 0.13230595752678068, \"tpr\": 0.8789030585059145, \"n\": 5321}, {\"threshold\": 0.8330000042915344, \"p\": 28151, \"fpr\": 0.13155421913174214, \"tpr\": 0.8785123086213633, \"n\": 5321}, {\"threshold\": 0.8339999914169312, \"p\": 28151, \"fpr\": 0.1311783499342229, \"tpr\": 0.8780505133032575, \"n\": 5321}, {\"threshold\": 0.8349999785423279, \"p\": 28151, \"fpr\": 0.13042661153918436, \"tpr\": 0.8777308088522611, \"n\": 5321}, {\"threshold\": 0.8360000252723694, \"p\": 28151, \"fpr\": 0.12967487314414583, \"tpr\": 0.8772334908173777, \"n\": 5321}, {\"threshold\": 0.8370000123977661, \"p\": 28151, \"fpr\": 0.12929900394662658, \"tpr\": 0.876984831799936, \"n\": 5321}, {\"threshold\": 0.8379999995231628, \"p\": 28151, \"fpr\": 0.1289231347491073, \"tpr\": 0.8768072182160491, \"n\": 5321}, {\"threshold\": 0.8389999866485596, \"p\": 28151, \"fpr\": 0.1289231347491073, \"tpr\": 0.8762743774643885, \"n\": 5321}, {\"threshold\": 0.8399999737739563, \"p\": 28151, \"fpr\": 0.1281713963540688, \"tpr\": 0.8756704912791731, \"n\": 5321}, {\"threshold\": 0.8410000205039978, \"p\": 28151, \"fpr\": 0.12779552715654952, \"tpr\": 0.8754573549785087, \"n\": 5321}, {\"threshold\": 0.8420000076293945, \"p\": 28151, \"fpr\": 0.12723172336027064, \"tpr\": 0.8748534687932933, \"n\": 5321}, {\"threshold\": 0.8429999947547913, \"p\": 28151, \"fpr\": 0.12704378876151098, \"tpr\": 0.87435615075841, \"n\": 5321}, {\"threshold\": 0.843999981880188, \"p\": 28151, \"fpr\": 0.12610411576771283, \"tpr\": 0.8736456964228624, \"n\": 5321}, {\"threshold\": 0.8450000286102295, \"p\": 28151, \"fpr\": 0.12535237737267432, \"tpr\": 0.8733970374054207, \"n\": 5321}, {\"threshold\": 0.8460000157356262, \"p\": 28151, \"fpr\": 0.12516444277391467, \"tpr\": 0.8730773329544244, \"n\": 5321}, {\"threshold\": 0.847000002861023, \"p\": 28151, \"fpr\": 0.12497650817515504, \"tpr\": 0.872757628503428, \"n\": 5321}, {\"threshold\": 0.8479999899864197, \"p\": 28151, \"fpr\": 0.12403683518135689, \"tpr\": 0.8725089694859863, \"n\": 5321}, {\"threshold\": 0.8489999771118164, \"p\": 28151, \"fpr\": 0.12384890058259726, \"tpr\": 0.8720826968846578, \"n\": 5321}, {\"threshold\": 0.8500000238418579, \"p\": 28151, \"fpr\": 0.12366096598383762, \"tpr\": 0.8716919470001065, \"n\": 5321}, {\"threshold\": 0.8510000109672546, \"p\": 28151, \"fpr\": 0.123473031385078, \"tpr\": 0.8713011971155554, \"n\": 5321}, {\"threshold\": 0.8519999980926514, \"p\": 28151, \"fpr\": 0.12328509678631835, \"tpr\": 0.8708394017974495, \"n\": 5321}, {\"threshold\": 0.8529999852180481, \"p\": 28151, \"fpr\": 0.12253335839127984, \"tpr\": 0.8703776064793436, \"n\": 5321}, {\"threshold\": 0.8539999723434448, \"p\": 28151, \"fpr\": 0.12196955459500095, \"tpr\": 0.8699868565947924, \"n\": 5321}, {\"threshold\": 0.8550000190734863, \"p\": 28151, \"fpr\": 0.12140575079872204, \"tpr\": 0.8692764022592447, \"n\": 5321}, {\"threshold\": 0.8560000061988831, \"p\": 28151, \"fpr\": 0.12121781619996241, \"tpr\": 0.8687790842243615, \"n\": 5321}, {\"threshold\": 0.8569999933242798, \"p\": 28151, \"fpr\": 0.12102988160120279, \"tpr\": 0.8685304252069198, \"n\": 5321}, {\"threshold\": 0.8579999804496765, \"p\": 28151, \"fpr\": 0.12027814320616426, \"tpr\": 0.8681041526055913, \"n\": 5321}, {\"threshold\": 0.859000027179718, \"p\": 28151, \"fpr\": 0.12027814320616426, \"tpr\": 0.8675357891371532, \"n\": 5321}, {\"threshold\": 0.8600000143051147, \"p\": 28151, \"fpr\": 0.12009020860740462, \"tpr\": 0.8671095165358247, \"n\": 5321}, {\"threshold\": 0.8610000014305115, \"p\": 28151, \"fpr\": 0.11952640481112572, \"tpr\": 0.8668253348016056, \"n\": 5321}, {\"threshold\": 0.8619999885559082, \"p\": 28151, \"fpr\": 0.1193384702123661, \"tpr\": 0.8664345849170545, \"n\": 5321}, {\"threshold\": 0.8629999756813049, \"p\": 28151, \"fpr\": 0.11915053561360646, \"tpr\": 0.8660438350325033, \"n\": 5321}, {\"threshold\": 0.8640000224113464, \"p\": 28151, \"fpr\": 0.11839879721856794, \"tpr\": 0.8656886078647295, \"n\": 5321}, {\"threshold\": 0.8650000095367432, \"p\": 28151, \"fpr\": 0.11727118962601014, \"tpr\": 0.8651202443962914, \"n\": 5321}, {\"threshold\": 0.8659999966621399, \"p\": 28151, \"fpr\": 0.11689532042849088, \"tpr\": 0.8643742673439665, \"n\": 5321}, {\"threshold\": 0.8669999837875366, \"p\": 28151, \"fpr\": 0.11633151663221199, \"tpr\": 0.8640190401761927, \"n\": 5321}, {\"threshold\": 0.8679999709129333, \"p\": 28151, \"fpr\": 0.11614358203345236, \"tpr\": 0.863486199424532, \"n\": 5321}, {\"threshold\": 0.8690000176429749, \"p\": 28151, \"fpr\": 0.1157677128359331, \"tpr\": 0.8632020176903129, \"n\": 5321}, {\"threshold\": 0.8700000047683716, \"p\": 28151, \"fpr\": 0.11501597444089456, \"tpr\": 0.8626691769386523, \"n\": 5321}, {\"threshold\": 0.8709999918937683, \"p\": 28151, \"fpr\": 0.11464010524337531, \"tpr\": 0.8624205179212107, \"n\": 5321}, {\"threshold\": 0.871999979019165, \"p\": 28151, \"fpr\": 0.11370043224957714, \"tpr\": 0.8619587226031047, \"n\": 5321}, {\"threshold\": 0.8730000257492065, \"p\": 28151, \"fpr\": 0.11313662845329825, \"tpr\": 0.8613193137011118, \"n\": 5321}, {\"threshold\": 0.8740000128746033, \"p\": 28151, \"fpr\": 0.11276075925577898, \"tpr\": 0.8609640865333381, \"n\": 5321}, {\"threshold\": 0.875, \"p\": 28151, \"fpr\": 0.11219695545950009, \"tpr\": 0.8603957230649, \"n\": 5321}, {\"threshold\": 0.8759999871253967, \"p\": 28151, \"fpr\": 0.11144521706446157, \"tpr\": 0.8600760186139036, \"n\": 5321}, {\"threshold\": 0.8769999742507935, \"p\": 28151, \"fpr\": 0.11069347866942304, \"tpr\": 0.8594366097119107, \"n\": 5321}, {\"threshold\": 0.878000020980835, \"p\": 28151, \"fpr\": 0.10975380567562489, \"tpr\": 0.8589392916770274, \"n\": 5321}, {\"threshold\": 0.8790000081062317, \"p\": 28151, \"fpr\": 0.10937793647810562, \"tpr\": 0.8584419736421441, \"n\": 5321}, {\"threshold\": 0.8799999952316284, \"p\": 28151, \"fpr\": 0.109190001879346, \"tpr\": 0.8576249511562645, \"n\": 5321}, {\"threshold\": 0.8809999823570251, \"p\": 28151, \"fpr\": 0.10881413268182673, \"tpr\": 0.8568434513871621, \"n\": 5321}, {\"threshold\": 0.8820000290870667, \"p\": 28151, \"fpr\": 0.10825032888554784, \"tpr\": 0.856275087918724, \"n\": 5321}, {\"threshold\": 0.8830000162124634, \"p\": 28151, \"fpr\": 0.10787445968802857, \"tpr\": 0.8556712017335085, \"n\": 5321}, {\"threshold\": 0.8840000033378601, \"p\": 28151, \"fpr\": 0.10693478669423041, \"tpr\": 0.8549252246811836, \"n\": 5321}, {\"threshold\": 0.8849999904632568, \"p\": 28151, \"fpr\": 0.10655891749671115, \"tpr\": 0.8540726794785265, \"n\": 5321}, {\"threshold\": 0.8859999775886536, \"p\": 28151, \"fpr\": 0.10637098289795151, \"tpr\": 0.8537174523107527, \"n\": 5321}, {\"threshold\": 0.8870000243186951, \"p\": 28151, \"fpr\": 0.10599511370043226, \"tpr\": 0.8529359525416503, \"n\": 5321}, {\"threshold\": 0.8880000114440918, \"p\": 28151, \"fpr\": 0.10561924450291299, \"tpr\": 0.8522965436396576, \"n\": 5321}, {\"threshold\": 0.8889999985694885, \"p\": 28151, \"fpr\": 0.10524337530539372, \"tpr\": 0.851870271038329, \"n\": 5321}, {\"threshold\": 0.8899999856948853, \"p\": 28151, \"fpr\": 0.10373989851531668, \"tpr\": 0.8512663848531136, \"n\": 5321}, {\"threshold\": 0.890999972820282, \"p\": 28151, \"fpr\": 0.10336402931779741, \"tpr\": 0.8503427942169017, \"n\": 5321}, {\"threshold\": 0.8920000195503235, \"p\": 28151, \"fpr\": 0.10261229092275888, \"tpr\": 0.8497033853149089, \"n\": 5321}, {\"threshold\": 0.8930000066757202, \"p\": 28151, \"fpr\": 0.10223642172523961, \"tpr\": 0.8489929309793613, \"n\": 5321}, {\"threshold\": 0.8939999938011169, \"p\": 28151, \"fpr\": 0.10129674873144145, \"tpr\": 0.8480693403431494, \"n\": 5321}, {\"threshold\": 0.8949999809265137, \"p\": 28151, \"fpr\": 0.10092087953392219, \"tpr\": 0.8473944087243792, \"n\": 5321}, {\"threshold\": 0.8960000276565552, \"p\": 28151, \"fpr\": 0.10092087953392219, \"tpr\": 0.8466129089552769, \"n\": 5321}, {\"threshold\": 0.8970000147819519, \"p\": 28151, \"fpr\": 0.10073294493516256, \"tpr\": 0.8459024546197293, \"n\": 5321}, {\"threshold\": 0.8980000019073486, \"p\": 28151, \"fpr\": 0.1003570757376433, \"tpr\": 0.8452985684345139, \"n\": 5321}, {\"threshold\": 0.8989999890327454, \"p\": 28151, \"fpr\": 0.0997932719413644, \"tpr\": 0.8445170686654115, \"n\": 5321}, {\"threshold\": 0.8999999761581421, \"p\": 28151, \"fpr\": 0.09941740274384514, \"tpr\": 0.8438421370466413, \"n\": 5321}, {\"threshold\": 0.9010000228881836, \"p\": 28151, \"fpr\": 0.09847772975004698, \"tpr\": 0.8431672054278712, \"n\": 5321}, {\"threshold\": 0.9020000100135803, \"p\": 28151, \"fpr\": 0.09828979515128736, \"tpr\": 0.842492273809101, \"n\": 5321}, {\"threshold\": 0.902999997138977, \"p\": 28151, \"fpr\": 0.09772599135500845, \"tpr\": 0.8421725693581045, \"n\": 5321}, {\"threshold\": 0.9039999842643738, \"p\": 28151, \"fpr\": 0.09753805675624883, \"tpr\": 0.8413555468722248, \"n\": 5321}, {\"threshold\": 0.9049999713897705, \"p\": 28151, \"fpr\": 0.09659838376245067, \"tpr\": 0.8407871834037868, \"n\": 5321}, {\"threshold\": 0.906000018119812, \"p\": 28151, \"fpr\": 0.09547077616989287, \"tpr\": 0.8398635927675748, \"n\": 5321}, {\"threshold\": 0.9070000052452087, \"p\": 28151, \"fpr\": 0.09471903777485435, \"tpr\": 0.8389755248481404, \"n\": 5321}, {\"threshold\": 0.9079999923706055, \"p\": 28151, \"fpr\": 0.0937793647810562, \"tpr\": 0.8379453660615964, \"n\": 5321}, {\"threshold\": 0.9089999794960022, \"p\": 28151, \"fpr\": 0.09359143018229656, \"tpr\": 0.8369152072750524, \"n\": 5321}, {\"threshold\": 0.9100000262260437, \"p\": 28151, \"fpr\": 0.09340349558353693, \"tpr\": 0.8360626620723953, \"n\": 5321}, {\"threshold\": 0.9110000133514404, \"p\": 28151, \"fpr\": 0.09246382258973877, \"tpr\": 0.8352101168697382, \"n\": 5321}, {\"threshold\": 0.9120000004768372, \"p\": 28151, \"fpr\": 0.09227588799097913, \"tpr\": 0.834535185250968, \"n\": 5321}, {\"threshold\": 0.9129999876022339, \"p\": 28151, \"fpr\": 0.09190001879345988, \"tpr\": 0.8338247309154204, \"n\": 5321}, {\"threshold\": 0.9139999747276306, \"p\": 28151, \"fpr\": 0.09190001879345988, \"tpr\": 0.8331497992966502, \"n\": 5321}, {\"threshold\": 0.9150000214576721, \"p\": 28151, \"fpr\": 0.09152414959594062, \"tpr\": 0.8320485950765515, \"n\": 5321}, {\"threshold\": 0.9160000085830688, \"p\": 28151, \"fpr\": 0.09096034579966172, \"tpr\": 0.8311250044403395, \"n\": 5321}, {\"threshold\": 0.9169999957084656, \"p\": 28151, \"fpr\": 0.09020860740462319, \"tpr\": 0.8298106639195766, \"n\": 5321}, {\"threshold\": 0.9179999828338623, \"p\": 28151, \"fpr\": 0.09020860740462319, \"tpr\": 0.8285318461155909, \"n\": 5321}, {\"threshold\": 0.9190000295639038, \"p\": 28151, \"fpr\": 0.0896448036083443, \"tpr\": 0.8276082554793791, \"n\": 5321}, {\"threshold\": 0.9200000166893005, \"p\": 28151, \"fpr\": 0.08889306521330577, \"tpr\": 0.8262228695250613, \"n\": 5321}, {\"threshold\": 0.9210000038146973, \"p\": 28151, \"fpr\": 0.0885171960157865, \"tpr\": 0.8252282334552946, \"n\": 5321}, {\"threshold\": 0.921999990940094, \"p\": 28151, \"fpr\": 0.08757752302198835, \"tpr\": 0.8241270292351959, \"n\": 5321}, {\"threshold\": 0.9229999780654907, \"p\": 28151, \"fpr\": 0.08682578462694981, \"tpr\": 0.8229903022983198, \"n\": 5321}, {\"threshold\": 0.9240000247955322, \"p\": 28151, \"fpr\": 0.08644991542943056, \"tpr\": 0.8221377570956627, \"n\": 5321}, {\"threshold\": 0.925000011920929, \"p\": 28151, \"fpr\": 0.0860740462319113, \"tpr\": 0.8213562573265604, \"n\": 5321}, {\"threshold\": 0.9259999990463257, \"p\": 28151, \"fpr\": 0.08513437323811314, \"tpr\": 0.8200419168057973, \"n\": 5321}, {\"threshold\": 0.9269999861717224, \"p\": 28151, \"fpr\": 0.08513437323811314, \"tpr\": 0.8189051898689211, \"n\": 5321}, {\"threshold\": 0.9279999732971191, \"p\": 28151, \"fpr\": 0.0849464386393535, \"tpr\": 0.817946076515932, \"n\": 5321}, {\"threshold\": 0.9290000200271606, \"p\": 28151, \"fpr\": 0.08419470024431498, \"tpr\": 0.8165962132783915, \"n\": 5321}, {\"threshold\": 0.9300000071525574, \"p\": 28151, \"fpr\": 0.08344296184927645, \"tpr\": 0.8153884409079606, \"n\": 5321}, {\"threshold\": 0.9309999942779541, \"p\": 28151, \"fpr\": 0.08231535425671867, \"tpr\": 0.8138609640865333, \"n\": 5321}, {\"threshold\": 0.9319999814033508, \"p\": 28151, \"fpr\": 0.08212741965795903, \"tpr\": 0.8124755781322156, \"n\": 5321}, {\"threshold\": 0.9330000281333923, \"p\": 28151, \"fpr\": 0.08212741965795903, \"tpr\": 0.811303328478562, \"n\": 5321}, {\"threshold\": 0.9340000152587891, \"p\": 28151, \"fpr\": 0.0819394850591994, \"tpr\": 0.8097758516571347, \"n\": 5321}, {\"threshold\": 0.9350000023841858, \"p\": 28151, \"fpr\": 0.08175155046043976, \"tpr\": 0.8082483748357074, \"n\": 5321}, {\"threshold\": 0.9359999895095825, \"p\": 28151, \"fpr\": 0.08137568126292051, \"tpr\": 0.8070050797484991, \"n\": 5321}, {\"threshold\": 0.9369999766349792, \"p\": 28151, \"fpr\": 0.0808118774666416, \"tpr\": 0.8059038755284004, \"n\": 5321}, {\"threshold\": 0.9380000233650208, \"p\": 28151, \"fpr\": 0.08024807367036271, \"tpr\": 0.8044829668573052, \"n\": 5321}, {\"threshold\": 0.9390000104904175, \"p\": 28151, \"fpr\": 0.07987220447284345, \"tpr\": 0.802955490035878, \"n\": 5321}, {\"threshold\": 0.9399999976158142, \"p\": 28151, \"fpr\": 0.07912046607780493, \"tpr\": 0.801179354197009, \"n\": 5321}, {\"threshold\": 0.9409999847412109, \"p\": 28151, \"fpr\": 0.07855666228152602, \"tpr\": 0.799865013676246, \"n\": 5321}, {\"threshold\": 0.9419999718666077, \"p\": 28151, \"fpr\": 0.0778049238864875, \"tpr\": 0.7984441050051508, \"n\": 5321}, {\"threshold\": 0.9430000185966492, \"p\": 28151, \"fpr\": 0.07742905468896824, \"tpr\": 0.7969521509005009, \"n\": 5321}, {\"threshold\": 0.9440000057220459, \"p\": 28151, \"fpr\": 0.07648938169517008, \"tpr\": 0.7955312422294057, \"n\": 5321}, {\"threshold\": 0.9449999928474426, \"p\": 28151, \"fpr\": 0.07611351249765082, \"tpr\": 0.793968242691201, \"n\": 5321}, {\"threshold\": 0.9459999799728394, \"p\": 28151, \"fpr\": 0.07573764330013155, \"tpr\": 0.7921210614187774, \"n\": 5321}, {\"threshold\": 0.9470000267028809, \"p\": 28151, \"fpr\": 0.0747979703063334, \"tpr\": 0.7904514937302405, \"n\": 5321}, {\"threshold\": 0.9480000138282776, \"p\": 28151, \"fpr\": 0.0742341665100545, \"tpr\": 0.7891371532094774, \"n\": 5321}, {\"threshold\": 0.9490000009536743, \"p\": 28151, \"fpr\": 0.07273068971997745, \"tpr\": 0.7875031082377181, \"n\": 5321}, {\"threshold\": 0.949999988079071, \"p\": 28151, \"fpr\": 0.07141514752866003, \"tpr\": 0.7850875634968563, \"n\": 5321}, {\"threshold\": 0.9509999752044678, \"p\": 28151, \"fpr\": 0.0706634091336215, \"tpr\": 0.783560086675429, \"n\": 5321}, {\"threshold\": 0.9520000219345093, \"p\": 28151, \"fpr\": 0.06991167073858297, \"tpr\": 0.7819970871372243, \"n\": 5321}, {\"threshold\": 0.953000009059906, \"p\": 28151, \"fpr\": 0.06934786694230408, \"tpr\": 0.7796170651131399, \"n\": 5321}, {\"threshold\": 0.9539999961853027, \"p\": 28151, \"fpr\": 0.06859612854726554, \"tpr\": 0.7772370430890555, \"n\": 5321}, {\"threshold\": 0.9549999833106995, \"p\": 28151, \"fpr\": 0.06765645555346739, \"tpr\": 0.7751412027991901, \"n\": 5321}, {\"threshold\": 0.9559999704360962, \"p\": 28151, \"fpr\": 0.06746852095470776, \"tpr\": 0.7735071578274306, \"n\": 5321}, {\"threshold\": 0.9570000171661377, \"p\": 28151, \"fpr\": 0.06634091336214998, \"tpr\": 0.7713047493872331, \"n\": 5321}, {\"threshold\": 0.9580000042915344, \"p\": 28151, \"fpr\": 0.06558917496711145, \"tpr\": 0.769422045398032, \"n\": 5321}, {\"threshold\": 0.9589999914169312, \"p\": 28151, \"fpr\": 0.06464950197331329, \"tpr\": 0.7666157507726191, \"n\": 5321}, {\"threshold\": 0.9599999785423279, \"p\": 28151, \"fpr\": 0.06427363277579402, \"tpr\": 0.7642357287485347, \"n\": 5321}, {\"threshold\": 0.9610000252723694, \"p\": 28151, \"fpr\": 0.06370982897951513, \"tpr\": 0.7617136158573408, \"n\": 5321}, {\"threshold\": 0.9620000123977661, \"p\": 28151, \"fpr\": 0.06239428678819771, \"tpr\": 0.759582252850698, \"n\": 5321}, {\"threshold\": 0.9629999995231628, \"p\": 28151, \"fpr\": 0.06183048299191881, \"tpr\": 0.7566338673581755, \"n\": 5321}, {\"threshold\": 0.9639999866485596, \"p\": 28151, \"fpr\": 0.06070287539936102, \"tpr\": 0.7534723455649888, \"n\": 5321}, {\"threshold\": 0.9649999737739563, \"p\": 28151, \"fpr\": 0.059951137004322495, \"tpr\": 0.7509857553905722, \"n\": 5321}, {\"threshold\": 0.9660000205039978, \"p\": 28151, \"fpr\": 0.05919939860928397, \"tpr\": 0.7480373698980498, \"n\": 5321}, {\"threshold\": 0.9670000076293945, \"p\": 28151, \"fpr\": 0.05844766021424544, \"tpr\": 0.74505346168875, \"n\": 5321}, {\"threshold\": 0.9679999947547913, \"p\": 28151, \"fpr\": 0.05788385641796655, \"tpr\": 0.7415367127277894, \"n\": 5321}, {\"threshold\": 0.968999981880188, \"p\": 28151, \"fpr\": 0.05750798722044728, \"tpr\": 0.7384462363681574, \"n\": 5321}, {\"threshold\": 0.9700000286102295, \"p\": 28151, \"fpr\": 0.05638037962788949, \"tpr\": 0.7347163511065327, \"n\": 5321}, {\"threshold\": 0.9710000157356262, \"p\": 28151, \"fpr\": 0.055440706634091334, \"tpr\": 0.731661397463678, \"n\": 5321}, {\"threshold\": 0.972000002861023, \"p\": 28151, \"fpr\": 0.05450103364029318, \"tpr\": 0.7276473304678341, \"n\": 5321}, {\"threshold\": 0.9729999899864197, \"p\": 28151, \"fpr\": 0.053937229844014285, \"tpr\": 0.7242016269404284, \"n\": 5321}, {\"threshold\": 0.9739999771118164, \"p\": 28151, \"fpr\": 0.05262168765269686, \"tpr\": 0.7198678554935881, \"n\": 5321}, {\"threshold\": 0.9750000238418579, \"p\": 28151, \"fpr\": 0.05149408006013907, \"tpr\": 0.7154630386131932, \"n\": 5321}, {\"threshold\": 0.9760000109672546, \"p\": 28151, \"fpr\": 0.04980266867130239, \"tpr\": 0.7110226990160208, \"n\": 5321}, {\"threshold\": 0.9769999980926514, \"p\": 28151, \"fpr\": 0.04848712647998497, \"tpr\": 0.7064757912685162, \"n\": 5321}, {\"threshold\": 0.9779999852180481, \"p\": 28151, \"fpr\": 0.04754745348618681, \"tpr\": 0.702142019821676, \"n\": 5321}, {\"threshold\": 0.9789999723434448, \"p\": 28151, \"fpr\": 0.047171584288667544, \"tpr\": 0.6971688394728429, \"n\": 5321}, {\"threshold\": 0.9800000190734863, \"p\": 28151, \"fpr\": 0.04660778049238865, \"tpr\": 0.691272068487798, \"n\": 5321}, {\"threshold\": 0.9810000061988831, \"p\": 28151, \"fpr\": 0.04585604209735012, \"tpr\": 0.68555291108664, \"n\": 5321}, {\"threshold\": 0.9819999933242798, \"p\": 28151, \"fpr\": 0.0445404999060327, \"tpr\": 0.6790167311996022, \"n\": 5321}, {\"threshold\": 0.9829999804496765, \"p\": 28151, \"fpr\": 0.04247321931967675, \"tpr\": 0.6731199602145572, \"n\": 5321}, {\"threshold\": 0.984000027179718, \"p\": 28151, \"fpr\": 0.0409697425295997, \"tpr\": 0.6658022805584171, \"n\": 5321}, {\"threshold\": 0.9850000143051147, \"p\": 28151, \"fpr\": 0.0404059387333208, \"tpr\": 0.6582359418848354, \"n\": 5321}, {\"threshold\": 0.9860000014305115, \"p\": 28151, \"fpr\": 0.03890246194324375, \"tpr\": 0.6500301943092608, \"n\": 5321}, {\"threshold\": 0.9869999885559082, \"p\": 28151, \"fpr\": 0.03777485435068596, \"tpr\": 0.640865333380697, \"n\": 5321}, {\"threshold\": 0.9879999756813049, \"p\": 28151, \"fpr\": 0.03645931215936854, \"tpr\": 0.6317004724521331, \"n\": 5321}, {\"threshold\": 0.9890000224113464, \"p\": 28151, \"fpr\": 0.03476790077053186, \"tpr\": 0.6218251571880218, \"n\": 5321}, {\"threshold\": 0.9900000095367432, \"p\": 28151, \"fpr\": 0.03213681638789701, \"tpr\": 0.6103868423857056, \"n\": 5321}, {\"threshold\": 0.9909999966621399, \"p\": 28151, \"fpr\": 0.03082127419657959, \"tpr\": 0.5982025505310646, \"n\": 5321}, {\"threshold\": 0.9919999837875366, \"p\": 28151, \"fpr\": 0.02950573200526217, \"tpr\": 0.5842066001207772, \"n\": 5321}, {\"threshold\": 0.9929999709129333, \"p\": 28151, \"fpr\": 0.02725051682014659, \"tpr\": 0.5691449682071685, \"n\": 5321}, {\"threshold\": 0.9940000176429749, \"p\": 28151, \"fpr\": 0.025559105431309903, \"tpr\": 0.5521295868708039, \"n\": 5321}, {\"threshold\": 0.9950000047683716, \"p\": 28151, \"fpr\": 0.02405562864123285, \"tpr\": 0.5299634116017193, \"n\": 5321}, {\"threshold\": 0.9959999918937683, \"p\": 28151, \"fpr\": 0.022552151851155798, \"tpr\": 0.5029661468509111, \"n\": 5321}, {\"threshold\": 0.996999979019165, \"p\": 28151, \"fpr\": 0.019921067468520955, \"tpr\": 0.4700010656815033, \"n\": 5321}, {\"threshold\": 0.9980000257492065, \"p\": 28151, \"fpr\": 0.01635031009208795, \"tpr\": 0.4257042378601115, \"n\": 5321}, {\"threshold\": 0.9990000128746033, \"p\": 28151, \"fpr\": 0.012027814320616425, \"tpr\": 0.3570388263294377, \"n\": 5321}, {\"threshold\": 1.0, \"p\": 28151, \"fpr\": 0.0, \"tpr\": 0.0, \"n\": 5321}]}]], \"type\": \"Model\"}, \"ipython\": true, \"view_params\": {\"model_type\": \"regression\", \"view\": \"Evaluation\"}, \"model_type\": \"regression\", \"attributes\": {\"section_titles\": [\"Schema\", \"Hyperparameters\", \"Training Summary\", \"Settings\", \"Highest Positive Coefficients\", \"Lowest Negative Coefficients\"], \"sections\": [[[\"Number of coefficients\", 219218], [\"Number of examples\", 133448], [\"Number of classes\", 2], [\"Number of feature columns\", 1], [\"Number of unpacked features\", 219217]], [[\"L1 penalty\", 0.0], [\"L2 penalty\", 0.01]], [[\"Solver\", \"auto\"], [\"Solver iterations\", 10], [\"Solver status\", \"TERMINATED: Iteration limit reached.\"], [\"Training time (sec)\", 20.6897]], [[\"Log-likelihood\", 4956.6901]], [[\"word_count[pinkjeep]\", 13.5701], [\"word_count[(http://www.amazon.com/review/rhgg6qp7tdnhb/ref=cm_cr_pr_cmt?ie=utf8&asin;=b00318cla0&nodeid;)]\", 12.3088], [\"word_count[label/box.]\", 11.1774], [\"word_count[product.***]\", 11.064], [\"word_count[direct-pumping]\", 11.0531]], [[\"word_count[it.update:after]\", -18.3631], [\"word_count[5months.]\", -16.0906], [\"word_count[oldest.if]\", -15.9315], [\"word_count[maxima.]\", -15.8084], [\"word_count[(160.00)]\", -15.4512]]]}, \"evaluations\": [[\"test_data\", {\"roc_curve\": [{\"threshold\": 0.0, \"p\": 28151, \"fpr\": 0.2215748919376057, \"tpr\": 0.004475862313949771, \"n\": 5321}, {\"threshold\": 0.0010000000474974513, \"p\": 28151, \"fpr\": 0.7784251080623943, \"tpr\": 0.9955241376860502, \"n\": 5321}, {\"threshold\": 0.0020000000949949026, \"p\": 28151, \"fpr\": 0.7389588423228717, \"tpr\": 0.9943874107491741, \"n\": 5321}, {\"threshold\": 0.003000000026077032, \"p\": 28151, \"fpr\": 0.7164066904717158, \"tpr\": 0.9936414336968491, \"n\": 5321}, {\"threshold\": 0.004000000189989805, \"p\": 28151, \"fpr\": 0.7009960533734261, \"tpr\": 0.9931085929451885, \"n\": 5321}, {\"threshold\": 0.004999999888241291, \"p\": 28151, \"fpr\": 0.6899079120466077, \"tpr\": 0.99268232034386, \"n\": 5321}, {\"threshold\": 0.006000000052154064, \"p\": 28151, \"fpr\": 0.680135312911107, \"tpr\": 0.9921139568754218, \"n\": 5321}, {\"threshold\": 0.007000000216066837, \"p\": 28151, \"fpr\": 0.6696109753805676, \"tpr\": 0.991758729707648, \"n\": 5321}, {\"threshold\": 0.00800000037997961, \"p\": 28151, \"fpr\": 0.6592745724487878, \"tpr\": 0.9914390252566516, \"n\": 5321}, {\"threshold\": 0.008999999612569809, \"p\": 28151, \"fpr\": 0.6523209922946814, \"tpr\": 0.9909772299385456, \"n\": 5321}, {\"threshold\": 0.009999999776482582, \"p\": 28151, \"fpr\": 0.643863935350498, \"tpr\": 0.990622002770772, \"n\": 5321}, {\"threshold\": 0.010999999940395355, \"p\": 28151, \"fpr\": 0.6369103551963916, \"tpr\": 0.9902667756029981, \"n\": 5321}, {\"threshold\": 0.012000000104308128, \"p\": 28151, \"fpr\": 0.631648186431122, \"tpr\": 0.9898760257184469, \"n\": 5321}, {\"threshold\": 0.013000000268220901, \"p\": 28151, \"fpr\": 0.6250704754745349, \"tpr\": 0.989591843984228, \"n\": 5321}, {\"threshold\": 0.014000000432133675, \"p\": 28151, \"fpr\": 0.6201841759067844, \"tpr\": 0.9892721395332315, \"n\": 5321}, {\"threshold\": 0.014999999664723873, \"p\": 28151, \"fpr\": 0.6134185303514377, \"tpr\": 0.9890234805157898, \"n\": 5321}, {\"threshold\": 0.01600000075995922, \"p\": 28151, \"fpr\": 0.6087201653824469, \"tpr\": 0.9886327306312387, \"n\": 5321}, {\"threshold\": 0.017000000923871994, \"p\": 28151, \"fpr\": 0.6051494080060139, \"tpr\": 0.9883130261802423, \"n\": 5321}, {\"threshold\": 0.017999999225139618, \"p\": 28151, \"fpr\": 0.6002631084382635, \"tpr\": 0.9881354125963554, \"n\": 5321}, {\"threshold\": 0.01899999938905239, \"p\": 28151, \"fpr\": 0.595376808870513, \"tpr\": 0.9879577990124685, \"n\": 5321}, {\"threshold\": 0.019999999552965164, \"p\": 28151, \"fpr\": 0.5908663785002819, \"tpr\": 0.9877091399950269, \"n\": 5321}, {\"threshold\": 0.020999999716877937, \"p\": 28151, \"fpr\": 0.5871076865250893, \"tpr\": 0.9874604809775852, \"n\": 5321}, {\"threshold\": 0.02199999988079071, \"p\": 28151, \"fpr\": 0.5842886675436948, \"tpr\": 0.9872118219601436, \"n\": 5321}, {\"threshold\": 0.023000000044703484, \"p\": 28151, \"fpr\": 0.5822213869573388, \"tpr\": 0.987069731093034, \"n\": 5321}, {\"threshold\": 0.024000000208616257, \"p\": 28151, \"fpr\": 0.5778988911858673, \"tpr\": 0.9868921175091471, \"n\": 5321}, {\"threshold\": 0.02500000037252903, \"p\": 28151, \"fpr\": 0.5747040030069536, \"tpr\": 0.9867145039252602, \"n\": 5321}, {\"threshold\": 0.026000000536441803, \"p\": 28151, \"fpr\": 0.5711332456305206, \"tpr\": 0.9865368903413733, \"n\": 5321}, {\"threshold\": 0.027000000700354576, \"p\": 28151, \"fpr\": 0.5679383574516068, \"tpr\": 0.9862171858903769, \"n\": 5321}, {\"threshold\": 0.02800000086426735, \"p\": 28151, \"fpr\": 0.5651193384702123, \"tpr\": 0.9860040495897127, \"n\": 5321}, {\"threshold\": 0.028999999165534973, \"p\": 28151, \"fpr\": 0.5615485810937794, \"tpr\": 0.9858264360058258, \"n\": 5321}, {\"threshold\": 0.029999999329447746, \"p\": 28151, \"fpr\": 0.5576019545198271, \"tpr\": 0.9855777769883841, \"n\": 5321}, {\"threshold\": 0.03099999949336052, \"p\": 28151, \"fpr\": 0.5562864123285097, \"tpr\": 0.9854356861212745, \"n\": 5321}, {\"threshold\": 0.03200000151991844, \"p\": 28151, \"fpr\": 0.5525277203533171, \"tpr\": 0.9851515043870556, \"n\": 5321}, {\"threshold\": 0.032999999821186066, \"p\": 28151, \"fpr\": 0.5483931591806052, \"tpr\": 0.9849738908031687, \"n\": 5321}, {\"threshold\": 0.03400000184774399, \"p\": 28151, \"fpr\": 0.5465138131930088, \"tpr\": 0.9847962772192818, \"n\": 5321}, {\"threshold\": 0.03500000014901161, \"p\": 28151, \"fpr\": 0.5446344672054125, \"tpr\": 0.9847607545025043, \"n\": 5321}, {\"threshold\": 0.035999998450279236, \"p\": 28151, \"fpr\": 0.5425671866190566, \"tpr\": 0.9846541863521722, \"n\": 5321}, {\"threshold\": 0.03700000047683716, \"p\": 28151, \"fpr\": 0.5401240368351814, \"tpr\": 0.9845831409186174, \"n\": 5321}, {\"threshold\": 0.03799999877810478, \"p\": 28151, \"fpr\": 0.5369291486562676, \"tpr\": 0.984263436467621, \"n\": 5321}, {\"threshold\": 0.039000000804662704, \"p\": 28151, \"fpr\": 0.5358015410637098, \"tpr\": 0.9840503001669567, \"n\": 5321}, {\"threshold\": 0.03999999910593033, \"p\": 28151, \"fpr\": 0.5344859988723925, \"tpr\": 0.9839437320166247, \"n\": 5321}, {\"threshold\": 0.04100000113248825, \"p\": 28151, \"fpr\": 0.5322307836872768, \"tpr\": 0.9838726865830699, \"n\": 5321}, {\"threshold\": 0.041999999433755875, \"p\": 28151, \"fpr\": 0.5292238301071227, \"tpr\": 0.983695072999183, \"n\": 5321}, {\"threshold\": 0.0430000014603138, \"p\": 28151, \"fpr\": 0.5280962225145649, \"tpr\": 0.9835174594152961, \"n\": 5321}, {\"threshold\": 0.04399999976158142, \"p\": 28151, \"fpr\": 0.5256530727306897, \"tpr\": 0.983410891264964, \"n\": 5321}, {\"threshold\": 0.04500000178813934, \"p\": 28151, \"fpr\": 0.5245254651381319, \"tpr\": 0.9832688003978545, \"n\": 5321}, {\"threshold\": 0.04600000008940697, \"p\": 28151, \"fpr\": 0.5217064461567374, \"tpr\": 0.9831622322475223, \"n\": 5321}, {\"threshold\": 0.04699999839067459, \"p\": 28151, \"fpr\": 0.5198271001691411, \"tpr\": 0.982949095946858, \"n\": 5321}, {\"threshold\": 0.04800000041723251, \"p\": 28151, \"fpr\": 0.5175718849840255, \"tpr\": 0.9827359596461938, \"n\": 5321}, {\"threshold\": 0.04899999871850014, \"p\": 28151, \"fpr\": 0.5164442773914678, \"tpr\": 0.9825938687790843, \"n\": 5321}, {\"threshold\": 0.05000000074505806, \"p\": 28151, \"fpr\": 0.5145649314038715, \"tpr\": 0.98238073247842, \"n\": 5321}, {\"threshold\": 0.050999999046325684, \"p\": 28151, \"fpr\": 0.5113700432249577, \"tpr\": 0.9820610280274236, \"n\": 5321}, {\"threshold\": 0.052000001072883606, \"p\": 28151, \"fpr\": 0.5087389588423229, \"tpr\": 0.9818834144435367, \"n\": 5321}, {\"threshold\": 0.05299999937415123, \"p\": 28151, \"fpr\": 0.5070475474534862, \"tpr\": 0.9818123690099819, \"n\": 5321}, {\"threshold\": 0.05400000140070915, \"p\": 28151, \"fpr\": 0.5049802668671303, \"tpr\": 0.9815992327093176, \"n\": 5321}, {\"threshold\": 0.054999999701976776, \"p\": 28151, \"fpr\": 0.5038526592745725, \"tpr\": 0.9814926645589854, \"n\": 5321}, {\"threshold\": 0.0560000017285347, \"p\": 28151, \"fpr\": 0.5014095094906973, \"tpr\": 0.981350573691876, \"n\": 5321}, {\"threshold\": 0.05700000002980232, \"p\": 28151, \"fpr\": 0.49934222890434127, \"tpr\": 0.9811374373912117, \"n\": 5321}, {\"threshold\": 0.057999998331069946, \"p\": 28151, \"fpr\": 0.4970870137192257, \"tpr\": 0.9809598238073248, \"n\": 5321}, {\"threshold\": 0.05900000035762787, \"p\": 28151, \"fpr\": 0.49595940612666795, \"tpr\": 0.9808177329402152, \"n\": 5321}, {\"threshold\": 0.05999999865889549, \"p\": 28151, \"fpr\": 0.4935162563427927, \"tpr\": 0.9806756420731058, \"n\": 5321}, {\"threshold\": 0.061000000685453415, \"p\": 28151, \"fpr\": 0.49144897575643676, \"tpr\": 0.9804980284892189, \"n\": 5321}, {\"threshold\": 0.06199999898672104, \"p\": 28151, \"fpr\": 0.48956962976884044, \"tpr\": 0.9804625057724414, \"n\": 5321}, {\"threshold\": 0.06300000101327896, \"p\": 28151, \"fpr\": 0.48825408757752303, \"tpr\": 0.980320414905332, \"n\": 5321}, {\"threshold\": 0.06400000303983688, \"p\": 28151, \"fpr\": 0.4871264799849652, \"tpr\": 0.9801783240382225, \"n\": 5321}, {\"threshold\": 0.06499999761581421, \"p\": 28151, \"fpr\": 0.4858109377936478, \"tpr\": 0.9801783240382225, \"n\": 5321}, {\"threshold\": 0.06599999964237213, \"p\": 28151, \"fpr\": 0.4852471339973689, \"tpr\": 0.9801783240382225, \"n\": 5321}, {\"threshold\": 0.06700000166893005, \"p\": 28151, \"fpr\": 0.4844953956023304, \"tpr\": 0.9801072786046677, \"n\": 5321}, {\"threshold\": 0.06800000369548798, \"p\": 28151, \"fpr\": 0.4833677880097726, \"tpr\": 0.9798941423040034, \"n\": 5321}, {\"threshold\": 0.0689999982714653, \"p\": 28151, \"fpr\": 0.48224018041721484, \"tpr\": 0.9798230968704487, \"n\": 5321}, {\"threshold\": 0.07000000029802322, \"p\": 28151, \"fpr\": 0.4814884420221763, \"tpr\": 0.9796810060033392, \"n\": 5321}, {\"threshold\": 0.07100000232458115, \"p\": 28151, \"fpr\": 0.48017289983085887, \"tpr\": 0.9796099605697843, \"n\": 5321}, {\"threshold\": 0.07199999690055847, \"p\": 28151, \"fpr\": 0.47885735763954146, \"tpr\": 0.9796099605697843, \"n\": 5321}, {\"threshold\": 0.0729999989271164, \"p\": 28151, \"fpr\": 0.47697801165194514, \"tpr\": 0.9795389151362296, \"n\": 5321}, {\"threshold\": 0.07400000095367432, \"p\": 28151, \"fpr\": 0.4754745348618681, \"tpr\": 0.9794323469858974, \"n\": 5321}, {\"threshold\": 0.07500000298023224, \"p\": 28151, \"fpr\": 0.47359518887427177, \"tpr\": 0.9793257788355654, \"n\": 5321}, {\"threshold\": 0.07599999755620956, \"p\": 28151, \"fpr\": 0.4726555158804736, \"tpr\": 0.9791481652516785, \"n\": 5321}, {\"threshold\": 0.07699999958276749, \"p\": 28151, \"fpr\": 0.4713399736891562, \"tpr\": 0.9790771198181237, \"n\": 5321}, {\"threshold\": 0.07800000160932541, \"p\": 28151, \"fpr\": 0.47040030069535804, \"tpr\": 0.9787929380839047, \"n\": 5321}, {\"threshold\": 0.07900000363588333, \"p\": 28151, \"fpr\": 0.46946062770155983, \"tpr\": 0.9787929380839047, \"n\": 5321}, {\"threshold\": 0.07999999821186066, \"p\": 28151, \"fpr\": 0.46852095470776167, \"tpr\": 0.9786508472167952, \"n\": 5321}, {\"threshold\": 0.08100000023841858, \"p\": 28151, \"fpr\": 0.46776921631272317, \"tpr\": 0.9786153245000178, \"n\": 5321}, {\"threshold\": 0.0820000022649765, \"p\": 28151, \"fpr\": 0.4662657395226461, \"tpr\": 0.9785798017832403, \"n\": 5321}, {\"threshold\": 0.08299999684095383, \"p\": 28151, \"fpr\": 0.46476226273256904, \"tpr\": 0.9783311427657987, \"n\": 5321}, {\"threshold\": 0.08399999886751175, \"p\": 28151, \"fpr\": 0.46344672054125163, \"tpr\": 0.978260097332244, \"n\": 5321}, {\"threshold\": 0.08500000089406967, \"p\": 28151, \"fpr\": 0.4613794399548957, \"tpr\": 0.9782245746154666, \"n\": 5321}, {\"threshold\": 0.0860000029206276, \"p\": 28151, \"fpr\": 0.46043976696109756, \"tpr\": 0.9782245746154666, \"n\": 5321}, {\"threshold\": 0.08699999749660492, \"p\": 28151, \"fpr\": 0.4589362901710205, \"tpr\": 0.9781535291819118, \"n\": 5321}, {\"threshold\": 0.08799999952316284, \"p\": 28151, \"fpr\": 0.45743281338094344, \"tpr\": 0.9779048701644701, \"n\": 5321}, {\"threshold\": 0.08900000154972076, \"p\": 28151, \"fpr\": 0.45686900958466453, \"tpr\": 0.9777272565805832, \"n\": 5321}, {\"threshold\": 0.09000000357627869, \"p\": 28151, \"fpr\": 0.4559293365908664, \"tpr\": 0.9776206884302512, \"n\": 5321}, {\"threshold\": 0.09099999815225601, \"p\": 28151, \"fpr\": 0.4549896635970682, \"tpr\": 0.9775851657134738, \"n\": 5321}, {\"threshold\": 0.09200000017881393, \"p\": 28151, \"fpr\": 0.4538620560045104, \"tpr\": 0.9775496429966963, \"n\": 5321}, {\"threshold\": 0.09300000220537186, \"p\": 28151, \"fpr\": 0.452546513813193, \"tpr\": 0.9774075521295869, \"n\": 5321}, {\"threshold\": 0.09399999678134918, \"p\": 28151, \"fpr\": 0.4517947754181545, \"tpr\": 0.9773365066960321, \"n\": 5321}, {\"threshold\": 0.0949999988079071, \"p\": 28151, \"fpr\": 0.45085510242435634, \"tpr\": 0.9772299385457, \"n\": 5321}, {\"threshold\": 0.09600000083446503, \"p\": 28151, \"fpr\": 0.4497274948317985, \"tpr\": 0.9771588931121452, \"n\": 5321}, {\"threshold\": 0.09700000286102295, \"p\": 28151, \"fpr\": 0.44897575643676, \"tpr\": 0.9771233703953678, \"n\": 5321}, {\"threshold\": 0.09799999743700027, \"p\": 28151, \"fpr\": 0.44822401804172146, \"tpr\": 0.9768747113779261, \"n\": 5321}, {\"threshold\": 0.0989999994635582, \"p\": 28151, \"fpr\": 0.4472843450479233, \"tpr\": 0.9766260523604845, \"n\": 5321}, {\"threshold\": 0.10000000149011612, \"p\": 28151, \"fpr\": 0.44634467205412515, \"tpr\": 0.9765194842101524, \"n\": 5321}, {\"threshold\": 0.10100000351667404, \"p\": 28151, \"fpr\": 0.44446532606652883, \"tpr\": 0.9764484387765976, \"n\": 5321}, {\"threshold\": 0.10199999809265137, \"p\": 28151, \"fpr\": 0.44296184927645177, \"tpr\": 0.9763063479094881, \"n\": 5321}, {\"threshold\": 0.10300000011920929, \"p\": 28151, \"fpr\": 0.44221011088141327, \"tpr\": 0.9762708251927107, \"n\": 5321}, {\"threshold\": 0.10400000214576721, \"p\": 28151, \"fpr\": 0.44108250328885545, \"tpr\": 0.9760576888920465, \"n\": 5321}, {\"threshold\": 0.10499999672174454, \"p\": 28151, \"fpr\": 0.4407066340913362, \"tpr\": 0.9758800753081596, \"n\": 5321}, {\"threshold\": 0.10599999874830246, \"p\": 28151, \"fpr\": 0.43901522270249954, \"tpr\": 0.9757024617242727, \"n\": 5321}, {\"threshold\": 0.10700000077486038, \"p\": 28151, \"fpr\": 0.4380755497087014, \"tpr\": 0.9756314162907179, \"n\": 5321}, {\"threshold\": 0.1080000028014183, \"p\": 28151, \"fpr\": 0.4375117459124225, \"tpr\": 0.9755603708571632, \"n\": 5321}, {\"threshold\": 0.10899999737739563, \"p\": 28151, \"fpr\": 0.43638413831986467, \"tpr\": 0.9753472345564989, \"n\": 5321}, {\"threshold\": 0.10999999940395355, \"p\": 28151, \"fpr\": 0.43563239992482616, \"tpr\": 0.9752406664061667, \"n\": 5321}, {\"threshold\": 0.11100000143051147, \"p\": 28151, \"fpr\": 0.4341289231347491, \"tpr\": 0.9752406664061667, \"n\": 5321}, {\"threshold\": 0.1120000034570694, \"p\": 28151, \"fpr\": 0.4335651193384702, \"tpr\": 0.9750275301055025, \"n\": 5321}, {\"threshold\": 0.11299999803304672, \"p\": 28151, \"fpr\": 0.4328133809434317, \"tpr\": 0.9748499165216156, \"n\": 5321}, {\"threshold\": 0.11400000005960464, \"p\": 28151, \"fpr\": 0.43206164254839313, \"tpr\": 0.9748143938048381, \"n\": 5321}, {\"threshold\": 0.11500000208616257, \"p\": 28151, \"fpr\": 0.4305581657583161, \"tpr\": 0.9746012575041739, \"n\": 5321}, {\"threshold\": 0.11599999666213989, \"p\": 28151, \"fpr\": 0.42961849276451797, \"tpr\": 0.9745657347873965, \"n\": 5321}, {\"threshold\": 0.11699999868869781, \"p\": 28151, \"fpr\": 0.42905468896823906, \"tpr\": 0.9744591666370644, \"n\": 5321}, {\"threshold\": 0.11800000071525574, \"p\": 28151, \"fpr\": 0.4288667543694794, \"tpr\": 0.9743881212035096, \"n\": 5321}, {\"threshold\": 0.11900000274181366, \"p\": 28151, \"fpr\": 0.4281150159744409, \"tpr\": 0.9742815530531775, \"n\": 5321}, {\"threshold\": 0.11999999731779099, \"p\": 28151, \"fpr\": 0.42736327757940235, \"tpr\": 0.9742105076196228, \"n\": 5321}, {\"threshold\": 0.12099999934434891, \"p\": 28151, \"fpr\": 0.4267994737831235, \"tpr\": 0.973961848602181, \"n\": 5321}, {\"threshold\": 0.12200000137090683, \"p\": 28151, \"fpr\": 0.4267994737831235, \"tpr\": 0.973855280451849, \"n\": 5321}, {\"threshold\": 0.12300000339746475, \"p\": 28151, \"fpr\": 0.42661153918436384, \"tpr\": 0.9737842350182943, \"n\": 5321}, {\"threshold\": 0.12399999797344208, \"p\": 28151, \"fpr\": 0.42548393159180603, \"tpr\": 0.9736776668679621, \"n\": 5321}, {\"threshold\": 0.125, \"p\": 28151, \"fpr\": 0.4249201277955272, \"tpr\": 0.9736066214344073, \"n\": 5321}, {\"threshold\": 0.12600000202655792, \"p\": 28151, \"fpr\": 0.423980454801729, \"tpr\": 0.9735710987176299, \"n\": 5321}, {\"threshold\": 0.12700000405311584, \"p\": 28151, \"fpr\": 0.42322871640669046, \"tpr\": 0.973393485133743, \"n\": 5321}, {\"threshold\": 0.12800000607967377, \"p\": 28151, \"fpr\": 0.42247697801165196, \"tpr\": 0.9733579624169656, \"n\": 5321}, {\"threshold\": 0.1289999932050705, \"p\": 28151, \"fpr\": 0.42191317421537305, \"tpr\": 0.9731803488330788, \"n\": 5321}, {\"threshold\": 0.12999999523162842, \"p\": 28151, \"fpr\": 0.42078556662281524, \"tpr\": 0.9729672125324145, \"n\": 5321}, {\"threshold\": 0.13099999725818634, \"p\": 28151, \"fpr\": 0.42022176282653634, \"tpr\": 0.972931689815637, \"n\": 5321}, {\"threshold\": 0.13199999928474426, \"p\": 28151, \"fpr\": 0.41890622063521893, \"tpr\": 0.9727540762317503, \"n\": 5321}, {\"threshold\": 0.13300000131130219, \"p\": 28151, \"fpr\": 0.41834241683894, \"tpr\": 0.9726830307981954, \"n\": 5321}, {\"threshold\": 0.1340000033378601, \"p\": 28151, \"fpr\": 0.41721480924638227, \"tpr\": 0.9725764626478633, \"n\": 5321}, {\"threshold\": 0.13500000536441803, \"p\": 28151, \"fpr\": 0.41552339785754555, \"tpr\": 0.9724698944975312, \"n\": 5321}, {\"threshold\": 0.13600000739097595, \"p\": 28151, \"fpr\": 0.41477165946250705, \"tpr\": 0.9724343717807538, \"n\": 5321}, {\"threshold\": 0.13699999451637268, \"p\": 28151, \"fpr\": 0.41364405186994924, \"tpr\": 0.9721857127633121, \"n\": 5321}, {\"threshold\": 0.1379999965429306, \"p\": 28151, \"fpr\": 0.4130802480736704, \"tpr\": 0.9721146673297574, \"n\": 5321}, {\"threshold\": 0.13899999856948853, \"p\": 28151, \"fpr\": 0.41214057507987223, \"tpr\": 0.9720436218962026, \"n\": 5321}, {\"threshold\": 0.14000000059604645, \"p\": 28151, \"fpr\": 0.4119526404811126, \"tpr\": 0.9720080991794252, \"n\": 5321}, {\"threshold\": 0.14100000262260437, \"p\": 28151, \"fpr\": 0.4117647058823529, \"tpr\": 0.9719725764626479, \"n\": 5321}, {\"threshold\": 0.1420000046491623, \"p\": 28151, \"fpr\": 0.4110129674873144, \"tpr\": 0.9719370537458705, \"n\": 5321}, {\"threshold\": 0.14300000667572021, \"p\": 28151, \"fpr\": 0.41007329449351626, \"tpr\": 0.9719015310290932, \"n\": 5321}, {\"threshold\": 0.14399999380111694, \"p\": 28151, \"fpr\": 0.409697425295997, \"tpr\": 0.9719015310290932, \"n\": 5321}, {\"threshold\": 0.14499999582767487, \"p\": 28151, \"fpr\": 0.4080060139071603, \"tpr\": 0.9718660083123157, \"n\": 5321}, {\"threshold\": 0.1459999978542328, \"p\": 28151, \"fpr\": 0.4072542755121218, \"tpr\": 0.9717594401619836, \"n\": 5321}, {\"threshold\": 0.1469999998807907, \"p\": 28151, \"fpr\": 0.406126667919564, \"tpr\": 0.9716528720116514, \"n\": 5321}, {\"threshold\": 0.14800000190734863, \"p\": 28151, \"fpr\": 0.4059387333208044, \"tpr\": 0.9715463038613193, \"n\": 5321}, {\"threshold\": 0.14900000393390656, \"p\": 28151, \"fpr\": 0.4053749295245255, \"tpr\": 0.9715107811445419, \"n\": 5321}, {\"threshold\": 0.15000000596046448, \"p\": 28151, \"fpr\": 0.40481112572824657, \"tpr\": 0.9714752584277646, \"n\": 5321}, {\"threshold\": 0.1509999930858612, \"p\": 28151, \"fpr\": 0.40368351813568876, \"tpr\": 0.9714397357109872, \"n\": 5321}, {\"threshold\": 0.15199999511241913, \"p\": 28151, \"fpr\": 0.40368351813568876, \"tpr\": 0.9713686902774324, \"n\": 5321}, {\"threshold\": 0.15299999713897705, \"p\": 28151, \"fpr\": 0.4031197143394099, \"tpr\": 0.9711910766935455, \"n\": 5321}, {\"threshold\": 0.15399999916553497, \"p\": 28151, \"fpr\": 0.4019921067468521, \"tpr\": 0.9710845085432134, \"n\": 5321}, {\"threshold\": 0.1550000011920929, \"p\": 28151, \"fpr\": 0.40161623754933284, \"tpr\": 0.9709424176761039, \"n\": 5321}, {\"threshold\": 0.15600000321865082, \"p\": 28151, \"fpr\": 0.40105243375305394, \"tpr\": 0.9708713722425492, \"n\": 5321}, {\"threshold\": 0.15700000524520874, \"p\": 28151, \"fpr\": 0.4008644991542943, \"tpr\": 0.970764804092217, \"n\": 5321}, {\"threshold\": 0.15800000727176666, \"p\": 28151, \"fpr\": 0.4001127607592558, \"tpr\": 0.9706937586586623, \"n\": 5321}, {\"threshold\": 0.1589999943971634, \"p\": 28151, \"fpr\": 0.3999248261604961, \"tpr\": 0.9706582359418848, \"n\": 5321}, {\"threshold\": 0.1599999964237213, \"p\": 28151, \"fpr\": 0.3993610223642173, \"tpr\": 0.9706582359418848, \"n\": 5321}, {\"threshold\": 0.16099999845027924, \"p\": 28151, \"fpr\": 0.3986092839691787, \"tpr\": 0.9705516677915527, \"n\": 5321}, {\"threshold\": 0.16200000047683716, \"p\": 28151, \"fpr\": 0.3980454801728998, \"tpr\": 0.9704450996412206, \"n\": 5321}, {\"threshold\": 0.16300000250339508, \"p\": 28151, \"fpr\": 0.39766961097538056, \"tpr\": 0.9703385314908884, \"n\": 5321}, {\"threshold\": 0.164000004529953, \"p\": 28151, \"fpr\": 0.3967299379815824, \"tpr\": 0.9703385314908884, \"n\": 5321}, {\"threshold\": 0.16500000655651093, \"p\": 28151, \"fpr\": 0.3959781995865439, \"tpr\": 0.9702319633405563, \"n\": 5321}, {\"threshold\": 0.16599999368190765, \"p\": 28151, \"fpr\": 0.3956023303890246, \"tpr\": 0.9701253951902241, \"n\": 5321}, {\"threshold\": 0.16699999570846558, \"p\": 28151, \"fpr\": 0.39522646119150534, \"tpr\": 0.9700188270398921, \"n\": 5321}, {\"threshold\": 0.1679999977350235, \"p\": 28151, \"fpr\": 0.3948505919939861, \"tpr\": 0.9699477816063372, \"n\": 5321}, {\"threshold\": 0.16899999976158142, \"p\": 28151, \"fpr\": 0.3940988535989476, \"tpr\": 0.9698412134560052, \"n\": 5321}, {\"threshold\": 0.17000000178813934, \"p\": 28151, \"fpr\": 0.3925953768088705, \"tpr\": 0.969734645305673, \"n\": 5321}, {\"threshold\": 0.17100000381469727, \"p\": 28151, \"fpr\": 0.3914677692163127, \"tpr\": 0.9696991225888956, \"n\": 5321}, {\"threshold\": 0.1720000058412552, \"p\": 28151, \"fpr\": 0.39109190001879346, \"tpr\": 0.9695925544385635, \"n\": 5321}, {\"threshold\": 0.17299999296665192, \"p\": 28151, \"fpr\": 0.3901522270249953, \"tpr\": 0.9695925544385635, \"n\": 5321}, {\"threshold\": 0.17399999499320984, \"p\": 28151, \"fpr\": 0.3901522270249953, \"tpr\": 0.9694859862882313, \"n\": 5321}, {\"threshold\": 0.17499999701976776, \"p\": 28151, \"fpr\": 0.38996429242623565, \"tpr\": 0.9693794181378992, \"n\": 5321}, {\"threshold\": 0.17599999904632568, \"p\": 28151, \"fpr\": 0.38921255403119714, \"tpr\": 0.969272849987567, \"n\": 5321}, {\"threshold\": 0.1770000010728836, \"p\": 28151, \"fpr\": 0.3877090772411201, \"tpr\": 0.9692018045540123, \"n\": 5321}, {\"threshold\": 0.17800000309944153, \"p\": 28151, \"fpr\": 0.3869573388460816, \"tpr\": 0.9690952364036801, \"n\": 5321}, {\"threshold\": 0.17900000512599945, \"p\": 28151, \"fpr\": 0.3865814696485623, \"tpr\": 0.9690241909701254, \"n\": 5321}, {\"threshold\": 0.18000000715255737, \"p\": 28151, \"fpr\": 0.38564179665476417, \"tpr\": 0.9689176228197932, \"n\": 5321}, {\"threshold\": 0.1809999942779541, \"p\": 28151, \"fpr\": 0.38507799285848526, \"tpr\": 0.9688110546694612, \"n\": 5321}, {\"threshold\": 0.18199999630451202, \"p\": 28151, \"fpr\": 0.3843262544634467, \"tpr\": 0.9685979183687968, \"n\": 5321}, {\"threshold\": 0.18299999833106995, \"p\": 28151, \"fpr\": 0.3835745160684082, \"tpr\": 0.9684558275016873, \"n\": 5321}, {\"threshold\": 0.18400000035762787, \"p\": 28151, \"fpr\": 0.38319864687088895, \"tpr\": 0.9683137366345778, \"n\": 5321}, {\"threshold\": 0.1850000023841858, \"p\": 28151, \"fpr\": 0.38263484307461004, \"tpr\": 0.9682782139178004, \"n\": 5321}, {\"threshold\": 0.1860000044107437, \"p\": 28151, \"fpr\": 0.3816951700808119, \"tpr\": 0.968242691201023, \"n\": 5321}, {\"threshold\": 0.18700000643730164, \"p\": 28151, \"fpr\": 0.3805675624882541, \"tpr\": 0.9680650776171361, \"n\": 5321}, {\"threshold\": 0.18799999356269836, \"p\": 28151, \"fpr\": 0.3805675624882541, \"tpr\": 0.9680295549003588, \"n\": 5321}, {\"threshold\": 0.1889999955892563, \"p\": 28151, \"fpr\": 0.3801916932907348, \"tpr\": 0.9679585094668041, \"n\": 5321}, {\"threshold\": 0.1899999976158142, \"p\": 28151, \"fpr\": 0.37981582409321557, \"tpr\": 0.9678164185996945, \"n\": 5321}, {\"threshold\": 0.19099999964237213, \"p\": 28151, \"fpr\": 0.37925202029693666, \"tpr\": 0.9677453731661397, \"n\": 5321}, {\"threshold\": 0.19200000166893005, \"p\": 28151, \"fpr\": 0.379064085698177, \"tpr\": 0.9676388050158076, \"n\": 5321}, {\"threshold\": 0.19300000369548798, \"p\": 28151, \"fpr\": 0.37850028190189816, \"tpr\": 0.9675677595822528, \"n\": 5321}, {\"threshold\": 0.1940000057220459, \"p\": 28151, \"fpr\": 0.37812441270437885, \"tpr\": 0.9674967141486981, \"n\": 5321}, {\"threshold\": 0.19499999284744263, \"p\": 28151, \"fpr\": 0.3777485435068596, \"tpr\": 0.9673901459983659, \"n\": 5321}, {\"threshold\": 0.19599999487400055, \"p\": 28151, \"fpr\": 0.37737267430934035, \"tpr\": 0.9673191005648112, \"n\": 5321}, {\"threshold\": 0.19699999690055847, \"p\": 28151, \"fpr\": 0.3771847397105807, \"tpr\": 0.9672835778480339, \"n\": 5321}, {\"threshold\": 0.1979999989271164, \"p\": 28151, \"fpr\": 0.3769968051118211, \"tpr\": 0.9672480551312564, \"n\": 5321}, {\"threshold\": 0.19900000095367432, \"p\": 28151, \"fpr\": 0.37662093591430185, \"tpr\": 0.9671414869809243, \"n\": 5321}, {\"threshold\": 0.20000000298023224, \"p\": 28151, \"fpr\": 0.3758691975192633, \"tpr\": 0.967105964264147, \"n\": 5321}, {\"threshold\": 0.20100000500679016, \"p\": 28151, \"fpr\": 0.3753053937229844, \"tpr\": 0.9670704415473695, \"n\": 5321}, {\"threshold\": 0.20200000703334808, \"p\": 28151, \"fpr\": 0.37492952452546513, \"tpr\": 0.9669993961138148, \"n\": 5321}, {\"threshold\": 0.2029999941587448, \"p\": 28151, \"fpr\": 0.37492952452546513, \"tpr\": 0.9669638733970374, \"n\": 5321}, {\"threshold\": 0.20399999618530273, \"p\": 28151, \"fpr\": 0.3743657207291862, \"tpr\": 0.9668217825299279, \"n\": 5321}, {\"threshold\": 0.20499999821186066, \"p\": 28151, \"fpr\": 0.37323811313662847, \"tpr\": 0.9666796916628184, \"n\": 5321}, {\"threshold\": 0.20600000023841858, \"p\": 28151, \"fpr\": 0.3722984401428303, \"tpr\": 0.9665376007957088, \"n\": 5321}, {\"threshold\": 0.2070000022649765, \"p\": 28151, \"fpr\": 0.371922570945311, \"tpr\": 0.9665376007957088, \"n\": 5321}, {\"threshold\": 0.20800000429153442, \"p\": 28151, \"fpr\": 0.37154670174779175, \"tpr\": 0.9664310326453767, \"n\": 5321}, {\"threshold\": 0.20900000631809235, \"p\": 28151, \"fpr\": 0.3706070287539936, \"tpr\": 0.9663599872118219, \"n\": 5321}, {\"threshold\": 0.20999999344348907, \"p\": 28151, \"fpr\": 0.3692914865626762, \"tpr\": 0.9662889417782672, \"n\": 5321}, {\"threshold\": 0.210999995470047, \"p\": 28151, \"fpr\": 0.36891561736515693, \"tpr\": 0.966182373627935, \"n\": 5321}, {\"threshold\": 0.21199999749660492, \"p\": 28151, \"fpr\": 0.3687276827663973, \"tpr\": 0.9659692373272708, \"n\": 5321}, {\"threshold\": 0.21299999952316284, \"p\": 28151, \"fpr\": 0.36835181356887803, \"tpr\": 0.9658626691769386, \"n\": 5321}, {\"threshold\": 0.21400000154972076, \"p\": 28151, \"fpr\": 0.3679759443713588, \"tpr\": 0.9656850555930517, \"n\": 5321}, {\"threshold\": 0.2150000035762787, \"p\": 28151, \"fpr\": 0.36741214057507987, \"tpr\": 0.965614010159497, \"n\": 5321}, {\"threshold\": 0.2160000056028366, \"p\": 28151, \"fpr\": 0.3664724675812817, \"tpr\": 0.9655429647259423, \"n\": 5321}, {\"threshold\": 0.21699999272823334, \"p\": 28151, \"fpr\": 0.36609659838376246, \"tpr\": 0.9655429647259423, \"n\": 5321}, {\"threshold\": 0.21799999475479126, \"p\": 28151, \"fpr\": 0.36496899079120465, \"tpr\": 0.9655429647259423, \"n\": 5321}, {\"threshold\": 0.21899999678134918, \"p\": 28151, \"fpr\": 0.36421725239616615, \"tpr\": 0.9655074420091648, \"n\": 5321}, {\"threshold\": 0.2199999988079071, \"p\": 28151, \"fpr\": 0.363277579402368, \"tpr\": 0.9654719192923875, \"n\": 5321}, {\"threshold\": 0.22100000083446503, \"p\": 28151, \"fpr\": 0.3627137756060891, \"tpr\": 0.9653653511420554, \"n\": 5321}, {\"threshold\": 0.22200000286102295, \"p\": 28151, \"fpr\": 0.36252584100732943, \"tpr\": 0.9653653511420554, \"n\": 5321}, {\"threshold\": 0.22300000488758087, \"p\": 28151, \"fpr\": 0.3621499718098102, \"tpr\": 0.965152214841391, \"n\": 5321}, {\"threshold\": 0.2240000069141388, \"p\": 28151, \"fpr\": 0.361210298816012, \"tpr\": 0.965045646691059, \"n\": 5321}, {\"threshold\": 0.22499999403953552, \"p\": 28151, \"fpr\": 0.3604585604209735, \"tpr\": 0.9650101239742815, \"n\": 5321}, {\"threshold\": 0.22599999606609344, \"p\": 28151, \"fpr\": 0.3598947566246946, \"tpr\": 0.9649035558239494, \"n\": 5321}, {\"threshold\": 0.22699999809265137, \"p\": 28151, \"fpr\": 0.35970682202593496, \"tpr\": 0.9646904195232852, \"n\": 5321}, {\"threshold\": 0.2280000001192093, \"p\": 28151, \"fpr\": 0.35914301822965605, \"tpr\": 0.9646193740897304, \"n\": 5321}, {\"threshold\": 0.2290000021457672, \"p\": 28151, \"fpr\": 0.35839127983461755, \"tpr\": 0.964583851372953, \"n\": 5321}, {\"threshold\": 0.23000000417232513, \"p\": 28151, \"fpr\": 0.3580154106370983, \"tpr\": 0.9645483286561757, \"n\": 5321}, {\"threshold\": 0.23100000619888306, \"p\": 28151, \"fpr\": 0.35726367224205974, \"tpr\": 0.9644417605058435, \"n\": 5321}, {\"threshold\": 0.23199999332427979, \"p\": 28151, \"fpr\": 0.3563239992482616, \"tpr\": 0.9643707150722888, \"n\": 5321}, {\"threshold\": 0.2329999953508377, \"p\": 28151, \"fpr\": 0.35594813005074233, \"tpr\": 0.9642641469219566, \"n\": 5321}, {\"threshold\": 0.23399999737739563, \"p\": 28151, \"fpr\": 0.3555722608532231, \"tpr\": 0.9641931014884019, \"n\": 5321}, {\"threshold\": 0.23499999940395355, \"p\": 28151, \"fpr\": 0.3553843262544634, \"tpr\": 0.9641931014884019, \"n\": 5321}, {\"threshold\": 0.23600000143051147, \"p\": 28151, \"fpr\": 0.35444465326066527, \"tpr\": 0.9641575787716244, \"n\": 5321}, {\"threshold\": 0.2370000034570694, \"p\": 28151, \"fpr\": 0.354068784063146, \"tpr\": 0.964122056054847, \"n\": 5321}, {\"threshold\": 0.23800000548362732, \"p\": 28151, \"fpr\": 0.35312911106934786, \"tpr\": 0.9640865333380697, \"n\": 5321}, {\"threshold\": 0.23899999260902405, \"p\": 28151, \"fpr\": 0.35256530727306895, \"tpr\": 0.9639799651877375, \"n\": 5321}, {\"threshold\": 0.23999999463558197, \"p\": 28151, \"fpr\": 0.35237737267430935, \"tpr\": 0.9636957834535185, \"n\": 5321}, {\"threshold\": 0.2409999966621399, \"p\": 28151, \"fpr\": 0.3516256342792708, \"tpr\": 0.963553692586409, \"n\": 5321}, {\"threshold\": 0.24199999868869781, \"p\": 28151, \"fpr\": 0.3514376996805112, \"tpr\": 0.9634826471528543, \"n\": 5321}, {\"threshold\": 0.24300000071525574, \"p\": 28151, \"fpr\": 0.35106183048299194, \"tpr\": 0.9633760790025221, \"n\": 5321}, {\"threshold\": 0.24400000274181366, \"p\": 28151, \"fpr\": 0.35068596128547264, \"tpr\": 0.9633050335689674, \"n\": 5321}, {\"threshold\": 0.24500000476837158, \"p\": 28151, \"fpr\": 0.3497462882916745, \"tpr\": 0.9631984654186352, \"n\": 5321}, {\"threshold\": 0.2460000067949295, \"p\": 28151, \"fpr\": 0.34918248449539563, \"tpr\": 0.9630918972683031, \"n\": 5321}, {\"threshold\": 0.24699999392032623, \"p\": 28151, \"fpr\": 0.34918248449539563, \"tpr\": 0.9630208518347483, \"n\": 5321}, {\"threshold\": 0.24799999594688416, \"p\": 28151, \"fpr\": 0.3488066152978763, \"tpr\": 0.962985329117971, \"n\": 5321}, {\"threshold\": 0.24899999797344208, \"p\": 28151, \"fpr\": 0.34843074610035707, \"tpr\": 0.9629142836844162, \"n\": 5321}, {\"threshold\": 0.25, \"p\": 28151, \"fpr\": 0.3480548769028378, \"tpr\": 0.9628787609676388, \"n\": 5321}, {\"threshold\": 0.25099998712539673, \"p\": 28151, \"fpr\": 0.34767900770531857, \"tpr\": 0.9628432382508614, \"n\": 5321}, {\"threshold\": 0.25200000405311584, \"p\": 28151, \"fpr\": 0.3474910731065589, \"tpr\": 0.9627366701005293, \"n\": 5321}, {\"threshold\": 0.2529999911785126, \"p\": 28151, \"fpr\": 0.34711520390903966, \"tpr\": 0.9626656246669746, \"n\": 5321}, {\"threshold\": 0.2540000081062317, \"p\": 28151, \"fpr\": 0.3467393347115204, \"tpr\": 0.9626301019501972, \"n\": 5321}, {\"threshold\": 0.2549999952316284, \"p\": 28151, \"fpr\": 0.3463634655140011, \"tpr\": 0.9625945792334197, \"n\": 5321}, {\"threshold\": 0.25600001215934753, \"p\": 28151, \"fpr\": 0.3456117271189626, \"tpr\": 0.9624880110830877, \"n\": 5321}, {\"threshold\": 0.25699999928474426, \"p\": 28151, \"fpr\": 0.34523585792144335, \"tpr\": 0.9624169656495328, \"n\": 5321}, {\"threshold\": 0.257999986410141, \"p\": 28151, \"fpr\": 0.3450479233226837, \"tpr\": 0.9623459202159781, \"n\": 5321}, {\"threshold\": 0.2590000033378601, \"p\": 28151, \"fpr\": 0.34392031573012594, \"tpr\": 0.9622748747824234, \"n\": 5321}, {\"threshold\": 0.25999999046325684, \"p\": 28151, \"fpr\": 0.3437323811313663, \"tpr\": 0.9622038293488686, \"n\": 5321}, {\"threshold\": 0.26100000739097595, \"p\": 28151, \"fpr\": 0.3437323811313663, \"tpr\": 0.9621327839153139, \"n\": 5321}, {\"threshold\": 0.2619999945163727, \"p\": 28151, \"fpr\": 0.34335651193384703, \"tpr\": 0.9621327839153139, \"n\": 5321}, {\"threshold\": 0.2630000114440918, \"p\": 28151, \"fpr\": 0.3427927081375681, \"tpr\": 0.9620617384817591, \"n\": 5321}, {\"threshold\": 0.2639999985694885, \"p\": 28151, \"fpr\": 0.3424168389400489, \"tpr\": 0.961955170331427, \"n\": 5321}, {\"threshold\": 0.26499998569488525, \"p\": 28151, \"fpr\": 0.34185303514376997, \"tpr\": 0.9619196476146495, \"n\": 5321}, {\"threshold\": 0.26600000262260437, \"p\": 28151, \"fpr\": 0.3416651005450103, \"tpr\": 0.9617420340307626, \"n\": 5321}, {\"threshold\": 0.2669999897480011, \"p\": 28151, \"fpr\": 0.34072542755121216, \"tpr\": 0.9617065113139853, \"n\": 5321}, {\"threshold\": 0.2680000066757202, \"p\": 28151, \"fpr\": 0.3403495583536929, \"tpr\": 0.9616354658804306, \"n\": 5321}, {\"threshold\": 0.26899999380111694, \"p\": 28151, \"fpr\": 0.33997368915617365, \"tpr\": 0.9615644204468757, \"n\": 5321}, {\"threshold\": 0.27000001072883606, \"p\": 28151, \"fpr\": 0.33997368915617365, \"tpr\": 0.9615644204468757, \"n\": 5321}, {\"threshold\": 0.2709999978542328, \"p\": 28151, \"fpr\": 0.339785754557414, \"tpr\": 0.9614223295797663, \"n\": 5321}, {\"threshold\": 0.2720000147819519, \"p\": 28151, \"fpr\": 0.3390340161623755, \"tpr\": 0.9613868068629888, \"n\": 5321}, {\"threshold\": 0.27300000190734863, \"p\": 28151, \"fpr\": 0.3384702123660966, \"tpr\": 0.9613512841462115, \"n\": 5321}, {\"threshold\": 0.27399998903274536, \"p\": 28151, \"fpr\": 0.3379064085698177, \"tpr\": 0.9612802387126568, \"n\": 5321}, {\"threshold\": 0.2750000059604645, \"p\": 28151, \"fpr\": 0.33734260477353883, \"tpr\": 0.9611736705623246, \"n\": 5321}, {\"threshold\": 0.2759999930858612, \"p\": 28151, \"fpr\": 0.3369667355760195, \"tpr\": 0.9611381478455472, \"n\": 5321}, {\"threshold\": 0.2770000100135803, \"p\": 28151, \"fpr\": 0.3365908663785003, \"tpr\": 0.9611381478455472, \"n\": 5321}, {\"threshold\": 0.27799999713897705, \"p\": 28151, \"fpr\": 0.336214997180981, \"tpr\": 0.9611026251287699, \"n\": 5321}, {\"threshold\": 0.27900001406669617, \"p\": 28151, \"fpr\": 0.3356511933847021, \"tpr\": 0.9610671024119924, \"n\": 5321}, {\"threshold\": 0.2800000011920929, \"p\": 28151, \"fpr\": 0.3354632587859425, \"tpr\": 0.9610315796952151, \"n\": 5321}, {\"threshold\": 0.2809999883174896, \"p\": 28151, \"fpr\": 0.3350873895884232, \"tpr\": 0.960925011544883, \"n\": 5321}, {\"threshold\": 0.28200000524520874, \"p\": 28151, \"fpr\": 0.3350873895884232, \"tpr\": 0.9608894888281055, \"n\": 5321}, {\"threshold\": 0.28299999237060547, \"p\": 28151, \"fpr\": 0.33414771659462505, \"tpr\": 0.9607473979609961, \"n\": 5321}, {\"threshold\": 0.2840000092983246, \"p\": 28151, \"fpr\": 0.3337718473971058, \"tpr\": 0.9606408298106639, \"n\": 5321}, {\"threshold\": 0.2849999964237213, \"p\": 28151, \"fpr\": 0.3332080436008269, \"tpr\": 0.9604987389435544, \"n\": 5321}, {\"threshold\": 0.28600001335144043, \"p\": 28151, \"fpr\": 0.3330201090020673, \"tpr\": 0.960463216226777, \"n\": 5321}, {\"threshold\": 0.28700000047683716, \"p\": 28151, \"fpr\": 0.3324563052057884, \"tpr\": 0.9603211253596675, \"n\": 5321}, {\"threshold\": 0.2879999876022339, \"p\": 28151, \"fpr\": 0.3318925014095095, \"tpr\": 0.9602145572093354, \"n\": 5321}, {\"threshold\": 0.289000004529953, \"p\": 28151, \"fpr\": 0.33151663221199024, \"tpr\": 0.9601079890590032, \"n\": 5321}, {\"threshold\": 0.28999999165534973, \"p\": 28151, \"fpr\": 0.331140763014471, \"tpr\": 0.9599658981918937, \"n\": 5321}, {\"threshold\": 0.29100000858306885, \"p\": 28151, \"fpr\": 0.3305769592181921, \"tpr\": 0.959894852758339, \"n\": 5321}, {\"threshold\": 0.2919999957084656, \"p\": 28151, \"fpr\": 0.3302010900206728, \"tpr\": 0.9597882846080068, \"n\": 5321}, {\"threshold\": 0.2930000126361847, \"p\": 28151, \"fpr\": 0.3298252208231535, \"tpr\": 0.9596817164576746, \"n\": 5321}, {\"threshold\": 0.2939999997615814, \"p\": 28151, \"fpr\": 0.3298252208231535, \"tpr\": 0.9595396255905652, \"n\": 5321}, {\"threshold\": 0.29499998688697815, \"p\": 28151, \"fpr\": 0.3296372862243939, \"tpr\": 0.959433057440233, \"n\": 5321}, {\"threshold\": 0.29600000381469727, \"p\": 28151, \"fpr\": 0.329073482428115, \"tpr\": 0.9593975347234557, \"n\": 5321}, {\"threshold\": 0.296999990940094, \"p\": 28151, \"fpr\": 0.3283217440330765, \"tpr\": 0.9593264892899009, \"n\": 5321}, {\"threshold\": 0.2980000078678131, \"p\": 28151, \"fpr\": 0.32813380943431686, \"tpr\": 0.9592199211395688, \"n\": 5321}, {\"threshold\": 0.29899999499320984, \"p\": 28151, \"fpr\": 0.32757000563803795, \"tpr\": 0.959148875706014, \"n\": 5321}, {\"threshold\": 0.30000001192092896, \"p\": 28151, \"fpr\": 0.32738207103927836, \"tpr\": 0.9590067848389044, \"n\": 5321}, {\"threshold\": 0.3009999990463257, \"p\": 28151, \"fpr\": 0.3266303326442398, \"tpr\": 0.9589712621221271, \"n\": 5321}, {\"threshold\": 0.3019999861717224, \"p\": 28151, \"fpr\": 0.3264423980454802, \"tpr\": 0.958864693971795, \"n\": 5321}, {\"threshold\": 0.30300000309944153, \"p\": 28151, \"fpr\": 0.3258785942492013, \"tpr\": 0.9588291712550175, \"n\": 5321}, {\"threshold\": 0.30399999022483826, \"p\": 28151, \"fpr\": 0.32550272505168204, \"tpr\": 0.9587226031046855, \"n\": 5321}, {\"threshold\": 0.3050000071525574, \"p\": 28151, \"fpr\": 0.32493892125540313, \"tpr\": 0.9586160349543533, \"n\": 5321}, {\"threshold\": 0.3059999942779541, \"p\": 28151, \"fpr\": 0.32437511745912423, \"tpr\": 0.9585094668040212, \"n\": 5321}, {\"threshold\": 0.3070000112056732, \"p\": 28151, \"fpr\": 0.32437511745912423, \"tpr\": 0.9584384213704664, \"n\": 5321}, {\"threshold\": 0.30799999833106995, \"p\": 28151, \"fpr\": 0.323999248261605, \"tpr\": 0.9584384213704664, \"n\": 5321}, {\"threshold\": 0.3089999854564667, \"p\": 28151, \"fpr\": 0.3230595752678068, \"tpr\": 0.9584384213704664, \"n\": 5321}, {\"threshold\": 0.3100000023841858, \"p\": 28151, \"fpr\": 0.32287164066904717, \"tpr\": 0.9582608077865795, \"n\": 5321}, {\"threshold\": 0.3109999895095825, \"p\": 28151, \"fpr\": 0.32211990227400866, \"tpr\": 0.9582252850698021, \"n\": 5321}, {\"threshold\": 0.31200000643730164, \"p\": 28151, \"fpr\": 0.321931967675249, \"tpr\": 0.95811871691947, \"n\": 5321}, {\"threshold\": 0.31299999356269836, \"p\": 28151, \"fpr\": 0.32155609847772976, \"tpr\": 0.9580121487691379, \"n\": 5321}, {\"threshold\": 0.3140000104904175, \"p\": 28151, \"fpr\": 0.32099229468145085, \"tpr\": 0.9579411033355831, \"n\": 5321}, {\"threshold\": 0.3149999976158142, \"p\": 28151, \"fpr\": 0.31986468708889304, \"tpr\": 0.957834535185251, \"n\": 5321}, {\"threshold\": 0.3160000145435333, \"p\": 28151, \"fpr\": 0.3194888178913738, \"tpr\": 0.9576924443181415, \"n\": 5321}, {\"threshold\": 0.31700000166893005, \"p\": 28151, \"fpr\": 0.3187370794963353, \"tpr\": 0.9575503534510319, \"n\": 5321}, {\"threshold\": 0.3179999887943268, \"p\": 28151, \"fpr\": 0.31854914489757563, \"tpr\": 0.9574793080174772, \"n\": 5321}, {\"threshold\": 0.3190000057220459, \"p\": 28151, \"fpr\": 0.3181732757000564, \"tpr\": 0.9573372171503677, \"n\": 5321}, {\"threshold\": 0.3199999928474426, \"p\": 28151, \"fpr\": 0.3179853411012967, \"tpr\": 0.9572661717168129, \"n\": 5321}, {\"threshold\": 0.32100000977516174, \"p\": 28151, \"fpr\": 0.3177974065025371, \"tpr\": 0.9571951262832581, \"n\": 5321}, {\"threshold\": 0.32199999690055847, \"p\": 28151, \"fpr\": 0.3174215373050179, \"tpr\": 0.9569819899825939, \"n\": 5321}, {\"threshold\": 0.3230000138282776, \"p\": 28151, \"fpr\": 0.3172336027062582, \"tpr\": 0.9569819899825939, \"n\": 5321}, {\"threshold\": 0.3240000009536743, \"p\": 28151, \"fpr\": 0.31704566810749857, \"tpr\": 0.9569109445490391, \"n\": 5321}, {\"threshold\": 0.32499998807907104, \"p\": 28151, \"fpr\": 0.3166697989099793, \"tpr\": 0.9568398991154844, \"n\": 5321}, {\"threshold\": 0.32600000500679016, \"p\": 28151, \"fpr\": 0.31629392971246006, \"tpr\": 0.9567333309651522, \"n\": 5321}, {\"threshold\": 0.3269999921321869, \"p\": 28151, \"fpr\": 0.3159180605149408, \"tpr\": 0.9566978082483748, \"n\": 5321}, {\"threshold\": 0.328000009059906, \"p\": 28151, \"fpr\": 0.314790452922383, \"tpr\": 0.9566622855315975, \"n\": 5321}, {\"threshold\": 0.32899999618530273, \"p\": 28151, \"fpr\": 0.3140387145273445, \"tpr\": 0.9565912400980427, \"n\": 5321}, {\"threshold\": 0.33000001311302185, \"p\": 28151, \"fpr\": 0.31328697613230594, \"tpr\": 0.9565557173812653, \"n\": 5321}, {\"threshold\": 0.3310000002384186, \"p\": 28151, \"fpr\": 0.3129111069347867, \"tpr\": 0.9565201946644879, \"n\": 5321}, {\"threshold\": 0.3319999873638153, \"p\": 28151, \"fpr\": 0.3127231723360271, \"tpr\": 0.9564136265141558, \"n\": 5321}, {\"threshold\": 0.3330000042915344, \"p\": 28151, \"fpr\": 0.31253523773726744, \"tpr\": 0.956342581080601, \"n\": 5321}, {\"threshold\": 0.33399999141693115, \"p\": 28151, \"fpr\": 0.3115955647434693, \"tpr\": 0.956342581080601, \"n\": 5321}, {\"threshold\": 0.33500000834465027, \"p\": 28151, \"fpr\": 0.31121969554595, \"tpr\": 0.9563070583638237, \"n\": 5321}, {\"threshold\": 0.335999995470047, \"p\": 28151, \"fpr\": 0.3108438263484307, \"tpr\": 0.9562715356470463, \"n\": 5321}, {\"threshold\": 0.3370000123977661, \"p\": 28151, \"fpr\": 0.31046795715091147, \"tpr\": 0.9561294447799368, \"n\": 5321}, {\"threshold\": 0.33799999952316284, \"p\": 28151, \"fpr\": 0.3100920879533922, \"tpr\": 0.9560228766296046, \"n\": 5321}, {\"threshold\": 0.33899998664855957, \"p\": 28151, \"fpr\": 0.30971621875587296, \"tpr\": 0.9559873539128273, \"n\": 5321}, {\"threshold\": 0.3400000035762787, \"p\": 28151, \"fpr\": 0.3087765457620748, \"tpr\": 0.9558452630457177, \"n\": 5321}, {\"threshold\": 0.3409999907016754, \"p\": 28151, \"fpr\": 0.30858861116331515, \"tpr\": 0.955774217612163, \"n\": 5321}, {\"threshold\": 0.34200000762939453, \"p\": 28151, \"fpr\": 0.30783687276827665, \"tpr\": 0.9556676494618308, \"n\": 5321}, {\"threshold\": 0.34299999475479126, \"p\": 28151, \"fpr\": 0.30783687276827665, \"tpr\": 0.9555610813114988, \"n\": 5321}, {\"threshold\": 0.3440000116825104, \"p\": 28151, \"fpr\": 0.307648938169517, \"tpr\": 0.9553479450108344, \"n\": 5321}, {\"threshold\": 0.3449999988079071, \"p\": 28151, \"fpr\": 0.3070851343732381, \"tpr\": 0.9552768995772797, \"n\": 5321}, {\"threshold\": 0.34599998593330383, \"p\": 28151, \"fpr\": 0.3068971997744785, \"tpr\": 0.9552413768605023, \"n\": 5321}, {\"threshold\": 0.34700000286102295, \"p\": 28151, \"fpr\": 0.30614546137943993, \"tpr\": 0.9550637632766154, \"n\": 5321}, {\"threshold\": 0.3479999899864197, \"p\": 28151, \"fpr\": 0.30595752678068033, \"tpr\": 0.955028240559838, \"n\": 5321}, {\"threshold\": 0.3490000069141388, \"p\": 28151, \"fpr\": 0.3057695921819207, \"tpr\": 0.9549216724095059, \"n\": 5321}, {\"threshold\": 0.3499999940395355, \"p\": 28151, \"fpr\": 0.3057695921819207, \"tpr\": 0.9548506269759511, \"n\": 5321}, {\"threshold\": 0.35100001096725464, \"p\": 28151, \"fpr\": 0.3048299191881225, \"tpr\": 0.954744058825619, \"n\": 5321}, {\"threshold\": 0.35199999809265137, \"p\": 28151, \"fpr\": 0.3046419845893629, \"tpr\": 0.9547085361088417, \"n\": 5321}, {\"threshold\": 0.3529999852180481, \"p\": 28151, \"fpr\": 0.304078180793084, \"tpr\": 0.9545664452417321, \"n\": 5321}, {\"threshold\": 0.3540000021457672, \"p\": 28151, \"fpr\": 0.30389024619432436, \"tpr\": 0.9544953998081773, \"n\": 5321}, {\"threshold\": 0.35499998927116394, \"p\": 28151, \"fpr\": 0.30389024619432436, \"tpr\": 0.9543888316578452, \"n\": 5321}, {\"threshold\": 0.35600000619888306, \"p\": 28151, \"fpr\": 0.30370231159556477, \"tpr\": 0.9543533089410678, \"n\": 5321}, {\"threshold\": 0.3569999933242798, \"p\": 28151, \"fpr\": 0.30313850779928586, \"tpr\": 0.9542467407907357, \"n\": 5321}, {\"threshold\": 0.3580000102519989, \"p\": 28151, \"fpr\": 0.3029505732005262, \"tpr\": 0.9541756953571809, \"n\": 5321}, {\"threshold\": 0.35899999737739563, \"p\": 28151, \"fpr\": 0.3029505732005262, \"tpr\": 0.9540691272068488, \"n\": 5321}, {\"threshold\": 0.36000001430511475, \"p\": 28151, \"fpr\": 0.3021988348054877, \"tpr\": 0.953998081773294, \"n\": 5321}, {\"threshold\": 0.3610000014305115, \"p\": 28151, \"fpr\": 0.30201090020672805, \"tpr\": 0.9538915136229619, \"n\": 5321}, {\"threshold\": 0.3619999885559082, \"p\": 28151, \"fpr\": 0.30182296560796845, \"tpr\": 0.9538204681894071, \"n\": 5321}, {\"threshold\": 0.3630000054836273, \"p\": 28151, \"fpr\": 0.30144709641044914, \"tpr\": 0.9537849454726297, \"n\": 5321}, {\"threshold\": 0.36399999260902405, \"p\": 28151, \"fpr\": 0.30144709641044914, \"tpr\": 0.9537494227558524, \"n\": 5321}, {\"threshold\": 0.36500000953674316, \"p\": 28151, \"fpr\": 0.3010712272129299, \"tpr\": 0.9536783773222977, \"n\": 5321}, {\"threshold\": 0.3659999966621399, \"p\": 28151, \"fpr\": 0.30069535801541064, \"tpr\": 0.9536073318887428, \"n\": 5321}, {\"threshold\": 0.367000013589859, \"p\": 28151, \"fpr\": 0.3003194888178914, \"tpr\": 0.9535362864551881, \"n\": 5321}, {\"threshold\": 0.36800000071525574, \"p\": 28151, \"fpr\": 0.3003194888178914, \"tpr\": 0.9533586728713012, \"n\": 5321}, {\"threshold\": 0.36899998784065247, \"p\": 28151, \"fpr\": 0.3003194888178914, \"tpr\": 0.9532165820041917, \"n\": 5321}, {\"threshold\": 0.3700000047683716, \"p\": 28151, \"fpr\": 0.30013155421913174, \"tpr\": 0.9531455365706369, \"n\": 5321}, {\"threshold\": 0.3709999918937683, \"p\": 28151, \"fpr\": 0.30013155421913174, \"tpr\": 0.9530389684203048, \"n\": 5321}, {\"threshold\": 0.3720000088214874, \"p\": 28151, \"fpr\": 0.29994361962037214, \"tpr\": 0.9529324002699726, \"n\": 5321}, {\"threshold\": 0.37299999594688416, \"p\": 28151, \"fpr\": 0.29937981582409323, \"tpr\": 0.9529324002699726, \"n\": 5321}, {\"threshold\": 0.37400001287460327, \"p\": 28151, \"fpr\": 0.299003946626574, \"tpr\": 0.9528968775531953, \"n\": 5321}, {\"threshold\": 0.375, \"p\": 28151, \"fpr\": 0.2988160120278143, \"tpr\": 0.9527903094028631, \"n\": 5321}, {\"threshold\": 0.37599998712539673, \"p\": 28151, \"fpr\": 0.2982522082315354, \"tpr\": 0.9527547866860857, \"n\": 5321}, {\"threshold\": 0.37700000405311584, \"p\": 28151, \"fpr\": 0.29806427363277577, \"tpr\": 0.952683741252531, \"n\": 5321}, {\"threshold\": 0.3779999911785126, \"p\": 28151, \"fpr\": 0.2976884044352565, \"tpr\": 0.952399559518312, \"n\": 5321}, {\"threshold\": 0.3790000081062317, \"p\": 28151, \"fpr\": 0.2971246006389776, \"tpr\": 0.9523640368015346, \"n\": 5321}, {\"threshold\": 0.3799999952316284, \"p\": 28151, \"fpr\": 0.296936666040218, \"tpr\": 0.9522219459344251, \"n\": 5321}, {\"threshold\": 0.38100001215934753, \"p\": 28151, \"fpr\": 0.2963728622439391, \"tpr\": 0.9521509005008703, \"n\": 5321}, {\"threshold\": 0.38199999928474426, \"p\": 28151, \"fpr\": 0.2956211238489006, \"tpr\": 0.9520088096337608, \"n\": 5321}, {\"threshold\": 0.382999986410141, \"p\": 28151, \"fpr\": 0.29543318925014095, \"tpr\": 0.9517956733330966, \"n\": 5321}, {\"threshold\": 0.3840000033378601, \"p\": 28151, \"fpr\": 0.2952452546513813, \"tpr\": 0.9516891051827644, \"n\": 5321}, {\"threshold\": 0.38499999046325684, \"p\": 28151, \"fpr\": 0.2952452546513813, \"tpr\": 0.9515825370324322, \"n\": 5321}, {\"threshold\": 0.38600000739097595, \"p\": 28151, \"fpr\": 0.29411764705882354, \"tpr\": 0.9515470143156549, \"n\": 5321}, {\"threshold\": 0.3869999945163727, \"p\": 28151, \"fpr\": 0.2939297124600639, \"tpr\": 0.9515114915988775, \"n\": 5321}, {\"threshold\": 0.3880000114440918, \"p\": 28151, \"fpr\": 0.29299003946626573, \"tpr\": 0.951369400731768, \"n\": 5321}, {\"threshold\": 0.3889999985694885, \"p\": 28151, \"fpr\": 0.2922383010712272, \"tpr\": 0.9512983552982132, \"n\": 5321}, {\"threshold\": 0.38999998569488525, \"p\": 28151, \"fpr\": 0.29205036647246757, \"tpr\": 0.9512273098646584, \"n\": 5321}, {\"threshold\": 0.39100000262260437, \"p\": 28151, \"fpr\": 0.29148656267618867, \"tpr\": 0.9511562644311037, \"n\": 5321}, {\"threshold\": 0.3919999897480011, \"p\": 28151, \"fpr\": 0.2911106934786694, \"tpr\": 0.9510141735639942, \"n\": 5321}, {\"threshold\": 0.3930000066757202, \"p\": 28151, \"fpr\": 0.2903589550836309, \"tpr\": 0.9508010372633299, \"n\": 5321}, {\"threshold\": 0.39399999380111694, \"p\": 28151, \"fpr\": 0.28998308588611166, \"tpr\": 0.9507655145465526, \"n\": 5321}, {\"threshold\": 0.39500001072883606, \"p\": 28151, \"fpr\": 0.289795151287352, \"tpr\": 0.950623423679443, \"n\": 5321}, {\"threshold\": 0.3959999978542328, \"p\": 28151, \"fpr\": 0.28941928208983275, \"tpr\": 0.9505168555291109, \"n\": 5321}, {\"threshold\": 0.3970000147819519, \"p\": 28151, \"fpr\": 0.28885547829355385, \"tpr\": 0.9504458100955561, \"n\": 5321}, {\"threshold\": 0.39800000190734863, \"p\": 28151, \"fpr\": 0.2884796090960346, \"tpr\": 0.9504458100955561, \"n\": 5321}, {\"threshold\": 0.39899998903274536, \"p\": 28151, \"fpr\": 0.2884796090960346, \"tpr\": 0.9503747646620013, \"n\": 5321}, {\"threshold\": 0.4000000059604645, \"p\": 28151, \"fpr\": 0.2879158052997557, \"tpr\": 0.9502681965116692, \"n\": 5321}, {\"threshold\": 0.4009999930858612, \"p\": 28151, \"fpr\": 0.28697613230595753, \"tpr\": 0.9501616283613371, \"n\": 5321}, {\"threshold\": 0.4020000100135803, \"p\": 28151, \"fpr\": 0.2864123285096786, \"tpr\": 0.9500195374942275, \"n\": 5321}, {\"threshold\": 0.40299999713897705, \"p\": 28151, \"fpr\": 0.2858485247133997, \"tpr\": 0.9499484920606728, \"n\": 5321}, {\"threshold\": 0.40400001406669617, \"p\": 28151, \"fpr\": 0.2858485247133997, \"tpr\": 0.9499129693438955, \"n\": 5321}, {\"threshold\": 0.4050000011920929, \"p\": 28151, \"fpr\": 0.2858485247133997, \"tpr\": 0.9499129693438955, \"n\": 5321}, {\"threshold\": 0.4059999883174896, \"p\": 28151, \"fpr\": 0.2856605901146401, \"tpr\": 0.9498419239103406, \"n\": 5321}, {\"threshold\": 0.40700000524520874, \"p\": 28151, \"fpr\": 0.28547265551588047, \"tpr\": 0.9498419239103406, \"n\": 5321}, {\"threshold\": 0.40799999237060547, \"p\": 28151, \"fpr\": 0.28490885171960156, \"tpr\": 0.9497708784767859, \"n\": 5321}, {\"threshold\": 0.4090000092983246, \"p\": 28151, \"fpr\": 0.2845329825220823, \"tpr\": 0.9496643103264538, \"n\": 5321}, {\"threshold\": 0.4099999964237213, \"p\": 28151, \"fpr\": 0.28434504792332266, \"tpr\": 0.9496643103264538, \"n\": 5321}, {\"threshold\": 0.41100001335144043, \"p\": 28151, \"fpr\": 0.28415711332456306, \"tpr\": 0.9494156513090121, \"n\": 5321}, {\"threshold\": 0.41200000047683716, \"p\": 28151, \"fpr\": 0.28359330952828415, \"tpr\": 0.9493446058754573, \"n\": 5321}, {\"threshold\": 0.4129999876022339, \"p\": 28151, \"fpr\": 0.2832174403307649, \"tpr\": 0.9493446058754573, \"n\": 5321}, {\"threshold\": 0.414000004529953, \"p\": 28151, \"fpr\": 0.282653636534486, \"tpr\": 0.9492735604419026, \"n\": 5321}, {\"threshold\": 0.41499999165534973, \"p\": 28151, \"fpr\": 0.282653636534486, \"tpr\": 0.9492380377251253, \"n\": 5321}, {\"threshold\": 0.41600000858306885, \"p\": 28151, \"fpr\": 0.28227776733696675, \"tpr\": 0.9491669922915704, \"n\": 5321}, {\"threshold\": 0.4169999957084656, \"p\": 28151, \"fpr\": 0.28171396354068784, \"tpr\": 0.9490959468580157, \"n\": 5321}, {\"threshold\": 0.4180000126361847, \"p\": 28151, \"fpr\": 0.28171396354068784, \"tpr\": 0.9490604241412384, \"n\": 5321}, {\"threshold\": 0.4189999997615814, \"p\": 28151, \"fpr\": 0.2813380943431686, \"tpr\": 0.9489538559909062, \"n\": 5321}, {\"threshold\": 0.41999998688697815, \"p\": 28151, \"fpr\": 0.2813380943431686, \"tpr\": 0.9489183332741288, \"n\": 5321}, {\"threshold\": 0.42100000381469727, \"p\": 28151, \"fpr\": 0.28115015974440893, \"tpr\": 0.9488117651237966, \"n\": 5321}, {\"threshold\": 0.421999990940094, \"p\": 28151, \"fpr\": 0.28096222514564934, \"tpr\": 0.9487051969734646, \"n\": 5321}, {\"threshold\": 0.4230000078678131, \"p\": 28151, \"fpr\": 0.2807742905468897, \"tpr\": 0.9485986288231324, \"n\": 5321}, {\"threshold\": 0.42399999499320984, \"p\": 28151, \"fpr\": 0.2807742905468897, \"tpr\": 0.9484920606728002, \"n\": 5321}, {\"threshold\": 0.42500001192092896, \"p\": 28151, \"fpr\": 0.28058635594813003, \"tpr\": 0.9484565379560229, \"n\": 5321}, {\"threshold\": 0.4259999990463257, \"p\": 28151, \"fpr\": 0.2800225521518512, \"tpr\": 0.9484565379560229, \"n\": 5321}, {\"threshold\": 0.4269999861717224, \"p\": 28151, \"fpr\": 0.2794587483555723, \"tpr\": 0.9484565379560229, \"n\": 5321}, {\"threshold\": 0.42800000309944153, \"p\": 28151, \"fpr\": 0.2785190753617741, \"tpr\": 0.948278924372136, \"n\": 5321}, {\"threshold\": 0.42899999022483826, \"p\": 28151, \"fpr\": 0.27814320616425486, \"tpr\": 0.9481013107882491, \"n\": 5321}, {\"threshold\": 0.4300000071525574, \"p\": 28151, \"fpr\": 0.27757940236797596, \"tpr\": 0.9480302653546944, \"n\": 5321}, {\"threshold\": 0.4309999942779541, \"p\": 28151, \"fpr\": 0.2772035331704567, \"tpr\": 0.9479592199211395, \"n\": 5321}, {\"threshold\": 0.4320000112056732, \"p\": 28151, \"fpr\": 0.27645179477541815, \"tpr\": 0.9478526517708075, \"n\": 5321}, {\"threshold\": 0.43299999833106995, \"p\": 28151, \"fpr\": 0.2760759255778989, \"tpr\": 0.94781712905403, \"n\": 5321}, {\"threshold\": 0.4339999854564667, \"p\": 28151, \"fpr\": 0.27588799097913924, \"tpr\": 0.9477816063372527, \"n\": 5321}, {\"threshold\": 0.4350000023841858, \"p\": 28151, \"fpr\": 0.27551212178162, \"tpr\": 0.9477460836204753, \"n\": 5321}, {\"threshold\": 0.4359999895095825, \"p\": 28151, \"fpr\": 0.27551212178162, \"tpr\": 0.9476395154701431, \"n\": 5321}, {\"threshold\": 0.43700000643730164, \"p\": 28151, \"fpr\": 0.27513625258410074, \"tpr\": 0.947532947319811, \"n\": 5321}, {\"threshold\": 0.43799999356269836, \"p\": 28151, \"fpr\": 0.27457244878782183, \"tpr\": 0.9474619018862562, \"n\": 5321}, {\"threshold\": 0.4390000104904175, \"p\": 28151, \"fpr\": 0.27457244878782183, \"tpr\": 0.9474263791694789, \"n\": 5321}, {\"threshold\": 0.4399999976158142, \"p\": 28151, \"fpr\": 0.2740086449915429, \"tpr\": 0.9472842883023693, \"n\": 5321}, {\"threshold\": 0.4410000145435333, \"p\": 28151, \"fpr\": 0.2740086449915429, \"tpr\": 0.9471777201520373, \"n\": 5321}, {\"threshold\": 0.44200000166893005, \"p\": 28151, \"fpr\": 0.27382071039278333, \"tpr\": 0.9470356292849277, \"n\": 5321}, {\"threshold\": 0.4429999887943268, \"p\": 28151, \"fpr\": 0.2736327757940237, \"tpr\": 0.9470001065681504, \"n\": 5321}, {\"threshold\": 0.4440000057220459, \"p\": 28151, \"fpr\": 0.2726931028002255, \"tpr\": 0.9469645838513729, \"n\": 5321}, {\"threshold\": 0.4449999928474426, \"p\": 28151, \"fpr\": 0.2721292990039466, \"tpr\": 0.9469290611345956, \"n\": 5321}, {\"threshold\": 0.44600000977516174, \"p\": 28151, \"fpr\": 0.27175342980642736, \"tpr\": 0.9468224929842635, \"n\": 5321}, {\"threshold\": 0.44699999690055847, \"p\": 28151, \"fpr\": 0.2713775606089081, \"tpr\": 0.946786970267486, \"n\": 5321}, {\"threshold\": 0.4480000138282776, \"p\": 28151, \"fpr\": 0.27118962601014845, \"tpr\": 0.9465738339668218, \"n\": 5321}, {\"threshold\": 0.4490000009536743, \"p\": 28151, \"fpr\": 0.27100169141138886, \"tpr\": 0.9464317430997122, \"n\": 5321}, {\"threshold\": 0.44999998807907104, \"p\": 28151, \"fpr\": 0.27043788761510995, \"tpr\": 0.9463606976661575, \"n\": 5321}, {\"threshold\": 0.45100000500679016, \"p\": 28151, \"fpr\": 0.2696861492200714, \"tpr\": 0.9461830840822706, \"n\": 5321}, {\"threshold\": 0.4519999921321869, \"p\": 28151, \"fpr\": 0.2696861492200714, \"tpr\": 0.9460409932151611, \"n\": 5321}, {\"threshold\": 0.453000009059906, \"p\": 28151, \"fpr\": 0.26912234542379254, \"tpr\": 0.9460054704983837, \"n\": 5321}, {\"threshold\": 0.45399999618530273, \"p\": 28151, \"fpr\": 0.26912234542379254, \"tpr\": 0.9459344250648289, \"n\": 5321}, {\"threshold\": 0.45500001311302185, \"p\": 28151, \"fpr\": 0.2689344108250329, \"tpr\": 0.9458278569144968, \"n\": 5321}, {\"threshold\": 0.4560000002384186, \"p\": 28151, \"fpr\": 0.26874647622627323, \"tpr\": 0.9456857660473873, \"n\": 5321}, {\"threshold\": 0.4569999873638153, \"p\": 28151, \"fpr\": 0.26855854162751364, \"tpr\": 0.9455081524635004, \"n\": 5321}, {\"threshold\": 0.4580000042915344, \"p\": 28151, \"fpr\": 0.268370607028754, \"tpr\": 0.9453305388796135, \"n\": 5321}, {\"threshold\": 0.45899999141693115, \"p\": 28151, \"fpr\": 0.268370607028754, \"tpr\": 0.9452239707292813, \"n\": 5321}, {\"threshold\": 0.46000000834465027, \"p\": 28151, \"fpr\": 0.26799473783123473, \"tpr\": 0.9450108344286171, \"n\": 5321}, {\"threshold\": 0.460999995470047, \"p\": 28151, \"fpr\": 0.2678068032324751, \"tpr\": 0.9449397889950624, \"n\": 5321}, {\"threshold\": 0.4620000123977661, \"p\": 28151, \"fpr\": 0.2672429994361962, \"tpr\": 0.944726652694398, \"n\": 5321}, {\"threshold\": 0.46299999952316284, \"p\": 28151, \"fpr\": 0.2668671302386769, \"tpr\": 0.944620084544066, \"n\": 5321}, {\"threshold\": 0.46399998664855957, \"p\": 28151, \"fpr\": 0.2666791956399173, \"tpr\": 0.9445490391105111, \"n\": 5321}, {\"threshold\": 0.4650000035762787, \"p\": 28151, \"fpr\": 0.26649126104115767, \"tpr\": 0.9444069482434017, \"n\": 5321}, {\"threshold\": 0.4659999907016754, \"p\": 28151, \"fpr\": 0.26630332644239807, \"tpr\": 0.9443714255266242, \"n\": 5321}, {\"threshold\": 0.46700000762939453, \"p\": 28151, \"fpr\": 0.26592745724487876, \"tpr\": 0.9443003800930695, \"n\": 5321}, {\"threshold\": 0.46799999475479126, \"p\": 28151, \"fpr\": 0.26573952264611916, \"tpr\": 0.9441227665091826, \"n\": 5321}, {\"threshold\": 0.4690000116825104, \"p\": 28151, \"fpr\": 0.2649877842510806, \"tpr\": 0.9440872437924053, \"n\": 5321}, {\"threshold\": 0.4699999988079071, \"p\": 28151, \"fpr\": 0.2642360458560421, \"tpr\": 0.9440872437924053, \"n\": 5321}, {\"threshold\": 0.47099998593330383, \"p\": 28151, \"fpr\": 0.2642360458560421, \"tpr\": 0.9440517210756278, \"n\": 5321}, {\"threshold\": 0.47200000286102295, \"p\": 28151, \"fpr\": 0.2636722420597632, \"tpr\": 0.9438385847749636, \"n\": 5321}, {\"threshold\": 0.4729999899864197, \"p\": 28151, \"fpr\": 0.2634843074610036, \"tpr\": 0.943696493907854, \"n\": 5321}, {\"threshold\": 0.4740000069141388, \"p\": 28151, \"fpr\": 0.26254463446720544, \"tpr\": 0.9436254484742993, \"n\": 5321}, {\"threshold\": 0.4749999940395355, \"p\": 28151, \"fpr\": 0.2623566998684458, \"tpr\": 0.943589925757522, \"n\": 5321}, {\"threshold\": 0.47600001096725464, \"p\": 28151, \"fpr\": 0.2623566998684458, \"tpr\": 0.9434123121736351, \"n\": 5321}, {\"threshold\": 0.47699999809265137, \"p\": 28151, \"fpr\": 0.26216876526968613, \"tpr\": 0.9433057440233029, \"n\": 5321}, {\"threshold\": 0.4779999852180481, \"p\": 28151, \"fpr\": 0.26141702687464763, \"tpr\": 0.9432346985897482, \"n\": 5321}, {\"threshold\": 0.4790000021457672, \"p\": 28151, \"fpr\": 0.26141702687464763, \"tpr\": 0.9431636531561934, \"n\": 5321}, {\"threshold\": 0.47999998927116394, \"p\": 28151, \"fpr\": 0.2610411576771284, \"tpr\": 0.9430215622890838, \"n\": 5321}, {\"threshold\": 0.48100000619888306, \"p\": 28151, \"fpr\": 0.26047735388084947, \"tpr\": 0.9429505168555291, \"n\": 5321}, {\"threshold\": 0.4819999933242798, \"p\": 28151, \"fpr\": 0.2597256154858109, \"tpr\": 0.9429149941387517, \"n\": 5321}, {\"threshold\": 0.4830000102519989, \"p\": 28151, \"fpr\": 0.2595376808870513, \"tpr\": 0.9428084259884196, \"n\": 5321}, {\"threshold\": 0.48399999737739563, \"p\": 28151, \"fpr\": 0.25916181168953206, \"tpr\": 0.9425952896877553, \"n\": 5321}, {\"threshold\": 0.48500001430511475, \"p\": 28151, \"fpr\": 0.25878594249201275, \"tpr\": 0.9425242442542006, \"n\": 5321}, {\"threshold\": 0.4860000014305115, \"p\": 28151, \"fpr\": 0.25878594249201275, \"tpr\": 0.9423821533870911, \"n\": 5321}, {\"threshold\": 0.4869999885559082, \"p\": 28151, \"fpr\": 0.25859800789325316, \"tpr\": 0.9422045398032042, \"n\": 5321}, {\"threshold\": 0.4880000054836273, \"p\": 28151, \"fpr\": 0.25803420409697425, \"tpr\": 0.9422045398032042, \"n\": 5321}, {\"threshold\": 0.48899999260902405, \"p\": 28151, \"fpr\": 0.25803420409697425, \"tpr\": 0.942097971652872, \"n\": 5321}, {\"threshold\": 0.49000000953674316, \"p\": 28151, \"fpr\": 0.25728246570193575, \"tpr\": 0.9420269262193173, \"n\": 5321}, {\"threshold\": 0.4909999966621399, \"p\": 28151, \"fpr\": 0.25690659650441644, \"tpr\": 0.9419914035025398, \"n\": 5321}, {\"threshold\": 0.492000013589859, \"p\": 28151, \"fpr\": 0.25671866190565684, \"tpr\": 0.9419203580689851, \"n\": 5321}, {\"threshold\": 0.49300000071525574, \"p\": 28151, \"fpr\": 0.25671866190565684, \"tpr\": 0.9418493126354304, \"n\": 5321}, {\"threshold\": 0.49399998784065247, \"p\": 28151, \"fpr\": 0.25671866190565684, \"tpr\": 0.9417427444850982, \"n\": 5321}, {\"threshold\": 0.4950000047683716, \"p\": 28151, \"fpr\": 0.2565307273068972, \"tpr\": 0.9416716990515435, \"n\": 5321}, {\"threshold\": 0.4959999918937683, \"p\": 28151, \"fpr\": 0.2565307273068972, \"tpr\": 0.9414940854676566, \"n\": 5321}, {\"threshold\": 0.4970000088214874, \"p\": 28151, \"fpr\": 0.2563427927081376, \"tpr\": 0.9413164718837697, \"n\": 5321}, {\"threshold\": 0.49799999594688416, \"p\": 28151, \"fpr\": 0.25615485810937794, \"tpr\": 0.9411743810166602, \"n\": 5321}, {\"threshold\": 0.49900001287460327, \"p\": 28151, \"fpr\": 0.25615485810937794, \"tpr\": 0.9409967674327733, \"n\": 5321}, {\"threshold\": 0.5, \"p\": 28151, \"fpr\": 0.25559105431309903, \"tpr\": 0.9407836311321089, \"n\": 5321}, {\"threshold\": 0.5009999871253967, \"p\": 28151, \"fpr\": 0.2552151851155798, \"tpr\": 0.9407125856985542, \"n\": 5321}, {\"threshold\": 0.5019999742507935, \"p\": 28151, \"fpr\": 0.2548393159180605, \"tpr\": 0.9406770629817769, \"n\": 5321}, {\"threshold\": 0.503000020980835, \"p\": 28151, \"fpr\": 0.2542755121217816, \"tpr\": 0.9405349721146673, \"n\": 5321}, {\"threshold\": 0.5040000081062317, \"p\": 28151, \"fpr\": 0.25408757752302197, \"tpr\": 0.9403218358140031, \"n\": 5321}, {\"threshold\": 0.5049999952316284, \"p\": 28151, \"fpr\": 0.25408757752302197, \"tpr\": 0.9401797449468935, \"n\": 5321}, {\"threshold\": 0.5059999823570251, \"p\": 28151, \"fpr\": 0.25333583912798346, \"tpr\": 0.9401086995133388, \"n\": 5321}, {\"threshold\": 0.5070000290870667, \"p\": 28151, \"fpr\": 0.2529599699304642, \"tpr\": 0.9400021313630066, \"n\": 5321}, {\"threshold\": 0.5080000162124634, \"p\": 28151, \"fpr\": 0.2529599699304642, \"tpr\": 0.9398600404958971, \"n\": 5321}, {\"threshold\": 0.5090000033378601, \"p\": 28151, \"fpr\": 0.25258410073294496, \"tpr\": 0.9397534723455649, \"n\": 5321}, {\"threshold\": 0.5099999904632568, \"p\": 28151, \"fpr\": 0.2518323623379064, \"tpr\": 0.9397179496287876, \"n\": 5321}, {\"threshold\": 0.5109999775886536, \"p\": 28151, \"fpr\": 0.2512685585416275, \"tpr\": 0.9395403360449007, \"n\": 5321}, {\"threshold\": 0.5120000243186951, \"p\": 28151, \"fpr\": 0.2512685585416275, \"tpr\": 0.939469290611346, \"n\": 5321}, {\"threshold\": 0.5130000114440918, \"p\": 28151, \"fpr\": 0.25089268934410824, \"tpr\": 0.9393982451777912, \"n\": 5321}, {\"threshold\": 0.5139999985694885, \"p\": 28151, \"fpr\": 0.25089268934410824, \"tpr\": 0.9392206315939043, \"n\": 5321}, {\"threshold\": 0.5149999856948853, \"p\": 28151, \"fpr\": 0.2499530163503101, \"tpr\": 0.9391851088771269, \"n\": 5321}, {\"threshold\": 0.515999972820282, \"p\": 28151, \"fpr\": 0.24976508175155046, \"tpr\": 0.9391495861603495, \"n\": 5321}, {\"threshold\": 0.5170000195503235, \"p\": 28151, \"fpr\": 0.2493892125540312, \"tpr\": 0.9390430180100174, \"n\": 5321}, {\"threshold\": 0.5180000066757202, \"p\": 28151, \"fpr\": 0.2493892125540312, \"tpr\": 0.9390430180100174, \"n\": 5321}, {\"threshold\": 0.5189999938011169, \"p\": 28151, \"fpr\": 0.2493892125540312, \"tpr\": 0.9389719725764627, \"n\": 5321}, {\"threshold\": 0.5199999809265137, \"p\": 28151, \"fpr\": 0.24920127795527156, \"tpr\": 0.9389364498596853, \"n\": 5321}, {\"threshold\": 0.5210000276565552, \"p\": 28151, \"fpr\": 0.2488254087577523, \"tpr\": 0.9388654044261305, \"n\": 5321}, {\"threshold\": 0.5220000147819519, \"p\": 28151, \"fpr\": 0.2482616049614734, \"tpr\": 0.9386877908422436, \"n\": 5321}, {\"threshold\": 0.5230000019073486, \"p\": 28151, \"fpr\": 0.24788573576395415, \"tpr\": 0.9385812226919115, \"n\": 5321}, {\"threshold\": 0.5239999890327454, \"p\": 28151, \"fpr\": 0.24713399736891561, \"tpr\": 0.9384746545415793, \"n\": 5321}, {\"threshold\": 0.5249999761581421, \"p\": 28151, \"fpr\": 0.2465701935726367, \"tpr\": 0.9382615182409151, \"n\": 5321}, {\"threshold\": 0.5260000228881836, \"p\": 28151, \"fpr\": 0.24619432437511746, \"tpr\": 0.9382259955241377, \"n\": 5321}, {\"threshold\": 0.5270000100135803, \"p\": 28151, \"fpr\": 0.24600638977635783, \"tpr\": 0.9380839046570282, \"n\": 5321}, {\"threshold\": 0.527999997138977, \"p\": 28151, \"fpr\": 0.2452546513813193, \"tpr\": 0.937977336506696, \"n\": 5321}, {\"threshold\": 0.5289999842643738, \"p\": 28151, \"fpr\": 0.2446908475850404, \"tpr\": 0.9379062910731413, \"n\": 5321}, {\"threshold\": 0.5299999713897705, \"p\": 28151, \"fpr\": 0.24431497838752114, \"tpr\": 0.9378352456395865, \"n\": 5321}, {\"threshold\": 0.531000018119812, \"p\": 28151, \"fpr\": 0.24431497838752114, \"tpr\": 0.9376931547724769, \"n\": 5321}, {\"threshold\": 0.5320000052452087, \"p\": 28151, \"fpr\": 0.2439391091900019, \"tpr\": 0.9376931547724769, \"n\": 5321}, {\"threshold\": 0.5329999923706055, \"p\": 28151, \"fpr\": 0.24375117459124224, \"tpr\": 0.9376576320556996, \"n\": 5321}, {\"threshold\": 0.5339999794960022, \"p\": 28151, \"fpr\": 0.24337530539372298, \"tpr\": 0.9375865866221449, \"n\": 5321}, {\"threshold\": 0.5350000262260437, \"p\": 28151, \"fpr\": 0.24262356699868445, \"tpr\": 0.9373734503214806, \"n\": 5321}, {\"threshold\": 0.5360000133514404, \"p\": 28151, \"fpr\": 0.24243563239992483, \"tpr\": 0.9373024048879258, \"n\": 5321}, {\"threshold\": 0.5370000004768372, \"p\": 28151, \"fpr\": 0.2422476978011652, \"tpr\": 0.9372668821711484, \"n\": 5321}, {\"threshold\": 0.5379999876022339, \"p\": 28151, \"fpr\": 0.2422476978011652, \"tpr\": 0.9371247913040389, \"n\": 5321}, {\"threshold\": 0.5389999747276306, \"p\": 28151, \"fpr\": 0.24205976320240558, \"tpr\": 0.9370182231537068, \"n\": 5321}, {\"threshold\": 0.5400000214576721, \"p\": 28151, \"fpr\": 0.24187182860364592, \"tpr\": 0.9369827004369294, \"n\": 5321}, {\"threshold\": 0.5410000085830688, \"p\": 28151, \"fpr\": 0.2416838940048863, \"tpr\": 0.9369116550033747, \"n\": 5321}, {\"threshold\": 0.5419999957084656, \"p\": 28151, \"fpr\": 0.2416838940048863, \"tpr\": 0.9367695641362651, \"n\": 5321}, {\"threshold\": 0.5429999828338623, \"p\": 28151, \"fpr\": 0.24130802480736704, \"tpr\": 0.9367340414194878, \"n\": 5321}, {\"threshold\": 0.5440000295639038, \"p\": 28151, \"fpr\": 0.24074422101108814, \"tpr\": 0.9366629959859331, \"n\": 5321}, {\"threshold\": 0.5450000166893005, \"p\": 28151, \"fpr\": 0.24074422101108814, \"tpr\": 0.9366274732691556, \"n\": 5321}, {\"threshold\": 0.5460000038146973, \"p\": 28151, \"fpr\": 0.2399924826160496, \"tpr\": 0.9365209051188235, \"n\": 5321}, {\"threshold\": 0.546999990940094, \"p\": 28151, \"fpr\": 0.23980454801728998, \"tpr\": 0.9364498596852687, \"n\": 5321}, {\"threshold\": 0.5479999780654907, \"p\": 28151, \"fpr\": 0.23961661341853036, \"tpr\": 0.936378814251714, \"n\": 5321}, {\"threshold\": 0.5490000247955322, \"p\": 28151, \"fpr\": 0.23905280962225145, \"tpr\": 0.9362012006678271, \"n\": 5321}, {\"threshold\": 0.550000011920929, \"p\": 28151, \"fpr\": 0.2386769404247322, \"tpr\": 0.9361301552342723, \"n\": 5321}, {\"threshold\": 0.5509999990463257, \"p\": 28151, \"fpr\": 0.23830107122721292, \"tpr\": 0.9360235870839402, \"n\": 5321}, {\"threshold\": 0.5519999861717224, \"p\": 28151, \"fpr\": 0.23830107122721292, \"tpr\": 0.9359525416503854, \"n\": 5321}, {\"threshold\": 0.5529999732971191, \"p\": 28151, \"fpr\": 0.23792520202969367, \"tpr\": 0.9358814962168307, \"n\": 5321}, {\"threshold\": 0.5540000200271606, \"p\": 28151, \"fpr\": 0.23736139823341476, \"tpr\": 0.9357394053497211, \"n\": 5321}, {\"threshold\": 0.5550000071525574, \"p\": 28151, \"fpr\": 0.2369855290358955, \"tpr\": 0.9356328371993891, \"n\": 5321}, {\"threshold\": 0.5559999942779541, \"p\": 28151, \"fpr\": 0.2364217252396166, \"tpr\": 0.9354197008987247, \"n\": 5321}, {\"threshold\": 0.5569999814033508, \"p\": 28151, \"fpr\": 0.23604585604209735, \"tpr\": 0.9352420873148378, \"n\": 5321}, {\"threshold\": 0.5580000281333923, \"p\": 28151, \"fpr\": 0.23548205224581845, \"tpr\": 0.9352420873148378, \"n\": 5321}, {\"threshold\": 0.5590000152587891, \"p\": 28151, \"fpr\": 0.23548205224581845, \"tpr\": 0.9350999964477283, \"n\": 5321}, {\"threshold\": 0.5600000023841858, \"p\": 28151, \"fpr\": 0.23548205224581845, \"tpr\": 0.9350999964477283, \"n\": 5321}, {\"threshold\": 0.5609999895095825, \"p\": 28151, \"fpr\": 0.23529411764705882, \"tpr\": 0.9349223828638414, \"n\": 5321}, {\"threshold\": 0.5619999766349792, \"p\": 28151, \"fpr\": 0.23473031385077991, \"tpr\": 0.934780291996732, \"n\": 5321}, {\"threshold\": 0.5630000233650208, \"p\": 28151, \"fpr\": 0.23416651005450104, \"tpr\": 0.9347092465631771, \"n\": 5321}, {\"threshold\": 0.5640000104904175, \"p\": 28151, \"fpr\": 0.2339785754557414, \"tpr\": 0.9346382011296224, \"n\": 5321}, {\"threshold\": 0.5649999976158142, \"p\": 28151, \"fpr\": 0.23360270625822213, \"tpr\": 0.9344605875457355, \"n\": 5321}, {\"threshold\": 0.5659999847412109, \"p\": 28151, \"fpr\": 0.2334147716594625, \"tpr\": 0.9343540193954034, \"n\": 5321}, {\"threshold\": 0.5669999718666077, \"p\": 28151, \"fpr\": 0.23322683706070288, \"tpr\": 0.9343540193954034, \"n\": 5321}, {\"threshold\": 0.5680000185966492, \"p\": 28151, \"fpr\": 0.23266303326442397, \"tpr\": 0.934318496678626, \"n\": 5321}, {\"threshold\": 0.5690000057220459, \"p\": 28151, \"fpr\": 0.23228716406690472, \"tpr\": 0.9341764058115165, \"n\": 5321}, {\"threshold\": 0.5699999928474426, \"p\": 28151, \"fpr\": 0.2320992294681451, \"tpr\": 0.9340698376611843, \"n\": 5321}, {\"threshold\": 0.5709999799728394, \"p\": 28151, \"fpr\": 0.2320992294681451, \"tpr\": 0.9339987922276296, \"n\": 5321}, {\"threshold\": 0.5720000267028809, \"p\": 28151, \"fpr\": 0.2315354256718662, \"tpr\": 0.9338922240772974, \"n\": 5321}, {\"threshold\": 0.5730000138282776, \"p\": 28151, \"fpr\": 0.2315354256718662, \"tpr\": 0.9338211786437427, \"n\": 5321}, {\"threshold\": 0.5740000009536743, \"p\": 28151, \"fpr\": 0.23134749107310656, \"tpr\": 0.9336790877766331, \"n\": 5321}, {\"threshold\": 0.574999988079071, \"p\": 28151, \"fpr\": 0.23078368727682766, \"tpr\": 0.9336080423430784, \"n\": 5321}, {\"threshold\": 0.5759999752044678, \"p\": 28151, \"fpr\": 0.2304078180793084, \"tpr\": 0.9334304287591915, \"n\": 5321}, {\"threshold\": 0.5770000219345093, \"p\": 28151, \"fpr\": 0.2298440142830295, \"tpr\": 0.933288337892082, \"n\": 5321}, {\"threshold\": 0.578000009059906, \"p\": 28151, \"fpr\": 0.22946814508551025, \"tpr\": 0.9332528151753046, \"n\": 5321}, {\"threshold\": 0.5789999961853027, \"p\": 28151, \"fpr\": 0.22928021048675062, \"tpr\": 0.9330752015914177, \"n\": 5321}, {\"threshold\": 0.5799999833106995, \"p\": 28151, \"fpr\": 0.22928021048675062, \"tpr\": 0.9330041561578629, \"n\": 5321}, {\"threshold\": 0.5809999704360962, \"p\": 28151, \"fpr\": 0.2285284720917121, \"tpr\": 0.9328620652907534, \"n\": 5321}, {\"threshold\": 0.5820000171661377, \"p\": 28151, \"fpr\": 0.22777673369667356, \"tpr\": 0.9326844517068665, \"n\": 5321}, {\"threshold\": 0.5830000042915344, \"p\": 28151, \"fpr\": 0.22758879909791394, \"tpr\": 0.9325778835565344, \"n\": 5321}, {\"threshold\": 0.5839999914169312, \"p\": 28151, \"fpr\": 0.22740086449915428, \"tpr\": 0.9325423608397571, \"n\": 5321}, {\"threshold\": 0.5849999785423279, \"p\": 28151, \"fpr\": 0.22702499530163503, \"tpr\": 0.9324713154062023, \"n\": 5321}, {\"threshold\": 0.5860000252723694, \"p\": 28151, \"fpr\": 0.2268370607028754, \"tpr\": 0.9324002699726475, \"n\": 5321}, {\"threshold\": 0.5870000123977661, \"p\": 28151, \"fpr\": 0.22646119150535612, \"tpr\": 0.9323647472558702, \"n\": 5321}, {\"threshold\": 0.5879999995231628, \"p\": 28151, \"fpr\": 0.2262732569065965, \"tpr\": 0.9323292245390927, \"n\": 5321}, {\"threshold\": 0.5889999866485596, \"p\": 28151, \"fpr\": 0.22589738770907725, \"tpr\": 0.932258179105538, \"n\": 5321}, {\"threshold\": 0.5899999737739563, \"p\": 28151, \"fpr\": 0.22552151851155797, \"tpr\": 0.9320805655216511, \"n\": 5321}, {\"threshold\": 0.5910000205039978, \"p\": 28151, \"fpr\": 0.22533358391279834, \"tpr\": 0.9320805655216511, \"n\": 5321}, {\"threshold\": 0.5920000076293945, \"p\": 28151, \"fpr\": 0.22514564931403871, \"tpr\": 0.9320450428048738, \"n\": 5321}, {\"threshold\": 0.5929999947547913, \"p\": 28151, \"fpr\": 0.22476978011651946, \"tpr\": 0.9319029519377642, \"n\": 5321}, {\"threshold\": 0.593999981880188, \"p\": 28151, \"fpr\": 0.22420597632024056, \"tpr\": 0.931796383787432, \"n\": 5321}, {\"threshold\": 0.5950000286102295, \"p\": 28151, \"fpr\": 0.22345423792520203, \"tpr\": 0.9316542929203225, \"n\": 5321}, {\"threshold\": 0.5960000157356262, \"p\": 28151, \"fpr\": 0.22289043412892315, \"tpr\": 0.9315832474867678, \"n\": 5321}, {\"threshold\": 0.597000002861023, \"p\": 28151, \"fpr\": 0.22251456493140387, \"tpr\": 0.9314411566196583, \"n\": 5321}, {\"threshold\": 0.5979999899864197, \"p\": 28151, \"fpr\": 0.22195076113512496, \"tpr\": 0.9313701111861035, \"n\": 5321}, {\"threshold\": 0.5989999771118164, \"p\": 28151, \"fpr\": 0.2215748919376057, \"tpr\": 0.9312990657525487, \"n\": 5321}, {\"threshold\": 0.6000000238418579, \"p\": 28151, \"fpr\": 0.22119902274008646, \"tpr\": 0.931228020318994, \"n\": 5321}, {\"threshold\": 0.6010000109672546, \"p\": 28151, \"fpr\": 0.22082315354256718, \"tpr\": 0.9310859294518845, \"n\": 5321}, {\"threshold\": 0.6019999980926514, \"p\": 28151, \"fpr\": 0.22007141514752865, \"tpr\": 0.9310148840183298, \"n\": 5321}, {\"threshold\": 0.6029999852180481, \"p\": 28151, \"fpr\": 0.21931967675249014, \"tpr\": 0.9309793613015523, \"n\": 5321}, {\"threshold\": 0.6039999723434448, \"p\": 28151, \"fpr\": 0.21875587295621124, \"tpr\": 0.9309083158679976, \"n\": 5321}, {\"threshold\": 0.6050000190734863, \"p\": 28151, \"fpr\": 0.21819206915993233, \"tpr\": 0.9307307022841107, \"n\": 5321}, {\"threshold\": 0.6060000061988831, \"p\": 28151, \"fpr\": 0.21781619996241308, \"tpr\": 0.9305530887002238, \"n\": 5321}, {\"threshold\": 0.6069999933242798, \"p\": 28151, \"fpr\": 0.21781619996241308, \"tpr\": 0.9304465205498916, \"n\": 5321}, {\"threshold\": 0.6079999804496765, \"p\": 28151, \"fpr\": 0.21744033076489383, \"tpr\": 0.9303399523995595, \"n\": 5321}, {\"threshold\": 0.609000027179718, \"p\": 28151, \"fpr\": 0.21725239616613418, \"tpr\": 0.93019786153245, \"n\": 5321}, {\"threshold\": 0.6100000143051147, \"p\": 28151, \"fpr\": 0.21725239616613418, \"tpr\": 0.93019786153245, \"n\": 5321}, {\"threshold\": 0.6110000014305115, \"p\": 28151, \"fpr\": 0.21706446156737455, \"tpr\": 0.9300557706653405, \"n\": 5321}, {\"threshold\": 0.6119999885559082, \"p\": 28151, \"fpr\": 0.21687652696861492, \"tpr\": 0.9299492025150083, \"n\": 5321}, {\"threshold\": 0.6129999756813049, \"p\": 28151, \"fpr\": 0.2166885923698553, \"tpr\": 0.9298071116478989, \"n\": 5321}, {\"threshold\": 0.6140000224113464, \"p\": 28151, \"fpr\": 0.21650065777109567, \"tpr\": 0.9297005434975667, \"n\": 5321}, {\"threshold\": 0.6150000095367432, \"p\": 28151, \"fpr\": 0.21631272317233602, \"tpr\": 0.9295584526304572, \"n\": 5321}, {\"threshold\": 0.6159999966621399, \"p\": 28151, \"fpr\": 0.2161247885735764, \"tpr\": 0.9293808390465703, \"n\": 5321}, {\"threshold\": 0.6169999837875366, \"p\": 28151, \"fpr\": 0.21593685397481677, \"tpr\": 0.9292032254626834, \"n\": 5321}, {\"threshold\": 0.6179999709129333, \"p\": 28151, \"fpr\": 0.21593685397481677, \"tpr\": 0.9289900891620191, \"n\": 5321}, {\"threshold\": 0.6190000176429749, \"p\": 28151, \"fpr\": 0.21574891937605714, \"tpr\": 0.9288479982949096, \"n\": 5321}, {\"threshold\": 0.6200000047683716, \"p\": 28151, \"fpr\": 0.21574891937605714, \"tpr\": 0.9287769528613549, \"n\": 5321}, {\"threshold\": 0.6209999918937683, \"p\": 28151, \"fpr\": 0.21537305017853786, \"tpr\": 0.9285638165606905, \"n\": 5321}, {\"threshold\": 0.621999979019165, \"p\": 28151, \"fpr\": 0.2149971809810186, \"tpr\": 0.9283506802600263, \"n\": 5321}, {\"threshold\": 0.6230000257492065, \"p\": 28151, \"fpr\": 0.21480924638225898, \"tpr\": 0.9282441121096942, \"n\": 5321}, {\"threshold\": 0.6240000128746033, \"p\": 28151, \"fpr\": 0.21424544258598008, \"tpr\": 0.9280664985258072, \"n\": 5321}, {\"threshold\": 0.625, \"p\": 28151, \"fpr\": 0.21368163878970117, \"tpr\": 0.9279599303754751, \"n\": 5321}, {\"threshold\": 0.6259999871253967, \"p\": 28151, \"fpr\": 0.21368163878970117, \"tpr\": 0.927853362225143, \"n\": 5321}, {\"threshold\": 0.6269999742507935, \"p\": 28151, \"fpr\": 0.21330576959218192, \"tpr\": 0.9277823167915882, \"n\": 5321}, {\"threshold\": 0.628000020980835, \"p\": 28151, \"fpr\": 0.21292990039466267, \"tpr\": 0.9274981350573692, \"n\": 5321}, {\"threshold\": 0.6290000081062317, \"p\": 28151, \"fpr\": 0.21236609659838376, \"tpr\": 0.9272849987567049, \"n\": 5321}, {\"threshold\": 0.6299999952316284, \"p\": 28151, \"fpr\": 0.21217816199962414, \"tpr\": 0.9270718624560407, \"n\": 5321}, {\"threshold\": 0.6309999823570251, \"p\": 28151, \"fpr\": 0.2119902274008645, \"tpr\": 0.9267521580050442, \"n\": 5321}, {\"threshold\": 0.6320000290870667, \"p\": 28151, \"fpr\": 0.21180229280210486, \"tpr\": 0.9266811125714894, \"n\": 5321}, {\"threshold\": 0.6330000162124634, \"p\": 28151, \"fpr\": 0.2114264236045856, \"tpr\": 0.9265745444211573, \"n\": 5321}, {\"threshold\": 0.6340000033378601, \"p\": 28151, \"fpr\": 0.21123848900582598, \"tpr\": 0.9264679762708252, \"n\": 5321}, {\"threshold\": 0.6349999904632568, \"p\": 28151, \"fpr\": 0.21105055440706635, \"tpr\": 0.9262903626869383, \"n\": 5321}, {\"threshold\": 0.6359999775886536, \"p\": 28151, \"fpr\": 0.2108626198083067, \"tpr\": 0.9261127491030514, \"n\": 5321}, {\"threshold\": 0.6370000243186951, \"p\": 28151, \"fpr\": 0.21011088141326817, \"tpr\": 0.9260061809527192, \"n\": 5321}, {\"threshold\": 0.6380000114440918, \"p\": 28151, \"fpr\": 0.20992294681450854, \"tpr\": 0.9258996128023871, \"n\": 5321}, {\"threshold\": 0.6389999985694885, \"p\": 28151, \"fpr\": 0.20973501221574892, \"tpr\": 0.9256864765017229, \"n\": 5321}, {\"threshold\": 0.6399999856948853, \"p\": 28151, \"fpr\": 0.20973501221574892, \"tpr\": 0.9256154310681681, \"n\": 5321}, {\"threshold\": 0.640999972820282, \"p\": 28151, \"fpr\": 0.20917120841947, \"tpr\": 0.9254733402010585, \"n\": 5321}, {\"threshold\": 0.6420000195503235, \"p\": 28151, \"fpr\": 0.20860740462319113, \"tpr\": 0.9253667720507265, \"n\": 5321}, {\"threshold\": 0.6430000066757202, \"p\": 28151, \"fpr\": 0.20823153542567185, \"tpr\": 0.9252957266171716, \"n\": 5321}, {\"threshold\": 0.6439999938011169, \"p\": 28151, \"fpr\": 0.2078556662281526, \"tpr\": 0.9252246811836169, \"n\": 5321}, {\"threshold\": 0.6449999809265137, \"p\": 28151, \"fpr\": 0.2078556662281526, \"tpr\": 0.9251536357500622, \"n\": 5321}, {\"threshold\": 0.6460000276565552, \"p\": 28151, \"fpr\": 0.20766773162939298, \"tpr\": 0.92504706759973, \"n\": 5321}, {\"threshold\": 0.6470000147819519, \"p\": 28151, \"fpr\": 0.20766773162939298, \"tpr\": 0.9249404994493979, \"n\": 5321}, {\"threshold\": 0.6480000019073486, \"p\": 28151, \"fpr\": 0.20747979703063335, \"tpr\": 0.9249049767326205, \"n\": 5321}, {\"threshold\": 0.6489999890327454, \"p\": 28151, \"fpr\": 0.20710392783311407, \"tpr\": 0.9246563177151789, \"n\": 5321}, {\"threshold\": 0.6499999761581421, \"p\": 28151, \"fpr\": 0.20691599323435445, \"tpr\": 0.9244076586977372, \"n\": 5321}, {\"threshold\": 0.6510000228881836, \"p\": 28151, \"fpr\": 0.20578838564179666, \"tpr\": 0.9241945223970729, \"n\": 5321}, {\"threshold\": 0.6520000100135803, \"p\": 28151, \"fpr\": 0.20578838564179666, \"tpr\": 0.9239813860964087, \"n\": 5321}, {\"threshold\": 0.652999997138977, \"p\": 28151, \"fpr\": 0.20541251644427738, \"tpr\": 0.9239103406628539, \"n\": 5321}, {\"threshold\": 0.6539999842643738, \"p\": 28151, \"fpr\": 0.20522458184551776, \"tpr\": 0.9238037725125218, \"n\": 5321}, {\"threshold\": 0.6549999713897705, \"p\": 28151, \"fpr\": 0.20447284345047922, \"tpr\": 0.9236616816454123, \"n\": 5321}, {\"threshold\": 0.656000018119812, \"p\": 28151, \"fpr\": 0.20409697425295997, \"tpr\": 0.9235195907783027, \"n\": 5321}, {\"threshold\": 0.6570000052452087, \"p\": 28151, \"fpr\": 0.2037211050554407, \"tpr\": 0.9233774999111932, \"n\": 5321}, {\"threshold\": 0.6579999923706055, \"p\": 28151, \"fpr\": 0.20315730125916182, \"tpr\": 0.9232354090440837, \"n\": 5321}, {\"threshold\": 0.6589999794960022, \"p\": 28151, \"fpr\": 0.2029693666604022, \"tpr\": 0.9230933181769742, \"n\": 5321}, {\"threshold\": 0.6600000262260437, \"p\": 28151, \"fpr\": 0.20278143206164254, \"tpr\": 0.9230577954601968, \"n\": 5321}, {\"threshold\": 0.6610000133514404, \"p\": 28151, \"fpr\": 0.20240556286412328, \"tpr\": 0.9228446591595325, \"n\": 5321}, {\"threshold\": 0.6620000004768372, \"p\": 28151, \"fpr\": 0.20240556286412328, \"tpr\": 0.922702568292423, \"n\": 5321}, {\"threshold\": 0.6629999876022339, \"p\": 28151, \"fpr\": 0.20202969366660403, \"tpr\": 0.9225249547085361, \"n\": 5321}, {\"threshold\": 0.6639999747276306, \"p\": 28151, \"fpr\": 0.20202969366660403, \"tpr\": 0.922418386558204, \"n\": 5321}, {\"threshold\": 0.6650000214576721, \"p\": 28151, \"fpr\": 0.20184175906784438, \"tpr\": 0.9222052502575397, \"n\": 5321}, {\"threshold\": 0.6660000085830688, \"p\": 28151, \"fpr\": 0.20109002067280587, \"tpr\": 0.9220631593904302, \"n\": 5321}, {\"threshold\": 0.6669999957084656, \"p\": 28151, \"fpr\": 0.2007141514752866, \"tpr\": 0.9218855458065432, \"n\": 5321}, {\"threshold\": 0.6679999828338623, \"p\": 28151, \"fpr\": 0.20015034767900772, \"tpr\": 0.9217079322226563, \"n\": 5321}, {\"threshold\": 0.6690000295639038, \"p\": 28151, \"fpr\": 0.19977447848148844, \"tpr\": 0.9216368867891016, \"n\": 5321}, {\"threshold\": 0.6700000166893005, \"p\": 28151, \"fpr\": 0.1995865438827288, \"tpr\": 0.9214947959219921, \"n\": 5321}, {\"threshold\": 0.6710000038146973, \"p\": 28151, \"fpr\": 0.19939860928396919, \"tpr\": 0.92138822777166, \"n\": 5321}, {\"threshold\": 0.671999990940094, \"p\": 28151, \"fpr\": 0.19939860928396919, \"tpr\": 0.9212816596213278, \"n\": 5321}, {\"threshold\": 0.6729999780654907, \"p\": 28151, \"fpr\": 0.19939860928396919, \"tpr\": 0.9211750914709957, \"n\": 5321}, {\"threshold\": 0.6740000247955322, \"p\": 28151, \"fpr\": 0.19845893629017103, \"tpr\": 0.9209264324535541, \"n\": 5321}, {\"threshold\": 0.675000011920929, \"p\": 28151, \"fpr\": 0.1941364405186995, \"tpr\": 0.9158466839543888, \"n\": 5321}, {\"threshold\": 0.6759999990463257, \"p\": 28151, \"fpr\": 0.1935726367224206, \"tpr\": 0.9156335476537245, \"n\": 5321}, {\"threshold\": 0.6769999861717224, \"p\": 28151, \"fpr\": 0.19282089832738208, \"tpr\": 0.9154204113530603, \"n\": 5321}, {\"threshold\": 0.6779999732971191, \"p\": 28151, \"fpr\": 0.1924450291298628, \"tpr\": 0.9153138432027281, \"n\": 5321}, {\"threshold\": 0.6790000200271606, \"p\": 28151, \"fpr\": 0.19225709453110318, \"tpr\": 0.9151717523356186, \"n\": 5321}, {\"threshold\": 0.6800000071525574, \"p\": 28151, \"fpr\": 0.19206915993234355, \"tpr\": 0.9149941387517317, \"n\": 5321}, {\"threshold\": 0.6809999942779541, \"p\": 28151, \"fpr\": 0.1918812253335839, \"tpr\": 0.9149586160349543, \"n\": 5321}, {\"threshold\": 0.6819999814033508, \"p\": 28151, \"fpr\": 0.19169329073482427, \"tpr\": 0.9147810024510674, \"n\": 5321}, {\"threshold\": 0.6830000281333923, \"p\": 28151, \"fpr\": 0.19150535613606465, \"tpr\": 0.9146744343007354, \"n\": 5321}, {\"threshold\": 0.6840000152587891, \"p\": 28151, \"fpr\": 0.19037774854350686, \"tpr\": 0.9145323434336258, \"n\": 5321}, {\"threshold\": 0.6850000023841858, \"p\": 28151, \"fpr\": 0.19018981394474724, \"tpr\": 0.9143902525665163, \"n\": 5321}, {\"threshold\": 0.6859999895095825, \"p\": 28151, \"fpr\": 0.19000187934598758, \"tpr\": 0.9142126389826294, \"n\": 5321}, {\"threshold\": 0.6869999766349792, \"p\": 28151, \"fpr\": 0.1894380755497087, \"tpr\": 0.9141415935490746, \"n\": 5321}, {\"threshold\": 0.6880000233650208, \"p\": 28151, \"fpr\": 0.18831046795715092, \"tpr\": 0.9139284572484103, \"n\": 5321}, {\"threshold\": 0.6890000104904175, \"p\": 28151, \"fpr\": 0.1875587295621124, \"tpr\": 0.9137153209477461, \"n\": 5321}, {\"threshold\": 0.6899999976158142, \"p\": 28151, \"fpr\": 0.1875587295621124, \"tpr\": 0.9135377073638592, \"n\": 5321}, {\"threshold\": 0.6909999847412109, \"p\": 28151, \"fpr\": 0.18680699116707386, \"tpr\": 0.9133956164967497, \"n\": 5321}, {\"threshold\": 0.6919999718666077, \"p\": 28151, \"fpr\": 0.18680699116707386, \"tpr\": 0.9132180029128628, \"n\": 5321}, {\"threshold\": 0.6930000185966492, \"p\": 28151, \"fpr\": 0.18661905656831423, \"tpr\": 0.9129693438954212, \"n\": 5321}, {\"threshold\": 0.6940000057220459, \"p\": 28151, \"fpr\": 0.18605525277203533, \"tpr\": 0.9127917303115343, \"n\": 5321}, {\"threshold\": 0.6949999928474426, \"p\": 28151, \"fpr\": 0.18549144897575642, \"tpr\": 0.9126141167276474, \"n\": 5321}, {\"threshold\": 0.6959999799728394, \"p\": 28151, \"fpr\": 0.18455177598195827, \"tpr\": 0.9125785940108699, \"n\": 5321}, {\"threshold\": 0.6970000267028809, \"p\": 28151, \"fpr\": 0.18436384138319864, \"tpr\": 0.9122588895598736, \"n\": 5321}, {\"threshold\": 0.6980000138282776, \"p\": 28151, \"fpr\": 0.18436384138319864, \"tpr\": 0.9121167986927641, \"n\": 5321}, {\"threshold\": 0.6990000009536743, \"p\": 28151, \"fpr\": 0.1839879721856794, \"tpr\": 0.9120812759759866, \"n\": 5321}, {\"threshold\": 0.699999988079071, \"p\": 28151, \"fpr\": 0.1839879721856794, \"tpr\": 0.9119747078256545, \"n\": 5321}, {\"threshold\": 0.7009999752044678, \"p\": 28151, \"fpr\": 0.18304829919188123, \"tpr\": 0.9119036623920997, \"n\": 5321}, {\"threshold\": 0.7020000219345093, \"p\": 28151, \"fpr\": 0.18304829919188123, \"tpr\": 0.9116905260914355, \"n\": 5321}, {\"threshold\": 0.703000009059906, \"p\": 28151, \"fpr\": 0.18267242999436195, \"tpr\": 0.9115129125075486, \"n\": 5321}, {\"threshold\": 0.7039999961853027, \"p\": 28151, \"fpr\": 0.18248449539560233, \"tpr\": 0.9114773897907712, \"n\": 5321}, {\"threshold\": 0.7049999833106995, \"p\": 28151, \"fpr\": 0.18154482240180417, \"tpr\": 0.911370821640439, \"n\": 5321}, {\"threshold\": 0.7059999704360962, \"p\": 28151, \"fpr\": 0.18116895320428492, \"tpr\": 0.9110511171894426, \"n\": 5321}, {\"threshold\": 0.7070000171661377, \"p\": 28151, \"fpr\": 0.18004134561172713, \"tpr\": 0.9107314127384463, \"n\": 5321}, {\"threshold\": 0.7080000042915344, \"p\": 28151, \"fpr\": 0.17985341101296748, \"tpr\": 0.9105537991545594, \"n\": 5321}, {\"threshold\": 0.7089999914169312, \"p\": 28151, \"fpr\": 0.17947754181544823, \"tpr\": 0.9102696174203403, \"n\": 5321}, {\"threshold\": 0.7099999785423279, \"p\": 28151, \"fpr\": 0.17834993422289044, \"tpr\": 0.9100209584028986, \"n\": 5321}, {\"threshold\": 0.7110000252723694, \"p\": 28151, \"fpr\": 0.1781619996241308, \"tpr\": 0.9098433448190117, \"n\": 5321}, {\"threshold\": 0.7120000123977661, \"p\": 28151, \"fpr\": 0.1781619996241308, \"tpr\": 0.9095946858015701, \"n\": 5321}, {\"threshold\": 0.7129999995231628, \"p\": 28151, \"fpr\": 0.17778613042661154, \"tpr\": 0.9092749813505737, \"n\": 5321}, {\"threshold\": 0.7139999866485596, \"p\": 28151, \"fpr\": 0.17684645743281338, \"tpr\": 0.9090618450499094, \"n\": 5321}, {\"threshold\": 0.7149999737739563, \"p\": 28151, \"fpr\": 0.17647058823529413, \"tpr\": 0.9088842314660225, \"n\": 5321}, {\"threshold\": 0.7160000205039978, \"p\": 28151, \"fpr\": 0.17628265363653448, \"tpr\": 0.9086710951653583, \"n\": 5321}, {\"threshold\": 0.7170000076293945, \"p\": 28151, \"fpr\": 0.17590678443901522, \"tpr\": 0.9084224361479166, \"n\": 5321}, {\"threshold\": 0.7179999947547913, \"p\": 28151, \"fpr\": 0.17534298064273632, \"tpr\": 0.908280345280807, \"n\": 5321}, {\"threshold\": 0.718999981880188, \"p\": 28151, \"fpr\": 0.17496711144521707, \"tpr\": 0.9082092998472523, \"n\": 5321}, {\"threshold\": 0.7200000286102295, \"p\": 28151, \"fpr\": 0.17477917684645744, \"tpr\": 0.908173777130475, \"n\": 5321}, {\"threshold\": 0.7210000157356262, \"p\": 28151, \"fpr\": 0.17459124224769781, \"tpr\": 0.9079251181130333, \"n\": 5321}, {\"threshold\": 0.722000002861023, \"p\": 28151, \"fpr\": 0.17365156925389963, \"tpr\": 0.9075698909452595, \"n\": 5321}, {\"threshold\": 0.7229999899864197, \"p\": 28151, \"fpr\": 0.17365156925389963, \"tpr\": 0.9073567546445952, \"n\": 5321}, {\"threshold\": 0.7239999771118164, \"p\": 28151, \"fpr\": 0.17365156925389963, \"tpr\": 0.9071791410607083, \"n\": 5321}, {\"threshold\": 0.7250000238418579, \"p\": 28151, \"fpr\": 0.17327570005638038, \"tpr\": 0.9070370501935988, \"n\": 5321}, {\"threshold\": 0.7260000109672546, \"p\": 28151, \"fpr\": 0.17289983085886113, \"tpr\": 0.906681823025825, \"n\": 5321}, {\"threshold\": 0.7269999980926514, \"p\": 28151, \"fpr\": 0.17271189626010147, \"tpr\": 0.9064331640083834, \"n\": 5321}, {\"threshold\": 0.7279999852180481, \"p\": 28151, \"fpr\": 0.17252396166134185, \"tpr\": 0.9063621185748286, \"n\": 5321}, {\"threshold\": 0.7289999723434448, \"p\": 28151, \"fpr\": 0.17233602706258222, \"tpr\": 0.906220027707719, \"n\": 5321}, {\"threshold\": 0.7300000190734863, \"p\": 28151, \"fpr\": 0.17196015786506297, \"tpr\": 0.9060779368406096, \"n\": 5321}, {\"threshold\": 0.7310000061988831, \"p\": 28151, \"fpr\": 0.17139635406878406, \"tpr\": 0.9057937551063905, \"n\": 5321}, {\"threshold\": 0.7319999933242798, \"p\": 28151, \"fpr\": 0.17064461567374553, \"tpr\": 0.9056161415225037, \"n\": 5321}, {\"threshold\": 0.7329999804496765, \"p\": 28151, \"fpr\": 0.1704566810749859, \"tpr\": 0.9052609143547299, \"n\": 5321}, {\"threshold\": 0.734000027179718, \"p\": 28151, \"fpr\": 0.17026874647622628, \"tpr\": 0.905083300770843, \"n\": 5321}, {\"threshold\": 0.7350000143051147, \"p\": 28151, \"fpr\": 0.17008081187746665, \"tpr\": 0.9049412099037334, \"n\": 5321}, {\"threshold\": 0.7360000014305115, \"p\": 28151, \"fpr\": 0.169892877278707, \"tpr\": 0.9046925508862917, \"n\": 5321}, {\"threshold\": 0.7369999885559082, \"p\": 28151, \"fpr\": 0.169892877278707, \"tpr\": 0.9045504600191823, \"n\": 5321}, {\"threshold\": 0.7379999756813049, \"p\": 28151, \"fpr\": 0.16932907348242812, \"tpr\": 0.9043728464352954, \"n\": 5321}, {\"threshold\": 0.7390000224113464, \"p\": 28151, \"fpr\": 0.16876526968614922, \"tpr\": 0.9040886647010763, \"n\": 5321}, {\"threshold\": 0.7400000095367432, \"p\": 28151, \"fpr\": 0.16838940048862996, \"tpr\": 0.9039465738339668, \"n\": 5321}, {\"threshold\": 0.7409999966621399, \"p\": 28151, \"fpr\": 0.16763766209359143, \"tpr\": 0.9037689602500799, \"n\": 5321}, {\"threshold\": 0.7419999837875366, \"p\": 28151, \"fpr\": 0.1674497274948318, \"tpr\": 0.9035558239494157, \"n\": 5321}, {\"threshold\": 0.7429999709129333, \"p\": 28151, \"fpr\": 0.1668859236985529, \"tpr\": 0.9034492557990835, \"n\": 5321}, {\"threshold\": 0.7440000176429749, \"p\": 28151, \"fpr\": 0.166322119902274, \"tpr\": 0.9031650740648645, \"n\": 5321}, {\"threshold\": 0.7450000047683716, \"p\": 28151, \"fpr\": 0.16613418530351437, \"tpr\": 0.9029874604809776, \"n\": 5321}, {\"threshold\": 0.7459999918937683, \"p\": 28151, \"fpr\": 0.16594625070475474, \"tpr\": 0.9026677560299812, \"n\": 5321}, {\"threshold\": 0.746999979019165, \"p\": 28151, \"fpr\": 0.1655703815072355, \"tpr\": 0.902561187879649, \"n\": 5321}, {\"threshold\": 0.7480000257492065, \"p\": 28151, \"fpr\": 0.16538244690847584, \"tpr\": 0.9022059607118752, \"n\": 5321}, {\"threshold\": 0.7490000128746033, \"p\": 28151, \"fpr\": 0.1651945123097162, \"tpr\": 0.9018862562608788, \"n\": 5321}, {\"threshold\": 0.75, \"p\": 28151, \"fpr\": 0.16481864311219696, \"tpr\": 0.9016375972434372, \"n\": 5321}, {\"threshold\": 0.7509999871253967, \"p\": 28151, \"fpr\": 0.16350310092087952, \"tpr\": 0.901424460942773, \"n\": 5321}, {\"threshold\": 0.7519999742507935, \"p\": 28151, \"fpr\": 0.1633151663221199, \"tpr\": 0.9012113246421086, \"n\": 5321}, {\"threshold\": 0.753000020980835, \"p\": 28151, \"fpr\": 0.16218755872956211, \"tpr\": 0.900962665624667, \"n\": 5321}, {\"threshold\": 0.7540000081062317, \"p\": 28151, \"fpr\": 0.1619996241308025, \"tpr\": 0.9008916201911122, \"n\": 5321}, {\"threshold\": 0.7549999952316284, \"p\": 28151, \"fpr\": 0.1619996241308025, \"tpr\": 0.9007140066072253, \"n\": 5321}, {\"threshold\": 0.7559999823570251, \"p\": 28151, \"fpr\": 0.1616237549332832, \"tpr\": 0.900500870306561, \"n\": 5321}, {\"threshold\": 0.7570000290870667, \"p\": 28151, \"fpr\": 0.16143582033452358, \"tpr\": 0.9001456431387872, \"n\": 5321}, {\"threshold\": 0.7580000162124634, \"p\": 28151, \"fpr\": 0.16068408193948505, \"tpr\": 0.8998614614045682, \"n\": 5321}, {\"threshold\": 0.7590000033378601, \"p\": 28151, \"fpr\": 0.16012027814320617, \"tpr\": 0.8994351888032397, \"n\": 5321}, {\"threshold\": 0.7599999904632568, \"p\": 28151, \"fpr\": 0.15993234354444652, \"tpr\": 0.899186529785798, \"n\": 5321}, {\"threshold\": 0.7609999775886536, \"p\": 28151, \"fpr\": 0.15955647434692727, \"tpr\": 0.898902348051579, \"n\": 5321}, {\"threshold\": 0.7620000243186951, \"p\": 28151, \"fpr\": 0.15918060514940802, \"tpr\": 0.8985471208838052, \"n\": 5321}, {\"threshold\": 0.7630000114440918, \"p\": 28151, \"fpr\": 0.1586168013531291, \"tpr\": 0.898440552733473, \"n\": 5321}, {\"threshold\": 0.7639999985694885, \"p\": 28151, \"fpr\": 0.1580529975568502, \"tpr\": 0.8980498028489219, \"n\": 5321}, {\"threshold\": 0.7649999856948853, \"p\": 28151, \"fpr\": 0.15767712835933095, \"tpr\": 0.8978011438314802, \"n\": 5321}, {\"threshold\": 0.765999972820282, \"p\": 28151, \"fpr\": 0.15711332456305205, \"tpr\": 0.8976590529643708, \"n\": 5321}, {\"threshold\": 0.7670000195503235, \"p\": 28151, \"fpr\": 0.15692538996429242, \"tpr\": 0.8973393485133743, \"n\": 5321}, {\"threshold\": 0.7680000066757202, \"p\": 28151, \"fpr\": 0.1567374553655328, \"tpr\": 0.8971972576462648, \"n\": 5321}, {\"threshold\": 0.7689999938011169, \"p\": 28151, \"fpr\": 0.15636158616801354, \"tpr\": 0.8968775531952684, \"n\": 5321}, {\"threshold\": 0.7699999809265137, \"p\": 28151, \"fpr\": 0.15636158616801354, \"tpr\": 0.8966999396113815, \"n\": 5321}, {\"threshold\": 0.7710000276565552, \"p\": 28151, \"fpr\": 0.15598571697049426, \"tpr\": 0.8963091897268303, \"n\": 5321}, {\"threshold\": 0.7720000147819519, \"p\": 28151, \"fpr\": 0.15579778237173464, \"tpr\": 0.8960250079926113, \"n\": 5321}, {\"threshold\": 0.7730000019073486, \"p\": 28151, \"fpr\": 0.15523397857545573, \"tpr\": 0.8957408262583922, \"n\": 5321}, {\"threshold\": 0.7739999890327454, \"p\": 28151, \"fpr\": 0.15467017477917686, \"tpr\": 0.8954566445241732, \"n\": 5321}, {\"threshold\": 0.7749999761581421, \"p\": 28151, \"fpr\": 0.15429430558165758, \"tpr\": 0.8952790309402863, \"n\": 5321}, {\"threshold\": 0.7760000228881836, \"p\": 28151, \"fpr\": 0.1537305017853787, \"tpr\": 0.895243508223509, \"n\": 5321}, {\"threshold\": 0.7770000100135803, \"p\": 28151, \"fpr\": 0.15297876339034017, \"tpr\": 0.8950303719228446, \"n\": 5321}, {\"threshold\": 0.777999997138977, \"p\": 28151, \"fpr\": 0.15279082879158054, \"tpr\": 0.894781712905403, \"n\": 5321}, {\"threshold\": 0.7789999842643738, \"p\": 28151, \"fpr\": 0.15222702499530164, \"tpr\": 0.8943909630208519, \"n\": 5321}, {\"threshold\": 0.7799999713897705, \"p\": 28151, \"fpr\": 0.15222702499530164, \"tpr\": 0.8941067812866328, \"n\": 5321}, {\"threshold\": 0.781000018119812, \"p\": 28151, \"fpr\": 0.152039090396542, \"tpr\": 0.8939646904195233, \"n\": 5321}, {\"threshold\": 0.7820000052452087, \"p\": 28151, \"fpr\": 0.1514752866002631, \"tpr\": 0.8936094632517495, \"n\": 5321}, {\"threshold\": 0.7829999923706055, \"p\": 28151, \"fpr\": 0.1514752866002631, \"tpr\": 0.8933963269510852, \"n\": 5321}, {\"threshold\": 0.7839999794960022, \"p\": 28151, \"fpr\": 0.1514752866002631, \"tpr\": 0.8931121452168662, \"n\": 5321}, {\"threshold\": 0.7850000262260437, \"p\": 28151, \"fpr\": 0.15109941740274385, \"tpr\": 0.8928634861994246, \"n\": 5321}, {\"threshold\": 0.7860000133514404, \"p\": 28151, \"fpr\": 0.15109941740274385, \"tpr\": 0.8926503498987602, \"n\": 5321}, {\"threshold\": 0.7870000004768372, \"p\": 28151, \"fpr\": 0.15034767900770532, \"tpr\": 0.8923306454477639, \"n\": 5321}, {\"threshold\": 0.7879999876022339, \"p\": 28151, \"fpr\": 0.14997180981018607, \"tpr\": 0.892153031863877, \"n\": 5321}, {\"threshold\": 0.7889999747276306, \"p\": 28151, \"fpr\": 0.14903213681638788, \"tpr\": 0.8918688501296579, \"n\": 5321}, {\"threshold\": 0.7900000214576721, \"p\": 28151, \"fpr\": 0.14903213681638788, \"tpr\": 0.8916201911122162, \"n\": 5321}, {\"threshold\": 0.7910000085830688, \"p\": 28151, \"fpr\": 0.14884420221762826, \"tpr\": 0.891407054811552, \"n\": 5321}, {\"threshold\": 0.7919999957084656, \"p\": 28151, \"fpr\": 0.14828039842134938, \"tpr\": 0.8911583957941104, \"n\": 5321}, {\"threshold\": 0.7929999828338623, \"p\": 28151, \"fpr\": 0.1479045292238301, \"tpr\": 0.8909097367766686, \"n\": 5321}, {\"threshold\": 0.7940000295639038, \"p\": 28151, \"fpr\": 0.14734072542755122, \"tpr\": 0.8906255550424497, \"n\": 5321}, {\"threshold\": 0.7950000166893005, \"p\": 28151, \"fpr\": 0.14696485623003194, \"tpr\": 0.890376896025008, \"n\": 5321}, {\"threshold\": 0.7960000038146973, \"p\": 28151, \"fpr\": 0.1462131178349934, \"tpr\": 0.890092714290789, \"n\": 5321}, {\"threshold\": 0.796999990940094, \"p\": 28151, \"fpr\": 0.14564931403871453, \"tpr\": 0.8898795779901247, \"n\": 5321}, {\"threshold\": 0.7979999780654907, \"p\": 28151, \"fpr\": 0.14527344484119525, \"tpr\": 0.8895953962559057, \"n\": 5321}, {\"threshold\": 0.7990000247955322, \"p\": 28151, \"fpr\": 0.14470964104491638, \"tpr\": 0.8893112145216866, \"n\": 5321}, {\"threshold\": 0.800000011920929, \"p\": 28151, \"fpr\": 0.14452170644615675, \"tpr\": 0.8892756918049093, \"n\": 5321}, {\"threshold\": 0.8009999990463257, \"p\": 28151, \"fpr\": 0.14414583724863747, \"tpr\": 0.8889204646371355, \"n\": 5321}, {\"threshold\": 0.8019999861717224, \"p\": 28151, \"fpr\": 0.1435820334523586, \"tpr\": 0.888600760186139, \"n\": 5321}, {\"threshold\": 0.8029999732971191, \"p\": 28151, \"fpr\": 0.1432061642548393, \"tpr\": 0.8882455330183653, \"n\": 5321}, {\"threshold\": 0.8040000200271606, \"p\": 28151, \"fpr\": 0.1432061642548393, \"tpr\": 0.8878192604170367, \"n\": 5321}, {\"threshold\": 0.8050000071525574, \"p\": 28151, \"fpr\": 0.14245442585980078, \"tpr\": 0.8874640332492629, \"n\": 5321}, {\"threshold\": 0.8059999942779541, \"p\": 28151, \"fpr\": 0.14245442585980078, \"tpr\": 0.887286419665376, \"n\": 5321}, {\"threshold\": 0.8069999814033508, \"p\": 28151, \"fpr\": 0.14226649126104116, \"tpr\": 0.8870732833647117, \"n\": 5321}, {\"threshold\": 0.8080000281333923, \"p\": 28151, \"fpr\": 0.14170268746476225, \"tpr\": 0.8869311924976022, \"n\": 5321}, {\"threshold\": 0.8090000152587891, \"p\": 28151, \"fpr\": 0.14113888366848337, \"tpr\": 0.8863628290291642, \"n\": 5321}, {\"threshold\": 0.8100000023841858, \"p\": 28151, \"fpr\": 0.14095094906972375, \"tpr\": 0.885972079144613, \"n\": 5321}, {\"threshold\": 0.8109999895095825, \"p\": 28151, \"fpr\": 0.1407630144709641, \"tpr\": 0.8856523746936166, \"n\": 5321}, {\"threshold\": 0.8119999766349792, \"p\": 28151, \"fpr\": 0.14038714527344484, \"tpr\": 0.8855102838265071, \"n\": 5321}, {\"threshold\": 0.8130000233650208, \"p\": 28151, \"fpr\": 0.14019921067468522, \"tpr\": 0.8853326702426202, \"n\": 5321}, {\"threshold\": 0.8140000104904175, \"p\": 28151, \"fpr\": 0.14019921067468522, \"tpr\": 0.8849774430748464, \"n\": 5321}, {\"threshold\": 0.8149999976158142, \"p\": 28151, \"fpr\": 0.1396354068784063, \"tpr\": 0.8846222159070726, \"n\": 5321}, {\"threshold\": 0.8159999847412109, \"p\": 28151, \"fpr\": 0.13944747227964668, \"tpr\": 0.8845156477567404, \"n\": 5321}, {\"threshold\": 0.8169999718666077, \"p\": 28151, \"fpr\": 0.13850779928584853, \"tpr\": 0.884195943305744, \"n\": 5321}, {\"threshold\": 0.8180000185966492, \"p\": 28151, \"fpr\": 0.13850779928584853, \"tpr\": 0.8839472842883024, \"n\": 5321}, {\"threshold\": 0.8190000057220459, \"p\": 28151, \"fpr\": 0.1383198646870889, \"tpr\": 0.8836631025540833, \"n\": 5321}, {\"threshold\": 0.8199999928474426, \"p\": 28151, \"fpr\": 0.1383198646870889, \"tpr\": 0.8830236936520905, \"n\": 5321}, {\"threshold\": 0.8209999799728394, \"p\": 28151, \"fpr\": 0.13756812629205037, \"tpr\": 0.882703989201094, \"n\": 5321}, {\"threshold\": 0.8220000267028809, \"p\": 28151, \"fpr\": 0.13756812629205037, \"tpr\": 0.8822777165997655, \"n\": 5321}, {\"threshold\": 0.8230000138282776, \"p\": 28151, \"fpr\": 0.13738019169329074, \"tpr\": 0.8818869667152144, \"n\": 5321}, {\"threshold\": 0.8240000009536743, \"p\": 28151, \"fpr\": 0.13700432249577146, \"tpr\": 0.881567262264218, \"n\": 5321}, {\"threshold\": 0.824999988079071, \"p\": 28151, \"fpr\": 0.1360646495019733, \"tpr\": 0.8812120350964442, \"n\": 5321}, {\"threshold\": 0.8259999752044678, \"p\": 28151, \"fpr\": 0.13550084570569443, \"tpr\": 0.8807502397783382, \"n\": 5321}, {\"threshold\": 0.8270000219345093, \"p\": 28151, \"fpr\": 0.13512497650817515, \"tpr\": 0.8803594898937871, \"n\": 5321}, {\"threshold\": 0.828000009059906, \"p\": 28151, \"fpr\": 0.13456117271189627, \"tpr\": 0.8801108308763455, \"n\": 5321}, {\"threshold\": 0.8289999961853027, \"p\": 28151, \"fpr\": 0.134185303514377, \"tpr\": 0.8798621718589038, \"n\": 5321}, {\"threshold\": 0.8299999833106995, \"p\": 28151, \"fpr\": 0.13399736891561737, \"tpr\": 0.87950694469113, \"n\": 5321}, {\"threshold\": 0.8309999704360962, \"p\": 28151, \"fpr\": 0.13268182672429996, \"tpr\": 0.8793648538240204, \"n\": 5321}, {\"threshold\": 0.8320000171661377, \"p\": 28151, \"fpr\": 0.13230595752678068, \"tpr\": 0.8789030585059145, \"n\": 5321}, {\"threshold\": 0.8330000042915344, \"p\": 28151, \"fpr\": 0.13155421913174214, \"tpr\": 0.8785123086213633, \"n\": 5321}, {\"threshold\": 0.8339999914169312, \"p\": 28151, \"fpr\": 0.1311783499342229, \"tpr\": 0.8780505133032575, \"n\": 5321}, {\"threshold\": 0.8349999785423279, \"p\": 28151, \"fpr\": 0.13042661153918436, \"tpr\": 0.8777308088522611, \"n\": 5321}, {\"threshold\": 0.8360000252723694, \"p\": 28151, \"fpr\": 0.12967487314414583, \"tpr\": 0.8772334908173777, \"n\": 5321}, {\"threshold\": 0.8370000123977661, \"p\": 28151, \"fpr\": 0.12929900394662658, \"tpr\": 0.876984831799936, \"n\": 5321}, {\"threshold\": 0.8379999995231628, \"p\": 28151, \"fpr\": 0.1289231347491073, \"tpr\": 0.8768072182160491, \"n\": 5321}, {\"threshold\": 0.8389999866485596, \"p\": 28151, \"fpr\": 0.1289231347491073, \"tpr\": 0.8762743774643885, \"n\": 5321}, {\"threshold\": 0.8399999737739563, \"p\": 28151, \"fpr\": 0.1281713963540688, \"tpr\": 0.8756704912791731, \"n\": 5321}, {\"threshold\": 0.8410000205039978, \"p\": 28151, \"fpr\": 0.12779552715654952, \"tpr\": 0.8754573549785087, \"n\": 5321}, {\"threshold\": 0.8420000076293945, \"p\": 28151, \"fpr\": 0.12723172336027064, \"tpr\": 0.8748534687932933, \"n\": 5321}, {\"threshold\": 0.8429999947547913, \"p\": 28151, \"fpr\": 0.12704378876151098, \"tpr\": 0.87435615075841, \"n\": 5321}, {\"threshold\": 0.843999981880188, \"p\": 28151, \"fpr\": 0.12610411576771283, \"tpr\": 0.8736456964228624, \"n\": 5321}, {\"threshold\": 0.8450000286102295, \"p\": 28151, \"fpr\": 0.12535237737267432, \"tpr\": 0.8733970374054207, \"n\": 5321}, {\"threshold\": 0.8460000157356262, \"p\": 28151, \"fpr\": 0.12516444277391467, \"tpr\": 0.8730773329544244, \"n\": 5321}, {\"threshold\": 0.847000002861023, \"p\": 28151, \"fpr\": 0.12497650817515504, \"tpr\": 0.872757628503428, \"n\": 5321}, {\"threshold\": 0.8479999899864197, \"p\": 28151, \"fpr\": 0.12403683518135689, \"tpr\": 0.8725089694859863, \"n\": 5321}, {\"threshold\": 0.8489999771118164, \"p\": 28151, \"fpr\": 0.12384890058259726, \"tpr\": 0.8720826968846578, \"n\": 5321}, {\"threshold\": 0.8500000238418579, \"p\": 28151, \"fpr\": 0.12366096598383762, \"tpr\": 0.8716919470001065, \"n\": 5321}, {\"threshold\": 0.8510000109672546, \"p\": 28151, \"fpr\": 0.123473031385078, \"tpr\": 0.8713011971155554, \"n\": 5321}, {\"threshold\": 0.8519999980926514, \"p\": 28151, \"fpr\": 0.12328509678631835, \"tpr\": 0.8708394017974495, \"n\": 5321}, {\"threshold\": 0.8529999852180481, \"p\": 28151, \"fpr\": 0.12253335839127984, \"tpr\": 0.8703776064793436, \"n\": 5321}, {\"threshold\": 0.8539999723434448, \"p\": 28151, \"fpr\": 0.12196955459500095, \"tpr\": 0.8699868565947924, \"n\": 5321}, {\"threshold\": 0.8550000190734863, \"p\": 28151, \"fpr\": 0.12140575079872204, \"tpr\": 0.8692764022592447, \"n\": 5321}, {\"threshold\": 0.8560000061988831, \"p\": 28151, \"fpr\": 0.12121781619996241, \"tpr\": 0.8687790842243615, \"n\": 5321}, {\"threshold\": 0.8569999933242798, \"p\": 28151, \"fpr\": 0.12102988160120279, \"tpr\": 0.8685304252069198, \"n\": 5321}, {\"threshold\": 0.8579999804496765, \"p\": 28151, \"fpr\": 0.12027814320616426, \"tpr\": 0.8681041526055913, \"n\": 5321}, {\"threshold\": 0.859000027179718, \"p\": 28151, \"fpr\": 0.12027814320616426, \"tpr\": 0.8675357891371532, \"n\": 5321}, {\"threshold\": 0.8600000143051147, \"p\": 28151, \"fpr\": 0.12009020860740462, \"tpr\": 0.8671095165358247, \"n\": 5321}, {\"threshold\": 0.8610000014305115, \"p\": 28151, \"fpr\": 0.11952640481112572, \"tpr\": 0.8668253348016056, \"n\": 5321}, {\"threshold\": 0.8619999885559082, \"p\": 28151, \"fpr\": 0.1193384702123661, \"tpr\": 0.8664345849170545, \"n\": 5321}, {\"threshold\": 0.8629999756813049, \"p\": 28151, \"fpr\": 0.11915053561360646, \"tpr\": 0.8660438350325033, \"n\": 5321}, {\"threshold\": 0.8640000224113464, \"p\": 28151, \"fpr\": 0.11839879721856794, \"tpr\": 0.8656886078647295, \"n\": 5321}, {\"threshold\": 0.8650000095367432, \"p\": 28151, \"fpr\": 0.11727118962601014, \"tpr\": 0.8651202443962914, \"n\": 5321}, {\"threshold\": 0.8659999966621399, \"p\": 28151, \"fpr\": 0.11689532042849088, \"tpr\": 0.8643742673439665, \"n\": 5321}, {\"threshold\": 0.8669999837875366, \"p\": 28151, \"fpr\": 0.11633151663221199, \"tpr\": 0.8640190401761927, \"n\": 5321}, {\"threshold\": 0.8679999709129333, \"p\": 28151, \"fpr\": 0.11614358203345236, \"tpr\": 0.863486199424532, \"n\": 5321}, {\"threshold\": 0.8690000176429749, \"p\": 28151, \"fpr\": 0.1157677128359331, \"tpr\": 0.8632020176903129, \"n\": 5321}, {\"threshold\": 0.8700000047683716, \"p\": 28151, \"fpr\": 0.11501597444089456, \"tpr\": 0.8626691769386523, \"n\": 5321}, {\"threshold\": 0.8709999918937683, \"p\": 28151, \"fpr\": 0.11464010524337531, \"tpr\": 0.8624205179212107, \"n\": 5321}, {\"threshold\": 0.871999979019165, \"p\": 28151, \"fpr\": 0.11370043224957714, \"tpr\": 0.8619587226031047, \"n\": 5321}, {\"threshold\": 0.8730000257492065, \"p\": 28151, \"fpr\": 0.11313662845329825, \"tpr\": 0.8613193137011118, \"n\": 5321}, {\"threshold\": 0.8740000128746033, \"p\": 28151, \"fpr\": 0.11276075925577898, \"tpr\": 0.8609640865333381, \"n\": 5321}, {\"threshold\": 0.875, \"p\": 28151, \"fpr\": 0.11219695545950009, \"tpr\": 0.8603957230649, \"n\": 5321}, {\"threshold\": 0.8759999871253967, \"p\": 28151, \"fpr\": 0.11144521706446157, \"tpr\": 0.8600760186139036, \"n\": 5321}, {\"threshold\": 0.8769999742507935, \"p\": 28151, \"fpr\": 0.11069347866942304, \"tpr\": 0.8594366097119107, \"n\": 5321}, {\"threshold\": 0.878000020980835, \"p\": 28151, \"fpr\": 0.10975380567562489, \"tpr\": 0.8589392916770274, \"n\": 5321}, {\"threshold\": 0.8790000081062317, \"p\": 28151, \"fpr\": 0.10937793647810562, \"tpr\": 0.8584419736421441, \"n\": 5321}, {\"threshold\": 0.8799999952316284, \"p\": 28151, \"fpr\": 0.109190001879346, \"tpr\": 0.8576249511562645, \"n\": 5321}, {\"threshold\": 0.8809999823570251, \"p\": 28151, \"fpr\": 0.10881413268182673, \"tpr\": 0.8568434513871621, \"n\": 5321}, {\"threshold\": 0.8820000290870667, \"p\": 28151, \"fpr\": 0.10825032888554784, \"tpr\": 0.856275087918724, \"n\": 5321}, {\"threshold\": 0.8830000162124634, \"p\": 28151, \"fpr\": 0.10787445968802857, \"tpr\": 0.8556712017335085, \"n\": 5321}, {\"threshold\": 0.8840000033378601, \"p\": 28151, \"fpr\": 0.10693478669423041, \"tpr\": 0.8549252246811836, \"n\": 5321}, {\"threshold\": 0.8849999904632568, \"p\": 28151, \"fpr\": 0.10655891749671115, \"tpr\": 0.8540726794785265, \"n\": 5321}, {\"threshold\": 0.8859999775886536, \"p\": 28151, \"fpr\": 0.10637098289795151, \"tpr\": 0.8537174523107527, \"n\": 5321}, {\"threshold\": 0.8870000243186951, \"p\": 28151, \"fpr\": 0.10599511370043226, \"tpr\": 0.8529359525416503, \"n\": 5321}, {\"threshold\": 0.8880000114440918, \"p\": 28151, \"fpr\": 0.10561924450291299, \"tpr\": 0.8522965436396576, \"n\": 5321}, {\"threshold\": 0.8889999985694885, \"p\": 28151, \"fpr\": 0.10524337530539372, \"tpr\": 0.851870271038329, \"n\": 5321}, {\"threshold\": 0.8899999856948853, \"p\": 28151, \"fpr\": 0.10373989851531668, \"tpr\": 0.8512663848531136, \"n\": 5321}, {\"threshold\": 0.890999972820282, \"p\": 28151, \"fpr\": 0.10336402931779741, \"tpr\": 0.8503427942169017, \"n\": 5321}, {\"threshold\": 0.8920000195503235, \"p\": 28151, \"fpr\": 0.10261229092275888, \"tpr\": 0.8497033853149089, \"n\": 5321}, {\"threshold\": 0.8930000066757202, \"p\": 28151, \"fpr\": 0.10223642172523961, \"tpr\": 0.8489929309793613, \"n\": 5321}, {\"threshold\": 0.8939999938011169, \"p\": 28151, \"fpr\": 0.10129674873144145, \"tpr\": 0.8480693403431494, \"n\": 5321}, {\"threshold\": 0.8949999809265137, \"p\": 28151, \"fpr\": 0.10092087953392219, \"tpr\": 0.8473944087243792, \"n\": 5321}, {\"threshold\": 0.8960000276565552, \"p\": 28151, \"fpr\": 0.10092087953392219, \"tpr\": 0.8466129089552769, \"n\": 5321}, {\"threshold\": 0.8970000147819519, \"p\": 28151, \"fpr\": 0.10073294493516256, \"tpr\": 0.8459024546197293, \"n\": 5321}, {\"threshold\": 0.8980000019073486, \"p\": 28151, \"fpr\": 0.1003570757376433, \"tpr\": 0.8452985684345139, \"n\": 5321}, {\"threshold\": 0.8989999890327454, \"p\": 28151, \"fpr\": 0.0997932719413644, \"tpr\": 0.8445170686654115, \"n\": 5321}, {\"threshold\": 0.8999999761581421, \"p\": 28151, \"fpr\": 0.09941740274384514, \"tpr\": 0.8438421370466413, \"n\": 5321}, {\"threshold\": 0.9010000228881836, \"p\": 28151, \"fpr\": 0.09847772975004698, \"tpr\": 0.8431672054278712, \"n\": 5321}, {\"threshold\": 0.9020000100135803, \"p\": 28151, \"fpr\": 0.09828979515128736, \"tpr\": 0.842492273809101, \"n\": 5321}, {\"threshold\": 0.902999997138977, \"p\": 28151, \"fpr\": 0.09772599135500845, \"tpr\": 0.8421725693581045, \"n\": 5321}, {\"threshold\": 0.9039999842643738, \"p\": 28151, \"fpr\": 0.09753805675624883, \"tpr\": 0.8413555468722248, \"n\": 5321}, {\"threshold\": 0.9049999713897705, \"p\": 28151, \"fpr\": 0.09659838376245067, \"tpr\": 0.8407871834037868, \"n\": 5321}, {\"threshold\": 0.906000018119812, \"p\": 28151, \"fpr\": 0.09547077616989287, \"tpr\": 0.8398635927675748, \"n\": 5321}, {\"threshold\": 0.9070000052452087, \"p\": 28151, \"fpr\": 0.09471903777485435, \"tpr\": 0.8389755248481404, \"n\": 5321}, {\"threshold\": 0.9079999923706055, \"p\": 28151, \"fpr\": 0.0937793647810562, \"tpr\": 0.8379453660615964, \"n\": 5321}, {\"threshold\": 0.9089999794960022, \"p\": 28151, \"fpr\": 0.09359143018229656, \"tpr\": 0.8369152072750524, \"n\": 5321}, {\"threshold\": 0.9100000262260437, \"p\": 28151, \"fpr\": 0.09340349558353693, \"tpr\": 0.8360626620723953, \"n\": 5321}, {\"threshold\": 0.9110000133514404, \"p\": 28151, \"fpr\": 0.09246382258973877, \"tpr\": 0.8352101168697382, \"n\": 5321}, {\"threshold\": 0.9120000004768372, \"p\": 28151, \"fpr\": 0.09227588799097913, \"tpr\": 0.834535185250968, \"n\": 5321}, {\"threshold\": 0.9129999876022339, \"p\": 28151, \"fpr\": 0.09190001879345988, \"tpr\": 0.8338247309154204, \"n\": 5321}, {\"threshold\": 0.9139999747276306, \"p\": 28151, \"fpr\": 0.09190001879345988, \"tpr\": 0.8331497992966502, \"n\": 5321}, {\"threshold\": 0.9150000214576721, \"p\": 28151, \"fpr\": 0.09152414959594062, \"tpr\": 0.8320485950765515, \"n\": 5321}, {\"threshold\": 0.9160000085830688, \"p\": 28151, \"fpr\": 0.09096034579966172, \"tpr\": 0.8311250044403395, \"n\": 5321}, {\"threshold\": 0.9169999957084656, \"p\": 28151, \"fpr\": 0.09020860740462319, \"tpr\": 0.8298106639195766, \"n\": 5321}, {\"threshold\": 0.9179999828338623, \"p\": 28151, \"fpr\": 0.09020860740462319, \"tpr\": 0.8285318461155909, \"n\": 5321}, {\"threshold\": 0.9190000295639038, \"p\": 28151, \"fpr\": 0.0896448036083443, \"tpr\": 0.8276082554793791, \"n\": 5321}, {\"threshold\": 0.9200000166893005, \"p\": 28151, \"fpr\": 0.08889306521330577, \"tpr\": 0.8262228695250613, \"n\": 5321}, {\"threshold\": 0.9210000038146973, \"p\": 28151, \"fpr\": 0.0885171960157865, \"tpr\": 0.8252282334552946, \"n\": 5321}, {\"threshold\": 0.921999990940094, \"p\": 28151, \"fpr\": 0.08757752302198835, \"tpr\": 0.8241270292351959, \"n\": 5321}, {\"threshold\": 0.9229999780654907, \"p\": 28151, \"fpr\": 0.08682578462694981, \"tpr\": 0.8229903022983198, \"n\": 5321}, {\"threshold\": 0.9240000247955322, \"p\": 28151, \"fpr\": 0.08644991542943056, \"tpr\": 0.8221377570956627, \"n\": 5321}, {\"threshold\": 0.925000011920929, \"p\": 28151, \"fpr\": 0.0860740462319113, \"tpr\": 0.8213562573265604, \"n\": 5321}, {\"threshold\": 0.9259999990463257, \"p\": 28151, \"fpr\": 0.08513437323811314, \"tpr\": 0.8200419168057973, \"n\": 5321}, {\"threshold\": 0.9269999861717224, \"p\": 28151, \"fpr\": 0.08513437323811314, \"tpr\": 0.8189051898689211, \"n\": 5321}, {\"threshold\": 0.9279999732971191, \"p\": 28151, \"fpr\": 0.0849464386393535, \"tpr\": 0.817946076515932, \"n\": 5321}, {\"threshold\": 0.9290000200271606, \"p\": 28151, \"fpr\": 0.08419470024431498, \"tpr\": 0.8165962132783915, \"n\": 5321}, {\"threshold\": 0.9300000071525574, \"p\": 28151, \"fpr\": 0.08344296184927645, \"tpr\": 0.8153884409079606, \"n\": 5321}, {\"threshold\": 0.9309999942779541, \"p\": 28151, \"fpr\": 0.08231535425671867, \"tpr\": 0.8138609640865333, \"n\": 5321}, {\"threshold\": 0.9319999814033508, \"p\": 28151, \"fpr\": 0.08212741965795903, \"tpr\": 0.8124755781322156, \"n\": 5321}, {\"threshold\": 0.9330000281333923, \"p\": 28151, \"fpr\": 0.08212741965795903, \"tpr\": 0.811303328478562, \"n\": 5321}, {\"threshold\": 0.9340000152587891, \"p\": 28151, \"fpr\": 0.0819394850591994, \"tpr\": 0.8097758516571347, \"n\": 5321}, {\"threshold\": 0.9350000023841858, \"p\": 28151, \"fpr\": 0.08175155046043976, \"tpr\": 0.8082483748357074, \"n\": 5321}, {\"threshold\": 0.9359999895095825, \"p\": 28151, \"fpr\": 0.08137568126292051, \"tpr\": 0.8070050797484991, \"n\": 5321}, {\"threshold\": 0.9369999766349792, \"p\": 28151, \"fpr\": 0.0808118774666416, \"tpr\": 0.8059038755284004, \"n\": 5321}, {\"threshold\": 0.9380000233650208, \"p\": 28151, \"fpr\": 0.08024807367036271, \"tpr\": 0.8044829668573052, \"n\": 5321}, {\"threshold\": 0.9390000104904175, \"p\": 28151, \"fpr\": 0.07987220447284345, \"tpr\": 0.802955490035878, \"n\": 5321}, {\"threshold\": 0.9399999976158142, \"p\": 28151, \"fpr\": 0.07912046607780493, \"tpr\": 0.801179354197009, \"n\": 5321}, {\"threshold\": 0.9409999847412109, \"p\": 28151, \"fpr\": 0.07855666228152602, \"tpr\": 0.799865013676246, \"n\": 5321}, {\"threshold\": 0.9419999718666077, \"p\": 28151, \"fpr\": 0.0778049238864875, \"tpr\": 0.7984441050051508, \"n\": 5321}, {\"threshold\": 0.9430000185966492, \"p\": 28151, \"fpr\": 0.07742905468896824, \"tpr\": 0.7969521509005009, \"n\": 5321}, {\"threshold\": 0.9440000057220459, \"p\": 28151, \"fpr\": 0.07648938169517008, \"tpr\": 0.7955312422294057, \"n\": 5321}, {\"threshold\": 0.9449999928474426, \"p\": 28151, \"fpr\": 0.07611351249765082, \"tpr\": 0.793968242691201, \"n\": 5321}, {\"threshold\": 0.9459999799728394, \"p\": 28151, \"fpr\": 0.07573764330013155, \"tpr\": 0.7921210614187774, \"n\": 5321}, {\"threshold\": 0.9470000267028809, \"p\": 28151, \"fpr\": 0.0747979703063334, \"tpr\": 0.7904514937302405, \"n\": 5321}, {\"threshold\": 0.9480000138282776, \"p\": 28151, \"fpr\": 0.0742341665100545, \"tpr\": 0.7891371532094774, \"n\": 5321}, {\"threshold\": 0.9490000009536743, \"p\": 28151, \"fpr\": 0.07273068971997745, \"tpr\": 0.7875031082377181, \"n\": 5321}, {\"threshold\": 0.949999988079071, \"p\": 28151, \"fpr\": 0.07141514752866003, \"tpr\": 0.7850875634968563, \"n\": 5321}, {\"threshold\": 0.9509999752044678, \"p\": 28151, \"fpr\": 0.0706634091336215, \"tpr\": 0.783560086675429, \"n\": 5321}, {\"threshold\": 0.9520000219345093, \"p\": 28151, \"fpr\": 0.06991167073858297, \"tpr\": 0.7819970871372243, \"n\": 5321}, {\"threshold\": 0.953000009059906, \"p\": 28151, \"fpr\": 0.06934786694230408, \"tpr\": 0.7796170651131399, \"n\": 5321}, {\"threshold\": 0.9539999961853027, \"p\": 28151, \"fpr\": 0.06859612854726554, \"tpr\": 0.7772370430890555, \"n\": 5321}, {\"threshold\": 0.9549999833106995, \"p\": 28151, \"fpr\": 0.06765645555346739, \"tpr\": 0.7751412027991901, \"n\": 5321}, {\"threshold\": 0.9559999704360962, \"p\": 28151, \"fpr\": 0.06746852095470776, \"tpr\": 0.7735071578274306, \"n\": 5321}, {\"threshold\": 0.9570000171661377, \"p\": 28151, \"fpr\": 0.06634091336214998, \"tpr\": 0.7713047493872331, \"n\": 5321}, {\"threshold\": 0.9580000042915344, \"p\": 28151, \"fpr\": 0.06558917496711145, \"tpr\": 0.769422045398032, \"n\": 5321}, {\"threshold\": 0.9589999914169312, \"p\": 28151, \"fpr\": 0.06464950197331329, \"tpr\": 0.7666157507726191, \"n\": 5321}, {\"threshold\": 0.9599999785423279, \"p\": 28151, \"fpr\": 0.06427363277579402, \"tpr\": 0.7642357287485347, \"n\": 5321}, {\"threshold\": 0.9610000252723694, \"p\": 28151, \"fpr\": 0.06370982897951513, \"tpr\": 0.7617136158573408, \"n\": 5321}, {\"threshold\": 0.9620000123977661, \"p\": 28151, \"fpr\": 0.06239428678819771, \"tpr\": 0.759582252850698, \"n\": 5321}, {\"threshold\": 0.9629999995231628, \"p\": 28151, \"fpr\": 0.06183048299191881, \"tpr\": 0.7566338673581755, \"n\": 5321}, {\"threshold\": 0.9639999866485596, \"p\": 28151, \"fpr\": 0.06070287539936102, \"tpr\": 0.7534723455649888, \"n\": 5321}, {\"threshold\": 0.9649999737739563, \"p\": 28151, \"fpr\": 0.059951137004322495, \"tpr\": 0.7509857553905722, \"n\": 5321}, {\"threshold\": 0.9660000205039978, \"p\": 28151, \"fpr\": 0.05919939860928397, \"tpr\": 0.7480373698980498, \"n\": 5321}, {\"threshold\": 0.9670000076293945, \"p\": 28151, \"fpr\": 0.05844766021424544, \"tpr\": 0.74505346168875, \"n\": 5321}, {\"threshold\": 0.9679999947547913, \"p\": 28151, \"fpr\": 0.05788385641796655, \"tpr\": 0.7415367127277894, \"n\": 5321}, {\"threshold\": 0.968999981880188, \"p\": 28151, \"fpr\": 0.05750798722044728, \"tpr\": 0.7384462363681574, \"n\": 5321}, {\"threshold\": 0.9700000286102295, \"p\": 28151, \"fpr\": 0.05638037962788949, \"tpr\": 0.7347163511065327, \"n\": 5321}, {\"threshold\": 0.9710000157356262, \"p\": 28151, \"fpr\": 0.055440706634091334, \"tpr\": 0.731661397463678, \"n\": 5321}, {\"threshold\": 0.972000002861023, \"p\": 28151, \"fpr\": 0.05450103364029318, \"tpr\": 0.7276473304678341, \"n\": 5321}, {\"threshold\": 0.9729999899864197, \"p\": 28151, \"fpr\": 0.053937229844014285, \"tpr\": 0.7242016269404284, \"n\": 5321}, {\"threshold\": 0.9739999771118164, \"p\": 28151, \"fpr\": 0.05262168765269686, \"tpr\": 0.7198678554935881, \"n\": 5321}, {\"threshold\": 0.9750000238418579, \"p\": 28151, \"fpr\": 0.05149408006013907, \"tpr\": 0.7154630386131932, \"n\": 5321}, {\"threshold\": 0.9760000109672546, \"p\": 28151, \"fpr\": 0.04980266867130239, \"tpr\": 0.7110226990160208, \"n\": 5321}, {\"threshold\": 0.9769999980926514, \"p\": 28151, \"fpr\": 0.04848712647998497, \"tpr\": 0.7064757912685162, \"n\": 5321}, {\"threshold\": 0.9779999852180481, \"p\": 28151, \"fpr\": 0.04754745348618681, \"tpr\": 0.702142019821676, \"n\": 5321}, {\"threshold\": 0.9789999723434448, \"p\": 28151, \"fpr\": 0.047171584288667544, \"tpr\": 0.6971688394728429, \"n\": 5321}, {\"threshold\": 0.9800000190734863, \"p\": 28151, \"fpr\": 0.04660778049238865, \"tpr\": 0.691272068487798, \"n\": 5321}, {\"threshold\": 0.9810000061988831, \"p\": 28151, \"fpr\": 0.04585604209735012, \"tpr\": 0.68555291108664, \"n\": 5321}, {\"threshold\": 0.9819999933242798, \"p\": 28151, \"fpr\": 0.0445404999060327, \"tpr\": 0.6790167311996022, \"n\": 5321}, {\"threshold\": 0.9829999804496765, \"p\": 28151, \"fpr\": 0.04247321931967675, \"tpr\": 0.6731199602145572, \"n\": 5321}, {\"threshold\": 0.984000027179718, \"p\": 28151, \"fpr\": 0.0409697425295997, \"tpr\": 0.6658022805584171, \"n\": 5321}, {\"threshold\": 0.9850000143051147, \"p\": 28151, \"fpr\": 0.0404059387333208, \"tpr\": 0.6582359418848354, \"n\": 5321}, {\"threshold\": 0.9860000014305115, \"p\": 28151, \"fpr\": 0.03890246194324375, \"tpr\": 0.6500301943092608, \"n\": 5321}, {\"threshold\": 0.9869999885559082, \"p\": 28151, \"fpr\": 0.03777485435068596, \"tpr\": 0.640865333380697, \"n\": 5321}, {\"threshold\": 0.9879999756813049, \"p\": 28151, \"fpr\": 0.03645931215936854, \"tpr\": 0.6317004724521331, \"n\": 5321}, {\"threshold\": 0.9890000224113464, \"p\": 28151, \"fpr\": 0.03476790077053186, \"tpr\": 0.6218251571880218, \"n\": 5321}, {\"threshold\": 0.9900000095367432, \"p\": 28151, \"fpr\": 0.03213681638789701, \"tpr\": 0.6103868423857056, \"n\": 5321}, {\"threshold\": 0.9909999966621399, \"p\": 28151, \"fpr\": 0.03082127419657959, \"tpr\": 0.5982025505310646, \"n\": 5321}, {\"threshold\": 0.9919999837875366, \"p\": 28151, \"fpr\": 0.02950573200526217, \"tpr\": 0.5842066001207772, \"n\": 5321}, {\"threshold\": 0.9929999709129333, \"p\": 28151, \"fpr\": 0.02725051682014659, \"tpr\": 0.5691449682071685, \"n\": 5321}, {\"threshold\": 0.9940000176429749, \"p\": 28151, \"fpr\": 0.025559105431309903, \"tpr\": 0.5521295868708039, \"n\": 5321}, {\"threshold\": 0.9950000047683716, \"p\": 28151, \"fpr\": 0.02405562864123285, \"tpr\": 0.5299634116017193, \"n\": 5321}, {\"threshold\": 0.9959999918937683, \"p\": 28151, \"fpr\": 0.022552151851155798, \"tpr\": 0.5029661468509111, \"n\": 5321}, {\"threshold\": 0.996999979019165, \"p\": 28151, \"fpr\": 0.019921067468520955, \"tpr\": 0.4700010656815033, \"n\": 5321}, {\"threshold\": 0.9980000257492065, \"p\": 28151, \"fpr\": 0.01635031009208795, \"tpr\": 0.4257042378601115, \"n\": 5321}, {\"threshold\": 0.9990000128746033, \"p\": 28151, \"fpr\": 0.012027814320616425, \"tpr\": 0.3570388263294377, \"n\": 5321}, {\"threshold\": 1.0, \"p\": 28151, \"fpr\": 0.0, \"tpr\": 0.0, \"n\": 5321}]}]]}, e);\n",
       "                });\n",
       "            })();\n",
       "        "
      ]
     },
     "metadata": {},
     "output_type": "display_data"
    }
   ],
   "source": [
    "sentiment_model.show(view = 'Evaluation')"
   ]
  },
  {
   "cell_type": "markdown",
   "metadata": {},
   "source": [
    "#Applying the learned model to understand sentiment for Giraffe"
   ]
  },
  {
   "cell_type": "code",
   "execution_count": 27,
   "metadata": {
    "collapsed": false
   },
   "outputs": [],
   "source": [
    "giraffe_reviews['predicted_sentiment'] = sentiment_model.predict(giraffe_reviews, output_type = 'probability')"
   ]
  },
  {
   "cell_type": "code",
   "execution_count": 29,
   "metadata": {
    "collapsed": false
   },
   "outputs": [
    {
     "data": {
      "text/html": [
       "<div style=\"max-height:1000px;max-width:1500px;overflow:auto;\"><table frame=\"box\" rules=\"cols\">\n",
       "    <tr>\n",
       "        <th style=\"padding-left: 1em; padding-right: 1em; text-align: center\">name</th>\n",
       "        <th style=\"padding-left: 1em; padding-right: 1em; text-align: center\">review</th>\n",
       "        <th style=\"padding-left: 1em; padding-right: 1em; text-align: center\">rating</th>\n",
       "        <th style=\"padding-left: 1em; padding-right: 1em; text-align: center\">word_count</th>\n",
       "        <th style=\"padding-left: 1em; padding-right: 1em; text-align: center\">predicted_sentiment</th>\n",
       "    </tr>\n",
       "    <tr>\n",
       "        <td style=\"padding-left: 1em; padding-right: 1em; text-align: center; vertical-align: top\">Vulli Sophie the Giraffe<br>Teether ...</td>\n",
       "        <td style=\"padding-left: 1em; padding-right: 1em; text-align: center; vertical-align: top\">He likes chewing on all<br>the parts especially the ...</td>\n",
       "        <td style=\"padding-left: 1em; padding-right: 1em; text-align: center; vertical-align: top\">5.0</td>\n",
       "        <td style=\"padding-left: 1em; padding-right: 1em; text-align: center; vertical-align: top\">{'and': 1L, 'all': 1L,<br>'because': 1L, 'it': 1L, ...</td>\n",
       "        <td style=\"padding-left: 1em; padding-right: 1em; text-align: center; vertical-align: top\">0.999513023521</td>\n",
       "    </tr>\n",
       "    <tr>\n",
       "        <td style=\"padding-left: 1em; padding-right: 1em; text-align: center; vertical-align: top\">Vulli Sophie the Giraffe<br>Teether ...</td>\n",
       "        <td style=\"padding-left: 1em; padding-right: 1em; text-align: center; vertical-align: top\">My son loves this toy and<br>fits great in the diaper ...</td>\n",
       "        <td style=\"padding-left: 1em; padding-right: 1em; text-align: center; vertical-align: top\">5.0</td>\n",
       "        <td style=\"padding-left: 1em; padding-right: 1em; text-align: center; vertical-align: top\">{'and': 1L, 'right': 1L,<br>'help': 1L, 'just': 1L, ...</td>\n",
       "        <td style=\"padding-left: 1em; padding-right: 1em; text-align: center; vertical-align: top\">0.999320678306</td>\n",
       "    </tr>\n",
       "    <tr>\n",
       "        <td style=\"padding-left: 1em; padding-right: 1em; text-align: center; vertical-align: top\">Vulli Sophie the Giraffe<br>Teether ...</td>\n",
       "        <td style=\"padding-left: 1em; padding-right: 1em; text-align: center; vertical-align: top\">There really should be a<br>large warning on the  ...</td>\n",
       "        <td style=\"padding-left: 1em; padding-right: 1em; text-align: center; vertical-align: top\">1.0</td>\n",
       "        <td style=\"padding-left: 1em; padding-right: 1em; text-align: center; vertical-align: top\">{'and': 2L, 'all': 1L,<br>'latex.': 1L, 'being': ...</td>\n",
       "        <td style=\"padding-left: 1em; padding-right: 1em; text-align: center; vertical-align: top\">0.013558811687</td>\n",
       "    </tr>\n",
       "    <tr>\n",
       "        <td style=\"padding-left: 1em; padding-right: 1em; text-align: center; vertical-align: top\">Vulli Sophie the Giraffe<br>Teether ...</td>\n",
       "        <td style=\"padding-left: 1em; padding-right: 1em; text-align: center; vertical-align: top\">All the moms in my moms'<br>group got Sophie for ...</td>\n",
       "        <td style=\"padding-left: 1em; padding-right: 1em; text-align: center; vertical-align: top\">5.0</td>\n",
       "        <td style=\"padding-left: 1em; padding-right: 1em; text-align: center; vertical-align: top\">{'and': 2L, 'one!': 1L,<br>'all': 1L, 'love': 1L, ...</td>\n",
       "        <td style=\"padding-left: 1em; padding-right: 1em; text-align: center; vertical-align: top\">0.995769474148</td>\n",
       "    </tr>\n",
       "    <tr>\n",
       "        <td style=\"padding-left: 1em; padding-right: 1em; text-align: center; vertical-align: top\">Vulli Sophie the Giraffe<br>Teether ...</td>\n",
       "        <td style=\"padding-left: 1em; padding-right: 1em; text-align: center; vertical-align: top\">I was a little skeptical<br>on whether Sophie was ...</td>\n",
       "        <td style=\"padding-left: 1em; padding-right: 1em; text-align: center; vertical-align: top\">5.0</td>\n",
       "        <td style=\"padding-left: 1em; padding-right: 1em; text-align: center; vertical-align: top\">{'and': 3L, 'all': 1L,<br>'old': 1L, 'her.': 1L, ...</td>\n",
       "        <td style=\"padding-left: 1em; padding-right: 1em; text-align: center; vertical-align: top\">0.662374415673</td>\n",
       "    </tr>\n",
       "    <tr>\n",
       "        <td style=\"padding-left: 1em; padding-right: 1em; text-align: center; vertical-align: top\">Vulli Sophie the Giraffe<br>Teether ...</td>\n",
       "        <td style=\"padding-left: 1em; padding-right: 1em; text-align: center; vertical-align: top\">I have been reading about<br>Sophie and was going  ...</td>\n",
       "        <td style=\"padding-left: 1em; padding-right: 1em; text-align: center; vertical-align: top\">5.0</td>\n",
       "        <td style=\"padding-left: 1em; padding-right: 1em; text-align: center; vertical-align: top\">{'and': 6L, 'seven': 1L,<br>'already': 1L, 'love': ...</td>\n",
       "        <td style=\"padding-left: 1em; padding-right: 1em; text-align: center; vertical-align: top\">0.999997148186</td>\n",
       "    </tr>\n",
       "    <tr>\n",
       "        <td style=\"padding-left: 1em; padding-right: 1em; text-align: center; vertical-align: top\">Vulli Sophie the Giraffe<br>Teether ...</td>\n",
       "        <td style=\"padding-left: 1em; padding-right: 1em; text-align: center; vertical-align: top\">My neice loves her sophie<br>and has spent hours ...</td>\n",
       "        <td style=\"padding-left: 1em; padding-right: 1em; text-align: center; vertical-align: top\">5.0</td>\n",
       "        <td style=\"padding-left: 1em; padding-right: 1em; text-align: center; vertical-align: top\">{'and': 4L, 'drooling,':<br>1L, 'love': 1L, 'her.': ...</td>\n",
       "        <td style=\"padding-left: 1em; padding-right: 1em; text-align: center; vertical-align: top\">0.989190989536</td>\n",
       "    </tr>\n",
       "    <tr>\n",
       "        <td style=\"padding-left: 1em; padding-right: 1em; text-align: center; vertical-align: top\">Vulli Sophie the Giraffe<br>Teether ...</td>\n",
       "        <td style=\"padding-left: 1em; padding-right: 1em; text-align: center; vertical-align: top\">What a friendly face!<br>And those mesmerizing ...</td>\n",
       "        <td style=\"padding-left: 1em; padding-right: 1em; text-align: center; vertical-align: top\">5.0</td>\n",
       "        <td style=\"padding-left: 1em; padding-right: 1em; text-align: center; vertical-align: top\">{'and': 3L, 'chew': 1L,<br>\"don't\": 1L, 'is': 1L, ...</td>\n",
       "        <td style=\"padding-left: 1em; padding-right: 1em; text-align: center; vertical-align: top\">0.999563518413</td>\n",
       "    </tr>\n",
       "    <tr>\n",
       "        <td style=\"padding-left: 1em; padding-right: 1em; text-align: center; vertical-align: top\">Vulli Sophie the Giraffe<br>Teether ...</td>\n",
       "        <td style=\"padding-left: 1em; padding-right: 1em; text-align: center; vertical-align: top\">We got this just for my<br>son to chew on instea ...</td>\n",
       "        <td style=\"padding-left: 1em; padding-right: 1em; text-align: center; vertical-align: top\">5.0</td>\n",
       "        <td style=\"padding-left: 1em; padding-right: 1em; text-align: center; vertical-align: top\">{'chew': 2L, 'because':<br>1L, 'just': 2L, 'what': ...</td>\n",
       "        <td style=\"padding-left: 1em; padding-right: 1em; text-align: center; vertical-align: top\">0.970160542725</td>\n",
       "    </tr>\n",
       "    <tr>\n",
       "        <td style=\"padding-left: 1em; padding-right: 1em; text-align: center; vertical-align: top\">Vulli Sophie the Giraffe<br>Teether ...</td>\n",
       "        <td style=\"padding-left: 1em; padding-right: 1em; text-align: center; vertical-align: top\">My baby seems to like<br>this toy, but I could ...</td>\n",
       "        <td style=\"padding-left: 1em; padding-right: 1em; text-align: center; vertical-align: top\">3.0</td>\n",
       "        <td style=\"padding-left: 1em; padding-right: 1em; text-align: center; vertical-align: top\">{'and': 2L, 'already':<br>1L, 'in': 1L, 'some': ...</td>\n",
       "        <td style=\"padding-left: 1em; padding-right: 1em; text-align: center; vertical-align: top\">0.195367644588</td>\n",
       "    </tr>\n",
       "</table>\n",
       "[10 rows x 5 columns]<br/>\n",
       "</div>"
      ],
      "text/plain": [
       "Columns:\n",
       "\tname\tstr\n",
       "\treview\tstr\n",
       "\trating\tfloat\n",
       "\tword_count\tdict\n",
       "\tpredicted_sentiment\tfloat\n",
       "\n",
       "Rows: 10\n",
       "\n",
       "Data:\n",
       "+-------------------------------+-------------------------------+--------+\n",
       "|              name             |             review            | rating |\n",
       "+-------------------------------+-------------------------------+--------+\n",
       "| Vulli Sophie the Giraffe T... | He likes chewing on all th... |  5.0   |\n",
       "| Vulli Sophie the Giraffe T... | My son loves this toy and ... |  5.0   |\n",
       "| Vulli Sophie the Giraffe T... | There really should be a l... |  1.0   |\n",
       "| Vulli Sophie the Giraffe T... | All the moms in my moms' g... |  5.0   |\n",
       "| Vulli Sophie the Giraffe T... | I was a little skeptical o... |  5.0   |\n",
       "| Vulli Sophie the Giraffe T... | I have been reading about ... |  5.0   |\n",
       "| Vulli Sophie the Giraffe T... | My neice loves her sophie ... |  5.0   |\n",
       "| Vulli Sophie the Giraffe T... | What a friendly face!  And... |  5.0   |\n",
       "| Vulli Sophie the Giraffe T... | We got this just for my so... |  5.0   |\n",
       "| Vulli Sophie the Giraffe T... | My baby seems to like this... |  3.0   |\n",
       "+-------------------------------+-------------------------------+--------+\n",
       "+-------------------------------+---------------------+\n",
       "|           word_count          | predicted_sentiment |\n",
       "+-------------------------------+---------------------+\n",
       "| {'and': 1L, 'all': 1L, 'be... |    0.999513023521   |\n",
       "| {'and': 1L, 'right': 1L, '... |    0.999320678306   |\n",
       "| {'and': 2L, 'all': 1L, 'la... |    0.013558811687   |\n",
       "| {'and': 2L, 'one!': 1L, 'a... |    0.995769474148   |\n",
       "| {'and': 3L, 'all': 1L, 'ol... |    0.662374415673   |\n",
       "| {'and': 6L, 'seven': 1L, '... |    0.999997148186   |\n",
       "| {'and': 4L, 'drooling,': 1... |    0.989190989536   |\n",
       "| {'and': 3L, 'chew': 1L, \"d... |    0.999563518413   |\n",
       "| {'chew': 2L, 'because': 1L... |    0.970160542725   |\n",
       "| {'and': 2L, 'already': 1L,... |    0.195367644588   |\n",
       "+-------------------------------+---------------------+\n",
       "[10 rows x 5 columns]"
      ]
     },
     "execution_count": 29,
     "metadata": {},
     "output_type": "execute_result"
    }
   ],
   "source": [
    "giraffe_reviews.head()"
   ]
  },
  {
   "cell_type": "markdown",
   "metadata": {},
   "source": [
    "##Sort the reviews based on the predicted sentiment and explore"
   ]
  },
  {
   "cell_type": "code",
   "execution_count": 30,
   "metadata": {
    "collapsed": true
   },
   "outputs": [],
   "source": [
    "giraffe_reviews = giraffe_reviews.sort('predicted_sentiment', ascending = False)"
   ]
  },
  {
   "cell_type": "code",
   "execution_count": 32,
   "metadata": {
    "collapsed": false
   },
   "outputs": [
    {
     "data": {
      "text/html": [
       "<div style=\"max-height:1000px;max-width:1500px;overflow:auto;\"><table frame=\"box\" rules=\"cols\">\n",
       "    <tr>\n",
       "        <th style=\"padding-left: 1em; padding-right: 1em; text-align: center\">name</th>\n",
       "        <th style=\"padding-left: 1em; padding-right: 1em; text-align: center\">review</th>\n",
       "        <th style=\"padding-left: 1em; padding-right: 1em; text-align: center\">rating</th>\n",
       "        <th style=\"padding-left: 1em; padding-right: 1em; text-align: center\">word_count</th>\n",
       "        <th style=\"padding-left: 1em; padding-right: 1em; text-align: center\">predicted_sentiment</th>\n",
       "    </tr>\n",
       "    <tr>\n",
       "        <td style=\"padding-left: 1em; padding-right: 1em; text-align: center; vertical-align: top\">Vulli Sophie the Giraffe<br>Teether ...</td>\n",
       "        <td style=\"padding-left: 1em; padding-right: 1em; text-align: center; vertical-align: top\">Sophie, oh Sophie, your<br>time has come. My ...</td>\n",
       "        <td style=\"padding-left: 1em; padding-right: 1em; text-align: center; vertical-align: top\">5.0</td>\n",
       "        <td style=\"padding-left: 1em; padding-right: 1em; text-align: center; vertical-align: top\">{'giggles': 1L, 'all':<br>1L, \"violet's\": 2L, ...</td>\n",
       "        <td style=\"padding-left: 1em; padding-right: 1em; text-align: center; vertical-align: top\">1.0</td>\n",
       "    </tr>\n",
       "    <tr>\n",
       "        <td style=\"padding-left: 1em; padding-right: 1em; text-align: center; vertical-align: top\">Vulli Sophie the Giraffe<br>Teether ...</td>\n",
       "        <td style=\"padding-left: 1em; padding-right: 1em; text-align: center; vertical-align: top\">I'm not sure why Sophie<br>is such a hit with the ...</td>\n",
       "        <td style=\"padding-left: 1em; padding-right: 1em; text-align: center; vertical-align: top\">4.0</td>\n",
       "        <td style=\"padding-left: 1em; padding-right: 1em; text-align: center; vertical-align: top\">{'peace': 1L, 'month':<br>1L, 'bright': 1L, ...</td>\n",
       "        <td style=\"padding-left: 1em; padding-right: 1em; text-align: center; vertical-align: top\">0.999999999703</td>\n",
       "    </tr>\n",
       "    <tr>\n",
       "        <td style=\"padding-left: 1em; padding-right: 1em; text-align: center; vertical-align: top\">Vulli Sophie the Giraffe<br>Teether ...</td>\n",
       "        <td style=\"padding-left: 1em; padding-right: 1em; text-align: center; vertical-align: top\">I'll be honest...I bought<br>this toy because all the ...</td>\n",
       "        <td style=\"padding-left: 1em; padding-right: 1em; text-align: center; vertical-align: top\">4.0</td>\n",
       "        <td style=\"padding-left: 1em; padding-right: 1em; text-align: center; vertical-align: top\">{'all': 2L, 'pops': 1L,<br>'existence.': 1L, ...</td>\n",
       "        <td style=\"padding-left: 1em; padding-right: 1em; text-align: center; vertical-align: top\">0.999999999392</td>\n",
       "    </tr>\n",
       "    <tr>\n",
       "        <td style=\"padding-left: 1em; padding-right: 1em; text-align: center; vertical-align: top\">Vulli Sophie the Giraffe<br>Teether ...</td>\n",
       "        <td style=\"padding-left: 1em; padding-right: 1em; text-align: center; vertical-align: top\">We got this little<br>giraffe as a gift from a ...</td>\n",
       "        <td style=\"padding-left: 1em; padding-right: 1em; text-align: center; vertical-align: top\">5.0</td>\n",
       "        <td style=\"padding-left: 1em; padding-right: 1em; text-align: center; vertical-align: top\">{'all': 2L, \"don't\": 1L,<br>'(literally).so': 1L, ...</td>\n",
       "        <td style=\"padding-left: 1em; padding-right: 1em; text-align: center; vertical-align: top\">0.99999999919</td>\n",
       "    </tr>\n",
       "    <tr>\n",
       "        <td style=\"padding-left: 1em; padding-right: 1em; text-align: center; vertical-align: top\">Vulli Sophie the Giraffe<br>Teether ...</td>\n",
       "        <td style=\"padding-left: 1em; padding-right: 1em; text-align: center; vertical-align: top\">As a mother of 16month<br>old twins; I bought ...</td>\n",
       "        <td style=\"padding-left: 1em; padding-right: 1em; text-align: center; vertical-align: top\">5.0</td>\n",
       "        <td style=\"padding-left: 1em; padding-right: 1em; text-align: center; vertical-align: top\">{'cute': 1L, 'all': 1L,<br>'reviews.': 2L, 'just': ...</td>\n",
       "        <td style=\"padding-left: 1em; padding-right: 1em; text-align: center; vertical-align: top\">0.999999998657</td>\n",
       "    </tr>\n",
       "    <tr>\n",
       "        <td style=\"padding-left: 1em; padding-right: 1em; text-align: center; vertical-align: top\">Vulli Sophie the Giraffe<br>Teether ...</td>\n",
       "        <td style=\"padding-left: 1em; padding-right: 1em; text-align: center; vertical-align: top\">Sophie the Giraffe is the<br>perfect teething toy. ...</td>\n",
       "        <td style=\"padding-left: 1em; padding-right: 1em; text-align: center; vertical-align: top\">5.0</td>\n",
       "        <td style=\"padding-left: 1em; padding-right: 1em; text-align: center; vertical-align: top\">{'just': 2L, 'both': 1L,<br>'month': 1L, 'ears,': ...</td>\n",
       "        <td style=\"padding-left: 1em; padding-right: 1em; text-align: center; vertical-align: top\">0.999999997108</td>\n",
       "    </tr>\n",
       "    <tr>\n",
       "        <td style=\"padding-left: 1em; padding-right: 1em; text-align: center; vertical-align: top\">Vulli Sophie the Giraffe<br>Teether ...</td>\n",
       "        <td style=\"padding-left: 1em; padding-right: 1em; text-align: center; vertical-align: top\">Sophie la giraffe is<br>absolutely the best toy ...</td>\n",
       "        <td style=\"padding-left: 1em; padding-right: 1em; text-align: center; vertical-align: top\">5.0</td>\n",
       "        <td style=\"padding-left: 1em; padding-right: 1em; text-align: center; vertical-align: top\">{'and': 5L, 'the': 1L,<br>'all': 1L, 'old': 1L, ...</td>\n",
       "        <td style=\"padding-left: 1em; padding-right: 1em; text-align: center; vertical-align: top\">0.999999995589</td>\n",
       "    </tr>\n",
       "    <tr>\n",
       "        <td style=\"padding-left: 1em; padding-right: 1em; text-align: center; vertical-align: top\">Vulli Sophie the Giraffe<br>Teether ...</td>\n",
       "        <td style=\"padding-left: 1em; padding-right: 1em; text-align: center; vertical-align: top\">My 5-mos old son took to<br>this immediately. The ...</td>\n",
       "        <td style=\"padding-left: 1em; padding-right: 1em; text-align: center; vertical-align: top\">5.0</td>\n",
       "        <td style=\"padding-left: 1em; padding-right: 1em; text-align: center; vertical-align: top\">{'just': 1L, 'shape': 2L,<br>'mutt': 1L, '\"dog': 1L, ...</td>\n",
       "        <td style=\"padding-left: 1em; padding-right: 1em; text-align: center; vertical-align: top\">0.999999995573</td>\n",
       "    </tr>\n",
       "    <tr>\n",
       "        <td style=\"padding-left: 1em; padding-right: 1em; text-align: center; vertical-align: top\">Vulli Sophie the Giraffe<br>Teether ...</td>\n",
       "        <td style=\"padding-left: 1em; padding-right: 1em; text-align: center; vertical-align: top\">My nephews and my four<br>kids all had Sophie in ...</td>\n",
       "        <td style=\"padding-left: 1em; padding-right: 1em; text-align: center; vertical-align: top\">5.0</td>\n",
       "        <td style=\"padding-left: 1em; padding-right: 1em; text-align: center; vertical-align: top\">{'and': 4L, 'chew': 1L,<br>'all': 1L, 'perfect;': ...</td>\n",
       "        <td style=\"padding-left: 1em; padding-right: 1em; text-align: center; vertical-align: top\">0.999999989527</td>\n",
       "    </tr>\n",
       "    <tr>\n",
       "        <td style=\"padding-left: 1em; padding-right: 1em; text-align: center; vertical-align: top\">Vulli Sophie the Giraffe<br>Teether ...</td>\n",
       "        <td style=\"padding-left: 1em; padding-right: 1em; text-align: center; vertical-align: top\">Never thought I'd see my<br>son French kissing a ...</td>\n",
       "        <td style=\"padding-left: 1em; padding-right: 1em; text-align: center; vertical-align: top\">5.0</td>\n",
       "        <td style=\"padding-left: 1em; padding-right: 1em; text-align: center; vertical-align: top\">{'giggles': 1L, 'all':<br>1L, 'out,': 1L, 'over': ...</td>\n",
       "        <td style=\"padding-left: 1em; padding-right: 1em; text-align: center; vertical-align: top\">0.999999985069</td>\n",
       "    </tr>\n",
       "</table>\n",
       "[10 rows x 5 columns]<br/>\n",
       "</div>"
      ],
      "text/plain": [
       "Columns:\n",
       "\tname\tstr\n",
       "\treview\tstr\n",
       "\trating\tfloat\n",
       "\tword_count\tdict\n",
       "\tpredicted_sentiment\tfloat\n",
       "\n",
       "Rows: 10\n",
       "\n",
       "Data:\n",
       "+-------------------------------+-------------------------------+--------+\n",
       "|              name             |             review            | rating |\n",
       "+-------------------------------+-------------------------------+--------+\n",
       "| Vulli Sophie the Giraffe T... | Sophie, oh Sophie, your ti... |  5.0   |\n",
       "| Vulli Sophie the Giraffe T... | I'm not sure why Sophie is... |  4.0   |\n",
       "| Vulli Sophie the Giraffe T... | I'll be honest...I bought ... |  4.0   |\n",
       "| Vulli Sophie the Giraffe T... | We got this little giraffe... |  5.0   |\n",
       "| Vulli Sophie the Giraffe T... | As a mother of 16month old... |  5.0   |\n",
       "| Vulli Sophie the Giraffe T... | Sophie the Giraffe is the ... |  5.0   |\n",
       "| Vulli Sophie the Giraffe T... | Sophie la giraffe is absol... |  5.0   |\n",
       "| Vulli Sophie the Giraffe T... | My 5-mos old son took to t... |  5.0   |\n",
       "| Vulli Sophie the Giraffe T... | My nephews and my four kid... |  5.0   |\n",
       "| Vulli Sophie the Giraffe T... | Never thought I'd see my s... |  5.0   |\n",
       "+-------------------------------+-------------------------------+--------+\n",
       "+-------------------------------+---------------------+\n",
       "|           word_count          | predicted_sentiment |\n",
       "+-------------------------------+---------------------+\n",
       "| {'giggles': 1L, 'all': 1L,... |         1.0         |\n",
       "| {'peace': 1L, 'month': 1L,... |    0.999999999703   |\n",
       "| {'all': 2L, 'pops': 1L, 'e... |    0.999999999392   |\n",
       "| {'all': 2L, \"don't\": 1L, '... |    0.99999999919    |\n",
       "| {'cute': 1L, 'all': 1L, 'r... |    0.999999998657   |\n",
       "| {'just': 2L, 'both': 1L, '... |    0.999999997108   |\n",
       "| {'and': 5L, 'the': 1L, 'al... |    0.999999995589   |\n",
       "| {'just': 1L, 'shape': 2L, ... |    0.999999995573   |\n",
       "| {'and': 4L, 'chew': 1L, 'a... |    0.999999989527   |\n",
       "| {'giggles': 1L, 'all': 1L,... |    0.999999985069   |\n",
       "+-------------------------------+---------------------+\n",
       "[10 rows x 5 columns]"
      ]
     },
     "execution_count": 32,
     "metadata": {},
     "output_type": "execute_result"
    }
   ],
   "source": [
    "giraffe_reviews.head()"
   ]
  },
  {
   "cell_type": "code",
   "execution_count": 33,
   "metadata": {
    "collapsed": false
   },
   "outputs": [
    {
     "data": {
      "text/plain": [
       "\"Sophie, oh Sophie, your time has come. My granddaughter, Violet is 5 months old and starting to teeth. What joy little Sophie brings to Violet. Sophie is made of a very pliable rubber that is sturdy but not tough. It is quite easy for Violet to twist Sophie into unheard of positions to get Sophie into her mouth. The little nose and hooves fit perfectly into small mouths, and the drooling has purpose. The paint on Sophie is food quality.Sophie was born in 1961 in France. The maker had wondered why there was nothing available for babies and made Sophie from the finest rubber, phthalate-free on St Sophie's Day, thus the name was born. Since that time millions of Sophie's populate the world. She is soft and for babies little hands easy to grasp. Violet especially loves the bumpy head and horns of Sophie. Sophie has a long neck that easy to grasp and twist. She has lovely, sizable spots that attract Violet's attention. Sophie has happy little squeaks that bring squeals of delight from Violet. She is able to make Sophie squeak and that brings much joy. Sophie's smooth skin is soothing to Violet's little gums. Sophie is 7 inches tall and is the exact correct size for babies to hold and love.As you well know the first thing babies grasp, goes into their mouths- how wonderful to have a toy that stimulates all of the senses and helps with the issue of teething. Sophie is small enough to fit into any size pocket or bag. Sophie is the perfect find for babies from a few months to a year old. How wonderful to hear the giggles and laughs that emanate from babies who find Sophie irresistible. Viva La Sophie!Highly Recommended.  prisrob 12-11-09\""
      ]
     },
     "execution_count": 33,
     "metadata": {},
     "output_type": "execute_result"
    }
   ],
   "source": [
    "giraffe_reviews[0]['review']"
   ]
  },
  {
   "cell_type": "code",
   "execution_count": 34,
   "metadata": {
    "collapsed": false
   },
   "outputs": [
    {
     "data": {
      "text/plain": [
       "\"I'm not sure why Sophie is such a hit with the little ones, but my 7 month old baby girl is one of her adoring fans.  The rubber is softer and more pleasant to handle, and my daughter has enjoyed chewing on her legs and the nubs on her head even before she started teething.  She also loves the squeak that Sophie makes when you squeeze her.  Not sure what it is but if Sophie is amongst a pile of her other toys, my daughter will more often than not reach for Sophie.  And I have the peace of mind of knowing that only edible and safe paints and materials have been used to make Sophie, as opposed to Bright Starts and other baby toys made in China.  Now that the research is out on phthalates and other toxic substances in baby toys, I think it's more important than ever to find good quality toys that are also safe for our babies to handle and put in their mouths.  Sophie is a must-have for every new mom in my opinion.  Even if your kid is one of the few that can take or leave her, it's worth a try.  Vulli, the makers of Sophie, also make natural rubber teething rings that my daughter loves as well.\""
      ]
     },
     "execution_count": 34,
     "metadata": {},
     "output_type": "execute_result"
    }
   ],
   "source": [
    "giraffe_reviews[1]['review']"
   ]
  },
  {
   "cell_type": "markdown",
   "metadata": {},
   "source": [
    "#Show most negative reviews"
   ]
  },
  {
   "cell_type": "code",
   "execution_count": 35,
   "metadata": {
    "collapsed": false
   },
   "outputs": [
    {
     "data": {
      "text/plain": [
       "\"My son (now 2.5) LOVED his Sophie, and I bought one for every baby shower I've gone to. Now, my daughter (6 months) just today nearly choked on it and I will never give it to her again. Had I not been within hearing range it could have been fatal. The strange sound she was making caught my attention and when I went to her and found the front curved leg shoved well down her throat and her face a purply/blue I panicked. I pulled it out and she vomited all over the carpet before screaming her head off. I can't believe how my opinion of this toy has changed from a must-have to a must-not-use. Please don't disregard any of the choking hazard comments, they are not over exaggerated!\""
      ]
     },
     "execution_count": 35,
     "metadata": {},
     "output_type": "execute_result"
    }
   ],
   "source": [
    "giraffe_reviews[-1]['review']"
   ]
  },
  {
   "cell_type": "code",
   "execution_count": 36,
   "metadata": {
    "collapsed": false
   },
   "outputs": [
    {
     "data": {
      "text/plain": [
       "\"This children's toy is nostalgic and very cute. However, there is a distinct rubber smell and a very odd taste, yes I tried it, that my baby did not enjoy. Also, if it is soiled it is extremely difficult to clean as the rubber is a kind of porus material and does not clean well. The final thing is the squeaking device inside which stopped working after the first couple of days. I returned this item feeling I had overpaid for a toy that was defective and did not meet my expectations. Please do not be swayed by the cute packaging and hype surounding it as I was. One more thing, I was given a full refund from Amazon without any problem.\""
      ]
     },
     "execution_count": 36,
     "metadata": {},
     "output_type": "execute_result"
    }
   ],
   "source": [
    "giraffe_reviews[-2]['review']"
   ]
  },
  {
   "cell_type": "code",
   "execution_count": 37,
   "metadata": {
    "collapsed": true
   },
   "outputs": [],
   "source": [
    "selected_words = ['awesome', 'great', 'fantastic', 'amazing', \n",
    "                  'love', 'horrible', 'bad', 'terrible', 'awful', 'wow', 'hate']"
   ]
  },
  {
   "cell_type": "code",
   "execution_count": 38,
   "metadata": {
    "collapsed": true
   },
   "outputs": [],
   "source": [
    "def awesome_count(dict):\n",
    "    count = 0\n",
    "    if 'awesome' in dict:\n",
    "        count = int(dict['awesome'])\n",
    "    return count    "
   ]
  },
  {
   "cell_type": "code",
   "execution_count": 45,
   "metadata": {
    "collapsed": false
   },
   "outputs": [],
   "source": [
    "products['awesome'] = products['word_count'].apply(awesome_count)"
   ]
  },
  {
   "cell_type": "code",
   "execution_count": 46,
   "metadata": {
    "collapsed": true
   },
   "outputs": [],
   "source": [
    "def great_count(dict):\n",
    "    count = 0\n",
    "    if 'great' in dict:\n",
    "        count = int(dict['great'])\n",
    "    return count   "
   ]
  },
  {
   "cell_type": "code",
   "execution_count": 48,
   "metadata": {
    "collapsed": false
   },
   "outputs": [],
   "source": [
    "products['great'] = products['word_count'].apply(great_count)"
   ]
  },
  {
   "cell_type": "code",
   "execution_count": 49,
   "metadata": {
    "collapsed": true
   },
   "outputs": [],
   "source": [
    "def fantastic_count(dict):\n",
    "    count = 0\n",
    "    if 'fantastic' in dict:\n",
    "        count = int(dict['fantastic'])\n",
    "    return count   "
   ]
  },
  {
   "cell_type": "code",
   "execution_count": 50,
   "metadata": {
    "collapsed": true
   },
   "outputs": [],
   "source": [
    "products['fantastic'] = products['word_count'].apply(fantastic_count)"
   ]
  },
  {
   "cell_type": "code",
   "execution_count": 53,
   "metadata": {
    "collapsed": true
   },
   "outputs": [],
   "source": [
    "def amazing_count(dict):\n",
    "    count = 0\n",
    "    if 'amazing' in dict:\n",
    "        count = int(dict['amazing'])\n",
    "    return count  "
   ]
  },
  {
   "cell_type": "code",
   "execution_count": 54,
   "metadata": {
    "collapsed": false
   },
   "outputs": [],
   "source": [
    "products['amazing'] = products['word_count'].apply(amazing_count)"
   ]
  },
  {
   "cell_type": "code",
   "execution_count": 55,
   "metadata": {
    "collapsed": true
   },
   "outputs": [],
   "source": [
    "def love_count(dict):\n",
    "    count = 0\n",
    "    if 'love' in dict:\n",
    "        count = int(dict['love'])\n",
    "    return count "
   ]
  },
  {
   "cell_type": "code",
   "execution_count": 56,
   "metadata": {
    "collapsed": true
   },
   "outputs": [],
   "source": [
    "products['love'] = products['word_count'].apply(love_count)"
   ]
  },
  {
   "cell_type": "code",
   "execution_count": 57,
   "metadata": {
    "collapsed": true
   },
   "outputs": [],
   "source": [
    "def horrible_count(dict):\n",
    "    count = 0\n",
    "    if 'horrible' in dict:\n",
    "        count = int(dict['horrible'])\n",
    "    return count "
   ]
  },
  {
   "cell_type": "code",
   "execution_count": 58,
   "metadata": {
    "collapsed": true
   },
   "outputs": [],
   "source": [
    "products['horrible'] = products['word_count'].apply(horrible_count)"
   ]
  },
  {
   "cell_type": "code",
   "execution_count": 59,
   "metadata": {
    "collapsed": true
   },
   "outputs": [],
   "source": [
    "def bad_count(dict):\n",
    "    count = 0\n",
    "    if 'bad' in dict:\n",
    "        count = int(dict['bad'])\n",
    "    return count "
   ]
  },
  {
   "cell_type": "code",
   "execution_count": 60,
   "metadata": {
    "collapsed": true
   },
   "outputs": [],
   "source": [
    "products['bad'] = products['word_count'].apply(bad_count)"
   ]
  },
  {
   "cell_type": "code",
   "execution_count": 61,
   "metadata": {
    "collapsed": true
   },
   "outputs": [],
   "source": [
    "def terrible_count(dict):\n",
    "    count = 0\n",
    "    if 'terrible' in dict:\n",
    "        count = int(dict['terrible'])\n",
    "    return count "
   ]
  },
  {
   "cell_type": "code",
   "execution_count": 62,
   "metadata": {
    "collapsed": true
   },
   "outputs": [],
   "source": [
    "products['terrible'] = products['word_count'].apply(terrible_count)"
   ]
  },
  {
   "cell_type": "code",
   "execution_count": 63,
   "metadata": {
    "collapsed": true
   },
   "outputs": [],
   "source": [
    "def awful_count(dict):\n",
    "    count = 0\n",
    "    if 'awful' in dict:\n",
    "        count = int(dict['awful'])\n",
    "    return count"
   ]
  },
  {
   "cell_type": "code",
   "execution_count": 64,
   "metadata": {
    "collapsed": true
   },
   "outputs": [],
   "source": [
    "products['awful'] = products['word_count'].apply(awful_count)"
   ]
  },
  {
   "cell_type": "code",
   "execution_count": 65,
   "metadata": {
    "collapsed": true
   },
   "outputs": [],
   "source": [
    "def wow_count(dict):\n",
    "    count = 0\n",
    "    if 'wow' in dict:\n",
    "        count = int(dict['wow'])\n",
    "    return count"
   ]
  },
  {
   "cell_type": "code",
   "execution_count": 66,
   "metadata": {
    "collapsed": true
   },
   "outputs": [],
   "source": [
    "products['wow'] = products['word_count'].apply(wow_count)"
   ]
  },
  {
   "cell_type": "code",
   "execution_count": 67,
   "metadata": {
    "collapsed": true
   },
   "outputs": [],
   "source": [
    "def hate_count(dict):\n",
    "    count = 0\n",
    "    if 'hate' in dict:\n",
    "        count = int(dict['hate'])\n",
    "    return count"
   ]
  },
  {
   "cell_type": "code",
   "execution_count": 68,
   "metadata": {
    "collapsed": true
   },
   "outputs": [],
   "source": [
    "products['hate'] = products['word_count'].apply(hate_count)"
   ]
  },
  {
   "cell_type": "code",
   "execution_count": 69,
   "metadata": {
    "collapsed": false
   },
   "outputs": [
    {
     "data": {
      "text/html": [
       "<div style=\"max-height:1000px;max-width:1500px;overflow:auto;\"><table frame=\"box\" rules=\"cols\">\n",
       "    <tr>\n",
       "        <th style=\"padding-left: 1em; padding-right: 1em; text-align: center\">name</th>\n",
       "        <th style=\"padding-left: 1em; padding-right: 1em; text-align: center\">review</th>\n",
       "        <th style=\"padding-left: 1em; padding-right: 1em; text-align: center\">rating</th>\n",
       "        <th style=\"padding-left: 1em; padding-right: 1em; text-align: center\">word_count</th>\n",
       "        <th style=\"padding-left: 1em; padding-right: 1em; text-align: center\">sentiment</th>\n",
       "        <th style=\"padding-left: 1em; padding-right: 1em; text-align: center\">awesome</th>\n",
       "    </tr>\n",
       "    <tr>\n",
       "        <td style=\"padding-left: 1em; padding-right: 1em; text-align: center; vertical-align: top\">Planetwise Wipe Pouch</td>\n",
       "        <td style=\"padding-left: 1em; padding-right: 1em; text-align: center; vertical-align: top\">it came early and was not<br>disappointed. i love ...</td>\n",
       "        <td style=\"padding-left: 1em; padding-right: 1em; text-align: center; vertical-align: top\">5.0</td>\n",
       "        <td style=\"padding-left: 1em; padding-right: 1em; text-align: center; vertical-align: top\">{'and': 3L, 'love': 1L,<br>'it': 2L, 'highly': 1L, ...</td>\n",
       "        <td style=\"padding-left: 1em; padding-right: 1em; text-align: center; vertical-align: top\">1</td>\n",
       "        <td style=\"padding-left: 1em; padding-right: 1em; text-align: center; vertical-align: top\">0</td>\n",
       "    </tr>\n",
       "    <tr>\n",
       "        <td style=\"padding-left: 1em; padding-right: 1em; text-align: center; vertical-align: top\">Annas Dream Full Quilt<br>with 2 Shams ...</td>\n",
       "        <td style=\"padding-left: 1em; padding-right: 1em; text-align: center; vertical-align: top\">Very soft and comfortable<br>and warmer than it ...</td>\n",
       "        <td style=\"padding-left: 1em; padding-right: 1em; text-align: center; vertical-align: top\">5.0</td>\n",
       "        <td style=\"padding-left: 1em; padding-right: 1em; text-align: center; vertical-align: top\">{'and': 2L, 'quilt': 1L,<br>'it': 1L, 'comfortable': ...</td>\n",
       "        <td style=\"padding-left: 1em; padding-right: 1em; text-align: center; vertical-align: top\">1</td>\n",
       "        <td style=\"padding-left: 1em; padding-right: 1em; text-align: center; vertical-align: top\">0</td>\n",
       "    </tr>\n",
       "    <tr>\n",
       "        <td style=\"padding-left: 1em; padding-right: 1em; text-align: center; vertical-align: top\">Stop Pacifier Sucking<br>without tears with ...</td>\n",
       "        <td style=\"padding-left: 1em; padding-right: 1em; text-align: center; vertical-align: top\">This is a product well<br>worth the purchase.  I ...</td>\n",
       "        <td style=\"padding-left: 1em; padding-right: 1em; text-align: center; vertical-align: top\">5.0</td>\n",
       "        <td style=\"padding-left: 1em; padding-right: 1em; text-align: center; vertical-align: top\">{'ingenious': 1L, 'and':<br>3L, 'love': 2L, ...</td>\n",
       "        <td style=\"padding-left: 1em; padding-right: 1em; text-align: center; vertical-align: top\">1</td>\n",
       "        <td style=\"padding-left: 1em; padding-right: 1em; text-align: center; vertical-align: top\">0</td>\n",
       "    </tr>\n",
       "    <tr>\n",
       "        <td style=\"padding-left: 1em; padding-right: 1em; text-align: center; vertical-align: top\">Stop Pacifier Sucking<br>without tears with ...</td>\n",
       "        <td style=\"padding-left: 1em; padding-right: 1em; text-align: center; vertical-align: top\">All of my kids have cried<br>non-stop when I tried to ...</td>\n",
       "        <td style=\"padding-left: 1em; padding-right: 1em; text-align: center; vertical-align: top\">5.0</td>\n",
       "        <td style=\"padding-left: 1em; padding-right: 1em; text-align: center; vertical-align: top\">{'and': 2L, 'parents!!':<br>1L, 'all': 2L, 'puppe ...</td>\n",
       "        <td style=\"padding-left: 1em; padding-right: 1em; text-align: center; vertical-align: top\">1</td>\n",
       "        <td style=\"padding-left: 1em; padding-right: 1em; text-align: center; vertical-align: top\">0</td>\n",
       "    </tr>\n",
       "    <tr>\n",
       "        <td style=\"padding-left: 1em; padding-right: 1em; text-align: center; vertical-align: top\">Stop Pacifier Sucking<br>without tears with ...</td>\n",
       "        <td style=\"padding-left: 1em; padding-right: 1em; text-align: center; vertical-align: top\">When the Binky Fairy came<br>to our house, we didn't ...</td>\n",
       "        <td style=\"padding-left: 1em; padding-right: 1em; text-align: center; vertical-align: top\">5.0</td>\n",
       "        <td style=\"padding-left: 1em; padding-right: 1em; text-align: center; vertical-align: top\">{'and': 2L, 'cute': 1L,<br>'help': 2L, 'doll': 1L, ...</td>\n",
       "        <td style=\"padding-left: 1em; padding-right: 1em; text-align: center; vertical-align: top\">1</td>\n",
       "        <td style=\"padding-left: 1em; padding-right: 1em; text-align: center; vertical-align: top\">0</td>\n",
       "    </tr>\n",
       "    <tr>\n",
       "        <td style=\"padding-left: 1em; padding-right: 1em; text-align: center; vertical-align: top\">A Tale of Baby's Days<br>with Peter Rabbit ...</td>\n",
       "        <td style=\"padding-left: 1em; padding-right: 1em; text-align: center; vertical-align: top\">Lovely book, it's bound<br>tightly so you may no ...</td>\n",
       "        <td style=\"padding-left: 1em; padding-right: 1em; text-align: center; vertical-align: top\">4.0</td>\n",
       "        <td style=\"padding-left: 1em; padding-right: 1em; text-align: center; vertical-align: top\">{'shop': 1L, 'be': 1L,<br>'is': 1L, 'it': 1L, ' ...</td>\n",
       "        <td style=\"padding-left: 1em; padding-right: 1em; text-align: center; vertical-align: top\">1</td>\n",
       "        <td style=\"padding-left: 1em; padding-right: 1em; text-align: center; vertical-align: top\">0</td>\n",
       "    </tr>\n",
       "    <tr>\n",
       "        <td style=\"padding-left: 1em; padding-right: 1em; text-align: center; vertical-align: top\">Baby Tracker&amp;reg; - Daily<br>Childcare Journal, ...</td>\n",
       "        <td style=\"padding-left: 1em; padding-right: 1em; text-align: center; vertical-align: top\">Perfect for new parents.<br>We were able to keep ...</td>\n",
       "        <td style=\"padding-left: 1em; padding-right: 1em; text-align: center; vertical-align: top\">5.0</td>\n",
       "        <td style=\"padding-left: 1em; padding-right: 1em; text-align: center; vertical-align: top\">{'feeding,': 1L, 'and':<br>2L, 'all': 1L, 'right': ...</td>\n",
       "        <td style=\"padding-left: 1em; padding-right: 1em; text-align: center; vertical-align: top\">1</td>\n",
       "        <td style=\"padding-left: 1em; padding-right: 1em; text-align: center; vertical-align: top\">0</td>\n",
       "    </tr>\n",
       "    <tr>\n",
       "        <td style=\"padding-left: 1em; padding-right: 1em; text-align: center; vertical-align: top\">Baby Tracker&amp;reg; - Daily<br>Childcare Journal, ...</td>\n",
       "        <td style=\"padding-left: 1em; padding-right: 1em; text-align: center; vertical-align: top\">A friend of mine pinned<br>this product on Pinte ...</td>\n",
       "        <td style=\"padding-left: 1em; padding-right: 1em; text-align: center; vertical-align: top\">5.0</td>\n",
       "        <td style=\"padding-left: 1em; padding-right: 1em; text-align: center; vertical-align: top\">{'and': 1L, 'help': 1L,<br>'give': 1L, 'is': 1L, ...</td>\n",
       "        <td style=\"padding-left: 1em; padding-right: 1em; text-align: center; vertical-align: top\">1</td>\n",
       "        <td style=\"padding-left: 1em; padding-right: 1em; text-align: center; vertical-align: top\">0</td>\n",
       "    </tr>\n",
       "    <tr>\n",
       "        <td style=\"padding-left: 1em; padding-right: 1em; text-align: center; vertical-align: top\">Baby Tracker&amp;reg; - Daily<br>Childcare Journal, ...</td>\n",
       "        <td style=\"padding-left: 1em; padding-right: 1em; text-align: center; vertical-align: top\">This has been an easy way<br>for my nanny to record ...</td>\n",
       "        <td style=\"padding-left: 1em; padding-right: 1em; text-align: center; vertical-align: top\">4.0</td>\n",
       "        <td style=\"padding-left: 1em; padding-right: 1em; text-align: center; vertical-align: top\">{'journal.': 1L, 'all':<br>1L, 'standarad': 1L, ...</td>\n",
       "        <td style=\"padding-left: 1em; padding-right: 1em; text-align: center; vertical-align: top\">1</td>\n",
       "        <td style=\"padding-left: 1em; padding-right: 1em; text-align: center; vertical-align: top\">0</td>\n",
       "    </tr>\n",
       "    <tr>\n",
       "        <td style=\"padding-left: 1em; padding-right: 1em; text-align: center; vertical-align: top\">Baby Tracker&amp;reg; - Daily<br>Childcare Journal, ...</td>\n",
       "        <td style=\"padding-left: 1em; padding-right: 1em; text-align: center; vertical-align: top\">I love this journal and<br>our nanny uses it ...</td>\n",
       "        <td style=\"padding-left: 1em; padding-right: 1em; text-align: center; vertical-align: top\">4.0</td>\n",
       "        <td style=\"padding-left: 1em; padding-right: 1em; text-align: center; vertical-align: top\">{'all': 1L, 'forget': 1L,<br>'just': 1L, \"daughter ...</td>\n",
       "        <td style=\"padding-left: 1em; padding-right: 1em; text-align: center; vertical-align: top\">1</td>\n",
       "        <td style=\"padding-left: 1em; padding-right: 1em; text-align: center; vertical-align: top\">0</td>\n",
       "    </tr>\n",
       "</table>\n",
       "<table frame=\"box\" rules=\"cols\">\n",
       "    <tr>\n",
       "        <th style=\"padding-left: 1em; padding-right: 1em; text-align: center\">great</th>\n",
       "        <th style=\"padding-left: 1em; padding-right: 1em; text-align: center\">fantastic</th>\n",
       "        <th style=\"padding-left: 1em; padding-right: 1em; text-align: center\">amazing</th>\n",
       "        <th style=\"padding-left: 1em; padding-right: 1em; text-align: center\">love</th>\n",
       "        <th style=\"padding-left: 1em; padding-right: 1em; text-align: center\">horrible</th>\n",
       "        <th style=\"padding-left: 1em; padding-right: 1em; text-align: center\">bad</th>\n",
       "        <th style=\"padding-left: 1em; padding-right: 1em; text-align: center\">terrible</th>\n",
       "        <th style=\"padding-left: 1em; padding-right: 1em; text-align: center\">awful</th>\n",
       "        <th style=\"padding-left: 1em; padding-right: 1em; text-align: center\">wow</th>\n",
       "        <th style=\"padding-left: 1em; padding-right: 1em; text-align: center\">hate</th>\n",
       "    </tr>\n",
       "    <tr>\n",
       "        <td style=\"padding-left: 1em; padding-right: 1em; text-align: center; vertical-align: top\">0</td>\n",
       "        <td style=\"padding-left: 1em; padding-right: 1em; text-align: center; vertical-align: top\">0</td>\n",
       "        <td style=\"padding-left: 1em; padding-right: 1em; text-align: center; vertical-align: top\">0</td>\n",
       "        <td style=\"padding-left: 1em; padding-right: 1em; text-align: center; vertical-align: top\">1</td>\n",
       "        <td style=\"padding-left: 1em; padding-right: 1em; text-align: center; vertical-align: top\">0</td>\n",
       "        <td style=\"padding-left: 1em; padding-right: 1em; text-align: center; vertical-align: top\">0</td>\n",
       "        <td style=\"padding-left: 1em; padding-right: 1em; text-align: center; vertical-align: top\">0</td>\n",
       "        <td style=\"padding-left: 1em; padding-right: 1em; text-align: center; vertical-align: top\">0</td>\n",
       "        <td style=\"padding-left: 1em; padding-right: 1em; text-align: center; vertical-align: top\">0</td>\n",
       "        <td style=\"padding-left: 1em; padding-right: 1em; text-align: center; vertical-align: top\">0</td>\n",
       "    </tr>\n",
       "    <tr>\n",
       "        <td style=\"padding-left: 1em; padding-right: 1em; text-align: center; vertical-align: top\">0</td>\n",
       "        <td style=\"padding-left: 1em; padding-right: 1em; text-align: center; vertical-align: top\">0</td>\n",
       "        <td style=\"padding-left: 1em; padding-right: 1em; text-align: center; vertical-align: top\">0</td>\n",
       "        <td style=\"padding-left: 1em; padding-right: 1em; text-align: center; vertical-align: top\">0</td>\n",
       "        <td style=\"padding-left: 1em; padding-right: 1em; text-align: center; vertical-align: top\">0</td>\n",
       "        <td style=\"padding-left: 1em; padding-right: 1em; text-align: center; vertical-align: top\">0</td>\n",
       "        <td style=\"padding-left: 1em; padding-right: 1em; text-align: center; vertical-align: top\">0</td>\n",
       "        <td style=\"padding-left: 1em; padding-right: 1em; text-align: center; vertical-align: top\">0</td>\n",
       "        <td style=\"padding-left: 1em; padding-right: 1em; text-align: center; vertical-align: top\">0</td>\n",
       "        <td style=\"padding-left: 1em; padding-right: 1em; text-align: center; vertical-align: top\">0</td>\n",
       "    </tr>\n",
       "    <tr>\n",
       "        <td style=\"padding-left: 1em; padding-right: 1em; text-align: center; vertical-align: top\">0</td>\n",
       "        <td style=\"padding-left: 1em; padding-right: 1em; text-align: center; vertical-align: top\">0</td>\n",
       "        <td style=\"padding-left: 1em; padding-right: 1em; text-align: center; vertical-align: top\">0</td>\n",
       "        <td style=\"padding-left: 1em; padding-right: 1em; text-align: center; vertical-align: top\">2</td>\n",
       "        <td style=\"padding-left: 1em; padding-right: 1em; text-align: center; vertical-align: top\">0</td>\n",
       "        <td style=\"padding-left: 1em; padding-right: 1em; text-align: center; vertical-align: top\">0</td>\n",
       "        <td style=\"padding-left: 1em; padding-right: 1em; text-align: center; vertical-align: top\">0</td>\n",
       "        <td style=\"padding-left: 1em; padding-right: 1em; text-align: center; vertical-align: top\">0</td>\n",
       "        <td style=\"padding-left: 1em; padding-right: 1em; text-align: center; vertical-align: top\">0</td>\n",
       "        <td style=\"padding-left: 1em; padding-right: 1em; text-align: center; vertical-align: top\">0</td>\n",
       "    </tr>\n",
       "    <tr>\n",
       "        <td style=\"padding-left: 1em; padding-right: 1em; text-align: center; vertical-align: top\">1</td>\n",
       "        <td style=\"padding-left: 1em; padding-right: 1em; text-align: center; vertical-align: top\">0</td>\n",
       "        <td style=\"padding-left: 1em; padding-right: 1em; text-align: center; vertical-align: top\">0</td>\n",
       "        <td style=\"padding-left: 1em; padding-right: 1em; text-align: center; vertical-align: top\">0</td>\n",
       "        <td style=\"padding-left: 1em; padding-right: 1em; text-align: center; vertical-align: top\">0</td>\n",
       "        <td style=\"padding-left: 1em; padding-right: 1em; text-align: center; vertical-align: top\">0</td>\n",
       "        <td style=\"padding-left: 1em; padding-right: 1em; text-align: center; vertical-align: top\">0</td>\n",
       "        <td style=\"padding-left: 1em; padding-right: 1em; text-align: center; vertical-align: top\">0</td>\n",
       "        <td style=\"padding-left: 1em; padding-right: 1em; text-align: center; vertical-align: top\">0</td>\n",
       "        <td style=\"padding-left: 1em; padding-right: 1em; text-align: center; vertical-align: top\">0</td>\n",
       "    </tr>\n",
       "    <tr>\n",
       "        <td style=\"padding-left: 1em; padding-right: 1em; text-align: center; vertical-align: top\">1</td>\n",
       "        <td style=\"padding-left: 1em; padding-right: 1em; text-align: center; vertical-align: top\">0</td>\n",
       "        <td style=\"padding-left: 1em; padding-right: 1em; text-align: center; vertical-align: top\">0</td>\n",
       "        <td style=\"padding-left: 1em; padding-right: 1em; text-align: center; vertical-align: top\">0</td>\n",
       "        <td style=\"padding-left: 1em; padding-right: 1em; text-align: center; vertical-align: top\">0</td>\n",
       "        <td style=\"padding-left: 1em; padding-right: 1em; text-align: center; vertical-align: top\">0</td>\n",
       "        <td style=\"padding-left: 1em; padding-right: 1em; text-align: center; vertical-align: top\">0</td>\n",
       "        <td style=\"padding-left: 1em; padding-right: 1em; text-align: center; vertical-align: top\">0</td>\n",
       "        <td style=\"padding-left: 1em; padding-right: 1em; text-align: center; vertical-align: top\">0</td>\n",
       "        <td style=\"padding-left: 1em; padding-right: 1em; text-align: center; vertical-align: top\">0</td>\n",
       "    </tr>\n",
       "    <tr>\n",
       "        <td style=\"padding-left: 1em; padding-right: 1em; text-align: center; vertical-align: top\">0</td>\n",
       "        <td style=\"padding-left: 1em; padding-right: 1em; text-align: center; vertical-align: top\">0</td>\n",
       "        <td style=\"padding-left: 1em; padding-right: 1em; text-align: center; vertical-align: top\">0</td>\n",
       "        <td style=\"padding-left: 1em; padding-right: 1em; text-align: center; vertical-align: top\">0</td>\n",
       "        <td style=\"padding-left: 1em; padding-right: 1em; text-align: center; vertical-align: top\">0</td>\n",
       "        <td style=\"padding-left: 1em; padding-right: 1em; text-align: center; vertical-align: top\">0</td>\n",
       "        <td style=\"padding-left: 1em; padding-right: 1em; text-align: center; vertical-align: top\">0</td>\n",
       "        <td style=\"padding-left: 1em; padding-right: 1em; text-align: center; vertical-align: top\">0</td>\n",
       "        <td style=\"padding-left: 1em; padding-right: 1em; text-align: center; vertical-align: top\">0</td>\n",
       "        <td style=\"padding-left: 1em; padding-right: 1em; text-align: center; vertical-align: top\">0</td>\n",
       "    </tr>\n",
       "    <tr>\n",
       "        <td style=\"padding-left: 1em; padding-right: 1em; text-align: center; vertical-align: top\">0</td>\n",
       "        <td style=\"padding-left: 1em; padding-right: 1em; text-align: center; vertical-align: top\">0</td>\n",
       "        <td style=\"padding-left: 1em; padding-right: 1em; text-align: center; vertical-align: top\">0</td>\n",
       "        <td style=\"padding-left: 1em; padding-right: 1em; text-align: center; vertical-align: top\">0</td>\n",
       "        <td style=\"padding-left: 1em; padding-right: 1em; text-align: center; vertical-align: top\">0</td>\n",
       "        <td style=\"padding-left: 1em; padding-right: 1em; text-align: center; vertical-align: top\">0</td>\n",
       "        <td style=\"padding-left: 1em; padding-right: 1em; text-align: center; vertical-align: top\">0</td>\n",
       "        <td style=\"padding-left: 1em; padding-right: 1em; text-align: center; vertical-align: top\">0</td>\n",
       "        <td style=\"padding-left: 1em; padding-right: 1em; text-align: center; vertical-align: top\">0</td>\n",
       "        <td style=\"padding-left: 1em; padding-right: 1em; text-align: center; vertical-align: top\">0</td>\n",
       "    </tr>\n",
       "    <tr>\n",
       "        <td style=\"padding-left: 1em; padding-right: 1em; text-align: center; vertical-align: top\">0</td>\n",
       "        <td style=\"padding-left: 1em; padding-right: 1em; text-align: center; vertical-align: top\">0</td>\n",
       "        <td style=\"padding-left: 1em; padding-right: 1em; text-align: center; vertical-align: top\">0</td>\n",
       "        <td style=\"padding-left: 1em; padding-right: 1em; text-align: center; vertical-align: top\">0</td>\n",
       "        <td style=\"padding-left: 1em; padding-right: 1em; text-align: center; vertical-align: top\">0</td>\n",
       "        <td style=\"padding-left: 1em; padding-right: 1em; text-align: center; vertical-align: top\">0</td>\n",
       "        <td style=\"padding-left: 1em; padding-right: 1em; text-align: center; vertical-align: top\">0</td>\n",
       "        <td style=\"padding-left: 1em; padding-right: 1em; text-align: center; vertical-align: top\">0</td>\n",
       "        <td style=\"padding-left: 1em; padding-right: 1em; text-align: center; vertical-align: top\">0</td>\n",
       "        <td style=\"padding-left: 1em; padding-right: 1em; text-align: center; vertical-align: top\">0</td>\n",
       "    </tr>\n",
       "    <tr>\n",
       "        <td style=\"padding-left: 1em; padding-right: 1em; text-align: center; vertical-align: top\">0</td>\n",
       "        <td style=\"padding-left: 1em; padding-right: 1em; text-align: center; vertical-align: top\">0</td>\n",
       "        <td style=\"padding-left: 1em; padding-right: 1em; text-align: center; vertical-align: top\">0</td>\n",
       "        <td style=\"padding-left: 1em; padding-right: 1em; text-align: center; vertical-align: top\">0</td>\n",
       "        <td style=\"padding-left: 1em; padding-right: 1em; text-align: center; vertical-align: top\">0</td>\n",
       "        <td style=\"padding-left: 1em; padding-right: 1em; text-align: center; vertical-align: top\">0</td>\n",
       "        <td style=\"padding-left: 1em; padding-right: 1em; text-align: center; vertical-align: top\">0</td>\n",
       "        <td style=\"padding-left: 1em; padding-right: 1em; text-align: center; vertical-align: top\">0</td>\n",
       "        <td style=\"padding-left: 1em; padding-right: 1em; text-align: center; vertical-align: top\">0</td>\n",
       "        <td style=\"padding-left: 1em; padding-right: 1em; text-align: center; vertical-align: top\">0</td>\n",
       "    </tr>\n",
       "    <tr>\n",
       "        <td style=\"padding-left: 1em; padding-right: 1em; text-align: center; vertical-align: top\">0</td>\n",
       "        <td style=\"padding-left: 1em; padding-right: 1em; text-align: center; vertical-align: top\">0</td>\n",
       "        <td style=\"padding-left: 1em; padding-right: 1em; text-align: center; vertical-align: top\">0</td>\n",
       "        <td style=\"padding-left: 1em; padding-right: 1em; text-align: center; vertical-align: top\">2</td>\n",
       "        <td style=\"padding-left: 1em; padding-right: 1em; text-align: center; vertical-align: top\">0</td>\n",
       "        <td style=\"padding-left: 1em; padding-right: 1em; text-align: center; vertical-align: top\">0</td>\n",
       "        <td style=\"padding-left: 1em; padding-right: 1em; text-align: center; vertical-align: top\">0</td>\n",
       "        <td style=\"padding-left: 1em; padding-right: 1em; text-align: center; vertical-align: top\">0</td>\n",
       "        <td style=\"padding-left: 1em; padding-right: 1em; text-align: center; vertical-align: top\">0</td>\n",
       "        <td style=\"padding-left: 1em; padding-right: 1em; text-align: center; vertical-align: top\">0</td>\n",
       "    </tr>\n",
       "</table>\n",
       "[10 rows x 16 columns]<br/>\n",
       "</div>"
      ],
      "text/plain": [
       "Columns:\n",
       "\tname\tstr\n",
       "\treview\tstr\n",
       "\trating\tfloat\n",
       "\tword_count\tdict\n",
       "\tsentiment\tint\n",
       "\tawesome\tint\n",
       "\tgreat\tint\n",
       "\tfantastic\tint\n",
       "\tamazing\tint\n",
       "\tlove\tint\n",
       "\thorrible\tint\n",
       "\tbad\tint\n",
       "\tterrible\tint\n",
       "\tawful\tint\n",
       "\twow\tint\n",
       "\thate\tint\n",
       "\n",
       "Rows: 10\n",
       "\n",
       "Data:\n",
       "+-------------------------------+-------------------------------+--------+\n",
       "|              name             |             review            | rating |\n",
       "+-------------------------------+-------------------------------+--------+\n",
       "|     Planetwise Wipe Pouch     | it came early and was not ... |  5.0   |\n",
       "| Annas Dream Full Quilt wit... | Very soft and comfortable ... |  5.0   |\n",
       "| Stop Pacifier Sucking with... | This is a product well wor... |  5.0   |\n",
       "| Stop Pacifier Sucking with... | All of my kids have cried ... |  5.0   |\n",
       "| Stop Pacifier Sucking with... | When the Binky Fairy came ... |  5.0   |\n",
       "| A Tale of Baby's Days with... | Lovely book, it's bound ti... |  4.0   |\n",
       "| Baby Tracker&reg; - Daily ... | Perfect for new parents. W... |  5.0   |\n",
       "| Baby Tracker&reg; - Daily ... | A friend of mine pinned th... |  5.0   |\n",
       "| Baby Tracker&reg; - Daily ... | This has been an easy way ... |  4.0   |\n",
       "| Baby Tracker&reg; - Daily ... | I love this journal and ou... |  4.0   |\n",
       "+-------------------------------+-------------------------------+--------+\n",
       "+-------------------------------+-----------+---------+-------+-----------+---------+\n",
       "|           word_count          | sentiment | awesome | great | fantastic | amazing |\n",
       "+-------------------------------+-----------+---------+-------+-----------+---------+\n",
       "| {'and': 3L, 'love': 1L, 'i... |     1     |    0    |   0   |     0     |    0    |\n",
       "| {'and': 2L, 'quilt': 1L, '... |     1     |    0    |   0   |     0     |    0    |\n",
       "| {'ingenious': 1L, 'and': 3... |     1     |    0    |   0   |     0     |    0    |\n",
       "| {'and': 2L, 'parents!!': 1... |     1     |    0    |   1   |     0     |    0    |\n",
       "| {'and': 2L, 'cute': 1L, 'h... |     1     |    0    |   1   |     0     |    0    |\n",
       "| {'shop': 1L, 'be': 1L, 'is... |     1     |    0    |   0   |     0     |    0    |\n",
       "| {'feeding,': 1L, 'and': 2L... |     1     |    0    |   0   |     0     |    0    |\n",
       "| {'and': 1L, 'help': 1L, 'g... |     1     |    0    |   0   |     0     |    0    |\n",
       "| {'journal.': 1L, 'all': 1L... |     1     |    0    |   0   |     0     |    0    |\n",
       "| {'all': 1L, 'forget': 1L, ... |     1     |    0    |   0   |     0     |    0    |\n",
       "+-------------------------------+-----------+---------+-------+-----------+---------+\n",
       "+------+----------+-----+----------+-------+-----+------+\n",
       "| love | horrible | bad | terrible | awful | wow | hate |\n",
       "+------+----------+-----+----------+-------+-----+------+\n",
       "|  1   |    0     |  0  |    0     |   0   |  0  |  0   |\n",
       "|  0   |    0     |  0  |    0     |   0   |  0  |  0   |\n",
       "|  2   |    0     |  0  |    0     |   0   |  0  |  0   |\n",
       "|  0   |    0     |  0  |    0     |   0   |  0  |  0   |\n",
       "|  0   |    0     |  0  |    0     |   0   |  0  |  0   |\n",
       "|  0   |    0     |  0  |    0     |   0   |  0  |  0   |\n",
       "|  0   |    0     |  0  |    0     |   0   |  0  |  0   |\n",
       "|  0   |    0     |  0  |    0     |   0   |  0  |  0   |\n",
       "|  0   |    0     |  0  |    0     |   0   |  0  |  0   |\n",
       "|  2   |    0     |  0  |    0     |   0   |  0  |  0   |\n",
       "+------+----------+-----+----------+-------+-----+------+\n",
       "[10 rows x 16 columns]"
      ]
     },
     "execution_count": 69,
     "metadata": {},
     "output_type": "execute_result"
    }
   ],
   "source": [
    "products.head()"
   ]
  },
  {
   "cell_type": "code",
   "execution_count": 70,
   "metadata": {
    "collapsed": true
   },
   "outputs": [],
   "source": [
    "awesome_sum = products['awesome'].sum()"
   ]
  },
  {
   "cell_type": "code",
   "execution_count": 71,
   "metadata": {
    "collapsed": false
   },
   "outputs": [
    {
     "data": {
      "text/plain": [
       "2002L"
      ]
     },
     "execution_count": 71,
     "metadata": {},
     "output_type": "execute_result"
    }
   ],
   "source": [
    "awesome_sum"
   ]
  },
  {
   "cell_type": "code",
   "execution_count": 72,
   "metadata": {
    "collapsed": true
   },
   "outputs": [],
   "source": [
    "great_sum = products['great'].sum()"
   ]
  },
  {
   "cell_type": "code",
   "execution_count": 73,
   "metadata": {
    "collapsed": false
   },
   "outputs": [
    {
     "data": {
      "text/plain": [
       "42420L"
      ]
     },
     "execution_count": 73,
     "metadata": {},
     "output_type": "execute_result"
    }
   ],
   "source": [
    "great_sum"
   ]
  },
  {
   "cell_type": "code",
   "execution_count": 74,
   "metadata": {
    "collapsed": true
   },
   "outputs": [],
   "source": [
    "fantastic_sum = products['fantastic'].sum()"
   ]
  },
  {
   "cell_type": "code",
   "execution_count": 75,
   "metadata": {
    "collapsed": false
   },
   "outputs": [
    {
     "data": {
      "text/plain": [
       "873L"
      ]
     },
     "execution_count": 75,
     "metadata": {},
     "output_type": "execute_result"
    }
   ],
   "source": [
    "fantastic_sum"
   ]
  },
  {
   "cell_type": "code",
   "execution_count": 76,
   "metadata": {
    "collapsed": true
   },
   "outputs": [],
   "source": [
    "amazing_sum = products['amazing'].sum()"
   ]
  },
  {
   "cell_type": "code",
   "execution_count": 77,
   "metadata": {
    "collapsed": false
   },
   "outputs": [
    {
     "data": {
      "text/plain": [
       "1305L"
      ]
     },
     "execution_count": 77,
     "metadata": {},
     "output_type": "execute_result"
    }
   ],
   "source": [
    "amazing_sum"
   ]
  },
  {
   "cell_type": "code",
   "execution_count": 78,
   "metadata": {
    "collapsed": true
   },
   "outputs": [],
   "source": [
    "love_sum = products['love'].sum()"
   ]
  },
  {
   "cell_type": "code",
   "execution_count": 79,
   "metadata": {
    "collapsed": false
   },
   "outputs": [
    {
     "data": {
      "text/plain": [
       "40277L"
      ]
     },
     "execution_count": 79,
     "metadata": {},
     "output_type": "execute_result"
    }
   ],
   "source": [
    "love_sum"
   ]
  },
  {
   "cell_type": "code",
   "execution_count": 80,
   "metadata": {
    "collapsed": true
   },
   "outputs": [],
   "source": [
    "horrible_sum = products['horrible'].sum()"
   ]
  },
  {
   "cell_type": "code",
   "execution_count": 81,
   "metadata": {
    "collapsed": false
   },
   "outputs": [
    {
     "data": {
      "text/plain": [
       "659L"
      ]
     },
     "execution_count": 81,
     "metadata": {},
     "output_type": "execute_result"
    }
   ],
   "source": [
    "horrible_sum"
   ]
  },
  {
   "cell_type": "code",
   "execution_count": 82,
   "metadata": {
    "collapsed": true
   },
   "outputs": [],
   "source": [
    "bad_sum = products['bad'].sum()"
   ]
  },
  {
   "cell_type": "code",
   "execution_count": 83,
   "metadata": {
    "collapsed": false
   },
   "outputs": [
    {
     "data": {
      "text/plain": [
       "3197L"
      ]
     },
     "execution_count": 83,
     "metadata": {},
     "output_type": "execute_result"
    }
   ],
   "source": [
    "bad_sum"
   ]
  },
  {
   "cell_type": "code",
   "execution_count": 84,
   "metadata": {
    "collapsed": true
   },
   "outputs": [],
   "source": [
    "terrible_sum = products['terrible'].sum()"
   ]
  },
  {
   "cell_type": "code",
   "execution_count": 85,
   "metadata": {
    "collapsed": false
   },
   "outputs": [
    {
     "data": {
      "text/plain": [
       "673L"
      ]
     },
     "execution_count": 85,
     "metadata": {},
     "output_type": "execute_result"
    }
   ],
   "source": [
    "terrible_sum"
   ]
  },
  {
   "cell_type": "code",
   "execution_count": 86,
   "metadata": {
    "collapsed": true
   },
   "outputs": [],
   "source": [
    "awful_sum = products['awful'].sum()"
   ]
  },
  {
   "cell_type": "code",
   "execution_count": 87,
   "metadata": {
    "collapsed": false
   },
   "outputs": [
    {
     "data": {
      "text/plain": [
       "345L"
      ]
     },
     "execution_count": 87,
     "metadata": {},
     "output_type": "execute_result"
    }
   ],
   "source": [
    "awful_sum"
   ]
  },
  {
   "cell_type": "code",
   "execution_count": 88,
   "metadata": {
    "collapsed": true
   },
   "outputs": [],
   "source": [
    "wow_sum = products['wow'].sum()"
   ]
  },
  {
   "cell_type": "code",
   "execution_count": 89,
   "metadata": {
    "collapsed": false
   },
   "outputs": [
    {
     "data": {
      "text/plain": [
       "131L"
      ]
     },
     "execution_count": 89,
     "metadata": {},
     "output_type": "execute_result"
    }
   ],
   "source": [
    "wow_sum"
   ]
  },
  {
   "cell_type": "code",
   "execution_count": 90,
   "metadata": {
    "collapsed": true
   },
   "outputs": [],
   "source": [
    "hate_sum = products['hate'].sum()"
   ]
  },
  {
   "cell_type": "code",
   "execution_count": 91,
   "metadata": {
    "collapsed": false
   },
   "outputs": [
    {
     "data": {
      "text/plain": [
       "1057L"
      ]
     },
     "execution_count": 91,
     "metadata": {},
     "output_type": "execute_result"
    }
   ],
   "source": [
    "hate_sum"
   ]
  },
  {
   "cell_type": "code",
   "execution_count": 93,
   "metadata": {
    "collapsed": false
   },
   "outputs": [],
   "source": [
    "train_data, test_data = products.random_split(0.8, seed =0)"
   ]
  },
  {
   "cell_type": "code",
   "execution_count": 94,
   "metadata": {
    "collapsed": false
   },
   "outputs": [
    {
     "name": "stdout",
     "output_type": "stream",
     "text": [
      "PROGRESS: Logistic regression:\n",
      "PROGRESS: --------------------------------------------------------\n",
      "PROGRESS: Number of examples          : 133448\n",
      "PROGRESS: Number of classes           : 2\n",
      "PROGRESS: Number of feature columns   : 11\n",
      "PROGRESS: Number of unpacked features : 11\n",
      "PROGRESS: Number of coefficients    : 12\n",
      "PROGRESS: Starting Newton Method\n",
      "PROGRESS: --------------------------------------------------------\n",
      "PROGRESS: +-----------+----------+--------------+-------------------+---------------------+\n",
      "PROGRESS: | Iteration | Passes   | Elapsed Time | Training-accuracy | Validation-accuracy |\n",
      "PROGRESS: +-----------+----------+--------------+-------------------+---------------------+\n",
      "PROGRESS: | 1         | 2        | 0.351995     | 0.844299          | 0.842842            |\n",
      "PROGRESS: | 2         | 3        | 0.639982     | 0.844186          | 0.842842            |\n",
      "PROGRESS: | 3         | 4        | 0.879999     | 0.844276          | 0.843142            |\n",
      "PROGRESS: | 4         | 5        | 1.164368     | 0.844269          | 0.843142            |\n",
      "PROGRESS: | 5         | 6        | 1.444385     | 0.844269          | 0.843142            |\n",
      "PROGRESS: | 6         | 7        | 1.684400     | 0.844269          | 0.843142            |\n",
      "PROGRESS: +-----------+----------+--------------+-------------------+---------------------+\n"
     ]
    }
   ],
   "source": [
    "selected_words_model = graphlab.logistic_classifier.create(train_data, \n",
    "                                                     target = 'sentiment',\n",
    "                                                     features = selected_words,\n",
    "                                                     validation_set = test_data)"
   ]
  },
  {
   "cell_type": "code",
   "execution_count": 95,
   "metadata": {
    "collapsed": false
   },
   "outputs": [
    {
     "data": {
      "text/html": [
       "<div style=\"max-height:1000px;max-width:1500px;overflow:auto;\"><table frame=\"box\" rules=\"cols\">\n",
       "    <tr>\n",
       "        <th style=\"padding-left: 1em; padding-right: 1em; text-align: center\">name</th>\n",
       "        <th style=\"padding-left: 1em; padding-right: 1em; text-align: center\">index</th>\n",
       "        <th style=\"padding-left: 1em; padding-right: 1em; text-align: center\">class</th>\n",
       "        <th style=\"padding-left: 1em; padding-right: 1em; text-align: center\">value</th>\n",
       "    </tr>\n",
       "    <tr>\n",
       "        <td style=\"padding-left: 1em; padding-right: 1em; text-align: center; vertical-align: top\">(intercept)</td>\n",
       "        <td style=\"padding-left: 1em; padding-right: 1em; text-align: center; vertical-align: top\">None</td>\n",
       "        <td style=\"padding-left: 1em; padding-right: 1em; text-align: center; vertical-align: top\">1</td>\n",
       "        <td style=\"padding-left: 1em; padding-right: 1em; text-align: center; vertical-align: top\">1.36728315229</td>\n",
       "    </tr>\n",
       "    <tr>\n",
       "        <td style=\"padding-left: 1em; padding-right: 1em; text-align: center; vertical-align: top\">awesome</td>\n",
       "        <td style=\"padding-left: 1em; padding-right: 1em; text-align: center; vertical-align: top\">None</td>\n",
       "        <td style=\"padding-left: 1em; padding-right: 1em; text-align: center; vertical-align: top\">1</td>\n",
       "        <td style=\"padding-left: 1em; padding-right: 1em; text-align: center; vertical-align: top\">1.05800888878</td>\n",
       "    </tr>\n",
       "    <tr>\n",
       "        <td style=\"padding-left: 1em; padding-right: 1em; text-align: center; vertical-align: top\">great</td>\n",
       "        <td style=\"padding-left: 1em; padding-right: 1em; text-align: center; vertical-align: top\">None</td>\n",
       "        <td style=\"padding-left: 1em; padding-right: 1em; text-align: center; vertical-align: top\">1</td>\n",
       "        <td style=\"padding-left: 1em; padding-right: 1em; text-align: center; vertical-align: top\">0.883937894898</td>\n",
       "    </tr>\n",
       "    <tr>\n",
       "        <td style=\"padding-left: 1em; padding-right: 1em; text-align: center; vertical-align: top\">fantastic</td>\n",
       "        <td style=\"padding-left: 1em; padding-right: 1em; text-align: center; vertical-align: top\">None</td>\n",
       "        <td style=\"padding-left: 1em; padding-right: 1em; text-align: center; vertical-align: top\">1</td>\n",
       "        <td style=\"padding-left: 1em; padding-right: 1em; text-align: center; vertical-align: top\">0.891303090304</td>\n",
       "    </tr>\n",
       "    <tr>\n",
       "        <td style=\"padding-left: 1em; padding-right: 1em; text-align: center; vertical-align: top\">amazing</td>\n",
       "        <td style=\"padding-left: 1em; padding-right: 1em; text-align: center; vertical-align: top\">None</td>\n",
       "        <td style=\"padding-left: 1em; padding-right: 1em; text-align: center; vertical-align: top\">1</td>\n",
       "        <td style=\"padding-left: 1em; padding-right: 1em; text-align: center; vertical-align: top\">0.892802422508</td>\n",
       "    </tr>\n",
       "    <tr>\n",
       "        <td style=\"padding-left: 1em; padding-right: 1em; text-align: center; vertical-align: top\">love</td>\n",
       "        <td style=\"padding-left: 1em; padding-right: 1em; text-align: center; vertical-align: top\">None</td>\n",
       "        <td style=\"padding-left: 1em; padding-right: 1em; text-align: center; vertical-align: top\">1</td>\n",
       "        <td style=\"padding-left: 1em; padding-right: 1em; text-align: center; vertical-align: top\">1.39989834302</td>\n",
       "    </tr>\n",
       "    <tr>\n",
       "        <td style=\"padding-left: 1em; padding-right: 1em; text-align: center; vertical-align: top\">horrible</td>\n",
       "        <td style=\"padding-left: 1em; padding-right: 1em; text-align: center; vertical-align: top\">None</td>\n",
       "        <td style=\"padding-left: 1em; padding-right: 1em; text-align: center; vertical-align: top\">1</td>\n",
       "        <td style=\"padding-left: 1em; padding-right: 1em; text-align: center; vertical-align: top\">-1.99651800559</td>\n",
       "    </tr>\n",
       "    <tr>\n",
       "        <td style=\"padding-left: 1em; padding-right: 1em; text-align: center; vertical-align: top\">bad</td>\n",
       "        <td style=\"padding-left: 1em; padding-right: 1em; text-align: center; vertical-align: top\">None</td>\n",
       "        <td style=\"padding-left: 1em; padding-right: 1em; text-align: center; vertical-align: top\">1</td>\n",
       "        <td style=\"padding-left: 1em; padding-right: 1em; text-align: center; vertical-align: top\">-0.985827369929</td>\n",
       "    </tr>\n",
       "    <tr>\n",
       "        <td style=\"padding-left: 1em; padding-right: 1em; text-align: center; vertical-align: top\">terrible</td>\n",
       "        <td style=\"padding-left: 1em; padding-right: 1em; text-align: center; vertical-align: top\">None</td>\n",
       "        <td style=\"padding-left: 1em; padding-right: 1em; text-align: center; vertical-align: top\">1</td>\n",
       "        <td style=\"padding-left: 1em; padding-right: 1em; text-align: center; vertical-align: top\">-2.09049998487</td>\n",
       "    </tr>\n",
       "    <tr>\n",
       "        <td style=\"padding-left: 1em; padding-right: 1em; text-align: center; vertical-align: top\">awful</td>\n",
       "        <td style=\"padding-left: 1em; padding-right: 1em; text-align: center; vertical-align: top\">None</td>\n",
       "        <td style=\"padding-left: 1em; padding-right: 1em; text-align: center; vertical-align: top\">1</td>\n",
       "        <td style=\"padding-left: 1em; padding-right: 1em; text-align: center; vertical-align: top\">-1.76469955631</td>\n",
       "    </tr>\n",
       "</table>\n",
       "[12 rows x 4 columns]<br/>Note: Only the head of the SFrame is printed.<br/>You can use print_rows(num_rows=m, num_columns=n) to print more rows and columns.\n",
       "</div>"
      ],
      "text/plain": [
       "Columns:\n",
       "\tname\tstr\n",
       "\tindex\tstr\n",
       "\tclass\tint\n",
       "\tvalue\tfloat\n",
       "\n",
       "Rows: 12\n",
       "\n",
       "Data:\n",
       "+-------------+-------+-------+-----------------+\n",
       "|     name    | index | class |      value      |\n",
       "+-------------+-------+-------+-----------------+\n",
       "| (intercept) |  None |   1   |  1.36728315229  |\n",
       "|   awesome   |  None |   1   |  1.05800888878  |\n",
       "|    great    |  None |   1   |  0.883937894898 |\n",
       "|  fantastic  |  None |   1   |  0.891303090304 |\n",
       "|   amazing   |  None |   1   |  0.892802422508 |\n",
       "|     love    |  None |   1   |  1.39989834302  |\n",
       "|   horrible  |  None |   1   |  -1.99651800559 |\n",
       "|     bad     |  None |   1   | -0.985827369929 |\n",
       "|   terrible  |  None |   1   |  -2.09049998487 |\n",
       "|    awful    |  None |   1   |  -1.76469955631 |\n",
       "+-------------+-------+-------+-----------------+\n",
       "[12 rows x 4 columns]\n",
       "Note: Only the head of the SFrame is printed.\n",
       "You can use print_rows(num_rows=m, num_columns=n) to print more rows and columns."
      ]
     },
     "execution_count": 95,
     "metadata": {},
     "output_type": "execute_result"
    }
   ],
   "source": [
    "selected_words_model['coefficients']"
   ]
  },
  {
   "cell_type": "code",
   "execution_count": 96,
   "metadata": {
    "collapsed": true
   },
   "outputs": [],
   "source": [
    "selected_words_model_coefficients = selected_words_model['coefficients'].sort('value', ascending = False)"
   ]
  },
  {
   "cell_type": "code",
   "execution_count": 97,
   "metadata": {
    "collapsed": false
   },
   "outputs": [
    {
     "data": {
      "text/html": [
       "<div style=\"max-height:1000px;max-width:1500px;overflow:auto;\"><table frame=\"box\" rules=\"cols\">\n",
       "    <tr>\n",
       "        <th style=\"padding-left: 1em; padding-right: 1em; text-align: center\">name</th>\n",
       "        <th style=\"padding-left: 1em; padding-right: 1em; text-align: center\">index</th>\n",
       "        <th style=\"padding-left: 1em; padding-right: 1em; text-align: center\">class</th>\n",
       "        <th style=\"padding-left: 1em; padding-right: 1em; text-align: center\">value</th>\n",
       "    </tr>\n",
       "    <tr>\n",
       "        <td style=\"padding-left: 1em; padding-right: 1em; text-align: center; vertical-align: top\">love</td>\n",
       "        <td style=\"padding-left: 1em; padding-right: 1em; text-align: center; vertical-align: top\">None</td>\n",
       "        <td style=\"padding-left: 1em; padding-right: 1em; text-align: center; vertical-align: top\">1</td>\n",
       "        <td style=\"padding-left: 1em; padding-right: 1em; text-align: center; vertical-align: top\">1.39989834302</td>\n",
       "    </tr>\n",
       "    <tr>\n",
       "        <td style=\"padding-left: 1em; padding-right: 1em; text-align: center; vertical-align: top\">(intercept)</td>\n",
       "        <td style=\"padding-left: 1em; padding-right: 1em; text-align: center; vertical-align: top\">None</td>\n",
       "        <td style=\"padding-left: 1em; padding-right: 1em; text-align: center; vertical-align: top\">1</td>\n",
       "        <td style=\"padding-left: 1em; padding-right: 1em; text-align: center; vertical-align: top\">1.36728315229</td>\n",
       "    </tr>\n",
       "    <tr>\n",
       "        <td style=\"padding-left: 1em; padding-right: 1em; text-align: center; vertical-align: top\">awesome</td>\n",
       "        <td style=\"padding-left: 1em; padding-right: 1em; text-align: center; vertical-align: top\">None</td>\n",
       "        <td style=\"padding-left: 1em; padding-right: 1em; text-align: center; vertical-align: top\">1</td>\n",
       "        <td style=\"padding-left: 1em; padding-right: 1em; text-align: center; vertical-align: top\">1.05800888878</td>\n",
       "    </tr>\n",
       "    <tr>\n",
       "        <td style=\"padding-left: 1em; padding-right: 1em; text-align: center; vertical-align: top\">amazing</td>\n",
       "        <td style=\"padding-left: 1em; padding-right: 1em; text-align: center; vertical-align: top\">None</td>\n",
       "        <td style=\"padding-left: 1em; padding-right: 1em; text-align: center; vertical-align: top\">1</td>\n",
       "        <td style=\"padding-left: 1em; padding-right: 1em; text-align: center; vertical-align: top\">0.892802422508</td>\n",
       "    </tr>\n",
       "    <tr>\n",
       "        <td style=\"padding-left: 1em; padding-right: 1em; text-align: center; vertical-align: top\">fantastic</td>\n",
       "        <td style=\"padding-left: 1em; padding-right: 1em; text-align: center; vertical-align: top\">None</td>\n",
       "        <td style=\"padding-left: 1em; padding-right: 1em; text-align: center; vertical-align: top\">1</td>\n",
       "        <td style=\"padding-left: 1em; padding-right: 1em; text-align: center; vertical-align: top\">0.891303090304</td>\n",
       "    </tr>\n",
       "    <tr>\n",
       "        <td style=\"padding-left: 1em; padding-right: 1em; text-align: center; vertical-align: top\">great</td>\n",
       "        <td style=\"padding-left: 1em; padding-right: 1em; text-align: center; vertical-align: top\">None</td>\n",
       "        <td style=\"padding-left: 1em; padding-right: 1em; text-align: center; vertical-align: top\">1</td>\n",
       "        <td style=\"padding-left: 1em; padding-right: 1em; text-align: center; vertical-align: top\">0.883937894898</td>\n",
       "    </tr>\n",
       "    <tr>\n",
       "        <td style=\"padding-left: 1em; padding-right: 1em; text-align: center; vertical-align: top\">wow</td>\n",
       "        <td style=\"padding-left: 1em; padding-right: 1em; text-align: center; vertical-align: top\">None</td>\n",
       "        <td style=\"padding-left: 1em; padding-right: 1em; text-align: center; vertical-align: top\">1</td>\n",
       "        <td style=\"padding-left: 1em; padding-right: 1em; text-align: center; vertical-align: top\">-0.0541450123333</td>\n",
       "    </tr>\n",
       "    <tr>\n",
       "        <td style=\"padding-left: 1em; padding-right: 1em; text-align: center; vertical-align: top\">bad</td>\n",
       "        <td style=\"padding-left: 1em; padding-right: 1em; text-align: center; vertical-align: top\">None</td>\n",
       "        <td style=\"padding-left: 1em; padding-right: 1em; text-align: center; vertical-align: top\">1</td>\n",
       "        <td style=\"padding-left: 1em; padding-right: 1em; text-align: center; vertical-align: top\">-0.985827369929</td>\n",
       "    </tr>\n",
       "    <tr>\n",
       "        <td style=\"padding-left: 1em; padding-right: 1em; text-align: center; vertical-align: top\">hate</td>\n",
       "        <td style=\"padding-left: 1em; padding-right: 1em; text-align: center; vertical-align: top\">None</td>\n",
       "        <td style=\"padding-left: 1em; padding-right: 1em; text-align: center; vertical-align: top\">1</td>\n",
       "        <td style=\"padding-left: 1em; padding-right: 1em; text-align: center; vertical-align: top\">-1.40916406276</td>\n",
       "    </tr>\n",
       "    <tr>\n",
       "        <td style=\"padding-left: 1em; padding-right: 1em; text-align: center; vertical-align: top\">awful</td>\n",
       "        <td style=\"padding-left: 1em; padding-right: 1em; text-align: center; vertical-align: top\">None</td>\n",
       "        <td style=\"padding-left: 1em; padding-right: 1em; text-align: center; vertical-align: top\">1</td>\n",
       "        <td style=\"padding-left: 1em; padding-right: 1em; text-align: center; vertical-align: top\">-1.76469955631</td>\n",
       "    </tr>\n",
       "</table>\n",
       "[12 rows x 4 columns]<br/>Note: Only the head of the SFrame is printed.<br/>You can use print_rows(num_rows=m, num_columns=n) to print more rows and columns.\n",
       "</div>"
      ],
      "text/plain": [
       "Columns:\n",
       "\tname\tstr\n",
       "\tindex\tstr\n",
       "\tclass\tint\n",
       "\tvalue\tfloat\n",
       "\n",
       "Rows: 12\n",
       "\n",
       "Data:\n",
       "+-------------+-------+-------+------------------+\n",
       "|     name    | index | class |      value       |\n",
       "+-------------+-------+-------+------------------+\n",
       "|     love    |  None |   1   |  1.39989834302   |\n",
       "| (intercept) |  None |   1   |  1.36728315229   |\n",
       "|   awesome   |  None |   1   |  1.05800888878   |\n",
       "|   amazing   |  None |   1   |  0.892802422508  |\n",
       "|  fantastic  |  None |   1   |  0.891303090304  |\n",
       "|    great    |  None |   1   |  0.883937894898  |\n",
       "|     wow     |  None |   1   | -0.0541450123333 |\n",
       "|     bad     |  None |   1   | -0.985827369929  |\n",
       "|     hate    |  None |   1   |  -1.40916406276  |\n",
       "|    awful    |  None |   1   |  -1.76469955631  |\n",
       "+-------------+-------+-------+------------------+\n",
       "[12 rows x 4 columns]\n",
       "Note: Only the head of the SFrame is printed.\n",
       "You can use print_rows(num_rows=m, num_columns=n) to print more rows and columns."
      ]
     },
     "execution_count": 97,
     "metadata": {},
     "output_type": "execute_result"
    }
   ],
   "source": [
    "selected_words_model_coefficients"
   ]
  },
  {
   "cell_type": "code",
   "execution_count": 98,
   "metadata": {
    "collapsed": true
   },
   "outputs": [],
   "source": [
    "selected_words_model_test = selected_words_model.evaluate(test_data)"
   ]
  },
  {
   "cell_type": "code",
   "execution_count": 99,
   "metadata": {
    "collapsed": false
   },
   "outputs": [
    {
     "data": {
      "text/plain": [
       "{'accuracy': 0.8431419649291376, 'confusion_matrix': Columns:\n",
       " \ttarget_label\tint\n",
       " \tpredicted_label\tint\n",
       " \tcount\tint\n",
       " \n",
       " Rows: 4\n",
       " \n",
       " Data:\n",
       " +--------------+-----------------+-------+\n",
       " | target_label | predicted_label | count |\n",
       " +--------------+-----------------+-------+\n",
       " |      0       |        0        |  234  |\n",
       " |      1       |        0        |  130  |\n",
       " |      0       |        1        |  5094 |\n",
       " |      1       |        1        | 27846 |\n",
       " +--------------+-----------------+-------+\n",
       " [4 rows x 3 columns]}"
      ]
     },
     "execution_count": 99,
     "metadata": {},
     "output_type": "execute_result"
    }
   ],
   "source": [
    "selected_words_model_test"
   ]
  },
  {
   "cell_type": "code",
   "execution_count": 102,
   "metadata": {
    "collapsed": true
   },
   "outputs": [],
   "source": [
    "accuracy_majority_class = (27846.0 + 130) / (27846 + 130 + 5094 + 234)"
   ]
  },
  {
   "cell_type": "code",
   "execution_count": 103,
   "metadata": {
    "collapsed": false
   },
   "outputs": [
    {
     "data": {
      "text/plain": [
       "0.8400192169108815"
      ]
     },
     "execution_count": 103,
     "metadata": {},
     "output_type": "execute_result"
    }
   ],
   "source": [
    "accuracy_majority_class"
   ]
  },
  {
   "cell_type": "code",
   "execution_count": 104,
   "metadata": {
    "collapsed": true
   },
   "outputs": [],
   "source": [
    "diaper_champ_reviews = products[products['name'] == \"Baby Trend Diaper Champ\"]"
   ]
  },
  {
   "cell_type": "code",
   "execution_count": 105,
   "metadata": {
    "collapsed": false
   },
   "outputs": [
    {
     "data": {
      "text/html": [
       "<div style=\"max-height:1000px;max-width:1500px;overflow:auto;\"><table frame=\"box\" rules=\"cols\">\n",
       "    <tr>\n",
       "        <th style=\"padding-left: 1em; padding-right: 1em; text-align: center\">name</th>\n",
       "        <th style=\"padding-left: 1em; padding-right: 1em; text-align: center\">review</th>\n",
       "        <th style=\"padding-left: 1em; padding-right: 1em; text-align: center\">rating</th>\n",
       "        <th style=\"padding-left: 1em; padding-right: 1em; text-align: center\">word_count</th>\n",
       "        <th style=\"padding-left: 1em; padding-right: 1em; text-align: center\">sentiment</th>\n",
       "        <th style=\"padding-left: 1em; padding-right: 1em; text-align: center\">awesome</th>\n",
       "    </tr>\n",
       "    <tr>\n",
       "        <td style=\"padding-left: 1em; padding-right: 1em; text-align: center; vertical-align: top\">Baby Trend Diaper Champ</td>\n",
       "        <td style=\"padding-left: 1em; padding-right: 1em; text-align: center; vertical-align: top\">Ok - newsflash.  Diapers<br>are just smelly.  We've ...</td>\n",
       "        <td style=\"padding-left: 1em; padding-right: 1em; text-align: center; vertical-align: top\">4.0</td>\n",
       "        <td style=\"padding-left: 1em; padding-right: 1em; text-align: center; vertical-align: top\">{'just': 2L, 'less': 1L,<br>'-': 3L, 'smell- ...</td>\n",
       "        <td style=\"padding-left: 1em; padding-right: 1em; text-align: center; vertical-align: top\">1</td>\n",
       "        <td style=\"padding-left: 1em; padding-right: 1em; text-align: center; vertical-align: top\">0</td>\n",
       "    </tr>\n",
       "    <tr>\n",
       "        <td style=\"padding-left: 1em; padding-right: 1em; text-align: center; vertical-align: top\">Baby Trend Diaper Champ</td>\n",
       "        <td style=\"padding-left: 1em; padding-right: 1em; text-align: center; vertical-align: top\">My husband and I selected<br>the Diaper \"Champ\" ma ...</td>\n",
       "        <td style=\"padding-left: 1em; padding-right: 1em; text-align: center; vertical-align: top\">1.0</td>\n",
       "        <td style=\"padding-left: 1em; padding-right: 1em; text-align: center; vertical-align: top\">{'just': 1L, 'less': 1L,<br>'when': 3L, 'over': 1L, ...</td>\n",
       "        <td style=\"padding-left: 1em; padding-right: 1em; text-align: center; vertical-align: top\">0</td>\n",
       "        <td style=\"padding-left: 1em; padding-right: 1em; text-align: center; vertical-align: top\">0</td>\n",
       "    </tr>\n",
       "    <tr>\n",
       "        <td style=\"padding-left: 1em; padding-right: 1em; text-align: center; vertical-align: top\">Baby Trend Diaper Champ</td>\n",
       "        <td style=\"padding-left: 1em; padding-right: 1em; text-align: center; vertical-align: top\">Excellent diaper disposal<br>unit.  I used it in ...</td>\n",
       "        <td style=\"padding-left: 1em; padding-right: 1em; text-align: center; vertical-align: top\">5.0</td>\n",
       "        <td style=\"padding-left: 1em; padding-right: 1em; text-align: center; vertical-align: top\">{'control': 1L, 'am': 1L,<br>'it': 1L, 'used': 1L, ...</td>\n",
       "        <td style=\"padding-left: 1em; padding-right: 1em; text-align: center; vertical-align: top\">1</td>\n",
       "        <td style=\"padding-left: 1em; padding-right: 1em; text-align: center; vertical-align: top\">0</td>\n",
       "    </tr>\n",
       "    <tr>\n",
       "        <td style=\"padding-left: 1em; padding-right: 1em; text-align: center; vertical-align: top\">Baby Trend Diaper Champ</td>\n",
       "        <td style=\"padding-left: 1em; padding-right: 1em; text-align: center; vertical-align: top\">We love our diaper champ.<br>It is very easy to use ...</td>\n",
       "        <td style=\"padding-left: 1em; padding-right: 1em; text-align: center; vertical-align: top\">5.0</td>\n",
       "        <td style=\"padding-left: 1em; padding-right: 1em; text-align: center; vertical-align: top\">{'and': 3L, 'over.': 1L,<br>'all': 1L, 'love': 1L, ...</td>\n",
       "        <td style=\"padding-left: 1em; padding-right: 1em; text-align: center; vertical-align: top\">1</td>\n",
       "        <td style=\"padding-left: 1em; padding-right: 1em; text-align: center; vertical-align: top\">0</td>\n",
       "    </tr>\n",
       "    <tr>\n",
       "        <td style=\"padding-left: 1em; padding-right: 1em; text-align: center; vertical-align: top\">Baby Trend Diaper Champ</td>\n",
       "        <td style=\"padding-left: 1em; padding-right: 1em; text-align: center; vertical-align: top\">Two girlfriends and two<br>family members put me ...</td>\n",
       "        <td style=\"padding-left: 1em; padding-right: 1em; text-align: center; vertical-align: top\">5.0</td>\n",
       "        <td style=\"padding-left: 1em; padding-right: 1em; text-align: center; vertical-align: top\">{'just': 1L, 'when': 1L,<br>'both': 1L, 'results': ...</td>\n",
       "        <td style=\"padding-left: 1em; padding-right: 1em; text-align: center; vertical-align: top\">1</td>\n",
       "        <td style=\"padding-left: 1em; padding-right: 1em; text-align: center; vertical-align: top\">0</td>\n",
       "    </tr>\n",
       "    <tr>\n",
       "        <td style=\"padding-left: 1em; padding-right: 1em; text-align: center; vertical-align: top\">Baby Trend Diaper Champ</td>\n",
       "        <td style=\"padding-left: 1em; padding-right: 1em; text-align: center; vertical-align: top\">I waited to review this<br>until I saw how it ...</td>\n",
       "        <td style=\"padding-left: 1em; padding-right: 1em; text-align: center; vertical-align: top\">4.0</td>\n",
       "        <td style=\"padding-left: 1em; padding-right: 1em; text-align: center; vertical-align: top\">{'lysol': 1L, 'all': 1L,<br>'mom.': 1L, 'busy': 1L, ...</td>\n",
       "        <td style=\"padding-left: 1em; padding-right: 1em; text-align: center; vertical-align: top\">1</td>\n",
       "        <td style=\"padding-left: 1em; padding-right: 1em; text-align: center; vertical-align: top\">0</td>\n",
       "    </tr>\n",
       "    <tr>\n",
       "        <td style=\"padding-left: 1em; padding-right: 1em; text-align: center; vertical-align: top\">Baby Trend Diaper Champ</td>\n",
       "        <td style=\"padding-left: 1em; padding-right: 1em; text-align: center; vertical-align: top\">I have had a diaper genie<br>for almost 4 years since ...</td>\n",
       "        <td style=\"padding-left: 1em; padding-right: 1em; text-align: center; vertical-align: top\">1.0</td>\n",
       "        <td style=\"padding-left: 1em; padding-right: 1em; text-align: center; vertical-align: top\">{'all': 1L, 'bags.': 1L,<br>'just': 1L, \"don't\": 2L, ...</td>\n",
       "        <td style=\"padding-left: 1em; padding-right: 1em; text-align: center; vertical-align: top\">0</td>\n",
       "        <td style=\"padding-left: 1em; padding-right: 1em; text-align: center; vertical-align: top\">0</td>\n",
       "    </tr>\n",
       "    <tr>\n",
       "        <td style=\"padding-left: 1em; padding-right: 1em; text-align: center; vertical-align: top\">Baby Trend Diaper Champ</td>\n",
       "        <td style=\"padding-left: 1em; padding-right: 1em; text-align: center; vertical-align: top\">I originally put this<br>item on my baby registry ...</td>\n",
       "        <td style=\"padding-left: 1em; padding-right: 1em; text-align: center; vertical-align: top\">5.0</td>\n",
       "        <td style=\"padding-left: 1em; padding-right: 1em; text-align: center; vertical-align: top\">{'lysol': 1L, 'all': 2L,<br>'bags.': 1L, 'feedback': ...</td>\n",
       "        <td style=\"padding-left: 1em; padding-right: 1em; text-align: center; vertical-align: top\">1</td>\n",
       "        <td style=\"padding-left: 1em; padding-right: 1em; text-align: center; vertical-align: top\">0</td>\n",
       "    </tr>\n",
       "    <tr>\n",
       "        <td style=\"padding-left: 1em; padding-right: 1em; text-align: center; vertical-align: top\">Baby Trend Diaper Champ</td>\n",
       "        <td style=\"padding-left: 1em; padding-right: 1em; text-align: center; vertical-align: top\">I am so glad I got the<br>Diaper Champ instead of ...</td>\n",
       "        <td style=\"padding-left: 1em; padding-right: 1em; text-align: center; vertical-align: top\">5.0</td>\n",
       "        <td style=\"padding-left: 1em; padding-right: 1em; text-align: center; vertical-align: top\">{'and': 2L, 'all': 1L,<br>'just': 1L, 'is': 2L, ...</td>\n",
       "        <td style=\"padding-left: 1em; padding-right: 1em; text-align: center; vertical-align: top\">1</td>\n",
       "        <td style=\"padding-left: 1em; padding-right: 1em; text-align: center; vertical-align: top\">0</td>\n",
       "    </tr>\n",
       "    <tr>\n",
       "        <td style=\"padding-left: 1em; padding-right: 1em; text-align: center; vertical-align: top\">Baby Trend Diaper Champ</td>\n",
       "        <td style=\"padding-left: 1em; padding-right: 1em; text-align: center; vertical-align: top\">We had 2 diaper Genie's<br>both given to us as a ...</td>\n",
       "        <td style=\"padding-left: 1em; padding-right: 1em; text-align: center; vertical-align: top\">4.0</td>\n",
       "        <td style=\"padding-left: 1em; padding-right: 1em; text-align: center; vertical-align: top\">{'hand.': 1L,<br>'(required': 1L, ...</td>\n",
       "        <td style=\"padding-left: 1em; padding-right: 1em; text-align: center; vertical-align: top\">1</td>\n",
       "        <td style=\"padding-left: 1em; padding-right: 1em; text-align: center; vertical-align: top\">0</td>\n",
       "    </tr>\n",
       "</table>\n",
       "<table frame=\"box\" rules=\"cols\">\n",
       "    <tr>\n",
       "        <th style=\"padding-left: 1em; padding-right: 1em; text-align: center\">great</th>\n",
       "        <th style=\"padding-left: 1em; padding-right: 1em; text-align: center\">fantastic</th>\n",
       "        <th style=\"padding-left: 1em; padding-right: 1em; text-align: center\">amazing</th>\n",
       "        <th style=\"padding-left: 1em; padding-right: 1em; text-align: center\">love</th>\n",
       "        <th style=\"padding-left: 1em; padding-right: 1em; text-align: center\">horrible</th>\n",
       "        <th style=\"padding-left: 1em; padding-right: 1em; text-align: center\">bad</th>\n",
       "        <th style=\"padding-left: 1em; padding-right: 1em; text-align: center\">terrible</th>\n",
       "        <th style=\"padding-left: 1em; padding-right: 1em; text-align: center\">awful</th>\n",
       "        <th style=\"padding-left: 1em; padding-right: 1em; text-align: center\">wow</th>\n",
       "        <th style=\"padding-left: 1em; padding-right: 1em; text-align: center\">hate</th>\n",
       "    </tr>\n",
       "    <tr>\n",
       "        <td style=\"padding-left: 1em; padding-right: 1em; text-align: center; vertical-align: top\">0</td>\n",
       "        <td style=\"padding-left: 1em; padding-right: 1em; text-align: center; vertical-align: top\">0</td>\n",
       "        <td style=\"padding-left: 1em; padding-right: 1em; text-align: center; vertical-align: top\">0</td>\n",
       "        <td style=\"padding-left: 1em; padding-right: 1em; text-align: center; vertical-align: top\">0</td>\n",
       "        <td style=\"padding-left: 1em; padding-right: 1em; text-align: center; vertical-align: top\">0</td>\n",
       "        <td style=\"padding-left: 1em; padding-right: 1em; text-align: center; vertical-align: top\">0</td>\n",
       "        <td style=\"padding-left: 1em; padding-right: 1em; text-align: center; vertical-align: top\">0</td>\n",
       "        <td style=\"padding-left: 1em; padding-right: 1em; text-align: center; vertical-align: top\">0</td>\n",
       "        <td style=\"padding-left: 1em; padding-right: 1em; text-align: center; vertical-align: top\">0</td>\n",
       "        <td style=\"padding-left: 1em; padding-right: 1em; text-align: center; vertical-align: top\">0</td>\n",
       "    </tr>\n",
       "    <tr>\n",
       "        <td style=\"padding-left: 1em; padding-right: 1em; text-align: center; vertical-align: top\">0</td>\n",
       "        <td style=\"padding-left: 1em; padding-right: 1em; text-align: center; vertical-align: top\">0</td>\n",
       "        <td style=\"padding-left: 1em; padding-right: 1em; text-align: center; vertical-align: top\">0</td>\n",
       "        <td style=\"padding-left: 1em; padding-right: 1em; text-align: center; vertical-align: top\">0</td>\n",
       "        <td style=\"padding-left: 1em; padding-right: 1em; text-align: center; vertical-align: top\">0</td>\n",
       "        <td style=\"padding-left: 1em; padding-right: 1em; text-align: center; vertical-align: top\">0</td>\n",
       "        <td style=\"padding-left: 1em; padding-right: 1em; text-align: center; vertical-align: top\">0</td>\n",
       "        <td style=\"padding-left: 1em; padding-right: 1em; text-align: center; vertical-align: top\">0</td>\n",
       "        <td style=\"padding-left: 1em; padding-right: 1em; text-align: center; vertical-align: top\">0</td>\n",
       "        <td style=\"padding-left: 1em; padding-right: 1em; text-align: center; vertical-align: top\">0</td>\n",
       "    </tr>\n",
       "    <tr>\n",
       "        <td style=\"padding-left: 1em; padding-right: 1em; text-align: center; vertical-align: top\">0</td>\n",
       "        <td style=\"padding-left: 1em; padding-right: 1em; text-align: center; vertical-align: top\">0</td>\n",
       "        <td style=\"padding-left: 1em; padding-right: 1em; text-align: center; vertical-align: top\">0</td>\n",
       "        <td style=\"padding-left: 1em; padding-right: 1em; text-align: center; vertical-align: top\">0</td>\n",
       "        <td style=\"padding-left: 1em; padding-right: 1em; text-align: center; vertical-align: top\">0</td>\n",
       "        <td style=\"padding-left: 1em; padding-right: 1em; text-align: center; vertical-align: top\">0</td>\n",
       "        <td style=\"padding-left: 1em; padding-right: 1em; text-align: center; vertical-align: top\">0</td>\n",
       "        <td style=\"padding-left: 1em; padding-right: 1em; text-align: center; vertical-align: top\">0</td>\n",
       "        <td style=\"padding-left: 1em; padding-right: 1em; text-align: center; vertical-align: top\">0</td>\n",
       "        <td style=\"padding-left: 1em; padding-right: 1em; text-align: center; vertical-align: top\">0</td>\n",
       "    </tr>\n",
       "    <tr>\n",
       "        <td style=\"padding-left: 1em; padding-right: 1em; text-align: center; vertical-align: top\">0</td>\n",
       "        <td style=\"padding-left: 1em; padding-right: 1em; text-align: center; vertical-align: top\">0</td>\n",
       "        <td style=\"padding-left: 1em; padding-right: 1em; text-align: center; vertical-align: top\">0</td>\n",
       "        <td style=\"padding-left: 1em; padding-right: 1em; text-align: center; vertical-align: top\">1</td>\n",
       "        <td style=\"padding-left: 1em; padding-right: 1em; text-align: center; vertical-align: top\">0</td>\n",
       "        <td style=\"padding-left: 1em; padding-right: 1em; text-align: center; vertical-align: top\">0</td>\n",
       "        <td style=\"padding-left: 1em; padding-right: 1em; text-align: center; vertical-align: top\">0</td>\n",
       "        <td style=\"padding-left: 1em; padding-right: 1em; text-align: center; vertical-align: top\">0</td>\n",
       "        <td style=\"padding-left: 1em; padding-right: 1em; text-align: center; vertical-align: top\">0</td>\n",
       "        <td style=\"padding-left: 1em; padding-right: 1em; text-align: center; vertical-align: top\">0</td>\n",
       "    </tr>\n",
       "    <tr>\n",
       "        <td style=\"padding-left: 1em; padding-right: 1em; text-align: center; vertical-align: top\">0</td>\n",
       "        <td style=\"padding-left: 1em; padding-right: 1em; text-align: center; vertical-align: top\">0</td>\n",
       "        <td style=\"padding-left: 1em; padding-right: 1em; text-align: center; vertical-align: top\">0</td>\n",
       "        <td style=\"padding-left: 1em; padding-right: 1em; text-align: center; vertical-align: top\">0</td>\n",
       "        <td style=\"padding-left: 1em; padding-right: 1em; text-align: center; vertical-align: top\">1</td>\n",
       "        <td style=\"padding-left: 1em; padding-right: 1em; text-align: center; vertical-align: top\">0</td>\n",
       "        <td style=\"padding-left: 1em; padding-right: 1em; text-align: center; vertical-align: top\">0</td>\n",
       "        <td style=\"padding-left: 1em; padding-right: 1em; text-align: center; vertical-align: top\">0</td>\n",
       "        <td style=\"padding-left: 1em; padding-right: 1em; text-align: center; vertical-align: top\">0</td>\n",
       "        <td style=\"padding-left: 1em; padding-right: 1em; text-align: center; vertical-align: top\">0</td>\n",
       "    </tr>\n",
       "    <tr>\n",
       "        <td style=\"padding-left: 1em; padding-right: 1em; text-align: center; vertical-align: top\">0</td>\n",
       "        <td style=\"padding-left: 1em; padding-right: 1em; text-align: center; vertical-align: top\">0</td>\n",
       "        <td style=\"padding-left: 1em; padding-right: 1em; text-align: center; vertical-align: top\">0</td>\n",
       "        <td style=\"padding-left: 1em; padding-right: 1em; text-align: center; vertical-align: top\">0</td>\n",
       "        <td style=\"padding-left: 1em; padding-right: 1em; text-align: center; vertical-align: top\">0</td>\n",
       "        <td style=\"padding-left: 1em; padding-right: 1em; text-align: center; vertical-align: top\">1</td>\n",
       "        <td style=\"padding-left: 1em; padding-right: 1em; text-align: center; vertical-align: top\">0</td>\n",
       "        <td style=\"padding-left: 1em; padding-right: 1em; text-align: center; vertical-align: top\">0</td>\n",
       "        <td style=\"padding-left: 1em; padding-right: 1em; text-align: center; vertical-align: top\">0</td>\n",
       "        <td style=\"padding-left: 1em; padding-right: 1em; text-align: center; vertical-align: top\">0</td>\n",
       "    </tr>\n",
       "    <tr>\n",
       "        <td style=\"padding-left: 1em; padding-right: 1em; text-align: center; vertical-align: top\">0</td>\n",
       "        <td style=\"padding-left: 1em; padding-right: 1em; text-align: center; vertical-align: top\">0</td>\n",
       "        <td style=\"padding-left: 1em; padding-right: 1em; text-align: center; vertical-align: top\">0</td>\n",
       "        <td style=\"padding-left: 1em; padding-right: 1em; text-align: center; vertical-align: top\">0</td>\n",
       "        <td style=\"padding-left: 1em; padding-right: 1em; text-align: center; vertical-align: top\">0</td>\n",
       "        <td style=\"padding-left: 1em; padding-right: 1em; text-align: center; vertical-align: top\">0</td>\n",
       "        <td style=\"padding-left: 1em; padding-right: 1em; text-align: center; vertical-align: top\">0</td>\n",
       "        <td style=\"padding-left: 1em; padding-right: 1em; text-align: center; vertical-align: top\">0</td>\n",
       "        <td style=\"padding-left: 1em; padding-right: 1em; text-align: center; vertical-align: top\">0</td>\n",
       "        <td style=\"padding-left: 1em; padding-right: 1em; text-align: center; vertical-align: top\">0</td>\n",
       "    </tr>\n",
       "    <tr>\n",
       "        <td style=\"padding-left: 1em; padding-right: 1em; text-align: center; vertical-align: top\">0</td>\n",
       "        <td style=\"padding-left: 1em; padding-right: 1em; text-align: center; vertical-align: top\">0</td>\n",
       "        <td style=\"padding-left: 1em; padding-right: 1em; text-align: center; vertical-align: top\">0</td>\n",
       "        <td style=\"padding-left: 1em; padding-right: 1em; text-align: center; vertical-align: top\">0</td>\n",
       "        <td style=\"padding-left: 1em; padding-right: 1em; text-align: center; vertical-align: top\">0</td>\n",
       "        <td style=\"padding-left: 1em; padding-right: 1em; text-align: center; vertical-align: top\">0</td>\n",
       "        <td style=\"padding-left: 1em; padding-right: 1em; text-align: center; vertical-align: top\">0</td>\n",
       "        <td style=\"padding-left: 1em; padding-right: 1em; text-align: center; vertical-align: top\">0</td>\n",
       "        <td style=\"padding-left: 1em; padding-right: 1em; text-align: center; vertical-align: top\">0</td>\n",
       "        <td style=\"padding-left: 1em; padding-right: 1em; text-align: center; vertical-align: top\">0</td>\n",
       "    </tr>\n",
       "    <tr>\n",
       "        <td style=\"padding-left: 1em; padding-right: 1em; text-align: center; vertical-align: top\">0</td>\n",
       "        <td style=\"padding-left: 1em; padding-right: 1em; text-align: center; vertical-align: top\">0</td>\n",
       "        <td style=\"padding-left: 1em; padding-right: 1em; text-align: center; vertical-align: top\">0</td>\n",
       "        <td style=\"padding-left: 1em; padding-right: 1em; text-align: center; vertical-align: top\">0</td>\n",
       "        <td style=\"padding-left: 1em; padding-right: 1em; text-align: center; vertical-align: top\">0</td>\n",
       "        <td style=\"padding-left: 1em; padding-right: 1em; text-align: center; vertical-align: top\">0</td>\n",
       "        <td style=\"padding-left: 1em; padding-right: 1em; text-align: center; vertical-align: top\">0</td>\n",
       "        <td style=\"padding-left: 1em; padding-right: 1em; text-align: center; vertical-align: top\">0</td>\n",
       "        <td style=\"padding-left: 1em; padding-right: 1em; text-align: center; vertical-align: top\">0</td>\n",
       "        <td style=\"padding-left: 1em; padding-right: 1em; text-align: center; vertical-align: top\">0</td>\n",
       "    </tr>\n",
       "    <tr>\n",
       "        <td style=\"padding-left: 1em; padding-right: 1em; text-align: center; vertical-align: top\">0</td>\n",
       "        <td style=\"padding-left: 1em; padding-right: 1em; text-align: center; vertical-align: top\">0</td>\n",
       "        <td style=\"padding-left: 1em; padding-right: 1em; text-align: center; vertical-align: top\">0</td>\n",
       "        <td style=\"padding-left: 1em; padding-right: 1em; text-align: center; vertical-align: top\">2</td>\n",
       "        <td style=\"padding-left: 1em; padding-right: 1em; text-align: center; vertical-align: top\">0</td>\n",
       "        <td style=\"padding-left: 1em; padding-right: 1em; text-align: center; vertical-align: top\">0</td>\n",
       "        <td style=\"padding-left: 1em; padding-right: 1em; text-align: center; vertical-align: top\">0</td>\n",
       "        <td style=\"padding-left: 1em; padding-right: 1em; text-align: center; vertical-align: top\">0</td>\n",
       "        <td style=\"padding-left: 1em; padding-right: 1em; text-align: center; vertical-align: top\">0</td>\n",
       "        <td style=\"padding-left: 1em; padding-right: 1em; text-align: center; vertical-align: top\">0</td>\n",
       "    </tr>\n",
       "</table>\n",
       "[10 rows x 16 columns]<br/>\n",
       "</div>"
      ],
      "text/plain": [
       "Columns:\n",
       "\tname\tstr\n",
       "\treview\tstr\n",
       "\trating\tfloat\n",
       "\tword_count\tdict\n",
       "\tsentiment\tint\n",
       "\tawesome\tint\n",
       "\tgreat\tint\n",
       "\tfantastic\tint\n",
       "\tamazing\tint\n",
       "\tlove\tint\n",
       "\thorrible\tint\n",
       "\tbad\tint\n",
       "\tterrible\tint\n",
       "\tawful\tint\n",
       "\twow\tint\n",
       "\thate\tint\n",
       "\n",
       "Rows: 10\n",
       "\n",
       "Data:\n",
       "+-------------------------+-------------------------------+--------+\n",
       "|           name          |             review            | rating |\n",
       "+-------------------------+-------------------------------+--------+\n",
       "| Baby Trend Diaper Champ | Ok - newsflash.  Diapers a... |  4.0   |\n",
       "| Baby Trend Diaper Champ | My husband and I selected ... |  1.0   |\n",
       "| Baby Trend Diaper Champ | Excellent diaper disposal ... |  5.0   |\n",
       "| Baby Trend Diaper Champ | We love our diaper champ. ... |  5.0   |\n",
       "| Baby Trend Diaper Champ | Two girlfriends and two fa... |  5.0   |\n",
       "| Baby Trend Diaper Champ | I waited to review this un... |  4.0   |\n",
       "| Baby Trend Diaper Champ | I have had a diaper genie ... |  1.0   |\n",
       "| Baby Trend Diaper Champ | I originally put this item... |  5.0   |\n",
       "| Baby Trend Diaper Champ | I am so glad I got the Dia... |  5.0   |\n",
       "| Baby Trend Diaper Champ | We had 2 diaper Genie's bo... |  4.0   |\n",
       "+-------------------------+-------------------------------+--------+\n",
       "+-------------------------------+-----------+---------+-------+-----------+---------+\n",
       "|           word_count          | sentiment | awesome | great | fantastic | amazing |\n",
       "+-------------------------------+-----------+---------+-------+-----------+---------+\n",
       "| {'just': 2L, 'less': 1L, '... |     1     |    0    |   0   |     0     |    0    |\n",
       "| {'just': 1L, 'less': 1L, '... |     0     |    0    |   0   |     0     |    0    |\n",
       "| {'control': 1L, 'am': 1L, ... |     1     |    0    |   0   |     0     |    0    |\n",
       "| {'and': 3L, 'over.': 1L, '... |     1     |    0    |   0   |     0     |    0    |\n",
       "| {'just': 1L, 'when': 1L, '... |     1     |    0    |   0   |     0     |    0    |\n",
       "| {'lysol': 1L, 'all': 1L, '... |     1     |    0    |   0   |     0     |    0    |\n",
       "| {'all': 1L, 'bags.': 1L, '... |     0     |    0    |   0   |     0     |    0    |\n",
       "| {'lysol': 1L, 'all': 2L, '... |     1     |    0    |   0   |     0     |    0    |\n",
       "| {'and': 2L, 'all': 1L, 'ju... |     1     |    0    |   0   |     0     |    0    |\n",
       "| {'hand.': 1L, '(required':... |     1     |    0    |   0   |     0     |    0    |\n",
       "+-------------------------------+-----------+---------+-------+-----------+---------+\n",
       "+------+----------+-----+----------+-------+-----+------+\n",
       "| love | horrible | bad | terrible | awful | wow | hate |\n",
       "+------+----------+-----+----------+-------+-----+------+\n",
       "|  0   |    0     |  0  |    0     |   0   |  0  |  0   |\n",
       "|  0   |    0     |  0  |    0     |   0   |  0  |  0   |\n",
       "|  0   |    0     |  0  |    0     |   0   |  0  |  0   |\n",
       "|  1   |    0     |  0  |    0     |   0   |  0  |  0   |\n",
       "|  0   |    1     |  0  |    0     |   0   |  0  |  0   |\n",
       "|  0   |    0     |  1  |    0     |   0   |  0  |  0   |\n",
       "|  0   |    0     |  0  |    0     |   0   |  0  |  0   |\n",
       "|  0   |    0     |  0  |    0     |   0   |  0  |  0   |\n",
       "|  0   |    0     |  0  |    0     |   0   |  0  |  0   |\n",
       "|  2   |    0     |  0  |    0     |   0   |  0  |  0   |\n",
       "+------+----------+-----+----------+-------+-----+------+\n",
       "[10 rows x 16 columns]"
      ]
     },
     "execution_count": 105,
     "metadata": {},
     "output_type": "execute_result"
    }
   ],
   "source": [
    "diaper_champ_reviews.head()"
   ]
  },
  {
   "cell_type": "code",
   "execution_count": 106,
   "metadata": {
    "collapsed": true
   },
   "outputs": [],
   "source": [
    "diaper_champ_reviews['predicted_sentiment'] = sentiment_model.predict(diaper_champ_reviews, output_type = 'probability')"
   ]
  },
  {
   "cell_type": "code",
   "execution_count": 107,
   "metadata": {
    "collapsed": false
   },
   "outputs": [
    {
     "data": {
      "text/html": [
       "<div style=\"max-height:1000px;max-width:1500px;overflow:auto;\"><table frame=\"box\" rules=\"cols\">\n",
       "    <tr>\n",
       "        <th style=\"padding-left: 1em; padding-right: 1em; text-align: center\">name</th>\n",
       "        <th style=\"padding-left: 1em; padding-right: 1em; text-align: center\">review</th>\n",
       "        <th style=\"padding-left: 1em; padding-right: 1em; text-align: center\">rating</th>\n",
       "        <th style=\"padding-left: 1em; padding-right: 1em; text-align: center\">word_count</th>\n",
       "        <th style=\"padding-left: 1em; padding-right: 1em; text-align: center\">sentiment</th>\n",
       "        <th style=\"padding-left: 1em; padding-right: 1em; text-align: center\">awesome</th>\n",
       "    </tr>\n",
       "    <tr>\n",
       "        <td style=\"padding-left: 1em; padding-right: 1em; text-align: center; vertical-align: top\">Baby Trend Diaper Champ</td>\n",
       "        <td style=\"padding-left: 1em; padding-right: 1em; text-align: center; vertical-align: top\">Ok - newsflash.  Diapers<br>are just smelly.  We've ...</td>\n",
       "        <td style=\"padding-left: 1em; padding-right: 1em; text-align: center; vertical-align: top\">4.0</td>\n",
       "        <td style=\"padding-left: 1em; padding-right: 1em; text-align: center; vertical-align: top\">{'just': 2L, 'less': 1L,<br>'-': 3L, 'smell- ...</td>\n",
       "        <td style=\"padding-left: 1em; padding-right: 1em; text-align: center; vertical-align: top\">1</td>\n",
       "        <td style=\"padding-left: 1em; padding-right: 1em; text-align: center; vertical-align: top\">0</td>\n",
       "    </tr>\n",
       "    <tr>\n",
       "        <td style=\"padding-left: 1em; padding-right: 1em; text-align: center; vertical-align: top\">Baby Trend Diaper Champ</td>\n",
       "        <td style=\"padding-left: 1em; padding-right: 1em; text-align: center; vertical-align: top\">My husband and I selected<br>the Diaper \"Champ\" ma ...</td>\n",
       "        <td style=\"padding-left: 1em; padding-right: 1em; text-align: center; vertical-align: top\">1.0</td>\n",
       "        <td style=\"padding-left: 1em; padding-right: 1em; text-align: center; vertical-align: top\">{'just': 1L, 'less': 1L,<br>'when': 3L, 'over': 1L, ...</td>\n",
       "        <td style=\"padding-left: 1em; padding-right: 1em; text-align: center; vertical-align: top\">0</td>\n",
       "        <td style=\"padding-left: 1em; padding-right: 1em; text-align: center; vertical-align: top\">0</td>\n",
       "    </tr>\n",
       "    <tr>\n",
       "        <td style=\"padding-left: 1em; padding-right: 1em; text-align: center; vertical-align: top\">Baby Trend Diaper Champ</td>\n",
       "        <td style=\"padding-left: 1em; padding-right: 1em; text-align: center; vertical-align: top\">Excellent diaper disposal<br>unit.  I used it in ...</td>\n",
       "        <td style=\"padding-left: 1em; padding-right: 1em; text-align: center; vertical-align: top\">5.0</td>\n",
       "        <td style=\"padding-left: 1em; padding-right: 1em; text-align: center; vertical-align: top\">{'control': 1L, 'am': 1L,<br>'it': 1L, 'used': 1L, ...</td>\n",
       "        <td style=\"padding-left: 1em; padding-right: 1em; text-align: center; vertical-align: top\">1</td>\n",
       "        <td style=\"padding-left: 1em; padding-right: 1em; text-align: center; vertical-align: top\">0</td>\n",
       "    </tr>\n",
       "    <tr>\n",
       "        <td style=\"padding-left: 1em; padding-right: 1em; text-align: center; vertical-align: top\">Baby Trend Diaper Champ</td>\n",
       "        <td style=\"padding-left: 1em; padding-right: 1em; text-align: center; vertical-align: top\">We love our diaper champ.<br>It is very easy to use ...</td>\n",
       "        <td style=\"padding-left: 1em; padding-right: 1em; text-align: center; vertical-align: top\">5.0</td>\n",
       "        <td style=\"padding-left: 1em; padding-right: 1em; text-align: center; vertical-align: top\">{'and': 3L, 'over.': 1L,<br>'all': 1L, 'love': 1L, ...</td>\n",
       "        <td style=\"padding-left: 1em; padding-right: 1em; text-align: center; vertical-align: top\">1</td>\n",
       "        <td style=\"padding-left: 1em; padding-right: 1em; text-align: center; vertical-align: top\">0</td>\n",
       "    </tr>\n",
       "    <tr>\n",
       "        <td style=\"padding-left: 1em; padding-right: 1em; text-align: center; vertical-align: top\">Baby Trend Diaper Champ</td>\n",
       "        <td style=\"padding-left: 1em; padding-right: 1em; text-align: center; vertical-align: top\">Two girlfriends and two<br>family members put me ...</td>\n",
       "        <td style=\"padding-left: 1em; padding-right: 1em; text-align: center; vertical-align: top\">5.0</td>\n",
       "        <td style=\"padding-left: 1em; padding-right: 1em; text-align: center; vertical-align: top\">{'just': 1L, 'when': 1L,<br>'both': 1L, 'results': ...</td>\n",
       "        <td style=\"padding-left: 1em; padding-right: 1em; text-align: center; vertical-align: top\">1</td>\n",
       "        <td style=\"padding-left: 1em; padding-right: 1em; text-align: center; vertical-align: top\">0</td>\n",
       "    </tr>\n",
       "    <tr>\n",
       "        <td style=\"padding-left: 1em; padding-right: 1em; text-align: center; vertical-align: top\">Baby Trend Diaper Champ</td>\n",
       "        <td style=\"padding-left: 1em; padding-right: 1em; text-align: center; vertical-align: top\">I waited to review this<br>until I saw how it ...</td>\n",
       "        <td style=\"padding-left: 1em; padding-right: 1em; text-align: center; vertical-align: top\">4.0</td>\n",
       "        <td style=\"padding-left: 1em; padding-right: 1em; text-align: center; vertical-align: top\">{'lysol': 1L, 'all': 1L,<br>'mom.': 1L, 'busy': 1L, ...</td>\n",
       "        <td style=\"padding-left: 1em; padding-right: 1em; text-align: center; vertical-align: top\">1</td>\n",
       "        <td style=\"padding-left: 1em; padding-right: 1em; text-align: center; vertical-align: top\">0</td>\n",
       "    </tr>\n",
       "    <tr>\n",
       "        <td style=\"padding-left: 1em; padding-right: 1em; text-align: center; vertical-align: top\">Baby Trend Diaper Champ</td>\n",
       "        <td style=\"padding-left: 1em; padding-right: 1em; text-align: center; vertical-align: top\">I have had a diaper genie<br>for almost 4 years since ...</td>\n",
       "        <td style=\"padding-left: 1em; padding-right: 1em; text-align: center; vertical-align: top\">1.0</td>\n",
       "        <td style=\"padding-left: 1em; padding-right: 1em; text-align: center; vertical-align: top\">{'all': 1L, 'bags.': 1L,<br>'just': 1L, \"don't\": 2L, ...</td>\n",
       "        <td style=\"padding-left: 1em; padding-right: 1em; text-align: center; vertical-align: top\">0</td>\n",
       "        <td style=\"padding-left: 1em; padding-right: 1em; text-align: center; vertical-align: top\">0</td>\n",
       "    </tr>\n",
       "    <tr>\n",
       "        <td style=\"padding-left: 1em; padding-right: 1em; text-align: center; vertical-align: top\">Baby Trend Diaper Champ</td>\n",
       "        <td style=\"padding-left: 1em; padding-right: 1em; text-align: center; vertical-align: top\">I originally put this<br>item on my baby registry ...</td>\n",
       "        <td style=\"padding-left: 1em; padding-right: 1em; text-align: center; vertical-align: top\">5.0</td>\n",
       "        <td style=\"padding-left: 1em; padding-right: 1em; text-align: center; vertical-align: top\">{'lysol': 1L, 'all': 2L,<br>'bags.': 1L, 'feedback': ...</td>\n",
       "        <td style=\"padding-left: 1em; padding-right: 1em; text-align: center; vertical-align: top\">1</td>\n",
       "        <td style=\"padding-left: 1em; padding-right: 1em; text-align: center; vertical-align: top\">0</td>\n",
       "    </tr>\n",
       "    <tr>\n",
       "        <td style=\"padding-left: 1em; padding-right: 1em; text-align: center; vertical-align: top\">Baby Trend Diaper Champ</td>\n",
       "        <td style=\"padding-left: 1em; padding-right: 1em; text-align: center; vertical-align: top\">I am so glad I got the<br>Diaper Champ instead of ...</td>\n",
       "        <td style=\"padding-left: 1em; padding-right: 1em; text-align: center; vertical-align: top\">5.0</td>\n",
       "        <td style=\"padding-left: 1em; padding-right: 1em; text-align: center; vertical-align: top\">{'and': 2L, 'all': 1L,<br>'just': 1L, 'is': 2L, ...</td>\n",
       "        <td style=\"padding-left: 1em; padding-right: 1em; text-align: center; vertical-align: top\">1</td>\n",
       "        <td style=\"padding-left: 1em; padding-right: 1em; text-align: center; vertical-align: top\">0</td>\n",
       "    </tr>\n",
       "    <tr>\n",
       "        <td style=\"padding-left: 1em; padding-right: 1em; text-align: center; vertical-align: top\">Baby Trend Diaper Champ</td>\n",
       "        <td style=\"padding-left: 1em; padding-right: 1em; text-align: center; vertical-align: top\">We had 2 diaper Genie's<br>both given to us as a ...</td>\n",
       "        <td style=\"padding-left: 1em; padding-right: 1em; text-align: center; vertical-align: top\">4.0</td>\n",
       "        <td style=\"padding-left: 1em; padding-right: 1em; text-align: center; vertical-align: top\">{'hand.': 1L,<br>'(required': 1L, ...</td>\n",
       "        <td style=\"padding-left: 1em; padding-right: 1em; text-align: center; vertical-align: top\">1</td>\n",
       "        <td style=\"padding-left: 1em; padding-right: 1em; text-align: center; vertical-align: top\">0</td>\n",
       "    </tr>\n",
       "</table>\n",
       "<table frame=\"box\" rules=\"cols\">\n",
       "    <tr>\n",
       "        <th style=\"padding-left: 1em; padding-right: 1em; text-align: center\">great</th>\n",
       "        <th style=\"padding-left: 1em; padding-right: 1em; text-align: center\">fantastic</th>\n",
       "        <th style=\"padding-left: 1em; padding-right: 1em; text-align: center\">amazing</th>\n",
       "        <th style=\"padding-left: 1em; padding-right: 1em; text-align: center\">love</th>\n",
       "        <th style=\"padding-left: 1em; padding-right: 1em; text-align: center\">horrible</th>\n",
       "        <th style=\"padding-left: 1em; padding-right: 1em; text-align: center\">bad</th>\n",
       "        <th style=\"padding-left: 1em; padding-right: 1em; text-align: center\">terrible</th>\n",
       "        <th style=\"padding-left: 1em; padding-right: 1em; text-align: center\">awful</th>\n",
       "        <th style=\"padding-left: 1em; padding-right: 1em; text-align: center\">wow</th>\n",
       "        <th style=\"padding-left: 1em; padding-right: 1em; text-align: center\">hate</th>\n",
       "        <th style=\"padding-left: 1em; padding-right: 1em; text-align: center\">predicted_sentiment</th>\n",
       "    </tr>\n",
       "    <tr>\n",
       "        <td style=\"padding-left: 1em; padding-right: 1em; text-align: center; vertical-align: top\">0</td>\n",
       "        <td style=\"padding-left: 1em; padding-right: 1em; text-align: center; vertical-align: top\">0</td>\n",
       "        <td style=\"padding-left: 1em; padding-right: 1em; text-align: center; vertical-align: top\">0</td>\n",
       "        <td style=\"padding-left: 1em; padding-right: 1em; text-align: center; vertical-align: top\">0</td>\n",
       "        <td style=\"padding-left: 1em; padding-right: 1em; text-align: center; vertical-align: top\">0</td>\n",
       "        <td style=\"padding-left: 1em; padding-right: 1em; text-align: center; vertical-align: top\">0</td>\n",
       "        <td style=\"padding-left: 1em; padding-right: 1em; text-align: center; vertical-align: top\">0</td>\n",
       "        <td style=\"padding-left: 1em; padding-right: 1em; text-align: center; vertical-align: top\">0</td>\n",
       "        <td style=\"padding-left: 1em; padding-right: 1em; text-align: center; vertical-align: top\">0</td>\n",
       "        <td style=\"padding-left: 1em; padding-right: 1em; text-align: center; vertical-align: top\">0</td>\n",
       "        <td style=\"padding-left: 1em; padding-right: 1em; text-align: center; vertical-align: top\">0.958443580893</td>\n",
       "    </tr>\n",
       "    <tr>\n",
       "        <td style=\"padding-left: 1em; padding-right: 1em; text-align: center; vertical-align: top\">0</td>\n",
       "        <td style=\"padding-left: 1em; padding-right: 1em; text-align: center; vertical-align: top\">0</td>\n",
       "        <td style=\"padding-left: 1em; padding-right: 1em; text-align: center; vertical-align: top\">0</td>\n",
       "        <td style=\"padding-left: 1em; padding-right: 1em; text-align: center; vertical-align: top\">0</td>\n",
       "        <td style=\"padding-left: 1em; padding-right: 1em; text-align: center; vertical-align: top\">0</td>\n",
       "        <td style=\"padding-left: 1em; padding-right: 1em; text-align: center; vertical-align: top\">0</td>\n",
       "        <td style=\"padding-left: 1em; padding-right: 1em; text-align: center; vertical-align: top\">0</td>\n",
       "        <td style=\"padding-left: 1em; padding-right: 1em; text-align: center; vertical-align: top\">0</td>\n",
       "        <td style=\"padding-left: 1em; padding-right: 1em; text-align: center; vertical-align: top\">0</td>\n",
       "        <td style=\"padding-left: 1em; padding-right: 1em; text-align: center; vertical-align: top\">0</td>\n",
       "        <td style=\"padding-left: 1em; padding-right: 1em; text-align: center; vertical-align: top\">2.47155884995e-12</td>\n",
       "    </tr>\n",
       "    <tr>\n",
       "        <td style=\"padding-left: 1em; padding-right: 1em; text-align: center; vertical-align: top\">0</td>\n",
       "        <td style=\"padding-left: 1em; padding-right: 1em; text-align: center; vertical-align: top\">0</td>\n",
       "        <td style=\"padding-left: 1em; padding-right: 1em; text-align: center; vertical-align: top\">0</td>\n",
       "        <td style=\"padding-left: 1em; padding-right: 1em; text-align: center; vertical-align: top\">0</td>\n",
       "        <td style=\"padding-left: 1em; padding-right: 1em; text-align: center; vertical-align: top\">0</td>\n",
       "        <td style=\"padding-left: 1em; padding-right: 1em; text-align: center; vertical-align: top\">0</td>\n",
       "        <td style=\"padding-left: 1em; padding-right: 1em; text-align: center; vertical-align: top\">0</td>\n",
       "        <td style=\"padding-left: 1em; padding-right: 1em; text-align: center; vertical-align: top\">0</td>\n",
       "        <td style=\"padding-left: 1em; padding-right: 1em; text-align: center; vertical-align: top\">0</td>\n",
       "        <td style=\"padding-left: 1em; padding-right: 1em; text-align: center; vertical-align: top\">0</td>\n",
       "        <td style=\"padding-left: 1em; padding-right: 1em; text-align: center; vertical-align: top\">0.999994864775</td>\n",
       "    </tr>\n",
       "    <tr>\n",
       "        <td style=\"padding-left: 1em; padding-right: 1em; text-align: center; vertical-align: top\">0</td>\n",
       "        <td style=\"padding-left: 1em; padding-right: 1em; text-align: center; vertical-align: top\">0</td>\n",
       "        <td style=\"padding-left: 1em; padding-right: 1em; text-align: center; vertical-align: top\">0</td>\n",
       "        <td style=\"padding-left: 1em; padding-right: 1em; text-align: center; vertical-align: top\">1</td>\n",
       "        <td style=\"padding-left: 1em; padding-right: 1em; text-align: center; vertical-align: top\">0</td>\n",
       "        <td style=\"padding-left: 1em; padding-right: 1em; text-align: center; vertical-align: top\">0</td>\n",
       "        <td style=\"padding-left: 1em; padding-right: 1em; text-align: center; vertical-align: top\">0</td>\n",
       "        <td style=\"padding-left: 1em; padding-right: 1em; text-align: center; vertical-align: top\">0</td>\n",
       "        <td style=\"padding-left: 1em; padding-right: 1em; text-align: center; vertical-align: top\">0</td>\n",
       "        <td style=\"padding-left: 1em; padding-right: 1em; text-align: center; vertical-align: top\">0</td>\n",
       "        <td style=\"padding-left: 1em; padding-right: 1em; text-align: center; vertical-align: top\">0.998779072633</td>\n",
       "    </tr>\n",
       "    <tr>\n",
       "        <td style=\"padding-left: 1em; padding-right: 1em; text-align: center; vertical-align: top\">0</td>\n",
       "        <td style=\"padding-left: 1em; padding-right: 1em; text-align: center; vertical-align: top\">0</td>\n",
       "        <td style=\"padding-left: 1em; padding-right: 1em; text-align: center; vertical-align: top\">0</td>\n",
       "        <td style=\"padding-left: 1em; padding-right: 1em; text-align: center; vertical-align: top\">0</td>\n",
       "        <td style=\"padding-left: 1em; padding-right: 1em; text-align: center; vertical-align: top\">1</td>\n",
       "        <td style=\"padding-left: 1em; padding-right: 1em; text-align: center; vertical-align: top\">0</td>\n",
       "        <td style=\"padding-left: 1em; padding-right: 1em; text-align: center; vertical-align: top\">0</td>\n",
       "        <td style=\"padding-left: 1em; padding-right: 1em; text-align: center; vertical-align: top\">0</td>\n",
       "        <td style=\"padding-left: 1em; padding-right: 1em; text-align: center; vertical-align: top\">0</td>\n",
       "        <td style=\"padding-left: 1em; padding-right: 1em; text-align: center; vertical-align: top\">0</td>\n",
       "        <td style=\"padding-left: 1em; padding-right: 1em; text-align: center; vertical-align: top\">0.999999604504</td>\n",
       "    </tr>\n",
       "    <tr>\n",
       "        <td style=\"padding-left: 1em; padding-right: 1em; text-align: center; vertical-align: top\">0</td>\n",
       "        <td style=\"padding-left: 1em; padding-right: 1em; text-align: center; vertical-align: top\">0</td>\n",
       "        <td style=\"padding-left: 1em; padding-right: 1em; text-align: center; vertical-align: top\">0</td>\n",
       "        <td style=\"padding-left: 1em; padding-right: 1em; text-align: center; vertical-align: top\">0</td>\n",
       "        <td style=\"padding-left: 1em; padding-right: 1em; text-align: center; vertical-align: top\">0</td>\n",
       "        <td style=\"padding-left: 1em; padding-right: 1em; text-align: center; vertical-align: top\">1</td>\n",
       "        <td style=\"padding-left: 1em; padding-right: 1em; text-align: center; vertical-align: top\">0</td>\n",
       "        <td style=\"padding-left: 1em; padding-right: 1em; text-align: center; vertical-align: top\">0</td>\n",
       "        <td style=\"padding-left: 1em; padding-right: 1em; text-align: center; vertical-align: top\">0</td>\n",
       "        <td style=\"padding-left: 1em; padding-right: 1em; text-align: center; vertical-align: top\">0</td>\n",
       "        <td style=\"padding-left: 1em; padding-right: 1em; text-align: center; vertical-align: top\">0.999952233179</td>\n",
       "    </tr>\n",
       "    <tr>\n",
       "        <td style=\"padding-left: 1em; padding-right: 1em; text-align: center; vertical-align: top\">0</td>\n",
       "        <td style=\"padding-left: 1em; padding-right: 1em; text-align: center; vertical-align: top\">0</td>\n",
       "        <td style=\"padding-left: 1em; padding-right: 1em; text-align: center; vertical-align: top\">0</td>\n",
       "        <td style=\"padding-left: 1em; padding-right: 1em; text-align: center; vertical-align: top\">0</td>\n",
       "        <td style=\"padding-left: 1em; padding-right: 1em; text-align: center; vertical-align: top\">0</td>\n",
       "        <td style=\"padding-left: 1em; padding-right: 1em; text-align: center; vertical-align: top\">0</td>\n",
       "        <td style=\"padding-left: 1em; padding-right: 1em; text-align: center; vertical-align: top\">0</td>\n",
       "        <td style=\"padding-left: 1em; padding-right: 1em; text-align: center; vertical-align: top\">0</td>\n",
       "        <td style=\"padding-left: 1em; padding-right: 1em; text-align: center; vertical-align: top\">0</td>\n",
       "        <td style=\"padding-left: 1em; padding-right: 1em; text-align: center; vertical-align: top\">0</td>\n",
       "        <td style=\"padding-left: 1em; padding-right: 1em; text-align: center; vertical-align: top\">0.972560724165</td>\n",
       "    </tr>\n",
       "    <tr>\n",
       "        <td style=\"padding-left: 1em; padding-right: 1em; text-align: center; vertical-align: top\">0</td>\n",
       "        <td style=\"padding-left: 1em; padding-right: 1em; text-align: center; vertical-align: top\">0</td>\n",
       "        <td style=\"padding-left: 1em; padding-right: 1em; text-align: center; vertical-align: top\">0</td>\n",
       "        <td style=\"padding-left: 1em; padding-right: 1em; text-align: center; vertical-align: top\">0</td>\n",
       "        <td style=\"padding-left: 1em; padding-right: 1em; text-align: center; vertical-align: top\">0</td>\n",
       "        <td style=\"padding-left: 1em; padding-right: 1em; text-align: center; vertical-align: top\">0</td>\n",
       "        <td style=\"padding-left: 1em; padding-right: 1em; text-align: center; vertical-align: top\">0</td>\n",
       "        <td style=\"padding-left: 1em; padding-right: 1em; text-align: center; vertical-align: top\">0</td>\n",
       "        <td style=\"padding-left: 1em; padding-right: 1em; text-align: center; vertical-align: top\">0</td>\n",
       "        <td style=\"padding-left: 1em; padding-right: 1em; text-align: center; vertical-align: top\">0</td>\n",
       "        <td style=\"padding-left: 1em; padding-right: 1em; text-align: center; vertical-align: top\">0.999999642488</td>\n",
       "    </tr>\n",
       "    <tr>\n",
       "        <td style=\"padding-left: 1em; padding-right: 1em; text-align: center; vertical-align: top\">0</td>\n",
       "        <td style=\"padding-left: 1em; padding-right: 1em; text-align: center; vertical-align: top\">0</td>\n",
       "        <td style=\"padding-left: 1em; padding-right: 1em; text-align: center; vertical-align: top\">0</td>\n",
       "        <td style=\"padding-left: 1em; padding-right: 1em; text-align: center; vertical-align: top\">0</td>\n",
       "        <td style=\"padding-left: 1em; padding-right: 1em; text-align: center; vertical-align: top\">0</td>\n",
       "        <td style=\"padding-left: 1em; padding-right: 1em; text-align: center; vertical-align: top\">0</td>\n",
       "        <td style=\"padding-left: 1em; padding-right: 1em; text-align: center; vertical-align: top\">0</td>\n",
       "        <td style=\"padding-left: 1em; padding-right: 1em; text-align: center; vertical-align: top\">0</td>\n",
       "        <td style=\"padding-left: 1em; padding-right: 1em; text-align: center; vertical-align: top\">0</td>\n",
       "        <td style=\"padding-left: 1em; padding-right: 1em; text-align: center; vertical-align: top\">0</td>\n",
       "        <td style=\"padding-left: 1em; padding-right: 1em; text-align: center; vertical-align: top\">0.97415225478</td>\n",
       "    </tr>\n",
       "    <tr>\n",
       "        <td style=\"padding-left: 1em; padding-right: 1em; text-align: center; vertical-align: top\">0</td>\n",
       "        <td style=\"padding-left: 1em; padding-right: 1em; text-align: center; vertical-align: top\">0</td>\n",
       "        <td style=\"padding-left: 1em; padding-right: 1em; text-align: center; vertical-align: top\">0</td>\n",
       "        <td style=\"padding-left: 1em; padding-right: 1em; text-align: center; vertical-align: top\">2</td>\n",
       "        <td style=\"padding-left: 1em; padding-right: 1em; text-align: center; vertical-align: top\">0</td>\n",
       "        <td style=\"padding-left: 1em; padding-right: 1em; text-align: center; vertical-align: top\">0</td>\n",
       "        <td style=\"padding-left: 1em; padding-right: 1em; text-align: center; vertical-align: top\">0</td>\n",
       "        <td style=\"padding-left: 1em; padding-right: 1em; text-align: center; vertical-align: top\">0</td>\n",
       "        <td style=\"padding-left: 1em; padding-right: 1em; text-align: center; vertical-align: top\">0</td>\n",
       "        <td style=\"padding-left: 1em; padding-right: 1em; text-align: center; vertical-align: top\">0</td>\n",
       "        <td style=\"padding-left: 1em; padding-right: 1em; text-align: center; vertical-align: top\">0.99267406035</td>\n",
       "    </tr>\n",
       "</table>\n",
       "[10 rows x 17 columns]<br/>\n",
       "</div>"
      ],
      "text/plain": [
       "Columns:\n",
       "\tname\tstr\n",
       "\treview\tstr\n",
       "\trating\tfloat\n",
       "\tword_count\tdict\n",
       "\tsentiment\tint\n",
       "\tawesome\tint\n",
       "\tgreat\tint\n",
       "\tfantastic\tint\n",
       "\tamazing\tint\n",
       "\tlove\tint\n",
       "\thorrible\tint\n",
       "\tbad\tint\n",
       "\tterrible\tint\n",
       "\tawful\tint\n",
       "\twow\tint\n",
       "\thate\tint\n",
       "\tpredicted_sentiment\tfloat\n",
       "\n",
       "Rows: 10\n",
       "\n",
       "Data:\n",
       "+-------------------------+-------------------------------+--------+\n",
       "|           name          |             review            | rating |\n",
       "+-------------------------+-------------------------------+--------+\n",
       "| Baby Trend Diaper Champ | Ok - newsflash.  Diapers a... |  4.0   |\n",
       "| Baby Trend Diaper Champ | My husband and I selected ... |  1.0   |\n",
       "| Baby Trend Diaper Champ | Excellent diaper disposal ... |  5.0   |\n",
       "| Baby Trend Diaper Champ | We love our diaper champ. ... |  5.0   |\n",
       "| Baby Trend Diaper Champ | Two girlfriends and two fa... |  5.0   |\n",
       "| Baby Trend Diaper Champ | I waited to review this un... |  4.0   |\n",
       "| Baby Trend Diaper Champ | I have had a diaper genie ... |  1.0   |\n",
       "| Baby Trend Diaper Champ | I originally put this item... |  5.0   |\n",
       "| Baby Trend Diaper Champ | I am so glad I got the Dia... |  5.0   |\n",
       "| Baby Trend Diaper Champ | We had 2 diaper Genie's bo... |  4.0   |\n",
       "+-------------------------+-------------------------------+--------+\n",
       "+-------------------------------+-----------+---------+-------+-----------+---------+\n",
       "|           word_count          | sentiment | awesome | great | fantastic | amazing |\n",
       "+-------------------------------+-----------+---------+-------+-----------+---------+\n",
       "| {'just': 2L, 'less': 1L, '... |     1     |    0    |   0   |     0     |    0    |\n",
       "| {'just': 1L, 'less': 1L, '... |     0     |    0    |   0   |     0     |    0    |\n",
       "| {'control': 1L, 'am': 1L, ... |     1     |    0    |   0   |     0     |    0    |\n",
       "| {'and': 3L, 'over.': 1L, '... |     1     |    0    |   0   |     0     |    0    |\n",
       "| {'just': 1L, 'when': 1L, '... |     1     |    0    |   0   |     0     |    0    |\n",
       "| {'lysol': 1L, 'all': 1L, '... |     1     |    0    |   0   |     0     |    0    |\n",
       "| {'all': 1L, 'bags.': 1L, '... |     0     |    0    |   0   |     0     |    0    |\n",
       "| {'lysol': 1L, 'all': 2L, '... |     1     |    0    |   0   |     0     |    0    |\n",
       "| {'and': 2L, 'all': 1L, 'ju... |     1     |    0    |   0   |     0     |    0    |\n",
       "| {'hand.': 1L, '(required':... |     1     |    0    |   0   |     0     |    0    |\n",
       "+-------------------------------+-----------+---------+-------+-----------+---------+\n",
       "+------+----------+-----+----------+-------+-----+------+---------------------+\n",
       "| love | horrible | bad | terrible | awful | wow | hate | predicted_sentiment |\n",
       "+------+----------+-----+----------+-------+-----+------+---------------------+\n",
       "|  0   |    0     |  0  |    0     |   0   |  0  |  0   |    0.958443580893   |\n",
       "|  0   |    0     |  0  |    0     |   0   |  0  |  0   |  2.47155884995e-12  |\n",
       "|  0   |    0     |  0  |    0     |   0   |  0  |  0   |    0.999994864775   |\n",
       "|  1   |    0     |  0  |    0     |   0   |  0  |  0   |    0.998779072633   |\n",
       "|  0   |    1     |  0  |    0     |   0   |  0  |  0   |    0.999999604504   |\n",
       "|  0   |    0     |  1  |    0     |   0   |  0  |  0   |    0.999952233179   |\n",
       "|  0   |    0     |  0  |    0     |   0   |  0  |  0   |    0.972560724165   |\n",
       "|  0   |    0     |  0  |    0     |   0   |  0  |  0   |    0.999999642488   |\n",
       "|  0   |    0     |  0  |    0     |   0   |  0  |  0   |    0.97415225478    |\n",
       "|  2   |    0     |  0  |    0     |   0   |  0  |  0   |    0.99267406035    |\n",
       "+------+----------+-----+----------+-------+-----+------+---------------------+\n",
       "[10 rows x 17 columns]"
      ]
     },
     "execution_count": 107,
     "metadata": {},
     "output_type": "execute_result"
    }
   ],
   "source": [
    "diaper_champ_reviews.head()"
   ]
  },
  {
   "cell_type": "code",
   "execution_count": 109,
   "metadata": {
    "collapsed": false
   },
   "outputs": [],
   "source": [
    "diaper_champ_reviews = diaper_champ_reviews.sort('predicted_sentiment', ascending = False)"
   ]
  },
  {
   "cell_type": "code",
   "execution_count": 111,
   "metadata": {
    "collapsed": false
   },
   "outputs": [
    {
     "data": {
      "text/html": [
       "<div style=\"max-height:1000px;max-width:1500px;overflow:auto;\"><table frame=\"box\" rules=\"cols\">\n",
       "    <tr>\n",
       "        <th style=\"padding-left: 1em; padding-right: 1em; text-align: center\">name</th>\n",
       "        <th style=\"padding-left: 1em; padding-right: 1em; text-align: center\">review</th>\n",
       "        <th style=\"padding-left: 1em; padding-right: 1em; text-align: center\">rating</th>\n",
       "        <th style=\"padding-left: 1em; padding-right: 1em; text-align: center\">word_count</th>\n",
       "        <th style=\"padding-left: 1em; padding-right: 1em; text-align: center\">sentiment</th>\n",
       "        <th style=\"padding-left: 1em; padding-right: 1em; text-align: center\">awesome</th>\n",
       "    </tr>\n",
       "    <tr>\n",
       "        <td style=\"padding-left: 1em; padding-right: 1em; text-align: center; vertical-align: top\">Baby Trend Diaper Champ</td>\n",
       "        <td style=\"padding-left: 1em; padding-right: 1em; text-align: center; vertical-align: top\">Baby Luke can turn a<br>clean diaper to a dirty ...</td>\n",
       "        <td style=\"padding-left: 1em; padding-right: 1em; text-align: center; vertical-align: top\">5.0</td>\n",
       "        <td style=\"padding-left: 1em; padding-right: 1em; text-align: center; vertical-align: top\">{'all': 1L, 'less': 1L,<br>\"friend's\": 1L, '(whi ...</td>\n",
       "        <td style=\"padding-left: 1em; padding-right: 1em; text-align: center; vertical-align: top\">1</td>\n",
       "        <td style=\"padding-left: 1em; padding-right: 1em; text-align: center; vertical-align: top\">0</td>\n",
       "    </tr>\n",
       "    <tr>\n",
       "        <td style=\"padding-left: 1em; padding-right: 1em; text-align: center; vertical-align: top\">Baby Trend Diaper Champ</td>\n",
       "        <td style=\"padding-left: 1em; padding-right: 1em; text-align: center; vertical-align: top\">I LOOOVE this diaper<br>pail!  Its the easies ...</td>\n",
       "        <td style=\"padding-left: 1em; padding-right: 1em; text-align: center; vertical-align: top\">5.0</td>\n",
       "        <td style=\"padding-left: 1em; padding-right: 1em; text-align: center; vertical-align: top\">{'just': 1L, 'over': 1L,<br>'rweek': 1L, 'sooo': 1L, ...</td>\n",
       "        <td style=\"padding-left: 1em; padding-right: 1em; text-align: center; vertical-align: top\">1</td>\n",
       "        <td style=\"padding-left: 1em; padding-right: 1em; text-align: center; vertical-align: top\">0</td>\n",
       "    </tr>\n",
       "    <tr>\n",
       "        <td style=\"padding-left: 1em; padding-right: 1em; text-align: center; vertical-align: top\">Baby Trend Diaper Champ</td>\n",
       "        <td style=\"padding-left: 1em; padding-right: 1em; text-align: center; vertical-align: top\">We researched all of the<br>different types of di ...</td>\n",
       "        <td style=\"padding-left: 1em; padding-right: 1em; text-align: center; vertical-align: top\">4.0</td>\n",
       "        <td style=\"padding-left: 1em; padding-right: 1em; text-align: center; vertical-align: top\">{'all': 2L, 'just': 4L,<br>\"don't\": 2L, 'one,': 1L, ...</td>\n",
       "        <td style=\"padding-left: 1em; padding-right: 1em; text-align: center; vertical-align: top\">1</td>\n",
       "        <td style=\"padding-left: 1em; padding-right: 1em; text-align: center; vertical-align: top\">0</td>\n",
       "    </tr>\n",
       "    <tr>\n",
       "        <td style=\"padding-left: 1em; padding-right: 1em; text-align: center; vertical-align: top\">Baby Trend Diaper Champ</td>\n",
       "        <td style=\"padding-left: 1em; padding-right: 1em; text-align: center; vertical-align: top\">My baby is now 8 months<br>and the can has been ...</td>\n",
       "        <td style=\"padding-left: 1em; padding-right: 1em; text-align: center; vertical-align: top\">5.0</td>\n",
       "        <td style=\"padding-left: 1em; padding-right: 1em; text-align: center; vertical-align: top\">{\"don't\": 1L, 'when': 1L,<br>'over': 1L, 'soon': 1L, ...</td>\n",
       "        <td style=\"padding-left: 1em; padding-right: 1em; text-align: center; vertical-align: top\">1</td>\n",
       "        <td style=\"padding-left: 1em; padding-right: 1em; text-align: center; vertical-align: top\">0</td>\n",
       "    </tr>\n",
       "    <tr>\n",
       "        <td style=\"padding-left: 1em; padding-right: 1em; text-align: center; vertical-align: top\">Baby Trend Diaper Champ</td>\n",
       "        <td style=\"padding-left: 1em; padding-right: 1em; text-align: center; vertical-align: top\">This is absolutely, by<br>far, the best diaper  ...</td>\n",
       "        <td style=\"padding-left: 1em; padding-right: 1em; text-align: center; vertical-align: top\">5.0</td>\n",
       "        <td style=\"padding-left: 1em; padding-right: 1em; text-align: center; vertical-align: top\">{'just': 3L, 'money': 1L,<br>'not': 2L, 'mechanism': ...</td>\n",
       "        <td style=\"padding-left: 1em; padding-right: 1em; text-align: center; vertical-align: top\">1</td>\n",
       "        <td style=\"padding-left: 1em; padding-right: 1em; text-align: center; vertical-align: top\">0</td>\n",
       "    </tr>\n",
       "    <tr>\n",
       "        <td style=\"padding-left: 1em; padding-right: 1em; text-align: center; vertical-align: top\">Baby Trend Diaper Champ</td>\n",
       "        <td style=\"padding-left: 1em; padding-right: 1em; text-align: center; vertical-align: top\">Diaper Champ or Diaper<br>Genie? That was my ...</td>\n",
       "        <td style=\"padding-left: 1em; padding-right: 1em; text-align: center; vertical-align: top\">5.0</td>\n",
       "        <td style=\"padding-left: 1em; padding-right: 1em; text-align: center; vertical-align: top\">{'all': 1L, 'bags.': 1L,<br>'son,': 1L, '(i': 1L, ...</td>\n",
       "        <td style=\"padding-left: 1em; padding-right: 1em; text-align: center; vertical-align: top\">1</td>\n",
       "        <td style=\"padding-left: 1em; padding-right: 1em; text-align: center; vertical-align: top\">0</td>\n",
       "    </tr>\n",
       "    <tr>\n",
       "        <td style=\"padding-left: 1em; padding-right: 1em; text-align: center; vertical-align: top\">Baby Trend Diaper Champ</td>\n",
       "        <td style=\"padding-left: 1em; padding-right: 1em; text-align: center; vertical-align: top\">Wow!  This is fabulous.<br>It was a toss-up between ...</td>\n",
       "        <td style=\"padding-left: 1em; padding-right: 1em; text-align: center; vertical-align: top\">5.0</td>\n",
       "        <td style=\"padding-left: 1em; padding-right: 1em; text-align: center; vertical-align: top\">{'and': 4L, '\"genie\".':<br>1L, 'since': 1L, ...</td>\n",
       "        <td style=\"padding-left: 1em; padding-right: 1em; text-align: center; vertical-align: top\">1</td>\n",
       "        <td style=\"padding-left: 1em; padding-right: 1em; text-align: center; vertical-align: top\">0</td>\n",
       "    </tr>\n",
       "    <tr>\n",
       "        <td style=\"padding-left: 1em; padding-right: 1em; text-align: center; vertical-align: top\">Baby Trend Diaper Champ</td>\n",
       "        <td style=\"padding-left: 1em; padding-right: 1em; text-align: center; vertical-align: top\">I originally put this<br>item on my baby registry ...</td>\n",
       "        <td style=\"padding-left: 1em; padding-right: 1em; text-align: center; vertical-align: top\">5.0</td>\n",
       "        <td style=\"padding-left: 1em; padding-right: 1em; text-align: center; vertical-align: top\">{'lysol': 1L, 'all': 2L,<br>'bags.': 1L, 'feedback': ...</td>\n",
       "        <td style=\"padding-left: 1em; padding-right: 1em; text-align: center; vertical-align: top\">1</td>\n",
       "        <td style=\"padding-left: 1em; padding-right: 1em; text-align: center; vertical-align: top\">0</td>\n",
       "    </tr>\n",
       "    <tr>\n",
       "        <td style=\"padding-left: 1em; padding-right: 1em; text-align: center; vertical-align: top\">Baby Trend Diaper Champ</td>\n",
       "        <td style=\"padding-left: 1em; padding-right: 1em; text-align: center; vertical-align: top\">Two girlfriends and two<br>family members put me ...</td>\n",
       "        <td style=\"padding-left: 1em; padding-right: 1em; text-align: center; vertical-align: top\">5.0</td>\n",
       "        <td style=\"padding-left: 1em; padding-right: 1em; text-align: center; vertical-align: top\">{'just': 1L, 'when': 1L,<br>'both': 1L, 'results': ...</td>\n",
       "        <td style=\"padding-left: 1em; padding-right: 1em; text-align: center; vertical-align: top\">1</td>\n",
       "        <td style=\"padding-left: 1em; padding-right: 1em; text-align: center; vertical-align: top\">0</td>\n",
       "    </tr>\n",
       "    <tr>\n",
       "        <td style=\"padding-left: 1em; padding-right: 1em; text-align: center; vertical-align: top\">Baby Trend Diaper Champ</td>\n",
       "        <td style=\"padding-left: 1em; padding-right: 1em; text-align: center; vertical-align: top\">I am one of those super-<br>critical shoppers who ...</td>\n",
       "        <td style=\"padding-left: 1em; padding-right: 1em; text-align: center; vertical-align: top\">5.0</td>\n",
       "        <td style=\"padding-left: 1em; padding-right: 1em; text-align: center; vertical-align: top\">{'taller': 1L, 'bags.':<br>1L, 'just': 1L, \"don't\": ...</td>\n",
       "        <td style=\"padding-left: 1em; padding-right: 1em; text-align: center; vertical-align: top\">1</td>\n",
       "        <td style=\"padding-left: 1em; padding-right: 1em; text-align: center; vertical-align: top\">0</td>\n",
       "    </tr>\n",
       "</table>\n",
       "<table frame=\"box\" rules=\"cols\">\n",
       "    <tr>\n",
       "        <th style=\"padding-left: 1em; padding-right: 1em; text-align: center\">great</th>\n",
       "        <th style=\"padding-left: 1em; padding-right: 1em; text-align: center\">fantastic</th>\n",
       "        <th style=\"padding-left: 1em; padding-right: 1em; text-align: center\">amazing</th>\n",
       "        <th style=\"padding-left: 1em; padding-right: 1em; text-align: center\">love</th>\n",
       "        <th style=\"padding-left: 1em; padding-right: 1em; text-align: center\">horrible</th>\n",
       "        <th style=\"padding-left: 1em; padding-right: 1em; text-align: center\">bad</th>\n",
       "        <th style=\"padding-left: 1em; padding-right: 1em; text-align: center\">terrible</th>\n",
       "        <th style=\"padding-left: 1em; padding-right: 1em; text-align: center\">awful</th>\n",
       "        <th style=\"padding-left: 1em; padding-right: 1em; text-align: center\">wow</th>\n",
       "        <th style=\"padding-left: 1em; padding-right: 1em; text-align: center\">hate</th>\n",
       "        <th style=\"padding-left: 1em; padding-right: 1em; text-align: center\">predicted_sentiment</th>\n",
       "    </tr>\n",
       "    <tr>\n",
       "        <td style=\"padding-left: 1em; padding-right: 1em; text-align: center; vertical-align: top\">0</td>\n",
       "        <td style=\"padding-left: 1em; padding-right: 1em; text-align: center; vertical-align: top\">0</td>\n",
       "        <td style=\"padding-left: 1em; padding-right: 1em; text-align: center; vertical-align: top\">0</td>\n",
       "        <td style=\"padding-left: 1em; padding-right: 1em; text-align: center; vertical-align: top\">0</td>\n",
       "        <td style=\"padding-left: 1em; padding-right: 1em; text-align: center; vertical-align: top\">0</td>\n",
       "        <td style=\"padding-left: 1em; padding-right: 1em; text-align: center; vertical-align: top\">0</td>\n",
       "        <td style=\"padding-left: 1em; padding-right: 1em; text-align: center; vertical-align: top\">0</td>\n",
       "        <td style=\"padding-left: 1em; padding-right: 1em; text-align: center; vertical-align: top\">0</td>\n",
       "        <td style=\"padding-left: 1em; padding-right: 1em; text-align: center; vertical-align: top\">0</td>\n",
       "        <td style=\"padding-left: 1em; padding-right: 1em; text-align: center; vertical-align: top\">0</td>\n",
       "        <td style=\"padding-left: 1em; padding-right: 1em; text-align: center; vertical-align: top\">0.999999937267</td>\n",
       "    </tr>\n",
       "    <tr>\n",
       "        <td style=\"padding-left: 1em; padding-right: 1em; text-align: center; vertical-align: top\">0</td>\n",
       "        <td style=\"padding-left: 1em; padding-right: 1em; text-align: center; vertical-align: top\">0</td>\n",
       "        <td style=\"padding-left: 1em; padding-right: 1em; text-align: center; vertical-align: top\">0</td>\n",
       "        <td style=\"padding-left: 1em; padding-right: 1em; text-align: center; vertical-align: top\">1</td>\n",
       "        <td style=\"padding-left: 1em; padding-right: 1em; text-align: center; vertical-align: top\">0</td>\n",
       "        <td style=\"padding-left: 1em; padding-right: 1em; text-align: center; vertical-align: top\">0</td>\n",
       "        <td style=\"padding-left: 1em; padding-right: 1em; text-align: center; vertical-align: top\">0</td>\n",
       "        <td style=\"padding-left: 1em; padding-right: 1em; text-align: center; vertical-align: top\">0</td>\n",
       "        <td style=\"padding-left: 1em; padding-right: 1em; text-align: center; vertical-align: top\">0</td>\n",
       "        <td style=\"padding-left: 1em; padding-right: 1em; text-align: center; vertical-align: top\">0</td>\n",
       "        <td style=\"padding-left: 1em; padding-right: 1em; text-align: center; vertical-align: top\">0.999999917406</td>\n",
       "    </tr>\n",
       "    <tr>\n",
       "        <td style=\"padding-left: 1em; padding-right: 1em; text-align: center; vertical-align: top\">0</td>\n",
       "        <td style=\"padding-left: 1em; padding-right: 1em; text-align: center; vertical-align: top\">0</td>\n",
       "        <td style=\"padding-left: 1em; padding-right: 1em; text-align: center; vertical-align: top\">0</td>\n",
       "        <td style=\"padding-left: 1em; padding-right: 1em; text-align: center; vertical-align: top\">0</td>\n",
       "        <td style=\"padding-left: 1em; padding-right: 1em; text-align: center; vertical-align: top\">0</td>\n",
       "        <td style=\"padding-left: 1em; padding-right: 1em; text-align: center; vertical-align: top\">1</td>\n",
       "        <td style=\"padding-left: 1em; padding-right: 1em; text-align: center; vertical-align: top\">0</td>\n",
       "        <td style=\"padding-left: 1em; padding-right: 1em; text-align: center; vertical-align: top\">0</td>\n",
       "        <td style=\"padding-left: 1em; padding-right: 1em; text-align: center; vertical-align: top\">0</td>\n",
       "        <td style=\"padding-left: 1em; padding-right: 1em; text-align: center; vertical-align: top\">0</td>\n",
       "        <td style=\"padding-left: 1em; padding-right: 1em; text-align: center; vertical-align: top\">0.999999899509</td>\n",
       "    </tr>\n",
       "    <tr>\n",
       "        <td style=\"padding-left: 1em; padding-right: 1em; text-align: center; vertical-align: top\">2</td>\n",
       "        <td style=\"padding-left: 1em; padding-right: 1em; text-align: center; vertical-align: top\">0</td>\n",
       "        <td style=\"padding-left: 1em; padding-right: 1em; text-align: center; vertical-align: top\">0</td>\n",
       "        <td style=\"padding-left: 1em; padding-right: 1em; text-align: center; vertical-align: top\">0</td>\n",
       "        <td style=\"padding-left: 1em; padding-right: 1em; text-align: center; vertical-align: top\">0</td>\n",
       "        <td style=\"padding-left: 1em; padding-right: 1em; text-align: center; vertical-align: top\">1</td>\n",
       "        <td style=\"padding-left: 1em; padding-right: 1em; text-align: center; vertical-align: top\">0</td>\n",
       "        <td style=\"padding-left: 1em; padding-right: 1em; text-align: center; vertical-align: top\">0</td>\n",
       "        <td style=\"padding-left: 1em; padding-right: 1em; text-align: center; vertical-align: top\">0</td>\n",
       "        <td style=\"padding-left: 1em; padding-right: 1em; text-align: center; vertical-align: top\">0</td>\n",
       "        <td style=\"padding-left: 1em; padding-right: 1em; text-align: center; vertical-align: top\">0.999999836182</td>\n",
       "    </tr>\n",
       "    <tr>\n",
       "        <td style=\"padding-left: 1em; padding-right: 1em; text-align: center; vertical-align: top\">0</td>\n",
       "        <td style=\"padding-left: 1em; padding-right: 1em; text-align: center; vertical-align: top\">0</td>\n",
       "        <td style=\"padding-left: 1em; padding-right: 1em; text-align: center; vertical-align: top\">0</td>\n",
       "        <td style=\"padding-left: 1em; padding-right: 1em; text-align: center; vertical-align: top\">2</td>\n",
       "        <td style=\"padding-left: 1em; padding-right: 1em; text-align: center; vertical-align: top\">0</td>\n",
       "        <td style=\"padding-left: 1em; padding-right: 1em; text-align: center; vertical-align: top\">0</td>\n",
       "        <td style=\"padding-left: 1em; padding-right: 1em; text-align: center; vertical-align: top\">0</td>\n",
       "        <td style=\"padding-left: 1em; padding-right: 1em; text-align: center; vertical-align: top\">0</td>\n",
       "        <td style=\"padding-left: 1em; padding-right: 1em; text-align: center; vertical-align: top\">0</td>\n",
       "        <td style=\"padding-left: 1em; padding-right: 1em; text-align: center; vertical-align: top\">0</td>\n",
       "        <td style=\"padding-left: 1em; padding-right: 1em; text-align: center; vertical-align: top\">0.999999824745</td>\n",
       "    </tr>\n",
       "    <tr>\n",
       "        <td style=\"padding-left: 1em; padding-right: 1em; text-align: center; vertical-align: top\">0</td>\n",
       "        <td style=\"padding-left: 1em; padding-right: 1em; text-align: center; vertical-align: top\">0</td>\n",
       "        <td style=\"padding-left: 1em; padding-right: 1em; text-align: center; vertical-align: top\">0</td>\n",
       "        <td style=\"padding-left: 1em; padding-right: 1em; text-align: center; vertical-align: top\">0</td>\n",
       "        <td style=\"padding-left: 1em; padding-right: 1em; text-align: center; vertical-align: top\">0</td>\n",
       "        <td style=\"padding-left: 1em; padding-right: 1em; text-align: center; vertical-align: top\">0</td>\n",
       "        <td style=\"padding-left: 1em; padding-right: 1em; text-align: center; vertical-align: top\">0</td>\n",
       "        <td style=\"padding-left: 1em; padding-right: 1em; text-align: center; vertical-align: top\">0</td>\n",
       "        <td style=\"padding-left: 1em; padding-right: 1em; text-align: center; vertical-align: top\">0</td>\n",
       "        <td style=\"padding-left: 1em; padding-right: 1em; text-align: center; vertical-align: top\">0</td>\n",
       "        <td style=\"padding-left: 1em; padding-right: 1em; text-align: center; vertical-align: top\">0.999999759315</td>\n",
       "    </tr>\n",
       "    <tr>\n",
       "        <td style=\"padding-left: 1em; padding-right: 1em; text-align: center; vertical-align: top\">0</td>\n",
       "        <td style=\"padding-left: 1em; padding-right: 1em; text-align: center; vertical-align: top\">0</td>\n",
       "        <td style=\"padding-left: 1em; padding-right: 1em; text-align: center; vertical-align: top\">0</td>\n",
       "        <td style=\"padding-left: 1em; padding-right: 1em; text-align: center; vertical-align: top\">0</td>\n",
       "        <td style=\"padding-left: 1em; padding-right: 1em; text-align: center; vertical-align: top\">0</td>\n",
       "        <td style=\"padding-left: 1em; padding-right: 1em; text-align: center; vertical-align: top\">0</td>\n",
       "        <td style=\"padding-left: 1em; padding-right: 1em; text-align: center; vertical-align: top\">0</td>\n",
       "        <td style=\"padding-left: 1em; padding-right: 1em; text-align: center; vertical-align: top\">0</td>\n",
       "        <td style=\"padding-left: 1em; padding-right: 1em; text-align: center; vertical-align: top\">0</td>\n",
       "        <td style=\"padding-left: 1em; padding-right: 1em; text-align: center; vertical-align: top\">0</td>\n",
       "        <td style=\"padding-left: 1em; padding-right: 1em; text-align: center; vertical-align: top\">0.999999692111</td>\n",
       "    </tr>\n",
       "    <tr>\n",
       "        <td style=\"padding-left: 1em; padding-right: 1em; text-align: center; vertical-align: top\">0</td>\n",
       "        <td style=\"padding-left: 1em; padding-right: 1em; text-align: center; vertical-align: top\">0</td>\n",
       "        <td style=\"padding-left: 1em; padding-right: 1em; text-align: center; vertical-align: top\">0</td>\n",
       "        <td style=\"padding-left: 1em; padding-right: 1em; text-align: center; vertical-align: top\">0</td>\n",
       "        <td style=\"padding-left: 1em; padding-right: 1em; text-align: center; vertical-align: top\">0</td>\n",
       "        <td style=\"padding-left: 1em; padding-right: 1em; text-align: center; vertical-align: top\">0</td>\n",
       "        <td style=\"padding-left: 1em; padding-right: 1em; text-align: center; vertical-align: top\">0</td>\n",
       "        <td style=\"padding-left: 1em; padding-right: 1em; text-align: center; vertical-align: top\">0</td>\n",
       "        <td style=\"padding-left: 1em; padding-right: 1em; text-align: center; vertical-align: top\">0</td>\n",
       "        <td style=\"padding-left: 1em; padding-right: 1em; text-align: center; vertical-align: top\">0</td>\n",
       "        <td style=\"padding-left: 1em; padding-right: 1em; text-align: center; vertical-align: top\">0.999999642488</td>\n",
       "    </tr>\n",
       "    <tr>\n",
       "        <td style=\"padding-left: 1em; padding-right: 1em; text-align: center; vertical-align: top\">0</td>\n",
       "        <td style=\"padding-left: 1em; padding-right: 1em; text-align: center; vertical-align: top\">0</td>\n",
       "        <td style=\"padding-left: 1em; padding-right: 1em; text-align: center; vertical-align: top\">0</td>\n",
       "        <td style=\"padding-left: 1em; padding-right: 1em; text-align: center; vertical-align: top\">0</td>\n",
       "        <td style=\"padding-left: 1em; padding-right: 1em; text-align: center; vertical-align: top\">1</td>\n",
       "        <td style=\"padding-left: 1em; padding-right: 1em; text-align: center; vertical-align: top\">0</td>\n",
       "        <td style=\"padding-left: 1em; padding-right: 1em; text-align: center; vertical-align: top\">0</td>\n",
       "        <td style=\"padding-left: 1em; padding-right: 1em; text-align: center; vertical-align: top\">0</td>\n",
       "        <td style=\"padding-left: 1em; padding-right: 1em; text-align: center; vertical-align: top\">0</td>\n",
       "        <td style=\"padding-left: 1em; padding-right: 1em; text-align: center; vertical-align: top\">0</td>\n",
       "        <td style=\"padding-left: 1em; padding-right: 1em; text-align: center; vertical-align: top\">0.999999604504</td>\n",
       "    </tr>\n",
       "    <tr>\n",
       "        <td style=\"padding-left: 1em; padding-right: 1em; text-align: center; vertical-align: top\">0</td>\n",
       "        <td style=\"padding-left: 1em; padding-right: 1em; text-align: center; vertical-align: top\">0</td>\n",
       "        <td style=\"padding-left: 1em; padding-right: 1em; text-align: center; vertical-align: top\">0</td>\n",
       "        <td style=\"padding-left: 1em; padding-right: 1em; text-align: center; vertical-align: top\">1</td>\n",
       "        <td style=\"padding-left: 1em; padding-right: 1em; text-align: center; vertical-align: top\">0</td>\n",
       "        <td style=\"padding-left: 1em; padding-right: 1em; text-align: center; vertical-align: top\">0</td>\n",
       "        <td style=\"padding-left: 1em; padding-right: 1em; text-align: center; vertical-align: top\">0</td>\n",
       "        <td style=\"padding-left: 1em; padding-right: 1em; text-align: center; vertical-align: top\">0</td>\n",
       "        <td style=\"padding-left: 1em; padding-right: 1em; text-align: center; vertical-align: top\">0</td>\n",
       "        <td style=\"padding-left: 1em; padding-right: 1em; text-align: center; vertical-align: top\">0</td>\n",
       "        <td style=\"padding-left: 1em; padding-right: 1em; text-align: center; vertical-align: top\">0.999999486804</td>\n",
       "    </tr>\n",
       "</table>\n",
       "[10 rows x 17 columns]<br/>\n",
       "</div>"
      ],
      "text/plain": [
       "Columns:\n",
       "\tname\tstr\n",
       "\treview\tstr\n",
       "\trating\tfloat\n",
       "\tword_count\tdict\n",
       "\tsentiment\tint\n",
       "\tawesome\tint\n",
       "\tgreat\tint\n",
       "\tfantastic\tint\n",
       "\tamazing\tint\n",
       "\tlove\tint\n",
       "\thorrible\tint\n",
       "\tbad\tint\n",
       "\tterrible\tint\n",
       "\tawful\tint\n",
       "\twow\tint\n",
       "\thate\tint\n",
       "\tpredicted_sentiment\tfloat\n",
       "\n",
       "Rows: 10\n",
       "\n",
       "Data:\n",
       "+-------------------------+-------------------------------+--------+\n",
       "|           name          |             review            | rating |\n",
       "+-------------------------+-------------------------------+--------+\n",
       "| Baby Trend Diaper Champ | Baby Luke can turn a clean... |  5.0   |\n",
       "| Baby Trend Diaper Champ | I LOOOVE this diaper pail!... |  5.0   |\n",
       "| Baby Trend Diaper Champ | We researched all of the d... |  4.0   |\n",
       "| Baby Trend Diaper Champ | My baby is now 8 months an... |  5.0   |\n",
       "| Baby Trend Diaper Champ | This is absolutely, by far... |  5.0   |\n",
       "| Baby Trend Diaper Champ | Diaper Champ or Diaper Gen... |  5.0   |\n",
       "| Baby Trend Diaper Champ | Wow!  This is fabulous.  I... |  5.0   |\n",
       "| Baby Trend Diaper Champ | I originally put this item... |  5.0   |\n",
       "| Baby Trend Diaper Champ | Two girlfriends and two fa... |  5.0   |\n",
       "| Baby Trend Diaper Champ | I am one of those super-cr... |  5.0   |\n",
       "+-------------------------+-------------------------------+--------+\n",
       "+-------------------------------+-----------+---------+-------+-----------+---------+\n",
       "|           word_count          | sentiment | awesome | great | fantastic | amazing |\n",
       "+-------------------------------+-----------+---------+-------+-----------+---------+\n",
       "| {'all': 1L, 'less': 1L, \"f... |     1     |    0    |   0   |     0     |    0    |\n",
       "| {'just': 1L, 'over': 1L, '... |     1     |    0    |   0   |     0     |    0    |\n",
       "| {'all': 2L, 'just': 4L, \"d... |     1     |    0    |   0   |     0     |    0    |\n",
       "| {\"don't\": 1L, 'when': 1L, ... |     1     |    0    |   2   |     0     |    0    |\n",
       "| {'just': 3L, 'money': 1L, ... |     1     |    0    |   0   |     0     |    0    |\n",
       "| {'all': 1L, 'bags.': 1L, '... |     1     |    0    |   0   |     0     |    0    |\n",
       "| {'and': 4L, '\"genie\".': 1L... |     1     |    0    |   0   |     0     |    0    |\n",
       "| {'lysol': 1L, 'all': 2L, '... |     1     |    0    |   0   |     0     |    0    |\n",
       "| {'just': 1L, 'when': 1L, '... |     1     |    0    |   0   |     0     |    0    |\n",
       "| {'taller': 1L, 'bags.': 1L... |     1     |    0    |   0   |     0     |    0    |\n",
       "+-------------------------------+-----------+---------+-------+-----------+---------+\n",
       "+------+----------+-----+----------+-------+-----+------+---------------------+\n",
       "| love | horrible | bad | terrible | awful | wow | hate | predicted_sentiment |\n",
       "+------+----------+-----+----------+-------+-----+------+---------------------+\n",
       "|  0   |    0     |  0  |    0     |   0   |  0  |  0   |    0.999999937267   |\n",
       "|  1   |    0     |  0  |    0     |   0   |  0  |  0   |    0.999999917406   |\n",
       "|  0   |    0     |  1  |    0     |   0   |  0  |  0   |    0.999999899509   |\n",
       "|  0   |    0     |  1  |    0     |   0   |  0  |  0   |    0.999999836182   |\n",
       "|  2   |    0     |  0  |    0     |   0   |  0  |  0   |    0.999999824745   |\n",
       "|  0   |    0     |  0  |    0     |   0   |  0  |  0   |    0.999999759315   |\n",
       "|  0   |    0     |  0  |    0     |   0   |  0  |  0   |    0.999999692111   |\n",
       "|  0   |    0     |  0  |    0     |   0   |  0  |  0   |    0.999999642488   |\n",
       "|  0   |    1     |  0  |    0     |   0   |  0  |  0   |    0.999999604504   |\n",
       "|  1   |    0     |  0  |    0     |   0   |  0  |  0   |    0.999999486804   |\n",
       "+------+----------+-----+----------+-------+-----+------+---------------------+\n",
       "[10 rows x 17 columns]"
      ]
     },
     "execution_count": 111,
     "metadata": {},
     "output_type": "execute_result"
    }
   ],
   "source": [
    "diaper_champ_reviews.head()"
   ]
  },
  {
   "cell_type": "code",
   "execution_count": 113,
   "metadata": {
    "collapsed": false
   },
   "outputs": [],
   "source": [
    "sentiment_model_most_predicted_sentiment_1 = diaper_champ_reviews[0]['sentiment']"
   ]
  },
  {
   "cell_type": "code",
   "execution_count": 114,
   "metadata": {
    "collapsed": false
   },
   "outputs": [
    {
     "data": {
      "text/plain": [
       "1L"
      ]
     },
     "execution_count": 114,
     "metadata": {},
     "output_type": "execute_result"
    }
   ],
   "source": [
    "sentiment_model_most_predicted_sentiment_1"
   ]
  },
  {
   "cell_type": "code",
   "execution_count": 116,
   "metadata": {
    "collapsed": false
   },
   "outputs": [],
   "source": [
    "diaper_champ_reviews['predicted_sentiment2'] = selected_words_model.predict(diaper_champ_reviews, output_type = 'probability')"
   ]
  },
  {
   "cell_type": "code",
   "execution_count": 117,
   "metadata": {
    "collapsed": false
   },
   "outputs": [
    {
     "data": {
      "text/plain": [
       "dtype: float\n",
       "Rows: 1\n",
       "[0.796940851290673]"
      ]
     },
     "execution_count": 117,
     "metadata": {},
     "output_type": "execute_result"
    }
   ],
   "source": [
    "selected_words_model.predict(diaper_champ_reviews[0:1], output_type='probability')"
   ]
  },
  {
   "cell_type": "code",
   "execution_count": 119,
   "metadata": {
    "collapsed": false
   },
   "outputs": [
    {
     "data": {
      "text/plain": [
       "0.796940851290673"
      ]
     },
     "execution_count": 119,
     "metadata": {},
     "output_type": "execute_result"
    }
   ],
   "source": [
    "diaper_champ_reviews[0]['predicted_sentiment2']"
   ]
  },
  {
   "cell_type": "code",
   "execution_count": 120,
   "metadata": {
    "collapsed": false
   },
   "outputs": [
    {
     "data": {
      "text/plain": [
       "{'amazing': 0L,\n",
       " 'awesome': 0L,\n",
       " 'awful': 0L,\n",
       " 'bad': 0L,\n",
       " 'fantastic': 0L,\n",
       " 'great': 0L,\n",
       " 'hate': 0L,\n",
       " 'horrible': 0L,\n",
       " 'love': 0L,\n",
       " 'name': 'Baby Trend Diaper Champ',\n",
       " 'predicted_sentiment': 0.9999999372669541,\n",
       " 'predicted_sentiment2': 0.796940851290673,\n",
       " 'rating': 5.0,\n",
       " 'review': 'Baby Luke can turn a clean diaper to a dirty diaper in 3 seconds flat. The diaper champ turns the smelly diaper into \"what diaper smell\" in less time than that. I hesitated and wondered what I REALLY needed for the nursery. This is one of the best purchases we made. The champ, the baby bjorn, fluerville diaper bag, and graco pack and play bassinet all vie for the best baby purchase.Great product, easy to use, economical, effective, absolutly fabulous.UpdateI knew that I loved the champ, and useing the diaper genie at a friend\\'s house REALLY reinforced that!! There is no comparison, the chanp is easy and smell free, the genie was difficult to use one handed (which is absolutly vital if you have a little one on a changing pad) and there was a deffinite odor eminating from the genieplus we found that the quick tie garbage bags where the ties are integrated into the bag work really well because there isn\\'t any added bulk around the sealing edge of the champ.',\n",
       " 'sentiment': 1L,\n",
       " 'terrible': 0L,\n",
       " 'word_count': {'\"what': 1L,\n",
       "  '(which': 1L,\n",
       "  '3': 1L,\n",
       "  'a': 6L,\n",
       "  'absolutly': 2L,\n",
       "  'added': 1L,\n",
       "  'all': 1L,\n",
       "  'and': 6L,\n",
       "  'any': 1L,\n",
       "  'are': 1L,\n",
       "  'around': 1L,\n",
       "  'at': 1L,\n",
       "  'baby': 3L,\n",
       "  'bag': 1L,\n",
       "  'bag,': 1L,\n",
       "  'bags': 1L,\n",
       "  'bassinet': 1L,\n",
       "  'because': 1L,\n",
       "  'best': 2L,\n",
       "  'bjorn,': 1L,\n",
       "  'bulk': 1L,\n",
       "  'can': 1L,\n",
       "  'champ': 1L,\n",
       "  'champ,': 2L,\n",
       "  'champ.': 1L,\n",
       "  'changing': 1L,\n",
       "  'chanp': 1L,\n",
       "  'clean': 1L,\n",
       "  'comparison,': 1L,\n",
       "  'deffinite': 1L,\n",
       "  'diaper': 7L,\n",
       "  'difficult': 1L,\n",
       "  'dirty': 1L,\n",
       "  'easy': 2L,\n",
       "  'economical,': 1L,\n",
       "  'edge': 1L,\n",
       "  'effective,': 1L,\n",
       "  'eminating': 1L,\n",
       "  'fabulous.updatei': 1L,\n",
       "  'flat.': 1L,\n",
       "  'fluerville': 1L,\n",
       "  'for': 2L,\n",
       "  'found': 1L,\n",
       "  'free,': 1L,\n",
       "  \"friend's\": 1L,\n",
       "  'from': 1L,\n",
       "  'garbage': 1L,\n",
       "  'genie': 2L,\n",
       "  'genieplus': 1L,\n",
       "  'graco': 1L,\n",
       "  'handed': 1L,\n",
       "  'have': 1L,\n",
       "  'hesitated': 1L,\n",
       "  'house': 1L,\n",
       "  'i': 3L,\n",
       "  'if': 1L,\n",
       "  'in': 2L,\n",
       "  'integrated': 1L,\n",
       "  'into': 2L,\n",
       "  'is': 4L,\n",
       "  \"isn't\": 1L,\n",
       "  'knew': 1L,\n",
       "  'less': 1L,\n",
       "  'little': 1L,\n",
       "  'loved': 1L,\n",
       "  'luke': 1L,\n",
       "  'made.': 1L,\n",
       "  'needed': 1L,\n",
       "  'no': 1L,\n",
       "  'nursery.': 1L,\n",
       "  'odor': 1L,\n",
       "  'of': 2L,\n",
       "  'on': 1L,\n",
       "  'one': 3L,\n",
       "  'pack': 1L,\n",
       "  'pad)': 1L,\n",
       "  'play': 1L,\n",
       "  'product,': 1L,\n",
       "  'purchase.great': 1L,\n",
       "  'purchases': 1L,\n",
       "  'quick': 1L,\n",
       "  'really': 3L,\n",
       "  'reinforced': 1L,\n",
       "  'sealing': 1L,\n",
       "  'seconds': 1L,\n",
       "  'smell': 1L,\n",
       "  'smell\"': 1L,\n",
       "  'smelly': 1L,\n",
       "  'than': 1L,\n",
       "  'that': 2L,\n",
       "  'that!!': 1L,\n",
       "  'that.': 1L,\n",
       "  'the': 17L,\n",
       "  'there': 3L,\n",
       "  'this': 1L,\n",
       "  'tie': 1L,\n",
       "  'ties': 1L,\n",
       "  'time': 1L,\n",
       "  'to': 3L,\n",
       "  'turn': 1L,\n",
       "  'turns': 1L,\n",
       "  'use': 1L,\n",
       "  'use,': 1L,\n",
       "  'useing': 1L,\n",
       "  'vie': 1L,\n",
       "  'vital': 1L,\n",
       "  'was': 2L,\n",
       "  'we': 2L,\n",
       "  'well': 1L,\n",
       "  'what': 1L,\n",
       "  'where': 1L,\n",
       "  'wondered': 1L,\n",
       "  'work': 1L,\n",
       "  'you': 1L},\n",
       " 'wow': 0L}"
      ]
     },
     "execution_count": 120,
     "metadata": {},
     "output_type": "execute_result"
    }
   ],
   "source": [
    "diaper_champ_reviews[0]"
   ]
  },
  {
   "cell_type": "code",
   "execution_count": null,
   "metadata": {
    "collapsed": true
   },
   "outputs": [],
   "source": []
  }
 ],
 "metadata": {
  "kernelspec": {
   "display_name": "Python 2",
   "language": "python",
   "name": "python2"
  },
  "language_info": {
   "codemirror_mode": {
    "name": "ipython",
    "version": 2
   },
   "file_extension": ".py",
   "mimetype": "text/x-python",
   "name": "python",
   "nbconvert_exporter": "python",
   "pygments_lexer": "ipython2",
   "version": "2.7.10"
  }
 },
 "nbformat": 4,
 "nbformat_minor": 0
}
